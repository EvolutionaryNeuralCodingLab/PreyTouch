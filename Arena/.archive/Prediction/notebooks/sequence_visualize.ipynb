{
 "cells": [
  {
   "cell_type": "code",
   "execution_count": 13,
   "metadata": {},
   "outputs": [],
   "source": [
    "from Prediction import dataset\n",
    "from Prediction import train_eval\n",
    "from Prediction import visualize\n",
    "import imp\n",
    "import numpy as np\n",
    "import cv2 as cv\n",
    "import matplotlib.pyplot as plt\n",
    "from matplotlib.collections import LineCollection\n",
    "from matplotlib.widgets import Slider"
   ]
  },
  {
   "cell_type": "code",
   "execution_count": 3,
   "metadata": {},
   "outputs": [
    {
     "data": {
      "text/plain": [
       "<module 'Prediction.train_eval' from '/app/Pogona_realtime/Arena/Prediction/train_eval.py'>"
      ]
     },
     "execution_count": 3,
     "metadata": {},
     "output_type": "execute_result"
    }
   ],
   "source": [
    "imp.reload(train_eval)"
   ]
  },
  {
   "cell_type": "code",
   "execution_count": 4,
   "metadata": {},
   "outputs": [
    {
     "name": "stdout",
     "output_type": "stream",
     "text": [
      "46 trials loaded\n"
     ]
    }
   ],
   "source": [
    "all_df = dataset.collect_data(data_sources={'detections': True, 'timestamps': True, 'dlc': False, 'touches': True})"
   ]
  },
  {
   "cell_type": "code",
   "execution_count": 5,
   "metadata": {},
   "outputs": [],
   "source": [
    "trials = all_df.index.unique()"
   ]
  },
  {
   "cell_type": "code",
   "execution_count": 6,
   "metadata": {},
   "outputs": [],
   "source": [
    "trial = trials[0]\n",
    "trial_df = all_df.loc[trial]\n",
    "vid_path = dataset.get_trial_video_path(trial)\n",
    "homography = dataset.homography_for_trial(trial)\n",
    "correction_fn = visualize.get_correction_fn(homography, 1920)"
   ]
  },
  {
   "cell_type": "code",
   "execution_count": 7,
   "metadata": {},
   "outputs": [],
   "source": [
    "input_labels = ['x1', 'y1', 'x2', 'y2']\n",
    "output_labels = ['x1', 'y1', 'x2', 'y2']\n",
    "input_dim = len(input_labels)\n",
    "output_dim = len(output_labels)\n",
    "\n",
    "inp_seq_len = 20\n",
    "out_seq_len = 20"
   ]
  },
  {
   "cell_type": "code",
   "execution_count": 8,
   "metadata": {},
   "outputs": [],
   "source": [
    "def get_vid_frames(vid_path, correction_fn, start, num):\n",
    "    vcap = cv.VideoCapture(vid_path)\n",
    "    vcap.set(cv.CAP_PROP_POS_FRAMES, start)\n",
    "    frames = []\n",
    "    for i in range(num):\n",
    "        ret, frame = vcap.read()\n",
    "        frames.append(correction_fn(frame))\n",
    "        \n",
    "    return frames"
   ]
  },
  {
   "cell_type": "code",
   "execution_count": 9,
   "metadata": {},
   "outputs": [],
   "source": [
    "def draw_sequence(arr_X,\n",
    "                  arr_Y,\n",
    "                  arr_pred,\n",
    "                  ax,\n",
    "                  to_scatter=True,\n",
    "                  l_alpha=0.35,\n",
    "                  sctr_s=0.5,\n",
    "                  sctr_alpha=1,\n",
    "                  past_c='b', ftr_c='r', pred_c='g', diff_c='k',\n",
    "                  draw_diffs=True,\n",
    "                  zoom_x = None,\n",
    "                  zoom_y = None):\n",
    "    \n",
    "    if len(arr_X.shape)==2:\n",
    "        arr_X = arr_X.reshape(1,arr_X.shape[0],arr_X.shape[1])\n",
    "        arr_Y = arr_Y.reshape(1,arr_Y.shape[0],arr_Y.shape[1])\n",
    "        if draw_diffs:\n",
    "            arr_pred = arr_pred.reshape(1,arr_pred.shape[0],arr_pred.shape[1])\n",
    "    \n",
    "    ax.add_collection(LineCollection(segments=[seq for seq in arr_X[:,:,:2]], colors=[past_c], label='past',alpha=l_alpha))\n",
    "    ax.add_collection(LineCollection(segments=[seq for seq in arr_Y[:,:,:2]], colors=[ftr_c], label='future',alpha=l_alpha))\n",
    "    if draw_diffs:\n",
    "        ax.add_collection(LineCollection(segments=[seq for seq in arr_pred[:,:,:2]], colors=[pred_c],label='pred',alpha=l_alpha))\n",
    "        diffs = [np.array([arr_pred[j,i,:2],arr_Y[j,i,:2]]) for i in range(out_seq_len) for j in range(arr_pred.shape[0])]\n",
    "        ax.add_collection(LineCollection(segments=diffs, colors=[diff_c],label='diff',alpha=l_alpha))\n",
    "    if to_scatter:\n",
    "        ax.scatter(arr_X[:,:,0], arr_X[:,:,1], s=sctr_s, color=past_c, alpha=sctr_alpha)\n",
    "        ax.scatter(arr_Y[:,:,0], arr_Y[:,:,1], s=sctr_s, color=ftr_c, alpha=sctr_alpha)\n",
    "        if draw_diffs:\n",
    "            ax.scatter(arr_pred[:,:,0], arr_pred[:,:,1], s=sctr_s, color=pred_c, alpha=sctr_alpha)\n",
    "            \n",
    "    if zoom_x:\n",
    "        ax.set_xlim(zoom_x)\n",
    "    if zoom_y:\n",
    "        ax.set_ylim(zoom_y)\n"
   ]
  },
  {
   "cell_type": "code",
   "execution_count": 10,
   "metadata": {},
   "outputs": [],
   "source": [
    "X, Y = train_eval.trial_to_samples(trial_df, input_labels, output_labels, inp_seq_len, out_seq_len, keep_nans=True)"
   ]
  },
  {
   "cell_type": "code",
   "execution_count": 65,
   "metadata": {},
   "outputs": [
    {
     "data": {
      "application/vnd.jupyter.widget-view+json": {
       "model_id": "199ec606e21546b7a75cef5d1f87e8d1",
       "version_major": 2,
       "version_minor": 0
      },
      "text/plain": [
       "Canvas(toolbar=Toolbar(toolitems=[('Home', 'Reset original view', 'home', 'home'), ('Back', 'Back to previous …"
      ]
     },
     "metadata": {},
     "output_type": "display_data"
    },
    {
     "data": {
      "text/plain": [
       "0"
      ]
     },
     "execution_count": 65,
     "metadata": {},
     "output_type": "execute_result"
    }
   ],
   "source": [
    "seq_num = np.random.randint(0, 4000)\n",
    "seq_num = 319\n",
    "seq = X[seq_num], Y[seq_num]\n",
    "alpha = 1/(inp_seq_len+out_seq_len)\n",
    "cat_seq = np.concatenate(seq)\n",
    "frames = get_vid_frames(vid_path, correction_fn, seq_num, inp_seq_len+out_seq_len)\n",
    "\n",
    "%matplotlib widget\n",
    "fig, ax = plt.subplots(1, 1, figsize=(7,8))\n",
    "plt.subplots_adjust(left=0.25, bottom=0.1)\n",
    "fig.suptitle(f\"Trial: {trial} sequence num: {seq_num}\")\n",
    "\n",
    "ax_im = ax.imshow(frames[0])\n",
    "draw_sequence(X[seq_num], Y[seq_num], None, ax, draw_diffs=False)\n",
    "ax_cur_point = ax.scatter(seq[0][0, 0], seq[0][0, 1], c='g')\n",
    "\n",
    "\"\"\"\n",
    "fig, ax = plt.subplots(1, 1, figsize=(20,20))\n",
    "for i in range(inp_seq_len+out_seq_len):\n",
    "    ax.imshow(frames[i], alpha=alpha)\n",
    "    #axs[i].set_xlim([cat_seq[:, 0].min(), cat_seq[:, 0].max()])\n",
    "    #axs[i].set_ylim([cat_seq[:, 1].min(), cat_seq[:, 0].max()])\n",
    "\n",
    "draw_sequence(X[seq_num], Y[seq_num], None, ax, draw_diffs=False, )\n",
    "\n",
    "\n",
    "axs = axs.flatten()\n",
    "for i in range(inp_seq_len+out_seq_len):\n",
    "    ax = axs[i]\n",
    "    ax.imshow(frames[i])\n",
    "    #axs[i].set_xlim([cat_seq[:, 0].min(), cat_seq[:, 0].max()])\n",
    "    #axs[i].set_ylim([cat_seq[:, 1].min(), cat_seq[:, 0].max()])\n",
    "    draw_sequence(seq[0], seq[1], None, ax, draw_diffs=False)\n",
    "    if i >= inp_seq_len:\n",
    "        idx = i - inp_seq_len\n",
    "        ax.scatter(seq[1][idx, 0], seq[1][idx, 1])\n",
    "    else:\n",
    "        ax.scatter(seq[0][i, 0], seq[0][i, 1])\n",
    "\"\"\"\n",
    "\n",
    "slider_ax = plt.axes([0.25, 0.1, 0.65, 0.03], facecolor='lightgoldenrodyellow')\n",
    "slider = Slider(slider_ax, \"timestep\", 0, inp_seq_len+out_seq_len, valinit=0, valstep=1)\n",
    "\n",
    "def update_timestep(t):\n",
    "    t = int(t)\n",
    "    ax_im.set_data(frames[t])\n",
    "    if t >= inp_seq_len:\n",
    "        idx = t - inp_seq_len\n",
    "        ax_cur_point.set_offsets([seq[1][idx, 0], seq[1][idx, 1]])\n",
    "    else:\n",
    "        ax_cur_point.set_offsets([seq[0][t, 0], seq[0][t, 1]])\n",
    "    \n",
    "    fig.canvas.draw_idle()\n",
    "\n",
    "slider.on_changed(update_timestep)"
   ]
  },
  {
   "cell_type": "code",
   "execution_count": null,
   "metadata": {},
   "outputs": [],
   "source": []
  }
 ],
 "metadata": {
  "kernelspec": {
   "display_name": "Python [conda env:py37]",
   "language": "python",
   "name": "conda-env-py37-py"
  },
  "language_info": {
   "codemirror_mode": {
    "name": "ipython",
    "version": 3
   },
   "file_extension": ".py",
   "mimetype": "text/x-python",
   "name": "python",
   "nbconvert_exporter": "python",
   "pygments_lexer": "ipython3",
   "version": "3.7.7"
  }
 },
 "nbformat": 4,
 "nbformat_minor": 4
}
