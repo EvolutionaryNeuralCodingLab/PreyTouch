{
 "cells": [
  {
   "cell_type": "markdown",
   "metadata": {},
   "source": [
    "# Data Collection\n",
    "\n",
    "Run this notebook to analyze new trials. Depends on the exact structure of the experiments results folder and specific file names, the constants should be changed in dataset.py or refactored to suit the new data structure or file names. "
   ]
  },
  {
   "cell_type": "code",
   "execution_count": 1,
   "metadata": {},
   "outputs": [],
   "source": [
    "import os\n",
    "os.chdir('/app/Pogona_realtime/Arena')"
   ]
  },
  {
   "cell_type": "code",
   "execution_count": 2,
   "metadata": {},
   "outputs": [],
   "source": [
    "import torch\n",
    "import glob\n",
    "import numpy as np\n",
    "import imp\n",
    "import matplotlib.pyplot as plt\n",
    "import cv2 as cv\n",
    "import pandas as pd\n",
    "import pickle\n",
    "import seaborn as sns\n",
    "import imp\n",
    "from IPython.display import display, HTML\n",
    "from sklearn.mixture import GaussianMixture\n",
    "from scipy import stats\n",
    "import json\n",
    "import shutil\n",
    "import random\n",
    "import re\n",
    "import math\n",
    "from datetime import datetime\n",
    "\n",
    "from Prediction import dataset\n",
    "from Prediction import predictor\n",
    "from Prediction import detector\n",
    "from Prediction.detector import Detector_v4\n",
    "from Prediction import visualize\n",
    "from Prediction import calibration as calib\n",
    "from Prediction.kalman_predict import KalmanPredictor\n",
    "from Prediction.predictor import HitPredictor\n",
    "from Prediction.visualize import process_video, get_correction_fn, offline_predictor_visualizer\n",
    "from Prediction import seq2seq_predict\n",
    "from Prediction import train_eval\n",
    "\n",
    "WEIGHTS_PATH = 'Prediction/Yolo4/yolo4_gs_best_2306.weights'\n",
    "CFG_PATH = 'Prediction/Yolo4/yolo4_2306.cfg'"
   ]
  },
  {
   "cell_type": "code",
   "execution_count": 3,
   "metadata": {},
   "outputs": [
    {
     "data": {
      "text/plain": [
       "<module 'Prediction.dataset' from '/app/Pogona_realtime/Arena/Prediction/dataset.py'>"
      ]
     },
     "execution_count": 3,
     "metadata": {},
     "output_type": "execute_result"
    }
   ],
   "source": [
    "imp.reload(dataset)"
   ]
  },
  {
   "cell_type": "markdown",
   "metadata": {},
   "source": [
    "## Initialize YOLOv4 detector"
   ]
  },
  {
   "cell_type": "code",
   "execution_count": 4,
   "metadata": {},
   "outputs": [
    {
     "name": "stdout",
     "output_type": "stream",
     "text": [
      "Detector initiated successfully\n"
     ]
    }
   ],
   "source": [
    "det = Detector_v4()"
   ]
  },
  {
   "cell_type": "markdown",
   "metadata": {},
   "source": [
    "## Analyze single trial"
   ]
  },
  {
   "cell_type": "code",
   "execution_count": null,
   "metadata": {},
   "outputs": [],
   "source": [
    "dataset.analyze_rt_data('../../Pogona_Pursuit/Arena/output/feeding_4_20200830-125905', det)"
   ]
  },
  {
   "cell_type": "markdown",
   "metadata": {},
   "source": [
    "## Analyze new trials"
   ]
  },
  {
   "cell_type": "code",
   "execution_count": null,
   "metadata": {},
   "outputs": [],
   "source": [
    "dataset.analyze_new_data(det)"
   ]
  }
 ],
 "metadata": {
  "kernelspec": {
   "display_name": "Python [conda env:py37]",
   "language": "python",
   "name": "conda-env-py37-py"
  },
  "language_info": {
   "codemirror_mode": {
    "name": "ipython",
    "version": 3
   },
   "file_extension": ".py",
   "mimetype": "text/x-python",
   "name": "python",
   "nbconvert_exporter": "python",
   "pygments_lexer": "ipython3",
   "version": "3.7.7"
  }
 },
 "nbformat": 4,
 "nbformat_minor": 4
}
