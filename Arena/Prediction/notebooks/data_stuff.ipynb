{
 "cells": [
  {
   "cell_type": "code",
   "execution_count": 2,
   "metadata": {},
   "outputs": [],
   "source": [
    "import os\n",
    "os.chdir('/app/Pogona_realtime/Arena')"
   ]
  },
  {
   "cell_type": "code",
   "execution_count": 3,
   "metadata": {},
   "outputs": [],
   "source": [
    "import torch\n",
    "import glob\n",
    "import numpy as np\n",
    "import imp\n",
    "import matplotlib.pyplot as plt\n",
    "import cv2 as cv\n",
    "import pandas as pd\n",
    "import pickle\n",
    "import seaborn as sns\n",
    "import imp\n",
    "from IPython.display import display, HTML\n",
    "from sklearn.mixture import GaussianMixture\n",
    "from scipy import stats\n",
    "import json\n",
    "import shutil\n",
    "import random\n",
    "import re\n",
    "import math\n",
    "from datetime import datetime\n",
    "\n",
    "from Prediction import dataset\n",
    "from Prediction import predictor\n",
    "from Prediction import detector\n",
    "from Prediction.detector import Detector_v4, Detector_v3\n",
    "from Prediction import visualize\n",
    "from Prediction import calibration as calib\n",
    "from Prediction.kalman_predict import KalmanPredictor\n",
    "from Prediction.predictor import HitPredictor\n",
    "from Prediction.visualize import process_video, get_correction_fn, offline_predictor_visualizer\n",
    "from Prediction import seq2seq_predict\n",
    "from Prediction import train_eval\n",
    "\n",
    "WEIGHTS_PATH = 'Prediction/Yolo4/yolo4_gs_best_2306.weights'\n",
    "CFG_PATH = 'Prediction/Yolo4/yolo4_2306.cfg'"
   ]
  },
  {
   "cell_type": "markdown",
   "metadata": {},
   "source": [
    "## Initialize YOLOv4 detector"
   ]
  },
  {
   "cell_type": "code",
   "execution_count": 2,
   "metadata": {},
   "outputs": [
    {
     "name": "stdout",
     "output_type": "stream",
     "text": [
      "Detector initiated successfully\n"
     ]
    }
   ],
   "source": [
    "det = Detector_v4()"
   ]
  },
  {
   "cell_type": "markdown",
   "metadata": {},
   "source": [
    "## Mass update homography matrix"
   ]
  },
  {
   "cell_type": "code",
   "execution_count": 2,
   "metadata": {},
   "outputs": [],
   "source": [
    "feeding_videos = list(map(lambda x: os.path.join(x, \"1950648.avi\"), glob.glob(\"../../Pogona_Pursuit/Arena/output/*feeding*\")))"
   ]
  },
  {
   "cell_type": "code",
   "execution_count": 698,
   "metadata": {},
   "outputs": [],
   "source": [
    "all_json_paths = glob.glob('../../Pogona_Pursuit/Arena/experiments/*/*/rt_data/vid_stats.json')"
   ]
  },
  {
   "cell_type": "code",
   "execution_count": 700,
   "metadata": {},
   "outputs": [],
   "source": [
    "width=1440\n",
    "for json_path in all_json_paths:\n",
    "    with open(json_path, 'r') as f:\n",
    "        d = json.load(f)\n",
    "    d.pop('affine_mat')\n",
    "    if d['width'] == width:\n",
    "        d['homography'] = h_old.tolist()\n",
    "    else:\n",
    "        d['homography'] = None\n",
    "    \n",
    "    with open(json_path, 'w') as f:\n",
    "        json.dump(d, f)"
   ]
  },
  {
   "cell_type": "markdown",
   "metadata": {},
   "source": [
    "## Move all rt_data folders from previous location"
   ]
  },
  {
   "cell_type": "code",
   "execution_count": 44,
   "metadata": {},
   "outputs": [],
   "source": [
    "rt_folders = glob.glob(\"../../Pogona_Pursuit/Arena/experiments/*/*/rt_data\")"
   ]
  },
  {
   "cell_type": "code",
   "execution_count": 58,
   "metadata": {},
   "outputs": [],
   "source": [
    "src_dest = list(map(lambda p: (p, glob.glob(os.path.join(os.path.split(p)[0], \"videos\",\"*\"))[0]), rt_folders))"
   ]
  },
  {
   "cell_type": "code",
   "execution_count": 61,
   "metadata": {
    "collapsed": true,
    "jupyter": {
     "outputs_hidden": true
    }
   },
   "outputs": [
    {
     "name": "stdout",
     "output_type": "stream",
     "text": [
      "../../Pogona_Pursuit/Arena/experiments/line_20200803T081735/trial1/rt_data ../../Pogona_Pursuit/Arena/experiments/line_20200803T081735/trial1/videos/20200803-081735\n",
      "../../Pogona_Pursuit/Arena/experiments/line_20200803T082002/trial1/rt_data ../../Pogona_Pursuit/Arena/experiments/line_20200803T082002/trial1/videos/20200803-082002\n",
      "../../Pogona_Pursuit/Arena/experiments/fast_line_20200803T082414/trial1/rt_data ../../Pogona_Pursuit/Arena/experiments/fast_line_20200803T082414/trial1/videos/20200803-082414\n",
      "../../Pogona_Pursuit/Arena/experiments/fast_line_20200803T082724/trial1/rt_data ../../Pogona_Pursuit/Arena/experiments/fast_line_20200803T082724/trial1/videos/20200803-082724\n",
      "../../Pogona_Pursuit/Arena/experiments/circle_20200803T084227/trial1/rt_data ../../Pogona_Pursuit/Arena/experiments/circle_20200803T084227/trial1/videos/20200803-084228\n",
      "../../Pogona_Pursuit/Arena/experiments/circle_20200803T084227/trial2/rt_data ../../Pogona_Pursuit/Arena/experiments/circle_20200803T084227/trial2/videos/20200803-084900\n",
      "../../Pogona_Pursuit/Arena/experiments/circle_20200803T084529/trial1/rt_data ../../Pogona_Pursuit/Arena/experiments/circle_20200803T084529/trial1/videos/20200803-084530\n",
      "../../Pogona_Pursuit/Arena/experiments/circle_20200803T084529/trial2/rt_data ../../Pogona_Pursuit/Arena/experiments/circle_20200803T084529/trial2/videos/20200803-085202\n",
      "../../Pogona_Pursuit/Arena/experiments/fast_cockroach_20200803T085738/trial1/rt_data ../../Pogona_Pursuit/Arena/experiments/fast_cockroach_20200803T085738/trial1/videos/20200803-085738\n",
      "../../Pogona_Pursuit/Arena/experiments/circle_20200803T090234/trial1/rt_data ../../Pogona_Pursuit/Arena/experiments/circle_20200803T090234/trial1/videos/20200803-090235\n",
      "../../Pogona_Pursuit/Arena/experiments/circle_20200803T090615/trial1/rt_data ../../Pogona_Pursuit/Arena/experiments/circle_20200803T090615/trial1/videos/20200803-090616\n",
      "../../Pogona_Pursuit/Arena/experiments/circle_20200803T091639/trial1/rt_data ../../Pogona_Pursuit/Arena/experiments/circle_20200803T091639/trial1/videos/20200803-091641\n",
      "../../Pogona_Pursuit/Arena/experiments/circle_20200803T092248/trial1/rt_data ../../Pogona_Pursuit/Arena/experiments/circle_20200803T092248/trial1/videos/20200803-092248\n",
      "../../Pogona_Pursuit/Arena/experiments/circle_20200803T093051/trial1/rt_data ../../Pogona_Pursuit/Arena/experiments/circle_20200803T093051/trial1/videos/20200803-093052\n",
      "../../Pogona_Pursuit/Arena/experiments/line_20200803T094928/trial1/rt_data ../../Pogona_Pursuit/Arena/experiments/line_20200803T094928/trial1/videos/20200803-094928\n",
      "../../Pogona_Pursuit/Arena/experiments/line_20200803T095401/trial1/rt_data ../../Pogona_Pursuit/Arena/experiments/line_20200803T095401/trial1/videos/20200803-095401\n",
      "../../Pogona_Pursuit/Arena/experiments/line_20200803T101641/trial1/rt_data ../../Pogona_Pursuit/Arena/experiments/line_20200803T101641/trial1/videos/20200803-101641\n",
      "../../Pogona_Pursuit/Arena/experiments/line_20200803T101641/trial2/rt_data ../../Pogona_Pursuit/Arena/experiments/line_20200803T101641/trial2/videos/20200803-102313\n",
      "../../Pogona_Pursuit/Arena/experiments/circle_20200803T113121/trial1/rt_data ../../Pogona_Pursuit/Arena/experiments/circle_20200803T113121/trial1/videos/20200803-113121\n",
      "../../Pogona_Pursuit/Arena/experiments/line_20200803T114942/trial1/rt_data ../../Pogona_Pursuit/Arena/experiments/line_20200803T114942/trial1/videos/20200803-114943\n",
      "../../Pogona_Pursuit/Arena/experiments/circle_20200803T115839/trial1/rt_data ../../Pogona_Pursuit/Arena/experiments/circle_20200803T115839/trial1/videos/20200803-115839\n",
      "../../Pogona_Pursuit/Arena/experiments/circle_20200803T120911/trial1/rt_data ../../Pogona_Pursuit/Arena/experiments/circle_20200803T120911/trial1/videos/20200803-120911\n",
      "../../Pogona_Pursuit/Arena/experiments/circle_20200803T121730/trial1/rt_data ../../Pogona_Pursuit/Arena/experiments/circle_20200803T121730/trial1/videos/20200803-121730\n",
      "../../Pogona_Pursuit/Arena/experiments/line_20200803T122506/trial1/rt_data ../../Pogona_Pursuit/Arena/experiments/line_20200803T122506/trial1/videos/20200803-122507\n",
      "../../Pogona_Pursuit/Arena/experiments/test-no-streaming-4_20200810T115814/trial1/rt_data ../../Pogona_Pursuit/Arena/experiments/test-no-streaming-4_20200810T115814/trial1/videos/20200810-115815\n",
      "../../Pogona_Pursuit/Arena/experiments/test-no-streaming-rt-only_20200810T120030/trial1/rt_data ../../Pogona_Pursuit/Arena/experiments/test-no-streaming-rt-only_20200810T120030/trial1/videos/20200810-120033\n",
      "../../Pogona_Pursuit/Arena/experiments/fast_20200819T085841/trial1/rt_data ../../Pogona_Pursuit/Arena/experiments/fast_20200819T085841/trial1/videos/20200819-085841\n",
      "../../Pogona_Pursuit/Arena/experiments/fast_20200819T093920/trial1/rt_data ../../Pogona_Pursuit/Arena/experiments/fast_20200819T093920/trial1/videos/20200819-093921\n",
      "../../Pogona_Pursuit/Arena/experiments/circle_20200819T102503/trial1/rt_data ../../Pogona_Pursuit/Arena/experiments/circle_20200819T102503/trial1/videos/20200819-102504\n",
      "../../Pogona_Pursuit/Arena/experiments/worm_20200819T103031/trial1/rt_data ../../Pogona_Pursuit/Arena/experiments/worm_20200819T103031/trial1/videos/20200819-103032\n",
      "../../Pogona_Pursuit/Arena/experiments/worm_20200819T104454/trial1/rt_data ../../Pogona_Pursuit/Arena/experiments/worm_20200819T104454/trial1/videos/20200819-104455\n",
      "../../Pogona_Pursuit/Arena/experiments/worm_20200819T105608/trial1/rt_data ../../Pogona_Pursuit/Arena/experiments/worm_20200819T105608/trial1/videos/20200819-105608\n",
      "../../Pogona_Pursuit/Arena/experiments/red_beetle_20200824T073952/trial1/rt_data ../../Pogona_Pursuit/Arena/experiments/red_beetle_20200824T073952/trial1/videos/20200824-073952\n",
      "../../Pogona_Pursuit/Arena/experiments/red_beetle_20200824T074504/trial1/rt_data ../../Pogona_Pursuit/Arena/experiments/red_beetle_20200824T074504/trial1/videos/20200824-074504\n",
      "../../Pogona_Pursuit/Arena/experiments/red_beetle_20200824T075143/trial1/rt_data ../../Pogona_Pursuit/Arena/experiments/red_beetle_20200824T075143/trial1/videos/20200824-075143\n",
      "../../Pogona_Pursuit/Arena/experiments/red_beetle_20200824T075929/trial1/rt_data ../../Pogona_Pursuit/Arena/experiments/red_beetle_20200824T075929/trial1/videos/20200824-075930\n",
      "../../Pogona_Pursuit/Arena/experiments/red_beetle_20200824T081122/trial1/rt_data ../../Pogona_Pursuit/Arena/experiments/red_beetle_20200824T081122/trial1/videos/20200824-081123\n",
      "../../Pogona_Pursuit/Arena/experiments/red_beetle_20200824T082352/trial1/rt_data ../../Pogona_Pursuit/Arena/experiments/red_beetle_20200824T082352/trial1/videos/20200824-082352\n",
      "../../Pogona_Pursuit/Arena/experiments/cockroach_20200824T083436/trial1/rt_data ../../Pogona_Pursuit/Arena/experiments/cockroach_20200824T083436/trial1/videos/20200824-083436\n",
      "../../Pogona_Pursuit/Arena/experiments/cockroach_20200824T105816/trial1/rt_data ../../Pogona_Pursuit/Arena/experiments/cockroach_20200824T105816/trial1/videos/20200824-105816\n",
      "../../Pogona_Pursuit/Arena/experiments/red_beetle_20200824T120948/trial1/rt_data ../../Pogona_Pursuit/Arena/experiments/red_beetle_20200824T120948/trial1/videos/20200824-120949\n",
      "../../Pogona_Pursuit/Arena/experiments/red_beetle_20200824T122233/trial1/rt_data ../../Pogona_Pursuit/Arena/experiments/red_beetle_20200824T122233/trial1/videos/20200824-122234\n",
      "../../Pogona_Pursuit/Arena/experiments/red_beetle_20200824T122233/trial2/rt_data ../../Pogona_Pursuit/Arena/experiments/red_beetle_20200824T122233/trial2/videos/20200824-122947\n",
      "../../Pogona_Pursuit/Arena/experiments/black beetle_20200824T124912/trial1/rt_data ../../Pogona_Pursuit/Arena/experiments/black beetle_20200824T124912/trial1/videos/20200824-124912\n"
     ]
    }
   ],
   "source": [
    "for src, dest in src_dest[1:]:\n",
    "    print(src, dest)\n",
    "    shutil.move(src, dest)"
   ]
  },
  {
   "cell_type": "markdown",
   "metadata": {},
   "source": [
    "## Analyze single trial"
   ]
  },
  {
   "cell_type": "code",
   "execution_count": 4,
   "metadata": {},
   "outputs": [
    {
     "data": {
      "application/vnd.jupyter.widget-view+json": {
       "model_id": "d338b4badac8499db4f60a8d6b1bf8f0",
       "version_major": 2,
       "version_minor": 0
      },
      "text/plain": [
       "HBox(children=(IntProgress(value=0, max=7001), HTML(value='')))"
      ]
     },
     "metadata": {},
     "output_type": "display_data"
    },
    {
     "name": "stdout",
     "output_type": "stream",
     "text": [
      "\n",
      "Saved ../../Pogona_Pursuit/Arena/output/feeding_4_20200830-125905/rt_data/detections.csv\n",
      " ../../Pogona_Pursuit/Arena/output/feeding_4_20200830-125905/rt_data/head_crops.p\n",
      " ../../Pogona_Pursuit/Arena/output/feeding_4_20200830-125905/rt_data/vid_stats.json\n"
     ]
    }
   ],
   "source": [
    "dataset.analyze_rt_data('../../Pogona_Pursuit/Arena/output/feeding_4_20200830-125905', det)"
   ]
  },
  {
   "cell_type": "markdown",
   "metadata": {},
   "source": [
    "## Analyze new trials"
   ]
  },
  {
   "cell_type": "code",
   "execution_count": null,
   "metadata": {},
   "outputs": [
    {
     "name": "stdout",
     "output_type": "stream",
     "text": [
      "Analyzing ../../Pogona_Pursuit/Arena/output/feeding_4_screen_20200830-130446:\n"
     ]
    },
    {
     "data": {
      "application/vnd.jupyter.widget-view+json": {
       "model_id": "0f462efb833a41e1bc64204f99209998",
       "version_major": 2,
       "version_minor": 0
      },
      "text/plain": [
       "HBox(children=(IntProgress(value=0, max=10001), HTML(value='')))"
      ]
     },
     "metadata": {},
     "output_type": "display_data"
    },
    {
     "name": "stdout",
     "output_type": "stream",
     "text": [
      "\n",
      "Saved ../../Pogona_Pursuit/Arena/output/feeding_4_screen_20200830-130446/rt_data/detections.csv\n",
      " ../../Pogona_Pursuit/Arena/output/feeding_4_screen_20200830-130446/rt_data/head_crops.p\n",
      " ../../Pogona_Pursuit/Arena/output/feeding_4_screen_20200830-130446/rt_data/vid_stats.json\n",
      "Analyzing ../../Pogona_Pursuit/Arena/output/feeding_5_20200830-131348:\n"
     ]
    },
    {
     "data": {
      "application/vnd.jupyter.widget-view+json": {
       "model_id": "fc5d2effc9f64048b33b677991e9d916",
       "version_major": 2,
       "version_minor": 0
      },
      "text/plain": [
       "HBox(children=(IntProgress(value=0, max=4001), HTML(value='')))"
      ]
     },
     "metadata": {},
     "output_type": "display_data"
    },
    {
     "name": "stdout",
     "output_type": "stream",
     "text": [
      "\n",
      "Saved ../../Pogona_Pursuit/Arena/output/feeding_5_20200830-131348/rt_data/detections.csv\n",
      " ../../Pogona_Pursuit/Arena/output/feeding_5_20200830-131348/rt_data/head_crops.p\n",
      " ../../Pogona_Pursuit/Arena/output/feeding_5_20200830-131348/rt_data/vid_stats.json\n",
      "Analyzing ../../Pogona_Pursuit/Arena/output/feeding_5_20200830-131916:\n",
      "ERROR:\n",
      "Some of the polygons are too close to each other.\n",
      "Could not calibrate video at ../../Pogona_Pursuit/Arena/output/feeding_5_20200830-131916/19506468.avi\n"
     ]
    },
    {
     "data": {
      "application/vnd.jupyter.widget-view+json": {
       "model_id": "6084dddddbea4492a00c8a313ad6aed4",
       "version_major": 2,
       "version_minor": 0
      },
      "text/plain": [
       "HBox(children=(IntProgress(value=0, max=4001), HTML(value='')))"
      ]
     },
     "metadata": {},
     "output_type": "display_data"
    },
    {
     "name": "stdout",
     "output_type": "stream",
     "text": [
      "\n",
      "Saved ../../Pogona_Pursuit/Arena/output/feeding_5_20200830-131916/rt_data/detections.csv\n",
      " ../../Pogona_Pursuit/Arena/output/feeding_5_20200830-131916/rt_data/head_crops.p\n",
      " ../../Pogona_Pursuit/Arena/output/feeding_5_20200830-131916/rt_data/vid_stats.json\n",
      "Analyzing ../../Pogona_Pursuit/Arena/output/feeding3_20200902-113026:\n",
      "ERROR:\n",
      "Could not find 4 square marks in the image, only 3 found.\n",
      "Could not calibrate video at ../../Pogona_Pursuit/Arena/output/feeding3_20200902-113026/19506468.avi\n"
     ]
    },
    {
     "data": {
      "application/vnd.jupyter.widget-view+json": {
       "model_id": "279a5b9e247d4bf0a546d4e73a9a830e",
       "version_major": 2,
       "version_minor": 0
      },
      "text/plain": [
       "HBox(children=(IntProgress(value=0, max=5001), HTML(value='')))"
      ]
     },
     "metadata": {},
     "output_type": "display_data"
    },
    {
     "name": "stdout",
     "output_type": "stream",
     "text": [
      "\n",
      "Saved ../../Pogona_Pursuit/Arena/output/feeding3_20200902-113026/rt_data/detections.csv\n",
      " ../../Pogona_Pursuit/Arena/output/feeding3_20200902-113026/rt_data/head_crops.p\n",
      " ../../Pogona_Pursuit/Arena/output/feeding3_20200902-113026/rt_data/vid_stats.json\n",
      "Analyzing ../../Pogona_Pursuit/Arena/output/feeding3_20200902-122338:\n",
      "ERROR:\n",
      "Could not find 4 square marks in the image, only 3 found.\n",
      "Could not calibrate video at ../../Pogona_Pursuit/Arena/output/feeding3_20200902-122338/19506468.avi\n"
     ]
    },
    {
     "data": {
      "application/vnd.jupyter.widget-view+json": {
       "model_id": "cffe9d3f47724d6ca84a2335f5df57a4",
       "version_major": 2,
       "version_minor": 0
      },
      "text/plain": [
       "HBox(children=(IntProgress(value=0, max=7001), HTML(value='')))"
      ]
     },
     "metadata": {},
     "output_type": "display_data"
    },
    {
     "name": "stdout",
     "output_type": "stream",
     "text": [
      "\n",
      "Saved ../../Pogona_Pursuit/Arena/output/feeding3_20200902-122338/rt_data/detections.csv\n",
      " ../../Pogona_Pursuit/Arena/output/feeding3_20200902-122338/rt_data/head_crops.p\n",
      " ../../Pogona_Pursuit/Arena/output/feeding3_20200902-122338/rt_data/vid_stats.json\n",
      "Analyzing ../../Pogona_Pursuit/Arena/output/feeding3_20200902-122611:\n"
     ]
    },
    {
     "data": {
      "application/vnd.jupyter.widget-view+json": {
       "model_id": "7d1ceba9b32749b1b502c5805b9aefb8",
       "version_major": 2,
       "version_minor": 0
      },
      "text/plain": [
       "HBox(children=(IntProgress(value=0, max=3501), HTML(value='')))"
      ]
     },
     "metadata": {},
     "output_type": "display_data"
    },
    {
     "name": "stdout",
     "output_type": "stream",
     "text": [
      "\n",
      "Saved ../../Pogona_Pursuit/Arena/output/feeding3_20200902-122611/rt_data/detections.csv\n",
      " ../../Pogona_Pursuit/Arena/output/feeding3_20200902-122611/rt_data/head_crops.p\n",
      " ../../Pogona_Pursuit/Arena/output/feeding3_20200902-122611/rt_data/vid_stats.json\n",
      "Analyzing ../../Pogona_Pursuit/Arena/output/feeding3_20200902-142400:\n",
      "ERROR:\n",
      "Could not find 4 square marks in the image, only 1 found.\n",
      "Could not calibrate video at ../../Pogona_Pursuit/Arena/output/feeding3_20200902-142400/19506468.avi\n"
     ]
    },
    {
     "data": {
      "application/vnd.jupyter.widget-view+json": {
       "model_id": "a1cdf4b7f6884ec0a24ea89f087c23d9",
       "version_major": 2,
       "version_minor": 0
      },
      "text/plain": [
       "HBox(children=(IntProgress(value=0, max=7501), HTML(value='')))"
      ]
     },
     "metadata": {},
     "output_type": "display_data"
    },
    {
     "name": "stdout",
     "output_type": "stream",
     "text": [
      "\n",
      "Saved ../../Pogona_Pursuit/Arena/output/feeding3_20200902-142400/rt_data/detections.csv\n",
      " ../../Pogona_Pursuit/Arena/output/feeding3_20200902-142400/rt_data/head_crops.p\n",
      " ../../Pogona_Pursuit/Arena/output/feeding3_20200902-142400/rt_data/vid_stats.json\n",
      "Analyzing ../../Pogona_Pursuit/Arena/output/feeding4_20200902-132659:\n",
      "ERROR:\n",
      "Could not find 4 square marks in the image, only 3 found.\n",
      "Could not calibrate video at ../../Pogona_Pursuit/Arena/output/feeding4_20200902-132659/19506468.avi\n"
     ]
    },
    {
     "data": {
      "application/vnd.jupyter.widget-view+json": {
       "model_id": "ac41b59920054e57ae415ba4fc9dd09a",
       "version_major": 2,
       "version_minor": 0
      },
      "text/plain": [
       "HBox(children=(IntProgress(value=0, max=3501), HTML(value='')))"
      ]
     },
     "metadata": {},
     "output_type": "display_data"
    },
    {
     "name": "stdout",
     "output_type": "stream",
     "text": [
      "\n",
      "Saved ../../Pogona_Pursuit/Arena/output/feeding4_20200902-132659/rt_data/detections.csv\n",
      " ../../Pogona_Pursuit/Arena/output/feeding4_20200902-132659/rt_data/head_crops.p\n",
      " ../../Pogona_Pursuit/Arena/output/feeding4_20200902-132659/rt_data/vid_stats.json\n",
      "Analyzing ../../Pogona_Pursuit/Arena/output/feeding4_20200902-132954:\n",
      "ERROR:\n",
      "Could not find 4 square marks in the image, only 2 found.\n",
      "Could not calibrate video at ../../Pogona_Pursuit/Arena/output/feeding4_20200902-132954/19506468.avi\n"
     ]
    },
    {
     "data": {
      "application/vnd.jupyter.widget-view+json": {
       "model_id": "4201737866f541be88b418ac72edeb98",
       "version_major": 2,
       "version_minor": 0
      },
      "text/plain": [
       "HBox(children=(IntProgress(value=0, max=7501), HTML(value='')))"
      ]
     },
     "metadata": {},
     "output_type": "display_data"
    },
    {
     "name": "stdout",
     "output_type": "stream",
     "text": [
      "\n",
      "Saved ../../Pogona_Pursuit/Arena/output/feeding4_20200902-132954/rt_data/detections.csv\n",
      " ../../Pogona_Pursuit/Arena/output/feeding4_20200902-132954/rt_data/head_crops.p\n",
      " ../../Pogona_Pursuit/Arena/output/feeding4_20200902-132954/rt_data/vid_stats.json\n",
      "Analyzing ../../Pogona_Pursuit/Arena/output/feeding4_20200902-140215:\n",
      "ERROR:\n",
      "Could not find 4 square marks in the image, only 2 found.\n",
      "Could not calibrate video at ../../Pogona_Pursuit/Arena/output/feeding4_20200902-140215/19506468.avi\n"
     ]
    },
    {
     "data": {
      "application/vnd.jupyter.widget-view+json": {
       "model_id": "6c3a7b2a566a4c1ca07da0b77355a70d",
       "version_major": 2,
       "version_minor": 0
      },
      "text/plain": [
       "HBox(children=(IntProgress(value=0, max=7501), HTML(value='')))"
      ]
     },
     "metadata": {},
     "output_type": "display_data"
    },
    {
     "name": "stdout",
     "output_type": "stream",
     "text": [
      "\n",
      "Saved ../../Pogona_Pursuit/Arena/output/feeding4_20200902-140215/rt_data/detections.csv\n",
      " ../../Pogona_Pursuit/Arena/output/feeding4_20200902-140215/rt_data/head_crops.p\n",
      " ../../Pogona_Pursuit/Arena/output/feeding4_20200902-140215/rt_data/vid_stats.json\n",
      "Analyzing ../../Pogona_Pursuit/Arena/output/feeding4_20200902-140800:\n",
      "ERROR:\n",
      "Could not find 4 square marks in the image, only 3 found.\n",
      "Could not calibrate video at ../../Pogona_Pursuit/Arena/output/feeding4_20200902-140800/19506468.avi\n"
     ]
    },
    {
     "data": {
      "application/vnd.jupyter.widget-view+json": {
       "model_id": "39f9af004aea47e189871ea36e68461e",
       "version_major": 2,
       "version_minor": 0
      },
      "text/plain": [
       "HBox(children=(IntProgress(value=0, max=7501), HTML(value='')))"
      ]
     },
     "metadata": {},
     "output_type": "display_data"
    },
    {
     "name": "stdout",
     "output_type": "stream",
     "text": [
      "\n",
      "Saved ../../Pogona_Pursuit/Arena/output/feeding4_20200902-140800/rt_data/detections.csv\n",
      " ../../Pogona_Pursuit/Arena/output/feeding4_20200902-140800/rt_data/head_crops.p\n",
      " ../../Pogona_Pursuit/Arena/output/feeding4_20200902-140800/rt_data/vid_stats.json\n",
      "Analyzing ../../Pogona_Pursuit/Arena/output/feeding3_20200902-145846:\n",
      "ERROR:\n",
      "Could not find 4 square marks in the image, only 3 found.\n",
      "Could not calibrate video at ../../Pogona_Pursuit/Arena/output/feeding3_20200902-145846/19506468.avi\n"
     ]
    },
    {
     "data": {
      "application/vnd.jupyter.widget-view+json": {
       "model_id": "8579c559d67b4a9bb0c58202d2e131d1",
       "version_major": 2,
       "version_minor": 0
      },
      "text/plain": [
       "HBox(children=(IntProgress(value=0, max=7501), HTML(value='')))"
      ]
     },
     "metadata": {},
     "output_type": "display_data"
    },
    {
     "name": "stdout",
     "output_type": "stream",
     "text": [
      "\n",
      "Saved ../../Pogona_Pursuit/Arena/output/feeding3_20200902-145846/rt_data/detections.csv\n",
      " ../../Pogona_Pursuit/Arena/output/feeding3_20200902-145846/rt_data/head_crops.p\n",
      " ../../Pogona_Pursuit/Arena/output/feeding3_20200902-145846/rt_data/vid_stats.json\n",
      "Analyzing ../../Pogona_Pursuit/Arena/experiments/bug_size_20200727T080358/trial1/videos/20200727-080358:\n",
      "ERROR:\n",
      "Could not find 4 square marks in the image, only 0 found.\n",
      "Could not calibrate video at ../../Pogona_Pursuit/Arena/experiments/bug_size_20200727T080358/trial1/videos/20200727-080358/19506468.avi\n"
     ]
    },
    {
     "data": {
      "application/vnd.jupyter.widget-view+json": {
       "model_id": "7c064219f674440890a569d2333bc139",
       "version_major": 2,
       "version_minor": 0
      },
      "text/plain": [
       "HBox(children=(IntProgress(value=0, max=4539), HTML(value='')))"
      ]
     },
     "metadata": {},
     "output_type": "display_data"
    },
    {
     "name": "stdout",
     "output_type": "stream",
     "text": [
      "\n",
      "Saved ../../Pogona_Pursuit/Arena/experiments/bug_size_20200727T080358/trial1/videos/20200727-080358/rt_data/detections.csv\n",
      " ../../Pogona_Pursuit/Arena/experiments/bug_size_20200727T080358/trial1/videos/20200727-080358/rt_data/head_crops.p\n",
      " ../../Pogona_Pursuit/Arena/experiments/bug_size_20200727T080358/trial1/videos/20200727-080358/rt_data/vid_stats.json\n",
      "Analyzing ../../Pogona_Pursuit/Arena/experiments/bug_size_20200727T080358/trial2/videos/20200727-081031:\n",
      "ERROR:\n",
      "Could not find 4 square marks in the image, only 0 found.\n",
      "Could not calibrate video at ../../Pogona_Pursuit/Arena/experiments/bug_size_20200727T080358/trial2/videos/20200727-081031/19506468.avi\n"
     ]
    },
    {
     "data": {
      "application/vnd.jupyter.widget-view+json": {
       "model_id": "6a3c1c3238a14911975e00c702b9d8d5",
       "version_major": 2,
       "version_minor": 0
      },
      "text/plain": [
       "HBox(children=(IntProgress(value=0, max=4819), HTML(value='')))"
      ]
     },
     "metadata": {},
     "output_type": "display_data"
    },
    {
     "name": "stdout",
     "output_type": "stream",
     "text": [
      "\n",
      "Saved ../../Pogona_Pursuit/Arena/experiments/bug_size_20200727T080358/trial2/videos/20200727-081031/rt_data/detections.csv\n",
      " ../../Pogona_Pursuit/Arena/experiments/bug_size_20200727T080358/trial2/videos/20200727-081031/rt_data/head_crops.p\n",
      " ../../Pogona_Pursuit/Arena/experiments/bug_size_20200727T080358/trial2/videos/20200727-081031/rt_data/vid_stats.json\n",
      "Analyzing ../../Pogona_Pursuit/Arena/experiments/bug_size_20200727T080358/trial3/videos/20200727-081705:\n",
      "ERROR:\n",
      "Could not find 4 square marks in the image, only 0 found.\n",
      "Could not calibrate video at ../../Pogona_Pursuit/Arena/experiments/bug_size_20200727T080358/trial3/videos/20200727-081705/19506468.avi\n"
     ]
    },
    {
     "data": {
      "application/vnd.jupyter.widget-view+json": {
       "model_id": "5ad2f44c20ac43db8dd55ac3217de3f6",
       "version_major": 2,
       "version_minor": 0
      },
      "text/plain": [
       "HBox(children=(IntProgress(value=0, max=4778), HTML(value='')))"
      ]
     },
     "metadata": {},
     "output_type": "display_data"
    },
    {
     "name": "stdout",
     "output_type": "stream",
     "text": [
      "\n",
      "Saved ../../Pogona_Pursuit/Arena/experiments/bug_size_20200727T080358/trial3/videos/20200727-081705/rt_data/detections.csv\n",
      " ../../Pogona_Pursuit/Arena/experiments/bug_size_20200727T080358/trial3/videos/20200727-081705/rt_data/head_crops.p\n",
      " ../../Pogona_Pursuit/Arena/experiments/bug_size_20200727T080358/trial3/videos/20200727-081705/rt_data/vid_stats.json\n",
      "Analyzing ../../Pogona_Pursuit/Arena/experiments/bug_size_20200727T080358/trial4/videos/20200727-082337:\n",
      "ERROR:\n",
      "Could not find 4 square marks in the image, only 0 found.\n",
      "Could not calibrate video at ../../Pogona_Pursuit/Arena/experiments/bug_size_20200727T080358/trial4/videos/20200727-082337/19506468.avi\n"
     ]
    },
    {
     "data": {
      "application/vnd.jupyter.widget-view+json": {
       "model_id": "aa2370449e014106bd23409defd28dc3",
       "version_major": 2,
       "version_minor": 0
      },
      "text/plain": [
       "HBox(children=(IntProgress(value=0, max=4583), HTML(value='')))"
      ]
     },
     "metadata": {},
     "output_type": "display_data"
    },
    {
     "name": "stdout",
     "output_type": "stream",
     "text": [
      "\n",
      "Saved ../../Pogona_Pursuit/Arena/experiments/bug_size_20200727T080358/trial4/videos/20200727-082337/rt_data/detections.csv\n",
      " ../../Pogona_Pursuit/Arena/experiments/bug_size_20200727T080358/trial4/videos/20200727-082337/rt_data/head_crops.p\n",
      " ../../Pogona_Pursuit/Arena/experiments/bug_size_20200727T080358/trial4/videos/20200727-082337/rt_data/vid_stats.json\n",
      "Analyzing ../../Pogona_Pursuit/Arena/experiments/test_20200727T100404/trial1/videos/20200727-100404:\n",
      "ERROR:\n",
      "Could not find 4 square marks in the image, only 0 found.\n",
      "Could not calibrate video at ../../Pogona_Pursuit/Arena/experiments/test_20200727T100404/trial1/videos/20200727-100404/19506468.avi\n"
     ]
    },
    {
     "data": {
      "application/vnd.jupyter.widget-view+json": {
       "model_id": "8dc627e9e80e42f9a146d8ba915fdd12",
       "version_major": 2,
       "version_minor": 0
      },
      "text/plain": [
       "HBox(children=(IntProgress(value=0, max=5309), HTML(value='')))"
      ]
     },
     "metadata": {},
     "output_type": "display_data"
    },
    {
     "name": "stdout",
     "output_type": "stream",
     "text": [
      "\n",
      "Saved ../../Pogona_Pursuit/Arena/experiments/test_20200727T100404/trial1/videos/20200727-100404/rt_data/detections.csv\n",
      " ../../Pogona_Pursuit/Arena/experiments/test_20200727T100404/trial1/videos/20200727-100404/rt_data/head_crops.p\n",
      " ../../Pogona_Pursuit/Arena/experiments/test_20200727T100404/trial1/videos/20200727-100404/rt_data/vid_stats.json\n",
      "Analyzing ../../Pogona_Pursuit/Arena/experiments/cockroach_20200729T084031/trial1/videos/20200729-084032:\n",
      "ERROR:\n",
      "Could not find 4 square marks in the image, only 0 found.\n",
      "Could not calibrate video at ../../Pogona_Pursuit/Arena/experiments/cockroach_20200729T084031/trial1/videos/20200729-084032/19506468.avi\n"
     ]
    },
    {
     "data": {
      "application/vnd.jupyter.widget-view+json": {
       "model_id": "e48def02bf3e46e2ad25d5528600a759",
       "version_major": 2,
       "version_minor": 0
      },
      "text/plain": [
       "HBox(children=(IntProgress(value=0, max=5080), HTML(value='')))"
      ]
     },
     "metadata": {},
     "output_type": "display_data"
    },
    {
     "name": "stdout",
     "output_type": "stream",
     "text": [
      "\n",
      "Saved ../../Pogona_Pursuit/Arena/experiments/cockroach_20200729T084031/trial1/videos/20200729-084032/rt_data/detections.csv\n",
      " ../../Pogona_Pursuit/Arena/experiments/cockroach_20200729T084031/trial1/videos/20200729-084032/rt_data/head_crops.p\n",
      " ../../Pogona_Pursuit/Arena/experiments/cockroach_20200729T084031/trial1/videos/20200729-084032/rt_data/vid_stats.json\n",
      "Analyzing ../../Pogona_Pursuit/Arena/experiments/cockroach_20200729T084031/trial2/videos/20200729-084703:\n",
      "ERROR:\n",
      "Could not find 4 square marks in the image, only 0 found.\n",
      "Could not calibrate video at ../../Pogona_Pursuit/Arena/experiments/cockroach_20200729T084031/trial2/videos/20200729-084703/19506468.avi\n"
     ]
    },
    {
     "data": {
      "application/vnd.jupyter.widget-view+json": {
       "model_id": "b7515519a6fa46c6aa634745279defc0",
       "version_major": 2,
       "version_minor": 0
      },
      "text/plain": [
       "HBox(children=(IntProgress(value=0, max=5080), HTML(value='')))"
      ]
     },
     "metadata": {},
     "output_type": "display_data"
    },
    {
     "name": "stdout",
     "output_type": "stream",
     "text": [
      "\n",
      "Saved ../../Pogona_Pursuit/Arena/experiments/cockroach_20200729T084031/trial2/videos/20200729-084703/rt_data/detections.csv\n",
      " ../../Pogona_Pursuit/Arena/experiments/cockroach_20200729T084031/trial2/videos/20200729-084703/rt_data/head_crops.p\n",
      " ../../Pogona_Pursuit/Arena/experiments/cockroach_20200729T084031/trial2/videos/20200729-084703/rt_data/vid_stats.json\n",
      "Analyzing ../../Pogona_Pursuit/Arena/experiments/worm_20200729T090421/trial1/videos/20200729-090421:\n",
      "ERROR:\n",
      "Could not find 4 square marks in the image, only 0 found.\n",
      "Could not calibrate video at ../../Pogona_Pursuit/Arena/experiments/worm_20200729T090421/trial1/videos/20200729-090421/19506468.avi\n"
     ]
    },
    {
     "data": {
      "application/vnd.jupyter.widget-view+json": {
       "model_id": "a3c3eb7d0d4849c1b72dbd1ae17f77d3",
       "version_major": 2,
       "version_minor": 0
      },
      "text/plain": [
       "HBox(children=(IntProgress(value=0, max=5081), HTML(value='')))"
      ]
     },
     "metadata": {},
     "output_type": "display_data"
    },
    {
     "name": "stdout",
     "output_type": "stream",
     "text": [
      "\n",
      "Saved ../../Pogona_Pursuit/Arena/experiments/worm_20200729T090421/trial1/videos/20200729-090421/rt_data/detections.csv\n",
      " ../../Pogona_Pursuit/Arena/experiments/worm_20200729T090421/trial1/videos/20200729-090421/rt_data/head_crops.p\n",
      " ../../Pogona_Pursuit/Arena/experiments/worm_20200729T090421/trial1/videos/20200729-090421/rt_data/vid_stats.json\n",
      "Analyzing ../../Pogona_Pursuit/Arena/experiments/worm_20200729T103122/trial2/videos/20200729-103756:\n",
      "ERROR:\n",
      "Could not find 4 square marks in the image, only 0 found.\n",
      "Could not calibrate video at ../../Pogona_Pursuit/Arena/experiments/worm_20200729T103122/trial2/videos/20200729-103756/19506468.avi\n"
     ]
    },
    {
     "data": {
      "application/vnd.jupyter.widget-view+json": {
       "model_id": "a41ba45fcb874fb28bdee26ef9ad7c02",
       "version_major": 2,
       "version_minor": 0
      },
      "text/plain": [
       "HBox(children=(IntProgress(value=0, max=4731), HTML(value='')))"
      ]
     },
     "metadata": {},
     "output_type": "display_data"
    },
    {
     "name": "stdout",
     "output_type": "stream",
     "text": [
      "\n",
      "Saved ../../Pogona_Pursuit/Arena/experiments/worm_20200729T103122/trial2/videos/20200729-103756/rt_data/detections.csv\n",
      " ../../Pogona_Pursuit/Arena/experiments/worm_20200729T103122/trial2/videos/20200729-103756/rt_data/head_crops.p\n",
      " ../../Pogona_Pursuit/Arena/experiments/worm_20200729T103122/trial2/videos/20200729-103756/rt_data/vid_stats.json\n",
      "Analyzing ../../Pogona_Pursuit/Arena/experiments/worm_20200729T103122/trial3/videos/20200729-104429:\n",
      "ERROR:\n",
      "Could not find 4 square marks in the image, only 0 found.\n",
      "Could not calibrate video at ../../Pogona_Pursuit/Arena/experiments/worm_20200729T103122/trial3/videos/20200729-104429/19506468.avi\n"
     ]
    },
    {
     "data": {
      "application/vnd.jupyter.widget-view+json": {
       "model_id": "e765e4996c904f8d81020799fe1e912b",
       "version_major": 2,
       "version_minor": 0
      },
      "text/plain": [
       "HBox(children=(IntProgress(value=0, max=4746), HTML(value='')))"
      ]
     },
     "metadata": {},
     "output_type": "display_data"
    },
    {
     "name": "stdout",
     "output_type": "stream",
     "text": [
      "\n",
      "Saved ../../Pogona_Pursuit/Arena/experiments/worm_20200729T103122/trial3/videos/20200729-104429/rt_data/detections.csv\n",
      " ../../Pogona_Pursuit/Arena/experiments/worm_20200729T103122/trial3/videos/20200729-104429/rt_data/head_crops.p\n",
      " ../../Pogona_Pursuit/Arena/experiments/worm_20200729T103122/trial3/videos/20200729-104429/rt_data/vid_stats.json\n",
      "Analyzing ../../Pogona_Pursuit/Arena/experiments/fast_cockroach_20200729T105342/trial1/videos/20200729-105345:\n",
      "ERROR:\n",
      "Could not find 4 square marks in the image, only 0 found.\n",
      "Could not calibrate video at ../../Pogona_Pursuit/Arena/experiments/fast_cockroach_20200729T105342/trial1/videos/20200729-105345/19506468.avi\n"
     ]
    },
    {
     "data": {
      "application/vnd.jupyter.widget-view+json": {
       "model_id": "84a0ef26f93d41d1b9e5cff6f9aef68a",
       "version_major": 2,
       "version_minor": 0
      },
      "text/plain": [
       "HBox(children=(IntProgress(value=0, max=5080), HTML(value='')))"
      ]
     },
     "metadata": {},
     "output_type": "display_data"
    }
   ],
   "source": [
    "dataset.analyze_new_data(det)"
   ]
  },
  {
   "cell_type": "code",
   "execution_count": 7,
   "metadata": {
    "collapsed": true,
    "jupyter": {
     "outputs_hidden": true
    }
   },
   "outputs": [
    {
     "name": "stdout",
     "output_type": "stream",
     "text": [
      "found with brightness: 0, contrast: 3.0\n"
     ]
    },
    {
     "data": {
      "text/plain": [
       "<matplotlib.image.AxesImage at 0x7f032ab83390>"
      ]
     },
     "execution_count": 7,
     "metadata": {},
     "output_type": "execute_result"
    },
    {
     "data": {
      "image/png": "[encoded data removed]",
      "text/plain": [
       "<Figure size 720x1080 with 1 Axes>"
      ]
     },
     "metadata": {
      "needs_background": "light"
     },
     "output_type": "display_data"
    }
   ],
   "source": [
    "# problematic video (reflection is added to sticker):\n",
    "# \"../../Pogona_Pursuit/Arena/output/feeding3_20200902-122338/19506468.avi\"\n",
    "# \"../../Pogona_Pursuit/Arena/output/feeding3_20200902-122611/19506468.avi\"\n",
    "vcap = cv.VideoCapture(\"../../Pogona_Pursuit/Arena/output/feeding3_20200902-122338/19506468.avi\")\n",
    "h, h_im = dataset.get_homography_from_video(vcap, undist_alpha=0)\n",
    "#h, h_im = dataset.get_homography_from_video(vcap, undist_alpha=0.3, min_near_edge_size=20)\n",
    "plt.figure(figsize=(10,15))\n",
    "plt.imshow(h_im)\n",
    "#plt.imshow(calib.transform_image(h_im, h))"
   ]
  },
  {
   "cell_type": "markdown",
   "metadata": {},
   "source": [
    "## Analyze videos with custom undistortion alpha\n",
    "This was necessary when the markings were too close to the edge of the camera frame, but produced some bad results."
   ]
  },
  {
   "cell_type": "code",
   "execution_count": 96,
   "metadata": {},
   "outputs": [],
   "source": [
    "paths = [\n",
    "    \"../../Pogona_Pursuit/Arena/experiments/cockroach_20200907T152020/trial1/videos/20200907-152021\",\n",
    "    \"../../Pogona_Pursuit/Arena/experiments/cockroach_20200907T152020/trial2/videos/20200907-152653\",\n",
    "    \"../../Pogona_Pursuit/Arena/experiments/cockroach_20200907T152020/trial3/videos/20200907-153326\",\n",
    "    \"../../Pogona_Pursuit/Arena/experiments/cockroach_20200907T145302/trial1/videos/20200907-145302\",\n",
    "    \"../../Pogona_Pursuit/Arena/experiments/cockroach_20200907T145302/trial2/videos/20200907-145935\",\n",
    "    \"../../Pogona_Pursuit/Arena/experiments/cockroach_20200907T145302/trial3/videos/20200907-150607\",\n",
    "    \"../../Pogona_Pursuit/Arena/experiments/circle_20200907T145105/trial1/videos/20200907-145106\",\n",
    "]"
   ]
  },
  {
   "cell_type": "code",
   "execution_count": 105,
   "metadata": {
    "collapsed": true,
    "jupyter": {
     "outputs_hidden": true
    }
   },
   "outputs": [
    {
     "name": "stdout",
     "output_type": "stream",
     "text": [
      "../../Pogona_Pursuit/Arena/experiments/cockroach_20200907T152020/trial1/videos/20200907-152021\n",
      "Could not find homography: Could not find 2 far and 2 near square marks in the image.\n",
      "../../Pogona_Pursuit/Arena/experiments/cockroach_20200907T152020/trial2/videos/20200907-152653\n"
     ]
    },
    {
     "ename": "KeyboardInterrupt",
     "evalue": "",
     "output_type": "error",
     "traceback": [
      "\u001b[0;31m\u001b[0m",
      "\u001b[0;31mKeyboardInterrupt\u001b[0mTraceback (most recent call last)",
      "\u001b[0;32m<ipython-input-105-654e2d437735>\u001b[0m in \u001b[0;36m<module>\u001b[0;34m\u001b[0m\n\u001b[1;32m      3\u001b[0m     \u001b[0;31m#dataset.analyze_rt_data(path, det, undist_alpha=0.3, homography_args={\"min_near_edge_size\": 20})\u001b[0m\u001b[0;34m\u001b[0m\u001b[0;34m\u001b[0m\u001b[0m\n\u001b[1;32m      4\u001b[0m     \u001b[0;31m#dataset.save_homography_data(path)\u001b[0m\u001b[0;34m\u001b[0m\u001b[0;34m\u001b[0m\u001b[0m\n\u001b[0;32m----> 5\u001b[0;31m     \u001b[0mdataset\u001b[0m\u001b[0;34m.\u001b[0m\u001b[0msave_homography_data\u001b[0m\u001b[0;34m(\u001b[0m\u001b[0mpath\u001b[0m\u001b[0;34m,\u001b[0m \u001b[0mundist_alpha\u001b[0m\u001b[0;34m=\u001b[0m\u001b[0;36m0.3\u001b[0m\u001b[0;34m,\u001b[0m \u001b[0mhomography_args\u001b[0m\u001b[0;34m=\u001b[0m\u001b[0;34m{\u001b[0m\u001b[0;34m\"min_near_edge_size\"\u001b[0m\u001b[0;34m:\u001b[0m \u001b[0;36m20\u001b[0m\u001b[0;34m}\u001b[0m\u001b[0;34m)\u001b[0m\u001b[0;34m\u001b[0m\u001b[0m\n\u001b[0m",
      "\u001b[0;32m/app/Pogona_realtime/Arena/Prediction/dataset.py\u001b[0m in \u001b[0;36msave_homography_data\u001b[0;34m(path, undist_alpha, homography_args)\u001b[0m\n\u001b[1;32m    255\u001b[0m     \u001b[0mrt_data_path\u001b[0m \u001b[0;34m=\u001b[0m \u001b[0mos\u001b[0m\u001b[0;34m.\u001b[0m\u001b[0mpath\u001b[0m\u001b[0;34m.\u001b[0m\u001b[0mjoin\u001b[0m\u001b[0;34m(\u001b[0m\u001b[0mpath\u001b[0m\u001b[0;34m,\u001b[0m \u001b[0mRT_DATA_FOLDER\u001b[0m\u001b[0;34m)\u001b[0m\u001b[0;34m\u001b[0m\u001b[0m\n\u001b[1;32m    256\u001b[0m     \u001b[0mjson_fn\u001b[0m \u001b[0;34m=\u001b[0m \u001b[0mos\u001b[0m\u001b[0;34m.\u001b[0m\u001b[0mpath\u001b[0m\u001b[0;34m.\u001b[0m\u001b[0mjoin\u001b[0m\u001b[0;34m(\u001b[0m\u001b[0mrt_data_path\u001b[0m\u001b[0;34m,\u001b[0m \u001b[0mVID_STATS_FN\u001b[0m\u001b[0;34m)\u001b[0m\u001b[0;34m\u001b[0m\u001b[0m\n\u001b[0;32m--> 257\u001b[0;31m     \u001b[0mhomography_im_fn\u001b[0m \u001b[0;34m=\u001b[0m \u001b[0mos\u001b[0m\u001b[0;34m.\u001b[0m\u001b[0mpath\u001b[0m\u001b[0;34m.\u001b[0m\u001b[0mjoin\u001b[0m\u001b[0;34m(\u001b[0m\u001b[0mrt_data_path\u001b[0m\u001b[0;34m,\u001b[0m \u001b[0mHOMOGRAPHY_IM_FN\u001b[0m\u001b[0;34m)\u001b[0m\u001b[0;34m\u001b[0m\u001b[0m\n\u001b[0m\u001b[1;32m    258\u001b[0m \u001b[0;34m\u001b[0m\u001b[0m\n\u001b[1;32m    259\u001b[0m     homography, homography_im = get_homography_from_video(\n",
      "\u001b[0;32m/app/Pogona_realtime/Arena/Prediction/dataset.py\u001b[0m in \u001b[0;36mget_homography_from_video\u001b[0;34m(video_path, undist_alpha, max_test_frames, **homography_args)\u001b[0m\n\u001b[1;32m    143\u001b[0m             \u001b[0;32mfor\u001b[0m \u001b[0mbrightness\u001b[0m \u001b[0;32min\u001b[0m \u001b[0mnp\u001b[0m\u001b[0;34m.\u001b[0m\u001b[0marange\u001b[0m\u001b[0;34m(\u001b[0m\u001b[0;34m-\u001b[0m\u001b[0;36m40\u001b[0m\u001b[0;34m,\u001b[0m \u001b[0;36m20\u001b[0m\u001b[0;34m,\u001b[0m \u001b[0;36m5\u001b[0m\u001b[0;34m)\u001b[0m\u001b[0;34m:\u001b[0m\u001b[0;34m\u001b[0m\u001b[0m\n\u001b[1;32m    144\u001b[0m                 homography, homography_im, error = calib.find_arena_homography(\n\u001b[0;32m--> 145\u001b[0;31m                     \u001b[0mundistorted_img\u001b[0m\u001b[0;34m,\u001b[0m\u001b[0;34m\u001b[0m\u001b[0m\n\u001b[0m\u001b[1;32m    146\u001b[0m                     \u001b[0mcontrast\u001b[0m\u001b[0;34m=\u001b[0m\u001b[0mcontrast\u001b[0m\u001b[0;34m,\u001b[0m\u001b[0;34m\u001b[0m\u001b[0m\n\u001b[1;32m    147\u001b[0m                     \u001b[0mbrightness\u001b[0m\u001b[0;34m=\u001b[0m\u001b[0mbrightness\u001b[0m\u001b[0;34m,\u001b[0m\u001b[0;34m\u001b[0m\u001b[0m\n",
      "\u001b[0;32m/app/Pogona_realtime/Arena/Prediction/calibration.py\u001b[0m in \u001b[0;36mfind_arena_homography\u001b[0;34m(cal_img, screen_x_res, contrast, brightness, min_near_edge_size, min_far_edge_size, max_near_edge_size, max_far_edge_size, near_far_y_split, min_dist)\u001b[0m\n\u001b[1;32m    302\u001b[0m     \u001b[0mimg\u001b[0m \u001b[0;34m=\u001b[0m \u001b[0mcv\u001b[0m\u001b[0;34m.\u001b[0m\u001b[0mconvertScaleAbs\u001b[0m\u001b[0;34m(\u001b[0m\u001b[0mimg\u001b[0m\u001b[0;34m,\u001b[0m \u001b[0malpha\u001b[0m\u001b[0;34m=\u001b[0m\u001b[0mcontrast\u001b[0m\u001b[0;34m,\u001b[0m \u001b[0mbeta\u001b[0m\u001b[0;34m=\u001b[0m\u001b[0mbrightness\u001b[0m\u001b[0;34m)\u001b[0m\u001b[0;34m\u001b[0m\u001b[0m\n\u001b[1;32m    303\u001b[0m \u001b[0;34m\u001b[0m\u001b[0m\n\u001b[0;32m--> 304\u001b[0;31m     \u001b[0m_\u001b[0m\u001b[0;34m,\u001b[0m \u001b[0mthreshold\u001b[0m \u001b[0;34m=\u001b[0m \u001b[0mcv\u001b[0m\u001b[0;34m.\u001b[0m\u001b[0mthreshold\u001b[0m\u001b[0;34m(\u001b[0m\u001b[0mimg\u001b[0m\u001b[0;34m,\u001b[0m \u001b[0;36m128\u001b[0m\u001b[0;34m,\u001b[0m \u001b[0;36m255\u001b[0m\u001b[0;34m,\u001b[0m \u001b[0mcv\u001b[0m\u001b[0;34m.\u001b[0m\u001b[0mTHRESH_BINARY_INV\u001b[0m\u001b[0;34m)\u001b[0m\u001b[0;34m\u001b[0m\u001b[0m\n\u001b[0m\u001b[1;32m    305\u001b[0m     \u001b[0mcontours\u001b[0m\u001b[0;34m,\u001b[0m \u001b[0m_\u001b[0m \u001b[0;34m=\u001b[0m \u001b[0mcv\u001b[0m\u001b[0;34m.\u001b[0m\u001b[0mfindContours\u001b[0m\u001b[0;34m(\u001b[0m\u001b[0mthreshold\u001b[0m\u001b[0;34m,\u001b[0m \u001b[0mcv\u001b[0m\u001b[0;34m.\u001b[0m\u001b[0mRETR_TREE\u001b[0m\u001b[0;34m,\u001b[0m \u001b[0mcv\u001b[0m\u001b[0;34m.\u001b[0m\u001b[0mCHAIN_APPROX_SIMPLE\u001b[0m\u001b[0;34m)\u001b[0m\u001b[0;34m\u001b[0m\u001b[0m\n\u001b[1;32m    306\u001b[0m \u001b[0;34m\u001b[0m\u001b[0m\n",
      "\u001b[0;31mKeyboardInterrupt\u001b[0m: "
     ]
    }
   ],
   "source": [
    "for path in paths:\n",
    "    print(path)\n",
    "    #dataset.analyze_rt_data(path, det, undist_alpha=0.3, homography_args={\"min_near_edge_size\": 20})\n",
    "    #dataset.save_homography_data(path)\n",
    "    dataset.save_homography_data(path, undist_alpha=0.3, homography_args={\"min_near_edge_size\": 20})"
   ]
  },
  {
   "cell_type": "markdown",
   "metadata": {},
   "source": [
    "# Data collection into a pandas DataFrame"
   ]
  },
  {
   "cell_type": "code",
   "execution_count": 2,
   "metadata": {},
   "outputs": [
    {
     "name": "stdout",
     "output_type": "stream",
     "text": [
      "47 trials loaded\n"
     ]
    }
   ],
   "source": [
    "df = dataset.collect_data(data_sources={'detections': True, 'timestamps': True, 'dlc': False, 'touches': True})"
   ]
  },
  {
   "cell_type": "code",
   "execution_count": null,
   "metadata": {},
   "outputs": [],
   "source": [
    "df.head()"
   ]
  },
  {
   "cell_type": "code",
   "execution_count": 8,
   "metadata": {},
   "outputs": [],
   "source": [
    "feeding_data = df.filter(like='feeding',axis=0)"
   ]
  },
  {
   "cell_type": "code",
   "execution_count": 9,
   "metadata": {},
   "outputs": [
    {
     "data": {
      "text/plain": [
       "(-316.44971621769344,\n",
       " 2454.0077225712816,\n",
       " -210.37253190773956,\n",
       " 3411.8167634074675)"
      ]
     },
     "execution_count": 9,
     "metadata": {},
     "output_type": "execute_result"
    },
    {
     "data": {
      "image/png": "[encoded data removed]",
      "text/plain": [
       "<Figure size 648x1008 with 1 Axes>"
      ]
     },
     "metadata": {
      "needs_background": "light"
     },
     "output_type": "display_data"
    }
   ],
   "source": [
    "plt.figure(figsize=(9,14))\n",
    "feeding = df.index.str.contains('feeding') & ~df.index.str.contains('feeding3_20200902-142400_None')\n",
    "experi =  ~df.index.str.contains('feeding')\n",
    "#plt.scatter(df[~mask].x2, df[~mask].y2, color='g' ,alpha=0.02)\n",
    "plt.scatter(df[experi].cent_x, df[experi].cent_y, color='c' ,alpha=0.1,s=50,zorder=2)\n",
    "\n",
    "#plt.plot(df[mask].x2, df[mask].y2, color='k' ,alpha=0.6,zorder=0)\n",
    "\n",
    "#trial = np.random.choice(df.index.unique())\n",
    "#plt.plot(df.loc[trial].x2, df.loc[trial].y2, color='k' ,alpha=0.9,zorder=0)\n",
    "\n",
    "\n",
    "#sns.jointplot(df.x2, df.y2, kind='hex',)\n",
    "plt.plot(np.linspace(0,1920,num=10),np.zeros(10),color='r',linestyle='--')\n",
    "plt.axis('equal')"
   ]
  },
  {
   "cell_type": "markdown",
   "metadata": {},
   "source": [
    "# Aruco calibration"
   ]
  },
  {
   "cell_type": "code",
   "execution_count": 9,
   "metadata": {},
   "outputs": [],
   "source": [
    "aruco_paths = glob.glob(os.path.join(dataset.OUTPUT_ROOT,'aruco_test_final*'))\n",
    "rt_aruco_vids = [os.path.join(p,'19506468.avi') for p in aruco_paths]"
   ]
  },
  {
   "cell_type": "code",
   "execution_count": 53,
   "metadata": {},
   "outputs": [
    {
     "name": "stdout",
     "output_type": "stream",
     "text": [
      "aruco_test_final_20200909-175108\n"
     ]
    },
    {
     "data": {
      "application/vnd.jupyter.widget-view+json": {
       "model_id": "ecb43e556ba6415d853e4c736767599f",
       "version_major": 2,
       "version_minor": 0
      },
      "text/plain": [
       "HBox(children=(IntProgress(value=0, max=11), HTML(value='')))"
      ]
     },
     "metadata": {},
     "output_type": "display_data"
    },
    {
     "name": "stdout",
     "output_type": "stream",
     "text": [
      "\n"
     ]
    }
   ],
   "source": [
    "for aruco_vid in rt_aruco_vids:\n",
    "    fname = os.path.split(os.path.split(aruco_vid)[0])[1]\n",
    "    print(fname)\n",
    "    visualize.process_video(video_path=aruco_vid,\n",
    "                            output_path=None,\n",
    "                           process_fns=[visualize.video_sampler('../aruco_frames/',100,fname)])"
   ]
  },
  {
   "cell_type": "markdown",
   "metadata": {},
   "source": [
    "## Test the online prediction pipeline"
   ]
  },
  {
   "cell_type": "code",
   "execution_count": 3,
   "metadata": {},
   "outputs": [],
   "source": [
    "weights_path_encdec = 'Prediction/traj_models/model_20_20_h64_b64_l1_EncDec_6_best.pth'\n",
    "weights_path_lstmdense = 'Prediction/traj_models/model_20_20_h64_b128_l1_lstmDense_feeding_51_best.pth'\n",
    "traj_model_encdec = seq2seq_predict.GRUEncDec()\n",
    "traj_model_lstmdense = seq2seq_predict.LSTMdense(output_seq_size=20,hidden_size=64,LSTM_layers=1, embedding_size=16)\n",
    "history_len = 20\n",
    "forecast_horizon = 20\n",
    "\n",
    "traj_gru = seq2seq_predict.Seq2SeqPredictor(model=traj_model_encdec, \n",
    "                                            weights_path=weights_path_encdec,\n",
    "                                           history_len=history_len, forecast_horizon=forecast_horizon)\n",
    "\n",
    "traj_lstm = seq2seq_predict.Seq2SeqPredictor(model = traj_model_lstmdense,\n",
    "                                            weights_path=weights_path_lstmdense,\n",
    "                                            history_len=history_len,\n",
    "                                            forecast_horizon=forecast_horizon)"
   ]
  },
  {
   "cell_type": "code",
   "execution_count": 4,
   "metadata": {},
   "outputs": [],
   "source": [
    "hit_pred = predictor.HitPredictor(trajectory_predictor=traj_lstm,detector=det)"
   ]
  },
  {
   "cell_type": "code",
   "execution_count": 5,
   "metadata": {},
   "outputs": [],
   "source": [
    "mapping, _, newcammat = calib.get_undistort_mapping(1440,1080)"
   ]
  },
  {
   "cell_type": "code",
   "execution_count": 6,
   "metadata": {},
   "outputs": [],
   "source": [
    "aruco_img_paths = glob.glob(os.path.join('../aruco_frames','aruco_test_final*'))"
   ]
  },
  {
   "cell_type": "code",
   "execution_count": 30,
   "metadata": {},
   "outputs": [
    {
     "data": {
      "text/plain": [
       "<matplotlib.image.AxesImage at 0x7fd05a4a0748>"
      ]
     },
     "execution_count": 30,
     "metadata": {},
     "output_type": "execute_result"
    },
    {
     "data": {
      "image/png": "[encoded data removed]",
      "text/plain": [
       "<Figure size 432x288 with 1 Axes>"
      ]
     },
     "metadata": {
      "needs_background": "light"
     },
     "output_type": "display_data"
    }
   ],
   "source": [
    "# Creates a new homography file in Arena/calibration\n",
    "# NOT NECESSARY FOR OTHER TESTS\n",
    "img = cv.imread(aruco_img_paths[0])\n",
    "h, h_img, error = hit_pred.calibrate(img)\n",
    "plt.imshow(h_img)"
   ]
  },
  {
   "cell_type": "code",
   "execution_count": 512,
   "metadata": {},
   "outputs": [],
   "source": [
    "pog = cv.imread(\"../pogona_frames/pogona800.jpg\")"
   ]
  },
  {
   "cell_type": "code",
   "execution_count": 9,
   "metadata": {},
   "outputs": [
    {
     "name": "stdout",
     "output_type": "stream",
     "text": [
      "0: (None, None, None)\n",
      "1: (None, None, None)\n",
      "2: (None, None, None)\n",
      "3: (None, None, None)\n",
      "4: (None, None, None)\n",
      "5: (None, None, None)\n",
      "6: (None, None, None)\n",
      "7: (None, None, None)\n",
      "8: (None, None, None)\n",
      "9: (None, None, None)\n",
      "10: (None, None, None)\n",
      "11: (None, None, None)\n",
      "12: (None, None, None)\n",
      "13: (None, None, None)\n",
      "14: (None, None, None)\n",
      "15: (None, None, None)\n",
      "16: (None, None, None)\n",
      "17: (None, None, None)\n",
      "18: (None, None, None)\n",
      "19: (array([[3122.69373647, 3148.02713407, 3122.20493337, 3147.39071479],\n",
      "       [3122.76229161, 3147.97080788, 3122.43544183, 3147.27285536],\n",
      "       [3122.78917997, 3148.08124551, 3122.33247127, 3147.31574386],\n",
      "       [3122.62195282, 3148.05946001, 3122.21989298, 3147.19992201],\n",
      "       [3122.76374228, 3148.09654173, 3122.26252633, 3147.24496956],\n",
      "       [3122.68543736, 3148.08375768, 3122.30612003, 3147.18710007],\n",
      "       [3122.78892687, 3148.0980842 , 3122.34272609, 3147.25048886],\n",
      "       [3122.71301869, 3148.05018932, 3122.37566055, 3147.28909251],\n",
      "       [3122.82388754, 3148.03142003, 3122.27488773, 3147.23351356],\n",
      "       [3122.69523127, 3148.00202335, 3122.25322339, 3147.22826939],\n",
      "       [3122.7420197 , 3148.01847634, 3122.41993066, 3147.343739  ],\n",
      "       [3122.7000963 , 3148.04117541, 3122.31589579, 3147.2425059 ],\n",
      "       [3122.82020342, 3147.96997277, 3122.29294705, 3147.29395762],\n",
      "       [3122.7516952 , 3147.98387963, 3122.21088375, 3147.20738602],\n",
      "       [3122.67539297, 3147.99365604, 3122.33158638, 3147.30156017],\n",
      "       [3122.87042361, 3148.0739175 , 3122.20024479, 3147.35320339],\n",
      "       [3122.70864069, 3147.9868665 , 3122.14392024, 3147.39138336],\n",
      "       [3122.68160976, 3147.99341925, 3122.1485664 , 3147.38755831],\n",
      "       [3122.66081083, 3148.00024426, 3122.1341988 , 3147.435248  ],\n",
      "       [3122.71832271, 3148.02328456, 3122.18804669, 3147.35932228]]), None, None)\n"
     ]
    }
   ],
   "source": [
    "hit_pred.reset()\n",
    "for i in range(hit_pred.trajectory_predictor.forecast_horizon):\n",
    "    print(f\"{i}: {hit_pred.handle_frame(pog)}\")"
   ]
  },
  {
   "cell_type": "markdown",
   "metadata": {},
   "source": [
    "# Test HitPredictor with None detections\n",
    "currently, if there was a frame with no detections the trajectory predictor will return a nan array for as long as this frame is in the history window.\n",
    "\n",
    "We should probably change this to something smarter."
   ]
  },
  {
   "cell_type": "code",
   "execution_count": 28,
   "metadata": {},
   "outputs": [
    {
     "name": "stdout",
     "output_type": "stream",
     "text": [
      "0: (None, None, None), detection: None, history_len: 1\n",
      "1: (None, None, None), detection: [3122.64520503 3147.87613856 3122.25926891 3147.52489982], history_len: 2\n",
      "2: (None, None, None), detection: None, history_len: 3\n",
      "3: (None, None, None), detection: [3122.64520503 3147.87613856 3122.25926891 3147.52489982], history_len: 4\n",
      "4: (None, None, None), detection: [3122.64520503 3147.87613856 3122.25926891 3147.52489982], history_len: 5\n",
      "5: (None, None, None), detection: [3122.64520503 3147.87613856 3122.25926891 3147.52489982], history_len: 6\n",
      "6: (None, None, None), detection: [3122.64520503 3147.87613856 3122.25926891 3147.52489982], history_len: 7\n",
      "7: (None, None, None), detection: [3122.64520503 3147.87613856 3122.25926891 3147.52489982], history_len: 8\n",
      "8: (None, None, None), detection: None, history_len: 9\n",
      "9: (None, None, None), detection: [3122.64520503 3147.87613856 3122.25926891 3147.52489982], history_len: 10\n",
      "10: (None, None, None), detection: None, history_len: 11\n",
      "11: (None, None, None), detection: None, history_len: 12\n",
      "12: (None, None, None), detection: [3122.64520503 3147.87613856 3122.25926891 3147.52489982], history_len: 13\n",
      "13: (None, None, None), detection: [3122.64520503 3147.87613856 3122.25926891 3147.52489982], history_len: 14\n",
      "14: (None, None, None), detection: [3122.64520503 3147.87613856 3122.25926891 3147.52489982], history_len: 15\n",
      "15: (None, None, None), detection: [3122.64520503 3147.87613856 3122.25926891 3147.52489982], history_len: 16\n",
      "16: (None, None, None), detection: None, history_len: 17\n",
      "17: (None, None, None), detection: [3122.64520503 3147.87613856 3122.25926891 3147.52489982], history_len: 18\n",
      "18: (None, None, None), detection: [3122.64520503 3147.87613856 3122.25926891 3147.52489982], history_len: 19\n",
      "19: (array([[nan, nan, nan, nan],\n",
      "       [nan, nan, nan, nan],\n",
      "       [nan, nan, nan, nan],\n",
      "       [nan, nan, nan, nan],\n",
      "       [nan, nan, nan, nan],\n",
      "       [nan, nan, nan, nan],\n",
      "       [nan, nan, nan, nan],\n",
      "       [nan, nan, nan, nan],\n",
      "       [nan, nan, nan, nan],\n",
      "       [nan, nan, nan, nan],\n",
      "       [nan, nan, nan, nan],\n",
      "       [nan, nan, nan, nan],\n",
      "       [nan, nan, nan, nan],\n",
      "       [nan, nan, nan, nan],\n",
      "       [nan, nan, nan, nan],\n",
      "       [nan, nan, nan, nan],\n",
      "       [nan, nan, nan, nan],\n",
      "       [nan, nan, nan, nan],\n",
      "       [nan, nan, nan, nan],\n",
      "       [nan, nan, nan, nan]]), None, None), detection: [3122.64520503 3147.87613856 3122.25926891 3147.52489982], history_len: 20\n"
     ]
    }
   ],
   "source": [
    "hit_pred.reset()\n",
    "detection = hit_pred.detect_pogona_head(pog)\n",
    "for i in range(hit_pred.trajectory_predictor.forecast_horizon):\n",
    "    det = detection if random.random() > 0.3 else None\n",
    "    pred = hit_pred.handle_detection(det)\n",
    "    print(f\"{i}: {pred}, detection: {det}, history_len: {hit_pred.frame_num}\")"
   ]
  },
  {
   "cell_type": "markdown",
   "metadata": {},
   "source": [
    "## Test HitPredictor with offline data around hit"
   ]
  },
  {
   "cell_type": "markdown",
   "metadata": {},
   "source": [
    "**TODO**: work with actual hit trajectories"
   ]
  },
  {
   "cell_type": "code",
   "execution_count": 29,
   "metadata": {},
   "outputs": [
    {
     "data": {
      "text/plain": [
       "40"
      ]
     },
     "execution_count": 29,
     "metadata": {},
     "output_type": "execute_result"
    }
   ],
   "source": [
    "df_hits = df[df.hit]\n",
    "len(df_hits)"
   ]
  },
  {
   "cell_type": "code",
   "execution_count": 60,
   "metadata": {},
   "outputs": [
    {
     "data": {
      "text/plain": [
       "array([ 6.51758332e+01, -4.07620613e-02,  1.14869626e+03, -2.87025477e+01,\n",
       "        6.80194841e+01,  1.63921977e+01, -7.29470282e+00, -3.25651216e+01,\n",
       "       -4.16713824e+01, -7.98899904e+00,  5.70554538e+00, -1.42326247e+01,\n",
       "        6.61659971e+00,  8.35271669e+00, -6.27711638e+00,  8.71258571e+00,\n",
       "        8.88384712e+00,  6.95714429e+00,  1.93783809e+01,  6.02640772e+00,\n",
       "       -5.33735637e+01, -5.40618905e+01, -2.71960426e+01,  4.50226163e+01,\n",
       "       -2.54974718e+01, -3.61470292e+01,  5.44290646e+00,  2.38841003e+01,\n",
       "       -3.11376783e+01, -4.61410016e+01, -7.96339896e+00, -4.13322990e+00,\n",
       "       -4.15946079e+01,  5.45529999e+00,  1.17630754e+02,  3.82260420e+01,\n",
       "        3.43020806e+02, -8.77525925e+01,  2.30602582e+01,  2.52667315e+02])"
      ]
     },
     "execution_count": 60,
     "metadata": {},
     "output_type": "execute_result"
    }
   ],
   "source": [
    "hits = df_hits[['x1', 'y1', 'x2', 'y2']].values\n",
    "hits[:,3]"
   ]
  },
  {
   "cell_type": "code",
   "execution_count": 61,
   "metadata": {},
   "outputs": [],
   "source": [
    "hit_pred.reset()\n",
    "det = hits[1]\n",
    "for i in range(hit_pred.trajectory_predictor.forecast_horizon):\n",
    "    pred = hit_pred.handle_detection(det)\n",
    "forecast = pred[0]"
   ]
  },
  {
   "cell_type": "code",
   "execution_count": 69,
   "metadata": {},
   "outputs": [
    {
     "data": {
      "text/plain": [
       "array([[  48,  338, -217,    0],\n",
       "       [  48,  338, -217,    0],\n",
       "       [  49,  339, -217,    0],\n",
       "       [  48,  339, -217,    0],\n",
       "       [  49,  339, -217,    0],\n",
       "       [  48,  339, -217,    0],\n",
       "       [  49,  339, -217,    0],\n",
       "       [  48,  339, -217,    0],\n",
       "       [  49,  338, -217,    0],\n",
       "       [  48,  338, -217,    0],\n",
       "       [  48,  338, -217,    0],\n",
       "       [  48,  338, -217,    0],\n",
       "       [  49,  338, -217,    0],\n",
       "       [  48,  338, -217,    0],\n",
       "       [  48,  338, -217,    0],\n",
       "       [  49,  339, -217,    0],\n",
       "       [  48,  338, -217,    0],\n",
       "       [  48,  338, -217,    0],\n",
       "       [  48,  338, -217,    0],\n",
       "       [  48,  338, -217,    0]])"
      ]
     },
     "execution_count": 69,
     "metadata": {},
     "output_type": "execute_result"
    }
   ],
   "source": [
    "pred[0].astype(np.int)"
   ]
  },
  {
   "cell_type": "code",
   "execution_count": 71,
   "metadata": {},
   "outputs": [
    {
     "data": {
      "text/plain": [
       "(-84.16365967550364, 0)"
      ]
     },
     "execution_count": 71,
     "metadata": {},
     "output_type": "execute_result"
    }
   ],
   "source": [
    "pred[1:]"
   ]
  },
  {
   "cell_type": "code",
   "execution_count": 57,
   "metadata": {},
   "outputs": [
    {
     "data": {
      "text/plain": [
       "array([-16.82229961, -16.59179115, -16.69476171, -16.80734   ,\n",
       "       -16.76470664, -16.72111295, -16.68450689, -16.65157243,\n",
       "       -16.75234525, -16.77400959, -16.60730231, -16.71133719,\n",
       "       -16.73428593, -16.81634923, -16.6956466 , -16.82698819,\n",
       "       -16.88331274, -16.87866658, -16.89303418, -16.83918629])"
      ]
     },
     "execution_count": 57,
     "metadata": {},
     "output_type": "execute_result"
    }
   ],
   "source": [
    "forecast[:,2]"
   ]
  },
  {
   "cell_type": "code",
   "execution_count": 48,
   "metadata": {},
   "outputs": [],
   "source": [
    "def get_date_from_path(path):\n",
    "    date_rgx = r'\\d{8}-\\d{6}'\n",
    "    to_search = os.path.split(path)[-1]\n",
    "    date_str = re.findall(date_rgx, to_search)[-1]\n",
    "    print(date_str)\n",
    "    return pd.to_datetime(date_str)\n",
    "\n",
    "# Pogona_Pursuit/Arena/experiments/cockroach_20200907T152020/trial1/videos/20200907-152021\n",
    "# Pogona_Pursuit/Arena/output/aruco_test_final_20200909-175108\n",
    "def find_last_homography(path):\n",
    "    video_date = get_date_from_path(path)\n",
    "    calibration_paths = glob.glob(CALIBRATIONS_ROOT+'*')\n",
    "    calibration_dates = pd.Series([get_date_from_path(calib_path) for calib_path in calibration_paths])\n",
    "    tiled_video_date = pd.Series([video_date] * calibration_dates.shape[0])\n",
    "    date_diffs = tiled_video_date - calibration_dates\n",
    "    last_date = (date_diffs[date_diffs >= pd.Timedelta(0)]).argmin()\n",
    "    last_calib_path = calibration_paths[last_date]\n",
    "    \n",
    "    with open(last_calib_path, 'r') as fp:\n",
    "        homog_dict = json.load(fp)\n",
    "    \n",
    "    return np.array(homog_dict['homography'])"
   ]
  },
  {
   "cell_type": "code",
   "execution_count": 49,
   "metadata": {},
   "outputs": [],
   "source": [
    "path_exp = 'Pogona_Pursuit/Arena/experiments/cockroach_20200907T152020/trial1/videos/20200907-152021'\n",
    "path_out = 'Pogona_Pursuit/Arena/output/aruco_20200919-175108_20200909-175128_test_final_20200909-175108'\n",
    "calib_path1 = 'Pogona_Pursuit/Arena/calibration/homog_20200902-170900.json'\n",
    "calib_path2 = 'Pogona_Pursuit/Arena/calibration/homog_20200903-170901.json'\n",
    "calib_path3 = 'Pogona_Pursuit/Arena/calibration/homog_20200911-170901.json'"
   ]
  },
  {
   "cell_type": "code",
   "execution_count": 52,
   "metadata": {},
   "outputs": [
    {
     "name": "stdout",
     "output_type": "stream",
     "text": [
      "20200902-170900\n"
     ]
    },
    {
     "data": {
      "text/plain": [
       "Timestamp('2020-09-02 17:09:00')"
      ]
     },
     "execution_count": 52,
     "metadata": {},
     "output_type": "execute_result"
    }
   ],
   "source": [
    "get_date_from_path(calib_path1)"
   ]
  },
  {
   "cell_type": "code",
   "execution_count": 65,
   "metadata": {},
   "outputs": [],
   "source": [
    "temp = pd.DataFrame({'A':np.arange(5),'B':np.arange(5),'D':np.arange(5)})"
   ]
  },
  {
   "cell_type": "code",
   "execution_count": 66,
   "metadata": {},
   "outputs": [],
   "source": [
    "temp.insert(loc=len(temp.columns)-1,column='C',value=[True]*temp.shape[0])"
   ]
  },
  {
   "cell_type": "markdown",
   "metadata": {},
   "source": [
    "## Convolutional croppd head encoder tests"
   ]
  },
  {
   "cell_type": "code",
   "execution_count": 149,
   "metadata": {},
   "outputs": [
    {
     "data": {
      "text/plain": [
       "<module 'Prediction.seq2seq_predict' from '/app/Pogona_realtime/Arena/Prediction/seq2seq_predict.py'>"
      ]
     },
     "execution_count": 149,
     "metadata": {},
     "output_type": "execute_result"
    }
   ],
   "source": [
    "imp.reload(seq2seq_predict)"
   ]
  },
  {
   "cell_type": "code",
   "execution_count": 10,
   "metadata": {},
   "outputs": [],
   "source": [
    "c = seq2seq_predict.ConvEncoder(32,32,5,4,10)"
   ]
  },
  {
   "cell_type": "code",
   "execution_count": 6,
   "metadata": {},
   "outputs": [],
   "source": [
    "diffs = torch.rand(2,20,4)"
   ]
  },
  {
   "cell_type": "code",
   "execution_count": 7,
   "metadata": {},
   "outputs": [],
   "source": [
    "head_seq = torch.rand(2,20,32,32)"
   ]
  },
  {
   "cell_type": "code",
   "execution_count": 8,
   "metadata": {},
   "outputs": [],
   "source": [
    "head_input = head_seq.unsqueeze(2).reshape(-1, 1, head_seq.size(-2), head_seq.size(-1))"
   ]
  },
  {
   "cell_type": "code",
   "execution_count": 11,
   "metadata": {},
   "outputs": [],
   "source": [
    "head_embedding = c(head_input)"
   ]
  },
  {
   "cell_type": "code",
   "execution_count": 12,
   "metadata": {},
   "outputs": [],
   "source": [
    "head_embedding = head_embedding.reshape(2, 20, -1)"
   ]
  },
  {
   "cell_type": "code",
   "execution_count": 13,
   "metadata": {},
   "outputs": [
    {
     "data": {
      "text/plain": [
       "torch.Size([2, 20, 9])"
      ]
     },
     "execution_count": 13,
     "metadata": {},
     "output_type": "execute_result"
    }
   ],
   "source": [
    "torch.cat([diffs, head_embedding], dim=2).size()"
   ]
  },
  {
   "cell_type": "code",
   "execution_count": 14,
   "metadata": {},
   "outputs": [],
   "source": [
    "net = seq2seq_predict.GRUEncDecWithHead()"
   ]
  },
  {
   "cell_type": "code",
   "execution_count": 15,
   "metadata": {},
   "outputs": [
    {
     "data": {
      "text/plain": [
       "torch.Size([2, 20, 4])"
      ]
     },
     "execution_count": 15,
     "metadata": {},
     "output_type": "execute_result"
    }
   ],
   "source": [
    "net(diffs, head_seq).size()"
   ]
  },
  {
   "cell_type": "code",
   "execution_count": 16,
   "metadata": {},
   "outputs": [],
   "source": [
    "x = torch.rand(1,1,32,32)"
   ]
  },
  {
   "cell_type": "code",
   "execution_count": 18,
   "metadata": {},
   "outputs": [
    {
     "data": {
      "text/plain": [
       "torch.Size([1, 4, 30, 30])"
      ]
     },
     "execution_count": 18,
     "metadata": {},
     "output_type": "execute_result"
    }
   ],
   "source": [
    "net.head_embedder.conv1(x).size()"
   ]
  },
  {
   "cell_type": "markdown",
   "metadata": {},
   "source": [
    "## Cropped Head images dataset and dataloader"
   ]
  },
  {
   "cell_type": "markdown",
   "metadata": {},
   "source": [
    "Detections data pipeline:\n",
    "- detections.csv -> distortion and homography -> unified dataframe -> pytorch iterable dataset ->\n",
    "- split each trial to sequences in trial_to_samples (skips sequences with nan - original indexing breaks) ->\n",
    "- create train and test dataloaders, that returns shuffeled batches of sequences.\n",
    "\n",
    "Issues with cropped head files:\n",
    "- Memory issues: in contrast to detections data, not possible to load entire cropped heads data, from hundreds of trials, to memory.\n",
    "- Distorted and not transformed - we can pass on the distortion, but the homography is important. Maybe only rotate\n",
    "- Resizing and arranging in PyTorch tensors - possibly the easiest way.\n",
    "- None entries, aligining with detections indices.\n",
    "- Currently in a single pickle file, alternative is saving in different \n",
    "\n",
    "Options of arranging cropped head data and join on detections data: \n",
    "New dataset structure, options. currently, TrajectoriesData dataset has 3D tensors - (# sequence, # index in sequence, # xyxy): \n",
    "* __Images in memory__: It's possible to create a new dataset subclass, where it's passed X,Y and another 4d tensor, \"X_Images\". This tensor could be created by the trial_to_samples function. __Main problem: a single detection's image could be in at most 20 different sequences, thus duplicating the image in memory. Will probably get too heavy, even if the original data is in realtively reasonable size__\n",
    "* __Paths and alternative \\_\\_getitem\\_\\_ implementation__: each single sequence will have an array of paths for the images in that sequence, that will be returned by trial_to_samples. If X is a 3d tensor, then X_paths is a 2D tensor, each row containing either None or the path for the file. In each call to getitem, iterate over the paths and build a 3d tensor, an array of 2d images. Need to save in different files to work. It seems that's the way to do it... \"One way of handling this is to split the file into a bunch of smaller files each containing one line of the original, then maintain a list of the paths of these small files and in _getitem_ read the file corresponding to the specified index. _This is how people mostly work with image data, where they have a bunch of images located in a directory_\" from https://medium.com/swlh/how-to-use-pytorch-dataloaders-to-work-with-enormously-large-text-files-bbd672e955a0. Also here: https://pytorch.org/tutorials/beginner/data_loading_tutorial.html\n",
    "\n",
    "* Alternatively, we could create new files for each trial, seperate from the dataframe - that natively include both the detections data and the image data, thus making it easier to organize the indices.\n",
    "\n",
    "* __IterableDataset__: The defualt utils.dataset is a Map Dataset, which supports in memory structures with indexing (or some getitem implementation like the \"paths\" one). The IterableDataset is supposed to work with data streams (databases, remote servers, very large files, etc.). Doesn't seem to fit our case, becuase we need to \n",
    "\n"
   ]
  },
  {
   "cell_type": "markdown",
   "metadata": {},
   "source": [
    "__Required code changes for small amount of data (without reformatting entire data):__\n",
    "* Write function to trnasform a list of uneven images to a 3d tensor.\n",
    "* In trial_to_samples, accept a tensor of images of trial to jointly create a tuple of detections sequences tensor and image sequences tensor\n",
    "* In TrajectoriesDataset, add images sequences tensor, where getitem returns a sequence of images along with the detections.\n",
    "* In train_eval function, change to get image tensor and pass it to a network."
   ]
  },
  {
   "cell_type": "code",
   "execution_count": 36,
   "metadata": {},
   "outputs": [
    {
     "data": {
      "text/plain": [
       "<module 'Prediction.dataset' from '/app/Pogona_realtime/Arena/Prediction/dataset.py'>"
      ]
     },
     "execution_count": 36,
     "metadata": {},
     "output_type": "execute_result"
    }
   ],
   "source": [
    "imp.reload(train_eval)\n",
    "imp.reload(dataset)"
   ]
  },
  {
   "cell_type": "code",
   "execution_count": 37,
   "metadata": {},
   "outputs": [
    {
     "name": "stdout",
     "output_type": "stream",
     "text": [
      "46 trials loaded\n"
     ]
    }
   ],
   "source": [
    "df = dataset.collect_data(data_sources={'detections': True, 'timestamps': True, 'dlc': False, 'touches': True})"
   ]
  },
  {
   "cell_type": "code",
   "execution_count": 46,
   "metadata": {},
   "outputs": [],
   "source": [
    "all_paths = dataset.select_paths(data_sources={'detections': True, 'timestamps': True, 'dlc': False, 'touches': True})"
   ]
  },
  {
   "cell_type": "code",
   "execution_count": 39,
   "metadata": {},
   "outputs": [],
   "source": [
    "def get_rot_angle(homography):\n",
    "    return - math.atan2(homography[0,1], homography[0,0]) * 180 / math.pi\n",
    "\n",
    "def rotate_image(image, angle):\n",
    "    image_center = tuple(np.array(image.shape[1::-1]) / 2)\n",
    "    rot_mat = cv.getRotationMatrix2D(image_center, angle, 1.0)\n",
    "    result = cv.warpAffine(image, rot_mat, image.shape[1::-1], flags=cv.INTER_LANCZOS4)\n",
    "    return result"
   ]
  },
  {
   "cell_type": "code",
   "execution_count": 38,
   "metadata": {},
   "outputs": [],
   "source": [
    "def get_trial_data_with_heads_that_are_rotated(trial_tuple):\n",
    "    trial_p = glob.glob(os.path.split(all_paths[trial_tuple]['detections'])[0]+'/*.p')[0]\n",
    "\n",
    "    with open(all_paths[trial_tuple]['vid_stats'], 'r') as fp:\n",
    "        vid_stats = json.load(fp)\n",
    "    \n",
    "    if vid_stats['homography'] is None:\n",
    "        with open(dataset.DEFAULT_HOMOGRAPHY_JSON, 'r') as fp:\n",
    "            h = np.array(json.load(fp)['new_h'])\n",
    "    else:\n",
    "        h = np.array(vid_stats['homography']) \n",
    "    rot_angle = get_rot_angle(h)\n",
    "\n",
    "    with open(trial_p, 'rb') as fp:\n",
    "        head_list = pickle.load(fp)\n",
    "    \n",
    "    rotated_head_list = [rotate_image(255-im, rot_angle) if im is not None else None for im in head_list]\n",
    "    trial_df = df.loc[\"_\".join((trial_tuple[0], str(trial_tuple[1])))]\n",
    "    \n",
    "    return trial_df, rotated_head_list"
   ]
  },
  {
   "cell_type": "code",
   "execution_count": 40,
   "metadata": {},
   "outputs": [],
   "source": [
    "all_trials = df.index.unique()"
   ]
  },
  {
   "cell_type": "code",
   "execution_count": 41,
   "metadata": {},
   "outputs": [],
   "source": [
    "train, val, test = train_eval.create_train_val_test_splits(all_trials, [0.8, 0.2, 0])"
   ]
  },
  {
   "cell_type": "code",
   "execution_count": 42,
   "metadata": {},
   "outputs": [
    {
     "data": {
      "text/plain": [
       "(['circle_20200803T121730_trial1',\n",
       "  'worm_circle_20200830T122241_trial1',\n",
       "  'cockroach_line_20200830T115811_trial1',\n",
       "  'worm_line_20200830T122932_trial1',\n",
       "  'beetle_fast_line_20200830T124020_trial1',\n",
       "  'circle_20200803T092248_trial1',\n",
       "  'fast_cockroach_20200803T085738_trial1',\n",
       "  'circle_20200803T115839_trial1',\n",
       "  'circle_20200803T090234_trial1',\n",
       "  'line_20200803T095401_trial1',\n",
       "  'circle_20200803T084529_trial1',\n",
       "  'feeding_4_20200830-125905_None',\n",
       "  'feeding_4_20200830-122515_None',\n",
       "  'circle_20200803T113121_trial1',\n",
       "  'line_20200803T081735_trial1',\n",
       "  'red_beetle_20200826T133947_trial1',\n",
       "  'line_20200803T122506_trial1',\n",
       "  'feeding_5_20200830-131348_None',\n",
       "  'worm_line_20200830T120451_trial1',\n",
       "  'feeding_20200830-115520_None',\n",
       "  'worm_20200826T134603_trial1',\n",
       "  'worm_20200826T135440_trial1',\n",
       "  'worm_line_20200830T121825_trial1',\n",
       "  'circle_20200803T120911_trial1',\n",
       "  'circle_20200803T084529_trial2',\n",
       "  'circle_20200803T084227_trial2',\n",
       "  'line_20200803T101641_trial1',\n",
       "  'line_20200803T114942_trial1',\n",
       "  'circle_20200803T091639_trial1',\n",
       "  'line_20200803T082002_trial1',\n",
       "  'worm_line_20200830T121513_trial1',\n",
       "  'feeding_4_20200830-121143_None',\n",
       "  'feeding_20200830-120813_None',\n",
       "  'fast_line_20200803T082414_trial1',\n",
       "  'line_20200803T094928_trial1',\n",
       "  'feeding_4_screen_20200830-130446_None',\n",
       "  'fast_line_20200803T082724_trial1'],\n",
       " ['line_20200803T081429_trial1',\n",
       "  'circle_20200803T084227_trial1',\n",
       "  'feeding_4_20200830-125531_None',\n",
       "  'worm_20200826T135440_trial2',\n",
       "  'line_20200803T101641_trial2',\n",
       "  'cockroach_line_20200830T120130_trial1',\n",
       "  'cockroach_circle_20200830T123508_trial1',\n",
       "  'circle_20200803T093051_trial1',\n",
       "  'circle_20200803T090615_trial1'],\n",
       " [])"
      ]
     },
     "execution_count": 42,
     "metadata": {},
     "output_type": "execute_result"
    }
   ],
   "source": [
    "train, val, test"
   ]
  },
  {
   "cell_type": "code",
   "execution_count": 43,
   "metadata": {},
   "outputs": [],
   "source": [
    "import random"
   ]
  },
  {
   "cell_type": "code",
   "execution_count": 44,
   "metadata": {},
   "outputs": [],
   "source": [
    "def get_size(tensor):\n",
    "    return torch.prod(torch.tensor(tensor.size())).item()*4/(2**20)"
   ]
  },
  {
   "cell_type": "code",
   "execution_count": 904,
   "metadata": {},
   "outputs": [
    {
     "name": "stdout",
     "output_type": "stream",
     "text": [
      "test: 730.390625 , train: 1452.421875\n"
     ]
    }
   ],
   "source": [
    "print(f'test: {get_size(X_images_test)} , train: {get_size(X_images_train)}')"
   ]
  },
  {
   "cell_type": "code",
   "execution_count": 67,
   "metadata": {},
   "outputs": [
    {
     "name": "stdout",
     "output_type": "stream",
     "text": [
      "('line_20200803T082002', 'trial1')\n",
      "('worm_circle_20200830T122241', 'trial1')\n",
      "('line_20200803T122506', 'trial1')\n",
      "('circle_20200803T084529', 'trial1')\n",
      "('cockroach_circle_20200830T123508', 'trial1')\n",
      "('feeding_4_20200830-125531', None)\n"
     ]
    }
   ],
   "source": [
    "input_labels = ['x1', 'y1', 'x2', 'y2']\n",
    "output_labels = ['x1', 'y1', 'x2', 'y2']\n",
    "input_dim = len(input_labels)\n",
    "output_dim = len(output_labels)\n",
    "\n",
    "inp_seq_len = 20\n",
    "out_seq_len = 20\n",
    "embedding_size = 4  # only used in supporting models.\n",
    "hidden_size = 300\n",
    "rnn_layers = 1\n",
    "dropout = 0.2\n",
    "batch_size = 128\n",
    "\n",
    "# train, test\n",
    "len_list = [4,2]\n",
    "\n",
    "X_coords_list = [[],[]]\n",
    "\n",
    "X_images_list = [[],[]]\n",
    "\n",
    "Y_list = [[],[]]\n",
    "\n",
    "for i, trials in enumerate([train, val]):\n",
    "    random.shuffle(trials)\n",
    "    for trial in trials[:len_list[i]]:\n",
    "        spl = trial.split('_')\n",
    "        if spl[-1] == 'None':\n",
    "            spl[-1] = None\n",
    "        trial_tup = ('_'.join(spl[:-1]), spl[-1])\n",
    "        print(trial_tup)\n",
    "        df_trial, heads = get_trial_data_with_heads_that_are_rotated(trial_tup)\n",
    "\n",
    "        (X_coords, X_images), Y = train_eval.trial_to_samples(df_trial, input_labels, output_labels, inp_seq_len, out_seq_len, 5, input_images=heads)\n",
    "        X_coords_list[i].append(X_coords)\n",
    "        X_images_list[i].append(X_images.float())\n",
    "        Y_list[i].append(Y)       \n",
    "\n",
    "        \n",
    "X_coords_train = torch.cat(X_coords_list[0])\n",
    "X_coords_test = torch.cat(X_coords_list[1])\n",
    "X_images_train = torch.cat(X_images_list[0])\n",
    "X_images_test = torch.cat(X_images_list[1])\n",
    "Y_train = torch.cat(Y_list[0])\n",
    "Y_test = torch.cat(Y_list[1])\n",
    "\n",
    "dataset_train_wh = train_eval.TrajectoriesDataWithHeads(X_coords_train, X_images_train, Y_train)\n",
    "dataset_test_wh = train_eval.TrajectoriesDataWithHeads(X_coords_test, X_images_test, Y_test)\n",
    "dataset_train = train_eval.TrajectoriesData(X_coords_train, Y_train)\n",
    "dataset_test = train_eval.TrajectoriesData(X_coords_test, Y_test)\n",
    "\n",
    "\n",
    "dl_train_wh = torch.utils.data.DataLoader(dataset_train_wh, batch_size=batch_size, shuffle=True, num_workers=0)\n",
    "dl_train = torch.utils.data.DataLoader(dataset_train, batch_size=batch_size, shuffle=True, num_workers=0)\n",
    "dl_test_wh = torch.utils.data.DataLoader(dataset_test_wh, batch_size=batch_size, shuffle=True, num_workers=0)\n",
    "dl_test = torch.utils.data.DataLoader(dataset_test, batch_size=batch_size, shuffle=True, num_workers=0)"
   ]
  },
  {
   "cell_type": "code",
   "execution_count": 80,
   "metadata": {},
   "outputs": [],
   "source": [
    "net_wh = seq2seq_predict.GRUEncDecWithHead(output_seq_size=out_seq_len, hidden_size=hidden_size, GRU_layers=rnn_layers,\n",
    "                                       dropout=dropout,head_embedder=seq2seq_predict.ConvEncoder(32, 32, 32, 2, 5))"
   ]
  },
  {
   "cell_type": "code",
   "execution_count": 81,
   "metadata": {},
   "outputs": [
    {
     "name": "stdout",
     "output_type": "stream",
     "text": [
      "### Eval epoch: 0, Test set mean ADE: 94.995, mean FDE: 199.323\n",
      "Epoch: 0, avg loss: 41.631, epoch time: 1.424\n",
      "### Eval epoch: 5, Test set mean ADE: 48.643, mean FDE: 88.435\n",
      "Epoch: 5, avg loss: 13.848, epoch time: 1.418\n",
      "### Eval epoch: 10, Test set mean ADE: 48.237, mean FDE: 88.262\n",
      "Epoch: 10, avg loss: 13.047, epoch time: 1.449\n",
      "### Eval epoch: 15, Test set mean ADE: 47.481, mean FDE: 86.605\n",
      "Epoch: 15, avg loss: 12.676, epoch time: 1.445\n",
      "### Eval epoch: 20, Test set mean ADE: 48.128, mean FDE: 87.354\n",
      "Epoch: 20, avg loss: 12.304, epoch time: 1.432\n",
      "### Eval epoch: 25, Test set mean ADE: 48.951, mean FDE: 88.737\n",
      "Epoch: 25, avg loss: 11.990, epoch time: 1.433\n",
      "### Eval epoch: 30, Test set mean ADE: 49.572, mean FDE: 89.774\n",
      "Epoch: 30, avg loss: 11.673, epoch time: 1.460\n",
      "### Eval epoch: 35, Test set mean ADE: 50.297, mean FDE: 91.230\n",
      "Epoch: 35, avg loss: 11.366, epoch time: 1.437\n",
      "### Eval epoch: 40, Test set mean ADE: 51.862, mean FDE: 94.242\n",
      "Epoch: 40, avg loss: 11.252, epoch time: 1.430\n",
      "### Eval epoch: 45, Test set mean ADE: 52.220, mean FDE: 94.848\n",
      "Epoch: 45, avg loss: 11.089, epoch time: 1.439\n",
      "### Eval epoch: 50, Test set mean ADE: 52.973, mean FDE: 96.434\n"
     ]
    },
    {
     "ename": "KeyboardInterrupt",
     "evalue": "",
     "output_type": "error",
     "traceback": [
      "\u001b[0;31m\u001b[0m",
      "\u001b[0;31mKeyboardInterrupt\u001b[0mTraceback (most recent call last)",
      "\u001b[0;32m<ipython-input-81-5e0701966ab6>\u001b[0m in \u001b[0;36m<module>\u001b[0;34m\u001b[0m\n\u001b[1;32m     20\u001b[0m                                                                              \u001b[0mmodel_name\u001b[0m\u001b[0;34m=\u001b[0m\u001b[0mmodel_name\u001b[0m\u001b[0;34m,\u001b[0m\u001b[0;34m\u001b[0m\u001b[0;34m\u001b[0m\u001b[0m\n\u001b[1;32m     21\u001b[0m                                                                              \u001b[0msave_each_eval_model\u001b[0m\u001b[0;34m=\u001b[0m\u001b[0msave_each_eval_model\u001b[0m\u001b[0;34m,\u001b[0m\u001b[0;34m\u001b[0m\u001b[0;34m\u001b[0m\u001b[0m\n\u001b[0;32m---> 22\u001b[0;31m                                                                              lr=lr)\n\u001b[0m",
      "\u001b[0;32m/app/Pogona_realtime/Arena/Prediction/train_eval.py\u001b[0m in \u001b[0;36mtrain_trajectory_model\u001b[0;34m(model, train_dataloader, test_dataloader, epochs, path, lr, optimizer, clip_grad_norm, eval_freq, epoch_print_freq, model_name, save_each_eval_model)\u001b[0m\n\u001b[1;32m    345\u001b[0m             \u001b[0mloss\u001b[0m \u001b[0;34m=\u001b[0m \u001b[0mcalc_ADE\u001b[0m\u001b[0;34m(\u001b[0m\u001b[0moutput\u001b[0m\u001b[0;34m,\u001b[0m \u001b[0my\u001b[0m\u001b[0;34m)\u001b[0m  \u001b[0;31m# + calc_FDE(output, y)\u001b[0m\u001b[0;34m\u001b[0m\u001b[0;34m\u001b[0m\u001b[0m\n\u001b[1;32m    346\u001b[0m \u001b[0;34m\u001b[0m\u001b[0m\n\u001b[0;32m--> 347\u001b[0;31m             \u001b[0mloss\u001b[0m\u001b[0;34m.\u001b[0m\u001b[0mbackward\u001b[0m\u001b[0;34m(\u001b[0m\u001b[0;34m)\u001b[0m\u001b[0;34m\u001b[0m\u001b[0;34m\u001b[0m\u001b[0m\n\u001b[0m\u001b[1;32m    348\u001b[0m \u001b[0;34m\u001b[0m\u001b[0m\n\u001b[1;32m    349\u001b[0m             \u001b[0;32mif\u001b[0m \u001b[0mclip_grad_norm\u001b[0m \u001b[0;32mis\u001b[0m \u001b[0;32mnot\u001b[0m \u001b[0;32mNone\u001b[0m\u001b[0;34m:\u001b[0m\u001b[0;34m\u001b[0m\u001b[0;34m\u001b[0m\u001b[0m\n",
      "\u001b[0;32m~/miniconda/envs/py37/lib/python3.7/site-packages/torch/tensor.py\u001b[0m in \u001b[0;36mbackward\u001b[0;34m(self, gradient, retain_graph, create_graph)\u001b[0m\n\u001b[1;32m    183\u001b[0m                 \u001b[0mproducts\u001b[0m\u001b[0;34m.\u001b[0m \u001b[0mDefaults\u001b[0m \u001b[0mto\u001b[0m\u001b[0;31m \u001b[0m\u001b[0;31m`\u001b[0m\u001b[0;31m`\u001b[0m\u001b[0;32mFalse\u001b[0m\u001b[0;31m`\u001b[0m\u001b[0;31m`\u001b[0m\u001b[0;34m.\u001b[0m\u001b[0;34m\u001b[0m\u001b[0;34m\u001b[0m\u001b[0m\n\u001b[1;32m    184\u001b[0m         \"\"\"\n\u001b[0;32m--> 185\u001b[0;31m         \u001b[0mtorch\u001b[0m\u001b[0;34m.\u001b[0m\u001b[0mautograd\u001b[0m\u001b[0;34m.\u001b[0m\u001b[0mbackward\u001b[0m\u001b[0;34m(\u001b[0m\u001b[0mself\u001b[0m\u001b[0;34m,\u001b[0m \u001b[0mgradient\u001b[0m\u001b[0;34m,\u001b[0m \u001b[0mretain_graph\u001b[0m\u001b[0;34m,\u001b[0m \u001b[0mcreate_graph\u001b[0m\u001b[0;34m)\u001b[0m\u001b[0;34m\u001b[0m\u001b[0;34m\u001b[0m\u001b[0m\n\u001b[0m\u001b[1;32m    186\u001b[0m \u001b[0;34m\u001b[0m\u001b[0m\n\u001b[1;32m    187\u001b[0m     \u001b[0;32mdef\u001b[0m \u001b[0mregister_hook\u001b[0m\u001b[0;34m(\u001b[0m\u001b[0mself\u001b[0m\u001b[0;34m,\u001b[0m \u001b[0mhook\u001b[0m\u001b[0;34m)\u001b[0m\u001b[0;34m:\u001b[0m\u001b[0;34m\u001b[0m\u001b[0;34m\u001b[0m\u001b[0m\n",
      "\u001b[0;32m~/miniconda/envs/py37/lib/python3.7/site-packages/torch/autograd/__init__.py\u001b[0m in \u001b[0;36mbackward\u001b[0;34m(tensors, grad_tensors, retain_graph, create_graph, grad_variables)\u001b[0m\n\u001b[1;32m    125\u001b[0m     Variable._execution_engine.run_backward(\n\u001b[1;32m    126\u001b[0m         \u001b[0mtensors\u001b[0m\u001b[0;34m,\u001b[0m \u001b[0mgrad_tensors\u001b[0m\u001b[0;34m,\u001b[0m \u001b[0mretain_graph\u001b[0m\u001b[0;34m,\u001b[0m \u001b[0mcreate_graph\u001b[0m\u001b[0;34m,\u001b[0m\u001b[0;34m\u001b[0m\u001b[0;34m\u001b[0m\u001b[0m\n\u001b[0;32m--> 127\u001b[0;31m         allow_unreachable=True)  # allow_unreachable flag\n\u001b[0m\u001b[1;32m    128\u001b[0m \u001b[0;34m\u001b[0m\u001b[0m\n\u001b[1;32m    129\u001b[0m \u001b[0;34m\u001b[0m\u001b[0m\n",
      "\u001b[0;31mKeyboardInterrupt\u001b[0m: "
     ]
    }
   ],
   "source": [
    "model_type = \"GRUEncDecWithHead\"\n",
    "date = datetime.now().strftime('%m%d-%H%M')\n",
    "model_name=f\"{model_type}_{date}_i{inp_seq_len}_o{out_seq_len}_h{hidden_size}_b{batch_size}_l{rnn_layers}\"\n",
    "\n",
    "clip_grad_norm = 1.5\n",
    "lr = 0.0001\n",
    "epochs = 100\n",
    "eval_freq = 5\n",
    "epoch_print_freq = 5\n",
    "save_each_eval_model = False\n",
    "\n",
    "best_epoch, best_ADE, losses, ADEs, FDEs = train_eval.train_trajectory_model(model=net_wh, \n",
    "                                                                             train_dataloader=dl_train_wh,\n",
    "                                                                             test_dataloader=dl_test_wh,\n",
    "                                                                             epochs=epochs,\n",
    "                                                                             path='Prediction/traj_models/',\n",
    "                                                                             clip_grad_norm=clip_grad_norm,\n",
    "                                                                             eval_freq=eval_freq,\n",
    "                                                                             epoch_print_freq=epoch_print_freq,\n",
    "                                                                             model_name=model_name,\n",
    "                                                                             save_each_eval_model=save_each_eval_model,\n",
    "                                                                             lr=lr)"
   ]
  },
  {
   "cell_type": "code",
   "execution_count": 841,
   "metadata": {},
   "outputs": [
    {
     "data": {
      "text/plain": [
       "['circle_20200803T120911_trial1',\n",
       " 'feeding_4_20200830-125905_None',\n",
       " 'line_20200803T101641_trial1',\n",
       " 'beetle_fast_line_20200830T124020_trial1',\n",
       " 'line_20200803T095401_trial1',\n",
       " 'feeding_20200830-120813_None',\n",
       " 'circle_20200803T092248_trial1',\n",
       " 'worm_circle_20200830T122241_trial1',\n",
       " 'feeding_5_20200830-131916_None']"
      ]
     },
     "execution_count": 841,
     "metadata": {},
     "output_type": "execute_result"
    }
   ],
   "source": [
    "val"
   ]
  },
  {
   "cell_type": "code",
   "execution_count": 839,
   "metadata": {},
   "outputs": [
    {
     "data": {
      "text/plain": [
       "<matplotlib.legend.Legend at 0x7fae9022c450>"
      ]
     },
     "execution_count": 839,
     "metadata": {},
     "output_type": "execute_result"
    },
    {
     "data": {
      "image/png": "[encoded data removed]",
      "text/plain": [
       "<Figure size 432x288 with 1 Axes>"
      ]
     },
     "metadata": {
      "needs_background": "light"
     },
     "output_type": "display_data"
    }
   ],
   "source": [
    "plt.plot([loss for i, loss in enumerate(losses) if i%5==0], label='loss_wh')\n",
    "plt.plot(list(ADEs.values()), label='ADEs_wh')\n",
    "plt.plot(list(FDEs.values()), label='FDEs_wh')\n",
    "plt.legend()"
   ]
  },
  {
   "cell_type": "code",
   "execution_count": 79,
   "metadata": {},
   "outputs": [
    {
     "name": "stdout",
     "output_type": "stream",
     "text": [
      "### Eval epoch: 0, Test set mean ADE: 92.086, mean FDE: 188.239\n",
      "Epoch: 0, avg loss: 40.548, epoch time: 1.148\n",
      "### Eval epoch: 5, Test set mean ADE: 48.480, mean FDE: 88.127\n",
      "Epoch: 5, avg loss: 13.807, epoch time: 1.126\n",
      "### Eval epoch: 10, Test set mean ADE: 48.370, mean FDE: 88.175\n",
      "Epoch: 10, avg loss: 13.022, epoch time: 1.111\n",
      "### Eval epoch: 15, Test set mean ADE: 47.835, mean FDE: 87.268\n",
      "Epoch: 15, avg loss: 12.611, epoch time: 1.161\n",
      "### Eval epoch: 20, Test set mean ADE: 47.772, mean FDE: 86.815\n",
      "Epoch: 20, avg loss: 12.403, epoch time: 1.116\n",
      "### Eval epoch: 25, Test set mean ADE: 47.653, mean FDE: 86.576\n",
      "Epoch: 25, avg loss: 12.160, epoch time: 1.153\n",
      "### Eval epoch: 30, Test set mean ADE: 47.774, mean FDE: 86.544\n",
      "Epoch: 30, avg loss: 12.011, epoch time: 1.127\n",
      "### Eval epoch: 35, Test set mean ADE: 48.537, mean FDE: 87.640\n",
      "Epoch: 35, avg loss: 11.828, epoch time: 1.117\n",
      "### Eval epoch: 40, Test set mean ADE: 48.493, mean FDE: 87.467\n",
      "Epoch: 40, avg loss: 11.696, epoch time: 1.136\n",
      "### Eval epoch: 45, Test set mean ADE: 48.776, mean FDE: 87.759\n",
      "Epoch: 45, avg loss: 11.565, epoch time: 1.115\n",
      "### Eval epoch: 50, Test set mean ADE: 49.105, mean FDE: 88.423\n",
      "Epoch: 50, avg loss: 11.430, epoch time: 1.167\n",
      "### Eval epoch: 55, Test set mean ADE: 49.460, mean FDE: 88.866\n",
      "Epoch: 55, avg loss: 11.300, epoch time: 1.116\n",
      "### Eval epoch: 60, Test set mean ADE: 49.724, mean FDE: 89.272\n",
      "Epoch: 60, avg loss: 11.173, epoch time: 1.102\n"
     ]
    },
    {
     "ename": "KeyboardInterrupt",
     "evalue": "",
     "output_type": "error",
     "traceback": [
      "\u001b[0;31m\u001b[0m",
      "\u001b[0;31mKeyboardInterrupt\u001b[0mTraceback (most recent call last)",
      "\u001b[0;32m<ipython-input-79-d32923e1cf74>\u001b[0m in \u001b[0;36m<module>\u001b[0;34m\u001b[0m\n\u001b[1;32m     23\u001b[0m                                                                              \u001b[0mmodel_name\u001b[0m\u001b[0;34m=\u001b[0m\u001b[0mmodel_name\u001b[0m\u001b[0;34m,\u001b[0m\u001b[0;34m\u001b[0m\u001b[0;34m\u001b[0m\u001b[0m\n\u001b[1;32m     24\u001b[0m                                                                              \u001b[0msave_each_eval_model\u001b[0m\u001b[0;34m=\u001b[0m\u001b[0msave_each_eval_model\u001b[0m\u001b[0;34m,\u001b[0m\u001b[0;34m\u001b[0m\u001b[0;34m\u001b[0m\u001b[0m\n\u001b[0;32m---> 25\u001b[0;31m                                                                              lr=lr)\n\u001b[0m",
      "\u001b[0;32m/app/Pogona_realtime/Arena/Prediction/train_eval.py\u001b[0m in \u001b[0;36mtrain_trajectory_model\u001b[0;34m(model, train_dataloader, test_dataloader, epochs, path, lr, optimizer, clip_grad_norm, eval_freq, epoch_print_freq, model_name, save_each_eval_model)\u001b[0m\n\u001b[1;32m    345\u001b[0m             \u001b[0mloss\u001b[0m \u001b[0;34m=\u001b[0m \u001b[0mcalc_ADE\u001b[0m\u001b[0;34m(\u001b[0m\u001b[0moutput\u001b[0m\u001b[0;34m,\u001b[0m \u001b[0my\u001b[0m\u001b[0;34m)\u001b[0m  \u001b[0;31m# + calc_FDE(output, y)\u001b[0m\u001b[0;34m\u001b[0m\u001b[0;34m\u001b[0m\u001b[0m\n\u001b[1;32m    346\u001b[0m \u001b[0;34m\u001b[0m\u001b[0m\n\u001b[0;32m--> 347\u001b[0;31m             \u001b[0mloss\u001b[0m\u001b[0;34m.\u001b[0m\u001b[0mbackward\u001b[0m\u001b[0;34m(\u001b[0m\u001b[0;34m)\u001b[0m\u001b[0;34m\u001b[0m\u001b[0;34m\u001b[0m\u001b[0m\n\u001b[0m\u001b[1;32m    348\u001b[0m \u001b[0;34m\u001b[0m\u001b[0m\n\u001b[1;32m    349\u001b[0m             \u001b[0;32mif\u001b[0m \u001b[0mclip_grad_norm\u001b[0m \u001b[0;32mis\u001b[0m \u001b[0;32mnot\u001b[0m \u001b[0;32mNone\u001b[0m\u001b[0;34m:\u001b[0m\u001b[0;34m\u001b[0m\u001b[0;34m\u001b[0m\u001b[0m\n",
      "\u001b[0;32m~/miniconda/envs/py37/lib/python3.7/site-packages/torch/tensor.py\u001b[0m in \u001b[0;36mbackward\u001b[0;34m(self, gradient, retain_graph, create_graph)\u001b[0m\n\u001b[1;32m    183\u001b[0m                 \u001b[0mproducts\u001b[0m\u001b[0;34m.\u001b[0m \u001b[0mDefaults\u001b[0m \u001b[0mto\u001b[0m\u001b[0;31m \u001b[0m\u001b[0;31m`\u001b[0m\u001b[0;31m`\u001b[0m\u001b[0;32mFalse\u001b[0m\u001b[0;31m`\u001b[0m\u001b[0;31m`\u001b[0m\u001b[0;34m.\u001b[0m\u001b[0;34m\u001b[0m\u001b[0;34m\u001b[0m\u001b[0m\n\u001b[1;32m    184\u001b[0m         \"\"\"\n\u001b[0;32m--> 185\u001b[0;31m         \u001b[0mtorch\u001b[0m\u001b[0;34m.\u001b[0m\u001b[0mautograd\u001b[0m\u001b[0;34m.\u001b[0m\u001b[0mbackward\u001b[0m\u001b[0;34m(\u001b[0m\u001b[0mself\u001b[0m\u001b[0;34m,\u001b[0m \u001b[0mgradient\u001b[0m\u001b[0;34m,\u001b[0m \u001b[0mretain_graph\u001b[0m\u001b[0;34m,\u001b[0m \u001b[0mcreate_graph\u001b[0m\u001b[0;34m)\u001b[0m\u001b[0;34m\u001b[0m\u001b[0;34m\u001b[0m\u001b[0m\n\u001b[0m\u001b[1;32m    186\u001b[0m \u001b[0;34m\u001b[0m\u001b[0m\n\u001b[1;32m    187\u001b[0m     \u001b[0;32mdef\u001b[0m \u001b[0mregister_hook\u001b[0m\u001b[0;34m(\u001b[0m\u001b[0mself\u001b[0m\u001b[0;34m,\u001b[0m \u001b[0mhook\u001b[0m\u001b[0;34m)\u001b[0m\u001b[0;34m:\u001b[0m\u001b[0;34m\u001b[0m\u001b[0;34m\u001b[0m\u001b[0m\n",
      "\u001b[0;32m~/miniconda/envs/py37/lib/python3.7/site-packages/torch/autograd/__init__.py\u001b[0m in \u001b[0;36mbackward\u001b[0;34m(tensors, grad_tensors, retain_graph, create_graph, grad_variables)\u001b[0m\n\u001b[1;32m    125\u001b[0m     Variable._execution_engine.run_backward(\n\u001b[1;32m    126\u001b[0m         \u001b[0mtensors\u001b[0m\u001b[0;34m,\u001b[0m \u001b[0mgrad_tensors\u001b[0m\u001b[0;34m,\u001b[0m \u001b[0mretain_graph\u001b[0m\u001b[0;34m,\u001b[0m \u001b[0mcreate_graph\u001b[0m\u001b[0;34m,\u001b[0m\u001b[0;34m\u001b[0m\u001b[0;34m\u001b[0m\u001b[0m\n\u001b[0;32m--> 127\u001b[0;31m         allow_unreachable=True)  # allow_unreachable flag\n\u001b[0m\u001b[1;32m    128\u001b[0m \u001b[0;34m\u001b[0m\u001b[0m\n\u001b[1;32m    129\u001b[0m \u001b[0;34m\u001b[0m\u001b[0m\n",
      "\u001b[0;31mKeyboardInterrupt\u001b[0m: "
     ]
    }
   ],
   "source": [
    "net = seq2seq_predict.GRUEncDec(output_seq_size=out_seq_len, hidden_size=hidden_size, GRU_layers=rnn_layers,\n",
    "                                       dropout=dropout)\n",
    "\n",
    "model_type = \"GRUEncDec\"\n",
    "date = datetime.now().strftime('%m%d-%H%M')\n",
    "model_name=f\"{model_type}_{date}_i{inp_seq_len}_o{out_seq_len}_h{hidden_size}_b{batch_size}_l{rnn_layers}\"\n",
    "\n",
    "#clip_grad_norm = 1.5\n",
    "#lr = 0.001\n",
    "#epochs = 51\n",
    "#eval_freq = 5\n",
    "#epoch_print_freq = 5\n",
    "#save_each_eval_model = False\n",
    "\n",
    "best_epoch, best_ADE, losses2, ADEs2, FDEs2 = train_eval.train_trajectory_model(model=net, \n",
    "                                                                             train_dataloader=dl_train,\n",
    "                                                                             test_dataloader=dl_test,\n",
    "                                                                             epochs=epochs,\n",
    "                                                                             path='Prediction/traj_models/',\n",
    "                                                                             clip_grad_norm=clip_grad_norm,\n",
    "                                                                             eval_freq=eval_freq,\n",
    "                                                                             epoch_print_freq=epoch_print_freq,\n",
    "                                                                             model_name=model_name,\n",
    "                                                                             save_each_eval_model=save_each_eval_model,\n",
    "                                                                             lr=lr)\n"
   ]
  },
  {
   "cell_type": "code",
   "execution_count": 49,
   "metadata": {},
   "outputs": [],
   "source": [
    "im_test = X_images_test[np.random.randint(X_images_test.shape[0]),np.random.randint(X_images_test.shape[1])]"
   ]
  },
  {
   "cell_type": "code",
   "execution_count": 50,
   "metadata": {},
   "outputs": [
    {
     "data": {
      "text/plain": [
       "<matplotlib.image.AxesImage at 0x7fba4e5a08d0>"
      ]
     },
     "execution_count": 50,
     "metadata": {},
     "output_type": "execute_result"
    },
    {
     "data": {
      "image/png": "[encoded data removed]",
      "text/plain": [
       "<Figure size 432x288 with 1 Axes>"
      ]
     },
     "metadata": {
      "needs_background": "light"
     },
     "output_type": "display_data"
    }
   ],
   "source": [
    "plt.imshow(im_test.numpy(),cmap='Greys_r')"
   ]
  },
  {
   "cell_type": "code",
   "execution_count": 51,
   "metadata": {},
   "outputs": [
    {
     "data": {
      "text/plain": [
       "GRUEncDecWithHead(\n",
       "  (dropout_layer): Dropout(p=0.2, inplace=False)\n",
       "  (encoderGRU): GRU(6, 300, batch_first=True)\n",
       "  (decoderGRU): GRUCell(4, 300)\n",
       "  (linear): Linear(in_features=300, out_features=4, bias=True)\n",
       "  (head_embedder): ConvEncoder(\n",
       "    (conv1): Conv2d(1, 4, kernel_size=(3, 3), stride=(1, 1))\n",
       "    (conv2): Conv2d(4, 10, kernel_size=(3, 3), stride=(1, 1))\n",
       "    (pool): MaxPool2d(kernel_size=2, stride=2, padding=0, dilation=1, ceil_mode=False)\n",
       "    (fc): Linear(in_features=360, out_features=2, bias=True)\n",
       "  )\n",
       ")"
      ]
     },
     "execution_count": 51,
     "metadata": {},
     "output_type": "execute_result"
    }
   ],
   "source": [
    "net_wh.to('cuda')"
   ]
  },
  {
   "cell_type": "code",
   "execution_count": 52,
   "metadata": {},
   "outputs": [],
   "source": [
    "with torch.no_grad():\n",
    "    conv1_actv = net_wh.head_embedder.conv1(im_test.view(1,1,32,32).to('cuda'))\n",
    "    x = torch.nn.functional.relu(conv1_actv)\n",
    "    x = net_wh.head_embedder.pool(x)\n",
    "    conv2_actv = net_wh.head_embedder.conv2(x)"
   ]
  },
  {
   "cell_type": "code",
   "execution_count": 53,
   "metadata": {},
   "outputs": [
    {
     "data": {
      "image/png": "[encoded data removed]",
      "text/plain": [
       "<Figure size 1800x1080 with 4 Axes>"
      ]
     },
     "metadata": {
      "needs_background": "light"
     },
     "output_type": "display_data"
    }
   ],
   "source": [
    "# pre\n",
    "fig,axes = plt.subplots(1,conv1_actv.shape[1],figsize=(25,15))\n",
    "for i, actv in enumerate(conv1_actv[0]):\n",
    "    axes[i].imshow(actv.cpu().detach().numpy(), cmap='Greys_r')"
   ]
  },
  {
   "cell_type": "code",
   "execution_count": 923,
   "metadata": {},
   "outputs": [
    {
     "data": {
      "image/png": "[encoded data removed]",
      "text/plain": [
       "<Figure size 1800x1080 with 4 Axes>"
      ]
     },
     "metadata": {
      "needs_background": "light"
     },
     "output_type": "display_data"
    }
   ],
   "source": [
    "fig,axes = plt.subplots(1,conv1_actv.shape[1],figsize=(25,15))\n",
    "for i, actv in enumerate(conv1_actv[0]):\n",
    "    axes[i].imshow(actv.cpu().detach().numpy(), cmap='Greys_r')"
   ]
  },
  {
   "cell_type": "code",
   "execution_count": 54,
   "metadata": {},
   "outputs": [
    {
     "data": {
      "image/png": "[encoded data removed]",
      "text/plain": [
       "<Figure size 1800x1080 with 10 Axes>"
      ]
     },
     "metadata": {
      "needs_background": "light"
     },
     "output_type": "display_data"
    }
   ],
   "source": [
    "# pre\n",
    "fig,axes = plt.subplots(1,conv2_actv.shape[1],figsize=(25,15))\n",
    "for i, actv in enumerate(conv2_actv[0]):\n",
    "    axes[i].imshow(actv.cpu().detach().numpy(), cmap='Greys_r')"
   ]
  },
  {
   "cell_type": "code",
   "execution_count": 893,
   "metadata": {},
   "outputs": [
    {
     "data": {
      "image/png": "[encoded data removed]",
      "text/plain": [
       "<Figure size 1800x1080 with 10 Axes>"
      ]
     },
     "metadata": {
      "needs_background": "light"
     },
     "output_type": "display_data"
    }
   ],
   "source": [
    "fig,axes = plt.subplots(1,conv2_actv.shape[1],figsize=(25,15))\n",
    "for i, actv in enumerate(conv2_actv[0]):\n",
    "    axes[i].imshow(actv.cpu().detach().numpy(), cmap='Greys_r')"
   ]
  },
  {
   "cell_type": "code",
   "execution_count": 55,
   "metadata": {},
   "outputs": [
    {
     "data": {
      "text/plain": [
       "tensor([[ 0.7030, -1.7329]], device='cuda:0', grad_fn=<AddmmBackward>)"
      ]
     },
     "execution_count": 55,
     "metadata": {},
     "output_type": "execute_result"
    }
   ],
   "source": [
    "# pre\n",
    "net_wh.head_embedder(im_test.view(1,1,32,32).to('cuda'))"
   ]
  },
  {
   "cell_type": "code",
   "execution_count": 894,
   "metadata": {},
   "outputs": [
    {
     "data": {
      "text/plain": [
       "tensor([[-2.8560]], device='cuda:0', grad_fn=<AddmmBackward>)"
      ]
     },
     "execution_count": 894,
     "metadata": {},
     "output_type": "execute_result"
    }
   ],
   "source": [
    "net_wh2.head_embedder(im_test.view(1,1,32,32).to('cuda'))"
   ]
  },
  {
   "cell_type": "code",
   "execution_count": 597,
   "metadata": {},
   "outputs": [
    {
     "data": {
      "text/plain": [
       "<matplotlib.image.AxesImage at 0x7fae98f04c50>"
      ]
     },
     "execution_count": 597,
     "metadata": {},
     "output_type": "execute_result"
    },
    {
     "data": {
      "image/png": "[encoded data removed]",
      "text/plain": [
       "<Figure size 432x288 with 1 Axes>"
      ]
     },
     "metadata": {
      "needs_background": "light"
     },
     "output_type": "display_data"
    }
   ],
   "source": [
    "plt.imshow(heads2[1000], cmap='Greys_r')"
   ]
  },
  {
   "cell_type": "code",
   "execution_count": 570,
   "metadata": {},
   "outputs": [
    {
     "data": {
      "text/plain": [
       "<matplotlib.image.AxesImage at 0x7fae9b4d91d0>"
      ]
     },
     "execution_count": 570,
     "metadata": {},
     "output_type": "execute_result"
    },
    {
     "data": {
      "image/png": "[encoded data removed]",
      "text/plain": [
       "<Figure size 432x288 with 1 Axes>"
      ]
     },
     "metadata": {
      "needs_background": "light"
     },
     "output_type": "display_data"
    }
   ],
   "source": [
    "rot_im = rotate_image(255-im, get_rot_angle(trial_1_hom))\n",
    "plt.imshow(rot_im,cmap=\"Greys_r\")"
   ]
  },
  {
   "cell_type": "markdown",
   "metadata": {},
   "source": [
    "## Metric for cumulative angle and norm displacement"
   ]
  },
  {
   "cell_type": "code",
   "execution_count": 157,
   "metadata": {},
   "outputs": [],
   "source": [
    "import torch"
   ]
  },
  {
   "cell_type": "code",
   "execution_count": 236,
   "metadata": {},
   "outputs": [],
   "source": [
    "# sample data\n",
    "x1 = np.linspace(0, 10, 20)\n",
    "y1 = np.linspace(0, 8, 20)\n",
    "#x1 = np.zeros(20)\n",
    "\n",
    "target = np.stack((x1, y1), axis=1)\n",
    "\n",
    "x2 = np.copy(x1) * np.linspace(1, 3, 20)\n",
    "y2 = np.copy(y1)\n",
    "pred = np.stack((x2, y2), axis=1)"
   ]
  },
  {
   "cell_type": "code",
   "execution_count": 237,
   "metadata": {},
   "outputs": [
    {
     "data": {
      "text/plain": [
       "array([[ 0.        ,  0.        ],\n",
       "       [ 0.58171745,  0.42105263],\n",
       "       [ 1.27423823,  0.84210526],\n",
       "       [ 2.07756233,  1.26315789],\n",
       "       [ 2.99168975,  1.68421053],\n",
       "       [ 4.0166205 ,  2.10526316],\n",
       "       [ 5.15235457,  2.52631579],\n",
       "       [ 6.39889197,  2.94736842],\n",
       "       [ 7.75623269,  3.36842105],\n",
       "       [ 9.22437673,  3.78947368],\n",
       "       [10.8033241 ,  4.21052632],\n",
       "       [12.49307479,  4.63157895],\n",
       "       [14.29362881,  5.05263158],\n",
       "       [16.20498615,  5.47368421],\n",
       "       [18.22714681,  5.89473684],\n",
       "       [20.3601108 ,  6.31578947],\n",
       "       [22.60387812,  6.73684211],\n",
       "       [24.95844875,  7.15789474],\n",
       "       [27.42382271,  7.57894737],\n",
       "       [30.        ,  8.        ]])"
      ]
     },
     "execution_count": 237,
     "metadata": {},
     "output_type": "execute_result"
    }
   ],
   "source": [
    "pred"
   ]
  },
  {
   "cell_type": "code",
   "execution_count": 238,
   "metadata": {},
   "outputs": [],
   "source": [
    "def angle_norm_displacement(target, pred):\n",
    "    if len(pred.shape) == 2:\n",
    "        pred = pred.unsqueeze(0)\n",
    "        target = target.unsqueeze(0)\n",
    "    \n",
    "    target_diffs = target[:, 1:] - target[:, :-1]\n",
    "    pred_diffs = pred[:, 1:] - pred[:, :-1]\n",
    "    target_angle = torch.atan(target_diffs[:, :, 1] / target_diffs[:, :, 0])\n",
    "    pred_angle = torch.atan(pred_diffs[:, :, 1] / pred_diffs[:, :, 0])\n",
    "\n",
    "    target_angle_diffs = target_angle[:, 1:] - target_angle[:, :-1]\n",
    "    pred_angle_diffs = pred_angle[:, 1:] - pred_angle[:, :-1]\n",
    "    total_angle_displacement = (target_angle_diffs - pred_angle_diffs).sum(1)\n",
    "    \n",
    "    target_norms = torch.norm(target_diffs, dim=2)\n",
    "    pred_norms = torch.norm(pred_diffs, dim=2)\n",
    "    total_norm_displacement = (target_norms - pred_norms).sum(1)\n",
    "    \n",
    "    return (torch.abs(total_norm_displacement).mean(),\n",
    "            torch.abs(total_angle_displacement).mean())"
   ]
  },
  {
   "cell_type": "code",
   "execution_count": 239,
   "metadata": {},
   "outputs": [
    {
     "data": {
      "text/plain": [
       "(tensor(8.0282, dtype=torch.float64), tensor(1.4967, dtype=torch.float64))"
      ]
     },
     "execution_count": 239,
     "metadata": {},
     "output_type": "execute_result"
    }
   ],
   "source": [
    "tt = torch.stack([torch.tensor(target)]*2)\n",
    "tp = torch.stack([torch.tensor(pred)]*2)\n",
    "\n",
    "e = torch.normal(torch.zeros(tt.size()), 0.5*torch.ones(tp.size()))\n",
    "tp = tt + e\n",
    "angle_norm_displacement(tt, tp)"
   ]
  },
  {
   "cell_type": "code",
   "execution_count": 240,
   "metadata": {},
   "outputs": [
    {
     "data": {
      "image/png": "[encoded data removed]",
      "text/plain": [
       "<Figure size 432x288 with 1 Axes>"
      ]
     },
     "metadata": {
      "needs_background": "light"
     },
     "output_type": "display_data"
    }
   ],
   "source": [
    "for i in range(tt.size(0)):\n",
    "    plt.plot(tt[i, :, 0], tt[i, :, 1])\n",
    "    plt.plot(tp[i, :, 0], tp[i, :, 1])"
   ]
  },
  {
   "cell_type": "code",
   "execution_count": null,
   "metadata": {},
   "outputs": [],
   "source": []
  }
 ],
 "metadata": {
  "kernelspec": {
   "display_name": "Python [conda env:py37]",
   "language": "python",
   "name": "conda-env-py37-py"
  },
  "language_info": {
   "codemirror_mode": {
    "name": "ipython",
    "version": 3
   },
   "file_extension": ".py",
   "mimetype": "text/x-python",
   "name": "python",
   "nbconvert_exporter": "python",
   "pygments_lexer": "ipython3",
   "version": "3.7.7"
  }
 },
 "nbformat": 4,
 "nbformat_minor": 4
}
