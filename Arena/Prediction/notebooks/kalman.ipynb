{
 "cells": [
  {
   "cell_type": "markdown",
   "metadata": {},
   "source": [
    "# TODO:\n",
    "- generally move everything to other places and delete this notebook\n",
    "- Ax parameter optimization -> predictor_train.ipynb\n",
    "- The stuff about filtering the data move to train_eval (trial_to_samples). Use two kalmans for each coord and add option to filter data before making sequences."
   ]
  },
  {
   "cell_type": "code",
   "execution_count": 2,
   "metadata": {},
   "outputs": [],
   "source": [
    "import os\n",
    "os.chdir('/app/Pogona_realtime/Arena')"
   ]
  },
  {
   "cell_type": "code",
   "execution_count": 3,
   "metadata": {},
   "outputs": [],
   "source": [
    "import imp\n",
    "import numpy as np\n",
    "import matplotlib.pyplot as plt\n",
    "from matplotlib.collections import LineCollection\n",
    "from time import time\n",
    "from ax.service.managed_loop import optimize\n",
    "import torch\n",
    "import json\n",
    "import cv2 as cv"
   ]
  },
  {
   "cell_type": "code",
   "execution_count": 4,
   "metadata": {},
   "outputs": [],
   "source": [
    "from Prediction import dataset\n",
    "from Prediction import kalman_predict\n",
    "from Prediction import visualize\n",
    "from Prediction import train_eval"
   ]
  },
  {
   "cell_type": "code",
   "execution_count": null,
   "metadata": {},
   "outputs": [],
   "source": [
    "imp.reload(dataset)\n",
    "imp.reload(visualize)\n",
    "imp.reload(train_eval)"
   ]
  },
  {
   "cell_type": "code",
   "execution_count": 5,
   "metadata": {},
   "outputs": [
    {
     "name": "stdout",
     "output_type": "stream",
     "text": [
      "110 trials loaded\n"
     ]
    }
   ],
   "source": [
    "all_df = dataset.collect_data(data_sources={'detections': True, 'timestamps': True, 'dlc': False, 'touches': True})"
   ]
  },
  {
   "cell_type": "code",
   "execution_count": 6,
   "metadata": {},
   "outputs": [],
   "source": [
    "trial_names = list(all_df.index.unique())"
   ]
  },
  {
   "cell_type": "code",
   "execution_count": 22,
   "metadata": {},
   "outputs": [],
   "source": [
    "trial = trial_names[8]\n",
    "homography = dataset.homography_for_trial(trial)\n",
    "correction_fn = visualize.get_correction_fn(homography,1920)\n",
    "vid_path = dataset.get_trial_video_path(trial)\n",
    "bboxes = all_df.loc[trial][['x1', 'y1', 'x2', 'y2']].values"
   ]
  },
  {
   "cell_type": "code",
   "execution_count": 55,
   "metadata": {},
   "outputs": [],
   "source": [
    "# useful for filtering the dataframe.\n",
    "def filter_bboxes(bboxes, R, q_var):\n",
    "    traj_inited = False\n",
    "    filtered_bboxes = np.empty(bboxes.shape)\n",
    "    filtered_bboxes[:] = np.nan\n",
    "\n",
    "    for i in range(bboxes.shape[0]):\n",
    "        if not np.any(np.isnan(bboxes[i])):\n",
    "            if traj_inited:\n",
    "                kf.update(bboxes[i])\n",
    "            else:\n",
    "                traj_inited = True\n",
    "                init_x = np.zeros(8, np.float)\n",
    "                init_x[0::2] = bboxes[i]\n",
    "                kf = kalman_predict.create_kalman_filter(input_dim=4, init_x=init_x, r_var=50.0, q_var=q_var)\n",
    "                kf.R = R\n",
    "    \n",
    "        if traj_inited:\n",
    "            kf.predict()\n",
    "            filtered_bboxes[i] = kf.x[0::2]\n",
    "    \n",
    "    return filtered_bboxes"
   ]
  },
  {
   "cell_type": "markdown",
   "metadata": {},
   "source": [
    "## Search for q_var and r_var for prediction"
   ]
  },
  {
   "cell_type": "code",
   "execution_count": 7,
   "metadata": {},
   "outputs": [],
   "source": [
    "parameters=[\n",
    "    {\"name\": \"q_var\", \"type\": \"range\", \"bounds\": [0.0, 100.0]},\n",
    "    {\"name\": \"r_var\", \"type\": \"range\", \"bounds\": [0.0, 1000.0]},\n",
    "    ]"
   ]
  },
  {
   "cell_type": "code",
   "execution_count": 8,
   "metadata": {},
   "outputs": [],
   "source": [
    "num_derivs = 2\n",
    "\n",
    "def eval_kalman_predictor(params):\n",
    "    total_ADE = 0\n",
    "    start_time = time()\n",
    "    \n",
    "    for trial in trial_names:        \n",
    "        trial_bboxes = all_df.loc[trial][['x1', 'y1', 'x2', 'y2']].values        \n",
    "        predictor = kalman_predict.KalmanPredictor(20, num_derivs, params[\"q_var\"], params[\"r_var\"])\n",
    "        results, forecasts = train_eval.eval_trajectory_predictor(predictor, trial_bboxes, show_progress=False)\n",
    "        total_ADE += results[\"avg ADE\"]\n",
    "\n",
    "        print(\".\", end=\"\")\n",
    "    mean_ADE = total_ADE / len(trial_names)\n",
    "    print(f\"params: {params} ADE:{mean_ADE} duration: {time() - start_time:.2f}\")\n",
    "    \n",
    "    return mean_ADE"
   ]
  },
  {
   "cell_type": "code",
   "execution_count": 9,
   "metadata": {},
   "outputs": [
    {
     "name": "stderr",
     "output_type": "stream",
     "text": [
      "[INFO 10-18 18:13:21] ax.modelbridge.dispatch_utils: Using Bayesian Optimization generation strategy: GenerationStrategy(name='Sobol+GPEI', steps=[Sobol for 5 trials, GPEI for subsequent trials]). Iterations after 5 will take longer to generate due to  model-fitting.\n",
      "[INFO 10-18 18:13:21] ax.service.managed_loop: Started full optimization with 100 steps.\n",
      "[INFO 10-18 18:13:21] ax.service.managed_loop: Running optimization trial 1...\n"
     ]
    },
    {
     "name": "stdout",
     "output_type": "stream",
     "text": [
      "............................................................................................................."
     ]
    },
    {
     "name": "stderr",
     "output_type": "stream",
     "text": [
      "[INFO 10-18 18:15:24] ax.service.managed_loop: Running optimization trial 2...\n"
     ]
    },
    {
     "name": "stdout",
     "output_type": "stream",
     "text": [
      ".params: {'q_var': 67.19647450372577, 'r_var': 907.0090558379889} ADE:83.6922897400524 duration: 122.83\n",
      "............................................................................................................."
     ]
    },
    {
     "name": "stderr",
     "output_type": "stream",
     "text": [
      "[INFO 10-18 18:17:27] ax.service.managed_loop: Running optimization trial 3...\n"
     ]
    },
    {
     "name": "stdout",
     "output_type": "stream",
     "text": [
      ".params: {'q_var': 9.906490240246058, 'r_var': 797.3930398002267} ADE:58.61740031856457 duration: 123.13\n",
      "............................................................................................................."
     ]
    },
    {
     "name": "stderr",
     "output_type": "stream",
     "text": [
      "[INFO 10-18 18:19:32] ax.service.managed_loop: Running optimization trial 4...\n"
     ]
    },
    {
     "name": "stdout",
     "output_type": "stream",
     "text": [
      ".params: {'q_var': 15.325235947966576, 'r_var': 32.77757577598095} ADE:133.70228228170717 duration: 124.18\n",
      "............................................................................................................."
     ]
    },
    {
     "name": "stderr",
     "output_type": "stream",
     "text": [
      "[INFO 10-18 18:21:36] ax.service.managed_loop: Running optimization trial 5...\n"
     ]
    },
    {
     "name": "stdout",
     "output_type": "stream",
     "text": [
      ".params: {'q_var': 91.26451583579183, 'r_var': 170.30127346515656} ADE:139.07504650421848 duration: 124.81\n",
      "............................................................................................................."
     ]
    },
    {
     "name": "stderr",
     "output_type": "stream",
     "text": [
      "[INFO 10-18 18:23:40] ax.service.managed_loop: Running optimization trial 6...\n"
     ]
    },
    {
     "name": "stdout",
     "output_type": "stream",
     "text": [
      ".params: {'q_var': 61.53906583786011, 'r_var': 840.4786819592118} ADE:83.4675012326351 duration: 123.35\n",
      "............................................................................................................."
     ]
    },
    {
     "name": "stderr",
     "output_type": "stream",
     "text": [
      "[INFO 10-18 18:25:44] ax.service.managed_loop: Running optimization trial 7...\n"
     ]
    },
    {
     "name": "stdout",
     "output_type": "stream",
     "text": [
      ".params: {'q_var': 4.243046962303043, 'r_var': 1000.0} ADE:49.43788718430638 duration: 123.76\n",
      "............................................................................................................."
     ]
    },
    {
     "name": "stderr",
     "output_type": "stream",
     "text": [
      "[INFO 10-18 18:27:49] ax.service.managed_loop: Running optimization trial 8...\n"
     ]
    },
    {
     "name": "stdout",
     "output_type": "stream",
     "text": [
      ".params: {'q_var': 21.3782465337505, 'r_var': 999.9999999999999} ADE:64.66823494114445 duration: 124.82\n",
      "............................................................................................................."
     ]
    },
    {
     "name": "stderr",
     "output_type": "stream",
     "text": [
      "[INFO 10-18 18:29:55] ax.service.managed_loop: Running optimization trial 9...\n"
     ]
    },
    {
     "name": "stdout",
     "output_type": "stream",
     "text": [
      ".params: {'q_var': 0.0, 'r_var': 952.6525858255872} ADE:204.51991022861395 duration: 125.76\n",
      "............................................................................................................."
     ]
    },
    {
     "name": "stderr",
     "output_type": "stream",
     "text": [
      "[INFO 10-18 18:32:02] ax.service.managed_loop: Running optimization trial 10...\n"
     ]
    },
    {
     "name": "stdout",
     "output_type": "stream",
     "text": [
      ".params: {'q_var': 6.601596623856704, 'r_var': 1000.0} ADE:52.83215783943509 duration: 125.74\n",
      "............................................................................................................."
     ]
    },
    {
     "name": "stderr",
     "output_type": "stream",
     "text": [
      "[INFO 10-18 18:34:08] ax.service.managed_loop: Running optimization trial 11...\n"
     ]
    },
    {
     "name": "stdout",
     "output_type": "stream",
     "text": [
      ".params: {'q_var': 53.057323940119836, 'r_var': 785.5221691946201} ADE:81.95941622710055 duration: 126.16\n",
      "............................................................................................................."
     ]
    },
    {
     "name": "stderr",
     "output_type": "stream",
     "text": [
      "[INFO 10-18 18:36:15] ax.service.managed_loop: Running optimization trial 12...\n"
     ]
    },
    {
     "name": "stdout",
     "output_type": "stream",
     "text": [
      ".params: {'q_var': 0.0, 'r_var': 768.732824097118} ADE:200.72176862689167 duration: 126.51\n",
      "............................................................................................................."
     ]
    },
    {
     "name": "stderr",
     "output_type": "stream",
     "text": [
      "[INFO 10-18 18:38:18] ax.service.managed_loop: Running optimization trial 13...\n"
     ]
    },
    {
     "name": "stdout",
     "output_type": "stream",
     "text": [
      ".params: {'q_var': 35.80563611294055, 'r_var': 809.383308626235} ADE:74.73948388497662 duration: 122.64\n",
      "............................................................................................................."
     ]
    },
    {
     "name": "stderr",
     "output_type": "stream",
     "text": [
      "[INFO 10-18 18:40:21] ax.service.managed_loop: Running optimization trial 14...\n"
     ]
    },
    {
     "name": "stdout",
     "output_type": "stream",
     "text": [
      ".params: {'q_var': 1.8143490710632758e-14, 'r_var': 812.0967407606767} ADE:167.01819481213607 duration: 122.68\n",
      "............................................................................................................."
     ]
    },
    {
     "name": "stderr",
     "output_type": "stream",
     "text": [
      "[INFO 10-18 18:42:24] ax.service.managed_loop: Running optimization trial 15...\n"
     ]
    },
    {
     "name": "stdout",
     "output_type": "stream",
     "text": [
      ".params: {'q_var': 18.64454705095053, 'r_var': 802.5106159445758} ADE:65.6879374652485 duration: 122.09\n",
      "............................................................................................................."
     ]
    },
    {
     "name": "stderr",
     "output_type": "stream",
     "text": [
      "[INFO 10-18 18:44:27] ax.service.managed_loop: Running optimization trial 16...\n"
     ]
    },
    {
     "name": "stdout",
     "output_type": "stream",
     "text": [
      ".params: {'q_var': 45.17100164330414, 'r_var': 865.723113934061} ADE:77.4253311902667 duration: 122.62\n",
      "............................................................................................................."
     ]
    },
    {
     "name": "stderr",
     "output_type": "stream",
     "text": [
      "[INFO 10-18 18:46:30] ax.service.managed_loop: Running optimization trial 17...\n"
     ]
    },
    {
     "name": "stdout",
     "output_type": "stream",
     "text": [
      ".params: {'q_var': 36.363767245337726, 'r_var': 1000.0} ADE:71.76547834160145 duration: 122.69\n",
      "............................................................................................................."
     ]
    },
    {
     "name": "stderr",
     "output_type": "stream",
     "text": [
      "[INFO 10-18 18:48:34] ax.service.managed_loop: Running optimization trial 18...\n"
     ]
    },
    {
     "name": "stdout",
     "output_type": "stream",
     "text": [
      ".params: {'q_var': 46.47053662070075, 'r_var': 941.5080081875001} ADE:76.50516411487196 duration: 122.93\n",
      "............................................................................................................."
     ]
    },
    {
     "name": "stderr",
     "output_type": "stream",
     "text": [
      "[INFO 10-18 18:50:37] ax.service.managed_loop: Running optimization trial 19...\n"
     ]
    },
    {
     "name": "stdout",
     "output_type": "stream",
     "text": [
      ".params: {'q_var': 31.476228522470844, 'r_var': 947.0172941240882} ADE:70.46821899254077 duration: 122.31\n",
      "............................................................................................................."
     ]
    },
    {
     "name": "stderr",
     "output_type": "stream",
     "text": [
      "[INFO 10-18 18:52:39] ax.service.managed_loop: Running optimization trial 20...\n"
     ]
    },
    {
     "name": "stdout",
     "output_type": "stream",
     "text": [
      ".params: {'q_var': 13.198851017523817, 'r_var': 821.9028979635502} ADE:61.3396452041107 duration: 121.79\n",
      "............................................................................................................."
     ]
    },
    {
     "name": "stderr",
     "output_type": "stream",
     "text": [
      "[INFO 10-18 18:54:43] ax.service.managed_loop: Running optimization trial 21...\n"
     ]
    },
    {
     "name": "stdout",
     "output_type": "stream",
     "text": [
      ".params: {'q_var': 35.6763506388328, 'r_var': 731.3090579546117} ADE:76.3080552761704 duration: 123.25\n",
      "............................................................................................................."
     ]
    },
    {
     "name": "stderr",
     "output_type": "stream",
     "text": [
      "[INFO 10-18 18:56:48] ax.service.managed_loop: Running optimization trial 22...\n"
     ]
    },
    {
     "name": "stdout",
     "output_type": "stream",
     "text": [
      ".params: {'q_var': 58.8113256290808, 'r_var': 1000.0} ADE:79.47852930063412 duration: 124.08\n",
      "............................................................................................................."
     ]
    },
    {
     "name": "stderr",
     "output_type": "stream",
     "text": [
      "[INFO 10-18 18:58:52] ax.service.managed_loop: Running optimization trial 23...\n"
     ]
    },
    {
     "name": "stdout",
     "output_type": "stream",
     "text": [
      ".params: {'q_var': 31.213712131376496, 'r_var': 877.0263429998072} ADE:71.44854571181013 duration: 123.99\n",
      "............................................................................................................."
     ]
    },
    {
     "name": "stderr",
     "output_type": "stream",
     "text": [
      "[INFO 10-18 19:00:56] ax.service.managed_loop: Running optimization trial 24...\n"
     ]
    },
    {
     "name": "stdout",
     "output_type": "stream",
     "text": [
      ".params: {'q_var': 20.200550873341527, 'r_var': 737.6255032336555} ADE:67.80465955616535 duration: 123.50\n",
      "............................................................................................................."
     ]
    },
    {
     "name": "stderr",
     "output_type": "stream",
     "text": [
      "[INFO 10-18 19:03:01] ax.service.managed_loop: Running optimization trial 25...\n"
     ]
    },
    {
     "name": "stdout",
     "output_type": "stream",
     "text": [
      ".params: {'q_var': 14.114609096146646, 'r_var': 782.6446713411565} ADE:62.64631916496282 duration: 124.06\n",
      "............................................................................................................."
     ]
    },
    {
     "name": "stderr",
     "output_type": "stream",
     "text": [
      "[INFO 10-18 19:05:08] ax.service.managed_loop: Running optimization trial 26...\n"
     ]
    },
    {
     "name": "stdout",
     "output_type": "stream",
     "text": [
      ".params: {'q_var': 26.212227949481953, 'r_var': 660.7118657450161} ADE:73.05113681209139 duration: 126.13\n",
      "............................................................................................................."
     ]
    },
    {
     "name": "stderr",
     "output_type": "stream",
     "text": [
      "[INFO 10-18 19:07:15] ax.service.managed_loop: Running optimization trial 27...\n"
     ]
    },
    {
     "name": "stdout",
     "output_type": "stream",
     "text": [
      ".params: {'q_var': 43.81532498653523, 'r_var': 637.3935827883248} ADE:82.27943675400812 duration: 126.24\n",
      "............................................................................................................."
     ]
    },
    {
     "name": "stderr",
     "output_type": "stream",
     "text": [
      "[INFO 10-18 19:09:22] ax.service.managed_loop: Running optimization trial 28...\n"
     ]
    },
    {
     "name": "stdout",
     "output_type": "stream",
     "text": [
      ".params: {'q_var': 29.988088935935398, 'r_var': 572.2788520724022} ADE:77.48686609280871 duration: 126.07\n",
      "............................................................................................................."
     ]
    },
    {
     "name": "stderr",
     "output_type": "stream",
     "text": [
      "[INFO 10-18 19:11:30] ax.service.managed_loop: Running optimization trial 29...\n"
     ]
    },
    {
     "name": "stdout",
     "output_type": "stream",
     "text": [
      ".params: {'q_var': 15.618866425257433, 'r_var': 593.645093567521} ADE:67.2680795561247 duration: 127.33\n",
      "............................................................................................................."
     ]
    },
    {
     "name": "stderr",
     "output_type": "stream",
     "text": [
      "[INFO 10-18 19:13:34] ax.service.managed_loop: Running optimization trial 30...\n"
     ]
    },
    {
     "name": "stdout",
     "output_type": "stream",
     "text": [
      ".params: {'q_var': 16.077507272570944, 'r_var': 524.8387287947111} ADE:69.30649041487467 duration: 123.36\n",
      "............................................................................................................."
     ]
    },
    {
     "name": "stderr",
     "output_type": "stream",
     "text": [
      "[INFO 10-18 19:15:37] ax.service.managed_loop: Running optimization trial 31...\n"
     ]
    },
    {
     "name": "stdout",
     "output_type": "stream",
     "text": [
      ".params: {'q_var': 5.702434224495636, 'r_var': 552.1259615620074} ADE:56.77258783417719 duration: 121.92\n",
      "............................................................................................................."
     ]
    },
    {
     "name": "stderr",
     "output_type": "stream",
     "text": [
      "[INFO 10-18 19:17:41] ax.service.managed_loop: Running optimization trial 32...\n"
     ]
    },
    {
     "name": "stdout",
     "output_type": "stream",
     "text": [
      ".params: {'q_var': 2.321055764675389, 'r_var': 498.96631238469377} ADE:50.038805125435545 duration: 123.35\n",
      "............................................................................................................."
     ]
    },
    {
     "name": "stderr",
     "output_type": "stream",
     "text": [
      "[INFO 10-18 19:19:46] ax.service.managed_loop: Running optimization trial 33...\n"
     ]
    },
    {
     "name": "stdout",
     "output_type": "stream",
     "text": [
      ".params: {'q_var': 7.750026132844197, 'r_var': 462.6175506140078} ADE:61.77827006311552 duration: 124.53\n",
      "............................................................................................................."
     ]
    },
    {
     "name": "stderr",
     "output_type": "stream",
     "text": [
      "[INFO 10-18 19:21:49] ax.service.managed_loop: Running optimization trial 34...\n"
     ]
    },
    {
     "name": "stdout",
     "output_type": "stream",
     "text": [
      ".params: {'q_var': 7.076423802841056, 'r_var': 510.77719207985274} ADE:59.71726578469815 duration: 123.00\n",
      "............................................................................................................."
     ]
    },
    {
     "name": "stderr",
     "output_type": "stream",
     "text": [
      "[INFO 10-18 19:23:54] ax.service.managed_loop: Running optimization trial 35...\n"
     ]
    },
    {
     "name": "stdout",
     "output_type": "stream",
     "text": [
      ".params: {'q_var': 4.565413895321016e-13, 'r_var': 445.7673888032932} ADE:130.28969391508494 duration: 124.36\n",
      "............................................................................................................."
     ]
    },
    {
     "name": "stderr",
     "output_type": "stream",
     "text": [
      "[INFO 10-18 19:25:58] ax.service.managed_loop: Running optimization trial 36...\n"
     ]
    },
    {
     "name": "stdout",
     "output_type": "stream",
     "text": [
      ".params: {'q_var': 1.7457607722887254e-15, 'r_var': 529.6756271774992} ADE:179.22665078967992 duration: 122.61\n",
      "............................................................................................................."
     ]
    },
    {
     "name": "stderr",
     "output_type": "stream",
     "text": [
      "[INFO 10-18 19:28:02] ax.service.managed_loop: Running optimization trial 37...\n"
     ]
    },
    {
     "name": "stdout",
     "output_type": "stream",
     "text": [
      ".params: {'q_var': 3.53237428430868, 'r_var': 459.28137120116185} ADE:54.06492126031763 duration: 123.43\n",
      "............................................................................................................."
     ]
    },
    {
     "name": "stderr",
     "output_type": "stream",
     "text": [
      "[INFO 10-18 19:30:06] ax.service.managed_loop: Running optimization trial 38...\n"
     ]
    },
    {
     "name": "stdout",
     "output_type": "stream",
     "text": [
      ".params: {'q_var': 5.371472370084073, 'r_var': 931.7031994432867} ADE:51.73367135542336 duration: 123.02\n",
      "............................................................................................................."
     ]
    },
    {
     "name": "stderr",
     "output_type": "stream",
     "text": [
      "[INFO 10-18 19:32:10] ax.service.managed_loop: Running optimization trial 39...\n"
     ]
    },
    {
     "name": "stdout",
     "output_type": "stream",
     "text": [
      ".params: {'q_var': 3.3484693488427864, 'r_var': 530.508574627893} ADE:52.413469430553754 duration: 123.55\n",
      "............................................................................................................."
     ]
    },
    {
     "name": "stderr",
     "output_type": "stream",
     "text": [
      "[INFO 10-18 19:34:16] ax.service.managed_loop: Running optimization trial 40...\n"
     ]
    },
    {
     "name": "stdout",
     "output_type": "stream",
     "text": [
      ".params: {'q_var': 7.436199796818366, 'r_var': 701.0825136477476} ADE:57.04528871084559 duration: 125.14\n",
      "............................................................................................................."
     ]
    },
    {
     "name": "stderr",
     "output_type": "stream",
     "text": [
      "[INFO 10-18 19:36:21] ax.service.managed_loop: Running optimization trial 41...\n"
     ]
    },
    {
     "name": "stdout",
     "output_type": "stream",
     "text": [
      ".params: {'q_var': 9.469298433082924, 'r_var': 951.5886181413018} ADE:56.45431145364663 duration: 124.68\n",
      "............................................................................................................."
     ]
    },
    {
     "name": "stderr",
     "output_type": "stream",
     "text": [
      "[INFO 10-18 19:38:25] ax.service.managed_loop: Running optimization trial 42...\n"
     ]
    },
    {
     "name": "stdout",
     "output_type": "stream",
     "text": [
      ".params: {'q_var': 7.7183945326227175, 'r_var': 862.2721632566077} ADE:55.46660579809287 duration: 123.60\n",
      "............................................................................................................."
     ]
    },
    {
     "name": "stderr",
     "output_type": "stream",
     "text": [
      "[INFO 10-18 19:40:30] ax.service.managed_loop: Running optimization trial 43...\n"
     ]
    },
    {
     "name": "stdout",
     "output_type": "stream",
     "text": [
      ".params: {'q_var': 10.389923186892808, 'r_var': 597.4195476607807} ADE:62.21753517690959 duration: 123.70\n",
      "............................................................................................................."
     ]
    },
    {
     "name": "stderr",
     "output_type": "stream",
     "text": [
      "[INFO 10-18 19:42:35] ax.service.managed_loop: Running optimization trial 44...\n"
     ]
    },
    {
     "name": "stdout",
     "output_type": "stream",
     "text": [
      ".params: {'q_var': 5.150446773500093, 'r_var': 1000.0} ADE:50.86488328026209 duration: 124.52\n",
      "............................................................................................................."
     ]
    },
    {
     "name": "stderr",
     "output_type": "stream",
     "text": [
      "[INFO 10-18 19:44:39] ax.service.managed_loop: Running optimization trial 45...\n"
     ]
    },
    {
     "name": "stdout",
     "output_type": "stream",
     "text": [
      ".params: {'q_var': 23.502648098459517, 'r_var': 859.8326221108093} ADE:67.78464966510346 duration: 123.07\n",
      "............................................................................................................."
     ]
    },
    {
     "name": "stderr",
     "output_type": "stream",
     "text": [
      "[INFO 10-18 19:46:43] ax.service.managed_loop: Running optimization trial 46...\n"
     ]
    },
    {
     "name": "stdout",
     "output_type": "stream",
     "text": [
      ".params: {'q_var': 15.688441347991905, 'r_var': 964.0822867941179} ADE:61.493071163492765 duration: 123.36\n",
      "............................................................................................................."
     ]
    },
    {
     "name": "stderr",
     "output_type": "stream",
     "text": [
      "[INFO 10-18 19:48:47] ax.service.managed_loop: Running optimization trial 47...\n"
     ]
    },
    {
     "name": "stdout",
     "output_type": "stream",
     "text": [
      ".params: {'q_var': 12.523668973406965, 'r_var': 1000.0} ADE:58.70988603945334 duration: 123.09\n",
      "............................................................................................................."
     ]
    },
    {
     "name": "stderr",
     "output_type": "stream",
     "text": [
      "[INFO 10-18 19:50:50] ax.service.managed_loop: Running optimization trial 48...\n"
     ]
    },
    {
     "name": "stdout",
     "output_type": "stream",
     "text": [
      ".params: {'q_var': 18.514879212044335, 'r_var': 1000.0} ADE:62.95951693646445 duration: 122.95\n",
      "............................................................................................................."
     ]
    },
    {
     "name": "stderr",
     "output_type": "stream",
     "text": [
      "[INFO 10-18 19:52:55] ax.service.managed_loop: Running optimization trial 49...\n"
     ]
    },
    {
     "name": "stdout",
     "output_type": "stream",
     "text": [
      ".params: {'q_var': 2.7321351604311856, 'r_var': 480.16246227925524} ADE:51.571363318481865 duration: 123.42\n",
      "............................................................................................................."
     ]
    },
    {
     "name": "stderr",
     "output_type": "stream",
     "text": [
      "[INFO 10-18 19:55:00] ax.service.managed_loop: Running optimization trial 50...\n"
     ]
    },
    {
     "name": "stdout",
     "output_type": "stream",
     "text": [
      ".params: {'q_var': 5.598099070251666, 'r_var': 367.9407247612048} ADE:60.694694646857336 duration: 124.13\n",
      "............................................................................................................."
     ]
    },
    {
     "name": "stderr",
     "output_type": "stream",
     "text": [
      "[INFO 10-18 19:57:05] ax.service.managed_loop: Running optimization trial 51...\n"
     ]
    },
    {
     "name": "stdout",
     "output_type": "stream",
     "text": [
      ".params: {'q_var': 5.635356719145038, 'r_var': 776.497879644841} ADE:53.609904740500355 duration: 124.34\n",
      "............................................................................................................."
     ]
    },
    {
     "name": "stderr",
     "output_type": "stream",
     "text": [
      "[INFO 10-18 19:59:09] ax.service.managed_loop: Running optimization trial 52...\n"
     ]
    },
    {
     "name": "stdout",
     "output_type": "stream",
     "text": [
      ".params: {'q_var': 12.834870436650602, 'r_var': 501.33858914714347} ADE:66.9041535514627 duration: 123.63\n",
      "............................................................................................................."
     ]
    },
    {
     "name": "stderr",
     "output_type": "stream",
     "text": [
      "[INFO 10-18 20:01:14] ax.service.managed_loop: Running optimization trial 53...\n"
     ]
    },
    {
     "name": "stdout",
     "output_type": "stream",
     "text": [
      ".params: {'q_var': 12.38618188332918, 'r_var': 676.7575372004635} ADE:62.80952018222397 duration: 123.70\n",
      "............................................................................................................."
     ]
    },
    {
     "name": "stderr",
     "output_type": "stream",
     "text": [
      "[INFO 10-18 20:03:18] ax.service.managed_loop: Running optimization trial 54...\n"
     ]
    },
    {
     "name": "stdout",
     "output_type": "stream",
     "text": [
      ".params: {'q_var': 27.237877874353938, 'r_var': 931.98944716554} ADE:68.68387582177526 duration: 123.85\n",
      "............................................................................................................."
     ]
    },
    {
     "name": "stderr",
     "output_type": "stream",
     "text": [
      "[INFO 10-18 20:05:23] ax.service.managed_loop: Running optimization trial 55...\n"
     ]
    },
    {
     "name": "stdout",
     "output_type": "stream",
     "text": [
      ".params: {'q_var': 11.270183771212045, 'r_var': 905.8384519671991} ADE:58.63863361870778 duration: 124.36\n",
      "............................................................................................................."
     ]
    },
    {
     "name": "stderr",
     "output_type": "stream",
     "text": [
      "[INFO 10-18 20:07:27] ax.service.managed_loop: Running optimization trial 56...\n"
     ]
    },
    {
     "name": "stdout",
     "output_type": "stream",
     "text": [
      ".params: {'q_var': 22.173343324169327, 'r_var': 525.7325882413271} ADE:73.98029447356527 duration: 122.78\n",
      "............................................................................................................."
     ]
    },
    {
     "name": "stderr",
     "output_type": "stream",
     "text": [
      "[INFO 10-18 20:09:30] ax.service.managed_loop: Running optimization trial 57...\n"
     ]
    },
    {
     "name": "stdout",
     "output_type": "stream",
     "text": [
      ".params: {'q_var': 3.3391338259744137, 'r_var': 229.1455153672809} ADE:60.17762065580171 duration: 122.20\n",
      "............................................................................................................."
     ]
    },
    {
     "name": "stderr",
     "output_type": "stream",
     "text": [
      "[INFO 10-18 20:11:35] ax.service.managed_loop: Running optimization trial 58...\n"
     ]
    },
    {
     "name": "stdout",
     "output_type": "stream",
     "text": [
      ".params: {'q_var': 5.794081100013275, 'r_var': 142.24064804788046} ADE:73.35354798966098 duration: 124.10\n",
      "............................................................................................................."
     ]
    },
    {
     "name": "stderr",
     "output_type": "stream",
     "text": [
      "[INFO 10-18 20:13:39] ax.service.managed_loop: Running optimization trial 59...\n"
     ]
    },
    {
     "name": "stdout",
     "output_type": "stream",
     "text": [
      ".params: {'q_var': 1.86809325606417, 'r_var': 63.57972030106406} ADE:68.49932505613066 duration: 123.53\n",
      "............................................................................................................."
     ]
    },
    {
     "name": "stderr",
     "output_type": "stream",
     "text": [
      "[INFO 10-18 20:15:42] ax.service.managed_loop: Running optimization trial 60...\n"
     ]
    },
    {
     "name": "stdout",
     "output_type": "stream",
     "text": [
      ".params: {'q_var': 40.1234439382763, 'r_var': 924.5580747459613} ADE:74.44113828899044 duration: 122.61\n",
      "............................................................................................................."
     ]
    },
    {
     "name": "stderr",
     "output_type": "stream",
     "text": [
      "[INFO 10-18 20:17:48] ax.service.managed_loop: Running optimization trial 61...\n"
     ]
    },
    {
     "name": "stdout",
     "output_type": "stream",
     "text": [
      ".params: {'q_var': 10.347923559657904, 'r_var': 348.36404786681} ADE:68.86105292596577 duration: 124.72\n",
      "............................................................................................................."
     ]
    },
    {
     "name": "stderr",
     "output_type": "stream",
     "text": [
      "[INFO 10-18 20:19:53] ax.service.managed_loop: Running optimization trial 62...\n"
     ]
    },
    {
     "name": "stdout",
     "output_type": "stream",
     "text": [
      ".params: {'q_var': 18.827536008975397, 'r_var': 579.3723959779144} ADE:70.13372411357433 duration: 123.74\n",
      "............................................................................................................."
     ]
    },
    {
     "name": "stderr",
     "output_type": "stream",
     "text": [
      "[INFO 10-18 20:21:57] ax.service.managed_loop: Running optimization trial 63...\n"
     ]
    },
    {
     "name": "stdout",
     "output_type": "stream",
     "text": [
      ".params: {'q_var': 26.18979008500448, 'r_var': 380.8824575975033} ADE:82.26919409754575 duration: 123.83\n",
      "............................................................................................................."
     ]
    },
    {
     "name": "stderr",
     "output_type": "stream",
     "text": [
      "[INFO 10-18 20:24:02] ax.service.managed_loop: Running optimization trial 64...\n"
     ]
    },
    {
     "name": "stdout",
     "output_type": "stream",
     "text": [
      ".params: {'q_var': 5.501008667876377, 'r_var': 669.200501323272} ADE:54.682957271241925 duration: 123.16\n",
      "............................................................................................................."
     ]
    },
    {
     "name": "stderr",
     "output_type": "stream",
     "text": [
      "[INFO 10-18 20:26:05] ax.service.managed_loop: Running optimization trial 65...\n"
     ]
    },
    {
     "name": "stdout",
     "output_type": "stream",
     "text": [
      ".params: {'q_var': 39.420736398575926, 'r_var': 665.2520239838287} ADE:79.60259099675942 duration: 122.68\n",
      "............................................................................................................."
     ]
    },
    {
     "name": "stderr",
     "output_type": "stream",
     "text": [
      "[INFO 10-18 20:28:08] ax.service.managed_loop: Running optimization trial 66...\n"
     ]
    },
    {
     "name": "stdout",
     "output_type": "stream",
     "text": [
      ".params: {'q_var': 34.39233945132865, 'r_var': 399.8831086961996} ADE:86.59242066952322 duration: 122.15\n",
      "............................................................................................................."
     ]
    },
    {
     "name": "stderr",
     "output_type": "stream",
     "text": [
      "[INFO 10-18 20:30:14] ax.service.managed_loop: Running optimization trial 67...\n"
     ]
    },
    {
     "name": "stdout",
     "output_type": "stream",
     "text": [
      ".params: {'q_var': 20.463375855395654, 'r_var': 888.6481225431553} ADE:65.58056035033535 duration: 124.45\n",
      "............................................................................................................."
     ]
    },
    {
     "name": "stderr",
     "output_type": "stream",
     "text": [
      "[INFO 10-18 20:32:17] ax.service.managed_loop: Running optimization trial 68...\n"
     ]
    },
    {
     "name": "stdout",
     "output_type": "stream",
     "text": [
      ".params: {'q_var': 48.668955409772934, 'r_var': 673.6205507516927} ADE:83.21122621233064 duration: 123.12\n",
      "............................................................................................................."
     ]
    },
    {
     "name": "stderr",
     "output_type": "stream",
     "text": [
      "[INFO 10-18 20:34:20] ax.service.managed_loop: Running optimization trial 69...\n"
     ]
    },
    {
     "name": "stdout",
     "output_type": "stream",
     "text": [
      ".params: {'q_var': 8.097134446293209, 'r_var': 1000.0} ADE:54.575495104957895 duration: 122.14\n",
      "............................................................................................................."
     ]
    },
    {
     "name": "stderr",
     "output_type": "stream",
     "text": [
      "[INFO 10-18 20:36:24] ax.service.managed_loop: Running optimization trial 70...\n"
     ]
    },
    {
     "name": "stdout",
     "output_type": "stream",
     "text": [
      ".params: {'q_var': 57.33521608416644, 'r_var': 543.5616897300774} ADE:90.85909460105678 duration: 123.18\n",
      "............................................................................................................."
     ]
    },
    {
     "name": "stderr",
     "output_type": "stream",
     "text": [
      "[INFO 10-18 20:38:30] ax.service.managed_loop: Running optimization trial 71...\n"
     ]
    },
    {
     "name": "stdout",
     "output_type": "stream",
     "text": [
      ".params: {'q_var': 42.04156991285595, 'r_var': 257.8371661223639} ADE:101.06094165379923 duration: 125.11\n",
      "............................................................................................................."
     ]
    },
    {
     "name": "stderr",
     "output_type": "stream",
     "text": [
      "[INFO 10-18 20:40:34] ax.service.managed_loop: Running optimization trial 72...\n"
     ]
    },
    {
     "name": "stdout",
     "output_type": "stream",
     "text": [
      ".params: {'q_var': 0.9610971682458629, 'r_var': 209.03715133575895} ADE:49.837848018941145 duration: 124.14\n",
      "............................................................................................................."
     ]
    },
    {
     "name": "stderr",
     "output_type": "stream",
     "text": [
      "[INFO 10-18 20:42:39] ax.service.managed_loop: Running optimization trial 73...\n"
     ]
    },
    {
     "name": "stdout",
     "output_type": "stream",
     "text": [
      ".params: {'q_var': 1.8148440099218264, 'r_var': 283.0804411551157} ADE:52.46760835562821 duration: 123.59\n",
      "............................................................................................................."
     ]
    },
    {
     "name": "stderr",
     "output_type": "stream",
     "text": [
      "[INFO 10-18 20:44:43] ax.service.managed_loop: Running optimization trial 74...\n"
     ]
    },
    {
     "name": "stdout",
     "output_type": "stream",
     "text": [
      ".params: {'q_var': 24.60142671458978, 'r_var': 1000.0} ADE:66.41911146516398 duration: 123.29\n",
      "............................................................................................................."
     ]
    },
    {
     "name": "stderr",
     "output_type": "stream",
     "text": [
      "[INFO 10-18 20:46:47] ax.service.managed_loop: Running optimization trial 75...\n"
     ]
    },
    {
     "name": "stdout",
     "output_type": "stream",
     "text": [
      ".params: {'q_var': 1.8020587120717968, 'r_var': 204.1413235460922} ADE:55.19265534821569 duration: 123.34\n",
      "............................................................................................................."
     ]
    },
    {
     "name": "stderr",
     "output_type": "stream",
     "text": [
      "[INFO 10-18 20:48:50] ax.service.managed_loop: Running optimization trial 76...\n"
     ]
    },
    {
     "name": "stdout",
     "output_type": "stream",
     "text": [
      ".params: {'q_var': 3.408640767046108, 'r_var': 345.26845232106047} ADE:56.29943581425805 duration: 123.24\n",
      "............................................................................................................."
     ]
    },
    {
     "name": "stderr",
     "output_type": "stream",
     "text": [
      "[INFO 10-18 20:50:56] ax.service.managed_loop: Running optimization trial 77...\n"
     ]
    },
    {
     "name": "stdout",
     "output_type": "stream",
     "text": [
      ".params: {'q_var': 69.17605288683852, 'r_var': 509.0624288633013} ADE:96.60262706575467 duration: 124.77\n",
      "............................................................................................................."
     ]
    },
    {
     "name": "stderr",
     "output_type": "stream",
     "text": [
      "[INFO 10-18 20:53:01] ax.service.managed_loop: Running optimization trial 78...\n"
     ]
    },
    {
     "name": "stdout",
     "output_type": "stream",
     "text": [
      ".params: {'q_var': 2.706163620299432e-13, 'r_var': 140.10832424641194} ADE:118.02229772876412 duration: 124.66\n",
      "............................................................................................................."
     ]
    },
    {
     "name": "stderr",
     "output_type": "stream",
     "text": [
      "[INFO 10-18 20:55:06] ax.service.managed_loop: Running optimization trial 79...\n"
     ]
    },
    {
     "name": "stdout",
     "output_type": "stream",
     "text": [
      ".params: {'q_var': 1.0454159059256132, 'r_var': 250.94883769233357} ADE:49.15010262136672 duration: 124.91\n",
      "............................................................................................................."
     ]
    },
    {
     "name": "stderr",
     "output_type": "stream",
     "text": [
      "[INFO 10-18 20:57:11] ax.service.managed_loop: Running optimization trial 80...\n"
     ]
    },
    {
     "name": "stdout",
     "output_type": "stream",
     "text": [
      ".params: {'q_var': 16.385019436679336, 'r_var': 822.8035512293059} ADE:63.80757178988583 duration: 124.09\n",
      "............................................................................................................."
     ]
    },
    {
     "name": "stderr",
     "output_type": "stream",
     "text": [
      "[INFO 10-18 20:59:15] ax.service.managed_loop: Running optimization trial 81...\n"
     ]
    },
    {
     "name": "stdout",
     "output_type": "stream",
     "text": [
      ".params: {'q_var': 4.31601695502164, 'r_var': 905.1125730801027} ADE:50.278998056884866 duration: 123.54\n",
      "............................................................................................................."
     ]
    },
    {
     "name": "stderr",
     "output_type": "stream",
     "text": [
      "[INFO 10-18 21:01:18] ax.service.managed_loop: Running optimization trial 82...\n"
     ]
    },
    {
     "name": "stdout",
     "output_type": "stream",
     "text": [
      ".params: {'q_var': 3.7973311260016254, 'r_var': 0.0} ADE:42188.972237792324 duration: 122.43\n",
      "............................................................................................................."
     ]
    },
    {
     "name": "stderr",
     "output_type": "stream",
     "text": [
      "[INFO 10-18 21:03:25] ax.service.managed_loop: Running optimization trial 83...\n"
     ]
    },
    {
     "name": "stdout",
     "output_type": "stream",
     "text": [
      ".params: {'q_var': 99.99999998358791, 'r_var': 49.24027303432409} ADE:205.96005648050567 duration: 125.33\n",
      "............................................................................................................."
     ]
    },
    {
     "name": "stderr",
     "output_type": "stream",
     "text": [
      "[INFO 10-18 21:05:29] ax.service.managed_loop: Running optimization trial 84...\n"
     ]
    },
    {
     "name": "stdout",
     "output_type": "stream",
     "text": [
      ".params: {'q_var': 7.8949352329764135, 'r_var': 45.797408491084525} ADE:102.35451884912943 duration: 122.52\n",
      "............................................................................................................."
     ]
    },
    {
     "name": "stderr",
     "output_type": "stream",
     "text": [
      "[INFO 10-18 21:07:34] ax.service.managed_loop: Running optimization trial 85...\n"
     ]
    },
    {
     "name": "stdout",
     "output_type": "stream",
     "text": [
      ".params: {'q_var': 100.0, 'r_var': 97.00316509737124} ADE:168.07741561172935 duration: 123.41\n",
      "............................................................................................................."
     ]
    },
    {
     "name": "stderr",
     "output_type": "stream",
     "text": [
      "[INFO 10-18 21:09:38] ax.service.managed_loop: Running optimization trial 86...\n"
     ]
    },
    {
     "name": "stdout",
     "output_type": "stream",
     "text": [
      ".params: {'q_var': 0.0, 'r_var': 87.02156437301134} ADE:154.66251307933103 duration: 122.59\n",
      "............................................................................................................."
     ]
    },
    {
     "name": "stderr",
     "output_type": "stream",
     "text": [
      "[INFO 10-18 21:11:44] ax.service.managed_loop: Running optimization trial 87...\n"
     ]
    },
    {
     "name": "stdout",
     "output_type": "stream",
     "text": [
      ".params: {'q_var': 99.99999999997512, 'r_var': 313.15509459781543} ADE:120.45536560779664 duration: 124.29\n",
      "............................................................................................................."
     ]
    },
    {
     "name": "stderr",
     "output_type": "stream",
     "text": [
      "[INFO 10-18 21:13:48] ax.service.managed_loop: Running optimization trial 88...\n"
     ]
    },
    {
     "name": "stdout",
     "output_type": "stream",
     "text": [
      ".params: {'q_var': 99.99999999997321, 'r_var': 962.7876485309267} ADE:90.5355273749315 duration: 122.62\n",
      "............................................................................................................."
     ]
    },
    {
     "name": "stderr",
     "output_type": "stream",
     "text": [
      "[INFO 10-18 21:15:52] ax.service.managed_loop: Running optimization trial 89...\n"
     ]
    },
    {
     "name": "stdout",
     "output_type": "stream",
     "text": [
      ".params: {'q_var': 99.9999999999982, 'r_var': 131.56281899282342} ADE:153.74843544580048 duration: 123.13\n",
      "............................................................................................................."
     ]
    },
    {
     "name": "stderr",
     "output_type": "stream",
     "text": [
      "[INFO 10-18 21:17:57] ax.service.managed_loop: Running optimization trial 90...\n"
     ]
    },
    {
     "name": "stdout",
     "output_type": "stream",
     "text": [
      ".params: {'q_var': 100.0, 'r_var': 427.05070153205} ADE:110.9113129437983 duration: 123.69\n",
      "............................................................................................................."
     ]
    },
    {
     "name": "stderr",
     "output_type": "stream",
     "text": [
      "[INFO 10-18 21:20:02] ax.service.managed_loop: Running optimization trial 91...\n"
     ]
    },
    {
     "name": "stdout",
     "output_type": "stream",
     "text": [
      ".params: {'q_var': 100.0, 'r_var': 211.34247657210793} ADE:134.2703833749304 duration: 122.97\n",
      "............................................................................................................."
     ]
    },
    {
     "name": "stderr",
     "output_type": "stream",
     "text": [
      "[INFO 10-18 21:22:07] ax.service.managed_loop: Running optimization trial 92...\n"
     ]
    },
    {
     "name": "stdout",
     "output_type": "stream",
     "text": [
      ".params: {'q_var': 48.049684627019694, 'r_var': 38.24535377400012} ADE:178.17468224426338 duration: 122.92\n",
      "............................................................................................................."
     ]
    },
    {
     "name": "stderr",
     "output_type": "stream",
     "text": [
      "[INFO 10-18 21:24:12] ax.service.managed_loop: Running optimization trial 93...\n"
     ]
    },
    {
     "name": "stdout",
     "output_type": "stream",
     "text": [
      ".params: {'q_var': 99.99999999999909, 'r_var': 73.07984281079791} ADE:182.81793582686618 duration: 123.48\n",
      "............................................................................................................."
     ]
    },
    {
     "name": "stderr",
     "output_type": "stream",
     "text": [
      "[INFO 10-18 21:26:18] ax.service.managed_loop: Running optimization trial 94...\n"
     ]
    },
    {
     "name": "stdout",
     "output_type": "stream",
     "text": [
      ".params: {'q_var': 100.0, 'r_var': 611.2002165752657} ADE:101.16802257294782 duration: 124.76\n",
      "............................................................................................................."
     ]
    },
    {
     "name": "stderr",
     "output_type": "stream",
     "text": [
      "[INFO 10-18 21:28:24] ax.service.managed_loop: Running optimization trial 95...\n"
     ]
    },
    {
     "name": "stdout",
     "output_type": "stream",
     "text": [
      ".params: {'q_var': 1.8621117212468383e-13, 'r_var': 310.33387285997594} ADE:132.34043066142226 duration: 124.88\n",
      "............................................................................................................."
     ]
    },
    {
     "name": "stderr",
     "output_type": "stream",
     "text": [
      "[INFO 10-18 21:30:30] ax.service.managed_loop: Running optimization trial 96...\n"
     ]
    },
    {
     "name": "stdout",
     "output_type": "stream",
     "text": [
      ".params: {'q_var': 99.99999999999983, 'r_var': 455.00185933696275} ADE:109.09258238287569 duration: 124.39\n",
      "............................................................................................................."
     ]
    },
    {
     "name": "stderr",
     "output_type": "stream",
     "text": [
      "[INFO 10-18 21:32:36] ax.service.managed_loop: Running optimization trial 97...\n"
     ]
    },
    {
     "name": "stdout",
     "output_type": "stream",
     "text": [
      ".params: {'q_var': 99.99999999999861, 'r_var': 749.0581426606993} ADE:96.18943547720274 duration: 123.49\n",
      "............................................................................................................."
     ]
    },
    {
     "name": "stderr",
     "output_type": "stream",
     "text": [
      "[INFO 10-18 21:34:42] ax.service.managed_loop: Running optimization trial 98...\n"
     ]
    },
    {
     "name": "stdout",
     "output_type": "stream",
     "text": [
      ".params: {'q_var': 99.99999999999996, 'r_var': 367.59331896053004} ADE:115.38675116333704 duration: 124.25\n",
      "............................................................................................................."
     ]
    },
    {
     "name": "stderr",
     "output_type": "stream",
     "text": [
      "[INFO 10-18 21:36:50] ax.service.managed_loop: Running optimization trial 99...\n"
     ]
    },
    {
     "name": "stdout",
     "output_type": "stream",
     "text": [
      ".params: {'q_var': 99.99999999999997, 'r_var': 288.9683938766629} ADE:123.11448057464996 duration: 125.78\n",
      "............................................................................................................."
     ]
    },
    {
     "name": "stderr",
     "output_type": "stream",
     "text": [
      "[INFO 10-18 21:38:56] ax.service.managed_loop: Running optimization trial 100...\n"
     ]
    },
    {
     "name": "stdout",
     "output_type": "stream",
     "text": [
      ".params: {'q_var': 11.706953182482163, 'r_var': 539.0032665742581} ADE:64.83567163154748 duration: 124.33\n",
      "..............................................................................................................params: {'q_var': 0.0, 'r_var': 111.37135445725701} ADE:159.40399677426805 duration: 125.22\n"
     ]
    }
   ],
   "source": [
    "best_parameters, values, experiment, model = optimize(\n",
    "    parameters=parameters,\n",
    "    evaluation_function=eval_kalman_predictor,\n",
    "    objective_name='ADE',\n",
    "    total_trials=100, \n",
    "    minimize=True)"
   ]
  },
  {
   "cell_type": "markdown",
   "metadata": {},
   "source": [
    "### Best parameters for constant acceleration model\n",
    "\n",
    "- {'q_var': 5.232464612645584, 'r_var': 76.11997188671926} ADE:77.80251293150333\n",
    "- {'q_var': 8.305751509936852e-11, 'r_var': 6.104439686140315} ADE:56.59084980428664\n",
    "- {'q_var': 11.243166495979125, 'r_var': 100.0} ADE:87.78338522412209\n",
    "- {'q_var': 6.60728768670246, 'r_var': 68.14068332725518} ADE:84.5807759587622\n",
    "- {'q_var': 3.179927344778319e-08, 'r_var': 99.99999991206423} ADE:47.3384215434221\n",
    "- {'q_var': 1.0454159059256132, 'r_var': 250.94883769233357} ADE:49.15010262136672 (b\n",
    "- {'q_var': 4.584311371533344, 'r_var': 99.99999999999997} ADE:70.82873570482703"
   ]
  },
  {
   "cell_type": "markdown",
   "metadata": {},
   "source": [
    "### Best parameters for constant velocity model\n",
    "\n",
    "- {'q_var': 5.370325791258682, 'r_var': 120.38665794106605} ADE:20.309112430927975\n",
    "- {'q_var': 17.93990045743253, 'r_var': 134.50567199523354} ADE:22.291919662508487\n",
    "- {'q_var': 31.548048307438687, 'r_var': 199.99999999999997} ADE:22.69878701033521\n",
    "- {'q_var': 17.266130167990923, 'r_var': 162.3100133612752} ADE:21.791229502949385\n",
    "- {'q_var': 2.1451830012770112, 'r_var': 119.49832681948244} ADE:19.396253677900415\n",
    "- {'q_var': 10.68977698973989, 'r_var': 104.58652082983697} ADE:21.706828026167155\n",
    "- {'q_var': 20.018173460688566, 'r_var': 180.35298309143698} ADE:21.881616195822115"
   ]
  },
  {
   "cell_type": "markdown",
   "metadata": {},
   "source": [
    "# What to say about Kalman\n",
    "- uses two kalman filters so we can use diagonal matrices (assume independence between x and y coordinate but not between x1 and x2 or y1 and y2).\n",
    "- hyper-parameter search using AX again for choosing the best measurement noise variance and process noise variance values.\n",
    "    - there might be better ways but its difficult to measure these values (or requires more knowledge of the subject).\n",
    "- values are not bad when using constant velocity model. Constant acceleration is much worse.\n",
    "- now seems to achieve better ADE than GRUEncDec??\n",
    "- would like to test constant accel again with higher R values (last time was up to 100 i think)\n",
    "- what about suggesting first filtering with kalman and then making predictions with RNN?\n",
    "- maybe we should compare the results for short horizons to see if it's worthwhile to filter the data before using RNN"
   ]
  },
  {
   "cell_type": "code",
   "execution_count": null,
   "metadata": {},
   "outputs": [],
   "source": [
    "\n"
   ]
  }
 ],
 "metadata": {
  "kernelspec": {
   "display_name": "Python [conda env:py37]",
   "language": "python",
   "name": "conda-env-py37-py"
  },
  "language_info": {
   "codemirror_mode": {
    "name": "ipython",
    "version": 3
   },
   "file_extension": ".py",
   "mimetype": "text/x-python",
   "name": "python",
   "nbconvert_exporter": "python",
   "pygments_lexer": "ipython3",
   "version": "3.7.7"
  }
 },
 "nbformat": 4,
 "nbformat_minor": 4
}
