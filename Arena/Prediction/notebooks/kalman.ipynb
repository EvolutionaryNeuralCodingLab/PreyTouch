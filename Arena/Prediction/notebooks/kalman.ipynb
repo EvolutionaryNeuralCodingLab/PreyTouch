{
 "cells": [
  {
   "cell_type": "code",
   "execution_count": 2,
   "metadata": {},
   "outputs": [],
   "source": [
    "import os\n",
    "os.chdir('/app/Pogona_realtime/Arena')"
   ]
  },
  {
   "cell_type": "code",
   "execution_count": 76,
   "metadata": {},
   "outputs": [],
   "source": [
    "from Prediction import dataset\n",
    "from Prediction import kalman_predict\n",
    "from Prediction import visualize\n",
    "from Prediction import train_eval\n",
    "\n",
    "import imp\n",
    "import numpy as np\n",
    "import matplotlib.pyplot as plt\n",
    "from time import time\n",
    "from ax.service.managed_loop import optimize\n",
    "import torch\n",
    "import json\n",
    "import cv2 as cv"
   ]
  },
  {
   "cell_type": "code",
   "execution_count": 54,
   "metadata": {},
   "outputs": [
    {
     "data": {
      "text/plain": [
       "<module 'Prediction.train_eval' from '/app/Pogona_realtime/Arena/Prediction/train_eval.py'>"
      ]
     },
     "execution_count": 54,
     "metadata": {},
     "output_type": "execute_result"
    }
   ],
   "source": [
    "imp.reload(dataset)\n",
    "imp.reload(visualize)\n",
    "imp.reload(train_eval)"
   ]
  },
  {
   "cell_type": "code",
   "execution_count": 4,
   "metadata": {},
   "outputs": [
    {
     "name": "stdout",
     "output_type": "stream",
     "text": [
      "110 trials loaded\n"
     ]
    }
   ],
   "source": [
    "all_df = dataset.collect_data(data_sources={'detections': True, 'timestamps': True, 'dlc': False, 'touches': True})"
   ]
  },
  {
   "cell_type": "code",
   "execution_count": 4,
   "metadata": {},
   "outputs": [
    {
     "data": {
      "text/plain": [
       "['feeding_20200830-115520_None',\n",
       " 'feeding_20200830-120813_None',\n",
       " 'feeding_4_20200830-121143_None',\n",
       " 'feeding_4_20200830-122515_None',\n",
       " 'feeding_4_20200830-125531_None',\n",
       " 'feeding_4_20200830-125905_None',\n",
       " 'feeding_4_screen_20200830-130446_None',\n",
       " 'feeding_5_20200830-131348_None',\n",
       " 'line_20200803T081429_trial1',\n",
       " 'line_20200803T081735_trial1',\n",
       " 'line_20200803T082002_trial1',\n",
       " 'fast_line_20200803T082414_trial1',\n",
       " 'fast_line_20200803T082724_trial1',\n",
       " 'circle_20200803T084227_trial1',\n",
       " 'circle_20200803T084227_trial2',\n",
       " 'circle_20200803T084529_trial1',\n",
       " 'circle_20200803T084529_trial2',\n",
       " 'fast_cockroach_20200803T085738_trial1',\n",
       " 'circle_20200803T090234_trial1',\n",
       " 'circle_20200803T090615_trial1',\n",
       " 'circle_20200803T091639_trial1',\n",
       " 'circle_20200803T092248_trial1',\n",
       " 'circle_20200803T093051_trial1',\n",
       " 'line_20200803T094928_trial1',\n",
       " 'line_20200803T095401_trial1',\n",
       " 'line_20200803T101641_trial1',\n",
       " 'line_20200803T101641_trial2',\n",
       " 'circle_20200803T113121_trial1',\n",
       " 'line_20200803T114942_trial1',\n",
       " 'circle_20200803T115839_trial1',\n",
       " 'circle_20200803T120911_trial1',\n",
       " 'circle_20200803T121730_trial1',\n",
       " 'line_20200803T122506_trial1',\n",
       " 'red_beetle_20200826T133947_trial1',\n",
       " 'worm_20200826T134603_trial1',\n",
       " 'worm_20200826T135440_trial1',\n",
       " 'worm_20200826T135440_trial2',\n",
       " 'cockroach_line_20200830T115811_trial1',\n",
       " 'cockroach_line_20200830T120130_trial1',\n",
       " 'worm_line_20200830T120451_trial1',\n",
       " 'worm_line_20200830T121513_trial1',\n",
       " 'worm_line_20200830T121825_trial1',\n",
       " 'worm_circle_20200830T122241_trial1',\n",
       " 'worm_line_20200830T122932_trial1',\n",
       " 'cockroach_circle_20200830T123508_trial1',\n",
       " 'beetle_fast_line_20200830T124020_trial1']"
      ]
     },
     "execution_count": 4,
     "metadata": {},
     "output_type": "execute_result"
    }
   ],
   "source": [
    "trial_names = list(all_df.index.unique())\n",
    "trial_names"
   ]
  },
  {
   "cell_type": "code",
   "execution_count": 22,
   "metadata": {},
   "outputs": [],
   "source": [
    "trial = trial_names[8]\n",
    "homography = dataset.homography_for_trial(trial)\n",
    "correction_fn = visualize.get_correction_fn(homography,1920)\n",
    "vid_path = dataset.get_trial_video_path(trial)\n",
    "bboxes = all_df.loc[trial][['x1', 'y1', 'x2', 'y2']].values"
   ]
  },
  {
   "cell_type": "code",
   "execution_count": 26,
   "metadata": {},
   "outputs": [],
   "source": [
    "# no movement: 0s-4s, 32s-40s\n",
    "still_bboxes1 = bboxes[0:4*60]\n",
    "still_bboxes2 = bboxes[32*60:40*60]\n",
    "still_bboxes1 = still_bboxes1[~np.any(np.isnan(still_bboxes1), axis=1)]\n",
    "still_bboxes2 = still_bboxes2[~np.any(np.isnan(still_bboxes2), axis=1)]"
   ]
  },
  {
   "cell_type": "code",
   "execution_count": 36,
   "metadata": {},
   "outputs": [],
   "source": [
    "cov1 = np.cov(still_bboxes1, rowvar=False)\n",
    "cov2 = np.cov(still_bboxes2, rowvar=False)"
   ]
  },
  {
   "cell_type": "code",
   "execution_count": 37,
   "metadata": {},
   "outputs": [
    {
     "data": {
      "text/plain": [
       "array([[10.04448372,  5.28191206, -4.32083342, -6.1339851 ],\n",
       "       [ 5.28191206,  6.54297075, -2.0591427 , -4.13508616],\n",
       "       [-4.32083342, -2.0591427 ,  7.84421984,  4.1640904 ],\n",
       "       [-6.1339851 , -4.13508616,  4.1640904 ,  9.02270658]])"
      ]
     },
     "execution_count": 37,
     "metadata": {},
     "output_type": "execute_result"
    }
   ],
   "source": [
    "cov1"
   ]
  },
  {
   "cell_type": "code",
   "execution_count": 38,
   "metadata": {},
   "outputs": [
    {
     "data": {
      "text/plain": [
       "array([[ 3.01217452,  0.32374946,  0.27029129,  0.10563435],\n",
       "       [ 0.32374946,  2.6565541 , -0.18394073, -0.30784146],\n",
       "       [ 0.27029129, -0.18394073,  4.41411549, -0.92239415],\n",
       "       [ 0.10563435, -0.30784146, -0.92239415,  5.07934416]])"
      ]
     },
     "execution_count": 38,
     "metadata": {},
     "output_type": "execute_result"
    }
   ],
   "source": [
    "cov2"
   ]
  },
  {
   "cell_type": "code",
   "execution_count": 55,
   "metadata": {},
   "outputs": [],
   "source": [
    "def filter_bboxes(bboxes, R, q_var):\n",
    "    traj_inited = False\n",
    "    filtered_bboxes = np.empty(bboxes.shape)\n",
    "    filtered_bboxes[:] = np.nan\n",
    "\n",
    "    for i in range(bboxes.shape[0]):\n",
    "        if not np.any(np.isnan(bboxes[i])):\n",
    "            if traj_inited:\n",
    "                kf.update(bboxes[i])\n",
    "            else:\n",
    "                traj_inited = True\n",
    "                init_x = np.zeros(8, np.float)\n",
    "                init_x[0::2] = bboxes[i]\n",
    "                kf = kalman_predict.create_kalman_filter(input_dim=4, init_x=init_x, r_var=50.0, q_var=q_var)\n",
    "                kf.R = R\n",
    "    \n",
    "        if traj_inited:\n",
    "            kf.predict()\n",
    "            filtered_bboxes[i] = kf.x[0::2]\n",
    "    \n",
    "    return filtered_bboxes"
   ]
  },
  {
   "cell_type": "code",
   "execution_count": 77,
   "metadata": {},
   "outputs": [
    {
     "name": "stderr",
     "output_type": "stream",
     "text": [
      "100%|██████████| 5081/5081 [02:17<00:00, 36.98it/s]\n"
     ]
    }
   ],
   "source": [
    "out_path = '../labelled/2309_test_kalman_filter.mp4'\n",
    "filtered_bboxes = filter_bboxes(bboxes, R=cov2, q_var=1.0)\n",
    "visualize.process_video(video_path=vid_path,\n",
    "                        output_path=out_path,\n",
    "                        process_fns=[ #visualize.offline_bbox_visualizer(bboxes, window_size=1),\n",
    "                                     visualize.offline_bbox_visualizer(filtered_bboxes, color=(255,0,0), window_size=1)],\n",
    "                        correction_fn = correction_fn,\n",
    "#                        num_frames=500,\n",
    "                        resize_to_width=960)"
   ]
  },
  {
   "cell_type": "code",
   "execution_count": 78,
   "metadata": {},
   "outputs": [
    {
     "data": {
      "text/plain": [
       "array([[ 3.35038854,  0.15467331,  0.31965062, -0.03229599],\n",
       "       [ 0.15467331,  3.16603278, -0.01436603, -0.25792195],\n",
       "       [ 0.31965062, -0.01436603,  4.5760921 , -0.51729725],\n",
       "       [-0.03229599, -0.25792195, -0.51729725,  5.16254736]])"
      ]
     },
     "execution_count": 78,
     "metadata": {},
     "output_type": "execute_result"
    }
   ],
   "source": [
    "filtered_cov = np.cov(filtered_bboxes[32*60:40*60], rowvar=False)\n",
    "filtered_cov"
   ]
  },
  {
   "cell_type": "markdown",
   "metadata": {},
   "source": [
    "## Look for Q using Ax and filtering"
   ]
  },
  {
   "cell_type": "code",
   "execution_count": 59,
   "metadata": {},
   "outputs": [],
   "source": [
    "parameters=[\n",
    "    {\"name\": \"q_var\", \"type\": \"range\", \"bounds\": [0.0, 1.0]},\n",
    "    ]\n",
    "all_bboxes = all_df[['x1', 'y1', 'x2', 'y2']].values\n",
    "tensor_bboxes = torch.tensor(all_bboxes).to('cuda')"
   ]
  },
  {
   "cell_type": "code",
   "execution_count": 73,
   "metadata": {},
   "outputs": [],
   "source": [
    "def eval_kalman(params):\n",
    "    filtered = filter_bboxes(all_bboxes, R=cov2, q_var=params[\"q_var\"])\n",
    "    nan_mask = np.any(np.isnan(all_bboxes), axis=1)\n",
    "    tensor_filtered = torch.tensor(filtered).to('cuda')\n",
    "    ade = train_eval.calc_ADE(tensor_filtered[~nan_mask], tensor_bboxes[~nan_mask])\n",
    "    print(f\"params: {params} ADE:{ade.item()}\")\n",
    "    return ade.item()"
   ]
  },
  {
   "cell_type": "code",
   "execution_count": 74,
   "metadata": {
    "collapsed": true,
    "jupyter": {
     "outputs_hidden": true
    }
   },
   "outputs": [
    {
     "name": "stderr",
     "output_type": "stream",
     "text": [
      "[INFO 09-23 17:18:21] ax.modelbridge.dispatch_utils: Using Bayesian Optimization generation strategy: GenerationStrategy(name='Sobol+GPEI', steps=[Sobol for 5 trials, GPEI for subsequent trials]). Iterations after 5 will take longer to generate due to  model-fitting.\n",
      "[INFO 09-23 17:18:21] ax.service.managed_loop: Started full optimization with 100 steps.\n",
      "[INFO 09-23 17:18:21] ax.service.managed_loop: Running optimization trial 1...\n",
      "[INFO 09-23 17:18:34] ax.service.managed_loop: Running optimization trial 2...\n"
     ]
    },
    {
     "name": "stdout",
     "output_type": "stream",
     "text": [
      "params: {'q_var': 0.036391002126038074} ADE:4.777022232638083\n"
     ]
    },
    {
     "name": "stderr",
     "output_type": "stream",
     "text": [
      "[INFO 09-23 17:18:47] ax.service.managed_loop: Running optimization trial 3...\n"
     ]
    },
    {
     "name": "stdout",
     "output_type": "stream",
     "text": [
      "params: {'q_var': 0.7990192454308271} ADE:3.0774003273565387\n"
     ]
    },
    {
     "name": "stderr",
     "output_type": "stream",
     "text": [
      "[INFO 09-23 17:18:59] ax.service.managed_loop: Running optimization trial 4...\n"
     ]
    },
    {
     "name": "stdout",
     "output_type": "stream",
     "text": [
      "params: {'q_var': 0.025500494986772537} ADE:5.076566326998021\n"
     ]
    },
    {
     "name": "stderr",
     "output_type": "stream",
     "text": [
      "[INFO 09-23 17:19:12] ax.service.managed_loop: Running optimization trial 5...\n"
     ]
    },
    {
     "name": "stdout",
     "output_type": "stream",
     "text": [
      "params: {'q_var': 0.42641020007431507} ADE:3.3197311109418974\n"
     ]
    },
    {
     "name": "stderr",
     "output_type": "stream",
     "text": [
      "[INFO 09-23 17:19:24] ax.service.managed_loop: Running optimization trial 6...\n"
     ]
    },
    {
     "name": "stdout",
     "output_type": "stream",
     "text": [
      "params: {'q_var': 0.9616764662787318} ADE:3.0199424022395003\n"
     ]
    },
    {
     "name": "stderr",
     "output_type": "stream",
     "text": [
      "[INFO 09-23 17:19:37] ax.service.managed_loop: Running optimization trial 7...\n"
     ]
    },
    {
     "name": "stdout",
     "output_type": "stream",
     "text": [
      "params: {'q_var': 0.20584332210415096} ADE:3.660049618884288\n"
     ]
    },
    {
     "name": "stderr",
     "output_type": "stream",
     "text": [
      "[INFO 09-23 17:19:51] ax.service.managed_loop: Running optimization trial 8...\n"
     ]
    },
    {
     "name": "stdout",
     "output_type": "stream",
     "text": [
      "params: {'q_var': 0.8831499509450689} ADE:3.045214053798966\n"
     ]
    },
    {
     "name": "stderr",
     "output_type": "stream",
     "text": [
      "[INFO 09-23 17:20:04] ax.service.managed_loop: Running optimization trial 9...\n"
     ]
    },
    {
     "name": "stdout",
     "output_type": "stream",
     "text": [
      "params: {'q_var': 0.633301571233417} ADE:3.1601762371096105\n"
     ]
    },
    {
     "name": "stderr",
     "output_type": "stream",
     "text": [
      "[INFO 09-23 17:20:17] ax.service.managed_loop: Running optimization trial 10...\n"
     ]
    },
    {
     "name": "stdout",
     "output_type": "stream",
     "text": [
      "params: {'q_var': 0.5356978996524974} ADE:3.225243091659161\n"
     ]
    },
    {
     "name": "stderr",
     "output_type": "stream",
     "text": [
      "[INFO 09-23 17:20:31] ax.service.managed_loop: Running optimization trial 11...\n"
     ]
    },
    {
     "name": "stdout",
     "output_type": "stream",
     "text": [
      "params: {'q_var': 0.7186232849974655} ADE:3.1139209247178115\n"
     ]
    },
    {
     "name": "stderr",
     "output_type": "stream",
     "text": [
      "[INFO 09-23 17:20:44] ax.service.managed_loop: Running optimization trial 12...\n"
     ]
    },
    {
     "name": "stdout",
     "output_type": "stream",
     "text": [
      "params: {'q_var': 1.0} ADE:3.009111633963276\n"
     ]
    },
    {
     "name": "stderr",
     "output_type": "stream",
     "text": [
      "[INFO 09-23 17:20:57] ax.service.managed_loop: Running optimization trial 13...\n"
     ]
    },
    {
     "name": "stdout",
     "output_type": "stream",
     "text": [
      "params: {'q_var': 0.9237797597039487} ADE:3.03160235004293\n"
     ]
    },
    {
     "name": "stderr",
     "output_type": "stream",
     "text": [
      "/home/user/miniconda/envs/py37/lib/python3.7/site-packages/gpytorch/utils/cholesky.py:46: NumericalWarning:\n",
      "\n",
      "A not p.d., added jitter of 1.0e-08 to the diagonal\n",
      "\n",
      "[INFO 09-23 17:21:10] ax.service.managed_loop: Running optimization trial 14...\n"
     ]
    },
    {
     "name": "stdout",
     "output_type": "stream",
     "text": [
      "params: {'q_var': 0.9870166891680353} ADE:3.0126758410082743\n"
     ]
    },
    {
     "name": "stderr",
     "output_type": "stream",
     "text": [
      "[INFO 09-23 17:21:23] ax.service.managed_loop: Running optimization trial 15...\n"
     ]
    },
    {
     "name": "stdout",
     "output_type": "stream",
     "text": [
      "params: {'q_var': 0.8415647683842072} ADE:3.0604157558885037\n"
     ]
    },
    {
     "name": "stderr",
     "output_type": "stream",
     "text": [
      "[INFO 09-23 17:21:36] ax.service.managed_loop: Running optimization trial 16...\n"
     ]
    },
    {
     "name": "stdout",
     "output_type": "stream",
     "text": [
      "params: {'q_var': 0.33719651865668715} ADE:3.423107044367047\n"
     ]
    },
    {
     "name": "stderr",
     "output_type": "stream",
     "text": [
      "/home/user/miniconda/envs/py37/lib/python3.7/site-packages/gpytorch/utils/cholesky.py:46: NumericalWarning:\n",
      "\n",
      "A not p.d., added jitter of 1.0e-08 to the diagonal\n",
      "\n",
      "[INFO 09-23 17:21:49] ax.service.managed_loop: Running optimization trial 17...\n"
     ]
    },
    {
     "name": "stdout",
     "output_type": "stream",
     "text": [
      "params: {'q_var': 0.9973859260989777} ADE:3.009820736498267\n"
     ]
    },
    {
     "name": "stderr",
     "output_type": "stream",
     "text": [
      "[INFO 09-23 17:22:02] ax.service.managed_loop: Running optimization trial 18...\n"
     ]
    },
    {
     "name": "stdout",
     "output_type": "stream",
     "text": [
      "params: {'q_var': 0.5861882921100791} ADE:3.189736057568735\n"
     ]
    },
    {
     "name": "stderr",
     "output_type": "stream",
     "text": [
      "[INFO 09-23 17:22:15] ax.service.managed_loop: Running optimization trial 19...\n"
     ]
    },
    {
     "name": "stdout",
     "output_type": "stream",
     "text": [
      "params: {'q_var': 0.9991639072428696} ADE:3.0093379706179197\n"
     ]
    },
    {
     "name": "stderr",
     "output_type": "stream",
     "text": [
      "[INFO 09-23 17:22:28] ax.service.managed_loop: Running optimization trial 20...\n"
     ]
    },
    {
     "name": "stdout",
     "output_type": "stream",
     "text": [
      "params: {'q_var': 0.9990850565955043} ADE:3.009359338621853\n"
     ]
    },
    {
     "name": "stderr",
     "output_type": "stream",
     "text": [
      "[INFO 09-23 17:22:41] ax.service.managed_loop: Running optimization trial 21...\n"
     ]
    },
    {
     "name": "stdout",
     "output_type": "stream",
     "text": [
      "params: {'q_var': 0.9998517073690891} ADE:3.009151746054671\n"
     ]
    },
    {
     "name": "stderr",
     "output_type": "stream",
     "text": [
      "/home/user/miniconda/envs/py37/lib/python3.7/site-packages/gpytorch/utils/cholesky.py:46: NumericalWarning:\n",
      "\n",
      "A not p.d., added jitter of 1.0e-08 to the diagonal\n",
      "\n",
      "[INFO 09-23 17:22:54] ax.service.managed_loop: Running optimization trial 22...\n"
     ]
    },
    {
     "name": "stdout",
     "output_type": "stream",
     "text": [
      "params: {'q_var': 1.0} ADE:3.009111633963276\n"
     ]
    },
    {
     "name": "stderr",
     "output_type": "stream",
     "text": [
      "[INFO 09-23 17:23:07] ax.service.managed_loop: Running optimization trial 23...\n"
     ]
    },
    {
     "name": "stdout",
     "output_type": "stream",
     "text": [
      "params: {'q_var': 0.2931168479844928} ADE:3.4875651872629323\n"
     ]
    },
    {
     "name": "stderr",
     "output_type": "stream",
     "text": [
      "[INFO 09-23 17:23:20] ax.service.managed_loop: Running optimization trial 24...\n"
     ]
    },
    {
     "name": "stdout",
     "output_type": "stream",
     "text": [
      "params: {'q_var': 0.7592871830705179} ADE:3.094680933368592\n"
     ]
    },
    {
     "name": "stderr",
     "output_type": "stream",
     "text": [
      "/home/user/miniconda/envs/py37/lib/python3.7/site-packages/gpytorch/utils/cholesky.py:46: NumericalWarning:\n",
      "\n",
      "A not p.d., added jitter of 1.0e-08 to the diagonal\n",
      "\n",
      "[INFO 09-23 17:23:33] ax.service.managed_loop: Running optimization trial 25...\n"
     ]
    },
    {
     "name": "stdout",
     "output_type": "stream",
     "text": [
      "params: {'q_var': 1.0} ADE:3.009111633963276\n"
     ]
    },
    {
     "name": "stderr",
     "output_type": "stream",
     "text": [
      "[INFO 09-23 17:23:46] ax.service.managed_loop: Running optimization trial 26...\n"
     ]
    },
    {
     "name": "stdout",
     "output_type": "stream",
     "text": [
      "params: {'q_var': 0.3811469366773963} ADE:3.3684191595129063\n"
     ]
    },
    {
     "name": "stderr",
     "output_type": "stream",
     "text": [
      "[INFO 09-23 17:23:59] ax.service.managed_loop: Running optimization trial 27...\n"
     ]
    },
    {
     "name": "stdout",
     "output_type": "stream",
     "text": [
      "params: {'q_var': 0.2512827208265662} ADE:3.5609335608991284\n"
     ]
    },
    {
     "name": "stderr",
     "output_type": "stream",
     "text": [
      "/home/user/miniconda/envs/py37/lib/python3.7/site-packages/gpytorch/utils/cholesky.py:46: NumericalWarning:\n",
      "\n",
      "A not p.d., added jitter of 1.0e-08 to the diagonal\n",
      "\n",
      "[INFO 09-23 17:24:12] ax.service.managed_loop: Running optimization trial 28...\n"
     ]
    },
    {
     "name": "stdout",
     "output_type": "stream",
     "text": [
      "params: {'q_var': 1.0} ADE:3.009111633963276\n"
     ]
    },
    {
     "name": "stderr",
     "output_type": "stream",
     "text": [
      "[INFO 09-23 17:24:25] ax.service.managed_loop: Running optimization trial 29...\n"
     ]
    },
    {
     "name": "stdout",
     "output_type": "stream",
     "text": [
      "params: {'q_var': 0.9995075203478336} ADE:3.0092448990931735\n"
     ]
    },
    {
     "name": "stderr",
     "output_type": "stream",
     "text": [
      "/home/user/miniconda/envs/py37/lib/python3.7/site-packages/gpytorch/utils/cholesky.py:46: NumericalWarning:\n",
      "\n",
      "A not p.d., added jitter of 1.0e-08 to the diagonal\n",
      "\n",
      "/home/user/miniconda/envs/py37/lib/python3.7/site-packages/gpytorch/utils/cholesky.py:46: NumericalWarning:\n",
      "\n",
      "A not p.d., added jitter of 1.0e-08 to the diagonal\n",
      "\n",
      "[INFO 09-23 17:24:38] ax.service.managed_loop: Running optimization trial 30...\n"
     ]
    },
    {
     "name": "stdout",
     "output_type": "stream",
     "text": [
      "params: {'q_var': 1.0} ADE:3.009111633963276\n"
     ]
    },
    {
     "name": "stderr",
     "output_type": "stream",
     "text": [
      "[INFO 09-23 17:24:50] ax.service.managed_loop: Running optimization trial 31...\n"
     ]
    },
    {
     "name": "stdout",
     "output_type": "stream",
     "text": [
      "params: {'q_var': 0.3197874706238508} ADE:3.4472509009111496\n"
     ]
    },
    {
     "name": "stderr",
     "output_type": "stream",
     "text": [
      "[INFO 09-23 17:25:04] ax.service.managed_loop: Running optimization trial 32...\n"
     ]
    },
    {
     "name": "stdout",
     "output_type": "stream",
     "text": [
      "params: {'q_var': 0.29718974232673645} ADE:3.481121723658242\n"
     ]
    },
    {
     "name": "stderr",
     "output_type": "stream",
     "text": [
      "[INFO 09-23 17:25:17] ax.service.managed_loop: Running optimization trial 33...\n"
     ]
    },
    {
     "name": "stdout",
     "output_type": "stream",
     "text": [
      "params: {'q_var': 0.03961062151938677} ADE:4.710365309741073\n"
     ]
    },
    {
     "name": "stderr",
     "output_type": "stream",
     "text": [
      "/home/user/miniconda/envs/py37/lib/python3.7/site-packages/gpytorch/utils/cholesky.py:46: NumericalWarning:\n",
      "\n",
      "A not p.d., added jitter of 1.0e-08 to the diagonal\n",
      "\n",
      "[INFO 09-23 17:25:30] ax.service.managed_loop: Running optimization trial 34...\n"
     ]
    },
    {
     "name": "stdout",
     "output_type": "stream",
     "text": [
      "params: {'q_var': 0.6773809578824541} ADE:3.135209540640969\n"
     ]
    },
    {
     "name": "stderr",
     "output_type": "stream",
     "text": [
      "/home/user/miniconda/envs/py37/lib/python3.7/site-packages/gpytorch/utils/cholesky.py:46: NumericalWarning:\n",
      "\n",
      "A not p.d., added jitter of 1.0e-08 to the diagonal\n",
      "\n",
      "[INFO 09-23 17:25:43] ax.service.managed_loop: Running optimization trial 35...\n"
     ]
    },
    {
     "name": "stdout",
     "output_type": "stream",
     "text": [
      "params: {'q_var': 0.48467054434664203} ADE:3.2659269106278126\n"
     ]
    },
    {
     "name": "stderr",
     "output_type": "stream",
     "text": [
      "/home/user/miniconda/envs/py37/lib/python3.7/site-packages/gpytorch/utils/cholesky.py:46: NumericalWarning:\n",
      "\n",
      "A not p.d., added jitter of 1.0e-08 to the diagonal\n",
      "\n",
      "[INFO 09-23 17:25:56] ax.service.managed_loop: Running optimization trial 36...\n"
     ]
    },
    {
     "name": "stdout",
     "output_type": "stream",
     "text": [
      "params: {'q_var': 0.9433774979816553} ADE:3.0254514858486834\n"
     ]
    },
    {
     "name": "stderr",
     "output_type": "stream",
     "text": [
      "[INFO 09-23 17:26:09] ax.service.managed_loop: Running optimization trial 37...\n"
     ]
    },
    {
     "name": "stdout",
     "output_type": "stream",
     "text": [
      "params: {'q_var': 0.9033200242902694} ADE:3.038308662650845\n"
     ]
    },
    {
     "name": "stderr",
     "output_type": "stream",
     "text": [
      "[INFO 09-23 17:26:22] ax.service.managed_loop: Running optimization trial 38...\n"
     ]
    },
    {
     "name": "stdout",
     "output_type": "stream",
     "text": [
      "params: {'q_var': 0.9755023891662533} ADE:3.0159262851926\n"
     ]
    },
    {
     "name": "stderr",
     "output_type": "stream",
     "text": [
      "[INFO 09-23 17:26:35] ax.service.managed_loop: Running optimization trial 39...\n"
     ]
    },
    {
     "name": "stdout",
     "output_type": "stream",
     "text": [
      "params: {'q_var': 0.9993341444060206} ADE:3.0092918507220574\n"
     ]
    },
    {
     "name": "stderr",
     "output_type": "stream",
     "text": [
      "/home/user/miniconda/envs/py37/lib/python3.7/site-packages/gpytorch/utils/cholesky.py:46: NumericalWarning:\n",
      "\n",
      "A not p.d., added jitter of 1.0e-08 to the diagonal\n",
      "\n",
      "[INFO 09-23 17:26:48] ax.service.managed_loop: Running optimization trial 40...\n"
     ]
    },
    {
     "name": "stdout",
     "output_type": "stream",
     "text": [
      "params: {'q_var': 0.9990998916327953} ADE:3.009355318128101\n"
     ]
    },
    {
     "name": "stderr",
     "output_type": "stream",
     "text": [
      "/home/user/miniconda/envs/py37/lib/python3.7/site-packages/gpytorch/utils/cholesky.py:46: NumericalWarning:\n",
      "\n",
      "A not p.d., added jitter of 1.0e-08 to the diagonal\n",
      "\n",
      "/home/user/miniconda/envs/py37/lib/python3.7/site-packages/gpytorch/utils/cholesky.py:46: NumericalWarning:\n",
      "\n",
      "A not p.d., added jitter of 1.0e-08 to the diagonal\n",
      "\n",
      "[INFO 09-23 17:27:01] ax.service.managed_loop: Running optimization trial 41...\n"
     ]
    },
    {
     "name": "stdout",
     "output_type": "stream",
     "text": [
      "params: {'q_var': 1.0} ADE:3.009111633963276\n"
     ]
    },
    {
     "name": "stderr",
     "output_type": "stream",
     "text": [
      "/home/user/miniconda/envs/py37/lib/python3.7/site-packages/gpytorch/utils/cholesky.py:46: NumericalWarning:\n",
      "\n",
      "A not p.d., added jitter of 1.0e-08 to the diagonal\n",
      "\n",
      "/home/user/miniconda/envs/py37/lib/python3.7/site-packages/gpytorch/utils/cholesky.py:46: NumericalWarning:\n",
      "\n",
      "A not p.d., added jitter of 1.0e-08 to the diagonal\n",
      "\n",
      "[INFO 09-23 17:27:14] ax.service.managed_loop: Running optimization trial 42...\n"
     ]
    },
    {
     "name": "stdout",
     "output_type": "stream",
     "text": [
      "params: {'q_var': 1.0} ADE:3.009111633963276\n"
     ]
    },
    {
     "name": "stderr",
     "output_type": "stream",
     "text": [
      "/home/user/miniconda/envs/py37/lib/python3.7/site-packages/gpytorch/utils/cholesky.py:46: NumericalWarning:\n",
      "\n",
      "A not p.d., added jitter of 1.0e-08 to the diagonal\n",
      "\n",
      "/home/user/miniconda/envs/py37/lib/python3.7/site-packages/gpytorch/utils/cholesky.py:46: NumericalWarning:\n",
      "\n",
      "A not p.d., added jitter of 1.0e-08 to the diagonal\n",
      "\n",
      "[INFO 09-23 17:27:28] ax.service.managed_loop: Running optimization trial 43...\n"
     ]
    },
    {
     "name": "stdout",
     "output_type": "stream",
     "text": [
      "params: {'q_var': 1.0} ADE:3.009111633963276\n"
     ]
    },
    {
     "name": "stderr",
     "output_type": "stream",
     "text": [
      "/home/user/miniconda/envs/py37/lib/python3.7/site-packages/gpytorch/utils/cholesky.py:46: NumericalWarning:\n",
      "\n",
      "A not p.d., added jitter of 1.0e-08 to the diagonal\n",
      "\n",
      "/home/user/miniconda/envs/py37/lib/python3.7/site-packages/gpytorch/utils/cholesky.py:46: NumericalWarning:\n",
      "\n",
      "A not p.d., added jitter of 1.0e-08 to the diagonal\n",
      "\n",
      "[INFO 09-23 17:27:41] ax.service.managed_loop: Running optimization trial 44...\n"
     ]
    },
    {
     "name": "stdout",
     "output_type": "stream",
     "text": [
      "params: {'q_var': 1.0} ADE:3.009111633963276\n"
     ]
    },
    {
     "name": "stderr",
     "output_type": "stream",
     "text": [
      "/home/user/miniconda/envs/py37/lib/python3.7/site-packages/gpytorch/utils/cholesky.py:46: NumericalWarning:\n",
      "\n",
      "A not p.d., added jitter of 1.0e-08 to the diagonal\n",
      "\n",
      "/home/user/miniconda/envs/py37/lib/python3.7/site-packages/gpytorch/utils/cholesky.py:46: NumericalWarning:\n",
      "\n",
      "A not p.d., added jitter of 1.0e-08 to the diagonal\n",
      "\n",
      "[INFO 09-23 17:27:54] ax.service.managed_loop: Running optimization trial 45...\n"
     ]
    },
    {
     "name": "stdout",
     "output_type": "stream",
     "text": [
      "params: {'q_var': 1.0} ADE:3.009111633963276\n"
     ]
    },
    {
     "name": "stderr",
     "output_type": "stream",
     "text": [
      "[INFO 09-23 17:28:07] ax.service.managed_loop: Running optimization trial 46...\n"
     ]
    },
    {
     "name": "stdout",
     "output_type": "stream",
     "text": [
      "params: {'q_var': 0.6909035332500935} ADE:3.128020423598859\n"
     ]
    },
    {
     "name": "stderr",
     "output_type": "stream",
     "text": [
      "/home/user/miniconda/envs/py37/lib/python3.7/site-packages/gpytorch/utils/cholesky.py:46: NumericalWarning:\n",
      "\n",
      "A not p.d., added jitter of 1.0e-08 to the diagonal\n",
      "\n",
      "[INFO 09-23 17:28:20] ax.service.managed_loop: Running optimization trial 47...\n"
     ]
    },
    {
     "name": "stdout",
     "output_type": "stream",
     "text": [
      "params: {'q_var': 0.2750427173450589} ADE:3.5175609023092256\n"
     ]
    },
    {
     "name": "stderr",
     "output_type": "stream",
     "text": [
      "/home/user/miniconda/envs/py37/lib/python3.7/site-packages/gpytorch/utils/cholesky.py:46: NumericalWarning:\n",
      "\n",
      "A not p.d., added jitter of 1.0e-08 to the diagonal\n",
      "\n",
      "/home/user/miniconda/envs/py37/lib/python3.7/site-packages/gpytorch/utils/cholesky.py:46: NumericalWarning:\n",
      "\n",
      "A not p.d., added jitter of 1.0e-08 to the diagonal\n",
      "\n",
      "[INFO 09-23 17:28:33] ax.service.managed_loop: Running optimization trial 48...\n"
     ]
    },
    {
     "name": "stdout",
     "output_type": "stream",
     "text": [
      "params: {'q_var': 1.0} ADE:3.009111633963276\n"
     ]
    },
    {
     "name": "stderr",
     "output_type": "stream",
     "text": [
      "[INFO 09-23 17:28:46] ax.service.managed_loop: Running optimization trial 49...\n"
     ]
    },
    {
     "name": "stdout",
     "output_type": "stream",
     "text": [
      "params: {'q_var': 0.3904015691950917} ADE:3.357894192546644\n"
     ]
    },
    {
     "name": "stderr",
     "output_type": "stream",
     "text": [
      "/home/user/miniconda/envs/py37/lib/python3.7/site-packages/gpytorch/utils/cholesky.py:46: NumericalWarning:\n",
      "\n",
      "A not p.d., added jitter of 1.0e-08 to the diagonal\n",
      "\n",
      "/home/user/miniconda/envs/py37/lib/python3.7/site-packages/gpytorch/utils/cholesky.py:46: NumericalWarning:\n",
      "\n",
      "A not p.d., added jitter of 1.0e-08 to the diagonal\n",
      "\n",
      "[INFO 09-23 17:29:00] ax.service.managed_loop: Running optimization trial 50...\n"
     ]
    },
    {
     "name": "stdout",
     "output_type": "stream",
     "text": [
      "params: {'q_var': 1.0} ADE:3.009111633963276\n"
     ]
    },
    {
     "name": "stderr",
     "output_type": "stream",
     "text": [
      "/home/user/miniconda/envs/py37/lib/python3.7/site-packages/gpytorch/utils/cholesky.py:46: NumericalWarning:\n",
      "\n",
      "A not p.d., added jitter of 1.0e-08 to the diagonal\n",
      "\n",
      "/home/user/miniconda/envs/py37/lib/python3.7/site-packages/gpytorch/utils/cholesky.py:46: NumericalWarning:\n",
      "\n",
      "A not p.d., added jitter of 1.0e-08 to the diagonal\n",
      "\n",
      "[INFO 09-23 17:29:13] ax.service.managed_loop: Running optimization trial 51...\n"
     ]
    },
    {
     "name": "stdout",
     "output_type": "stream",
     "text": [
      "params: {'q_var': 0.9999999999999999} ADE:3.009111633963276\n"
     ]
    },
    {
     "name": "stderr",
     "output_type": "stream",
     "text": [
      "/home/user/miniconda/envs/py37/lib/python3.7/site-packages/gpytorch/utils/cholesky.py:46: NumericalWarning:\n",
      "\n",
      "A not p.d., added jitter of 1.0e-08 to the diagonal\n",
      "\n",
      "/home/user/miniconda/envs/py37/lib/python3.7/site-packages/gpytorch/utils/cholesky.py:46: NumericalWarning:\n",
      "\n",
      "A not p.d., added jitter of 1.0e-08 to the diagonal\n",
      "\n",
      "[INFO 09-23 17:29:26] ax.service.managed_loop: Running optimization trial 52...\n"
     ]
    },
    {
     "name": "stdout",
     "output_type": "stream",
     "text": [
      "params: {'q_var': 0.8986653471365571} ADE:3.0398759677585865\n"
     ]
    },
    {
     "name": "stderr",
     "output_type": "stream",
     "text": [
      "/home/user/miniconda/envs/py37/lib/python3.7/site-packages/gpytorch/utils/cholesky.py:46: NumericalWarning:\n",
      "\n",
      "A not p.d., added jitter of 1.0e-08 to the diagonal\n",
      "\n",
      "/home/user/miniconda/envs/py37/lib/python3.7/site-packages/gpytorch/utils/cholesky.py:46: NumericalWarning:\n",
      "\n",
      "A not p.d., added jitter of 1.0e-08 to the diagonal\n",
      "\n",
      "[INFO 09-23 17:29:39] ax.service.managed_loop: Running optimization trial 53...\n"
     ]
    },
    {
     "name": "stdout",
     "output_type": "stream",
     "text": [
      "params: {'q_var': 0.9994006846100092} ADE:3.0092738288677845\n"
     ]
    },
    {
     "name": "stderr",
     "output_type": "stream",
     "text": [
      "/home/user/miniconda/envs/py37/lib/python3.7/site-packages/gpytorch/utils/cholesky.py:46: NumericalWarning:\n",
      "\n",
      "A not p.d., added jitter of 1.0e-08 to the diagonal\n",
      "\n",
      "/home/user/miniconda/envs/py37/lib/python3.7/site-packages/gpytorch/utils/cholesky.py:46: NumericalWarning:\n",
      "\n",
      "A not p.d., added jitter of 1.0e-08 to the diagonal\n",
      "\n",
      "[INFO 09-23 17:29:52] ax.service.managed_loop: Running optimization trial 54...\n"
     ]
    },
    {
     "name": "stdout",
     "output_type": "stream",
     "text": [
      "params: {'q_var': 1.0} ADE:3.009111633963276\n"
     ]
    },
    {
     "name": "stderr",
     "output_type": "stream",
     "text": [
      "/home/user/miniconda/envs/py37/lib/python3.7/site-packages/gpytorch/utils/cholesky.py:46: NumericalWarning:\n",
      "\n",
      "A not p.d., added jitter of 1.0e-08 to the diagonal\n",
      "\n",
      "/home/user/miniconda/envs/py37/lib/python3.7/site-packages/gpytorch/utils/cholesky.py:46: NumericalWarning:\n",
      "\n",
      "A not p.d., added jitter of 1.0e-08 to the diagonal\n",
      "\n",
      "[INFO 09-23 17:30:05] ax.service.managed_loop: Running optimization trial 55...\n"
     ]
    },
    {
     "name": "stdout",
     "output_type": "stream",
     "text": [
      "params: {'q_var': 0.1463532503694296} ADE:3.8416881678920753\n"
     ]
    },
    {
     "name": "stderr",
     "output_type": "stream",
     "text": [
      "/home/user/miniconda/envs/py37/lib/python3.7/site-packages/gpytorch/utils/cholesky.py:46: NumericalWarning:\n",
      "\n",
      "A not p.d., added jitter of 1.0e-08 to the diagonal\n",
      "\n",
      "/home/user/miniconda/envs/py37/lib/python3.7/site-packages/gpytorch/utils/cholesky.py:46: NumericalWarning:\n",
      "\n",
      "A not p.d., added jitter of 1.0e-08 to the diagonal\n",
      "\n",
      "[INFO 09-23 17:30:19] ax.service.managed_loop: Running optimization trial 56...\n"
     ]
    },
    {
     "name": "stdout",
     "output_type": "stream",
     "text": [
      "params: {'q_var': 1.0} ADE:3.009111633963276\n"
     ]
    },
    {
     "name": "stderr",
     "output_type": "stream",
     "text": [
      "/home/user/miniconda/envs/py37/lib/python3.7/site-packages/gpytorch/utils/cholesky.py:46: NumericalWarning:\n",
      "\n",
      "A not p.d., added jitter of 1.0e-08 to the diagonal\n",
      "\n",
      "/home/user/miniconda/envs/py37/lib/python3.7/site-packages/gpytorch/utils/cholesky.py:46: NumericalWarning:\n",
      "\n",
      "A not p.d., added jitter of 1.0e-08 to the diagonal\n",
      "\n",
      "[INFO 09-23 17:30:32] ax.service.managed_loop: Running optimization trial 57...\n"
     ]
    },
    {
     "name": "stdout",
     "output_type": "stream",
     "text": [
      "params: {'q_var': 0.9820273369550705} ADE:3.0140739027613996\n"
     ]
    },
    {
     "name": "stderr",
     "output_type": "stream",
     "text": [
      "/home/user/miniconda/envs/py37/lib/python3.7/site-packages/gpytorch/utils/cholesky.py:46: NumericalWarning:\n",
      "\n",
      "A not p.d., added jitter of 1.0e-08 to the diagonal\n",
      "\n",
      "/home/user/miniconda/envs/py37/lib/python3.7/site-packages/gpytorch/utils/cholesky.py:46: NumericalWarning:\n",
      "\n",
      "A not p.d., added jitter of 1.0e-08 to the diagonal\n",
      "\n",
      "[INFO 09-23 17:30:45] ax.service.managed_loop: Running optimization trial 58...\n"
     ]
    },
    {
     "name": "stdout",
     "output_type": "stream",
     "text": [
      "params: {'q_var': 0.9994809916242957} ADE:3.0092520820725395\n"
     ]
    },
    {
     "name": "stderr",
     "output_type": "stream",
     "text": [
      "/home/user/miniconda/envs/py37/lib/python3.7/site-packages/gpytorch/utils/cholesky.py:46: NumericalWarning:\n",
      "\n",
      "A not p.d., added jitter of 1.0e-08 to the diagonal\n",
      "\n",
      "/home/user/miniconda/envs/py37/lib/python3.7/site-packages/gpytorch/utils/cholesky.py:46: NumericalWarning:\n",
      "\n",
      "A not p.d., added jitter of 1.0e-08 to the diagonal\n",
      "\n",
      "[INFO 09-23 17:30:59] ax.service.managed_loop: Running optimization trial 59...\n"
     ]
    },
    {
     "name": "stdout",
     "output_type": "stream",
     "text": [
      "params: {'q_var': 1.0} ADE:3.009111633963276\n"
     ]
    },
    {
     "name": "stderr",
     "output_type": "stream",
     "text": [
      "/home/user/miniconda/envs/py37/lib/python3.7/site-packages/gpytorch/utils/cholesky.py:46: NumericalWarning:\n",
      "\n",
      "A not p.d., added jitter of 1.0e-08 to the diagonal\n",
      "\n",
      "/home/user/miniconda/envs/py37/lib/python3.7/site-packages/gpytorch/utils/cholesky.py:46: NumericalWarning:\n",
      "\n",
      "A not p.d., added jitter of 1.0e-08 to the diagonal\n",
      "\n",
      "[INFO 09-23 17:31:12] ax.service.managed_loop: Running optimization trial 60...\n"
     ]
    },
    {
     "name": "stdout",
     "output_type": "stream",
     "text": [
      "params: {'q_var': 0.7351266918703914} ADE:3.105913120978354\n"
     ]
    },
    {
     "name": "stderr",
     "output_type": "stream",
     "text": [
      "/home/user/miniconda/envs/py37/lib/python3.7/site-packages/gpytorch/utils/cholesky.py:46: NumericalWarning:\n",
      "\n",
      "A not p.d., added jitter of 1.0e-08 to the diagonal\n",
      "\n",
      "/home/user/miniconda/envs/py37/lib/python3.7/site-packages/gpytorch/utils/cholesky.py:46: NumericalWarning:\n",
      "\n",
      "A not p.d., added jitter of 1.0e-08 to the diagonal\n",
      "\n",
      "[INFO 09-23 17:31:25] ax.service.managed_loop: Running optimization trial 61...\n"
     ]
    },
    {
     "name": "stdout",
     "output_type": "stream",
     "text": [
      "params: {'q_var': 1.0} ADE:3.009111633963276\n"
     ]
    },
    {
     "name": "stderr",
     "output_type": "stream",
     "text": [
      "/home/user/miniconda/envs/py37/lib/python3.7/site-packages/gpytorch/utils/cholesky.py:46: NumericalWarning:\n",
      "\n",
      "A not p.d., added jitter of 1.0e-08 to the diagonal\n",
      "\n",
      "/home/user/miniconda/envs/py37/lib/python3.7/site-packages/gpytorch/utils/cholesky.py:46: NumericalWarning:\n",
      "\n",
      "A not p.d., added jitter of 1.0e-08 to the diagonal\n",
      "\n",
      "[INFO 09-23 17:31:39] ax.service.managed_loop: Running optimization trial 62...\n"
     ]
    },
    {
     "name": "stdout",
     "output_type": "stream",
     "text": [
      "params: {'q_var': 0.7910188212990761} ADE:3.0807658092038372\n"
     ]
    },
    {
     "name": "stderr",
     "output_type": "stream",
     "text": [
      "/home/user/miniconda/envs/py37/lib/python3.7/site-packages/gpytorch/utils/cholesky.py:46: NumericalWarning:\n",
      "\n",
      "A not p.d., added jitter of 1.0e-08 to the diagonal\n",
      "\n",
      "/home/user/miniconda/envs/py37/lib/python3.7/site-packages/gpytorch/utils/cholesky.py:46: NumericalWarning:\n",
      "\n",
      "A not p.d., added jitter of 1.0e-08 to the diagonal\n",
      "\n",
      "[INFO 09-23 17:31:52] ax.service.managed_loop: Running optimization trial 63...\n"
     ]
    },
    {
     "name": "stdout",
     "output_type": "stream",
     "text": [
      "params: {'q_var': 0.9993178974837065} ADE:3.0092962514844173\n"
     ]
    },
    {
     "name": "stderr",
     "output_type": "stream",
     "text": [
      "/home/user/miniconda/envs/py37/lib/python3.7/site-packages/gpytorch/utils/cholesky.py:46: NumericalWarning:\n",
      "\n",
      "A not p.d., added jitter of 1.0e-08 to the diagonal\n",
      "\n",
      "/home/user/miniconda/envs/py37/lib/python3.7/site-packages/gpytorch/utils/cholesky.py:46: NumericalWarning:\n",
      "\n",
      "A not p.d., added jitter of 1.0e-08 to the diagonal\n",
      "\n",
      "[INFO 09-23 17:32:06] ax.service.managed_loop: Running optimization trial 64...\n"
     ]
    },
    {
     "name": "stdout",
     "output_type": "stream",
     "text": [
      "params: {'q_var': 1.0} ADE:3.009111633963276\n"
     ]
    },
    {
     "name": "stderr",
     "output_type": "stream",
     "text": [
      "/home/user/miniconda/envs/py37/lib/python3.7/site-packages/gpytorch/utils/cholesky.py:46: NumericalWarning:\n",
      "\n",
      "A not p.d., added jitter of 1.0e-08 to the diagonal\n",
      "\n",
      "/home/user/miniconda/envs/py37/lib/python3.7/site-packages/gpytorch/utils/cholesky.py:46: NumericalWarning:\n",
      "\n",
      "A not p.d., added jitter of 1.0e-08 to the diagonal\n",
      "\n",
      "[INFO 09-23 17:32:19] ax.service.managed_loop: Running optimization trial 65...\n"
     ]
    },
    {
     "name": "stdout",
     "output_type": "stream",
     "text": [
      "params: {'q_var': 0.6233224300667644} ADE:3.166175825250932\n"
     ]
    },
    {
     "name": "stderr",
     "output_type": "stream",
     "text": [
      "/home/user/miniconda/envs/py37/lib/python3.7/site-packages/gpytorch/utils/cholesky.py:46: NumericalWarning:\n",
      "\n",
      "A not p.d., added jitter of 1.0e-08 to the diagonal\n",
      "\n",
      "/home/user/miniconda/envs/py37/lib/python3.7/site-packages/gpytorch/utils/cholesky.py:46: NumericalWarning:\n",
      "\n",
      "A not p.d., added jitter of 1.0e-08 to the diagonal\n",
      "\n",
      "[INFO 09-23 17:32:32] ax.service.managed_loop: Running optimization trial 66...\n"
     ]
    },
    {
     "name": "stdout",
     "output_type": "stream",
     "text": [
      "params: {'q_var': 0.5776912420988083} ADE:3.1954172398893794\n"
     ]
    },
    {
     "name": "stderr",
     "output_type": "stream",
     "text": [
      "/home/user/miniconda/envs/py37/lib/python3.7/site-packages/gpytorch/utils/cholesky.py:46: NumericalWarning:\n",
      "\n",
      "A not p.d., added jitter of 1.0e-08 to the diagonal\n",
      "\n",
      "/home/user/miniconda/envs/py37/lib/python3.7/site-packages/gpytorch/utils/cholesky.py:46: NumericalWarning:\n",
      "\n",
      "A not p.d., added jitter of 1.0e-08 to the diagonal\n",
      "\n",
      "[INFO 09-23 17:32:45] ax.service.managed_loop: Running optimization trial 67...\n"
     ]
    },
    {
     "name": "stdout",
     "output_type": "stream",
     "text": [
      "params: {'q_var': 0.9994854098185897} ADE:3.0092508857613844\n"
     ]
    },
    {
     "name": "stderr",
     "output_type": "stream",
     "text": [
      "/home/user/miniconda/envs/py37/lib/python3.7/site-packages/gpytorch/utils/cholesky.py:46: NumericalWarning:\n",
      "\n",
      "A not p.d., added jitter of 1.0e-08 to the diagonal\n",
      "\n",
      "/home/user/miniconda/envs/py37/lib/python3.7/site-packages/gpytorch/utils/cholesky.py:46: NumericalWarning:\n",
      "\n",
      "A not p.d., added jitter of 1.0e-08 to the diagonal\n",
      "\n",
      "[INFO 09-23 17:32:59] ax.service.managed_loop: Running optimization trial 68...\n"
     ]
    },
    {
     "name": "stdout",
     "output_type": "stream",
     "text": [
      "params: {'q_var': 0.37433989997953176} ADE:3.376365179209217\n"
     ]
    },
    {
     "name": "stderr",
     "output_type": "stream",
     "text": [
      "/home/user/miniconda/envs/py37/lib/python3.7/site-packages/gpytorch/utils/cholesky.py:46: NumericalWarning:\n",
      "\n",
      "A not p.d., added jitter of 1.0e-08 to the diagonal\n",
      "\n",
      "/home/user/miniconda/envs/py37/lib/python3.7/site-packages/gpytorch/utils/cholesky.py:46: NumericalWarning:\n",
      "\n",
      "A not p.d., added jitter of 1.0e-08 to the diagonal\n",
      "\n",
      "[INFO 09-23 17:33:12] ax.service.managed_loop: Running optimization trial 69...\n"
     ]
    },
    {
     "name": "stdout",
     "output_type": "stream",
     "text": [
      "params: {'q_var': 1.0} ADE:3.009111633963276\n"
     ]
    },
    {
     "name": "stderr",
     "output_type": "stream",
     "text": [
      "/home/user/miniconda/envs/py37/lib/python3.7/site-packages/gpytorch/utils/cholesky.py:46: NumericalWarning:\n",
      "\n",
      "A not p.d., added jitter of 1.0e-08 to the diagonal\n",
      "\n",
      "/home/user/miniconda/envs/py37/lib/python3.7/site-packages/gpytorch/utils/cholesky.py:46: NumericalWarning:\n",
      "\n",
      "A not p.d., added jitter of 1.0e-08 to the diagonal\n",
      "\n",
      "[INFO 09-23 17:33:25] ax.service.managed_loop: Running optimization trial 70...\n"
     ]
    },
    {
     "name": "stdout",
     "output_type": "stream",
     "text": [
      "params: {'q_var': 0.2533044358715415} ADE:3.5570489160963428\n"
     ]
    },
    {
     "name": "stderr",
     "output_type": "stream",
     "text": [
      "/home/user/miniconda/envs/py37/lib/python3.7/site-packages/gpytorch/utils/cholesky.py:46: NumericalWarning:\n",
      "\n",
      "A not p.d., added jitter of 1.0e-08 to the diagonal\n",
      "\n",
      "/home/user/miniconda/envs/py37/lib/python3.7/site-packages/gpytorch/utils/cholesky.py:46: NumericalWarning:\n",
      "\n",
      "A not p.d., added jitter of 1.0e-08 to the diagonal\n",
      "\n",
      "[INFO 09-23 17:33:39] ax.service.managed_loop: Running optimization trial 71...\n"
     ]
    },
    {
     "name": "stdout",
     "output_type": "stream",
     "text": [
      "params: {'q_var': 1.0} ADE:3.009111633963276\n"
     ]
    },
    {
     "name": "stderr",
     "output_type": "stream",
     "text": [
      "/home/user/miniconda/envs/py37/lib/python3.7/site-packages/gpytorch/utils/cholesky.py:46: NumericalWarning:\n",
      "\n",
      "A not p.d., added jitter of 1.0e-08 to the diagonal\n",
      "\n",
      "/home/user/miniconda/envs/py37/lib/python3.7/site-packages/gpytorch/utils/cholesky.py:46: NumericalWarning:\n",
      "\n",
      "A not p.d., added jitter of 1.0e-08 to the diagonal\n",
      "\n",
      "[INFO 09-23 17:33:53] ax.service.managed_loop: Running optimization trial 72...\n"
     ]
    },
    {
     "name": "stdout",
     "output_type": "stream",
     "text": [
      "params: {'q_var': 1.0} ADE:3.009111633963276\n"
     ]
    },
    {
     "name": "stderr",
     "output_type": "stream",
     "text": [
      "/home/user/miniconda/envs/py37/lib/python3.7/site-packages/gpytorch/utils/cholesky.py:46: NumericalWarning:\n",
      "\n",
      "A not p.d., added jitter of 1.0e-08 to the diagonal\n",
      "\n",
      "/home/user/miniconda/envs/py37/lib/python3.7/site-packages/gpytorch/utils/cholesky.py:46: NumericalWarning:\n",
      "\n",
      "A not p.d., added jitter of 1.0e-08 to the diagonal\n",
      "\n",
      "[INFO 09-23 17:34:06] ax.service.managed_loop: Running optimization trial 73...\n"
     ]
    },
    {
     "name": "stdout",
     "output_type": "stream",
     "text": [
      "params: {'q_var': 0.23094658739864826} ADE:3.6022962644200125\n"
     ]
    },
    {
     "name": "stderr",
     "output_type": "stream",
     "text": [
      "/home/user/miniconda/envs/py37/lib/python3.7/site-packages/gpytorch/utils/cholesky.py:46: NumericalWarning:\n",
      "\n",
      "A not p.d., added jitter of 1.0e-08 to the diagonal\n",
      "\n",
      "/home/user/miniconda/envs/py37/lib/python3.7/site-packages/gpytorch/utils/cholesky.py:46: NumericalWarning:\n",
      "\n",
      "A not p.d., added jitter of 1.0e-08 to the diagonal\n",
      "\n",
      "[INFO 09-23 17:34:19] ax.service.managed_loop: Running optimization trial 74...\n"
     ]
    },
    {
     "name": "stdout",
     "output_type": "stream",
     "text": [
      "params: {'q_var': 1.0} ADE:3.009111633963276\n"
     ]
    },
    {
     "name": "stderr",
     "output_type": "stream",
     "text": [
      "/home/user/miniconda/envs/py37/lib/python3.7/site-packages/gpytorch/utils/cholesky.py:46: NumericalWarning:\n",
      "\n",
      "A not p.d., added jitter of 1.0e-08 to the diagonal\n",
      "\n",
      "/home/user/miniconda/envs/py37/lib/python3.7/site-packages/gpytorch/utils/cholesky.py:46: NumericalWarning:\n",
      "\n",
      "A not p.d., added jitter of 1.0e-08 to the diagonal\n",
      "\n",
      "[INFO 09-23 17:34:32] ax.service.managed_loop: Running optimization trial 75...\n"
     ]
    },
    {
     "name": "stdout",
     "output_type": "stream",
     "text": [
      "params: {'q_var': 1.0} ADE:3.009111633963276\n"
     ]
    },
    {
     "name": "stderr",
     "output_type": "stream",
     "text": [
      "/home/user/miniconda/envs/py37/lib/python3.7/site-packages/gpytorch/utils/cholesky.py:46: NumericalWarning:\n",
      "\n",
      "A not p.d., added jitter of 1.0e-08 to the diagonal\n",
      "\n",
      "/home/user/miniconda/envs/py37/lib/python3.7/site-packages/gpytorch/utils/cholesky.py:46: NumericalWarning:\n",
      "\n",
      "A not p.d., added jitter of 1.0e-08 to the diagonal\n",
      "\n",
      "[INFO 09-23 17:34:46] ax.service.managed_loop: Running optimization trial 76...\n"
     ]
    },
    {
     "name": "stdout",
     "output_type": "stream",
     "text": [
      "params: {'q_var': 1.0} ADE:3.009111633963276\n"
     ]
    },
    {
     "name": "stderr",
     "output_type": "stream",
     "text": [
      "/home/user/miniconda/envs/py37/lib/python3.7/site-packages/gpytorch/utils/cholesky.py:46: NumericalWarning:\n",
      "\n",
      "A not p.d., added jitter of 1.0e-08 to the diagonal\n",
      "\n",
      "/home/user/miniconda/envs/py37/lib/python3.7/site-packages/gpytorch/utils/cholesky.py:46: NumericalWarning:\n",
      "\n",
      "A not p.d., added jitter of 1.0e-08 to the diagonal\n",
      "\n",
      "[INFO 09-23 17:34:59] ax.service.managed_loop: Running optimization trial 77...\n"
     ]
    },
    {
     "name": "stdout",
     "output_type": "stream",
     "text": [
      "params: {'q_var': 0.9995056474581361} ADE:3.0092454061867544\n"
     ]
    },
    {
     "name": "stderr",
     "output_type": "stream",
     "text": [
      "/home/user/miniconda/envs/py37/lib/python3.7/site-packages/gpytorch/utils/cholesky.py:46: NumericalWarning:\n",
      "\n",
      "A not p.d., added jitter of 1.0e-08 to the diagonal\n",
      "\n",
      "/home/user/miniconda/envs/py37/lib/python3.7/site-packages/gpytorch/utils/cholesky.py:46: NumericalWarning:\n",
      "\n",
      "A not p.d., added jitter of 1.0e-08 to the diagonal\n",
      "\n",
      "[INFO 09-23 17:35:12] ax.service.managed_loop: Running optimization trial 78...\n"
     ]
    },
    {
     "name": "stdout",
     "output_type": "stream",
     "text": [
      "params: {'q_var': 1.0} ADE:3.009111633963276\n"
     ]
    },
    {
     "name": "stderr",
     "output_type": "stream",
     "text": [
      "/home/user/miniconda/envs/py37/lib/python3.7/site-packages/gpytorch/utils/cholesky.py:46: NumericalWarning:\n",
      "\n",
      "A not p.d., added jitter of 1.0e-08 to the diagonal\n",
      "\n",
      "/home/user/miniconda/envs/py37/lib/python3.7/site-packages/gpytorch/utils/cholesky.py:46: NumericalWarning:\n",
      "\n",
      "A not p.d., added jitter of 1.0e-08 to the diagonal\n",
      "\n",
      "[INFO 09-23 17:35:26] ax.service.managed_loop: Running optimization trial 79...\n"
     ]
    },
    {
     "name": "stdout",
     "output_type": "stream",
     "text": [
      "params: {'q_var': 0.9995449306443334} ADE:3.0092347705406852\n"
     ]
    },
    {
     "name": "stderr",
     "output_type": "stream",
     "text": [
      "/home/user/miniconda/envs/py37/lib/python3.7/site-packages/gpytorch/utils/cholesky.py:46: NumericalWarning:\n",
      "\n",
      "A not p.d., added jitter of 1.0e-08 to the diagonal\n",
      "\n",
      "/home/user/miniconda/envs/py37/lib/python3.7/site-packages/gpytorch/utils/cholesky.py:46: NumericalWarning:\n",
      "\n",
      "A not p.d., added jitter of 1.0e-08 to the diagonal\n",
      "\n",
      "[INFO 09-23 17:35:39] ax.service.managed_loop: Running optimization trial 80...\n"
     ]
    },
    {
     "name": "stdout",
     "output_type": "stream",
     "text": [
      "params: {'q_var': 0.15545023325830698} ADE:3.8082268107787685\n"
     ]
    },
    {
     "name": "stderr",
     "output_type": "stream",
     "text": [
      "/home/user/miniconda/envs/py37/lib/python3.7/site-packages/gpytorch/utils/cholesky.py:46: NumericalWarning:\n",
      "\n",
      "A not p.d., added jitter of 1.0e-08 to the diagonal\n",
      "\n",
      "/home/user/miniconda/envs/py37/lib/python3.7/site-packages/gpytorch/utils/cholesky.py:46: NumericalWarning:\n",
      "\n",
      "A not p.d., added jitter of 1.0e-08 to the diagonal\n",
      "\n",
      "[INFO 09-23 17:35:52] ax.service.managed_loop: Running optimization trial 81...\n"
     ]
    },
    {
     "name": "stdout",
     "output_type": "stream",
     "text": [
      "params: {'q_var': 0.3634172575548291} ADE:3.3894962358404936\n"
     ]
    },
    {
     "name": "stderr",
     "output_type": "stream",
     "text": [
      "/home/user/miniconda/envs/py37/lib/python3.7/site-packages/gpytorch/utils/cholesky.py:46: NumericalWarning:\n",
      "\n",
      "A not p.d., added jitter of 1.0e-08 to the diagonal\n",
      "\n",
      "/home/user/miniconda/envs/py37/lib/python3.7/site-packages/gpytorch/utils/cholesky.py:46: NumericalWarning:\n",
      "\n",
      "A not p.d., added jitter of 1.0e-08 to the diagonal\n",
      "\n",
      "[INFO 09-23 17:36:05] ax.service.managed_loop: Running optimization trial 82...\n"
     ]
    },
    {
     "name": "stdout",
     "output_type": "stream",
     "text": [
      "params: {'q_var': 0.8399155978113413} ADE:3.0610464118609046\n"
     ]
    },
    {
     "name": "stderr",
     "output_type": "stream",
     "text": [
      "/home/user/miniconda/envs/py37/lib/python3.7/site-packages/gpytorch/utils/cholesky.py:46: NumericalWarning:\n",
      "\n",
      "A not p.d., added jitter of 1.0e-08 to the diagonal\n",
      "\n",
      "/home/user/miniconda/envs/py37/lib/python3.7/site-packages/gpytorch/utils/cholesky.py:46: NumericalWarning:\n",
      "\n",
      "A not p.d., added jitter of 1.0e-08 to the diagonal\n",
      "\n",
      "[INFO 09-23 17:36:18] ax.service.managed_loop: Running optimization trial 83...\n"
     ]
    },
    {
     "name": "stdout",
     "output_type": "stream",
     "text": [
      "params: {'q_var': 1.0} ADE:3.009111633963276\n"
     ]
    },
    {
     "name": "stderr",
     "output_type": "stream",
     "text": [
      "/home/user/miniconda/envs/py37/lib/python3.7/site-packages/gpytorch/utils/cholesky.py:46: NumericalWarning:\n",
      "\n",
      "A not p.d., added jitter of 1.0e-08 to the diagonal\n",
      "\n",
      "/home/user/miniconda/envs/py37/lib/python3.7/site-packages/gpytorch/utils/cholesky.py:46: NumericalWarning:\n",
      "\n",
      "A not p.d., added jitter of 1.0e-08 to the diagonal\n",
      "\n",
      "[INFO 09-23 17:36:32] ax.service.managed_loop: Running optimization trial 84...\n"
     ]
    },
    {
     "name": "stdout",
     "output_type": "stream",
     "text": [
      "params: {'q_var': 0.8037606328725815} ADE:3.075432104546315\n"
     ]
    },
    {
     "name": "stderr",
     "output_type": "stream",
     "text": [
      "/home/user/miniconda/envs/py37/lib/python3.7/site-packages/gpytorch/utils/cholesky.py:46: NumericalWarning:\n",
      "\n",
      "A not p.d., added jitter of 1.0e-08 to the diagonal\n",
      "\n",
      "/home/user/miniconda/envs/py37/lib/python3.7/site-packages/gpytorch/utils/cholesky.py:46: NumericalWarning:\n",
      "\n",
      "A not p.d., added jitter of 1.0e-08 to the diagonal\n",
      "\n",
      "[INFO 09-23 17:36:45] ax.service.managed_loop: Running optimization trial 85...\n"
     ]
    },
    {
     "name": "stdout",
     "output_type": "stream",
     "text": [
      "params: {'q_var': 0.21412217430770397} ADE:3.6400796255830086\n"
     ]
    },
    {
     "name": "stderr",
     "output_type": "stream",
     "text": [
      "/home/user/miniconda/envs/py37/lib/python3.7/site-packages/gpytorch/utils/cholesky.py:46: NumericalWarning:\n",
      "\n",
      "A not p.d., added jitter of 1.0e-08 to the diagonal\n",
      "\n",
      "/home/user/miniconda/envs/py37/lib/python3.7/site-packages/gpytorch/utils/cholesky.py:46: NumericalWarning:\n",
      "\n",
      "A not p.d., added jitter of 1.0e-08 to the diagonal\n",
      "\n",
      "[INFO 09-23 17:36:58] ax.service.managed_loop: Running optimization trial 86...\n"
     ]
    },
    {
     "name": "stdout",
     "output_type": "stream",
     "text": [
      "params: {'q_var': 0.9993900945410132} ADE:3.0092766969137585\n"
     ]
    },
    {
     "name": "stderr",
     "output_type": "stream",
     "text": [
      "/home/user/miniconda/envs/py37/lib/python3.7/site-packages/gpytorch/utils/cholesky.py:46: NumericalWarning:\n",
      "\n",
      "A not p.d., added jitter of 1.0e-08 to the diagonal\n",
      "\n",
      "/home/user/miniconda/envs/py37/lib/python3.7/site-packages/gpytorch/utils/cholesky.py:46: NumericalWarning:\n",
      "\n",
      "A not p.d., added jitter of 1.0e-08 to the diagonal\n",
      "\n",
      "[INFO 09-23 17:37:11] ax.service.managed_loop: Running optimization trial 87...\n"
     ]
    },
    {
     "name": "stdout",
     "output_type": "stream",
     "text": [
      "params: {'q_var': 0.9667155360803008} ADE:3.018464239224074\n"
     ]
    },
    {
     "name": "stderr",
     "output_type": "stream",
     "text": [
      "/home/user/miniconda/envs/py37/lib/python3.7/site-packages/gpytorch/utils/cholesky.py:46: NumericalWarning:\n",
      "\n",
      "A not p.d., added jitter of 1.0e-08 to the diagonal\n",
      "\n",
      "/home/user/miniconda/envs/py37/lib/python3.7/site-packages/gpytorch/utils/cholesky.py:46: NumericalWarning:\n",
      "\n",
      "A not p.d., added jitter of 1.0e-08 to the diagonal\n",
      "\n",
      "[INFO 09-23 17:37:25] ax.service.managed_loop: Running optimization trial 88...\n"
     ]
    },
    {
     "name": "stdout",
     "output_type": "stream",
     "text": [
      "params: {'q_var': 1.0} ADE:3.009111633963276\n"
     ]
    },
    {
     "name": "stderr",
     "output_type": "stream",
     "text": [
      "/home/user/miniconda/envs/py37/lib/python3.7/site-packages/gpytorch/utils/cholesky.py:46: NumericalWarning:\n",
      "\n",
      "A not p.d., added jitter of 1.0e-08 to the diagonal\n",
      "\n",
      "/home/user/miniconda/envs/py37/lib/python3.7/site-packages/gpytorch/utils/cholesky.py:46: NumericalWarning:\n",
      "\n",
      "A not p.d., added jitter of 1.0e-08 to the diagonal\n",
      "\n",
      "[INFO 09-23 17:37:38] ax.service.managed_loop: Running optimization trial 89...\n"
     ]
    },
    {
     "name": "stdout",
     "output_type": "stream",
     "text": [
      "params: {'q_var': 0.16557822655886412} ADE:3.773901667630285\n"
     ]
    },
    {
     "name": "stderr",
     "output_type": "stream",
     "text": [
      "/home/user/miniconda/envs/py37/lib/python3.7/site-packages/gpytorch/utils/cholesky.py:46: NumericalWarning:\n",
      "\n",
      "A not p.d., added jitter of 1.0e-08 to the diagonal\n",
      "\n",
      "/home/user/miniconda/envs/py37/lib/python3.7/site-packages/gpytorch/utils/cholesky.py:46: NumericalWarning:\n",
      "\n",
      "A not p.d., added jitter of 1.0e-08 to the diagonal\n",
      "\n",
      "[INFO 09-23 17:37:52] ax.service.managed_loop: Running optimization trial 90...\n"
     ]
    },
    {
     "name": "stdout",
     "output_type": "stream",
     "text": [
      "params: {'q_var': 1.0} ADE:3.009111633963276\n"
     ]
    },
    {
     "name": "stderr",
     "output_type": "stream",
     "text": [
      "/home/user/miniconda/envs/py37/lib/python3.7/site-packages/gpytorch/utils/cholesky.py:46: NumericalWarning:\n",
      "\n",
      "A not p.d., added jitter of 1.0e-08 to the diagonal\n",
      "\n",
      "/home/user/miniconda/envs/py37/lib/python3.7/site-packages/gpytorch/utils/cholesky.py:46: NumericalWarning:\n",
      "\n",
      "A not p.d., added jitter of 1.0e-08 to the diagonal\n",
      "\n",
      "[INFO 09-23 17:38:06] ax.service.managed_loop: Running optimization trial 91...\n"
     ]
    },
    {
     "name": "stdout",
     "output_type": "stream",
     "text": [
      "params: {'q_var': 0.9159838538616896} ADE:3.034122895592414\n"
     ]
    },
    {
     "name": "stderr",
     "output_type": "stream",
     "text": [
      "/home/user/miniconda/envs/py37/lib/python3.7/site-packages/gpytorch/utils/cholesky.py:46: NumericalWarning:\n",
      "\n",
      "A not p.d., added jitter of 1.0e-08 to the diagonal\n",
      "\n",
      "/home/user/miniconda/envs/py37/lib/python3.7/site-packages/gpytorch/utils/cholesky.py:46: NumericalWarning:\n",
      "\n",
      "A not p.d., added jitter of 1.0e-08 to the diagonal\n",
      "\n",
      "[INFO 09-23 17:38:19] ax.service.managed_loop: Running optimization trial 92...\n"
     ]
    },
    {
     "name": "stdout",
     "output_type": "stream",
     "text": [
      "params: {'q_var': 0.19206169340759516} ADE:3.6956092100086737\n"
     ]
    },
    {
     "name": "stderr",
     "output_type": "stream",
     "text": [
      "/home/user/miniconda/envs/py37/lib/python3.7/site-packages/gpytorch/utils/cholesky.py:46: NumericalWarning:\n",
      "\n",
      "A not p.d., added jitter of 1.0e-08 to the diagonal\n",
      "\n",
      "/home/user/miniconda/envs/py37/lib/python3.7/site-packages/gpytorch/utils/cholesky.py:46: NumericalWarning:\n",
      "\n",
      "A not p.d., added jitter of 1.0e-08 to the diagonal\n",
      "\n",
      "[INFO 09-23 17:38:32] ax.service.managed_loop: Running optimization trial 93...\n"
     ]
    },
    {
     "name": "stdout",
     "output_type": "stream",
     "text": [
      "params: {'q_var': 1.0} ADE:3.009111633963276\n"
     ]
    },
    {
     "name": "stderr",
     "output_type": "stream",
     "text": [
      "/home/user/miniconda/envs/py37/lib/python3.7/site-packages/gpytorch/utils/cholesky.py:46: NumericalWarning:\n",
      "\n",
      "A not p.d., added jitter of 1.0e-08 to the diagonal\n",
      "\n",
      "/home/user/miniconda/envs/py37/lib/python3.7/site-packages/gpytorch/utils/cholesky.py:46: NumericalWarning:\n",
      "\n",
      "A not p.d., added jitter of 1.0e-08 to the diagonal\n",
      "\n",
      "[INFO 09-23 17:38:46] ax.service.managed_loop: Running optimization trial 94...\n"
     ]
    },
    {
     "name": "stdout",
     "output_type": "stream",
     "text": [
      "params: {'q_var': 1.0} ADE:3.009111633963276\n"
     ]
    },
    {
     "name": "stderr",
     "output_type": "stream",
     "text": [
      "/home/user/miniconda/envs/py37/lib/python3.7/site-packages/gpytorch/utils/cholesky.py:46: NumericalWarning:\n",
      "\n",
      "A not p.d., added jitter of 1.0e-08 to the diagonal\n",
      "\n",
      "/home/user/miniconda/envs/py37/lib/python3.7/site-packages/gpytorch/utils/cholesky.py:46: NumericalWarning:\n",
      "\n",
      "A not p.d., added jitter of 1.0e-08 to the diagonal\n",
      "\n",
      "[INFO 09-23 17:39:00] ax.service.managed_loop: Running optimization trial 95...\n"
     ]
    },
    {
     "name": "stdout",
     "output_type": "stream",
     "text": [
      "params: {'q_var': 1.0} ADE:3.009111633963276\n"
     ]
    },
    {
     "name": "stderr",
     "output_type": "stream",
     "text": [
      "/home/user/miniconda/envs/py37/lib/python3.7/site-packages/gpytorch/utils/cholesky.py:46: NumericalWarning:\n",
      "\n",
      "A not p.d., added jitter of 1.0e-08 to the diagonal\n",
      "\n",
      "/home/user/miniconda/envs/py37/lib/python3.7/site-packages/gpytorch/utils/cholesky.py:46: NumericalWarning:\n",
      "\n",
      "A not p.d., added jitter of 1.0e-08 to the diagonal\n",
      "\n",
      "[INFO 09-23 17:39:13] ax.service.managed_loop: Running optimization trial 96...\n"
     ]
    },
    {
     "name": "stdout",
     "output_type": "stream",
     "text": [
      "params: {'q_var': 0.7981434725224972} ADE:3.077766005349758\n"
     ]
    },
    {
     "name": "stderr",
     "output_type": "stream",
     "text": [
      "/home/user/miniconda/envs/py37/lib/python3.7/site-packages/gpytorch/utils/cholesky.py:46: NumericalWarning:\n",
      "\n",
      "A not p.d., added jitter of 1.0e-08 to the diagonal\n",
      "\n",
      "/home/user/miniconda/envs/py37/lib/python3.7/site-packages/gpytorch/utils/cholesky.py:46: NumericalWarning:\n",
      "\n",
      "A not p.d., added jitter of 1.0e-08 to the diagonal\n",
      "\n",
      "[INFO 09-23 17:39:26] ax.service.managed_loop: Running optimization trial 97...\n"
     ]
    },
    {
     "name": "stdout",
     "output_type": "stream",
     "text": [
      "params: {'q_var': 0.6681206589564681} ADE:3.140255826989388\n"
     ]
    },
    {
     "name": "stderr",
     "output_type": "stream",
     "text": [
      "/home/user/miniconda/envs/py37/lib/python3.7/site-packages/gpytorch/utils/cholesky.py:46: NumericalWarning:\n",
      "\n",
      "A not p.d., added jitter of 1.0e-08 to the diagonal\n",
      "\n",
      "/home/user/miniconda/envs/py37/lib/python3.7/site-packages/gpytorch/utils/cholesky.py:46: NumericalWarning:\n",
      "\n",
      "A not p.d., added jitter of 1.0e-08 to the diagonal\n",
      "\n",
      "[INFO 09-23 17:39:40] ax.service.managed_loop: Running optimization trial 98...\n"
     ]
    },
    {
     "name": "stdout",
     "output_type": "stream",
     "text": [
      "params: {'q_var': 0.9996034950017929} ADE:3.00921891644291\n"
     ]
    },
    {
     "name": "stderr",
     "output_type": "stream",
     "text": [
      "/home/user/miniconda/envs/py37/lib/python3.7/site-packages/gpytorch/utils/cholesky.py:46: NumericalWarning:\n",
      "\n",
      "A not p.d., added jitter of 1.0e-08 to the diagonal\n",
      "\n",
      "/home/user/miniconda/envs/py37/lib/python3.7/site-packages/gpytorch/utils/cholesky.py:46: NumericalWarning:\n",
      "\n",
      "A not p.d., added jitter of 1.0e-08 to the diagonal\n",
      "\n",
      "[INFO 09-23 17:39:53] ax.service.managed_loop: Running optimization trial 99...\n"
     ]
    },
    {
     "name": "stdout",
     "output_type": "stream",
     "text": [
      "params: {'q_var': 0.558722703717649} ADE:3.208517844456468\n"
     ]
    },
    {
     "name": "stderr",
     "output_type": "stream",
     "text": [
      "/home/user/miniconda/envs/py37/lib/python3.7/site-packages/gpytorch/utils/cholesky.py:46: NumericalWarning:\n",
      "\n",
      "A not p.d., added jitter of 1.0e-08 to the diagonal\n",
      "\n",
      "/home/user/miniconda/envs/py37/lib/python3.7/site-packages/gpytorch/utils/cholesky.py:46: NumericalWarning:\n",
      "\n",
      "A not p.d., added jitter of 1.0e-08 to the diagonal\n",
      "\n",
      "[INFO 09-23 17:40:07] ax.service.managed_loop: Running optimization trial 100...\n"
     ]
    },
    {
     "name": "stdout",
     "output_type": "stream",
     "text": [
      "params: {'q_var': 1.0} ADE:3.009111633963276\n"
     ]
    },
    {
     "name": "stderr",
     "output_type": "stream",
     "text": [
      "/home/user/miniconda/envs/py37/lib/python3.7/site-packages/gpytorch/utils/cholesky.py:46: NumericalWarning:\n",
      "\n",
      "A not p.d., added jitter of 1.0e-08 to the diagonal\n",
      "\n",
      "/home/user/miniconda/envs/py37/lib/python3.7/site-packages/gpytorch/utils/cholesky.py:46: NumericalWarning:\n",
      "\n",
      "A not p.d., added jitter of 1.0e-08 to the diagonal\n",
      "\n"
     ]
    },
    {
     "name": "stdout",
     "output_type": "stream",
     "text": [
      "params: {'q_var': 1.0} ADE:3.009111633963276\n"
     ]
    }
   ],
   "source": [
    "best_parameters, values, experiment, model = optimize(\n",
    "    parameters=parameters,\n",
    "    evaluation_function=eval_kalman,\n",
    "    objective_name='ADE',\n",
    "    total_trials=100, \n",
    "    minimize=True)"
   ]
  },
  {
   "cell_type": "code",
   "execution_count": 75,
   "metadata": {},
   "outputs": [
    {
     "data": {
      "text/plain": [
       "{'q_var': 1.0}"
      ]
     },
     "execution_count": 75,
     "metadata": {},
     "output_type": "execute_result"
    }
   ],
   "source": [
    "best_parameters"
   ]
  },
  {
   "cell_type": "markdown",
   "metadata": {},
   "source": [
    "## Search for q_var and r_var for prediction"
   ]
  },
  {
   "cell_type": "code",
   "execution_count": 21,
   "metadata": {},
   "outputs": [],
   "source": [
    "parameters=[\n",
    "    {\"name\": \"q_var\", \"type\": \"range\", \"bounds\": [0.0, 100.0]},\n",
    "    {\"name\": \"r_var\", \"type\": \"range\", \"bounds\": [0.0, 200.0]},\n",
    "    ]"
   ]
  },
  {
   "cell_type": "code",
   "execution_count": 22,
   "metadata": {},
   "outputs": [],
   "source": [
    "def eval_kalman_predictor(params):\n",
    "    total_ADE = 0\n",
    "    start_time = time()\n",
    "    \n",
    "    for trial in trial_names:        \n",
    "        trial_bboxes = all_df.loc[trial][['x1', 'y1', 'x2', 'y2']].values        \n",
    "        predictor = kalman_predict.KalmanPredictor(20, 1, params[\"q_var\"], params[\"r_var\"])\n",
    "        results, forecasts = train_eval.eval_trajectory_predictor(predictor, trial_bboxes, show_progress=False)\n",
    "        total_ADE += results[\"avg ADE\"]\n",
    "\n",
    "        print(\".\", end=\"\")\n",
    "    mean_ADE = total_ADE / len(trial_names)\n",
    "    print(f\"params: {params} ADE:{mean_ADE} duration: {time() - start_time:.2f}\")\n",
    "    \n",
    "    return mean_ADE"
   ]
  },
  {
   "cell_type": "code",
   "execution_count": 23,
   "metadata": {},
   "outputs": [
    {
     "name": "stderr",
     "output_type": "stream",
     "text": [
      "[INFO 09-23 21:12:38] ax.modelbridge.dispatch_utils: Using Bayesian Optimization generation strategy: GenerationStrategy(name='Sobol+GPEI', steps=[Sobol for 5 trials, GPEI for subsequent trials]). Iterations after 5 will take longer to generate due to  model-fitting.\n",
      "[INFO 09-23 21:12:38] ax.service.managed_loop: Started full optimization with 100 steps.\n",
      "[INFO 09-23 21:12:38] ax.service.managed_loop: Running optimization trial 1...\n"
     ]
    },
    {
     "name": "stdout",
     "output_type": "stream",
     "text": [
      "............................................."
     ]
    },
    {
     "name": "stderr",
     "output_type": "stream",
     "text": [
      "[INFO 09-23 21:13:43] ax.service.managed_loop: Running optimization trial 2...\n"
     ]
    },
    {
     "name": "stdout",
     "output_type": "stream",
     "text": [
      ".params: {'q_var': 57.74761764332652, 'r_var': 148.13252426683903} ADE:25.462888330917142 duration: 65.14\n",
      "............................................."
     ]
    },
    {
     "name": "stderr",
     "output_type": "stream",
     "text": [
      "[INFO 09-23 21:14:50] ax.service.managed_loop: Running optimization trial 3...\n"
     ]
    },
    {
     "name": "stdout",
     "output_type": "stream",
     "text": [
      ".params: {'q_var': 20.245686266571283, 'r_var': 21.47262506186962} ADE:29.328577473689304 duration: 66.28\n",
      "............................................."
     ]
    },
    {
     "name": "stderr",
     "output_type": "stream",
     "text": [
      "[INFO 09-23 21:15:55] ax.service.managed_loop: Running optimization trial 4...\n"
     ]
    },
    {
     "name": "stdout",
     "output_type": "stream",
     "text": [
      ".params: {'q_var': 17.266130167990923, 'r_var': 162.3100133612752} ADE:21.791229502949385 duration: 65.47\n",
      "............................................."
     ]
    },
    {
     "name": "stderr",
     "output_type": "stream",
     "text": [
      "[INFO 09-23 21:17:01] ax.service.managed_loop: Running optimization trial 5...\n"
     ]
    },
    {
     "name": "stdout",
     "output_type": "stream",
     "text": [
      ".params: {'q_var': 12.229300942271948, 'r_var': 42.56209898740053} ADE:24.41159334855013 duration: 65.47\n",
      "............................................."
     ]
    },
    {
     "name": "stderr",
     "output_type": "stream",
     "text": [
      "[INFO 09-23 21:18:06] ax.service.managed_loop: Running optimization trial 6...\n"
     ]
    },
    {
     "name": "stdout",
     "output_type": "stream",
     "text": [
      ".params: {'q_var': 14.504299964755774, 'r_var': 82.89136681705713} ADE:22.963622527490667 duration: 65.60\n",
      "............................................."
     ]
    },
    {
     "name": "stderr",
     "output_type": "stream",
     "text": [
      "[INFO 09-23 21:19:12] ax.service.managed_loop: Running optimization trial 7...\n"
     ]
    },
    {
     "name": "stdout",
     "output_type": "stream",
     "text": [
      ".params: {'q_var': 2.1451830012770112, 'r_var': 119.49832681948244} ADE:19.396253677900415 duration: 65.45\n",
      "............................................."
     ]
    },
    {
     "name": "stderr",
     "output_type": "stream",
     "text": [
      "[INFO 09-23 21:20:18] ax.service.managed_loop: Running optimization trial 8...\n"
     ]
    },
    {
     "name": "stdout",
     "output_type": "stream",
     "text": [
      ".params: {'q_var': 0.0, 'r_var': 199.99999999999955} ADE:237.85842660683454 duration: 65.23\n",
      "............................................."
     ]
    },
    {
     "name": "stderr",
     "output_type": "stream",
     "text": [
      "[INFO 09-23 21:21:23] ax.service.managed_loop: Running optimization trial 9...\n"
     ]
    },
    {
     "name": "stdout",
     "output_type": "stream",
     "text": [
      ".params: {'q_var': 28.080821478582685, 'r_var': 136.13688416477976} ADE:23.412708221732615 duration: 65.27\n",
      "............................................."
     ]
    },
    {
     "name": "stderr",
     "output_type": "stream",
     "text": [
      "[INFO 09-23 21:22:29] ax.service.managed_loop: Running optimization trial 10...\n"
     ]
    },
    {
     "name": "stdout",
     "output_type": "stream",
     "text": [
      ".params: {'q_var': 63.84558550612592, 'r_var': 51.52097101005527} ADE:30.818152748110542 duration: 65.14\n",
      "............................................."
     ]
    },
    {
     "name": "stderr",
     "output_type": "stream",
     "text": [
      "[INFO 09-23 21:23:35] ax.service.managed_loop: Running optimization trial 11...\n"
     ]
    },
    {
     "name": "stdout",
     "output_type": "stream",
     "text": [
      ".params: {'q_var': 95.11011015738615, 'r_var': 9.253580824924806e-14} ADE:3685.019518874548 duration: 65.59\n",
      "............................................."
     ]
    },
    {
     "name": "stderr",
     "output_type": "stream",
     "text": [
      "[INFO 09-23 21:24:40] ax.service.managed_loop: Running optimization trial 12...\n"
     ]
    },
    {
     "name": "stdout",
     "output_type": "stream",
     "text": [
      ".params: {'q_var': 49.522661277446, 'r_var': 49.64772683736442} ADE:29.62514849923851 duration: 65.02\n",
      "............................................."
     ]
    },
    {
     "name": "stderr",
     "output_type": "stream",
     "text": [
      "[INFO 09-23 21:25:46] ax.service.managed_loop: Running optimization trial 13...\n"
     ]
    },
    {
     "name": "stdout",
     "output_type": "stream",
     "text": [
      ".params: {'q_var': 57.93356861993667, 'r_var': 85.78479681888587} ADE:27.708812370651877 duration: 64.91\n",
      "............................................."
     ]
    },
    {
     "name": "stderr",
     "output_type": "stream",
     "text": [
      "[INFO 09-23 21:26:51] ax.service.managed_loop: Running optimization trial 14...\n"
     ]
    },
    {
     "name": "stdout",
     "output_type": "stream",
     "text": [
      ".params: {'q_var': 43.172291490108066, 'r_var': 199.99999999999994} ADE:23.542597799282614 duration: 65.15\n",
      "............................................."
     ]
    },
    {
     "name": "stderr",
     "output_type": "stream",
     "text": [
      "[INFO 09-23 21:27:57] ax.service.managed_loop: Running optimization trial 15...\n"
     ]
    },
    {
     "name": "stdout",
     "output_type": "stream",
     "text": [
      ".params: {'q_var': 56.37362466613811, 'r_var': 4.071806112717369e-13} ADE:3681.7002531290454 duration: 65.47\n",
      "............................................."
     ]
    },
    {
     "name": "stderr",
     "output_type": "stream",
     "text": [
      "[INFO 09-23 21:29:03] ax.service.managed_loop: Running optimization trial 16...\n"
     ]
    },
    {
     "name": "stdout",
     "output_type": "stream",
     "text": [
      ".params: {'q_var': 0.0, 'r_var': 20.2395381145789} ADE:171.7363482228555 duration: 65.79\n",
      "............................................."
     ]
    },
    {
     "name": "stderr",
     "output_type": "stream",
     "text": [
      "[INFO 09-23 21:30:10] ax.service.managed_loop: Running optimization trial 17...\n"
     ]
    },
    {
     "name": "stdout",
     "output_type": "stream",
     "text": [
      ".params: {'q_var': 100.0, 'r_var': 189.1501812535773} ADE:26.646798121242142 duration: 65.73\n",
      "............................................."
     ]
    },
    {
     "name": "stderr",
     "output_type": "stream",
     "text": [
      "[INFO 09-23 21:31:15] ax.service.managed_loop: Running optimization trial 18...\n"
     ]
    },
    {
     "name": "stdout",
     "output_type": "stream",
     "text": [
      ".params: {'q_var': 31.313991535252082, 'r_var': 30.321842368509433} ADE:29.808781952079723 duration: 65.23\n",
      "............................................."
     ]
    },
    {
     "name": "stderr",
     "output_type": "stream",
     "text": [
      "[INFO 09-23 21:32:21] ax.service.managed_loop: Running optimization trial 19...\n"
     ]
    },
    {
     "name": "stdout",
     "output_type": "stream",
     "text": [
      ".params: {'q_var': 100.0, 'r_var': 78.92950130150844} ADE:30.945639268345932 duration: 65.44\n",
      "............................................."
     ]
    },
    {
     "name": "stderr",
     "output_type": "stream",
     "text": [
      "[INFO 09-23 21:33:27] ax.service.managed_loop: Running optimization trial 20...\n"
     ]
    },
    {
     "name": "stdout",
     "output_type": "stream",
     "text": [
      ".params: {'q_var': 63.47174250867914, 'r_var': 177.3162667960825} ADE:25.15684036312602 duration: 65.75\n",
      "............................................."
     ]
    },
    {
     "name": "stderr",
     "output_type": "stream",
     "text": [
      "[INFO 09-23 21:34:33] ax.service.managed_loop: Running optimization trial 21...\n"
     ]
    },
    {
     "name": "stdout",
     "output_type": "stream",
     "text": [
      ".params: {'q_var': 99.99999999999999, 'r_var': 131.36072090215953} ADE:28.26784627251343 duration: 64.81\n",
      "............................................."
     ]
    },
    {
     "name": "stderr",
     "output_type": "stream",
     "text": [
      "[INFO 09-23 21:35:38] ax.service.managed_loop: Running optimization trial 22...\n"
     ]
    },
    {
     "name": "stdout",
     "output_type": "stream",
     "text": [
      ".params: {'q_var': 100.0, 'r_var': 160.36645253065123} ADE:27.35174509822961 duration: 65.42\n",
      "............................................."
     ]
    },
    {
     "name": "stderr",
     "output_type": "stream",
     "text": [
      "[INFO 09-23 21:36:44] ax.service.managed_loop: Running optimization trial 23...\n"
     ]
    },
    {
     "name": "stdout",
     "output_type": "stream",
     "text": [
      ".params: {'q_var': 71.68190257390043, 'r_var': 67.52443404655011} ADE:29.958398521535347 duration: 65.67\n",
      "............................................."
     ]
    },
    {
     "name": "stderr",
     "output_type": "stream",
     "text": [
      "[INFO 09-23 21:37:50] ax.service.managed_loop: Running optimization trial 24...\n"
     ]
    },
    {
     "name": "stdout",
     "output_type": "stream",
     "text": [
      ".params: {'q_var': 31.022157648604963, 'r_var': 105.92805793917788} ADE:24.475733986600655 duration: 65.20\n",
      "............................................."
     ]
    },
    {
     "name": "stderr",
     "output_type": "stream",
     "text": [
      "[INFO 09-23 21:38:56] ax.service.managed_loop: Running optimization trial 25...\n"
     ]
    },
    {
     "name": "stdout",
     "output_type": "stream",
     "text": [
      ".params: {'q_var': 18.622299249655494, 'r_var': 31.329566012086858} ADE:27.13955190969328 duration: 65.32\n",
      "............................................."
     ]
    },
    {
     "name": "stderr",
     "output_type": "stream",
     "text": [
      "[INFO 09-23 21:40:02] ax.service.managed_loop: Running optimization trial 26...\n"
     ]
    },
    {
     "name": "stdout",
     "output_type": "stream",
     "text": [
      ".params: {'q_var': 1.954718077395368e-13, 'r_var': 59.43157762716129} ADE:191.04545282616357 duration: 65.33\n",
      "............................................."
     ]
    },
    {
     "name": "stderr",
     "output_type": "stream",
     "text": [
      "[INFO 09-23 21:41:09] ax.service.managed_loop: Running optimization trial 27...\n"
     ]
    },
    {
     "name": "stdout",
     "output_type": "stream",
     "text": [
      ".params: {'q_var': 100.0, 'r_var': 113.9426402880342} ADE:28.96552665209928 duration: 65.78\n",
      "............................................."
     ]
    },
    {
     "name": "stderr",
     "output_type": "stream",
     "text": [
      "[INFO 09-23 21:42:14] ax.service.managed_loop: Running optimization trial 28...\n"
     ]
    },
    {
     "name": "stdout",
     "output_type": "stream",
     "text": [
      ".params: {'q_var': 76.06054057890475, 'r_var': 199.99999999999994} ADE:25.373192978435867 duration: 65.45\n",
      "............................................."
     ]
    },
    {
     "name": "stderr",
     "output_type": "stream",
     "text": [
      "[INFO 09-23 21:43:20] ax.service.managed_loop: Running optimization trial 29...\n"
     ]
    },
    {
     "name": "stdout",
     "output_type": "stream",
     "text": [
      ".params: {'q_var': 71.83547070990338, 'r_var': 118.61214247605638} ADE:27.223396980583377 duration: 65.57\n",
      "............................................."
     ]
    },
    {
     "name": "stderr",
     "output_type": "stream",
     "text": [
      "[INFO 09-23 21:44:27] ax.service.managed_loop: Running optimization trial 30...\n"
     ]
    },
    {
     "name": "stdout",
     "output_type": "stream",
     "text": [
      ".params: {'q_var': 20.372139160178282, 'r_var': 25.23549438018804} ADE:28.548363924272117 duration: 65.39\n",
      "............................................."
     ]
    },
    {
     "name": "stderr",
     "output_type": "stream",
     "text": [
      "[INFO 09-23 21:45:34] ax.service.managed_loop: Running optimization trial 31...\n"
     ]
    },
    {
     "name": "stdout",
     "output_type": "stream",
     "text": [
      ".params: {'q_var': 28.581847299543924, 'r_var': 55.21069007323857} ADE:26.558823419611937 duration: 65.91\n",
      "............................................."
     ]
    },
    {
     "name": "stderr",
     "output_type": "stream",
     "text": [
      "[INFO 09-23 21:46:40] ax.service.managed_loop: Running optimization trial 32...\n"
     ]
    },
    {
     "name": "stdout",
     "output_type": "stream",
     "text": [
      ".params: {'q_var': 9.789622184390147e-15, 'r_var': 151.30252183688478} ADE:224.30496141582915 duration: 65.66\n",
      "............................................."
     ]
    },
    {
     "name": "stderr",
     "output_type": "stream",
     "text": [
      "[INFO 09-23 21:47:46] ax.service.managed_loop: Running optimization trial 33...\n"
     ]
    },
    {
     "name": "stdout",
     "output_type": "stream",
     "text": [
      ".params: {'q_var': 35.738788721566394, 'r_var': 174.04122676065305} ADE:23.400439495868227 duration: 65.61\n",
      "............................................."
     ]
    },
    {
     "name": "stderr",
     "output_type": "stream",
     "text": [
      "[INFO 09-23 21:48:52] ax.service.managed_loop: Running optimization trial 34...\n"
     ]
    },
    {
     "name": "stdout",
     "output_type": "stream",
     "text": [
      ".params: {'q_var': 80.96450808301199, 'r_var': 153.03819572808442} ADE:26.649510789702457 duration: 65.01\n",
      "............................................."
     ]
    },
    {
     "name": "stderr",
     "output_type": "stream",
     "text": [
      "[INFO 09-23 21:49:57] ax.service.managed_loop: Running optimization trial 35...\n"
     ]
    },
    {
     "name": "stdout",
     "output_type": "stream",
     "text": [
      ".params: {'q_var': 10.68977698973989, 'r_var': 104.58652082983697} ADE:21.706828026167155 duration: 65.01\n",
      "............................................."
     ]
    },
    {
     "name": "stderr",
     "output_type": "stream",
     "text": [
      "[INFO 09-23 21:51:02] ax.service.managed_loop: Running optimization trial 36...\n"
     ]
    },
    {
     "name": "stdout",
     "output_type": "stream",
     "text": [
      ".params: {'q_var': 23.474456159037672, 'r_var': 200.0} ADE:22.003120812608312 duration: 64.79\n",
      "............................................."
     ]
    },
    {
     "name": "stderr",
     "output_type": "stream",
     "text": [
      "[INFO 09-23 21:52:07] ax.service.managed_loop: Running optimization trial 37...\n"
     ]
    },
    {
     "name": "stdout",
     "output_type": "stream",
     "text": [
      ".params: {'q_var': 85.49824979642898, 'r_var': 179.77059101221133} ADE:26.218974049162384 duration: 64.94\n",
      "............................................."
     ]
    },
    {
     "name": "stderr",
     "output_type": "stream",
     "text": [
      "[INFO 09-23 21:53:13] ax.service.managed_loop: Running optimization trial 38...\n"
     ]
    },
    {
     "name": "stdout",
     "output_type": "stream",
     "text": [
      ".params: {'q_var': 29.279198779863275, 'r_var': 40.7706009305913} ADE:27.990990455990655 duration: 64.96\n",
      "............................................."
     ]
    },
    {
     "name": "stderr",
     "output_type": "stream",
     "text": [
      "[INFO 09-23 21:54:18] ax.service.managed_loop: Running optimization trial 39...\n"
     ]
    },
    {
     "name": "stdout",
     "output_type": "stream",
     "text": [
      ".params: {'q_var': 99.99999999999999, 'r_var': 97.28651297574429} ADE:29.78553258702904 duration: 64.73\n",
      "............................................."
     ]
    },
    {
     "name": "stderr",
     "output_type": "stream",
     "text": [
      "[INFO 09-23 21:55:24] ax.service.managed_loop: Running optimization trial 40...\n"
     ]
    },
    {
     "name": "stdout",
     "output_type": "stream",
     "text": [
      ".params: {'q_var': 58.232314695149235, 'r_var': 62.02847569776797} ADE:29.308655351624544 duration: 65.20\n",
      "............................................."
     ]
    },
    {
     "name": "stderr",
     "output_type": "stream",
     "text": [
      "[INFO 09-23 21:56:30] ax.service.managed_loop: Running optimization trial 41...\n"
     ]
    },
    {
     "name": "stdout",
     "output_type": "stream",
     "text": [
      ".params: {'q_var': 57.11107323918255, 'r_var': 164.6093009899869} ADE:25.047249064761058 duration: 65.30\n",
      "............................................."
     ]
    },
    {
     "name": "stderr",
     "output_type": "stream",
     "text": [
      "[INFO 09-23 21:57:35] ax.service.managed_loop: Running optimization trial 42...\n"
     ]
    },
    {
     "name": "stdout",
     "output_type": "stream",
     "text": [
      ".params: {'q_var': 52.456136502634706, 'r_var': 111.04918662354551} ADE:26.19160872326918 duration: 64.97\n",
      "............................................."
     ]
    },
    {
     "name": "stderr",
     "output_type": "stream",
     "text": [
      "[INFO 09-23 21:58:42] ax.service.managed_loop: Running optimization trial 43...\n"
     ]
    },
    {
     "name": "stdout",
     "output_type": "stream",
     "text": [
      ".params: {'q_var': 34.140604105001465, 'r_var': 190.01143375578775} ADE:23.035252688009727 duration: 65.99\n",
      "............................................."
     ]
    },
    {
     "name": "stderr",
     "output_type": "stream",
     "text": [
      "[INFO 09-23 21:59:47] ax.service.managed_loop: Running optimization trial 44...\n"
     ]
    },
    {
     "name": "stdout",
     "output_type": "stream",
     "text": [
      ".params: {'q_var': 32.435413761139316, 'r_var': 82.65845518337696} ADE:25.486087711150727 duration: 64.91\n",
      "............................................."
     ]
    },
    {
     "name": "stderr",
     "output_type": "stream",
     "text": [
      "[INFO 09-23 22:00:53] ax.service.managed_loop: Running optimization trial 45...\n"
     ]
    },
    {
     "name": "stdout",
     "output_type": "stream",
     "text": [
      ".params: {'q_var': 13.866502715900332, 'r_var': 123.96864920427709} ADE:21.897346936486006 duration: 65.02\n",
      "............................................."
     ]
    },
    {
     "name": "stderr",
     "output_type": "stream",
     "text": [
      "[INFO 09-23 22:01:59] ax.service.managed_loop: Running optimization trial 46...\n"
     ]
    },
    {
     "name": "stdout",
     "output_type": "stream",
     "text": [
      ".params: {'q_var': 65.7617663960344, 'r_var': 136.22918816806936} ADE:26.27781489996471 duration: 65.90\n",
      "............................................."
     ]
    },
    {
     "name": "stderr",
     "output_type": "stream",
     "text": [
      "[INFO 09-23 22:03:05] ax.service.managed_loop: Running optimization trial 47...\n"
     ]
    },
    {
     "name": "stdout",
     "output_type": "stream",
     "text": [
      ".params: {'q_var': 82.28676902845979, 'r_var': 94.14371587961344} ADE:28.94477842219001 duration: 65.22\n",
      "............................................."
     ]
    },
    {
     "name": "stderr",
     "output_type": "stream",
     "text": [
      "[INFO 09-23 22:04:11] ax.service.managed_loop: Running optimization trial 48...\n"
     ]
    },
    {
     "name": "stdout",
     "output_type": "stream",
     "text": [
      ".params: {'q_var': 0.0, 'r_var': 92.69411193553778} ADE:204.66455610810266 duration: 65.79\n",
      "............................................."
     ]
    },
    {
     "name": "stderr",
     "output_type": "stream",
     "text": [
      "[INFO 09-23 22:05:17] ax.service.managed_loop: Running optimization trial 49...\n"
     ]
    },
    {
     "name": "stdout",
     "output_type": "stream",
     "text": [
      ".params: {'q_var': 29.94483068788092, 'r_var': 155.15112389813828} ADE:23.228125668181168 duration: 64.91\n",
      "............................................."
     ]
    },
    {
     "name": "stderr",
     "output_type": "stream",
     "text": [
      "[INFO 09-23 22:06:22] ax.service.managed_loop: Running optimization trial 50...\n"
     ]
    },
    {
     "name": "stdout",
     "output_type": "stream",
     "text": [
      ".params: {'q_var': 18.960196889594535, 'r_var': 66.05368055966383} ADE:24.409693979836003 duration: 64.88\n",
      "............................................."
     ]
    },
    {
     "name": "stderr",
     "output_type": "stream",
     "text": [
      "[INFO 09-23 22:07:28] ax.service.managed_loop: Running optimization trial 51...\n"
     ]
    },
    {
     "name": "stdout",
     "output_type": "stream",
     "text": [
      ".params: {'q_var': 20.018173460688566, 'r_var': 180.35298309143698} ADE:21.881616195822115 duration: 65.93\n",
      "............................................."
     ]
    },
    {
     "name": "stderr",
     "output_type": "stream",
     "text": [
      "[INFO 09-23 22:08:34] ax.service.managed_loop: Running optimization trial 52...\n"
     ]
    },
    {
     "name": "stdout",
     "output_type": "stream",
     "text": [
      ".params: {'q_var': 100.0, 'r_var': 199.99999999999997} ADE:26.41905560190721 duration: 65.19\n",
      "............................................."
     ]
    },
    {
     "name": "stderr",
     "output_type": "stream",
     "text": [
      "[INFO 09-23 22:09:40] ax.service.managed_loop: Running optimization trial 53...\n"
     ]
    },
    {
     "name": "stdout",
     "output_type": "stream",
     "text": [
      ".params: {'q_var': 21.824239797428472, 'r_var': 91.96101235742313} ADE:23.819172206857665 duration: 65.71\n",
      "............................................."
     ]
    },
    {
     "name": "stderr",
     "output_type": "stream",
     "text": [
      "[INFO 09-23 22:10:46] ax.service.managed_loop: Running optimization trial 54...\n"
     ]
    },
    {
     "name": "stdout",
     "output_type": "stream",
     "text": [
      ".params: {'q_var': 86.91023905715532, 'r_var': 126.97604952628548} ADE:27.770521627008474 duration: 65.14\n",
      "............................................."
     ]
    },
    {
     "name": "stderr",
     "output_type": "stream",
     "text": [
      "[INFO 09-23 22:11:51] ax.service.managed_loop: Running optimization trial 55...\n"
     ]
    },
    {
     "name": "stdout",
     "output_type": "stream",
     "text": [
      ".params: {'q_var': 43.74053903063291, 'r_var': 130.43634830999036} ADE:24.9292099358806 duration: 65.05\n",
      "............................................."
     ]
    },
    {
     "name": "stderr",
     "output_type": "stream",
     "text": [
      "[INFO 09-23 22:12:57] ax.service.managed_loop: Running optimization trial 56...\n"
     ]
    },
    {
     "name": "stdout",
     "output_type": "stream",
     "text": [
      ".params: {'q_var': 88.03213384785315, 'r_var': 63.541214907695846} ADE:31.46839209999829 duration: 65.57\n",
      "............................................."
     ]
    },
    {
     "name": "stderr",
     "output_type": "stream",
     "text": [
      "[INFO 09-23 22:14:04] ax.service.managed_loop: Running optimization trial 57...\n"
     ]
    },
    {
     "name": "stdout",
     "output_type": "stream",
     "text": [
      ".params: {'q_var': 60.0634652079662, 'r_var': 200.0} ADE:24.55878385696898 duration: 66.47\n",
      "............................................."
     ]
    },
    {
     "name": "stderr",
     "output_type": "stream",
     "text": [
      "[INFO 09-23 22:15:10] ax.service.managed_loop: Running optimization trial 58...\n"
     ]
    },
    {
     "name": "stdout",
     "output_type": "stream",
     "text": [
      ".params: {'q_var': 65.41195183089576, 'r_var': 99.79579249034649} ADE:27.573666206037398 duration: 65.61\n",
      "............................................."
     ]
    },
    {
     "name": "stderr",
     "output_type": "stream",
     "text": [
      "[INFO 09-23 22:16:16] ax.service.managed_loop: Running optimization trial 59...\n"
     ]
    },
    {
     "name": "stdout",
     "output_type": "stream",
     "text": [
      ".params: {'q_var': 24.507282402897644, 'r_var': 168.8001307868487} ADE:22.493961404922885 duration: 65.24\n",
      "............................................."
     ]
    },
    {
     "name": "stderr",
     "output_type": "stream",
     "text": [
      "[INFO 09-23 22:17:21] ax.service.managed_loop: Running optimization trial 60...\n"
     ]
    },
    {
     "name": "stdout",
     "output_type": "stream",
     "text": [
      ".params: {'q_var': 9.007107312924823, 'r_var': 115.53995138664597} ADE:21.18336580255164 duration: 64.83\n",
      "............................................."
     ]
    },
    {
     "name": "stderr",
     "output_type": "stream",
     "text": [
      "[INFO 09-23 22:18:28] ax.service.managed_loop: Running optimization trial 61...\n"
     ]
    },
    {
     "name": "stdout",
     "output_type": "stream",
     "text": [
      ".params: {'q_var': 46.24647169183657, 'r_var': 95.03047549170172} ADE:26.309653722825967 duration: 66.68\n",
      "............................................."
     ]
    },
    {
     "name": "stderr",
     "output_type": "stream",
     "text": [
      "[INFO 09-23 22:19:34] ax.service.managed_loop: Running optimization trial 62...\n"
     ]
    },
    {
     "name": "stdout",
     "output_type": "stream",
     "text": [
      ".params: {'q_var': 50.48191041136598, 'r_var': 184.68853406897773} ADE:24.25493774441359 duration: 65.75\n",
      "............................................."
     ]
    },
    {
     "name": "stderr",
     "output_type": "stream",
     "text": [
      "[INFO 09-23 22:20:40] ax.service.managed_loop: Running optimization trial 63...\n"
     ]
    },
    {
     "name": "stdout",
     "output_type": "stream",
     "text": [
      ".params: {'q_var': 19.005962907005006, 'r_var': 145.81529993606102} ADE:22.2387167242084 duration: 65.24\n",
      "............................................."
     ]
    },
    {
     "name": "stderr",
     "output_type": "stream",
     "text": [
      "[INFO 09-23 22:21:47] ax.service.managed_loop: Running optimization trial 64...\n"
     ]
    },
    {
     "name": "stdout",
     "output_type": "stream",
     "text": [
      ".params: {'q_var': 89.89420442296598, 'r_var': 199.99996081802664} ADE:25.998051084517076 duration: 66.26\n",
      "............................................."
     ]
    },
    {
     "name": "stderr",
     "output_type": "stream",
     "text": [
      "[INFO 09-23 22:22:53] ax.service.managed_loop: Running optimization trial 65...\n"
     ]
    },
    {
     "name": "stdout",
     "output_type": "stream",
     "text": [
      ".params: {'q_var': 3.94543837247851e-16, 'r_var': 6.5106584197626754e-15} ADE:20.77137968792554 duration: 65.65\n",
      "............................................."
     ]
    },
    {
     "name": "stderr",
     "output_type": "stream",
     "text": [
      "[INFO 09-23 22:23:59] ax.service.managed_loop: Running optimization trial 66...\n"
     ]
    },
    {
     "name": "stdout",
     "output_type": "stream",
     "text": [
      ".params: {'q_var': 8.521026447521507, 'r_var': 8.313440624713037} ADE:29.763184743184983 duration: 65.50\n",
      "............................................."
     ]
    },
    {
     "name": "stderr",
     "output_type": "stream",
     "text": [
      "[INFO 09-23 22:25:06] ax.service.managed_loop: Running optimization trial 67...\n"
     ]
    },
    {
     "name": "stdout",
     "output_type": "stream",
     "text": [
      ".params: {'q_var': 88.4669992420441, 'r_var': 77.03257197246857} ADE:30.389787700542712 duration: 65.97\n",
      "............................................."
     ]
    },
    {
     "name": "stderr",
     "output_type": "stream",
     "text": [
      "[INFO 09-23 22:26:12] ax.service.managed_loop: Running optimization trial 68...\n"
     ]
    },
    {
     "name": "stdout",
     "output_type": "stream",
     "text": [
      ".params: {'q_var': 87.49887230819516, 'r_var': 108.62292390649284} ADE:28.540426827419193 duration: 65.66\n",
      "............................................."
     ]
    },
    {
     "name": "stderr",
     "output_type": "stream",
     "text": [
      "[INFO 09-23 22:27:19] ax.service.managed_loop: Running optimization trial 69...\n"
     ]
    },
    {
     "name": "stdout",
     "output_type": "stream",
     "text": [
      ".params: {'q_var': 93.31247732802149, 'r_var': 146.2038789884459} ADE:27.454752477385004 duration: 65.94\n",
      "............................................."
     ]
    },
    {
     "name": "stderr",
     "output_type": "stream",
     "text": [
      "[INFO 09-23 22:28:25] ax.service.managed_loop: Running optimization trial 70...\n"
     ]
    },
    {
     "name": "stdout",
     "output_type": "stream",
     "text": [
      ".params: {'q_var': 35.64995264178924, 'r_var': 119.12896695844168} ADE:24.546542602408135 duration: 65.64\n",
      "............................................."
     ]
    },
    {
     "name": "stderr",
     "output_type": "stream",
     "text": [
      "[INFO 09-23 22:29:31] ax.service.managed_loop: Running optimization trial 71...\n"
     ]
    },
    {
     "name": "stdout",
     "output_type": "stream",
     "text": [
      ".params: {'q_var': 68.03090762559893, 'r_var': 58.13403106396204} ADE:30.49440927956658 duration: 65.39\n",
      "............................................."
     ]
    },
    {
     "name": "stderr",
     "output_type": "stream",
     "text": [
      "[INFO 09-23 22:30:38] ax.service.managed_loop: Running optimization trial 72...\n"
     ]
    },
    {
     "name": "stdout",
     "output_type": "stream",
     "text": [
      ".params: {'q_var': 17.171822013518177, 'r_var': 50.30036146505306} ADE:24.988988472678397 duration: 66.87\n",
      "............................................."
     ]
    },
    {
     "name": "stderr",
     "output_type": "stream",
     "text": [
      "[INFO 09-23 22:31:44] ax.service.managed_loop: Running optimization trial 73...\n"
     ]
    },
    {
     "name": "stdout",
     "output_type": "stream",
     "text": [
      ".params: {'q_var': 99.99999999999999, 'r_var': 62.91400749356737} ADE:32.304473152427626 duration: 64.87\n",
      "............................................."
     ]
    },
    {
     "name": "stderr",
     "output_type": "stream",
     "text": [
      "[INFO 09-23 22:32:51] ax.service.managed_loop: Running optimization trial 74...\n"
     ]
    },
    {
     "name": "stdout",
     "output_type": "stream",
     "text": [
      ".params: {'q_var': 22.435656607268104, 'r_var': 77.25445576466473} ADE:24.447850525988294 duration: 66.22\n",
      "............................................."
     ]
    },
    {
     "name": "stderr",
     "output_type": "stream",
     "text": [
      "[INFO 09-23 22:33:56] ax.service.managed_loop: Running optimization trial 75...\n"
     ]
    },
    {
     "name": "stdout",
     "output_type": "stream",
     "text": [
      ".params: {'q_var': 38.808392052947426, 'r_var': 69.15137984896373} ADE:26.895344339475372 duration: 64.90\n",
      "............................................."
     ]
    },
    {
     "name": "stderr",
     "output_type": "stream",
     "text": [
      "[INFO 09-23 22:35:03] ax.service.managed_loop: Running optimization trial 76...\n"
     ]
    },
    {
     "name": "stdout",
     "output_type": "stream",
     "text": [
      ".params: {'q_var': 72.69689891654919, 'r_var': 165.59318097892188} ADE:25.90726360165042 duration: 66.43\n",
      "............................................."
     ]
    },
    {
     "name": "stderr",
     "output_type": "stream",
     "text": [
      "[INFO 09-23 22:36:09] ax.service.managed_loop: Running optimization trial 77...\n"
     ]
    },
    {
     "name": "stdout",
     "output_type": "stream",
     "text": [
      ".params: {'q_var': 5.9842868056861, 'r_var': 125.39477295656592} ADE:20.40130020625298 duration: 65.29\n",
      "............................................."
     ]
    },
    {
     "name": "stderr",
     "output_type": "stream",
     "text": [
      "[INFO 09-23 22:37:15] ax.service.managed_loop: Running optimization trial 78...\n"
     ]
    },
    {
     "name": "stdout",
     "output_type": "stream",
     "text": [
      ".params: {'q_var': 90.32140963880477, 'r_var': 166.22559443696855} ADE:26.760505574998724 duration: 65.67\n",
      "............................................."
     ]
    },
    {
     "name": "stderr",
     "output_type": "stream",
     "text": [
      "[INFO 09-23 22:38:21] ax.service.managed_loop: Running optimization trial 79...\n"
     ]
    },
    {
     "name": "stdout",
     "output_type": "stream",
     "text": [
      ".params: {'q_var': 18.06195144937611, 'r_var': 105.4934390787978} ADE:22.907299793381284 duration: 65.90\n",
      "............................................."
     ]
    },
    {
     "name": "stderr",
     "output_type": "stream",
     "text": [
      "[INFO 09-23 22:39:28] ax.service.managed_loop: Running optimization trial 80...\n"
     ]
    },
    {
     "name": "stdout",
     "output_type": "stream",
     "text": [
      ".params: {'q_var': 44.982845288119854, 'r_var': 155.08007449827693} ADE:24.445063244174868 duration: 65.91\n",
      "............................................."
     ]
    },
    {
     "name": "stderr",
     "output_type": "stream",
     "text": [
      "[INFO 09-23 22:40:34] ax.service.managed_loop: Running optimization trial 81...\n"
     ]
    },
    {
     "name": "stdout",
     "output_type": "stream",
     "text": [
      ".params: {'q_var': 71.56024666945969, 'r_var': 189.37861895598724} ADE:25.34996888822755 duration: 66.21\n",
      "............................................."
     ]
    },
    {
     "name": "stderr",
     "output_type": "stream",
     "text": [
      "[INFO 09-23 22:41:40] ax.service.managed_loop: Running optimization trial 82...\n"
     ]
    },
    {
     "name": "stdout",
     "output_type": "stream",
     "text": [
      ".params: {'q_var': 71.93403386159932, 'r_var': 84.75464224326385} ADE:28.797579163447217 duration: 65.15\n",
      "............................................."
     ]
    },
    {
     "name": "stderr",
     "output_type": "stream",
     "text": [
      "[INFO 09-23 22:42:46] ax.service.managed_loop: Running optimization trial 83...\n"
     ]
    },
    {
     "name": "stdout",
     "output_type": "stream",
     "text": [
      ".params: {'q_var': 56.72626156382202, 'r_var': 126.42728850344433} ADE:25.9908988666401 duration: 65.81\n",
      "............................................."
     ]
    },
    {
     "name": "stderr",
     "output_type": "stream",
     "text": [
      "[INFO 09-23 22:43:52] ax.service.managed_loop: Running optimization trial 84...\n"
     ]
    },
    {
     "name": "stdout",
     "output_type": "stream",
     "text": [
      ".params: {'q_var': 100.0, 'r_var': 174.69929434798595} ADE:26.980332894464745 duration: 65.27\n",
      "............................................."
     ]
    },
    {
     "name": "stderr",
     "output_type": "stream",
     "text": [
      "[INFO 09-23 22:44:58] ax.service.managed_loop: Running optimization trial 85...\n"
     ]
    },
    {
     "name": "stdout",
     "output_type": "stream",
     "text": [
      ".params: {'q_var': 23.733634728435973, 'r_var': 190.62063241893972} ADE:22.134614576870067 duration: 65.19\n",
      "............................................."
     ]
    },
    {
     "name": "stderr",
     "output_type": "stream",
     "text": [
      "[INFO 09-23 22:46:04] ax.service.managed_loop: Running optimization trial 86...\n"
     ]
    },
    {
     "name": "stdout",
     "output_type": "stream",
     "text": [
      ".params: {'q_var': 78.71119421899849, 'r_var': 137.81624398981967} ADE:26.970601799324985 duration: 65.66\n",
      "............................................."
     ]
    },
    {
     "name": "stderr",
     "output_type": "stream",
     "text": [
      "[INFO 09-23 22:47:09] ax.service.managed_loop: Running optimization trial 87...\n"
     ]
    },
    {
     "name": "stdout",
     "output_type": "stream",
     "text": [
      ".params: {'q_var': 46.659892995513104, 'r_var': 171.29419427681293} ADE:24.243969217523915 duration: 65.22\n",
      "............................................."
     ]
    },
    {
     "name": "stderr",
     "output_type": "stream",
     "text": [
      "[INFO 09-23 22:48:16] ax.service.managed_loop: Running optimization trial 88...\n"
     ]
    },
    {
     "name": "stdout",
     "output_type": "stream",
     "text": [
      ".params: {'q_var': 21.86789541541782, 'r_var': 155.99112700629482} ADE:22.409640615625193 duration: 66.19\n",
      "............................................."
     ]
    },
    {
     "name": "stderr",
     "output_type": "stream",
     "text": [
      "[INFO 09-23 22:49:23] ax.service.managed_loop: Running optimization trial 89...\n"
     ]
    },
    {
     "name": "stdout",
     "output_type": "stream",
     "text": [
      ".params: {'q_var': 31.548048307438687, 'r_var': 199.99999999999997} ADE:22.69878701033521 duration: 65.77\n",
      "............................................."
     ]
    },
    {
     "name": "stderr",
     "output_type": "stream",
     "text": [
      "[INFO 09-23 22:50:30] ax.service.managed_loop: Running optimization trial 90...\n"
     ]
    },
    {
     "name": "stdout",
     "output_type": "stream",
     "text": [
      ".params: {'q_var': 58.718681634262595, 'r_var': 54.414438484416785} ADE:30.046913365017694 duration: 66.38\n",
      "............................................."
     ]
    },
    {
     "name": "stderr",
     "output_type": "stream",
     "text": [
      "[INFO 09-23 22:51:37] ax.service.managed_loop: Running optimization trial 91...\n"
     ]
    },
    {
     "name": "stdout",
     "output_type": "stream",
     "text": [
      ".params: {'q_var': 47.86599513847738, 'r_var': 78.05237273918873} ADE:27.277614309894144 duration: 65.92\n",
      "............................................."
     ]
    },
    {
     "name": "stderr",
     "output_type": "stream",
     "text": [
      "[INFO 09-23 22:52:44] ax.service.managed_loop: Running optimization trial 92...\n"
     ]
    },
    {
     "name": "stdout",
     "output_type": "stream",
     "text": [
      ".params: {'q_var': 13.477673442112978, 'r_var': 17.150307950913938} ADE:28.416261098159012 duration: 66.61\n",
      "............................................."
     ]
    },
    {
     "name": "stderr",
     "output_type": "stream",
     "text": [
      "[INFO 09-23 22:53:51] ax.service.managed_loop: Running optimization trial 93...\n"
     ]
    },
    {
     "name": "stdout",
     "output_type": "stream",
     "text": [
      ".params: {'q_var': 39.65200598518749, 'r_var': 144.10101397669618} ADE:24.275838778366406 duration: 66.28\n",
      "............................................."
     ]
    },
    {
     "name": "stderr",
     "output_type": "stream",
     "text": [
      "[INFO 09-23 22:54:57] ax.service.managed_loop: Running optimization trial 94...\n"
     ]
    },
    {
     "name": "stdout",
     "output_type": "stream",
     "text": [
      ".params: {'q_var': 41.29880643084661, 'r_var': 108.77745516536379} ADE:25.36647446426712 duration: 66.05\n",
      "............................................."
     ]
    },
    {
     "name": "stderr",
     "output_type": "stream",
     "text": [
      "[INFO 09-23 22:56:03] ax.service.managed_loop: Running optimization trial 95...\n"
     ]
    },
    {
     "name": "stdout",
     "output_type": "stream",
     "text": [
      ".params: {'q_var': 17.93990045743253, 'r_var': 134.50567199523354} ADE:22.291919662508487 duration: 65.38\n",
      "............................................."
     ]
    },
    {
     "name": "stderr",
     "output_type": "stream",
     "text": [
      "[INFO 09-23 22:57:11] ax.service.managed_loop: Running optimization trial 96...\n"
     ]
    },
    {
     "name": "stdout",
     "output_type": "stream",
     "text": [
      ".params: {'q_var': 39.10189950704582, 'r_var': 43.17878649025868} ADE:29.1231458066485 duration: 66.66\n",
      "............................................."
     ]
    },
    {
     "name": "stderr",
     "output_type": "stream",
     "text": [
      "[INFO 09-23 22:58:18] ax.service.managed_loop: Running optimization trial 97...\n"
     ]
    },
    {
     "name": "stdout",
     "output_type": "stream",
     "text": [
      ".params: {'q_var': 68.65648789977527, 'r_var': 151.81976581270155} ADE:26.021470258665218 duration: 66.90\n",
      "............................................."
     ]
    },
    {
     "name": "stderr",
     "output_type": "stream",
     "text": [
      "[INFO 09-23 22:59:26] ax.service.managed_loop: Running optimization trial 98...\n"
     ]
    },
    {
     "name": "stdout",
     "output_type": "stream",
     "text": [
      ".params: {'q_var': 27.38439155141072, 'r_var': 33.133552991001245} ADE:28.664449443240507 duration: 67.02\n",
      "............................................."
     ]
    },
    {
     "name": "stderr",
     "output_type": "stream",
     "text": [
      "[INFO 09-23 23:00:35] ax.service.managed_loop: Running optimization trial 99...\n"
     ]
    },
    {
     "name": "stdout",
     "output_type": "stream",
     "text": [
      ".params: {'q_var': 5.370325791258682, 'r_var': 120.38665794106605} ADE:20.309112430927975 duration: 67.55\n",
      "............................................."
     ]
    },
    {
     "name": "stderr",
     "output_type": "stream",
     "text": [
      "[INFO 09-23 23:01:42] ax.service.managed_loop: Running optimization trial 100...\n"
     ]
    },
    {
     "name": "stdout",
     "output_type": "stream",
     "text": [
      ".params: {'q_var': 75.89974326037225, 'r_var': 106.02438063668413} ADE:27.977663721500793 duration: 66.95\n",
      "..............................................params: {'q_var': 83.59791134235954, 'r_var': 191.93412838293062} ADE:25.877175436377136 duration: 66.79\n"
     ]
    }
   ],
   "source": [
    "best_parameters, values, experiment, model = optimize(\n",
    "    parameters=parameters,\n",
    "    evaluation_function=eval_kalman_predictor,\n",
    "    objective_name='ADE',\n",
    "    total_trials=100, \n",
    "    minimize=True)"
   ]
  },
  {
   "cell_type": "markdown",
   "metadata": {},
   "source": [
    "### Best parameters for constant acceleration model\n",
    "\n",
    "- {'q_var': 5.232464612645584, 'r_var': 76.11997188671926} ADE:77.80251293150333\n",
    "- {'q_var': 8.305751509936852e-11, 'r_var': 6.104439686140315} ADE:56.59084980428664\n",
    "- {'q_var': 11.243166495979125, 'r_var': 100.0} ADE:87.78338522412209\n",
    "- {'q_var': 6.60728768670246, 'r_var': 68.14068332725518} ADE:84.5807759587622\n",
    "- {'q_var': 3.179927344778319e-08, 'r_var': 99.99999991206423} ADE:47.3384215434221\n",
    "- {'q_var': 4.584311371533344, 'r_var': 99.99999999999997} ADE:70.82873570482703"
   ]
  },
  {
   "cell_type": "markdown",
   "metadata": {},
   "source": [
    "### Best parameters for constant velocity model\n",
    "\n",
    "- {'q_var': 5.370325791258682, 'r_var': 120.38665794106605} ADE:20.309112430927975\n",
    "- {'q_var': 17.93990045743253, 'r_var': 134.50567199523354} ADE:22.291919662508487\n",
    "- {'q_var': 31.548048307438687, 'r_var': 199.99999999999997} ADE:22.69878701033521\n",
    "- {'q_var': 17.266130167990923, 'r_var': 162.3100133612752} ADE:21.791229502949385\n",
    "- {'q_var': 2.1451830012770112, 'r_var': 119.49832681948244} ADE:19.396253677900415\n",
    "- {'q_var': 10.68977698973989, 'r_var': 104.58652082983697} ADE:21.706828026167155\n",
    "- {'q_var': 20.018173460688566, 'r_var': 180.35298309143698} ADE:21.881616195822115"
   ]
  },
  {
   "cell_type": "markdown",
   "metadata": {},
   "source": [
    "# Generate Sequence Forecast for the standard testset"
   ]
  },
  {
   "cell_type": "code",
   "execution_count": 92,
   "metadata": {},
   "outputs": [],
   "source": [
    "HP_JSON = 'Prediction/traj_models/models_params.json'\n",
    "\n",
    "with open(HP_JSON, 'r') as fp:\n",
    "    json_dict = json.load(fp)\n",
    "\n",
    "model_parse = 'GRUEncDec_1005-1938_i20_o20_h350_l1_extreme_mask2'\n",
    "train_trials = json_dict[model_parse]['training_params']['train_trials']\n",
    "val_trials = json_dict[model_parse]['training_params']['val_trials']\n",
    "test_trials = json_dict[model_parse]['training_params']['test_trials']\n",
    "net_params = json_dict[model_parse]['network_params']"
   ]
  },
  {
   "cell_type": "code",
   "execution_count": 9,
   "metadata": {},
   "outputs": [
    {
     "data": {
      "text/plain": [
       "['learning_20200917T152238_trial1',\n",
       " 'learning_20200917T152238_trial3',\n",
       " 'fast_cockroach_20200803T085738_trial1',\n",
       " 'learning_20201001T081837_trial3',\n",
       " 'learning_20201001T081837_trial5',\n",
       " 'learning_20200917T154539_trial3',\n",
       " 'worm_circle_20200830T122241_trial1',\n",
       " 'beetle_fast_line_20200830T124020_trial1',\n",
       " 'circle_20200803T093051_trial1',\n",
       " 'line_20200803T095401_trial1',\n",
       " 'learning_20200923T111426_trial3']"
      ]
     },
     "execution_count": 9,
     "metadata": {},
     "output_type": "execute_result"
    }
   ],
   "source": [
    "test_trials"
   ]
  },
  {
   "cell_type": "code",
   "execution_count": 10,
   "metadata": {},
   "outputs": [],
   "source": [
    "predictor = kalman_predict.KalmanPredictor(20, 1, q_var=2.14, r_var=120)"
   ]
  },
  {
   "cell_type": "code",
   "execution_count": 16,
   "metadata": {},
   "outputs": [
    {
     "data": {
      "application/vnd.jupyter.widget-view+json": {
       "model_id": "4c6d98d272a24e89ab86119d4be734aa",
       "version_major": 2,
       "version_minor": 0
      },
      "text/plain": [
       "HBox(children=(FloatProgress(value=0.0, max=308.0), HTML(value='')))"
      ]
     },
     "metadata": {},
     "output_type": "display_data"
    },
    {
     "name": "stdout",
     "output_type": "stream",
     "text": [
      "\n"
     ]
    },
    {
     "data": {
      "application/vnd.jupyter.widget-view+json": {
       "model_id": "18bef725206e468196206e5cee16e4da",
       "version_major": 2,
       "version_minor": 0
      },
      "text/plain": [
       "HBox(children=(FloatProgress(value=0.0, max=288.0), HTML(value='')))"
      ]
     },
     "metadata": {},
     "output_type": "display_data"
    },
    {
     "name": "stdout",
     "output_type": "stream",
     "text": [
      "\n"
     ]
    },
    {
     "data": {
      "application/vnd.jupyter.widget-view+json": {
       "model_id": "1bf336c6f285405580c8f6a4e9b59879",
       "version_major": 2,
       "version_minor": 0
      },
      "text/plain": [
       "HBox(children=(FloatProgress(value=0.0, max=148.0), HTML(value='')))"
      ]
     },
     "metadata": {},
     "output_type": "display_data"
    },
    {
     "name": "stdout",
     "output_type": "stream",
     "text": [
      "\n"
     ]
    },
    {
     "data": {
      "application/vnd.jupyter.widget-view+json": {
       "model_id": "8830c4ec3a804df1869b7af3648fe1db",
       "version_major": 2,
       "version_minor": 0
      },
      "text/plain": [
       "HBox(children=(FloatProgress(value=0.0, max=128.0), HTML(value='')))"
      ]
     },
     "metadata": {},
     "output_type": "display_data"
    },
    {
     "name": "stdout",
     "output_type": "stream",
     "text": [
      "\n"
     ]
    },
    {
     "data": {
      "application/vnd.jupyter.widget-view+json": {
       "model_id": "d945e2cc0f484caf91d02520589352f4",
       "version_major": 2,
       "version_minor": 0
      },
      "text/plain": [
       "HBox(children=(FloatProgress(value=0.0, max=5081.0), HTML(value='')))"
      ]
     },
     "metadata": {},
     "output_type": "display_data"
    },
    {
     "name": "stdout",
     "output_type": "stream",
     "text": [
      "\n"
     ]
    },
    {
     "data": {
      "application/vnd.jupyter.widget-view+json": {
       "model_id": "e483b40d0fdb4ee6b4c3068879c60a36",
       "version_major": 2,
       "version_minor": 0
      },
      "text/plain": [
       "HBox(children=(FloatProgress(value=0.0, max=5061.0), HTML(value='')))"
      ]
     },
     "metadata": {},
     "output_type": "display_data"
    },
    {
     "name": "stdout",
     "output_type": "stream",
     "text": [
      "\n"
     ]
    },
    {
     "data": {
      "application/vnd.jupyter.widget-view+json": {
       "model_id": "1e4b0b96379340fcb616f3d12de05813",
       "version_major": 2,
       "version_minor": 0
      },
      "text/plain": [
       "HBox(children=(FloatProgress(value=0.0, max=5229.0), HTML(value='')))"
      ]
     },
     "metadata": {},
     "output_type": "display_data"
    },
    {
     "name": "stdout",
     "output_type": "stream",
     "text": [
      "\n"
     ]
    },
    {
     "data": {
      "application/vnd.jupyter.widget-view+json": {
       "model_id": "02c69a81b5794895ac99411629f9bada",
       "version_major": 2,
       "version_minor": 0
      },
      "text/plain": [
       "HBox(children=(FloatProgress(value=0.0, max=5209.0), HTML(value='')))"
      ]
     },
     "metadata": {},
     "output_type": "display_data"
    },
    {
     "name": "stdout",
     "output_type": "stream",
     "text": [
      "\n"
     ]
    },
    {
     "data": {
      "application/vnd.jupyter.widget-view+json": {
       "model_id": "1445d49df6ef431d99763ec4248ad9ac",
       "version_major": 2,
       "version_minor": 0
      },
      "text/plain": [
       "HBox(children=(FloatProgress(value=0.0, max=5223.0), HTML(value='')))"
      ]
     },
     "metadata": {},
     "output_type": "display_data"
    },
    {
     "name": "stdout",
     "output_type": "stream",
     "text": [
      "\n"
     ]
    },
    {
     "data": {
      "application/vnd.jupyter.widget-view+json": {
       "model_id": "1065573361d4470583089caf1bd49e65",
       "version_major": 2,
       "version_minor": 0
      },
      "text/plain": [
       "HBox(children=(FloatProgress(value=0.0, max=5203.0), HTML(value='')))"
      ]
     },
     "metadata": {},
     "output_type": "display_data"
    },
    {
     "name": "stdout",
     "output_type": "stream",
     "text": [
      "\n"
     ]
    },
    {
     "data": {
      "application/vnd.jupyter.widget-view+json": {
       "model_id": "86266472d9b548aea444ad599442c89b",
       "version_major": 2,
       "version_minor": 0
      },
      "text/plain": [
       "HBox(children=(FloatProgress(value=0.0, max=2977.0), HTML(value='')))"
      ]
     },
     "metadata": {},
     "output_type": "display_data"
    },
    {
     "name": "stdout",
     "output_type": "stream",
     "text": [
      "\n"
     ]
    },
    {
     "data": {
      "application/vnd.jupyter.widget-view+json": {
       "model_id": "b2addb9593924e6290f34869f031482a",
       "version_major": 2,
       "version_minor": 0
      },
      "text/plain": [
       "HBox(children=(FloatProgress(value=0.0, max=2957.0), HTML(value='')))"
      ]
     },
     "metadata": {},
     "output_type": "display_data"
    },
    {
     "name": "stdout",
     "output_type": "stream",
     "text": [
      "\n"
     ]
    },
    {
     "data": {
      "application/vnd.jupyter.widget-view+json": {
       "model_id": "43c353f182114ba79ccecb7b7ff20738",
       "version_major": 2,
       "version_minor": 0
      },
      "text/plain": [
       "HBox(children=(FloatProgress(value=0.0, max=5288.0), HTML(value='')))"
      ]
     },
     "metadata": {},
     "output_type": "display_data"
    },
    {
     "name": "stdout",
     "output_type": "stream",
     "text": [
      "\n"
     ]
    },
    {
     "data": {
      "application/vnd.jupyter.widget-view+json": {
       "model_id": "d09ac80ab94648bfb490dee4d79aa922",
       "version_major": 2,
       "version_minor": 0
      },
      "text/plain": [
       "HBox(children=(FloatProgress(value=0.0, max=5268.0), HTML(value='')))"
      ]
     },
     "metadata": {},
     "output_type": "display_data"
    },
    {
     "name": "stdout",
     "output_type": "stream",
     "text": [
      "\n"
     ]
    },
    {
     "data": {
      "application/vnd.jupyter.widget-view+json": {
       "model_id": "e16338d6d9c149349474de8d2bf8c2f7",
       "version_major": 2,
       "version_minor": 0
      },
      "text/plain": [
       "HBox(children=(FloatProgress(value=0.0, max=5287.0), HTML(value='')))"
      ]
     },
     "metadata": {},
     "output_type": "display_data"
    },
    {
     "name": "stdout",
     "output_type": "stream",
     "text": [
      "\n"
     ]
    },
    {
     "data": {
      "application/vnd.jupyter.widget-view+json": {
       "model_id": "9121a9917a3f427990b49823fef9326e",
       "version_major": 2,
       "version_minor": 0
      },
      "text/plain": [
       "HBox(children=(FloatProgress(value=0.0, max=5267.0), HTML(value='')))"
      ]
     },
     "metadata": {},
     "output_type": "display_data"
    },
    {
     "name": "stdout",
     "output_type": "stream",
     "text": [
      "\n"
     ]
    },
    {
     "data": {
      "application/vnd.jupyter.widget-view+json": {
       "model_id": "d6adeb8edd6840159e90526d952ded8a",
       "version_major": 2,
       "version_minor": 0
      },
      "text/plain": [
       "HBox(children=(FloatProgress(value=0.0, max=5080.0), HTML(value='')))"
      ]
     },
     "metadata": {},
     "output_type": "display_data"
    },
    {
     "name": "stdout",
     "output_type": "stream",
     "text": [
      "\n"
     ]
    },
    {
     "data": {
      "application/vnd.jupyter.widget-view+json": {
       "model_id": "3cb414e30b9046d7a669326fd69f7454",
       "version_major": 2,
       "version_minor": 0
      },
      "text/plain": [
       "HBox(children=(FloatProgress(value=0.0, max=5060.0), HTML(value='')))"
      ]
     },
     "metadata": {},
     "output_type": "display_data"
    },
    {
     "name": "stdout",
     "output_type": "stream",
     "text": [
      "\n"
     ]
    },
    {
     "data": {
      "application/vnd.jupyter.widget-view+json": {
       "model_id": "b1d089ac9a3b4cd7bedfeb4dcac5ee51",
       "version_major": 2,
       "version_minor": 0
      },
      "text/plain": [
       "HBox(children=(FloatProgress(value=0.0, max=5081.0), HTML(value='')))"
      ]
     },
     "metadata": {},
     "output_type": "display_data"
    },
    {
     "name": "stdout",
     "output_type": "stream",
     "text": [
      "\n"
     ]
    },
    {
     "data": {
      "application/vnd.jupyter.widget-view+json": {
       "model_id": "649939d1c0cc45688327303da4c06e23",
       "version_major": 2,
       "version_minor": 0
      },
      "text/plain": [
       "HBox(children=(FloatProgress(value=0.0, max=5061.0), HTML(value='')))"
      ]
     },
     "metadata": {},
     "output_type": "display_data"
    },
    {
     "name": "stdout",
     "output_type": "stream",
     "text": [
      "\n"
     ]
    },
    {
     "data": {
      "application/vnd.jupyter.widget-view+json": {
       "model_id": "2a616d0d5142411497fedb52da82c2fe",
       "version_major": 2,
       "version_minor": 0
      },
      "text/plain": [
       "HBox(children=(FloatProgress(value=0.0, max=5218.0), HTML(value='')))"
      ]
     },
     "metadata": {},
     "output_type": "display_data"
    },
    {
     "name": "stdout",
     "output_type": "stream",
     "text": [
      "\n"
     ]
    },
    {
     "data": {
      "application/vnd.jupyter.widget-view+json": {
       "model_id": "6644d4937dcc4f729eeb6bbe6f7325c7",
       "version_major": 2,
       "version_minor": 0
      },
      "text/plain": [
       "HBox(children=(FloatProgress(value=0.0, max=5198.0), HTML(value='')))"
      ]
     },
     "metadata": {},
     "output_type": "display_data"
    },
    {
     "name": "stdout",
     "output_type": "stream",
     "text": [
      "\n"
     ]
    }
   ],
   "source": [
    "all_results = []\n",
    "all_forecasts = []\n",
    "\n",
    "for trial in test_trials:\n",
    "    bboxes = all_df.loc[trial][['x1', 'y1', 'x2', 'y2']].values\n",
    "    results, forecasts = train_eval.eval_trajectory_predictor(predictor, bboxes)\n",
    "    all_results.append(results)\n",
    "    all_forecasts.append(forecasts)"
   ]
  },
  {
   "cell_type": "code",
   "execution_count": 21,
   "metadata": {},
   "outputs": [],
   "source": [
    "ADEs = [r['avg ADE'] for r in all_results]\n",
    "FDEs = [r['avg FDE'] for r in all_results]"
   ]
  },
  {
   "cell_type": "code",
   "execution_count": 22,
   "metadata": {},
   "outputs": [
    {
     "data": {
      "text/plain": [
       "20.75682342028026"
      ]
     },
     "execution_count": 22,
     "metadata": {},
     "output_type": "execute_result"
    }
   ],
   "source": [
    "np.array(ADEs).mean()"
   ]
  },
  {
   "cell_type": "code",
   "execution_count": 23,
   "metadata": {},
   "outputs": [
    {
     "data": {
      "text/plain": [
       "37.488939491827864"
      ]
     },
     "execution_count": 23,
     "metadata": {},
     "output_type": "execute_result"
    }
   ],
   "source": [
    "np.array(FDEs).mean()"
   ]
  },
  {
   "cell_type": "code",
   "execution_count": 95,
   "metadata": {},
   "outputs": [],
   "source": [
    "all_np_forecasts = []\n",
    "nans_forecast = np.empty(all_forecasts[0][-1].shape)\n",
    "nans_forecast[:] = np.nan\n",
    "\n",
    "for forecasts in all_forecasts:\n",
    "    forecasts_wo_nones = [nans_forecast if f is None else f for f in forecasts]\n",
    "    #forecasts_wo_nones = [f for f in forecasts if f is not None]\n",
    "    np_forecasts = np.stack(forecasts_wo_nones[40:])\n",
    "    all_np_forecasts.append(np_forecasts)\n",
    "    \n",
    "seq_data_pred = np.concatenate(all_np_forecasts)"
   ]
  },
  {
   "cell_type": "code",
   "execution_count": 96,
   "metadata": {},
   "outputs": [
    {
     "data": {
      "text/plain": [
       "(44480, 20, 4)"
      ]
     },
     "execution_count": 96,
     "metadata": {},
     "output_type": "execute_result"
    }
   ],
   "source": [
    "seq_data_pred.shape"
   ]
  },
  {
   "cell_type": "code",
   "execution_count": 56,
   "metadata": {},
   "outputs": [],
   "source": [
    "INF_P = 9999999\n",
    "\n",
    "mask_dict = {\n",
    "    'fl_dist': [0, INF_P, True, True], # min, max, mask_X, mask_Y\n",
    "    'speed': [0, INF_P, True, True],\n",
    "    'std': [0.0, INF_P, [0,1]],\n",
    "    'corr': [0.0, 1.0, True, True],\n",
    "    'zgzg': [0.0, 1.8, True, True],\n",
    "    'keep_prob': 0.1\n",
    "}\n",
    "\n",
    "mask_fn = train_eval.compose_masks(mask_fns=[\n",
    "    train_eval.mask_fl_dist(*mask_dict['fl_dist']),\n",
    "    train_eval.mask_speed(*mask_dict['speed']),\n",
    "    train_eval.mask_std(*mask_dict['std']),\n",
    "    train_eval.mask_corr(*mask_dict['corr']),\n",
    "    train_eval.mask_zgzg(*mask_dict['zgzg'])\n",
    "    ], invert=False)"
   ]
  },
  {
   "cell_type": "code",
   "execution_count": 93,
   "metadata": {},
   "outputs": [],
   "source": [
    "# run only in initailization of notebook\n",
    "trials_dict = train_eval.create_samples(df=all_df,\n",
    "                                        mask_fn=mask_fn,\n",
    "                                        keep_prob=mask_dict['keep_prob'],\n",
    "                                        input_labels=net_params['input_labels'], output_labels=net_params['output_labels'], \n",
    "                                        input_seq_size=net_params['inp_seq_len'], output_seq_size=net_params['out_seq_len'],\n",
    "                                        keep_nans=True)"
   ]
  },
  {
   "cell_type": "code",
   "execution_count": 577,
   "metadata": {},
   "outputs": [],
   "source": [
    "# run when masking is updated\n",
    "train_eval.update_trials_dict(trials_dict, mask_fn, keep_prob=mask_dict['keep_prob'])"
   ]
  },
  {
   "cell_type": "code",
   "execution_count": 94,
   "metadata": {},
   "outputs": [
    {
     "name": "stdout",
     "output_type": "stream",
     "text": [
      "Sample size:\n",
      "Training: 88 trials, 69890 seqs\n",
      "Validation: 11 trials, 54082 seqs\n",
      "Test: 11 trials, 44491 seqs\n"
     ]
    }
   ],
   "source": [
    "batch_size = 128\n",
    "train_dl, val_dl, test_dl = train_eval.create_train_val_test_dataloaders(trials_dict, train_trials, val_trials, test_trials,\n",
    "                                                                         train_mask=True, val_mask=False, test_mask=False,\n",
    "                                                                         batch_size=batch_size, shuffle=False)\n",
    "\n",
    "print(\"Sample size:\")\n",
    "print(f\"Training: {len(train_trials)} trials, {len(train_dl.dataset)} seqs\")\n",
    "if val_dl is not None:\n",
    "    print(f\"Validation: {len(val_trials)} trials, {len(val_dl.dataset)} seqs\")\n",
    "if test_dl is not None:\n",
    "    print(f\"Test: {len(test_trials)} trials, {len(test_dl.dataset)} seqs\")"
   ]
  },
  {
   "cell_type": "code",
   "execution_count": 97,
   "metadata": {},
   "outputs": [
    {
     "data": {
      "text/plain": [
       "((44491, 20, 4), (44491, 20, 4))"
      ]
     },
     "execution_count": 97,
     "metadata": {},
     "output_type": "execute_result"
    }
   ],
   "source": [
    "dl = test_dl\n",
    "seq_data_X = dl.dataset.X.numpy()\n",
    "seq_data_Y = dl.dataset.Y.numpy()\n",
    "seq_data_X.shape, seq_data_Y.shape"
   ]
  },
  {
   "cell_type": "code",
   "execution_count": 85,
   "metadata": {
    "jupyter": {
     "source_hidden": true
    }
   },
   "outputs": [],
   "source": [
    "def draw_sequences(arr_X,\n",
    "                   arr_Y,\n",
    "                   arr_pred,\n",
    "                   ax,\n",
    "                   to_scatter=True,\n",
    "                   l_alpha=0.35,\n",
    "                   sctr_s=0.5,\n",
    "                   sctr_alpha=1,\n",
    "                   past_c='b', ftr_c='r', pred_c='g', diff_c='k',\n",
    "                   draw_diffs=True,\n",
    "                   zoom_x = None,\n",
    "                   zoom_y = None):\n",
    "    \n",
    "    if len(arr_X.shape)==2:\n",
    "        arr_X = arr_X.reshape(1,arr_X.shape[0],arr_X.shape[1])\n",
    "        arr_Y = arr_Y.reshape(1,arr_Y.shape[0],arr_Y.shape[1])\n",
    "        if draw_diffs:\n",
    "            arr_pred = arr_pred.reshape(1,arr_pred.shape[0],arr_pred.shape[1])\n",
    "    \n",
    "    ax.add_collection(LineCollection(segments=[seq for seq in arr_X[:,:,:2]], colors=[past_c], label='past',alpha=l_alpha))\n",
    "    ax.add_collection(LineCollection(segments=[seq for seq in arr_Y[:,:,:2]], colors=[ftr_c], label='future',alpha=l_alpha))\n",
    "    if draw_diffs:\n",
    "        ax.add_collection(LineCollection(segments=[seq for seq in arr_pred[:,:,:2]], colors=[pred_c],label='pred',alpha=l_alpha))\n",
    "        diffs = [np.array([arr_pred[j,i,:2],arr_Y[j,i,:2]]) for i in range(arr_pred.shape[1]) for j in range(arr_pred.shape[0])]\n",
    "        ax.add_collection(LineCollection(segments=diffs, colors=[diff_c],label='diff',alpha=l_alpha))\n",
    "    if to_scatter:\n",
    "        ax.scatter(arr_X[:,:,0], arr_X[:,:,1], s=sctr_s, color=past_c, alpha=sctr_alpha)\n",
    "        ax.scatter(arr_Y[:,:,0], arr_Y[:,:,1], s=sctr_s, color=ftr_c, alpha=sctr_alpha)\n",
    "        if draw_diffs:\n",
    "            ax.scatter(arr_pred[:,:,0], arr_pred[:,:,1], s=sctr_s, color=pred_c, alpha=sctr_alpha)\n",
    "            \n",
    "    if zoom_x:\n",
    "        ax.set_xlim(zoom_x)\n",
    "    if zoom_y:\n",
    "        ax.set_ylim(zoom_y)\n"
   ]
  },
  {
   "cell_type": "code",
   "execution_count": 86,
   "metadata": {},
   "outputs": [],
   "source": [
    "im = cv.imread('../pogona_frames/transformed_image.jpg')\n",
    "im = cv.convertScaleAbs(im, alpha=2.5,beta=-128)"
   ]
  },
  {
   "cell_type": "code",
   "execution_count": 87,
   "metadata": {},
   "outputs": [
    {
     "data": {
      "application/vnd.jupyter.widget-view+json": {
       "model_id": "8e023e7ce47c40ce8766c0c2c7688082",
       "version_major": 2,
       "version_minor": 0
      },
      "text/plain": [
       "Canvas(toolbar=Toolbar(toolitems=[('Home', 'Reset original view', 'home', 'home'), ('Back', 'Back to previous …"
      ]
     },
     "metadata": {},
     "output_type": "display_data"
    },
    {
     "name": "stderr",
     "output_type": "stream",
     "text": [
      "/app/Pogona_realtime/Arena/Prediction/train_eval.py:767: RuntimeWarning:\n",
      "\n",
      "invalid value encountered in true_divide\n",
      "\n"
     ]
    },
    {
     "ename": "ValueError",
     "evalue": "'a' cannot be empty unless no samples are taken",
     "output_type": "error",
     "traceback": [
      "\u001b[0;31m\u001b[0m",
      "\u001b[0;31mValueError\u001b[0mTraceback (most recent call last)",
      "\u001b[0;32m<ipython-input-87-b0c809a20859>\u001b[0m in \u001b[0;36m<module>\u001b[0;34m\u001b[0m\n\u001b[1;32m      9\u001b[0m \u001b[0mdata_mask\u001b[0m \u001b[0;34m=\u001b[0m \u001b[0mmask_fn\u001b[0m\u001b[0;34m(\u001b[0m\u001b[0mseq_data_X\u001b[0m\u001b[0;34m,\u001b[0m \u001b[0mseq_data_Y\u001b[0m\u001b[0;34m)\u001b[0m\u001b[0;34m\u001b[0m\u001b[0;34m\u001b[0m\u001b[0m\n\u001b[1;32m     10\u001b[0m \u001b[0;34m\u001b[0m\u001b[0m\n\u001b[0;32m---> 11\u001b[0;31m \u001b[0msampling_mask\u001b[0m \u001b[0;34m=\u001b[0m \u001b[0mnp\u001b[0m\u001b[0;34m.\u001b[0m\u001b[0mrandom\u001b[0m\u001b[0;34m.\u001b[0m\u001b[0mchoice\u001b[0m\u001b[0;34m(\u001b[0m\u001b[0mnp\u001b[0m\u001b[0;34m.\u001b[0m\u001b[0margwhere\u001b[0m\u001b[0;34m(\u001b[0m\u001b[0mdata_mask\u001b[0m\u001b[0;34m)\u001b[0m\u001b[0;34m.\u001b[0m\u001b[0msqueeze\u001b[0m\u001b[0;34m(\u001b[0m\u001b[0;34m)\u001b[0m\u001b[0;34m,\u001b[0m \u001b[0msize\u001b[0m\u001b[0;34m=\u001b[0m\u001b[0mN_samples\u001b[0m\u001b[0;34m)\u001b[0m\u001b[0;34m\u001b[0m\u001b[0;34m\u001b[0m\u001b[0m\n\u001b[0m\u001b[1;32m     12\u001b[0m \u001b[0;34m\u001b[0m\u001b[0m\n\u001b[1;32m     13\u001b[0m \u001b[0msample_X\u001b[0m \u001b[0;34m=\u001b[0m \u001b[0mseq_data_X\u001b[0m\u001b[0;34m[\u001b[0m\u001b[0msampling_mask\u001b[0m\u001b[0;34m]\u001b[0m\u001b[0;34m\u001b[0m\u001b[0;34m\u001b[0m\u001b[0m\n",
      "\u001b[0;32mmtrand.pyx\u001b[0m in \u001b[0;36mnumpy.random.mtrand.RandomState.choice\u001b[0;34m()\u001b[0m\n",
      "\u001b[0;31mValueError\u001b[0m: 'a' cannot be empty unless no samples are taken"
     ]
    }
   ],
   "source": [
    "%matplotlib widget\n",
    "#%matplotlib inline\n",
    "fig,ax = plt.subplots(1,1,figsize=(7,9),dpi=125)\n",
    "\n",
    "ax.imshow(im,alpha=0.15)\n",
    "\n",
    "N_samples = 5\n",
    "\n",
    "data_mask = mask_fn(seq_data_X, seq_data_Y)\n",
    "\n",
    "sampling_mask = np.random.choice(np.argwhere(data_mask).squeeze(), size=N_samples)\n",
    "\n",
    "sample_X = seq_data_X[sampling_mask]\n",
    "sample_Y = seq_data_Y[sampling_mask]\n",
    "if seq_data_pred is not None:\n",
    "    sample_pred = seq_data_pred[sampling_mask]\n",
    "    draw_diffs = True\n",
    "else:\n",
    "    sample_pred = None\n",
    "    draw_diffs = False\n",
    "\"\"\"\n",
    "sampling_mask = np.random.choice(np.arange(hits_X.shape[0]),size=N_samples)\n",
    "sample_X = hits_X[:,:,2:][sampling_mask]\n",
    "sample_Y = hits_Y[:,:,2:][sampling_mask]\n",
    "#sample_pred = hits_preds[:,:,2:][sampling_mask]\n",
    "\n",
    "touches = (all_df.is_touch) & (all_df.y2 > 250)\n",
    "plt.scatter(all_df[touches].x2, all_df[touches].y2, color='y', s=25)\n",
    "\"\"\"\n",
    "\n",
    "draw_sequences(arr_X=sample_X,\n",
    "           arr_Y=sample_Y,\n",
    "           arr_pred=sample_pred,\n",
    "           ax=ax,\n",
    "           sctr_s=1,\n",
    "           l_alpha=0.2,\n",
    "           sctr_alpha=0.75,\n",
    "           to_scatter=True,\n",
    "           draw_diffs=draw_diffs)\n",
    "#draw_lines(data_X,data_Y)\n",
    "\n",
    "#ax.autoscale() # why doesn't work without this?\n",
    "#ax.axis('equal')\n",
    "#txt_color = 'white'\n",
    "ax.set_title(f'Input: {net_params[\"inp_seq_len\"]}, Output: {net_params[\"out_seq_len\"]} || {data_mask.sum():,} sequences',fontsize=13)\n",
    "fig.set_facecolor(color='w')\n",
    "ax.legend()\n",
    "print(mask_dict)\n",
    "\n"
   ]
  },
  {
   "cell_type": "code",
   "execution_count": 88,
   "metadata": {},
   "outputs": [
    {
     "name": "stderr",
     "output_type": "stream",
     "text": [
      "/app/Pogona_realtime/Arena/Prediction/train_eval.py:665: RuntimeWarning:\n",
      "\n",
      "invalid value encountered in greater\n",
      "\n",
      "/app/Pogona_realtime/Arena/Prediction/train_eval.py:665: RuntimeWarning:\n",
      "\n",
      "invalid value encountered in less\n",
      "\n",
      "/app/Pogona_realtime/Arena/Prediction/train_eval.py:667: RuntimeWarning:\n",
      "\n",
      "invalid value encountered in greater\n",
      "\n",
      "/app/Pogona_realtime/Arena/Prediction/train_eval.py:667: RuntimeWarning:\n",
      "\n",
      "invalid value encountered in less\n",
      "\n",
      "/app/Pogona_realtime/Arena/Prediction/train_eval.py:686: RuntimeWarning:\n",
      "\n",
      "invalid value encountered in greater\n",
      "\n",
      "/app/Pogona_realtime/Arena/Prediction/train_eval.py:686: RuntimeWarning:\n",
      "\n",
      "invalid value encountered in less\n",
      "\n",
      "/app/Pogona_realtime/Arena/Prediction/train_eval.py:688: RuntimeWarning:\n",
      "\n",
      "invalid value encountered in greater\n",
      "\n",
      "/app/Pogona_realtime/Arena/Prediction/train_eval.py:688: RuntimeWarning:\n",
      "\n",
      "invalid value encountered in less\n",
      "\n",
      "/app/Pogona_realtime/Arena/Prediction/train_eval.py:737: RuntimeWarning:\n",
      "\n",
      "invalid value encountered in greater\n",
      "\n",
      "/app/Pogona_realtime/Arena/Prediction/train_eval.py:737: RuntimeWarning:\n",
      "\n",
      "invalid value encountered in less\n",
      "\n",
      "/app/Pogona_realtime/Arena/Prediction/train_eval.py:767: RuntimeWarning:\n",
      "\n",
      "invalid value encountered in true_divide\n",
      "\n",
      "/app/Pogona_realtime/Arena/Prediction/train_eval.py:778: RuntimeWarning:\n",
      "\n",
      "invalid value encountered in greater\n",
      "\n",
      "/app/Pogona_realtime/Arena/Prediction/train_eval.py:778: RuntimeWarning:\n",
      "\n",
      "invalid value encountered in less\n",
      "\n",
      "/app/Pogona_realtime/Arena/Prediction/train_eval.py:780: RuntimeWarning:\n",
      "\n",
      "invalid value encountered in greater\n",
      "\n",
      "/app/Pogona_realtime/Arena/Prediction/train_eval.py:780: RuntimeWarning:\n",
      "\n",
      "invalid value encountered in less\n",
      "\n",
      "/app/Pogona_realtime/Arena/Prediction/train_eval.py:705: RuntimeWarning:\n",
      "\n",
      "Mean of empty slice.\n",
      "\n",
      "/home/user/miniconda/envs/py37/lib/python3.7/site-packages/numpy/core/_methods.py:154: RuntimeWarning:\n",
      "\n",
      "invalid value encountered in true_divide\n",
      "\n",
      "/app/Pogona_realtime/Arena/Prediction/train_eval.py:704: RuntimeWarning:\n",
      "\n",
      "invalid value encountered in arccos\n",
      "\n",
      "/app/Pogona_realtime/Arena/Prediction/train_eval.py:716: RuntimeWarning:\n",
      "\n",
      "invalid value encountered in greater\n",
      "\n",
      "/app/Pogona_realtime/Arena/Prediction/train_eval.py:716: RuntimeWarning:\n",
      "\n",
      "invalid value encountered in less\n",
      "\n",
      "/app/Pogona_realtime/Arena/Prediction/train_eval.py:718: RuntimeWarning:\n",
      "\n",
      "invalid value encountered in greater\n",
      "\n",
      "/app/Pogona_realtime/Arena/Prediction/train_eval.py:718: RuntimeWarning:\n",
      "\n",
      "invalid value encountered in less\n",
      "\n"
     ]
    }
   ],
   "source": [
    "data_mask = mask_fn(seq_data_X, seq_data_Y)"
   ]
  },
  {
   "cell_type": "code",
   "execution_count": 89,
   "metadata": {},
   "outputs": [
    {
     "data": {
      "text/plain": [
       "0"
      ]
     },
     "execution_count": 89,
     "metadata": {},
     "output_type": "execute_result"
    }
   ],
   "source": [
    "data_mask.sum()"
   ]
  },
  {
   "cell_type": "code",
   "execution_count": null,
   "metadata": {},
   "outputs": [],
   "source": []
  }
 ],
 "metadata": {
  "kernelspec": {
   "display_name": "Python [conda env:py37]",
   "language": "python",
   "name": "conda-env-py37-py"
  },
  "language_info": {
   "codemirror_mode": {
    "name": "ipython",
    "version": 3
   },
   "file_extension": ".py",
   "mimetype": "text/x-python",
   "name": "python",
   "nbconvert_exporter": "python",
   "pygments_lexer": "ipython3",
   "version": "3.7.7"
  }
 },
 "nbformat": 4,
 "nbformat_minor": 4
}
