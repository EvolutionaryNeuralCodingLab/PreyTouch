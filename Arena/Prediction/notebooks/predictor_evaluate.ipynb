{
 "cells": [
  {
   "cell_type": "markdown",
   "metadata": {},
   "source": [
    "# Predictor Evaluation and Visualization"
   ]
  },
  {
   "cell_type": "markdown",
   "metadata": {},
   "source": [
    "---- Add explanation ----"
   ]
  },
  {
   "cell_type": "markdown",
   "metadata": {},
   "source": [
    "## Notes and todos:\n",
    "- "
   ]
  },
  {
   "cell_type": "code",
   "execution_count": null,
   "metadata": {},
   "outputs": [],
   "source": [
    "import os\n",
    "os.chdir('/app/Pogona_realtime/Arena')"
   ]
  },
  {
   "cell_type": "markdown",
   "metadata": {},
   "source": [
    "## Imports"
   ]
  },
  {
   "cell_type": "code",
   "execution_count": 2,
   "metadata": {},
   "outputs": [],
   "source": [
    "import numpy as np\n",
    "import pandas as pd\n",
    "import pickle\n",
    "import imp\n",
    "import json\n",
    "import matplotlib.pyplot as plt\n",
    "from matplotlib.widgets import Slider, Button\n",
    "import seaborn as sns\n",
    "#from tqdm.auto import tqdm\n",
    "from tqdm import tqdm\n",
    "import torch\n",
    "import glob\n",
    "from datetime import datetime\n",
    "import cv2 as cv\n",
    "from scipy.stats import pearsonr\n",
    "\n",
    "\n",
    "from Prediction import dataset\n",
    "from Prediction import train_eval\n",
    "from Prediction import predictor\n",
    "from Prediction import visualize\n",
    "from Prediction import detector\n",
    "from Prediction import kalman_predict\n",
    "from Prediction import seq2seq_predict\n",
    "from Prediction import calibration as calib\n",
    "from Prediction import traj_models"
   ]
  },
  {
   "cell_type": "code",
   "execution_count": 3,
   "metadata": {},
   "outputs": [
    {
     "data": {
      "text/plain": [
       "<module 'Prediction.traj_models' from '/app/Pogona_realtime/Arena/Prediction/traj_models.py'>"
      ]
     },
     "execution_count": 3,
     "metadata": {},
     "output_type": "execute_result"
    }
   ],
   "source": [
    "imp.reload(dataset)\n",
    "imp.reload(train_eval)\n",
    "imp.reload(seq2seq_predict)\n",
    "imp.reload(predictor)\n",
    "imp.reload(visualize)\n",
    "imp.reload(detector)\n",
    "imp.reload(dataset)\n",
    "imp.reload(kalman_predict)\n",
    "imp.reload(traj_models)"
   ]
  },
  {
   "cell_type": "code",
   "execution_count": 118,
   "metadata": {},
   "outputs": [],
   "source": [
    "(mapx, mapy), roi, ncmtx = calib.get_undistort_mapping(100,100)"
   ]
  },
  {
   "cell_type": "code",
   "execution_count": 122,
   "metadata": {},
   "outputs": [
    {
     "data": {
      "text/plain": [
       "array([[-419.92816162,    0.        , -260.01230545],\n",
       "       [   0.        , -138.1812439 ,  -63.75685919],\n",
       "       [   0.        ,    0.        ,    1.        ]])"
      ]
     },
     "execution_count": 122,
     "metadata": {},
     "output_type": "execute_result"
    }
   ],
   "source": [
    "ncmtx"
   ]
  },
  {
   "cell_type": "markdown",
   "metadata": {},
   "source": [
    "## Load data"
   ]
  },
  {
   "cell_type": "code",
   "execution_count": 4,
   "metadata": {},
   "outputs": [
    {
     "name": "stdout",
     "output_type": "stream",
     "text": [
      "110 trials loaded\n"
     ]
    }
   ],
   "source": [
    "all_df = dataset.collect_data(data_sources={'detections': True, 'timestamps': True, 'dlc': False, 'touches': True})"
   ]
  },
  {
   "cell_type": "code",
   "execution_count": 5,
   "metadata": {},
   "outputs": [],
   "source": [
    "trials = all_df.index.unique()"
   ]
  },
  {
   "cell_type": "markdown",
   "metadata": {},
   "source": [
    "## Load Trajectory Predictors"
   ]
  },
  {
   "cell_type": "code",
   "execution_count": 6,
   "metadata": {},
   "outputs": [],
   "source": [
    "model_names = ['RNN_GRU_1013-1951_i20_o20_h350_l1','Linear_GRU_1013-1345_i20_o20_h350_l3']"
   ]
  },
  {
   "cell_type": "code",
   "execution_count": 7,
   "metadata": {},
   "outputs": [],
   "source": [
    "seq2seq_models = []\n",
    "for model_name in model_names:\n",
    "    net, model_params = traj_models.get_model(model_name)\n",
    "    traj_predictor = seq2seq_predict.Seq2SeqPredictor(model=net, \n",
    "                                                      weights_path=traj_models.get_weights_path(model_name),\n",
    "                                                      input_len=model_params['network_params']['inp_seq_len'],\n",
    "                                                      forecast_horizon=model_params['network_params']['out_seq_len'])\n",
    "    traj_predictor.model_params = model_params\n",
    "    seq2seq_models.append(traj_predictor)"
   ]
  },
  {
   "cell_type": "code",
   "execution_count": 124,
   "metadata": {},
   "outputs": [],
   "source": [
    "# Kalman Trajectory Predictor\n",
    "kalman_predictor = kalman_predict.KalmanPredictor(forecast_horizon=20, \n",
    "                                                num_derivatives=1, \n",
    "                                                q_var=2.145, r_var=120.0)"
   ]
  },
  {
   "cell_type": "code",
   "execution_count": 125,
   "metadata": {},
   "outputs": [],
   "source": [
    "# Kalman Trajectory Predictor with constant acceleration\n",
    "kalman_predictor_acc = kalman_predict.KalmanPredictor(forecast_horizon=20, \n",
    "                                                      num_derivatives=2, \n",
    "                                                      q_var=6.6, r_var=1000)"
   ]
  },
  {
   "cell_type": "markdown",
   "metadata": {},
   "source": [
    "## Predictor timings"
   ]
  },
  {
   "cell_type": "code",
   "execution_count": 9,
   "metadata": {},
   "outputs": [],
   "source": [
    "def seq2seq_name(traj_pred):\n",
    "    inp_len = traj_pred.model_params['network_params']['inp_seq_len']\n",
    "    out_len = traj_pred.model_params['network_params']['out_seq_len']\n",
    "    decoder_type = traj_pred.model_params['network_params']['decoder_type']\n",
    "    rnn_type = traj_pred.model_params['network_params']['rnn_type']\n",
    "    rnn_layers = traj_pred.model_params['network_params']['rnn_layers']\n",
    "    hidden_size = traj_pred.model_params['network_params']['hidden_size']\n",
    "    return f'Dec:{decoder_type}, RNN:{rnn_type}, l:{rnn_layers}, h:{hidden_size}, {inp_len}-{out_len}'"
   ]
  },
  {
   "cell_type": "code",
   "execution_count": 10,
   "metadata": {},
   "outputs": [],
   "source": [
    "K = 5000\n",
    "\n",
    "rand_bboxes = np.random.random((K, 4))\n",
    "\n",
    "timings = []\n",
    "for traj_pred in seq2seq_models + [kalman_predictor]:\n",
    "    results, _ = train_eval.eval_trajectory_predictor(traj_pred, rand_bboxes, show_progress=False)\n",
    "    times_arr = np.array(results['times'])\n",
    "    timings.append(times_arr)\n",
    "\n",
    "      "
   ]
  },
  {
   "cell_type": "code",
   "execution_count": 11,
   "metadata": {},
   "outputs": [
    {
     "data": {
      "image/png": "[encoded data removed]",
      "text/plain": [
       "<Figure size 432x288 with 1 Axes>"
      ]
     },
     "metadata": {
      "needs_background": "light"
     },
     "output_type": "display_data"
    }
   ],
   "source": [
    "thresh = 0.005\n",
    "bins = 30\n",
    "\n",
    "for traj_pred, times in zip(seq2seq_models + [kalman_predictor], timings):\n",
    "    if traj_pred == kalman_predictor:\n",
    "        label = \"Kalman predictor\"\n",
    "    else:\n",
    "        label = seq2seq_name(traj_pred)\n",
    "    sns.distplot(times[times < thresh]*1000, bins=bins, kde=False, label=label)\n",
    "\n",
    "plt.legend()\n",
    "plt.xticks(np.arange(0, 5, 0.5))\n",
    "plt.xlabel('millisecond')\n",
    "#plt.ylim((0, 1500))\n",
    "plt.savefig('../experiments_plots/all_timings.png', dpi=200)"
   ]
  },
  {
   "cell_type": "markdown",
   "metadata": {},
   "source": [
    "## Sequences data"
   ]
  },
  {
   "cell_type": "markdown",
   "metadata": {},
   "source": [
    "### Custom masking"
   ]
  },
  {
   "cell_type": "code",
   "execution_count": 12,
   "metadata": {},
   "outputs": [],
   "source": [
    "INF_P = 9999999\n",
    "\n",
    "mask_dict_alt = {\n",
    "    'fl_dist': [0, INF_P, True, True], # min, max, mask_X, mask_Y\n",
    "    'speed': [8, INF_P, True, True],\n",
    "    'std': [0.0, INF_P, [0,1]],\n",
    "    'corr': [0.0, 1.0, True, True],\n",
    "    'zgzg': [0, 1.5, True, True],\n",
    "    'keep_prob': 0.0\n",
    "}"
   ]
  },
  {
   "cell_type": "code",
   "execution_count": 13,
   "metadata": {},
   "outputs": [],
   "source": [
    "# use custom masking dict\n",
    "mask_dict = mask_dict_alt"
   ]
  },
  {
   "cell_type": "code",
   "execution_count": 20,
   "metadata": {},
   "outputs": [],
   "source": [
    "# use masking dict that model was trained on\n",
    "mask_dict = seq2seq_models[0].model_params['masking_params']"
   ]
  },
  {
   "cell_type": "code",
   "execution_count": 14,
   "metadata": {},
   "outputs": [],
   "source": [
    "mask_fn = train_eval.compose_masks(mask_fns=[\n",
    "    train_eval.mask_fl_dist(*mask_dict['fl_dist']),\n",
    "    train_eval.mask_speed(*mask_dict['speed']),\n",
    "    train_eval.mask_std(*mask_dict['std']),\n",
    "    train_eval.mask_corr(*mask_dict['corr']),\n",
    "    train_eval.mask_zgzg(*mask_dict['zgzg'])\n",
    "    ], invert=False)"
   ]
  },
  {
   "cell_type": "markdown",
   "metadata": {},
   "source": [
    "### Create trials dict\n",
    "--- add explanation why trials dict is needed, remind again that it's not scalable ---"
   ]
  },
  {
   "cell_type": "code",
   "execution_count": 15,
   "metadata": {},
   "outputs": [
    {
     "name": "stderr",
     "output_type": "stream",
     "text": [
      "/app/Pogona_realtime/Arena/Prediction/train_eval.py:745: RuntimeWarning: invalid value encountered in greater\n",
      "  ret_mask = ret_mask & ((dists_X > min_dist) & (dists_X < max_dist))\n",
      "/app/Pogona_realtime/Arena/Prediction/train_eval.py:745: RuntimeWarning: invalid value encountered in less\n",
      "  ret_mask = ret_mask & ((dists_X > min_dist) & (dists_X < max_dist))\n",
      "/app/Pogona_realtime/Arena/Prediction/train_eval.py:747: RuntimeWarning: invalid value encountered in greater\n",
      "  ret_mask = ret_mask & ((dists_Y > min_dist) & (dists_Y < max_dist))\n",
      "/app/Pogona_realtime/Arena/Prediction/train_eval.py:747: RuntimeWarning: invalid value encountered in less\n",
      "  ret_mask = ret_mask & ((dists_Y > min_dist) & (dists_Y < max_dist))\n",
      "/app/Pogona_realtime/Arena/Prediction/train_eval.py:766: RuntimeWarning: invalid value encountered in greater\n",
      "  ret_mask = ret_mask & ((speeds_X > min_speed) & (speeds_X < max_speed))\n",
      "/app/Pogona_realtime/Arena/Prediction/train_eval.py:766: RuntimeWarning: invalid value encountered in less\n",
      "  ret_mask = ret_mask & ((speeds_X > min_speed) & (speeds_X < max_speed))\n",
      "/app/Pogona_realtime/Arena/Prediction/train_eval.py:768: RuntimeWarning: invalid value encountered in greater\n",
      "  ret_mask = ret_mask & ((speeds_Y > min_speed) & (speeds_Y < max_speed))\n",
      "/app/Pogona_realtime/Arena/Prediction/train_eval.py:768: RuntimeWarning: invalid value encountered in less\n",
      "  ret_mask = ret_mask & ((speeds_Y > min_speed) & (speeds_Y < max_speed))\n",
      "/app/Pogona_realtime/Arena/Prediction/train_eval.py:817: RuntimeWarning: invalid value encountered in greater\n",
      "  ret_mask = (variances > min_std ** 2) & (variances < max_std ** 2)\n",
      "/app/Pogona_realtime/Arena/Prediction/train_eval.py:817: RuntimeWarning: invalid value encountered in less\n",
      "  ret_mask = (variances > min_std ** 2) & (variances < max_std ** 2)\n",
      "/app/Pogona_realtime/Arena/Prediction/train_eval.py:860: RuntimeWarning: invalid value encountered in greater\n",
      "  ret_mask = ret_mask & ((corr_X > min_corr) & (corr_X < max_corr))\n",
      "/app/Pogona_realtime/Arena/Prediction/train_eval.py:860: RuntimeWarning: invalid value encountered in less\n",
      "  ret_mask = ret_mask & ((corr_X > min_corr) & (corr_X < max_corr))\n",
      "/app/Pogona_realtime/Arena/Prediction/train_eval.py:862: RuntimeWarning: invalid value encountered in greater\n",
      "  ret_mask = ret_mask & ((corr_Y > min_corr) & (corr_Y < max_corr))\n",
      "/app/Pogona_realtime/Arena/Prediction/train_eval.py:862: RuntimeWarning: invalid value encountered in less\n",
      "  ret_mask = ret_mask & ((corr_Y > min_corr) & (corr_Y < max_corr))\n",
      "/app/Pogona_realtime/Arena/Prediction/train_eval.py:796: RuntimeWarning: invalid value encountered in greater\n",
      "  ret_mask = ret_mask & ((zgzgs_X > min_zgzg) & (zgzgs_X < max_zgzg))\n",
      "/app/Pogona_realtime/Arena/Prediction/train_eval.py:796: RuntimeWarning: invalid value encountered in less\n",
      "  ret_mask = ret_mask & ((zgzgs_X > min_zgzg) & (zgzgs_X < max_zgzg))\n",
      "/app/Pogona_realtime/Arena/Prediction/train_eval.py:798: RuntimeWarning: invalid value encountered in greater\n",
      "  ret_mask = ret_mask & ((zgzgs_Y > min_zgzg) & (zgzgs_Y < max_zgzg))\n",
      "/app/Pogona_realtime/Arena/Prediction/train_eval.py:798: RuntimeWarning: invalid value encountered in less\n",
      "  ret_mask = ret_mask & ((zgzgs_Y > min_zgzg) & (zgzgs_Y < max_zgzg))\n"
     ]
    }
   ],
   "source": [
    "# run only in initailization of notebook\n",
    "net_params = seq2seq_models[0].model_params['network_params']\n",
    "trials_dict = train_eval.create_samples(df=all_df,\n",
    "                                        mask_fn=mask_fn,\n",
    "                                        keep_prob=mask_dict['keep_prob'],\n",
    "                                        input_labels=net_params['input_labels'], output_labels=net_params['output_labels'], \n",
    "                                        input_seq_size=net_params['inp_seq_len'], output_seq_size=net_params['out_seq_len'],\n",
    "                                        keep_nans=True)"
   ]
  },
  {
   "cell_type": "code",
   "execution_count": 677,
   "metadata": {},
   "outputs": [],
   "source": [
    "# run when masking is updated\n",
    "train_eval.update_trials_dict(trials_dict, mask_fn, keep_prob=mask_dict['keep_prob'])"
   ]
  },
  {
   "cell_type": "code",
   "execution_count": 283,
   "metadata": {},
   "outputs": [],
   "source": [
    "# create new split of the trials\n",
    "train_trials, val_trials, test_trials = train_eval.split_train_val_test(trials_dict, split=(1.0, 0, 0))"
   ]
  },
  {
   "cell_type": "code",
   "execution_count": 16,
   "metadata": {},
   "outputs": [],
   "source": [
    "# use existing split from the model\n",
    "train_trials = seq2seq_models[0].model_params['training_params']['train_trials']\n",
    "val_trials = seq2seq_models[0].model_params['training_params']['val_trials']\n",
    "test_trials = seq2seq_models[0].model_params['training_params']['test_trials']"
   ]
  },
  {
   "cell_type": "code",
   "execution_count": 17,
   "metadata": {},
   "outputs": [
    {
     "name": "stdout",
     "output_type": "stream",
     "text": [
      "Sample size:\n",
      "Training: 88 trials, 381108 seqs\n",
      "Validation: 11 trials, 54082 seqs\n",
      "Test: 11 trials, 44491 seqs\n"
     ]
    }
   ],
   "source": [
    "# create datalaoders for batch inference\n",
    "batch_size = 128\n",
    "train_dl, val_dl, test_dl = train_eval.create_train_val_test_dataloaders(trials_dict, train_trials, val_trials, test_trials,\n",
    "                                                                         train_mask=False, val_mask=False, test_mask=False,\n",
    "                                                                         batch_size=batch_size, shuffle=False)\n",
    "\n",
    "print(\"Sample size:\")\n",
    "print(f\"Training: {len(train_trials)} trials, {len(train_dl.dataset)} seqs\")\n",
    "if val_dl is not None:\n",
    "    print(f\"Validation: {len(val_trials)} trials, {len(val_dl.dataset)} seqs\")\n",
    "if test_dl is not None:\n",
    "    print(f\"Test: {len(test_trials)} trials, {len(test_dl.dataset)} seqs\")"
   ]
  },
  {
   "cell_type": "markdown",
   "metadata": {},
   "source": [
    "### Generate data tensors and predictions"
   ]
  },
  {
   "cell_type": "code",
   "execution_count": 18,
   "metadata": {},
   "outputs": [],
   "source": [
    "# create numpy 3d-arrays of the data\n",
    "dl = test_dl\n",
    "seq_data_X = dl.dataset.X.numpy()\n",
    "seq_data_Y = dl.dataset.Y.numpy()"
   ]
  },
  {
   "cell_type": "code",
   "execution_count": 19,
   "metadata": {},
   "outputs": [
    {
     "name": "stdout",
     "output_type": "stream",
     "text": [
      "Total MB of data: 27.2\n"
     ]
    }
   ],
   "source": [
    "print(f'Total MB of data: {seq_data_X.nbytes/2**20 + seq_data_Y.nbytes/2**20:.1f}')"
   ]
  },
  {
   "cell_type": "code",
   "execution_count": 20,
   "metadata": {},
   "outputs": [],
   "source": [
    "seq_preds = []\n",
    "for traj_pred in seq2seq_models:\n",
    "    seq_preds.append(train_eval.get_seq_forecast(dl, traj_pred.model))"
   ]
  },
  {
   "cell_type": "code",
   "execution_count": 21,
   "metadata": {},
   "outputs": [
    {
     "data": {
      "application/vnd.jupyter.widget-view+json": {
       "model_id": "f2b34a8350984dfdb403135392f2e1ef",
       "version_major": 2,
       "version_minor": 0
      },
      "text/plain": [
       "HBox(children=(FloatProgress(value=0.0, max=11.0), HTML(value='')))"
      ]
     },
     "metadata": {},
     "output_type": "display_data"
    },
    {
     "name": "stdout",
     "output_type": "stream",
     "text": [
      "\n"
     ]
    }
   ],
   "source": [
    "ADEs, FDEs, trial_lens, all_forecasts = train_eval.eval_traj_predictor_on_trials(test_trials, kalman_predictor, all_df)\n",
    "seq_pred_kalman = train_eval.all_forecasts_to_seq_data(all_forecasts, inp_seq_len=net_params['inp_seq_len'], \n",
    "                                                            out_seq_len=net_params['out_seq_len'],\n",
    "                                                            out_dim=net_params['output_dim'])"
   ]
  },
  {
   "cell_type": "code",
   "execution_count": 126,
   "metadata": {},
   "outputs": [
    {
     "data": {
      "application/vnd.jupyter.widget-view+json": {
       "model_id": "561bb95543f647f1b3e735309aabaa6e",
       "version_major": 2,
       "version_minor": 0
      },
      "text/plain": [
       "HBox(children=(FloatProgress(value=0.0, max=11.0), HTML(value='')))"
      ]
     },
     "metadata": {},
     "output_type": "display_data"
    },
    {
     "name": "stdout",
     "output_type": "stream",
     "text": [
      "\n"
     ]
    }
   ],
   "source": [
    "ADEs, FDEs, trial_lens, all_forecasts = train_eval.eval_traj_predictor_on_trials(test_trials, kalman_predictor_acc, all_df)\n",
    "seq_pred_kalman_acc = train_eval.all_forecasts_to_seq_data(all_forecasts, inp_seq_len=net_params['inp_seq_len'], \n",
    "                                                            out_seq_len=net_params['out_seq_len'],\n",
    "                                                            out_dim=net_params['output_dim'])"
   ]
  },
  {
   "cell_type": "markdown",
   "metadata": {},
   "source": [
    "### Average ADE results on test set\n",
    "- lstm: 9.8143/41.3148\n",
    "- gru-20: 9.4457/40.2263\n",
    "- gru-10: 6.4983/22.9242\n",
    "- kalman 53.77565355787182 / 13.338808356545009\n"
   ]
  },
  {
   "cell_type": "code",
   "execution_count": 129,
   "metadata": {},
   "outputs": [],
   "source": [
    "bar_df = pd.DataFrame()\n",
    "mask = mask_fn(seq_data_X, seq_data_Y)\n",
    "nan_mask_Y = ~np.isnan(seq_data_Y).any(axis=2).any(axis=1)\n",
    "nan_mask_X = ~np.isnan(seq_data_X).any(axis=2).any(axis=1)\n",
    "nan_mask = nan_mask_Y & nan_mask_X\n",
    "for seq_pred, traj_pred in zip(seq_preds + [seq_pred_kalman, seq_pred_kalman_acc], seq2seq_models + [kalman_predictor, kalman_predictor_acc]):\n",
    "    ADE = train_eval.calc_ADE(torch.from_numpy(seq_pred[nan_mask]), torch.from_numpy(seq_data_Y[nan_mask]))\n",
    "    masked_ADE = train_eval.calc_ADE(torch.from_numpy(seq_pred[mask]), torch.from_numpy(seq_data_Y[mask]))\n",
    "    \n",
    "    if traj_pred == kalman_predictor:\n",
    "        name = 'Kalman'\n",
    "    elif traj_pred == kalman_predictor_acc:\n",
    "        name = 'Kalman acceleration' \n",
    "    else:\n",
    "        name = seq2seq_name(traj_pred)\n",
    "    \n",
    "    bar_df.loc[name, 'False'] = ADE.item()\n",
    "    bar_df.loc[name, 'True'] = masked_ADE.item()\n"
   ]
  },
  {
   "cell_type": "code",
   "execution_count": 130,
   "metadata": {},
   "outputs": [],
   "source": [
    "bar_df['Model'] = bar_df.index\n",
    "\n",
    "long_df = pd.melt(bar_df,id_vars=['Model'], var_name='Masking',value_name='ADE', ignore_index=False)"
   ]
  },
  {
   "cell_type": "code",
   "execution_count": 131,
   "metadata": {},
   "outputs": [
    {
     "data": {
      "image/png": "[encoded data removed]",
      "text/plain": [
       "<Figure size 864x504 with 1 Axes>"
      ]
     },
     "metadata": {
      "needs_background": "light"
     },
     "output_type": "display_data"
    }
   ],
   "source": [
    "%matplotlib inline\n",
    "plt.figure(figsize=(12,7))\n",
    "sns.barplot(x='Model',y='ADE',hue='Masking',data=long_df)\n",
    "plt.ylabel('ADE',fontsize=15, rotation=0,labelpad=20)\n",
    "plt.xlabel('Model',fontsize=15)\n",
    "\n",
    "plt.savefig('../experiments_plots/ADEs_bar.jpg',dpi=200)"
   ]
  },
  {
   "cell_type": "markdown",
   "metadata": {},
   "source": [
    "### Visualize sequences and predictions"
   ]
  },
  {
   "cell_type": "code",
   "execution_count": 36,
   "metadata": {},
   "outputs": [
    {
     "data": {
      "application/vnd.jupyter.widget-view+json": {
       "model_id": "b3156bfb958f4cb185f20a250903d11e",
       "version_major": 2,
       "version_minor": 0
      },
      "text/plain": [
       "Canvas(toolbar=Toolbar(toolitems=[('Home', 'Reset original view', 'home', 'home'), ('Back', 'Back to previous …"
      ]
     },
     "metadata": {},
     "output_type": "display_data"
    },
    {
     "data": {
      "text/plain": [
       "<matplotlib.legend.Legend at 0x7fce6204c590>"
      ]
     },
     "execution_count": 36,
     "metadata": {},
     "output_type": "execute_result"
    }
   ],
   "source": [
    "%matplotlib widget\n",
    "#%matplotlib inline\n",
    "fig,ax = plt.subplots(1,1,figsize=(10,16))\n",
    "\n",
    "im = cv.imread('../pogona_frames/transformed_image.jpg')\n",
    "im = cv.convertScaleAbs(im, alpha=2.5,beta=-128)\n",
    "ax.imshow(im,alpha=0.15)\n",
    "\n",
    "colors = plt.get_cmap('tab10').colors[:2] + plt.get_cmap('tab10').colors[4:] \n",
    "\n",
    "N_samples = 5\n",
    "\n",
    "data_mask = mask_fn(seq_data_X, seq_data_Y)\n",
    "sampling_mask = np.random.choice(np.argwhere(data_mask).squeeze(), size=N_samples)\n",
    "\n",
    "sample_X = seq_data_X[sampling_mask]\n",
    "sample_Y = seq_data_Y[sampling_mask]\n",
    "\n",
    "l_alpha = 0.5\n",
    "\n",
    "visualize.draw_sequences(arr_X=sample_X,\n",
    "           arr_Y=sample_Y,\n",
    "           arr_pred=None,\n",
    "           ax=ax,\n",
    "           sctr_s=1,\n",
    "           l_alpha=l_alpha,\n",
    "           sctr_alpha=0.75,\n",
    "           draw_diffs=False)\n",
    "\n",
    "for i, (seq_pred, traj_pred) in enumerate(zip(seq_preds + [seq_pred_kalman], \n",
    "                                               seq2seq_models + [kalman_predictor])):\n",
    "    \n",
    "    if traj_pred == kalman_predictor:\n",
    "        name = 'Kalman'\n",
    "    else:\n",
    "        name = seq2seq_name(traj_pred)\n",
    "        \n",
    "    sample_pred = seq_pred[sampling_mask]\n",
    "    \n",
    "    visualize.draw_sequences(arr_X=None,\n",
    "                   arr_Y=sample_pred,\n",
    "                   arr_pred=None,\n",
    "                   ax=ax,\n",
    "                   sctr_s=1,\n",
    "                   l_alpha=l_alpha,\n",
    "                   sctr_alpha=0.75,\n",
    "                   draw_diffs=False,\n",
    "                   ylabel=name,\n",
    "                   ftr_c=colors[i % len(colors)]\n",
    "                  )\n",
    "\n",
    "\n",
    "#ax.axis('equal')\n",
    "#txt_color = 'white'\n",
    "ax.set_title(f'Input: {net_params[\"inp_seq_len\"]}, Output: {net_params[\"out_seq_len\"]} || {data_mask.sum():,} sequences',fontsize=13)\n",
    "fig.set_facecolor(color='w')\n",
    "ax.legend()\n",
    "\n",
    "#plt.savefig(\"../experiments_plots/sequence_sample.png\", dpi=200)"
   ]
  },
  {
   "cell_type": "markdown",
   "metadata": {},
   "source": [
    "## Sequence data stats"
   ]
  },
  {
   "cell_type": "code",
   "execution_count": 66,
   "metadata": {},
   "outputs": [],
   "source": [
    "def plot_distribution(ax, \n",
    "                   data_array,\n",
    "                   label,\n",
    "                   min_thresh=None, max_thresh=None,\n",
    "                   title=None,\n",
    "                   kde=True, bins=500, color='b',\n",
    "                   quantiles=[0.1, 0.25, 0.5, 0.75]):\n",
    "    \n",
    "    mask = np.array([True] * data_array.shape[0])\n",
    "    if min_thresh:\n",
    "        min_mask = data_array > min_thresh\n",
    "        mask = mask & min_mask\n",
    "    if max_thresh:\n",
    "        max_mask = data_array < max_thresh\n",
    "        mask = mask & max_mask     \n",
    "        \n",
    "    sns.distplot(data_array[mask], label=label, kde=kde, bins=bins,ax=ax, color=color)\n",
    "    ax.set_xlabel(label, fontsize=16, labelpad=5)\n",
    "    \n",
    "    if quantiles is not None:\n",
    "        bins, vals = np.histogram(data_array[mask], bins=bins)\n",
    "        top = np.max(bins)\n",
    "        for q in quantiles:\n",
    "            quan_val = np.quantile(data_array[mask].dropna(), q)\n",
    "            ax.plot(np.ones(2) * quan_val, [0,top-top//50], linestyle='--', color='r', linewidth=1, alpha=0.5)\n",
    "            ax.text(quan_val, top, q, fontsize=10, rotation=0, color='r')\n",
    "                \n",
    "    \n",
    "    #ax.legend()\n",
    "    if title:\n",
    "        ax.set_title(title)\n"
   ]
  },
  {
   "cell_type": "code",
   "execution_count": 67,
   "metadata": {},
   "outputs": [],
   "source": [
    "#funcs = [train_eval.compute_dists, train_eval.compute_speeds, train_eval.compute_zigzagity, train_eval.compute_batch_r]\n",
    "funcs = [train_eval.compute_speeds, train_eval.compute_zigzagity, train_eval.compute_batch_r]\n",
    "\n",
    "#labels = ['distance', 'speed','zigzagity', 'pear_r']\n",
    "labels = ['speed','zigzagity', 'pear_r']\n",
    "\n",
    "distr_X_full = {key:pd.Series(func(seq_data_X), name=key) for key,func in zip(labels, funcs)}"
   ]
  },
  {
   "cell_type": "code",
   "execution_count": 68,
   "metadata": {},
   "outputs": [],
   "source": [
    "funcs = [train_eval.compute_dists, train_eval.compute_speeds, train_eval.compute_zigzagity, train_eval.compute_batch_r]\n",
    "labels = ['distance', 'speed','zigzagity', 'pear_r']\n",
    "distr_X_hits = {key:pd.Series(func(hits_X[:,:,2:]),name=key) for key,func in zip(labels, funcs)}"
   ]
  },
  {
   "cell_type": "code",
   "execution_count": 345,
   "metadata": {},
   "outputs": [
    {
     "data": {
      "text/plain": [
       "GaussianMixture(covariance_type='full', init_params='kmeans', max_iter=100,\n",
       "        means_init=None, n_components=2, n_init=1, precisions_init=None,\n",
       "        random_state=None, reg_covar=1e-06, tol=0.001, verbose=0,\n",
       "        verbose_interval=10, warm_start=False, weights_init=None)"
      ]
     },
     "execution_count": 345,
     "metadata": {},
     "output_type": "execute_result"
    }
   ],
   "source": [
    "from sklearn.mixture import GaussianMixture\n",
    "em = GaussianMixture(n_components=2)\n",
    "x = distr_X_full['zigzagity'].values\n",
    "x = x[~np.isnan(x)]\n",
    "em.fit(x.reshape(-1,1))"
   ]
  },
  {
   "cell_type": "code",
   "execution_count": 346,
   "metadata": {},
   "outputs": [
    {
     "data": {
      "text/plain": [
       "(array([[[0.02123716]],\n",
       " \n",
       "        [[0.13619551]]]),\n",
       " array([[2.06805665],\n",
       "        [1.47130749]]))"
      ]
     },
     "execution_count": 346,
     "metadata": {},
     "output_type": "execute_result"
    }
   ],
   "source": [
    "em.covariances_, em.means_"
   ]
  },
  {
   "cell_type": "code",
   "execution_count": 334,
   "metadata": {},
   "outputs": [],
   "source": [
    "s = np.random.normal(loc=2.06, scale=0.02**0.5, size=1000)"
   ]
  },
  {
   "cell_type": "code",
   "execution_count": 342,
   "metadata": {},
   "outputs": [
    {
     "data": {
      "text/plain": [
       "<matplotlib.axes._subplots.AxesSubplot at 0x7fcdce0e1bd0>"
      ]
     },
     "execution_count": 342,
     "metadata": {},
     "output_type": "execute_result"
    },
    {
     "data": {
      "image/png": "[encoded data removed]",
      "text/plain": [
       "<Figure size 432x288 with 1 Axes>"
      ]
     },
     "metadata": {
      "needs_background": "light"
     },
     "output_type": "display_data"
    }
   ],
   "source": [
    "sns.distplot(x, bins=50)\n",
    "sns.distplot(s, bins=50, hist=False)"
   ]
  },
  {
   "cell_type": "code",
   "execution_count": 93,
   "metadata": {},
   "outputs": [
    {
     "data": {
      "image/png": "[encoded data removed]",
      "text/plain": [
       "<Figure size 432x288 with 1 Axes>"
      ]
     },
     "metadata": {
      "needs_background": "light"
     },
     "output_type": "display_data"
    }
   ],
   "source": [
    "std = np.sqrt(train_eval.compute_var(seq_data_X, seq_data_Y))\n",
    "dist_std = pd.Series(std, name=\"std\").dropna()\n",
    "fix, ax = plt.subplots()\n",
    "plot_distribution(ax, dist_std, \"coordinate std\", quantiles=[0.5, 0.9], kde=False, min_thresh=0, max_thresh=40)"
   ]
  },
  {
   "cell_type": "code",
   "execution_count": 95,
   "metadata": {},
   "outputs": [
    {
     "data": {
      "text/plain": [
       "3.341465950012207"
      ]
     },
     "execution_count": 95,
     "metadata": {},
     "output_type": "execute_result"
    }
   ],
   "source": [
    "np.quantile(dist_std, 0.5)"
   ]
  },
  {
   "cell_type": "code",
   "execution_count": 583,
   "metadata": {},
   "outputs": [
    {
     "data": {
      "text/plain": [
       "1.0672481656074524"
      ]
     },
     "execution_count": 583,
     "metadata": {},
     "output_type": "execute_result"
    }
   ],
   "source": [
    "np.quantile(distr_X_full['zigzagity'].dropna(),0.025)"
   ]
  },
  {
   "cell_type": "code",
   "execution_count": 579,
   "metadata": {},
   "outputs": [
    {
     "data": {
      "image/png": "[encoded data removed]",
      "text/plain": [
       "<Figure size 1560x600 with 3 Axes>"
      ]
     },
     "metadata": {
      "needs_background": "light"
     },
     "output_type": "display_data"
    }
   ],
   "source": [
    "%matplotlib inline\n",
    "preety_labels = {'speed': 'Speed', 'zigzagity':'Zigzagity', 'pear_r':\"Pearson's r\"}\n",
    "labels_quantiles = {'speed': [0.5, 0.9, 0.95, 0.99], \n",
    "                    'zigzagity':[0.01, 0.03, 0.10, 0.5], \n",
    "                    'pear_r': [0.3, 0.5, 0.75, 0.9]}\n",
    "\n",
    "fig, axes = plt.subplots(1, len(funcs), figsize=(13,5), dpi=120)\n",
    "for ax, label in zip(axes, labels):\n",
    "    max_thresh = 24\n",
    "    plot_distribution(ax, \n",
    "                      distr_X_full[label], \n",
    "                      label=preety_labels[label],\n",
    "                      kde=False,\n",
    "                      bins=40, max_thresh=max_thresh, quantiles=labels_quantiles[label])\n",
    "    \"\"\"\n",
    "    plot_distribution(ax, \n",
    "                      distr_X_full[label], \n",
    "                      label=None,\n",
    "                      kde=True,\n",
    "                      bins=50, color='r',max_thresh=max_thresh)\n",
    "    \"\"\"\n",
    "#fig.suptitle('Data statitstics', fontsize=20)\n",
    "#fig.tight_layout()\n",
    "fig.savefig('../experiments_plots/data_stats.jpg',dpi=120)\n"
   ]
  },
  {
   "cell_type": "code",
   "execution_count": 42,
   "metadata": {},
   "outputs": [
    {
     "data": {
      "text/plain": [
       "{'fl_dist': [0, 9999999, True, True],\n",
       " 'speed': [0, 9999999, True, True],\n",
       " 'std': [0.0, 9999999, [0, 1]],\n",
       " 'corr': [0.0, 1.0, True, True],\n",
       " 'zgzg': [0, 1.5, True, True],\n",
       " 'keep_prob': 0.01}"
      ]
     },
     "execution_count": 42,
     "metadata": {},
     "output_type": "execute_result"
    }
   ],
   "source": [
    "model_params['masking_params']"
   ]
  },
  {
   "cell_type": "code",
   "execution_count": 198,
   "metadata": {},
   "outputs": [
    {
     "data": {
      "image/png": "[encoded data removed]",
      "text/plain": [
       "<Figure size 648x648 with 3 Axes>"
      ]
     },
     "metadata": {
      "needs_background": "light"
     },
     "output_type": "display_data"
    }
   ],
   "source": [
    "%matplotlib inline\n",
    "# plot 2d relationship\n",
    "x_axis = 'zigzagity'\n",
    "y_axis = 'pear_r'\n",
    "alpha = 1\n",
    "color='r'\n",
    "\n",
    "#plt.figure()\n",
    "#fig, ax = plt.subplots(1,1,figsize=(12,6))\n",
    "#sns.scatterplot(distr_X_full[x_axis], distr_X_full[y_axis], ax=ax, alpha=alpha,color=color)\n",
    "g = sns.jointplot(distr_X_full[x_axis], distr_X_full[y_axis], kind='hex',alpha=alpha,marginal_kws={'bins':100}, height=9)\n",
    "#fig.set_facecolor('w')\n",
    "g.savefig('../experiments_plots/zgzg_r_data.jpg')"
   ]
  },
  {
   "cell_type": "markdown",
   "metadata": {},
   "source": [
    "## Evaluate Hit Predictor"
   ]
  },
  {
   "cell_type": "markdown",
   "metadata": {},
   "source": [
    "### Hit predictor notes\n",
    "TODO<br>\n",
    "Maybe other visualiztions that combine the temporal data with the arena coordinates data.\n",
    "\n",
    "Metrics - TODO:<br>\n",
    "We can compare that structure to the real frames that have an actual hit event and their respective x values,\n",
    "and calculate various metrics that quantify the errors. Join the the arrays.\n",
    "FN - missed an hit event (by how much?)\n",
    "FP - predicted an hit event by mistake (relative to what ground truth events?)\n",
    "Other issues: how to decide what is a \"close\" event? what to do if there are many? etc...\n"
   ]
  },
  {
   "cell_type": "markdown",
   "metadata": {},
   "source": [
    "### Hit predictor functions"
   ]
  },
  {
   "cell_type": "code",
   "execution_count": 50,
   "metadata": {},
   "outputs": [],
   "source": [
    "# find start and end indices for each test trial in sequence arrays\n",
    "\n",
    "trials_slicing = dict()\n",
    "ind = 0\n",
    "for trial in test_trials:\n",
    "    trial_inds = np.argwhere(all_df.index == trial)\n",
    "    start = trial_inds[0 + net_params['inp_seq_len'] - 1][0]\n",
    "    end = trial_inds[-net_params['out_seq_len']][0]\n",
    "    \n",
    "    trial_len = end - start\n",
    "    \n",
    "    trials_slicing[trial] = (ind, ind + trial_len)\n",
    "    ind += trial_len"
   ]
  },
  {
   "cell_type": "code",
   "execution_count": 386,
   "metadata": {},
   "outputs": [],
   "source": [
    "hit_trials = ['learning_20200917T152238_trial1', 'fast_cockroach_20200803T085738_trial1',\n",
    "             'learning_20201001T084647_trial1', 'fast_line_20200803T082414_trial1', 'line_20200803T081429_trial1']\n",
    "hit_df = all_df.loc[hit_trials]"
   ]
  },
  {
   "cell_type": "code",
   "execution_count": 387,
   "metadata": {},
   "outputs": [],
   "source": [
    "lots_o_touches = 'circle_20200803T115839_trial1'\n",
    "lots_o_touches2 = 'fast_cockroach_20200803T085738_trial1'"
   ]
  },
  {
   "cell_type": "code",
   "execution_count": 47,
   "metadata": {},
   "outputs": [],
   "source": [
    "# TODO: aligning with true touching events won't work, check FIRST_FRAME parameter from evaluate trajectory predictor cell\n",
    "\n",
    "def get_hit_preds_forecasts(seq_pred_trial, \n",
    "                            hit_pred,\n",
    "                            inp_len,\n",
    "                            return_mean=False):\n",
    "    \"\"\"\n",
    "    Receive an array of forecasts, and generate an array describing the hit predictions from the frame perspective,\n",
    "    i.e, for each frame, there's a row of length forecast_horizon, with a value in the index of a forecast that \n",
    "    predicted a hit. (if forecast 1234 predicted hit in 5 frames, then pred[1239,5] has a value).\n",
    "        \n",
    "    If return_mean is true, will count the number of forecasts predicting a hit for a specific frame, and the mean predicted\n",
    "    x value.\n",
    "    \"\"\"\n",
    "    if np.all(np.isnan(seq_pred_trial)):\n",
    "        print(\"No forecasts in list\")\n",
    "        return\n",
    "    \n",
    "    forecast_horizon = seq_pred_trial.shape[1]\n",
    "    preds = np.empty((seq_pred_trial.shape[0] + forecast_horizon, forecast_horizon))    \n",
    "    preds[:] = np.nan\n",
    "    \n",
    "    for i, forecast in enumerate(seq_pred_trial):\n",
    "        x, hit_ind = hit_pred.predict_hit(forecast)\n",
    "        if hit_ind is not None and hit_ind < preds.shape[0]:\n",
    "            frame_ind = inp_len - 1 + (i+1) + hit_ind #  the frame index to which the hit is predicted\n",
    "            preds[frame_ind, hit_ind] = x  # place the x value in the index that the forecast predicted\n",
    "\n",
    "    \n",
    "    if return_mean:\n",
    "        temp = np.empty((preds.shape[0], 2))\n",
    "        temp[:,0] = (~np.isnan(preds)).sum(axis=1) # number of forecasts predicting hit\n",
    "        temp[:, 1] = np.nanmean(preds,axis=1)\n",
    "        return temp\n",
    "    return preds\n",
    "\n",
    "\n",
    "def plot_preds_and_truth(preds, \n",
    "                         trial_slice, \n",
    "                         ax,\n",
    "                         start=None, \n",
    "                         end=None,):\n",
    "    \"\"\"\n",
    "    preds - a frame prediction array\n",
    "    trial_slice - the slice from the dataframe for that trial, sliced like the bboxes array\n",
    "    which the traj predictor operated on.\n",
    "    Caller's responsibility to make sure the arrays are the same shape on dim 0 and that \n",
    "    they are aligned.\n",
    "    \"\"\"\n",
    "    \n",
    "    hits = False\n",
    "    \n",
    "    if start is None:\n",
    "        start = 0\n",
    "    if end is None:\n",
    "        end = preds.shape[0]\n",
    "    \n",
    "    ax.set_xticklabels(np.arange(start=start, stop=end+1)) # ax.set_xticks set the integer indices of the labels\n",
    "    \n",
    "    preds = preds[start:end]\n",
    "    trial_slice = trial_slice.iloc[start:end]\n",
    "    \n",
    "    forecast_horizon = preds.shape[1]\n",
    "    if trial_slice is not None:\n",
    "        hits_idx = np.where(trial_slice.is_touch)[0]\n",
    "    \n",
    "        if hits_idx.shape[0] == 0:\n",
    "            print(\"no real hits\")\n",
    "        else:\n",
    "            hits = True\n",
    "    \n",
    "    if np.all(np.isnan(preds)):\n",
    "        print(\"All nan, nothing to show\")\n",
    "        return\n",
    "    sns.heatmap(preds.transpose(), ax=ax, cmap='winter')\n",
    "        \n",
    "    curr_x_ticks = list(ax.xaxis.get_ticklabels())\n",
    "    stride = int(curr_x_ticks[1].get_text())\n",
    "    ax.set_xticklabels(np.arange(start=start, stop=end+1,step=stride), rotation=30) # ax.set_xticks set the integer indices of the labels\n",
    "    tick_freq = 3\n",
    "    for n, label in enumerate(ax.xaxis.get_ticklabels()):\n",
    "        if n % tick_freq != 0:\n",
    "            label.set_visible(False)\n",
    "        \n",
    "    if hits:\n",
    "        for x in hits_idx:\n",
    "            ax.plot(np.ones(2)*x, np.linspace(0,20,num=2), linestyle='--',linewidth=1.5, color='r', zorder=-1, alpha=0.5) \n",
    "    \n",
    "   "
   ]
  },
  {
   "cell_type": "markdown",
   "metadata": {},
   "source": [
    "### Hit predictions raster plot"
   ]
  },
  {
   "cell_type": "code",
   "execution_count": 61,
   "metadata": {},
   "outputs": [
    {
     "data": {
      "text/plain": [
       "['learning_20200917T152238_trial1',\n",
       " 'learning_20200917T152238_trial3',\n",
       " 'fast_cockroach_20200803T085738_trial1',\n",
       " 'learning_20201001T081837_trial3',\n",
       " 'learning_20201001T081837_trial5',\n",
       " 'learning_20200917T154539_trial3',\n",
       " 'worm_circle_20200830T122241_trial1',\n",
       " 'beetle_fast_line_20200830T124020_trial1',\n",
       " 'circle_20200803T093051_trial1',\n",
       " 'line_20200803T095401_trial1',\n",
       " 'learning_20200923T111426_trial3']"
      ]
     },
     "execution_count": 61,
     "metadata": {},
     "output_type": "execute_result"
    }
   ],
   "source": [
    "test_trials"
   ]
  },
  {
   "cell_type": "code",
   "execution_count": 117,
   "metadata": {},
   "outputs": [
    {
     "data": {
      "image/png": "[encoded data removed]",
      "text/plain": [
       "<Figure size 1800x360 with 2 Axes>"
      ]
     },
     "metadata": {
      "needs_background": "light"
     },
     "output_type": "display_data"
    }
   ],
   "source": [
    "trial = 'fast_cockroach_20200803T085738_trial1'\n",
    "y_thresh = 0\n",
    "start = 1820\n",
    "end = 2100\n",
    "\n",
    "seq_trial_slice = trials_slicing[trial]\n",
    "seq_pred_trial = seq_pred_kalman[seq_trial_slice[0]: seq_trial_slice[1]]\n",
    "\n",
    "hit_preds = get_hit_preds_forecasts(seq_pred_trial=seq_pred_trial,\n",
    "                                    hit_pred=predictor.HitPredictor(None, prediction_y_threshold=y_thresh),\n",
    "                                    inp_len=net_params['inp_seq_len'],\n",
    "                                    return_mean=False)\n",
    "\n",
    "#%matplotlib widget\n",
    "%matplotlib inline\n",
    "fig, ax1 = plt.subplots(1,1,figsize=(25,5))\n",
    "plot_preds_and_truth(hit_preds,\n",
    "                     all_df.loc[trial],\n",
    "                     ax1,\n",
    "                     start=start,\n",
    "                     end=end)\n",
    "plt.grid(axis='y')\n",
    "\n",
    "s = f\"Hit predictions - Kalman - Y threshold {y_thresh}\"\n",
    "plt.title(s, fontsize=fs, pad=pad)\n",
    "plt.savefig('../experiments_plots/'+trial+\"_\"+s+'.jpg', dpi=200)"
   ]
  },
  {
   "cell_type": "code",
   "execution_count": 113,
   "metadata": {
    "jupyter": {
     "source_hidden": true
    }
   },
   "outputs": [
    {
     "data": {
      "image/png": "[encoded data removed]",
      "text/plain": [
       "<Figure size 1800x360 with 2 Axes>"
      ]
     },
     "metadata": {
      "needs_background": "light"
     },
     "output_type": "display_data"
    }
   ],
   "source": [
    "trial = 'fast_cockroach_20200803T085738_trial1'\n",
    "y_thresh = 100\n",
    "start = 1820\n",
    "end = 2100\n",
    "\n",
    "seq_trial_slice = trials_slicing[trial]\n",
    "seq_pred_trial = seq_pred_kalman[seq_trial_slice[0]: seq_trial_slice[1]]\n",
    "\n",
    "hit_preds = get_hit_preds_forecasts(seq_pred_trial=seq_pred_trial,\n",
    "                                    hit_pred=predictor.HitPredictor(None, prediction_y_threshold=y_thresh),\n",
    "                                    inp_len=net_params['inp_seq_len'],\n",
    "                                    return_mean=False)\n",
    "\n",
    "#%matplotlib widget\n",
    "%matplotlib inline\n",
    "fig, ax1 = plt.subplots(1,1,figsize=(25,5))\n",
    "plot_preds_and_truth(hit_preds,\n",
    "                     all_df.loc[trial],\n",
    "                     ax1,\n",
    "                     start=start,\n",
    "                     end=end)\n",
    "plt.grid(axis='y')\n",
    "\n",
    "s = f\"Hit predictions - Kalman - Y threshold {y_thresh}\"\n",
    "plt.title(s, fontsize=fs, pad=pad)\n",
    "plt.savefig('../experiments_plots/'+trial+\"_\"+s+'.jpg', dpi=200)"
   ]
  },
  {
   "cell_type": "code",
   "execution_count": 111,
   "metadata": {},
   "outputs": [
    {
     "data": {
      "text/html": [
       "<div>\n",
       "<style scoped>\n",
       "    .dataframe tbody tr th:only-of-type {\n",
       "        vertical-align: middle;\n",
       "    }\n",
       "\n",
       "    .dataframe tbody tr th {\n",
       "        vertical-align: top;\n",
       "    }\n",
       "\n",
       "    .dataframe thead th {\n",
       "        text-align: right;\n",
       "    }\n",
       "</style>\n",
       "<table border=\"1\" class=\"dataframe\">\n",
       "  <thead>\n",
       "    <tr style=\"text-align: right;\">\n",
       "      <th></th>\n",
       "      <th>cent_x</th>\n",
       "      <th>cent_y</th>\n",
       "      <th>x1</th>\n",
       "      <th>y1</th>\n",
       "      <th>x2</th>\n",
       "      <th>y2</th>\n",
       "      <th>conf</th>\n",
       "      <th>num_bbox</th>\n",
       "      <th>frame_ts</th>\n",
       "      <th>hit_x</th>\n",
       "      <th>hit_y</th>\n",
       "      <th>bug_x</th>\n",
       "      <th>bug_y</th>\n",
       "      <th>is_hit</th>\n",
       "      <th>touch_ts</th>\n",
       "      <th>is_touch</th>\n",
       "    </tr>\n",
       "  </thead>\n",
       "  <tbody>\n",
       "    <tr>\n",
       "      <th>line_20200803T081429_trial1</th>\n",
       "      <td>98.241666</td>\n",
       "      <td>205.037129</td>\n",
       "      <td>210.448093</td>\n",
       "      <td>340.806890</td>\n",
       "      <td>-16.767964</td>\n",
       "      <td>65.175833</td>\n",
       "      <td>0.980696</td>\n",
       "      <td>1.0</td>\n",
       "      <td>2020-08-03 08:14:43.849375963</td>\n",
       "      <td>113.0</td>\n",
       "      <td>691.0</td>\n",
       "      <td>49.0</td>\n",
       "      <td>795.0</td>\n",
       "      <td>True</td>\n",
       "      <td>2020-08-03 08:14:43.845381</td>\n",
       "      <td>True</td>\n",
       "    </tr>\n",
       "    <tr>\n",
       "      <th>line_20200803T081429_trial1</th>\n",
       "      <td>-81.487709</td>\n",
       "      <td>172.845578</td>\n",
       "      <td>48.882128</td>\n",
       "      <td>338.830938</td>\n",
       "      <td>-217.203644</td>\n",
       "      <td>-0.040762</td>\n",
       "      <td>0.995821</td>\n",
       "      <td>1.0</td>\n",
       "      <td>2020-08-03 08:15:34.479207754</td>\n",
       "      <td>122.0</td>\n",
       "      <td>322.0</td>\n",
       "      <td>189.0</td>\n",
       "      <td>268.0</td>\n",
       "      <td>True</td>\n",
       "      <td>2020-08-03 08:15:34.485947</td>\n",
       "      <td>True</td>\n",
       "    </tr>\n",
       "    <tr>\n",
       "      <th>fast_line_20200803T082414_trial1</th>\n",
       "      <td>-189.002461</td>\n",
       "      <td>1285.678913</td>\n",
       "      <td>-40.956125</td>\n",
       "      <td>1417.212515</td>\n",
       "      <td>-340.842964</td>\n",
       "      <td>1148.696265</td>\n",
       "      <td>0.996272</td>\n",
       "      <td>1.0</td>\n",
       "      <td>2020-08-03 08:24:15.613847494</td>\n",
       "      <td>2028.0</td>\n",
       "      <td>134.0</td>\n",
       "      <td>908.0</td>\n",
       "      <td>570.0</td>\n",
       "      <td>True</td>\n",
       "      <td>2020-08-03 08:24:15.603710</td>\n",
       "      <td>True</td>\n",
       "    </tr>\n",
       "    <tr>\n",
       "      <th>fast_line_20200803T082414_trial1</th>\n",
       "      <td>600.031768</td>\n",
       "      <td>126.729824</td>\n",
       "      <td>761.573715</td>\n",
       "      <td>274.951129</td>\n",
       "      <td>436.457676</td>\n",
       "      <td>-28.702548</td>\n",
       "      <td>0.996892</td>\n",
       "      <td>1.0</td>\n",
       "      <td>2020-08-03 08:24:42.118518114</td>\n",
       "      <td>804.0</td>\n",
       "      <td>211.0</td>\n",
       "      <td>766.0</td>\n",
       "      <td>252.0</td>\n",
       "      <td>True</td>\n",
       "      <td>2020-08-03 08:24:42.117620</td>\n",
       "      <td>True</td>\n",
       "    </tr>\n",
       "    <tr>\n",
       "      <th>fast_line_20200803T082724_trial1</th>\n",
       "      <td>475.383845</td>\n",
       "      <td>209.210088</td>\n",
       "      <td>581.140541</td>\n",
       "      <td>344.947623</td>\n",
       "      <td>363.492528</td>\n",
       "      <td>68.019484</td>\n",
       "      <td>0.988980</td>\n",
       "      <td>1.0</td>\n",
       "      <td>2020-08-03 08:27:54.528309345</td>\n",
       "      <td>560.0</td>\n",
       "      <td>696.0</td>\n",
       "      <td>636.0</td>\n",
       "      <td>640.0</td>\n",
       "      <td>True</td>\n",
       "      <td>2020-08-03 08:27:54.530850</td>\n",
       "      <td>True</td>\n",
       "    </tr>\n",
       "  </tbody>\n",
       "</table>\n",
       "</div>"
      ],
      "text/plain": [
       "                                      cent_x       cent_y          x1  \\\n",
       "line_20200803T081429_trial1        98.241666   205.037129  210.448093   \n",
       "line_20200803T081429_trial1       -81.487709   172.845578   48.882128   \n",
       "fast_line_20200803T082414_trial1 -189.002461  1285.678913  -40.956125   \n",
       "fast_line_20200803T082414_trial1  600.031768   126.729824  761.573715   \n",
       "fast_line_20200803T082724_trial1  475.383845   209.210088  581.140541   \n",
       "\n",
       "                                           y1          x2           y2  \\\n",
       "line_20200803T081429_trial1        340.806890  -16.767964    65.175833   \n",
       "line_20200803T081429_trial1        338.830938 -217.203644    -0.040762   \n",
       "fast_line_20200803T082414_trial1  1417.212515 -340.842964  1148.696265   \n",
       "fast_line_20200803T082414_trial1   274.951129  436.457676   -28.702548   \n",
       "fast_line_20200803T082724_trial1   344.947623  363.492528    68.019484   \n",
       "\n",
       "                                      conf  num_bbox  \\\n",
       "line_20200803T081429_trial1       0.980696       1.0   \n",
       "line_20200803T081429_trial1       0.995821       1.0   \n",
       "fast_line_20200803T082414_trial1  0.996272       1.0   \n",
       "fast_line_20200803T082414_trial1  0.996892       1.0   \n",
       "fast_line_20200803T082724_trial1  0.988980       1.0   \n",
       "\n",
       "                                                      frame_ts   hit_x  hit_y  \\\n",
       "line_20200803T081429_trial1      2020-08-03 08:14:43.849375963   113.0  691.0   \n",
       "line_20200803T081429_trial1      2020-08-03 08:15:34.479207754   122.0  322.0   \n",
       "fast_line_20200803T082414_trial1 2020-08-03 08:24:15.613847494  2028.0  134.0   \n",
       "fast_line_20200803T082414_trial1 2020-08-03 08:24:42.118518114   804.0  211.0   \n",
       "fast_line_20200803T082724_trial1 2020-08-03 08:27:54.528309345   560.0  696.0   \n",
       "\n",
       "                                  bug_x  bug_y  is_hit  \\\n",
       "line_20200803T081429_trial1        49.0  795.0    True   \n",
       "line_20200803T081429_trial1       189.0  268.0    True   \n",
       "fast_line_20200803T082414_trial1  908.0  570.0    True   \n",
       "fast_line_20200803T082414_trial1  766.0  252.0    True   \n",
       "fast_line_20200803T082724_trial1  636.0  640.0    True   \n",
       "\n",
       "                                                   touch_ts  is_touch  \n",
       "line_20200803T081429_trial1      2020-08-03 08:14:43.845381      True  \n",
       "line_20200803T081429_trial1      2020-08-03 08:15:34.485947      True  \n",
       "fast_line_20200803T082414_trial1 2020-08-03 08:24:15.603710      True  \n",
       "fast_line_20200803T082414_trial1 2020-08-03 08:24:42.117620      True  \n",
       "fast_line_20200803T082724_trial1 2020-08-03 08:27:54.530850      True  "
      ]
     },
     "execution_count": 111,
     "metadata": {},
     "output_type": "execute_result"
    }
   ],
   "source": [
    "all_df[all_df.is_hit].head()"
   ]
  },
  {
   "cell_type": "markdown",
   "metadata": {},
   "source": [
    "### Displacement Error for each timestep - Maybe"
   ]
  },
  {
   "cell_type": "code",
   "execution_count": null,
   "metadata": {},
   "outputs": [],
   "source": [
    "def calc_mean_DE(y, y_hat):\n",
    "    \"\"\"\n",
    "    Calculate the  average displacement error (DE) of a test set of predictions\n",
    "    displacement is the L2 norm between the prediction and the truth\n",
    "    :param y_hat: torch tensor dims (number of sample, out seq size, out size)\n",
    "    :param y: same\n",
    "    :return: average DE for each timestep over batch\n",
    "    \"\"\"\n",
    "    if len(y_hat.shape) == 2:\n",
    "        y_hat = y_hat[None,:,:]\n",
    "        y = y[None,:,:]\n",
    "\n",
    "    return np.mean(np.linalg.norm(y_hat - y, axis=2), axis=0)\n",
    "\n",
    "\n",
    "def calc_DE(y, y_hat):\n",
    "    \"\"\"\n",
    "    Calculate the  average displacement error (DE) of a test set of predictions\n",
    "    displacement is the L2 norm between the prediction and the truth\n",
    "    :param y_hat: torch tensor dims (number of sample, out seq size, out size)\n",
    "    :param y: same\n",
    "    :return: average DE for each timestep over batch\n",
    "    \"\"\"\n",
    "    if len(y_hat.shape) == 2:\n",
    "        y_hat = y_hat[None,:,:]\n",
    "        y = y[None,:,:]\n",
    "\n",
    "    return np.linalg.norm(y_hat - y, axis=2)\n"
   ]
  },
  {
   "cell_type": "code",
   "execution_count": null,
   "metadata": {},
   "outputs": [],
   "source": [
    "des = calc_mean_DE(seq_data_Y, seq_data_pred)"
   ]
  },
  {
   "cell_type": "code",
   "execution_count": null,
   "metadata": {},
   "outputs": [],
   "source": [
    "des_dists = calc_DE(seq_data_Y[data_mask], seq_data_pred[data_mask])"
   ]
  },
  {
   "cell_type": "code",
   "execution_count": null,
   "metadata": {},
   "outputs": [],
   "source": [
    "de_df = pd.DataFrame(data=des_dists, columns=np.arange(1,21))"
   ]
  },
  {
   "cell_type": "code",
   "execution_count": null,
   "metadata": {},
   "outputs": [],
   "source": [
    "%matplotlib inline\n",
    "fig, ax = plt.subplots(1,1,figsize=(20,10))\n",
    "sns.boxplot(data=de_df,ax=ax)\n",
    "ax.set_xlabel('Timestep', fontsize=20)\n",
    "ax.set_ylabel('DE', fontsize=20,rotation=0,labelpad=20)\n",
    "ax.set_title('Displacement error distribution as a function of timestep',fontsize=24)"
   ]
  },
  {
   "cell_type": "code",
   "execution_count": null,
   "metadata": {},
   "outputs": [],
   "source": [
    "%matplotlib inline\n",
    "plt.figure(figsize=(12,6))\n",
    "x = np.arange(len(de_df.columns))\n",
    "des = de_df.mean(axis=0)\n",
    "sns.regplot(x, de_df.mean(axis=0))\n",
    "#plt.axis('equal')\n",
    "\n",
    "pear = pearsonr(x, des)\n",
    "print(f\"Pearson's r: {pear[0]:.10f}, p-val: {pear[1]:.10f}\")"
   ]
  },
  {
   "cell_type": "markdown",
   "metadata": {},
   "source": [
    "## Augmentations stuff - Decide what to do"
   ]
  },
  {
   "cell_type": "code",
   "execution_count": 444,
   "metadata": {},
   "outputs": [
    {
     "data": {
      "text/plain": [
       "array([ 751.5834, 1660.6426], dtype=float32)"
      ]
     },
     "execution_count": 444,
     "metadata": {},
     "output_type": "execute_result"
    }
   ],
   "source": [
    "np.concatenate([test_X[-1].reshape(-1,2), test_Y[0].reshape(-1,2)],axis=0).mean(axis=0)"
   ]
  },
  {
   "cell_type": "code",
   "execution_count": 446,
   "metadata": {},
   "outputs": [],
   "source": [
    "test_X, test_Y = seq_data_X[0], seq_data_Y[0]\n",
    "mid_point = np.concatenate([test_X[-1].reshape(-1,2), test_Y[0].reshape(-1,2)],axis=0).mean(axis=0)"
   ]
  },
  {
   "cell_type": "code",
   "execution_count": 447,
   "metadata": {},
   "outputs": [],
   "source": [
    "seq_rot = cv.getRotationMatrix2D(tuple(mid_point),90,1)"
   ]
  },
  {
   "cell_type": "code",
   "execution_count": 477,
   "metadata": {},
   "outputs": [],
   "source": [
    "def rotate_seq(seq, rot_mat):\n",
    "    padded = np.concatenate([seq, np.ones(seq.shape[0]).reshape(-1,1)], axis=1)\n",
    "    return np.dot(padded, rot_mat.T)"
   ]
  },
  {
   "cell_type": "code",
   "execution_count": null,
   "metadata": {},
   "outputs": [],
   "source": [
    "%matplotlib inline\n",
    "plt.figure(figsize=(10,10))\n",
    "plt.scatter(test_X[:,0],test_X[:,1],color='b')\n",
    "plt.plot(test_X[:,0],test_X[:,1],color='b',alpha=0.5)\n",
    "\n",
    "plt.scatter(test_Y[:,0],test_Y[:,1],color='r')\n",
    "plt.plot(test_Y[:,0],test_Y[:,1],color='r',alpha=0.5)\n",
    "\n",
    "for angle in range(30,360,30):\n",
    "    mat= cv.getRotationMatrix2D(tuple(mid_point),angle,1)\n",
    "    rot_test_X = rotate_seq(test_X, mat)\n",
    "    rot_text_Y = rotate_seq(test_Y, mat)\n",
    "    \n",
    "    alpha2 = 0.2\n",
    "    plt.scatter(rot_test_X[:,0],rot_test_X[:,1],color='cyan',alpha=alpha2)\n",
    "    plt.plot(rot_test_X[:,0],rot_test_X[:,1],color='cyan',alpha=alpha2)\n",
    "\n",
    "    plt.scatter(rot_text_Y[:,0],rot_text_Y[:,1],color='orange',alpha=alpha2)\n",
    "    plt.plot(rot_text_Y[:,0],rot_text_Y[:,1],color='orange',alpha=alpha2)\n"
   ]
  },
  {
   "cell_type": "markdown",
   "metadata": {},
   "source": [
    "## Video file and widget - Decide what to do"
   ]
  },
  {
   "cell_type": "markdown",
   "metadata": {},
   "source": [
    "### Produce video - maybe"
   ]
  },
  {
   "cell_type": "code",
   "execution_count": null,
   "metadata": {},
   "outputs": [],
   "source": [
    "trial = 'learning_20200917T154539_trial3'\n",
    "homography = dataset.homography_for_trial(trial)\n",
    "correction_fn = visualize.get_correction_fn(homography,1920)\n",
    "vid_path = dataset.get_trial_video_path(trial)\n",
    "bboxes = all_df.loc[trial][['x1', 'y1', 'x2', 'y2']].values"
   ]
  },
  {
   "cell_type": "code",
   "execution_count": null,
   "metadata": {},
   "outputs": [],
   "source": [
    "out_path = f'../labelled/{trial}_check.mp4'\n",
    "visualize.process_video(video_path=vid_path,\n",
    "                        output_path=out_path,\n",
    "                        process_fns=[visualize.offline_bbox_visualizer(bboxes, window_size=1)],\n",
    "                        correction_fn = correction_fn,\n",
    "                        #num_frames=500,\n",
    "                        resize_to_width=960)"
   ]
  },
  {
   "cell_type": "markdown",
   "metadata": {},
   "source": [
    "### Video sequence widget - maybe"
   ]
  },
  {
   "cell_type": "code",
   "execution_count": null,
   "metadata": {},
   "outputs": [],
   "source": [
    "#trial = trials[0]\n",
    "trial = 'fast_cockroach_20200803T085738_trial1'\n",
    "trial_df = all_df.loc[trial]\n",
    "vid_path = dataset.get_trial_video_path(trial)\n",
    "homography = dataset.homography_for_trial(trial)\n",
    "correction_fn = visualize.get_correction_fn(homography, 1920)\n",
    "trial"
   ]
  },
  {
   "cell_type": "code",
   "execution_count": null,
   "metadata": {},
   "outputs": [],
   "source": [
    "X_trial, Y_trial = train_eval.trial_to_samples(trial_df,\n",
    "                                               net_params['input_labels'], net_params['output_labels'], \n",
    "                                               net_params['inp_seq_len'], net_params['out_seq_len'], \n",
    "                                               keep_nans=True)\n",
    "\n",
    "#X_trial, Y_trial = X_trial.numpy(), Y_trial.numpy()"
   ]
  },
  {
   "cell_type": "code",
   "execution_count": null,
   "metadata": {},
   "outputs": [],
   "source": [
    "def get_vid_frames(vid_path, start, num, correction_fn=None):\n",
    "    vcap = cv.VideoCapture(vid_path)\n",
    "    vcap.set(cv.CAP_PROP_POS_FRAMES, start)\n",
    "    frames = []\n",
    "    for i in range(num):\n",
    "        ret, frame = vcap.read()\n",
    "        if correction_fn:\n",
    "            frame = correction_fn(frame)\n",
    "        frames.append(frame)\n",
    "        \n",
    "    return frames"
   ]
  },
  {
   "cell_type": "code",
   "execution_count": null,
   "metadata": {},
   "outputs": [],
   "source": [
    "trial_mask = mask_fn(X_trial, Y_trial)\n",
    "passed_mask = trial_mask.sum()\n",
    "print(f'{passed_mask} masked out of {X_trial.shape[0]}')"
   ]
  },
  {
   "cell_type": "code",
   "execution_count": null,
   "metadata": {},
   "outputs": [],
   "source": [
    "def seq4_to_middle(seq_data):\n",
    "    squeeze = False\n",
    "    if len(seq_data.shape) == 2:\n",
    "        squeeze = True\n",
    "        seq_data = seq_data[None, :, :]\n",
    "    \n",
    "    # get (batch, seq, 4), xyxy, return (batch, seq, 2) xy, where x (x1+x2)/2\n",
    "    X1, Y1, X2, Y2 = 0, 1, 2, 3\n",
    "    ret = np.stack([(seq_data[:,:,X1] + seq_data[:,:,X2])/2, seq_data[:,:,Y2]], axis=2)\n",
    "    if squeeze:\n",
    "        return ret.squeeze()\n",
    "    return ret\n",
    "    "
   ]
  },
  {
   "cell_type": "code",
   "execution_count": null,
   "metadata": {},
   "outputs": [],
   "source": [
    "%matplotlib widget\n",
    "\n",
    "X1, Y1, X2, Y2 = 0, 1, 2, 3\n",
    "\n",
    "# choose random sequnce\n",
    "if not np.any(trial_mask):\n",
    "    raise Exception('Data mask is all False')\n",
    "seq_num = np.random.choice(np.argwhere(trial_mask).squeeze())\n",
    "\n",
    "total_timesteps = net_params['inp_seq_len'] + net_params['out_seq_len']\n",
    "\n",
    "seq = seq4_to_middle(X_trial[seq_num]), seq4_to_middle(Y_trial[seq_num])\n",
    "alpha = 1/(total_timesteps)\n",
    "cat_seq = np.concatenate(seq)\n",
    "frames = get_vid_frames(vid_path, seq_num, total_timesteps, correction_fn)\n",
    "\n",
    "fig, ax = plt.subplots(1, 1, figsize=(8,13))\n",
    "plt.subplots_adjust(left=0.25, bottom=0.1)\n",
    "fig.suptitle(f\"Trial: {trial} sequence num: {seq_num}\\n masked: {trial_mask.sum()}\")\n",
    "\n",
    "ax_im = ax.imshow(frames[0])\n",
    "#draw_sequences(X_trial[seq_num][:,X2:], Y_trial[seq_num][:,X2:], None, ax, draw_diffs=False)\n",
    "#draw_sequences(seq4_to_middle(X_trial[seq_num]), seq4_to_middle(Y_trial[seq_num]), None, ax, draw_diffs=False)\n",
    "X_x1y2 = X_trial[seq_num][:,[X1,Y2]]\n",
    "Y_x1y2 = Y_trial[seq_num][:,[X1,Y2]]\n",
    "\n",
    "X_x2y2 = X_trial[seq_num][:,X2:]\n",
    "Y_x2y2 = Y_trial[seq_num][:,X2:]\n",
    "draw_sequences(X_x1y2, Y_x1y2 , None, ax, draw_diffs=False)\n",
    "draw_sequences(X_x2y2, Y_x2y2 , None, ax, draw_diffs=False)\n",
    "\n",
    "\n",
    "ls = [np.array([np.concatenate([X_x1y2,Y_x1y2])[i], np.concatenate([X_x2y2,Y_x2y2])[i]]) for i in range(total_timesteps)]\n",
    "ax.add_collection(LineCollection(segments=ls, colors=['y'],alpha=0.5, zorder=1))\n",
    "curr = ax.add_collection(LineCollection(segments=[ls[0]], colors=['g'],alpha=0.5, zorder=2))\n",
    "\n",
    "\n",
    "#ax_cur_point = ax.scatter(seq[0][0, X2], seq[0][0, Y2], c='g')\n",
    "#ax_cur_point = ax.scatter(seq[0][0, 0], seq[0][0, 1], c='g')\n",
    "\n",
    "\n",
    "slider_ax = plt.axes([0.25, 0.1, 0.65, 0.03], facecolor='lightgoldenrodyellow')\n",
    "slider = Slider(slider_ax, \"timestep\", 0, total_timesteps, valinit=0, valstep=1)\n",
    "\n",
    "\n",
    "def update_timestep(t):\n",
    "    t = int(t)\n",
    "    ax_im.set_data(frames[t])\n",
    "    if t >= net_params['inp_seq_len']:\n",
    "        idx = t - net_params['inp_seq_len']\n",
    "        #ax_cur_point.set_offsets([seq[1][idx, X2], seq[1][idx, Y2]])\n",
    "        #ax_cur_point.set_offsets([seq[1][idx, 0], seq[1][idx, 1]])\n",
    "    else:\n",
    "        pass\n",
    "        #ax_cur_point.set_offsets([seq[0][t, X2], seq[0][t, Y2]])\n",
    "        #ax_cur_point.set_offsets([seq[0][t, 0], seq[0][t, 1]])\n",
    "    \n",
    "    \n",
    "    fig.canvas.draw_idle()\n",
    "fig.set_facecolor(color='w')\n",
    "slider.on_changed(update_timestep)"
   ]
  },
  {
   "cell_type": "markdown",
   "metadata": {},
   "source": [
    "### Training notes - Decide\n",
    "Some general suggestions posts regarding training and generalization:\n",
    "- https://stats.stackexchange.com/questions/352036/what-should-i-do-when-my-neural-network-doesnt-learn#\n",
    "\n",
    "Most of the post deals with verifying the the correcteness of the data and the architecture. It doesn't seem that our network and\\or data is malfunctioning.\n",
    "\n",
    "- https://stats.stackexchange.com/questions/365778/what-should-i-do-when-my-neural-network-doesnt-generalize-well \n",
    "\n",
    "Dropout - in more layers \n",
    "\n",
    "Transfer learning from other movement dataset or even some language dataset? \n",
    "\n",
    "Data augmentation - take a smaller and more well chosen dataset, and expand it? maybe apply some linear transformations on the data, to both make the generalization better and have more data. Train a single model multiple times (or interchangingly) with diffrent input sequnce lengths - the weights don't change? filtering before training - applying an MA filter on the path will cause it to be less noisy, capturing the essential trend.\n",
    "\n",
    "More regularization?\n",
    "\n",
    "Early stopping - wev'e been doing it anyway, maybe make more concrete.\n",
    "\n",
    "Generalization and metrics - what is a resonable validation/test error?  \n",
    "\n",
    "#### __Ideas and observations from sequences plot:__\n",
    "* Input-output length of 20 corresponds to 0.33 seconds. During fast movement, the animal can cover substential distance (in arena terms). Also, it's seems that 20 observations as input is way too much. if there's a trend in the input that seems somewhat predictive of the output, it will probably be in only the few last points. Moreover, some of the sequences of i20-o20, where X, Y or both are \"long\", i.e, \"long\" distance between first and last point, just seem \"unlearnable\". It's a relatively small portion of the entire dataset, but it seems that these are the sequences that matter most to the hit prediction. There's not alot to do with this other than state that this a hard problem to solve...\n",
    "* A more practical question is this: what is the minimal time interval, where the course of an action (movement for example), can be changed by a decision? or in other words what is the maximal length of a path whose trajectory is controlled solely by mechanics and not decisions? it probably changes according to the type of action and it's initial velocity or accelaration. Reaction time and changing the course\n",
    "* The feeding videos seems too dissimilar to the experiments data.\n",
    "* The \"sliding window artifcat\"?\n",
    "\n",
    "#### Directions:\n",
    "- Data selection\\filtering and augmentation (rotation). Maybe sequences with stride. Randomize loss length computation (until random K~U[1,out_seq_len]). The rationale - the errors from the distant timesteps, won't \"hinder\" the learning of short term movement.\n",
    "- ADE as a function of input and output length."
   ]
  },
  {
   "cell_type": "markdown",
   "metadata": {},
   "source": [
    "#### Seqs Contain Hits function - Decide"
   ]
  },
  {
   "cell_type": "code",
   "execution_count": 46,
   "metadata": {},
   "outputs": [],
   "source": [
    "# old function, not important\n",
    "def seqs_contain_hits(df, inp_len, out_len ,steps2hit=0 ,stride=1):\n",
    "\n",
    "    seq_X_list = []\n",
    "    seq_Y_list = []\n",
    "    for trial in df.index.unique():\n",
    "        \n",
    "        temp = df.loc[trial]\n",
    "        touches = temp.is_touch\n",
    "        \n",
    "        if touches.sum() == 0:\n",
    "            continue\n",
    "        hits_ind = np.where(touches)[0]\n",
    "\n",
    "        for j, hit_ind in enumerate(hits_ind):\n",
    "            for i in range(steps2hit, out_len, stride):\n",
    "                # slice inp_seq and out_seq\n",
    "                inp_min = hit_ind - i - inp_len - 1\n",
    "                inp_max = hit_ind - i - 1\n",
    "                out_min = inp_max + 1\n",
    "                out_max = out_min + out_len\n",
    "                \n",
    "                if inp_min < 0 or out_max > temp.shape[0]:\n",
    "                    continue\n",
    "                \n",
    "                inp_seq = temp.iloc[inp_min: inp_max][['x1','y1', 'x2', 'y2']].values\n",
    "                out_seq = temp.iloc[out_min: out_max][['x1','y1', 'x2', 'y2']].values\n",
    "                \n",
    "                seq_X_list.append(inp_seq)\n",
    "                seq_Y_list.append(out_seq)\n",
    "                \n",
    "    return np.stack(seq_X_list), np.stack(seq_Y_list)\n",
    "\n",
    "hits_X, hits_Y = seqs_contain_hits(all_df.loc[test_trials], 20, 20, steps2hit=0, stride=1)\n",
    "\n",
    "hits_preds = train_eval.get_seq_forecast(train_eval.DataLoader(train_eval.TrajectoriesData(hits_X, hits_Y),batch_size=128), traj_predictor.model)"
   ]
  }
 ],
 "metadata": {
  "kernelspec": {
   "display_name": "Python [conda env:py37]",
   "language": "python",
   "name": "conda-env-py37-py"
  },
  "language_info": {
   "codemirror_mode": {
    "name": "ipython",
    "version": 3
   },
   "file_extension": ".py",
   "mimetype": "text/x-python",
   "name": "python",
   "nbconvert_exporter": "python",
   "pygments_lexer": "ipython3",
   "version": "3.7.7"
  },
  "toc-autonumbering": true,
  "toc-showcode": false,
  "toc-showmarkdowntxt": false,
  "toc-showtags": false
 },
 "nbformat": 4,
 "nbformat_minor": 4
}
