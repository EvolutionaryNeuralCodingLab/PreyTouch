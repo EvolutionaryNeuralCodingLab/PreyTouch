{
 "cells": [
  {
   "cell_type": "markdown",
   "metadata": {},
   "source": [
    "# Predictor Evaluation and Visualization"
   ]
  },
  {
   "cell_type": "code",
   "execution_count": 2,
   "metadata": {},
   "outputs": [],
   "source": [
    "import os\n",
    "os.chdir('/app/Pogona_realtime/Arena')"
   ]
  },
  {
   "cell_type": "markdown",
   "metadata": {},
   "source": [
    "## Imports"
   ]
  },
  {
   "cell_type": "code",
   "execution_count": 3,
   "metadata": {},
   "outputs": [],
   "source": [
    "import numpy as np\n",
    "import pandas as pd\n",
    "import pickle\n",
    "import imp\n",
    "import json\n",
    "import matplotlib.pyplot as plt\n",
    "from matplotlib.collections import LineCollection\n",
    "from matplotlib.widgets import Slider\n",
    "import seaborn as sns\n",
    "#from tqdm.auto import tqdm\n",
    "from tqdm import tqdm\n",
    "import torch\n",
    "import glob\n",
    "from datetime import datetime\n",
    "import cv2 as cv\n",
    "\n",
    "\n",
    "from Prediction import dataset\n",
    "from Prediction import train_eval\n",
    "from Prediction import predictor\n",
    "from Prediction import visualize\n",
    "from Prediction import detector\n",
    "from Prediction import kalman_predict\n",
    "from Prediction import seq2seq_predict\n",
    "from Prediction import calibration as calib"
   ]
  },
  {
   "cell_type": "code",
   "execution_count": 55,
   "metadata": {},
   "outputs": [
    {
     "data": {
      "text/plain": [
       "<module 'Prediction.kalman_predict' from '/app/Pogona_realtime/Arena/Prediction/kalman_predict.py'>"
      ]
     },
     "execution_count": 55,
     "metadata": {},
     "output_type": "execute_result"
    }
   ],
   "source": [
    "imp.reload(dataset)\n",
    "imp.reload(train_eval)\n",
    "imp.reload(seq2seq_predict)\n",
    "imp.reload(predictor)\n",
    "imp.reload(visualize)\n",
    "imp.reload(detector)\n",
    "imp.reload(dataset)\n",
    "imp.reload(kalman_predict)"
   ]
  },
  {
   "cell_type": "markdown",
   "metadata": {},
   "source": [
    "## Load data"
   ]
  },
  {
   "cell_type": "code",
   "execution_count": 88,
   "metadata": {},
   "outputs": [
    {
     "name": "stdout",
     "output_type": "stream",
     "text": [
      "46 trials loaded\n"
     ]
    }
   ],
   "source": [
    "all_df = dataset.collect_data(data_sources={'detections': True, 'timestamps': True, 'dlc': False, 'touches': True})"
   ]
  },
  {
   "cell_type": "code",
   "execution_count": 163,
   "metadata": {},
   "outputs": [],
   "source": [
    "trials = all_df.index.unique()"
   ]
  },
  {
   "cell_type": "markdown",
   "metadata": {},
   "source": [
    "## Load Trajectory Predictor and Hit Predictor"
   ]
  },
  {
   "cell_type": "markdown",
   "metadata": {},
   "source": [
    "### Predictor parameters"
   ]
  },
  {
   "cell_type": "code",
   "execution_count": 90,
   "metadata": {},
   "outputs": [],
   "source": [
    "input_labels = ['x1', 'y1', 'x2', 'y2']\n",
    "output_labels = ['x1', 'y1', 'x2', 'y2']\n",
    "input_dim = len(input_labels)\n",
    "output_dim = len(output_labels)\n",
    "\n",
    "inp_seq_len = 20\n",
    "out_seq_len = 20\n",
    "embedding_size = 4  # only used in supporting models.\n",
    "hidden_size = 350\n",
    "rnn_layers = 1\n",
    "dropout = 0.2\n",
    "\n",
    "batch_size = 256"
   ]
  },
  {
   "cell_type": "code",
   "execution_count": null,
   "metadata": {},
   "outputs": [],
   "source": [
    "# Kalman Trajectory Predictor\n",
    "traj_predictor = kalman_predict.KalmanPredictor(forecast_horizon=20, \n",
    "                                                num_derivatives=1, \n",
    "                                                q_var=0.3, r_var=1.0)"
   ]
  },
  {
   "cell_type": "code",
   "execution_count": null,
   "metadata": {},
   "outputs": [],
   "source": [
    "model_type = 'LSTMdense'\n",
    "net = seq2seq_predict.LSTMdense(out_seq_len, hidden_size=hidden_size, \n",
    "                     embedding_size=embedding_size, LSTM_layers=rnn_layers, dropout=dropout)"
   ]
  },
  {
   "cell_type": "code",
   "execution_count": 6,
   "metadata": {},
   "outputs": [],
   "source": [
    "model_type = 'GRUEncDec'\n",
    "net = seq2seq_predict.GRUEncDec(output_seq_size=out_seq_len, hidden_size=hidden_size, GRU_layers=rnn_layers,\n",
    "                     tie_enc_dec=False, use_gru_cell=True, dropout=dropout)"
   ]
  },
  {
   "cell_type": "code",
   "execution_count": 8,
   "metadata": {},
   "outputs": [],
   "source": [
    "# Seq2Seq Trajectory Predictor\n",
    "#model_path = 'Prediction/traj_models/model_20_20_h64_b128_l1_LSTMdense_c1_36_best.pth'\n",
    "#model_path = 'Prediction/traj_models/GRUEncDec_0915-1624_i20_o20_h128_b128_l1_66_best.pth'\n",
    "#model_path = 'Prediction/traj_models/GRUEncDec_0916-034907_i20_o20_b128_10_best.pth' # ax best\n",
    "#model_path = 'Prediction/traj_models/GRUEncDec_0921-1559_i20_o20_h350_b256_l1_15_best.pth'\n",
    "model_path = 'Prediction/traj_models/GRUEncDec_rndloss_0921-1912_i20_o20_h350_b256_l1_20_best.pth'\n",
    "\n",
    "traj_predictor = seq2seq_predict.Seq2SeqPredictor(net, model_path, 20, 20)"
   ]
  },
  {
   "cell_type": "code",
   "execution_count": 9,
   "metadata": {},
   "outputs": [],
   "source": [
    "hit_predictor = predictor.HitPredictor(traj_predictor, detector=None)"
   ]
  },
  {
   "cell_type": "markdown",
   "metadata": {},
   "source": [
    "### Masking"
   ]
  },
  {
   "cell_type": "code",
   "execution_count": 58,
   "metadata": {},
   "outputs": [],
   "source": [
    "mask_fn = train_eval.keep_mask(train_eval.compose_masks(mask_fns=[\n",
    "    #train_eval.mask_fl_dist(min_dist=0, max_dist=0, by_X=True, by_Y=True),\n",
    "    #train_eval.mask_speed(min_speed=10, max_speed=20, by_X=True, by_Y=True),\n",
    "    #train_eval.mask_std(min_std=0, max_std=0,cols=[0,1]),\n",
    "    #train_eval.mask_corr(min_corr=0.0, max_corr=0.0, by_X=True, by_Y=True),\n",
    "    train_eval.mask_zgzg(min_zgzg=0, max_zgzg=np.pi/2, by_X=True, by_Y=True)\n",
    "    ]),keep_prob=0.0)"
   ]
  },
  {
   "cell_type": "markdown",
   "metadata": {},
   "source": [
    "### Draw sequences function"
   ]
  },
  {
   "cell_type": "code",
   "execution_count": 93,
   "metadata": {
    "jupyter": {
     "source_hidden": true
    }
   },
   "outputs": [],
   "source": [
    "def draw_sequences(arr_X,\n",
    "                   arr_Y,\n",
    "                   arr_pred,\n",
    "                   ax,\n",
    "                   to_scatter=True,\n",
    "                   l_alpha=0.35,\n",
    "                   sctr_s=0.5,\n",
    "                   sctr_alpha=1,\n",
    "                   past_c='b', ftr_c='r', pred_c='g', diff_c='k',\n",
    "                   draw_diffs=True,\n",
    "                   zoom_x = None,\n",
    "                   zoom_y = None):\n",
    "    \n",
    "    if len(arr_X.shape)==2:\n",
    "        arr_X = arr_X.reshape(1,arr_X.shape[0],arr_X.shape[1])\n",
    "        arr_Y = arr_Y.reshape(1,arr_Y.shape[0],arr_Y.shape[1])\n",
    "        if draw_diffs:\n",
    "            arr_pred = arr_pred.reshape(1,arr_pred.shape[0],arr_pred.shape[1])\n",
    "    \n",
    "    ax.add_collection(LineCollection(segments=[seq for seq in arr_X[:,:,:2]], colors=[past_c], label='past',alpha=l_alpha))\n",
    "    ax.add_collection(LineCollection(segments=[seq for seq in arr_Y[:,:,:2]], colors=[ftr_c], label='future',alpha=l_alpha))\n",
    "    if draw_diffs:\n",
    "        ax.add_collection(LineCollection(segments=[seq for seq in arr_pred[:,:,:2]], colors=[pred_c],label='pred',alpha=l_alpha))\n",
    "        diffs = [np.array([arr_pred[j,i,:2],arr_Y[j,i,:2]]) for i in range(out_seq_len) for j in range(arr_pred.shape[0])]\n",
    "        ax.add_collection(LineCollection(segments=diffs, colors=[diff_c],label='diff',alpha=l_alpha))\n",
    "    if to_scatter:\n",
    "        ax.scatter(arr_X[:,:,0], arr_X[:,:,1], s=sctr_s, color=past_c, alpha=sctr_alpha)\n",
    "        ax.scatter(arr_Y[:,:,0], arr_Y[:,:,1], s=sctr_s, color=ftr_c, alpha=sctr_alpha)\n",
    "        if draw_diffs:\n",
    "            ax.scatter(arr_pred[:,:,0], arr_pred[:,:,1], s=sctr_s, color=pred_c, alpha=sctr_alpha)\n",
    "            \n",
    "    if zoom_x:\n",
    "        ax.set_xlim(zoom_x)\n",
    "    if zoom_y:\n",
    "        ax.set_ylim(zoom_y)\n"
   ]
  },
  {
   "cell_type": "markdown",
   "metadata": {},
   "source": [
    "## Video sequence widget"
   ]
  },
  {
   "cell_type": "code",
   "execution_count": 94,
   "metadata": {},
   "outputs": [],
   "source": [
    "trial = trials[0]\n",
    "trial_df = all_df.loc[trial]\n",
    "vid_path = dataset.get_trial_video_path(trial)\n",
    "homography = dataset.homography_for_trial(trial)\n",
    "correction_fn = visualize.get_correction_fn(homography, 1920)"
   ]
  },
  {
   "cell_type": "code",
   "execution_count": 104,
   "metadata": {},
   "outputs": [],
   "source": [
    "X_trial, Y_trial = train_eval.trial_to_samples(trial_df, \n",
    "                                               input_labels, output_labels, \n",
    "                                               inp_seq_len, out_seq_len, \n",
    "                                               keep_nans=True)\n",
    "\n",
    "X_trial, Y_trial = X_trial.numpy(), Y_trial.numpy()"
   ]
  },
  {
   "cell_type": "code",
   "execution_count": 156,
   "metadata": {},
   "outputs": [
    {
     "data": {
      "text/plain": [
       "331"
      ]
     },
     "execution_count": 156,
     "metadata": {},
     "output_type": "execute_result"
    }
   ],
   "source": [
    "trial_mask = mask_fn(X_trial, Y_trial)\n",
    "trial_mask.sum()"
   ]
  },
  {
   "cell_type": "code",
   "execution_count": 133,
   "metadata": {},
   "outputs": [],
   "source": [
    "def get_vid_frames(vid_path, correction_fn, start, num):\n",
    "    vcap = cv.VideoCapture(vid_path)\n",
    "    vcap.set(cv.CAP_PROP_POS_FRAMES, start)\n",
    "    frames = []\n",
    "    for i in range(num):\n",
    "        ret, frame = vcap.read()\n",
    "        frames.append(correction_fn(frame))\n",
    "        \n",
    "    return frames"
   ]
  },
  {
   "cell_type": "code",
   "execution_count": 162,
   "metadata": {},
   "outputs": [
    {
     "data": {
      "application/vnd.jupyter.widget-view+json": {
       "model_id": "4b01bb48810349e1a239cc5947a5b543",
       "version_major": 2,
       "version_minor": 0
      },
      "text/plain": [
       "Canvas(toolbar=Toolbar(toolitems=[('Home', 'Reset original view', 'home', 'home'), ('Back', 'Back to previous …"
      ]
     },
     "metadata": {},
     "output_type": "display_data"
    },
    {
     "data": {
      "text/plain": [
       "0"
      ]
     },
     "execution_count": 162,
     "metadata": {},
     "output_type": "execute_result"
    }
   ],
   "source": [
    "%matplotlib widget\n",
    "\n",
    "# choose random sequnce\n",
    "if not np.any(trial_mask):\n",
    "    raise Exception('Data mask is all False')\n",
    "seq_num = np.random.choice(np.argwhere(trial_mask).squeeze())\n",
    "\n",
    "seq = X_trial[seq_num], Y_trial[seq_num]\n",
    "alpha = 1/(inp_seq_len+out_seq_len)\n",
    "cat_seq = np.concatenate(seq)\n",
    "frames = get_vid_frames(vid_path, correction_fn, seq_num, inp_seq_len+out_seq_len)\n",
    "\n",
    "fig, ax = plt.subplots(1, 1, figsize=(7,8))\n",
    "plt.subplots_adjust(left=0.25, bottom=0.1)\n",
    "fig.suptitle(f\"Trial: {trial} sequence num: {seq_num}\\n masked: {trial_mask.sum()}\")\n",
    "\n",
    "ax_im = ax.imshow(frames[0])\n",
    "draw_sequences(X_trial[seq_num], Y_trial[seq_num], None, ax, draw_diffs=False)\n",
    "ax_cur_point = ax.scatter(seq[0][0, 0], seq[0][0, 1], c='g')\n",
    "\n",
    "slider_ax = plt.axes([0.25, 0.1, 0.65, 0.03], facecolor='lightgoldenrodyellow')\n",
    "slider = Slider(slider_ax, \"timestep\", 0, inp_seq_len+out_seq_len, valinit=0, valstep=1)\n",
    "\n",
    "def update_timestep(t):\n",
    "    t = int(t)\n",
    "    ax_im.set_data(frames[t])\n",
    "    if t >= inp_seq_len:\n",
    "        idx = t - inp_seq_len\n",
    "        ax_cur_point.set_offsets([seq[1][idx, 0], seq[1][idx, 1]])\n",
    "    else:\n",
    "        ax_cur_point.set_offsets([seq[0][t, 0], seq[0][t, 1]])\n",
    "    \n",
    "    fig.canvas.draw_idle()\n",
    "\n",
    "slider.on_changed(update_timestep)"
   ]
  },
  {
   "cell_type": "markdown",
   "metadata": {},
   "source": [
    "## Visualize trial trajectories"
   ]
  },
  {
   "cell_type": "markdown",
   "metadata": {},
   "source": [
    "Timings for predictors (20/20)\n",
    "- gru = 3.8ms\n",
    "- grucell = 3.14ms or even lower\n",
    "- LSTMdense = 0.6ms\n",
    "- vel_linear =0.2ms\n",
    "- kalman = 0.09ms"
   ]
  },
  {
   "cell_type": "code",
   "execution_count": 23,
   "metadata": {},
   "outputs": [],
   "source": [
    "lots_o_touches = 'circle_20200803T115839_trial1'\n",
    "lots_o_touches2 = 'fast_cockroach_20200803T085738_trial1'"
   ]
  },
  {
   "cell_type": "code",
   "execution_count": 24,
   "metadata": {},
   "outputs": [
    {
     "name": "stderr",
     "output_type": "stream",
     "text": [
      "100%|██████████| 5081/5081 [00:14<00:00, 354.03it/s]\n",
      "100%|██████████| 5061/5061 [00:00<00:00, 10449.42it/s]\n"
     ]
    }
   ],
   "source": [
    "#trial_data = val[1]\n",
    "trial_data = lots_o_touches2\n",
    "bboxes = all_df.loc[trial_data][['x1','y1','x2','y2']].values\n",
    "\n",
    "FIRST_FRAME = 0\n",
    "\n",
    "bboxes = bboxes[FIRST_FRAME:] \n",
    "# TODO - slicing bbox array creates a discrepency between the forecasts and the dataframe?\n",
    "# might \n",
    "#bboxes[60:70] = np.nan\n",
    "eval_results, forecasts = train_eval.eval_trajectory_predictor(traj_predictor, bboxes)"
   ]
  },
  {
   "cell_type": "markdown",
   "metadata": {},
   "source": [
    "### Plot entire trial trajectory"
   ]
  },
  {
   "cell_type": "code",
   "execution_count": 25,
   "metadata": {},
   "outputs": [],
   "source": [
    "def gen_forecasts_path(forecasts, n=0):\n",
    "    # first_forecast - the first forecast which doesn't contain any np.nan\n",
    "    first_forecast = next(i for i, fc in enumerate(forecasts) if fc is not None and not np.any(np.isnan(fc)))\n",
    "    path = np.empty((len(forecasts) - first_forecast - 1, 4))\n",
    "    # create the entire path from the forecasts\n",
    "    for i in range(path.shape[0]):\n",
    "        path[i] = forecasts[first_forecast + i][n]\n",
    "    return path, first_forecast"
   ]
  },
  {
   "cell_type": "code",
   "execution_count": 27,
   "metadata": {},
   "outputs": [
    {
     "data": {
      "application/vnd.jupyter.widget-view+json": {
       "model_id": "bc247642257d4d599dd70978a76ab95b",
       "version_major": 2,
       "version_minor": 0
      },
      "text/plain": [
       "Canvas(toolbar=Toolbar(toolitems=[('Home', 'Reset original view', 'home', 'home'), ('Back', 'Back to previous …"
      ]
     },
     "metadata": {},
     "output_type": "display_data"
    },
    {
     "name": "stdout",
     "output_type": "stream",
     "text": [
      "5060 5081 20 5081 5081\n",
      "fast_cockroach_20200803T085738_trial1\n"
     ]
    }
   ],
   "source": [
    "X1, Y1, X2, Y2 = 0, 1, 2, 3\n",
    "\n",
    "# TODO - maybe function\n",
    "n = 10\n",
    "fpath, first_f = gen_forecasts_path(forecasts, n=n)\n",
    "fpath = np.roll(fpath, n+1, axis=0)\n",
    "fpath[:n+1] = np.nan\n",
    "rpath = bboxes #[first_f+1:]\n",
    "\n",
    "fig, ax = plt.subplots(figsize=(10,10))\n",
    "ax.axis('equal')\n",
    "\n",
    "# change these parameters to inspect only a single path and make the others less visible\n",
    "# can also use zorder paramater to control the oreder of plots\n",
    "real_alpha = 0.5\n",
    "fore_alpha = 0.0\n",
    "diff_alpha = 0.0\n",
    "\n",
    "# plot top left, bottom right coordinates of recorded path\n",
    "ax.plot(rpath[:, X2], rpath[:, Y2], color=\"r\" ,label = 'real_x2y2', alpha=real_alpha)\n",
    "ax.plot(rpath[:, X1], rpath[:, Y1], color=\"m\", label = 'real_x1y1', alpha=real_alpha)\n",
    "\n",
    "# plot top left, bottom right coordinates of predicted path\n",
    "ax.plot(fpath[:, X2], fpath[:, Y2], color=\"c\",label = 'forecast_x2y2', alpha=fore_alpha)\n",
    "ax.plot(fpath[:, X1], fpath[:, Y1], color=\"b\",label = 'forecast_x1y1', alpha=fore_alpha)\n",
    "\n",
    "print(len(fpath), len(rpath), first_f, len(forecasts), len(bboxes))\n",
    "lines = np.stack([fpath[:, 0:2], rpath[first_f+1:, 0:2]], axis=1)\n",
    "ax.add_collection(LineCollection(lines, colors=['r'],alpha=diff_alpha, label = \"diff_x1y1\"))\n",
    "\n",
    "lines2 = np.stack([fpath[:, 2:4], rpath[first_f+1:, 2:4]], axis=1)\n",
    "ax.add_collection(LineCollection(lines2, colors=['orange'], alpha=diff_alpha, label = \"diff_x2y2\"))\n",
    "#ax.set_xlim([0,1920])\n",
    "#ax.set_ylim([-200,3500])\n",
    "ax.plot(np.linspace(0,1920,num=5),np.zeros(5),linestyle='--', color='r')\n",
    "\n",
    "ax.legend()\n",
    "print(trial_data)"
   ]
  },
  {
   "cell_type": "markdown",
   "metadata": {},
   "source": [
    "### Plot all preictions per timestep"
   ]
  },
  {
   "cell_type": "code",
   "execution_count": 29,
   "metadata": {},
   "outputs": [],
   "source": [
    "def predictions_per_step(forecasts):\n",
    "    first_forecast = next(i for i, fc in enumerate(forecasts) if fc is not None)\n",
    "    forecast_len = forecasts[first_forecast].shape[0]\n",
    "    preds = np.empty((len(forecasts) - first_forecast, forecast_len, 4))\n",
    "    preds[:] = np.nan\n",
    "    \n",
    "    for i in range(preds.shape[0]):\n",
    "        for j in range(max(0, i - forecast_len+1), i+1):\n",
    "            f = forecasts[j]\n",
    "            if f is not None:\n",
    "                preds[i, i-j] = f[i-j]\n",
    "    \n",
    "    return preds"
   ]
  },
  {
   "cell_type": "code",
   "execution_count": 30,
   "metadata": {},
   "outputs": [
    {
     "data": {
      "application/vnd.jupyter.widget-view+json": {
       "model_id": "cc5a737b52284fd9be58ce7232733252",
       "version_major": 2,
       "version_minor": 0
      },
      "text/plain": [
       "Canvas(toolbar=Toolbar(toolitems=[('Home', 'Reset original view', 'home', 'home'), ('Back', 'Back to previous …"
      ]
     },
     "metadata": {},
     "output_type": "display_data"
    },
    {
     "data": {
      "text/plain": [
       "[<matplotlib.lines.Line2D at 0x7f7adec37d10>]"
      ]
     },
     "execution_count": 30,
     "metadata": {},
     "output_type": "execute_result"
    }
   ],
   "source": [
    "real_alpha = 0.5\n",
    "fore_alpha = 0.5\n",
    "\n",
    "preds = predictions_per_step(forecasts)\n",
    "avgs = np.mean(preds, axis=1)\n",
    "rpath = bboxes[first_f+1:]\n",
    "npath = preds[:, 0]\n",
    "plt.figure(figsize=(10,10))\n",
    "plt.plot(rpath[:, X2], rpath[:, Y2], color='b', alpha=real_alpha, label='real')\n",
    "plt.plot(avgs[:, X2], avgs[:, Y2], color='g',alpha=fore_alpha, label='forecast')\n",
    "#plt.plot(npath[:, 0], npath[:, 1], color='r')\n",
    "plt.axis('equal')\n",
    "plt.legend()\n",
    "plt.plot(np.linspace(0,1920,num=5),np.zeros(5),linestyle='--', color='r')"
   ]
  },
  {
   "cell_type": "markdown",
   "metadata": {},
   "source": [
    "## Evaluate Hit Predictor"
   ]
  },
  {
   "cell_type": "markdown",
   "metadata": {},
   "source": [
    "Hit Prediction Evalutaion:<br>\n",
    "For a trial with hit events, need to implement a function that outputs a structure that \n",
    "saves for each frame with a hit event, the forecasts that predicted a hit that occurs in that frame,\n",
    "and the x values of every such prediction. The rationale for saving all of the forecasts that predicted a hit in a certain frame\n",
    "is the that good predictions will ideally converge over consecutive forecasts.\n",
    "\n",
    "Structure:<br>\n",
    "For each frame in the video, create an array with dimensions forecast_horizon X 2 \n",
    "(maybe just a 3d array, something like in predictions_per_step, and also save the x values)\n",
    "Other idea - 2d array, (num_frames) X (forecast_horizon)\n",
    "\n",
    "Functions:<br>\n",
    "Iterate over forecasts which are not None, and threshold y2 values against y=0 in the arena (or some other y value).\n",
    "If a bbox crosses the threshold for some forecast, save the index of the first crossing in the forecast, as a value in the relevant index of the frame.\n",
    "For example, if the forecast_horizon is 20, and forecast 1000 (started from frame 1000) predicts a hit in it's 10 timestamp,\n",
    "save the x value in index 10 in frame 1010. If forecast 1001 predicts an hit in it's 9th timestamp, save the value in index 9 in fram 1010.\n",
    "Notice: for each frame, there are 20 indices: index 0 means that a forecast predicted a hit one frame in advance, index 8 means 12 frames in advance.\n",
    "\n",
    "frame | forecast_0 | forecast_1 | ... | forecast_19\n",
    "____________________________________________________\n",
    "    0 | nan        |   x_1      | ... |    x_19    \n",
    "    1 | x_0        |   x_1      | ... |    nan\n",
    "    ....\n",
    "\n",
    "from this, maybe a smaller array with columns \"frame | num_forecasts_predicted_hit | mean_x_value\"\n",
    "\n",
    "Visualization:<br>\n",
    "A horizontal indexed heatmap, where each timestamp is colored by the amount of forecasts that predict a hit\n",
    "in that frame. On the same figure, plot with other colors the real hit events. \n",
    "It's a sort of a \"raster plot\".\n",
    "Matplotlib function: \"eventplot\"\n",
    "Also possible to generate a raster plot for each forecast seperatly - idealy, a hit event should be preceeded by a diagonal\n",
    "pattern of predicted hits\n",
    "\n",
    "TODO<br>\n",
    "Maybe other visualiztions that combine the temporal data with the arena coordinates data.\n",
    "\n",
    "Metrics - TODO:<br>\n",
    "We can compare that structure to the real frames that have an actual hit event and their respective x values,\n",
    "and calculate various metrics that quantify the errors. Join the the arrays.\n",
    "FN - missed an hit event (by how much?)\n",
    "FP - predicted an hit event by mistake (relative to what ground truth events?)\n",
    "Other issues: how to decide what is a \"close\" event? what to do if there are many? etc...\n"
   ]
  },
  {
   "cell_type": "code",
   "execution_count": 31,
   "metadata": {},
   "outputs": [],
   "source": [
    "# TODO: aligning with true touching events won't work, check FIRST_FRAME parameter from evaluate trajectory predictor cell\n",
    "\n",
    "def get_hit_preds_forecasts(forecasts_list, \n",
    "                            hit_pred, \n",
    "                            y_thresh=0,\n",
    "                            preds_forecasts=True,\n",
    "                            return_mean=False):\n",
    "    \"\"\"\n",
    "    Receive a forecasts list, and generate an array describing the hit predictions from the frame perspective,\n",
    "    i.e, for each frame, there's a forecast_horizon shape row, with a value in the index of a forecast that \n",
    "    predicted a hit. (if forecast 1234 predicted hit in 5 frames, then pred[1239,5] has a value).\n",
    "    \n",
    "    if pred_forecasts is False, will return the opposite array of get_hit_preds_forecasts: \n",
    "    describes for each forecast, at which index they first predict a hit\n",
    "    \n",
    "    If return_mean is true, will count the number of forecasts predicting a hit for a specific frame, and the mean predicted\n",
    "    x value.\n",
    "    \"\"\"\n",
    "    if hit_pred.prediction_y_threshold != y_thresh:\n",
    "        print(f\"changed hit predictor y's thresh from {hit_pred.prediction_y_threshold} to {y_thresh}\")\n",
    "        hit_pred.prediction_y_threshold = y_thresh\n",
    "    \n",
    "    first_forecast = next(i for i, fc in enumerate(forecasts) if fc is not None) # if no forecasts, still return zero?\n",
    "    if forecasts_list[first_forecast] is None:\n",
    "        print(\"No forecasts in list\")\n",
    "        return\n",
    "    \n",
    "    forecast_horizon = forecasts_list[first_forecast].shape[0]\n",
    "    preds = np.empty((len(forecasts_list), forecast_horizon))    \n",
    "    preds[:] = np.nan\n",
    "    \n",
    "    for i, forecast in enumerate(forecasts_list[first_forecast:-forecast_horizon]):\n",
    "        x2, hit_ind = hit_pred.predict_hit(forecast)\n",
    "        if hit_ind is not None and hit_ind < preds.shape[0]:\n",
    "            if preds_forecasts:\n",
    "                frame_ind = first_forecast + (i+1) + hit_ind #  the frame index to which the hit is predicted\n",
    "                preds[frame_ind, hit_ind] = x2  # place the x value in the index that the forecast predicted\n",
    "            else:\n",
    "                forecast_ind = first_forecast + (i+1) #  the forecast index which predicts the hit\n",
    "                preds[forecast_ind, hit_ind] = x2  # place the x value in the index that the forecast predicted\n",
    "    \n",
    "    if preds_forecasts:\n",
    "        if return_mean:\n",
    "            temp = np.empty((preds.shape[0], 2))\n",
    "            temp[:,0] = (~np.isnan(preds)).sum(axis=1) # number of forecasts predicting hit\n",
    "            temp[:, 1] = np.nanmean(preds,axis=1)\n",
    "            return temp\n",
    "    return preds\n",
    "\n",
    "\n",
    "def plot_preds_and_truth(preds, \n",
    "                         trial_slice, \n",
    "                         ax,\n",
    "                         start=None, \n",
    "                         end=None,):\n",
    "    \"\"\"\n",
    "    preds - a frame prediction array\n",
    "    trial_slice - the slice from the dataframe for that trial, sliced like the bboxes array\n",
    "    which the traj predictor operated on.\n",
    "    Caller's responsibility to make sure the arrays are the same shape on dim 0 and that \n",
    "    they are aligned.\n",
    "    \"\"\"\n",
    "    \n",
    "    hits = False\n",
    "    \n",
    "    if start is None:\n",
    "        start = 0\n",
    "    if end is None:\n",
    "        end = preds.shape[0]\n",
    "    \n",
    "    ax.set_xticklabels(np.arange(start=start, stop=end+1)) # ax.set_xticks set the integer indices of the labels\n",
    "    \n",
    "    preds = preds[start:end]\n",
    "    trial_slice = trial_slice.iloc[start:end]\n",
    "    \n",
    "    forecast_horizon = preds.shape[1]\n",
    "    if trial_slice is not None:\n",
    "        hits_idx = np.where(trial_slice.is_touch)[0]\n",
    "    \n",
    "        if hits_idx.shape[0] == 0:\n",
    "            print(\"no real hits\")\n",
    "        else:\n",
    "            hits = True\n",
    "    \n",
    "    if np.all(np.isnan(preds)):\n",
    "        print(\"All nan, nothing to show\")\n",
    "        return\n",
    "    sns.heatmap(preds.transpose(), ax=ax)\n",
    "        \n",
    "    curr_x_ticks = list(ax.xaxis.get_ticklabels())\n",
    "    stride = int(curr_x_ticks[1].get_text())\n",
    "    ax.set_xticklabels(np.arange(start=start, stop=end+1,step=stride), rotation=30) # ax.set_xticks set the integer indices of the labels\n",
    "    tick_freq = 3\n",
    "    for n, label in enumerate(ax.xaxis.get_ticklabels()):\n",
    "        if n % tick_freq != 0:\n",
    "            label.set_visible(False)\n",
    "        \n",
    "    if hits:\n",
    "        for x in hits_idx:\n",
    "            ax.plot(np.ones(2)*x, np.linspace(0,20,num=2), linestyle='--',linewidth=1.5, color='g') \n",
    "    \n",
    "   "
   ]
  },
  {
   "cell_type": "code",
   "execution_count": null,
   "metadata": {
    "jupyter": {
     "source_hidden": true
    }
   },
   "outputs": [],
   "source": [
    "# old function, not important\n",
    "def get_k_before_hits(df,k):\n",
    "    \"\"\"\n",
    "    for each index of a hit row, slice the k>=1 previous rows (including hit) as a multiindex dataframe \n",
    "    with triple index: experiment, trial, hit-event. concatenate dataframes vertically\n",
    "    TODO: COMPLETE DOC\n",
    "    TODO: Move to Dataset module\n",
    "    \"\"\"\n",
    "    assert type(k)==int\n",
    "    assert k>0\n",
    "    \n",
    "    df_list = []\n",
    "    for trial in df.index.unique():\n",
    "        temp = df.loc[trial]\n",
    "        temp = temp.is_touch\n",
    "        \n",
    "        if temp.sum() == 0:\n",
    "            continue\n",
    "        hits_ind = np.where(temp)[0]\n",
    "        #display(hits_ind)\n",
    "        #return\n",
    "        event_list = []\n",
    "        for j, hit_ind in enumerate(hits_ind):\n",
    "            if j==0:\n",
    "                min_slice = np.max([0,hit_ind-k])\n",
    "            else:\n",
    "                min_slice = np.max([0,hit_ind-k,hits_ind[j-1]])\n",
    "            max_slice = hit_ind + 1\n",
    "            sliced_event = df.loc[trial].iloc[min_slice:max_slice]\n",
    "            #sliced_event.index = pd.MultiIndex.from_tuples([(trial[0], trial[1], j) for k in range(sliced_event.shape[0])])\n",
    "            event_list.append(sliced_event)\n",
    "        \n",
    "        df_list.append(pd.concat(event_list))\n",
    "    return pd.concat(df_list)\n",
    "\n",
    "    "
   ]
  },
  {
   "cell_type": "code",
   "execution_count": 32,
   "metadata": {},
   "outputs": [],
   "source": [
    "y_thrsh = 0"
   ]
  },
  {
   "cell_type": "code",
   "execution_count": 33,
   "metadata": {},
   "outputs": [],
   "source": [
    "hit_preds = get_hit_preds_forecasts(forecasts_list=forecasts,\n",
    "                                    hit_pred=hit_predictor,\n",
    "                                    y_thresh=y_thrsh,\n",
    "                                    return_mean=False)"
   ]
  },
  {
   "cell_type": "code",
   "execution_count": 34,
   "metadata": {},
   "outputs": [],
   "source": [
    "forecast_preds = get_hit_preds_forecasts(forecasts_list=forecasts,\n",
    "                                    hit_pred=hit_predictor,\n",
    "                                    y_thresh=y_thrsh,\n",
    "                                    preds_forecasts=False,\n",
    "                                    return_mean=False)"
   ]
  },
  {
   "cell_type": "code",
   "execution_count": 126,
   "metadata": {},
   "outputs": [],
   "source": [
    "start = 1700\n",
    "end = 2000\n",
    "fs = 20\n",
    "pad = 40"
   ]
  },
  {
   "cell_type": "code",
   "execution_count": null,
   "metadata": {},
   "outputs": [],
   "source": [
    "figs"
   ]
  },
  {
   "cell_type": "code",
   "execution_count": 134,
   "metadata": {},
   "outputs": [
    {
     "data": {
      "text/plain": [
       "Text(0.5, 1.0, 'Predictions of hit at frame $k$ (x) made $m$ timesteps ago (y)')"
      ]
     },
     "execution_count": 134,
     "metadata": {},
     "output_type": "execute_result"
    },
    {
     "data": {
      "image/png": "[encoded data removed]",
      "text/plain": [
       "<Figure size 1800x360 with 2 Axes>"
      ]
     },
     "metadata": {
      "needs_background": "light"
     },
     "output_type": "display_data"
    }
   ],
   "source": [
    "#%matplotlib widget\n",
    "%matplotlib inline\n",
    "fig, ax1 = plt.subplots(1,1,figsize=(25,5))\n",
    "plot_preds_and_truth(hit_preds,\n",
    "                     all_df.loc[trial_data],\n",
    "                     ax1,\n",
    "                     start=start,\n",
    "                     end=end)\n",
    "plt.grid(axis='y')\n",
    "plt.title(\"Predictions of hit at frame $k$ (x) made $m$ timesteps ago (y)\", fontsize=fs, pad=pad)"
   ]
  },
  {
   "cell_type": "code",
   "execution_count": 135,
   "metadata": {},
   "outputs": [
    {
     "data": {
      "text/plain": [
       "Text(0.5, 1.0, 'Predictions of forecasts made at frame $k$ (x) to hit in $m$ timesteps (y)')"
      ]
     },
     "execution_count": 135,
     "metadata": {},
     "output_type": "execute_result"
    },
    {
     "data": {
      "image/png": "[encoded data removed]",
      "text/plain": [
       "<Figure size 1800x360 with 2 Axes>"
      ]
     },
     "metadata": {
      "needs_background": "light"
     },
     "output_type": "display_data"
    }
   ],
   "source": [
    "fig, ax2 = plt.subplots(1,1,figsize=(25,5))\n",
    "plot_preds_and_truth(forecast_preds,\n",
    "                     all_df.loc[trial_data],\n",
    "                     ax2,\n",
    "                     start=start,\n",
    "                     end=end)\n",
    "plt.grid(axis='y')\n",
    "plt.title(\"Predictions of forecasts made at frame $k$ (x) to hit in $m$ timesteps (y)\", fontsize=fs, pad=pad)\n"
   ]
  },
  {
   "cell_type": "markdown",
   "metadata": {},
   "source": [
    "## Visualize multiple trajectories"
   ]
  },
  {
   "cell_type": "markdown",
   "metadata": {},
   "source": [
    "#### General notes\n",
    "Some general suggestions posts regarding training and generalization:\n",
    "- https://stats.stackexchange.com/questions/352036/what-should-i-do-when-my-neural-network-doesnt-learn#\n",
    "\n",
    "Most of the post deals with verifying the the correcteness of the data and the architecture. It doesn't seem that our network and\\or data is malfunctioning.\n",
    "\n",
    "- https://stats.stackexchange.com/questions/365778/what-should-i-do-when-my-neural-network-doesnt-generalize-well \n",
    "\n",
    "Dropout - in more layers \n",
    "\n",
    "Transfer learning from other movement dataset or even some language dataset? \n",
    "\n",
    "Data augmentation - take a smaller and more well chosen dataset, and expand it? maybe apply some linear transformations on the data, to both make the generalization better and have more data. Train a single model multiple times (or interchangingly) with diffrent input sequnce lengths - the weights don't change? filtering before training - applying an MA filter on the path will cause it to be less noisy, capturing the essential trend.\n",
    "\n",
    "More regularization?\n",
    "\n",
    "Early stopping - wev'e been doing it anyway, maybe make more concrete.\n",
    "\n",
    "Generalization and metrics - what is a resonable validation/test error?  \n",
    "\n",
    "#### __Ideas and observations from sequences plot:__\n",
    "* Input-output length of 20 corresponds to 0.33 seconds. During fast movement, the animal can cover substential distance (in arena terms). Also, it's seems that 20 observations as input is way too much. if there's a trend in the input that seems somewhat predictive of the output, it will probably be in only the few last points. Moreover, some of the sequences of i20-o20, where X, Y or both are \"long\", i.e, \"long\" distance between first and last point, just seem \"unlearnable\". It's a relatively small portion of the entire dataset, but it seems that these are the sequences that matter most to the hit prediction. There's not alot to do with this other than state that this a hard problem to solve...\n",
    "* A more practical question is this: what is the minimal time interval, where the course of an action (movement for example), can be changed by a decision? or in other words what is the maximal length of a path whose trajectory is controlled solely by mechanics and not decisions? it probably changes according to the type of action and it's initial velocity or accelaration. Reaction time and changing the course\n",
    "* The feeding videos seems too dissimilar to the experiments data.\n",
    "* The \"sliding window artifcat\"?\n",
    "\n",
    "#### Directions:\n",
    "- Data selection\\filtering and augmentation (rotation). Maybe sequences with stride. Randomize loss length computation (until random K~U[1,out_seq_len]). The rationale - the errors from the distant timesteps, won't \"hinder\" the learning of short term movement.\n",
    "- ADE as a function of input and output length."
   ]
  },
  {
   "cell_type": "code",
   "execution_count": 22,
   "metadata": {},
   "outputs": [],
   "source": [
    "inp_seq_len = 20\n",
    "out_seq_len = 20"
   ]
  },
  {
   "cell_type": "code",
   "execution_count": 139,
   "metadata": {},
   "outputs": [],
   "source": [
    "train, val, test = train_eval.create_train_val_test_splits(trials, [1, 0, 0])"
   ]
  },
  {
   "cell_type": "code",
   "execution_count": 146,
   "metadata": {},
   "outputs": [],
   "source": [
    "train_dl, val_dl, test_dl = train_eval.create_train_val_test_dataloaders(df=all_df, \n",
    "                                                                         train=train, val=val, test=test, \n",
    "                                                                         input_labels=input_labels, output_labels=output_labels,\n",
    "                                                                         input_seq_size=inp_seq_len,output_seq_size=out_seq_len, \n",
    "                                                                         batch_size=batch_size, \n",
    "                                                                         shuffle=False,\n",
    "                                                                        mask_fn=None)                                                                        "
   ]
  },
  {
   "cell_type": "code",
   "execution_count": 153,
   "metadata": {},
   "outputs": [],
   "source": [
    "\"\"\" \n",
    "TODO - Sequence level prediction? create seq_data_Yhat - the same dimensions as seq_data_Y. \n",
    "How to batch predict? and only on the test set?\n",
    "\"\"\"\n",
    "def get_seq_forecast(dataloader, traj_pred):\n",
    "    forecasts_list = []\n",
    "    \n",
    "    with torch.no_grad():\n",
    "        for x, y in dataloader:\n",
    "            y_hat = traj_pred.model(x.float().to(traj_pred.model.device)).cpu().numpy()\n",
    "            forecasts_list.append(y_hat)\n",
    "    return np.concatenate(forecasts_list)"
   ]
  },
  {
   "cell_type": "code",
   "execution_count": 154,
   "metadata": {},
   "outputs": [],
   "source": [
    "dl = train_dl\n",
    "seq_data_X = dl.dataset.X.numpy()[:,:,2:]\n",
    "seq_data_Y = dl.dataset.Y.numpy()[:,:,2:]\n",
    "\n",
    "seq_data_pred = get_seq_forecast(train_dl, traj_predictor)\n",
    "seq_data_pred = seq_data_pred[:,:,2:]"
   ]
  },
  {
   "cell_type": "code",
   "execution_count": 155,
   "metadata": {},
   "outputs": [],
   "source": [
    "im = cv.imread('../pogona_frames/transformed_image.jpg')\n",
    "im = cv.convertScaleAbs(im, alpha=2.5,beta=-128)"
   ]
  },
  {
   "cell_type": "code",
   "execution_count": 60,
   "metadata": {},
   "outputs": [
    {
     "data": {
      "application/vnd.jupyter.widget-view+json": {
       "model_id": "e9ad3feebfaa4b9a9c368387ea64aeff",
       "version_major": 2,
       "version_minor": 0
      },
      "text/plain": [
       "Canvas(toolbar=Toolbar(toolitems=[('Home', 'Reset original view', 'home', 'home'), ('Back', 'Back to previous …"
      ]
     },
     "metadata": {},
     "output_type": "display_data"
    },
    {
     "data": {
      "text/plain": [
       "<matplotlib.legend.Legend at 0x7f079f37c2d0>"
      ]
     },
     "execution_count": 60,
     "metadata": {},
     "output_type": "execute_result"
    }
   ],
   "source": [
    "%matplotlib widget\n",
    "#%matplotlib inline\n",
    "fig,ax = plt.subplots(1,1,figsize=(8,10),dpi=100)\n",
    "\n",
    "ax.imshow(im,alpha=0.15)\n",
    "\n",
    "N_samples = 20\n",
    "\n",
    "data_mask = mask_fn(seq_data_X, seq_data_Y)\n",
    "\n",
    "sampling_mask = np.random.choice(np.argwhere(data_mask).squeeze(), size=N_samples)\n",
    "\n",
    "sample_X = seq_data_X[sampling_mask]\n",
    "sample_Y = seq_data_Y[sampling_mask]\n",
    "sample_pred = seq_data_pred[:,:,:2][sampling_mask]\n",
    "\n",
    "draw_sequences(arr_X=sample_X,\n",
    "           arr_Y=sample_Y,\n",
    "           arr_pred=sample_pred,\n",
    "           ax=ax,\n",
    "           sctr_s=1,\n",
    "           l_alpha=0.2,\n",
    "           sctr_alpha=0.75,\n",
    "           to_scatter=True,\n",
    "           draw_diffs=False,\n",
    "           zoom_x=None,# [350,1250],\n",
    "           zoom_y=None)#[-100,1000])\n",
    "#draw_lines(data_X,data_Y)\n",
    "\n",
    "#ax.autoscale() # why doesn't work without this?\n",
    "#ax.axis('equal')\n",
    "txt_color = 'white'\n",
    "ax.set_title(f'Input: {inp_seq_len}, Output: {out_seq_len} || {data_mask.sum():,} sequences',fontsize=13, color=txt_color)\n",
    "ax.tick_params(color=txt_color, labelcolor=txt_color)\n",
    "ax.legend()\n"
   ]
  },
  {
   "cell_type": "markdown",
   "metadata": {},
   "source": [
    "#### Various statistics and distributions\n",
    "\n",
    "\n",
    "TODO:\n",
    "- distances - between first and last points, others. Notice that there are some paths that are circular, meaning that they traverse some distance but the first and last are relatively close.\n",
    "- velocities - mean velocity in X and Y\n",
    "- linearity (?) - how much a sequence lies on a straight line? - Pearson's r, or linear regression model. Curvture - how much the path is curved or zigzagging? angle between to consecutive lines in path.\n"
   ]
  },
  {
   "cell_type": "code",
   "execution_count": 93,
   "metadata": {},
   "outputs": [],
   "source": [
    "def plot_distributions(ax, data_arrays, label_array,\n",
    "                       min_thresh=None, max_thresh=None, \n",
    "                       title=None,kde=True, bins=500):\n",
    "    for data_array, label in zip(data_arrays, label_array):\n",
    "        mask = np.array([True]*data_array.shape[0])\n",
    "        if min_thresh:\n",
    "            min_mask = data_array > min_thresh\n",
    "            mask = mask & min_mask\n",
    "        if max_thresh:\n",
    "            max_mask = data_array < max_thresh\n",
    "            mask = mask & max_mask     \n",
    "        \n",
    "        sns.distplot(data_array[mask], label=label, kde=kde, bins=bins)\n",
    "    plt.legend()\n",
    "    if title:\n",
    "        ax.set_title(title)\n",
    "        "
   ]
  }
 ],
 "metadata": {
  "kernelspec": {
   "display_name": "Python [conda env:py37]",
   "language": "python",
   "name": "conda-env-py37-py"
  },
  "language_info": {
   "codemirror_mode": {
    "name": "ipython",
    "version": 3
   },
   "file_extension": ".py",
   "mimetype": "text/x-python",
   "name": "python",
   "nbconvert_exporter": "python",
   "pygments_lexer": "ipython3",
   "version": "3.7.7"
  },
  "toc-autonumbering": false,
  "toc-showmarkdowntxt": false
 },
 "nbformat": 4,
 "nbformat_minor": 4
}
