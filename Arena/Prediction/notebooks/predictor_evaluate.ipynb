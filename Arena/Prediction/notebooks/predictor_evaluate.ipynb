{
 "cells": [
  {
   "cell_type": "markdown",
   "metadata": {},
   "source": [
    "# Predictor Evaluation and Visualization\n",
    "\n",
    "This notebook includes tools to load existing models and detections data, generate sequences from the data, and evaluating and visualizing the models and data.\n",
    "\n",
    "The main drawback of this notebook is the memory constraints: it loads all of the data from the different files of the experiements, which is bounded by the machine's RAM. The document lists some solutions that could be implemented to alliveate this issue."
   ]
  },
  {
   "cell_type": "markdown",
   "metadata": {},
   "source": [
    "## Imports"
   ]
  },
  {
   "cell_type": "code",
   "execution_count": 2,
   "metadata": {},
   "outputs": [],
   "source": [
    "import os\n",
    "os.chdir('/app/Pogona_realtime/Arena') # change the working directory of the notebook"
   ]
  },
  {
   "cell_type": "code",
   "execution_count": 3,
   "metadata": {},
   "outputs": [],
   "source": [
    "import numpy as np\n",
    "import pandas as pd\n",
    "import pickle\n",
    "import imp\n",
    "import json\n",
    "import matplotlib.pyplot as plt\n",
    "from matplotlib.widgets import Slider, Button\n",
    "import seaborn as sns\n",
    "from tqdm.auto import tqdm\n",
    "import torch\n",
    "import glob\n",
    "from datetime import datetime\n",
    "import cv2 as cv\n",
    "from scipy.stats import pearsonr\n",
    "\n",
    "from Prediction import dataset\n",
    "from Prediction import train_eval\n",
    "from Prediction import predictor\n",
    "from Prediction import visualize\n",
    "from Prediction import detector\n",
    "from Prediction import kalman_predict\n",
    "from Prediction import seq2seq_predict\n",
    "from Prediction import calibration as calib\n",
    "from Prediction import traj_models"
   ]
  },
  {
   "cell_type": "code",
   "execution_count": 51,
   "metadata": {},
   "outputs": [
    {
     "data": {
      "text/plain": [
       "<module 'Prediction.traj_models' from '/app/Pogona_realtime/Arena/Prediction/traj_models.py'>"
      ]
     },
     "execution_count": 51,
     "metadata": {},
     "output_type": "execute_result"
    }
   ],
   "source": [
    "imp.reload(dataset)\n",
    "imp.reload(train_eval)\n",
    "imp.reload(seq2seq_predict)\n",
    "imp.reload(predictor)\n",
    "imp.reload(visualize)\n",
    "imp.reload(detector)\n",
    "imp.reload(dataset)\n",
    "imp.reload(kalman_predict)\n",
    "imp.reload(traj_models)"
   ]
  },
  {
   "cell_type": "markdown",
   "metadata": {},
   "source": [
    "## Load data\n",
    "\n",
    "Loads the entire detections data into a dataframe, bounded by the avavliable memory on the machine.\n",
    "\n",
    "The options are the different sources of data that could be loded: the detections data itself, the timestamps of the camera recordings and and the screen touchings. If 'touches' is true, then timestamps must be true as well. \n",
    "\n",
    "'dlc' is supposed to align some of the offline DLC analysis with the frames, but the data need to be produced, so it will probably won't work in the future."
   ]
  },
  {
   "cell_type": "code",
   "execution_count": 4,
   "metadata": {},
   "outputs": [
    {
     "name": "stderr",
     "output_type": "stream",
     "text": [
      "/home/user/miniconda/envs/py37/lib/python3.7/site-packages/IPython/core/interactiveshell.py:3063: DtypeWarning: Columns (15,17) have mixed types.Specify dtype option on import or set low_memory=False.\n",
      "  interactivity=interactivity, compiler=compiler, result=result)\n"
     ]
    }
   ],
   "source": [
    "all_df = pd.read_csv(\"dataset20201122.csv.gz\", index_col=0)"
   ]
  },
  {
   "cell_type": "code",
   "execution_count": 5,
   "metadata": {},
   "outputs": [
    {
     "name": "stdout",
     "output_type": "stream",
     "text": [
      "<class 'pandas.core.frame.DataFrame'>\n",
      "Index: 1747318 entries, line_20200803T081429_trial1 to red_beetle_anticlock_20201104T145900_trial1\n",
      "Data columns (total 17 columns):\n",
      " #   Column    Dtype  \n",
      "---  ------    -----  \n",
      " 0   cent_x    float64\n",
      " 1   cent_y    float64\n",
      " 2   x1        float64\n",
      " 3   y1        float64\n",
      " 4   x2        float64\n",
      " 5   y2        float64\n",
      " 6   conf      float64\n",
      " 7   num_bbox  float64\n",
      " 8   frame_ts  object \n",
      " 9   hit_x     float64\n",
      " 10  hit_y     float64\n",
      " 11  bug_x     float64\n",
      " 12  bug_y     float64\n",
      " 13  is_hit    bool   \n",
      " 14  touch_ts  object \n",
      " 15  is_touch  bool   \n",
      " 16  bug_ts    object \n",
      "dtypes: bool(2), float64(12), object(3)\n",
      "memory usage: 593.6 MB\n"
     ]
    }
   ],
   "source": [
    "all_df.info(memory_usage='deep')"
   ]
  },
  {
   "cell_type": "code",
   "execution_count": 6,
   "metadata": {},
   "outputs": [],
   "source": [
    "trials = all_df.index.unique()"
   ]
  },
  {
   "cell_type": "markdown",
   "metadata": {},
   "source": [
    "### Filter Data\n",
    "\n",
    "Generate Kalman filtered detections for the bounding box corners"
   ]
  },
  {
   "cell_type": "code",
   "execution_count": 136,
   "metadata": {},
   "outputs": [
    {
     "name": "stderr",
     "output_type": "stream",
     "text": [
      "100%|██████████| 223/223 [01:41<00:00,  2.19it/s]\n"
     ]
    }
   ],
   "source": [
    "for trial in tqdm(all_df.index.unique()):\n",
    "    filtered = kalman_predict.filter_trial(all_df.loc[trial], cols=['x1', 'y1'])\n",
    "    all_df.loc[trial, ['flt_x1', 'flt_y1']] = filtered\n",
    "\n",
    "    filtered = kalman_predict.filter_trial(all_df.loc[trial], cols=['x2', 'y2'])\n",
    "    all_df.loc[trial, ['flt_x2', 'flt_y2']] = filtered\n"
   ]
  },
  {
   "cell_type": "markdown",
   "metadata": {},
   "source": [
    "## Load Trajectory Predictors\n",
    "\n",
    "Choose which seq2seq models, produced with the predictor_train notebook, should be build and loaded. The names to be provided are the names from the models_params JSON file, without the 'final' or 'best' suffix. By default, the model with the lowest validation set ADE is chosen.\n",
    "The models need to have the same input-output lengths, otherwise an error will occur.\n",
    "\n",
    "The initialized seq2seq models are stored in a list."
   ]
  },
  {
   "cell_type": "code",
   "execution_count": 7,
   "metadata": {},
   "outputs": [],
   "source": [
    "#model_names = ['RNN_GRU_1023-1208_i20_o20_h32_l1', 'RNN_GRU_1023-1145_i20_o20_h700_l1_long']\n",
    "#model_names = ['RNN_GRU_1023-1208_i20_o20_h32_l1', 'RNN_GRU_1023-1259_i20_o20_h200_l2', 'RNN_GRU_1023-1309_i20_o20_h600_l3'][:1]\n",
    "#model_names = ['RNN_GRU_1023-1701_i20_o20_h350_l1_RealExtreme', \n",
    "#               'RNN_GRU_1023-1551_i20_o20_h350_l1_NoMask','RNN_GRU_1022-2019_i20_o20_h350_l1_long'][-1:]\n",
    "#model_names = ['Linear_GRU_1022-1056_i20_o20_h350_l1', 'RNN_GRU_1023-1701_i20_o20_h350_l1_RealExtreme']\n",
    "model_names = ['RNN_GRU_1022-2019_i20_o20_h350_l1_long', 'RNN_GRU_1023-1701_i20_o20_h350_l1_RealExtreme']"
   ]
  },
  {
   "cell_type": "code",
   "execution_count": 8,
   "metadata": {},
   "outputs": [
    {
     "ename": "RuntimeError",
     "evalue": "CUDA error: out of memory",
     "output_type": "error",
     "traceback": [
      "\u001b[0;31m\u001b[0m",
      "\u001b[0;31mRuntimeError\u001b[0mTraceback (most recent call last)",
      "\u001b[0;32m<ipython-input-8-795636a30176>\u001b[0m in \u001b[0;36m<module>\u001b[0;34m\u001b[0m\n\u001b[1;32m      5\u001b[0m                                                       \u001b[0mweights_path\u001b[0m\u001b[0;34m=\u001b[0m\u001b[0mtraj_models\u001b[0m\u001b[0;34m.\u001b[0m\u001b[0mget_weights_path\u001b[0m\u001b[0;34m(\u001b[0m\u001b[0mmodel_name\u001b[0m\u001b[0;34m)\u001b[0m\u001b[0;34m,\u001b[0m\u001b[0;34m\u001b[0m\u001b[0;34m\u001b[0m\u001b[0m\n\u001b[1;32m      6\u001b[0m                                                       \u001b[0minput_len\u001b[0m\u001b[0;34m=\u001b[0m\u001b[0mmodel_params\u001b[0m\u001b[0;34m[\u001b[0m\u001b[0;34m'network_params'\u001b[0m\u001b[0;34m]\u001b[0m\u001b[0;34m[\u001b[0m\u001b[0;34m'inp_seq_len'\u001b[0m\u001b[0;34m]\u001b[0m\u001b[0;34m,\u001b[0m\u001b[0;34m\u001b[0m\u001b[0;34m\u001b[0m\u001b[0m\n\u001b[0;32m----> 7\u001b[0;31m                                                       forecast_horizon=model_params['network_params']['out_seq_len'])\n\u001b[0m\u001b[1;32m      8\u001b[0m     \u001b[0mtraj_predictor\u001b[0m\u001b[0;34m.\u001b[0m\u001b[0mmodel_params\u001b[0m \u001b[0;34m=\u001b[0m \u001b[0mmodel_params\u001b[0m\u001b[0;34m\u001b[0m\u001b[0;34m\u001b[0m\u001b[0m\n\u001b[1;32m      9\u001b[0m     \u001b[0mseq2seq_models\u001b[0m\u001b[0;34m.\u001b[0m\u001b[0mappend\u001b[0m\u001b[0;34m(\u001b[0m\u001b[0mtraj_predictor\u001b[0m\u001b[0;34m)\u001b[0m\u001b[0;34m\u001b[0m\u001b[0;34m\u001b[0m\u001b[0m\n",
      "\u001b[0;32m/app/Pogona_realtime/Arena/Prediction/seq2seq_predict.py\u001b[0m in \u001b[0;36m__init__\u001b[0;34m(self, model, weights_path, input_len, forecast_horizon)\u001b[0m\n\u001b[1;32m     29\u001b[0m \u001b[0;34m\u001b[0m\u001b[0m\n\u001b[1;32m     30\u001b[0m         \u001b[0mself\u001b[0m\u001b[0;34m.\u001b[0m\u001b[0mdevice\u001b[0m \u001b[0;34m=\u001b[0m \u001b[0mtorch\u001b[0m\u001b[0;34m.\u001b[0m\u001b[0mdevice\u001b[0m\u001b[0;34m(\u001b[0m\u001b[0;34m\"cuda\"\u001b[0m \u001b[0;32mif\u001b[0m \u001b[0mtorch\u001b[0m\u001b[0;34m.\u001b[0m\u001b[0mcuda\u001b[0m\u001b[0;34m.\u001b[0m\u001b[0mis_available\u001b[0m\u001b[0;34m(\u001b[0m\u001b[0;34m)\u001b[0m \u001b[0;32melse\u001b[0m \u001b[0;34m\"cpu\"\u001b[0m\u001b[0;34m)\u001b[0m\u001b[0;34m\u001b[0m\u001b[0;34m\u001b[0m\u001b[0m\n\u001b[0;32m---> 31\u001b[0;31m         \u001b[0mself\u001b[0m\u001b[0;34m.\u001b[0m\u001b[0mmodel\u001b[0m \u001b[0;34m=\u001b[0m \u001b[0mmodel\u001b[0m\u001b[0;34m.\u001b[0m\u001b[0mto\u001b[0m\u001b[0;34m(\u001b[0m\u001b[0mself\u001b[0m\u001b[0;34m.\u001b[0m\u001b[0mdevice\u001b[0m\u001b[0;34m)\u001b[0m\u001b[0;34m.\u001b[0m\u001b[0mfloat\u001b[0m\u001b[0;34m(\u001b[0m\u001b[0;34m)\u001b[0m\u001b[0;34m\u001b[0m\u001b[0;34m\u001b[0m\u001b[0m\n\u001b[0m\u001b[1;32m     32\u001b[0m         \u001b[0mself\u001b[0m\u001b[0;34m.\u001b[0m\u001b[0mmodel\u001b[0m\u001b[0;34m.\u001b[0m\u001b[0mload_state_dict\u001b[0m\u001b[0;34m(\u001b[0m\u001b[0mtorch\u001b[0m\u001b[0;34m.\u001b[0m\u001b[0mload\u001b[0m\u001b[0;34m(\u001b[0m\u001b[0mweights_path\u001b[0m\u001b[0;34m)\u001b[0m\u001b[0;34m)\u001b[0m\u001b[0;34m\u001b[0m\u001b[0;34m\u001b[0m\u001b[0m\n\u001b[1;32m     33\u001b[0m         \u001b[0mself\u001b[0m\u001b[0;34m.\u001b[0m\u001b[0mmodel\u001b[0m\u001b[0;34m.\u001b[0m\u001b[0meval\u001b[0m\u001b[0;34m(\u001b[0m\u001b[0;34m)\u001b[0m\u001b[0;34m\u001b[0m\u001b[0;34m\u001b[0m\u001b[0m\n",
      "\u001b[0;32m~/miniconda/envs/py37/lib/python3.7/site-packages/torch/nn/modules/module.py\u001b[0m in \u001b[0;36mto\u001b[0;34m(self, *args, **kwargs)\u001b[0m\n\u001b[1;32m    605\u001b[0m             \u001b[0;32mreturn\u001b[0m \u001b[0mt\u001b[0m\u001b[0;34m.\u001b[0m\u001b[0mto\u001b[0m\u001b[0;34m(\u001b[0m\u001b[0mdevice\u001b[0m\u001b[0;34m,\u001b[0m \u001b[0mdtype\u001b[0m \u001b[0;32mif\u001b[0m \u001b[0mt\u001b[0m\u001b[0;34m.\u001b[0m\u001b[0mis_floating_point\u001b[0m\u001b[0;34m(\u001b[0m\u001b[0;34m)\u001b[0m \u001b[0;32melse\u001b[0m \u001b[0;32mNone\u001b[0m\u001b[0;34m,\u001b[0m \u001b[0mnon_blocking\u001b[0m\u001b[0;34m)\u001b[0m\u001b[0;34m\u001b[0m\u001b[0;34m\u001b[0m\u001b[0m\n\u001b[1;32m    606\u001b[0m \u001b[0;34m\u001b[0m\u001b[0m\n\u001b[0;32m--> 607\u001b[0;31m         \u001b[0;32mreturn\u001b[0m \u001b[0mself\u001b[0m\u001b[0;34m.\u001b[0m\u001b[0m_apply\u001b[0m\u001b[0;34m(\u001b[0m\u001b[0mconvert\u001b[0m\u001b[0;34m)\u001b[0m\u001b[0;34m\u001b[0m\u001b[0;34m\u001b[0m\u001b[0m\n\u001b[0m\u001b[1;32m    608\u001b[0m \u001b[0;34m\u001b[0m\u001b[0m\n\u001b[1;32m    609\u001b[0m     def register_backward_hook(\n",
      "\u001b[0;32m~/miniconda/envs/py37/lib/python3.7/site-packages/torch/nn/modules/module.py\u001b[0m in \u001b[0;36m_apply\u001b[0;34m(self, fn)\u001b[0m\n\u001b[1;32m    352\u001b[0m     \u001b[0;32mdef\u001b[0m \u001b[0m_apply\u001b[0m\u001b[0;34m(\u001b[0m\u001b[0mself\u001b[0m\u001b[0;34m,\u001b[0m \u001b[0mfn\u001b[0m\u001b[0;34m)\u001b[0m\u001b[0;34m:\u001b[0m\u001b[0;34m\u001b[0m\u001b[0;34m\u001b[0m\u001b[0m\n\u001b[1;32m    353\u001b[0m         \u001b[0;32mfor\u001b[0m \u001b[0mmodule\u001b[0m \u001b[0;32min\u001b[0m \u001b[0mself\u001b[0m\u001b[0;34m.\u001b[0m\u001b[0mchildren\u001b[0m\u001b[0;34m(\u001b[0m\u001b[0;34m)\u001b[0m\u001b[0;34m:\u001b[0m\u001b[0;34m\u001b[0m\u001b[0;34m\u001b[0m\u001b[0m\n\u001b[0;32m--> 354\u001b[0;31m             \u001b[0mmodule\u001b[0m\u001b[0;34m.\u001b[0m\u001b[0m_apply\u001b[0m\u001b[0;34m(\u001b[0m\u001b[0mfn\u001b[0m\u001b[0;34m)\u001b[0m\u001b[0;34m\u001b[0m\u001b[0;34m\u001b[0m\u001b[0m\n\u001b[0m\u001b[1;32m    355\u001b[0m \u001b[0;34m\u001b[0m\u001b[0m\n\u001b[1;32m    356\u001b[0m         \u001b[0;32mdef\u001b[0m \u001b[0mcompute_should_use_set_data\u001b[0m\u001b[0;34m(\u001b[0m\u001b[0mtensor\u001b[0m\u001b[0;34m,\u001b[0m \u001b[0mtensor_applied\u001b[0m\u001b[0;34m)\u001b[0m\u001b[0;34m:\u001b[0m\u001b[0;34m\u001b[0m\u001b[0;34m\u001b[0m\u001b[0m\n",
      "\u001b[0;32m~/miniconda/envs/py37/lib/python3.7/site-packages/torch/nn/modules/rnn.py\u001b[0m in \u001b[0;36m_apply\u001b[0;34m(self, fn)\u001b[0m\n\u001b[1;32m    152\u001b[0m \u001b[0;34m\u001b[0m\u001b[0m\n\u001b[1;32m    153\u001b[0m     \u001b[0;32mdef\u001b[0m \u001b[0m_apply\u001b[0m\u001b[0;34m(\u001b[0m\u001b[0mself\u001b[0m\u001b[0;34m,\u001b[0m \u001b[0mfn\u001b[0m\u001b[0;34m)\u001b[0m\u001b[0;34m:\u001b[0m\u001b[0;34m\u001b[0m\u001b[0;34m\u001b[0m\u001b[0m\n\u001b[0;32m--> 154\u001b[0;31m         \u001b[0mret\u001b[0m \u001b[0;34m=\u001b[0m \u001b[0msuper\u001b[0m\u001b[0;34m(\u001b[0m\u001b[0mRNNBase\u001b[0m\u001b[0;34m,\u001b[0m \u001b[0mself\u001b[0m\u001b[0;34m)\u001b[0m\u001b[0;34m.\u001b[0m\u001b[0m_apply\u001b[0m\u001b[0;34m(\u001b[0m\u001b[0mfn\u001b[0m\u001b[0;34m)\u001b[0m\u001b[0;34m\u001b[0m\u001b[0;34m\u001b[0m\u001b[0m\n\u001b[0m\u001b[1;32m    155\u001b[0m \u001b[0;34m\u001b[0m\u001b[0m\n\u001b[1;32m    156\u001b[0m         \u001b[0;31m# Resets _flat_weights\u001b[0m\u001b[0;34m\u001b[0m\u001b[0;34m\u001b[0m\u001b[0;34m\u001b[0m\u001b[0m\n",
      "\u001b[0;32m~/miniconda/envs/py37/lib/python3.7/site-packages/torch/nn/modules/module.py\u001b[0m in \u001b[0;36m_apply\u001b[0;34m(self, fn)\u001b[0m\n\u001b[1;32m    374\u001b[0m                 \u001b[0;31m# `with torch.no_grad():`\u001b[0m\u001b[0;34m\u001b[0m\u001b[0;34m\u001b[0m\u001b[0;34m\u001b[0m\u001b[0m\n\u001b[1;32m    375\u001b[0m                 \u001b[0;32mwith\u001b[0m \u001b[0mtorch\u001b[0m\u001b[0;34m.\u001b[0m\u001b[0mno_grad\u001b[0m\u001b[0;34m(\u001b[0m\u001b[0;34m)\u001b[0m\u001b[0;34m:\u001b[0m\u001b[0;34m\u001b[0m\u001b[0;34m\u001b[0m\u001b[0m\n\u001b[0;32m--> 376\u001b[0;31m                     \u001b[0mparam_applied\u001b[0m \u001b[0;34m=\u001b[0m \u001b[0mfn\u001b[0m\u001b[0;34m(\u001b[0m\u001b[0mparam\u001b[0m\u001b[0;34m)\u001b[0m\u001b[0;34m\u001b[0m\u001b[0;34m\u001b[0m\u001b[0m\n\u001b[0m\u001b[1;32m    377\u001b[0m                 \u001b[0mshould_use_set_data\u001b[0m \u001b[0;34m=\u001b[0m \u001b[0mcompute_should_use_set_data\u001b[0m\u001b[0;34m(\u001b[0m\u001b[0mparam\u001b[0m\u001b[0;34m,\u001b[0m \u001b[0mparam_applied\u001b[0m\u001b[0;34m)\u001b[0m\u001b[0;34m\u001b[0m\u001b[0;34m\u001b[0m\u001b[0m\n\u001b[1;32m    378\u001b[0m                 \u001b[0;32mif\u001b[0m \u001b[0mshould_use_set_data\u001b[0m\u001b[0;34m:\u001b[0m\u001b[0;34m\u001b[0m\u001b[0;34m\u001b[0m\u001b[0m\n",
      "\u001b[0;32m~/miniconda/envs/py37/lib/python3.7/site-packages/torch/nn/modules/module.py\u001b[0m in \u001b[0;36mconvert\u001b[0;34m(t)\u001b[0m\n\u001b[1;32m    603\u001b[0m             \u001b[0;32mif\u001b[0m \u001b[0mconvert_to_format\u001b[0m \u001b[0;32mis\u001b[0m \u001b[0;32mnot\u001b[0m \u001b[0;32mNone\u001b[0m \u001b[0;32mand\u001b[0m \u001b[0mt\u001b[0m\u001b[0;34m.\u001b[0m\u001b[0mdim\u001b[0m\u001b[0;34m(\u001b[0m\u001b[0;34m)\u001b[0m \u001b[0;34m==\u001b[0m \u001b[0;36m4\u001b[0m\u001b[0;34m:\u001b[0m\u001b[0;34m\u001b[0m\u001b[0;34m\u001b[0m\u001b[0m\n\u001b[1;32m    604\u001b[0m                 \u001b[0;32mreturn\u001b[0m \u001b[0mt\u001b[0m\u001b[0;34m.\u001b[0m\u001b[0mto\u001b[0m\u001b[0;34m(\u001b[0m\u001b[0mdevice\u001b[0m\u001b[0;34m,\u001b[0m \u001b[0mdtype\u001b[0m \u001b[0;32mif\u001b[0m \u001b[0mt\u001b[0m\u001b[0;34m.\u001b[0m\u001b[0mis_floating_point\u001b[0m\u001b[0;34m(\u001b[0m\u001b[0;34m)\u001b[0m \u001b[0;32melse\u001b[0m \u001b[0;32mNone\u001b[0m\u001b[0;34m,\u001b[0m \u001b[0mnon_blocking\u001b[0m\u001b[0;34m,\u001b[0m \u001b[0mmemory_format\u001b[0m\u001b[0;34m=\u001b[0m\u001b[0mconvert_to_format\u001b[0m\u001b[0;34m)\u001b[0m\u001b[0;34m\u001b[0m\u001b[0;34m\u001b[0m\u001b[0m\n\u001b[0;32m--> 605\u001b[0;31m             \u001b[0;32mreturn\u001b[0m \u001b[0mt\u001b[0m\u001b[0;34m.\u001b[0m\u001b[0mto\u001b[0m\u001b[0;34m(\u001b[0m\u001b[0mdevice\u001b[0m\u001b[0;34m,\u001b[0m \u001b[0mdtype\u001b[0m \u001b[0;32mif\u001b[0m \u001b[0mt\u001b[0m\u001b[0;34m.\u001b[0m\u001b[0mis_floating_point\u001b[0m\u001b[0;34m(\u001b[0m\u001b[0;34m)\u001b[0m \u001b[0;32melse\u001b[0m \u001b[0;32mNone\u001b[0m\u001b[0;34m,\u001b[0m \u001b[0mnon_blocking\u001b[0m\u001b[0;34m)\u001b[0m\u001b[0;34m\u001b[0m\u001b[0;34m\u001b[0m\u001b[0m\n\u001b[0m\u001b[1;32m    606\u001b[0m \u001b[0;34m\u001b[0m\u001b[0m\n\u001b[1;32m    607\u001b[0m         \u001b[0;32mreturn\u001b[0m \u001b[0mself\u001b[0m\u001b[0;34m.\u001b[0m\u001b[0m_apply\u001b[0m\u001b[0;34m(\u001b[0m\u001b[0mconvert\u001b[0m\u001b[0;34m)\u001b[0m\u001b[0;34m\u001b[0m\u001b[0;34m\u001b[0m\u001b[0m\n",
      "\u001b[0;31mRuntimeError\u001b[0m: CUDA error: out of memory"
     ]
    }
   ],
   "source": [
    "seq2seq_models = []\n",
    "for model_name in model_names:\n",
    "    net, model_params = traj_models.get_model(model_name)\n",
    "    traj_predictor = seq2seq_predict.Seq2SeqPredictor(model=net, \n",
    "                                                      weights_path=traj_models.get_weights_path(model_name),\n",
    "                                                      input_len=model_params['network_params']['inp_seq_len'],\n",
    "                                                      forecast_horizon=model_params['network_params']['out_seq_len'])\n",
    "    traj_predictor.model_params = model_params\n",
    "    seq2seq_models.append(traj_predictor)"
   ]
  },
  {
   "cell_type": "markdown",
   "metadata": {},
   "source": [
    "In addition, a kalman filter predictor can be generated and appended to the seq2seq predictors list"
   ]
  },
  {
   "cell_type": "code",
   "execution_count": 8,
   "metadata": {},
   "outputs": [],
   "source": [
    "# Kalman Trajectory Predictor\n",
    "kalman_predictor = kalman_predict.KalmanPredictor(forecast_horizon=20, \n",
    "                                                  num_derivatives=1, \n",
    "                                                  q_var=2.145, r_var=120.0)"
   ]
  },
  {
   "cell_type": "markdown",
   "metadata": {},
   "source": [
    "## Predictor timings\n",
    "\n",
    "Test the loaded predictors inference time and plot the results"
   ]
  },
  {
   "cell_type": "code",
   "execution_count": 9,
   "metadata": {},
   "outputs": [],
   "source": [
    "def seq2seq_name(traj_pred):\n",
    "    inp_len = traj_pred.model_params['network_params']['inp_seq_len']\n",
    "    out_len = traj_pred.model_params['network_params']['out_seq_len']\n",
    "    decoder_type = traj_pred.model_params['network_params']['decoder_type']\n",
    "    rnn_type = traj_pred.model_params['network_params']['rnn_type']\n",
    "    rnn_layers = traj_pred.model_params['network_params']['rnn_layers']\n",
    "    hidden_size = traj_pred.model_params['network_params']['hidden_size']\n",
    "    return f'Dec:{decoder_type}, RNN:{rnn_type}, l:{rnn_layers}, h:{hidden_size}, {inp_len}-{out_len}'"
   ]
  },
  {
   "cell_type": "code",
   "execution_count": 10,
   "metadata": {},
   "outputs": [],
   "source": [
    "def seq2seq_complexity_name(traj_pred):\n",
    "    rnn_layers = traj_pred.model_params['network_params']['rnn_layers']\n",
    "    hidden_size = traj_pred.model_params['network_params']['hidden_size']\n",
    "    return f'l:{rnn_layers}, h:{hidden_size}'"
   ]
  },
  {
   "cell_type": "code",
   "execution_count": null,
   "metadata": {},
   "outputs": [],
   "source": [
    "K = 5000\n",
    "\n",
    "rand_bboxes = np.random.random((K, 4))\n",
    "\n",
    "timings = []\n",
    "for traj_pred in seq2seq_models + [kalman_predictor]:\n",
    "    results, _ = train_eval.eval_trajectory_predictor(traj_pred, rand_bboxes, show_progress=False)\n",
    "    times_arr = np.array(results['times'])\n",
    "    timings.append(times_arr)"
   ]
  },
  {
   "cell_type": "code",
   "execution_count": 26,
   "metadata": {},
   "outputs": [
    {
     "data": {
      "image/png": "[encoded data removed]",
      "text/plain": [
       "<Figure size 432x288 with 1 Axes>"
      ]
     },
     "metadata": {
      "needs_background": "light"
     },
     "output_type": "display_data"
    }
   ],
   "source": [
    "%matplotlib inline\n",
    "\n",
    "thresh = 0.005\n",
    "bins_list = [50,50,50,5]\n",
    "labels = [\"GRU Enc-Linear 20-20\", \"Enc-Dec GRU 20-10\", \"Enc-Dec GRU 20-20\", \"Kalman predictor\"]\n",
    "for traj_pred, times, bins, label in zip(seq2seq_models + [kalman_predictor], timings, bins_list, labels):\n",
    "    \"\"\"\n",
    "    \n",
    "    if traj_pred == kalman_predictor:\n",
    "        label = \"Kalman predictor\"\n",
    "    else:\n",
    "        label = seq2seq_name(traj_pred)\n",
    "    \"\"\"\n",
    "    sns.distplot(times[times < thresh]*1000, bins=bins, kde=False, label=label)\n",
    "\n",
    "plt.legend()\n",
    "plt.xticks(np.arange(0, thresh*1000, 0.5))\n",
    "plt.xlabel('millisecond')\n",
    "#plt.ylim((0, 1500))\n",
    "plt.savefig('../experiments_plots/all_timings.png', dpi=200)"
   ]
  },
  {
   "cell_type": "markdown",
   "metadata": {},
   "source": [
    "## Sequences data\n",
    "Generate the 3D sequence tensor data from the detections dataframe. The paramerters for the sequence length are determined by the models loaded earlier."
   ]
  },
  {
   "cell_type": "markdown",
   "metadata": {},
   "source": [
    "### Custom masking\n",
    "The masking is used to evaluate on only a subset of the sequences data. The mask could be manually defined in the cell below, by setting the lower and upper bound on various statistics computed on the each sequence, or by using the masking defined for a loaded model."
   ]
  },
  {
   "cell_type": "code",
   "execution_count": 11,
   "metadata": {},
   "outputs": [],
   "source": [
    "INF_P = 9999999\n",
    "\n",
    "mask_dict_alt = {\n",
    "    'fl_dist': [0, INF_P, True, True], # min, max, mask_X, mask_Y\n",
    "    'speed': [0, INF_P, True, True],\n",
    "    'std': [0.0, INF_P, [0,1]],\n",
    "    'corr': [0.0, 1.0, True, True],\n",
    "    'zgzg': [0.0, 1.5, True, True],\n",
    "    'keep_prob': 0.0\n",
    "}"
   ]
  },
  {
   "cell_type": "code",
   "execution_count": 12,
   "metadata": {},
   "outputs": [],
   "source": [
    "# use custom masking dict\n",
    "mask_dict = mask_dict_alt"
   ]
  },
  {
   "cell_type": "code",
   "execution_count": 12,
   "metadata": {},
   "outputs": [],
   "source": [
    "# use masking dict that model was trained on\n",
    "mask_dict = seq2seq_models[0].model_params['masking_params']"
   ]
  },
  {
   "cell_type": "code",
   "execution_count": 13,
   "metadata": {},
   "outputs": [],
   "source": [
    "# mask_fn is a function that opreates on 3D sequence tensors, and returns a boolean mask (1D boolean array)\n",
    "mask_fn = train_eval.compose_masks(mask_fns=[\n",
    "    train_eval.mask_fl_dist(*mask_dict['fl_dist']),\n",
    "    train_eval.mask_speed(*mask_dict['speed']),\n",
    "    train_eval.mask_std(*mask_dict['std']),\n",
    "    train_eval.mask_corr(*mask_dict['corr']),\n",
    "    train_eval.mask_zgzg(*mask_dict['zgzg'])\n",
    "    ], invert=False)"
   ]
  },
  {
   "cell_type": "markdown",
   "metadata": {},
   "source": [
    "### Create trials dict\n",
    "The sequences generated from each trial are first stored in a dictionary, that contains all of the sequences without masking, and the boolean mask for the trial itself. That way, the masked data can be acssessed on the fly, and updating the masking parameters does not require to compute the sequences again, only the mask. "
   ]
  },
  {
   "cell_type": "code",
   "execution_count": 14,
   "metadata": {},
   "outputs": [
    {
     "data": {
      "application/vnd.jupyter.widget-view+json": {
       "model_id": "884b0851c16d4865bd181f7f99dbba16",
       "version_major": 2,
       "version_minor": 0
      },
      "text/plain": [
       "HBox(children=(FloatProgress(value=0.0, max=223.0), HTML(value='')))"
      ]
     },
     "metadata": {},
     "output_type": "display_data"
    },
    {
     "name": "stdout",
     "output_type": "stream",
     "text": [
      "\n"
     ]
    }
   ],
   "source": [
    "# run only in initailization of notebook\n",
    "np.warnings.filterwarnings('ignore')\n",
    "\n",
    "net_params = seq2seq_models[0].model_params['network_params']\n",
    "trials_dict = train_eval.create_samples(df=all_df,\n",
    "                                        mask_fn=mask_fn,\n",
    "                                        keep_prob=mask_dict['keep_prob'],\n",
    "                                        input_labels=net_params['input_labels'], output_labels=net_params['output_labels'], \n",
    "                                        input_seq_size=net_params['inp_seq_len'], output_seq_size=net_params['out_seq_len'],\n",
    "                                        keep_nans=True)\n",
    "\n",
    "np.warnings.filterwarnings('default')"
   ]
  },
  {
   "cell_type": "code",
   "execution_count": 34,
   "metadata": {},
   "outputs": [
    {
     "data": {
      "application/vnd.jupyter.widget-view+json": {
       "model_id": "eb41c15a49c34fe5af41dbb1f35af615",
       "version_major": 2,
       "version_minor": 0
      },
      "text/plain": [
       "HBox(children=(FloatProgress(value=0.0, max=223.0), HTML(value='')))"
      ]
     },
     "metadata": {},
     "output_type": "display_data"
    },
    {
     "name": "stdout",
     "output_type": "stream",
     "text": [
      "\n"
     ]
    }
   ],
   "source": [
    "# run when masking is updated\n",
    "np.warnings.filterwarnings('ignore')\n",
    "\n",
    "train_eval.update_trials_dict(trials_dict, mask_fn, keep_prob=mask_dict['keep_prob'])\n",
    "\n",
    "np.warnings.filterwarnings('default')"
   ]
  },
  {
   "cell_type": "markdown",
   "metadata": {},
   "source": [
    "The sequences data is split according to individual trials. The train-validation-test split can be loaded from file, or re-computed. The split aims that each of the parts of the split has relatively equal proportion of sequences that pass the boolean mask. It is done by computing the ratio between the number of sequences that passed the mask, and the total number of sequences in that trial, sorting the trials according to these ratios, spliting the trials into batches, and selecting trials from each batch into the training, validation and test sets according to the split ratio."
   ]
  },
  {
   "cell_type": "code",
   "execution_count": 489,
   "metadata": {},
   "outputs": [],
   "source": [
    "# create new split of the trials\n",
    "train_trials, val_trials, test_trials = train_eval.split_train_val_test(trials_dict, split=(1.0, 0, 0))"
   ]
  },
  {
   "cell_type": "code",
   "execution_count": 15,
   "metadata": {},
   "outputs": [],
   "source": [
    "# use existing split from the model\n",
    "train_trials = seq2seq_models[0].model_params['training_params']['train_trials']\n",
    "val_trials = seq2seq_models[0].model_params['training_params']['val_trials']\n",
    "test_trials = seq2seq_models[0].model_params['training_params']['test_trials']"
   ]
  },
  {
   "cell_type": "markdown",
   "metadata": {},
   "source": [
    "After generating the trials sequence dictionary and the trials split, the training, validation and test datasets can be generated. They are Pytorch DataLoaders, used for iterating over the datasets in batches. The entire 3D Pytorch tensors can be also accessed."
   ]
  },
  {
   "cell_type": "code",
   "execution_count": 16,
   "metadata": {},
   "outputs": [
    {
     "name": "stdout",
     "output_type": "stream",
     "text": [
      "Sample size:\n",
      "Training: 159 trials, 813644 seqs\n",
      "Validation: 32 trials, 161626 seqs\n",
      "Test: 32 trials, 182975 seqs\n"
     ]
    }
   ],
   "source": [
    "# create dataloaders for batch inference\n",
    "batch_size = 128\n",
    "train_dl, val_dl, test_dl = train_eval.create_train_val_test_dataloaders(trials_dict, train_trials, val_trials, test_trials,\n",
    "                                                                         train_mask=False, val_mask=False, test_mask=False,\n",
    "                                                                         batch_size=batch_size, shuffle=False)\n",
    "\n",
    "print(\"Sample size:\")\n",
    "print(f\"Training: {len(train_trials)} trials, {len(train_dl.dataset)} seqs\")\n",
    "if val_dl is not None:\n",
    "    print(f\"Validation: {len(val_trials)} trials, {len(val_dl.dataset)} seqs\")\n",
    "if test_dl is not None:\n",
    "    print(f\"Test: {len(test_trials)} trials, {len(test_dl.dataset)} seqs\")"
   ]
  },
  {
   "cell_type": "markdown",
   "metadata": {},
   "source": [
    "### Generate data tensors and predictions\n",
    "After generating the dataloaders, the predictions for each sequence can be generated and stored in 3D tensor, where the indices are the same as the Y sequences tensor."
   ]
  },
  {
   "cell_type": "code",
   "execution_count": 18,
   "metadata": {},
   "outputs": [
    {
     "name": "stdout",
     "output_type": "stream",
     "text": [
      "Combined memory of X and Y tensors: 111.7 MB\n"
     ]
    }
   ],
   "source": [
    "# create numpy 3d-arrays of the data\n",
    "dl = test_dl\n",
    "seq_data_X = dl.dataset.X.numpy()\n",
    "seq_data_Y = dl.dataset.Y.numpy()\n",
    "print(f'Combined memory of X and Y tensors: {seq_data_X.nbytes/2**20 + seq_data_Y.nbytes/2**20:.1f} MB')"
   ]
  },
  {
   "cell_type": "code",
   "execution_count": 19,
   "metadata": {},
   "outputs": [],
   "source": [
    "seq_preds = []\n",
    "for traj_pred in seq2seq_models:\n",
    "    seq_preds.append(train_eval.get_seq_forecast(dl, traj_pred.model))"
   ]
  },
  {
   "cell_type": "code",
   "execution_count": 20,
   "metadata": {},
   "outputs": [
    {
     "data": {
      "application/vnd.jupyter.widget-view+json": {
       "model_id": "3f371645a23e4b678427d1387365e7da",
       "version_major": 2,
       "version_minor": 0
      },
      "text/plain": [
       "HBox(children=(FloatProgress(value=0.0, max=32.0), HTML(value='')))"
      ]
     },
     "metadata": {},
     "output_type": "display_data"
    },
    {
     "name": "stdout",
     "output_type": "stream",
     "text": [
      "\n"
     ]
    }
   ],
   "source": [
    "ADEs, FDEs, trial_lens, all_forecasts = train_eval.eval_traj_predictor_on_trials(test_trials, kalman_predictor, all_df)\n",
    "seq_pred_kalman = train_eval.all_forecasts_to_seq_data(all_forecasts, inp_seq_len=net_params['inp_seq_len'], \n",
    "                                                            out_seq_len=net_params['out_seq_len'],\n",
    "                                                            out_dim=net_params['output_dim'])"
   ]
  },
  {
   "cell_type": "markdown",
   "metadata": {},
   "source": [
    "### Compare ADE of models\n",
    "After generating the predictions, the average ADE of each predictor can evaluated on the test set"
   ]
  },
  {
   "cell_type": "code",
   "execution_count": 20,
   "metadata": {},
   "outputs": [],
   "source": [
    "np.warnings.filterwarnings('ignore')\n",
    "\n",
    "\n",
    "bar_df = pd.DataFrame()\n",
    "mask = mask_fn(seq_data_X, seq_data_Y)\n",
    "nan_mask_Y = ~np.isnan(seq_data_Y).any(axis=2).any(axis=1)\n",
    "nan_mask_X = ~np.isnan(seq_data_X).any(axis=2).any(axis=1)\n",
    "nan_mask = nan_mask_Y & nan_mask_X\n",
    "for seq_pred, traj_pred in zip(seq_preds + [seq_pred_kalman], seq2seq_models + [kalman_predictor]):\n",
    "    ADE = train_eval.calc_ADE(torch.from_numpy(seq_pred[nan_mask]), torch.from_numpy(seq_data_Y[nan_mask]))\n",
    "    masked_ADE = train_eval.calc_ADE(torch.from_numpy(seq_pred[mask]), torch.from_numpy(seq_data_Y[mask]))\n",
    "    \n",
    "    if traj_pred == kalman_predictor:\n",
    "        name = 'Kalman'\n",
    "    else:\n",
    "        name = seq2seq_name(traj_pred)\n",
    "    \n",
    "    bar_df.loc[name, 'False'] = ADE.item()\n",
    "    bar_df.loc[name, 'True'] = masked_ADE.item()\n",
    "np.warnings.filterwarnings('default')"
   ]
  },
  {
   "cell_type": "code",
   "execution_count": 21,
   "metadata": {},
   "outputs": [],
   "source": [
    "bar_df['Model'] = bar_df.index\n",
    "\n",
    "long_df = pd.melt(bar_df,id_vars=['Model'], var_name='Masking',value_name='ADE', ignore_index=False)"
   ]
  },
  {
   "cell_type": "code",
   "execution_count": 28,
   "metadata": {},
   "outputs": [
    {
     "data": {
      "image/png": "[encoded data removed]",
      "text/plain": [
       "<Figure size 864x504 with 1 Axes>"
      ]
     },
     "metadata": {
      "needs_background": "light"
     },
     "output_type": "display_data"
    }
   ],
   "source": [
    "%matplotlib inline\n",
    "plt.figure(figsize=(12,7))\n",
    "sns.barplot(x='Model',y='ADE',hue='Masking',data=long_df)\n",
    "plt.ylabel('ADE',fontsize=15, rotation=0,labelpad=20)\n",
    "plt.xlabel('Model',fontsize=15)\n",
    "\n",
    "plt.savefig('../experiments_plots/ADEs_bar.jpg',dpi=200)"
   ]
  },
  {
   "cell_type": "markdown",
   "metadata": {},
   "source": [
    "### Generate hits data tensors and predictions"
   ]
  },
  {
   "cell_type": "code",
   "execution_count": 373,
   "metadata": {},
   "outputs": [],
   "source": [
    "def seqs_contain_hits(df, trials, inp_len, out_len ,steps2hit=0 ,stride=1):\n",
    "\n",
    "    seq_X_list = []\n",
    "    seq_Y_list = []\n",
    "    loc_list = []\n",
    "    for trial_i, trial in enumerate(trials):\n",
    "        \n",
    "        temp = df.loc[trial]\n",
    "        touches = temp.is_touch\n",
    "        \n",
    "        if touches.sum() == 0:\n",
    "            continue\n",
    "        hits_ind = np.where(touches)[0]\n",
    "\n",
    "        for j, hit_ind in enumerate(hits_ind):\n",
    "            for i in range(steps2hit, out_len, stride):\n",
    "                # slice inp_seq and out_seq\n",
    "                inp_min = hit_ind - i - inp_len - 1\n",
    "                inp_max = hit_ind - i - 1\n",
    "                out_min = inp_max + 1\n",
    "                out_max = out_min + out_len\n",
    "                \n",
    "                if inp_min < 0 or out_max > temp.shape[0]:\n",
    "                    continue\n",
    "                \n",
    "                inp_seq = temp.iloc[inp_min: inp_max][['x1','y1', 'x2', 'y2']].values\n",
    "                out_seq = temp.iloc[out_min: out_max][['x1','y1', 'x2', 'y2']].values\n",
    "                \n",
    "                seq_X_list.append(inp_seq)\n",
    "                seq_Y_list.append(out_seq)\n",
    "                loc_list.append((trial_i, out_min))\n",
    "                \n",
    "    return np.stack(seq_X_list), np.stack(seq_Y_list), loc_list\n",
    "\n",
    "hits_X, hits_Y, loc_list = seqs_contain_hits(all_df, all_df.index.unique(), 20, 20, steps2hit=8, stride=1)\n",
    "\n",
    "#hits_preds = [train_eval.get_seq_forecast(train_eval.DataLoader(train_eval.TrajectoriesData(hits_X, hits_Y),batch_size=128), s2s.model) for s2s in seq2seq_models]\n",
    "#hits_preds_kalman = np.stack([all_forecasts[i][t] for (i, t) in loc_list])"
   ]
  },
  {
   "cell_type": "markdown",
   "metadata": {},
   "source": [
    "### Visualize sequences and predictions\n",
    "In addition to the quantitative results (test set ADE), the models can also be compared qualititavely by visualizing the trajectories and the predictions of each model. This allows for a more fine-grained analysis of the predictor's behavior and various shortcomings. "
   ]
  },
  {
   "cell_type": "code",
   "execution_count": 21,
   "metadata": {},
   "outputs": [],
   "source": [
    "# visualize general sequences\n",
    "seq_X = seq_data_X\n",
    "seq_Y = seq_data_Y\n",
    "preds = seq_preds + [seq_pred_kalman]"
   ]
  },
  {
   "cell_type": "code",
   "execution_count": 374,
   "metadata": {},
   "outputs": [],
   "source": [
    "# visualize only hit sequences\n",
    "seq_X = hits_X\n",
    "seq_Y = hits_Y\n",
    "#preds = hits_preds + [hits_preds_kalman]"
   ]
  },
  {
   "cell_type": "markdown",
   "metadata": {},
   "source": [
    "This cell samples some trajectories at random, as plotting the entire trajectories is both computationally intensive and not helpful"
   ]
  },
  {
   "cell_type": "code",
   "execution_count": 19,
   "metadata": {},
   "outputs": [],
   "source": [
    " # costly to recompute each time, run only if mask_fn was updated\n",
    "np.warnings.filterwarnings('ignore')\n",
    "\n",
    "data_mask = mask_fn(seq_X, seq_Y)\n",
    "\n",
    "np.warnings.filterwarnings('default')"
   ]
  },
  {
   "cell_type": "code",
   "execution_count": 23,
   "metadata": {},
   "outputs": [
    {
     "data": {
      "application/vnd.jupyter.widget-view+json": {
       "model_id": "cb70ed8c691d424bab11c33bd6e8b2c2",
       "version_major": 2,
       "version_minor": 0
      },
      "text/plain": [
       "Canvas(toolbar=Toolbar(toolitems=[('Home', 'Reset original view', 'home', 'home'), ('Back', 'Back to previous …"
      ]
     },
     "metadata": {},
     "output_type": "display_data"
    },
    {
     "data": {
      "text/plain": [
       "<matplotlib.legend.Legend at 0x7fb99d80e850>"
      ]
     },
     "execution_count": 23,
     "metadata": {},
     "output_type": "execute_result"
    }
   ],
   "source": [
    "%matplotlib widget\n",
    "#%matplotlib inline\n",
    "\n",
    "N_samples = 10\n",
    "draw_preds = True\n",
    "\n",
    "fig,ax = plt.subplots(1,1,figsize=(8,14))\n",
    "\n",
    "im = cv.imread('../pogona_frames/transformed_image.jpg')\n",
    "im = cv.convertScaleAbs(im, alpha=2.5,beta=-128)\n",
    "ax.imshow(im,alpha=0.15)\n",
    "\n",
    "colors = plt.get_cmap('tab10').colors[:2] + plt.get_cmap('tab10').colors[4:] \n",
    "\n",
    "sampling_mask = np.random.choice(np.argwhere(data_mask).squeeze(), size=N_samples)\n",
    "#sampling_mask = np.random.choice(np.arange(seq_X.shape[0]), size=N_samples)\n",
    "sample_X = seq_X[sampling_mask]\n",
    "sample_Y = seq_Y[sampling_mask]\n",
    "\n",
    "l_alpha = 0.5\n",
    "\n",
    "visualize.draw_sequences(arr_X=sample_X,\n",
    "           arr_Y=sample_Y,\n",
    "           arr_pred=None,\n",
    "           ax=ax,\n",
    "           sctr_s=1,\n",
    "           l_alpha=l_alpha,\n",
    "           sctr_alpha=0.75,\n",
    "           draw_diffs=False)\n",
    "\n",
    "if draw_preds:\n",
    "    for i, (seq_pred, traj_pred) in enumerate(zip(preds, \n",
    "                                                   seq2seq_models + [kalman_predictor])):\n",
    "\n",
    "        if traj_pred in [kalman_predictor] :\n",
    "            name = 'Kalman'\n",
    "        else:\n",
    "            name = seq2seq_name(traj_pred)\n",
    "        \n",
    "\n",
    "        sample_pred = seq_pred[sampling_mask]\n",
    "\n",
    "        visualize.draw_sequences(arr_X=None,\n",
    "                       arr_Y=sample_pred,\n",
    "                       arr_pred=None,\n",
    "                       ax=ax,\n",
    "                       sctr_s=1,\n",
    "                       l_alpha=l_alpha,\n",
    "                       sctr_alpha=0.75,\n",
    "                       draw_diffs=False,\n",
    "                       ylabel=name,\n",
    "                       ftr_c=colors[i % len(colors)],\n",
    "                      )\n",
    "\n",
    "\n",
    "#ax.axis('equal')\n",
    "#txt_color = 'white'\n",
    "ax.set_title(f'Input: {net_params[\"inp_seq_len\"]}, Output: {net_params[\"out_seq_len\"]} || {data_mask.sum():,} sequences',fontsize=13)\n",
    "fig.set_facecolor(color='w')\n",
    "ax.legend()\n",
    "\n",
    "#plt.savefig(\"../experiments_plots/sequence_sample.png\", dpi=200)"
   ]
  },
  {
   "cell_type": "markdown",
   "metadata": {},
   "source": [
    "## Sequence data stats\n",
    "The next cells analyze and visualize distributions of the sequence data"
   ]
  },
  {
   "cell_type": "code",
   "execution_count": 492,
   "metadata": {},
   "outputs": [],
   "source": [
    "def plot_distribution(ax, \n",
    "                   data_array,\n",
    "                   label,\n",
    "                   min_thresh=None, max_thresh=None,\n",
    "                   title=None,\n",
    "                   kde=True, bins=500, color='b',\n",
    "                   quantiles=[0.1, 0.25, 0.5, 0.75]):\n",
    "    \n",
    "    mask = np.array([True] * data_array.shape[0])\n",
    "    if min_thresh:\n",
    "        min_mask = data_array > min_thresh\n",
    "        mask = mask & min_mask\n",
    "    if max_thresh:\n",
    "        max_mask = data_array < max_thresh\n",
    "        mask = mask & max_mask     \n",
    "        \n",
    "    sns.distplot(data_array[mask], label=label, kde=kde, bins=bins,ax=ax, color=color)\n",
    "    ax.set_xlabel(label, fontsize=16, labelpad=5)\n",
    "    \n",
    "    if quantiles is not None:\n",
    "        bins, vals = np.histogram(data_array[mask], bins=bins)\n",
    "        top = np.max(bins)\n",
    "        for q in quantiles:\n",
    "            quan_val = np.quantile(data_array[mask].dropna(), q)\n",
    "            ax.plot(np.ones(2) * quan_val, [0,top-top//50], linestyle='--', color='r', linewidth=1, alpha=0.5)\n",
    "            ax.text(quan_val, top, q, fontsize=10, rotation=0, color='r')\n",
    "                \n",
    "    \n",
    "    #ax.legend()\n",
    "    if title:\n",
    "        ax.set_title(title)\n"
   ]
  },
  {
   "cell_type": "code",
   "execution_count": 493,
   "metadata": {},
   "outputs": [
    {
     "name": "stderr",
     "output_type": "stream",
     "text": [
      "/app/Pogona_realtime/Arena/Prediction/train_eval.py:773: RuntimeWarning: invalid value encountered in arccos\n",
      "  angles = np.arccos(dotprods / (u_norm * v_norm))\n"
     ]
    }
   ],
   "source": [
    "#funcs = [train_eval.compute_dists, train_eval.compute_speeds, train_eval.compute_zigzagity, train_eval.compute_batch_r]\n",
    "funcs = [train_eval.compute_speeds, train_eval.compute_zigzagity, train_eval.compute_batch_r]\n",
    "\n",
    "#labels = ['distance', 'speed','zigzagity', 'pear_r']\n",
    "labels = ['speed','zigzagity', 'pear_r']\n",
    "\n",
    "distr_X_full = {key:pd.Series(func(seq_data_X), name=key) for key,func in zip(labels, funcs)}\n",
    "distr_pred_full = {key:{model:pd.Series(func(seq_pred), name=key) for (model, seq_pred) in zip (model_names, seq_preds)} for key,func in zip(labels, funcs)}"
   ]
  },
  {
   "cell_type": "code",
   "execution_count": 68,
   "metadata": {},
   "outputs": [],
   "source": [
    "funcs = [train_eval.compute_dists, train_eval.compute_speeds, train_eval.compute_zigzagity, train_eval.compute_batch_r]\n",
    "labels = ['distance', 'speed','zigzagity', 'pear_r']\n",
    "distr_X_hits = {key:pd.Series(func(hits_X[:,:,2:]),name=key) for key,func in zip(labels, funcs)}"
   ]
  },
  {
   "cell_type": "code",
   "execution_count": 31,
   "metadata": {},
   "outputs": [
    {
     "data": {
      "text/plain": [
       "['RNN_GRU_1022-2019_i20_o20_h350_l1_long']"
      ]
     },
     "execution_count": 31,
     "metadata": {},
     "output_type": "execute_result"
    }
   ],
   "source": [
    "model_names"
   ]
  },
  {
   "cell_type": "code",
   "execution_count": 501,
   "metadata": {},
   "outputs": [
    {
     "data": {
      "image/png": "[encoded data removed]",
      "text/plain": [
       "<Figure size 2400x800 with 3 Axes>"
      ]
     },
     "metadata": {
      "needs_background": "light"
     },
     "output_type": "display_data"
    }
   ],
   "source": [
    "%matplotlib inline\n",
    "preety_labels = {'speed': 'Speed', 'zigzagity':'Zigzagity', 'pear_r':\"Pearson's r\"}\n",
    "labels_quantiles = {'speed': [0.5, 0.9, 0.95, 0.99], \n",
    "                    'zigzagity':[0.01,  0.10, 0.5], \n",
    "                    'pear_r': [0.3, 0.5, 0.75, 0.9]}\n",
    "\n",
    "fig, axes = plt.subplots(1, len(funcs), figsize=(12,4), dpi=200)\n",
    "\n",
    "model ='RNN_GRU_1022-2019_i20_o20_h350_l1_long'\n",
    "\n",
    "for ax, label in zip(axes, labels):\n",
    "    max_thresh = 24\n",
    "    \"\"\"\n",
    "    plot_distribution(ax, \n",
    "                      distr_pred_full[label][model], \n",
    "                      label=label,\n",
    "                      kde=False,\n",
    "                      bins=250, max_thresh=max_thresh, quantiles=None)\n",
    "\n",
    "    \"\"\"\n",
    "    plot_distribution(ax, \n",
    "                      distr_X_full[label], \n",
    "                      label=label,\n",
    "                      kde=False,\n",
    "                      bins=250, color='b',max_thresh=max_thresh, quantiles=labels_quantiles[label])\n",
    "#fig.suptitle('Data statitstics', fontsize=20)\n",
    "fig.tight_layout()\n",
    "#axes[0].legend()\n",
    "#axes[0].set_xlabel('Speed')\n",
    "\n",
    "fig.savefig('../experiments_plots/data.jpg',dpi=200)\n"
   ]
  },
  {
   "cell_type": "code",
   "execution_count": 42,
   "metadata": {},
   "outputs": [
    {
     "data": {
      "text/plain": [
       "{'fl_dist': [0, 9999999, True, True],\n",
       " 'speed': [0, 9999999, True, True],\n",
       " 'std': [0.0, 9999999, [0, 1]],\n",
       " 'corr': [0.0, 1.0, True, True],\n",
       " 'zgzg': [0, 1.5, True, True],\n",
       " 'keep_prob': 0.01}"
      ]
     },
     "execution_count": 42,
     "metadata": {},
     "output_type": "execute_result"
    }
   ],
   "source": [
    "model_params['masking_params']"
   ]
  },
  {
   "cell_type": "code",
   "execution_count": 39,
   "metadata": {},
   "outputs": [
    {
     "data": {
      "image/png": "[encoded data removed]",
      "text/plain": [
       "<Figure size 648x648 with 3 Axes>"
      ]
     },
     "metadata": {
      "needs_background": "light"
     },
     "output_type": "display_data"
    }
   ],
   "source": [
    "%matplotlib inline\n",
    "# plot 2d relationship\n",
    "x_axis = 'zigzagity'\n",
    "y_axis = 'pear_r'\n",
    "alpha = 1\n",
    "color='r'\n",
    "\n",
    "#plt.figure()\n",
    "#fig, ax = plt.subplots(1,1,figsize=(12,6))\n",
    "#sns.scatterplot(distr_X_full[x_axis], distr_X_full[y_axis], ax=ax, alpha=alpha,color=color)\n",
    "g = sns.jointplot(distr_X_full[x_axis], distr_X_full[y_axis], kind='hex',alpha=alpha,marginal_kws={'bins':100}, height=9)\n",
    "#fig.set_facecolor('w')\n",
    "g.savefig('../experiments_plots/zgzg_r_data.jpg')"
   ]
  },
  {
   "cell_type": "markdown",
   "metadata": {},
   "source": [
    "## Evaluate Hit Predictor\n",
    "After generating the predictions, the hit predictor can be evaluted. The following cells use the ground truth prediction (if they were loaded with the all_df dataframe), to evalute how good are the hit predictions based on the trajectory predictions. Currently its donw by plotting the ground truth events with the hit predictions, more metrics, visulizations and tools should be devised to investigate this data."
   ]
  },
  {
   "cell_type": "markdown",
   "metadata": {},
   "source": [
    "### Hit predictor functions"
   ]
  },
  {
   "cell_type": "code",
   "execution_count": 22,
   "metadata": {},
   "outputs": [],
   "source": [
    "# find start and end indices for each test trial in sequence arrays\n",
    "\n",
    "trials_slicing = dict()\n",
    "ind = 0\n",
    "for trial in test_trials:\n",
    "    trial_inds = np.argwhere(all_df.index == trial)\n",
    "    start = trial_inds[0 + net_params['inp_seq_len'] - 1][0]\n",
    "    end = trial_inds[-net_params['out_seq_len']][0]\n",
    "    \n",
    "    trial_len = end - start\n",
    "    \n",
    "    trials_slicing[trial] = (ind, ind + trial_len)\n",
    "    ind += trial_len"
   ]
  },
  {
   "cell_type": "code",
   "execution_count": 265,
   "metadata": {},
   "outputs": [],
   "source": [
    "hit_trials = ['linear_classification_20201021T115143_trial4']\n",
    "hit_df = all_df.loc[hit_trials]"
   ]
  },
  {
   "cell_type": "code",
   "execution_count": 387,
   "metadata": {},
   "outputs": [],
   "source": [
    "lots_o_touches = 'circle_20200803T115839_trial1'\n",
    "lots_o_touches2 = 'fast_cockroach_20200803T085738_trial1'"
   ]
  },
  {
   "cell_type": "code",
   "execution_count": 266,
   "metadata": {},
   "outputs": [],
   "source": [
    "# TODO: aligning with true touching events won't work, check FIRST_FRAME parameter from evaluate trajectory predictor cell\n",
    "\n",
    "def get_hit_preds_forecasts(seq_pred_trial, \n",
    "                            hit_pred,\n",
    "                            inp_len,\n",
    "                            return_mean=False):\n",
    "    \"\"\"\n",
    "    Receive an array of forecasts, and generate an array describing the hit predictions from the frame perspective,\n",
    "    i.e, for each frame, there's a row of length forecast_horizon, with a value in the index of a forecast that \n",
    "    predicted a hit. (if forecast 1234 predicted hit in 5 frames, then pred[1239,5] has a value).\n",
    "        \n",
    "    If return_mean is true, will count the number of forecasts predicting a hit for a specific frame, and the mean predicted\n",
    "    x value.\n",
    "    \"\"\"\n",
    "    if np.all(np.isnan(seq_pred_trial)):\n",
    "        print(\"No forecasts in list\")\n",
    "        return\n",
    "    \n",
    "    forecast_horizon = seq_pred_trial.shape[1]\n",
    "    preds = np.empty((seq_pred_trial.shape[0] + forecast_horizon, forecast_horizon))    \n",
    "    preds[:] = np.nan\n",
    "    \n",
    "    for i, forecast in enumerate(seq_pred_trial):\n",
    "        x, hit_ind = hit_pred.predict_hit(forecast)\n",
    "        if hit_ind is not None and hit_ind < preds.shape[0]:\n",
    "            frame_ind = inp_len - 1 + (i+1) + hit_ind #  the frame index to which the hit is predicted\n",
    "            preds[frame_ind, hit_ind] = x  # place the x value in the index that the forecast predicted\n",
    "\n",
    "    \n",
    "    if return_mean:\n",
    "        temp = np.empty((preds.shape[0], 2))\n",
    "        temp[:,0] = (~np.isnan(preds)).sum(axis=1) # number of forecasts predicting hit\n",
    "        temp[:, 1] = np.nanmean(preds,axis=1)\n",
    "        return temp\n",
    "    return preds\n",
    "\n",
    "\n",
    "def plot_preds_and_truth(preds, \n",
    "                         trial_slice, \n",
    "                         ax,\n",
    "                         start=None, \n",
    "                         end=None,):\n",
    "    \"\"\"\n",
    "    preds - a frame prediction array\n",
    "    trial_slice - the slice from the dataframe for that trial, sliced like the bboxes array\n",
    "    which the traj predictor operated on.\n",
    "    Caller's responsibility to make sure the arrays are the same shape on dim 0 and that \n",
    "    they are aligned.\n",
    "    \"\"\"\n",
    "    \n",
    "    hits = False\n",
    "    \n",
    "    if start is None:\n",
    "        start = 0\n",
    "    if end is None:\n",
    "        end = preds.shape[0]\n",
    "    \n",
    "    ax.set_xticklabels(np.arange(start=start, stop=end+1)) # ax.set_xticks set the integer indices of the labels\n",
    "    \n",
    "    preds = preds[start:end]\n",
    "    trial_slice = trial_slice.iloc[start:end]\n",
    "    \n",
    "    forecast_horizon = preds.shape[1]\n",
    "    if trial_slice is not None:\n",
    "        hits_idx = np.where(trial_slice.is_touch)[0]\n",
    "    \n",
    "        if hits_idx.shape[0] == 0:\n",
    "            print(\"no real hits\")\n",
    "        else:\n",
    "            hits = True\n",
    "    \n",
    "    if np.all(np.isnan(preds)):\n",
    "        print(\"All nan, nothing to show\")\n",
    "        return\n",
    "    sns.heatmap(preds.transpose(), ax=ax, cmap='winter')\n",
    "        \n",
    "    curr_x_ticks = list(ax.xaxis.get_ticklabels())\n",
    "    stride = int(curr_x_ticks[1].get_text())\n",
    "    ax.set_xticklabels(np.arange(start=start, stop=end+1,step=stride), rotation=30) # ax.set_xticks set the integer indices of the labels\n",
    "    tick_freq = 3\n",
    "    for n, label in enumerate(ax.xaxis.get_ticklabels()):\n",
    "        if n % tick_freq != 0:\n",
    "            label.set_visible(False)\n",
    "        \n",
    "    if hits:\n",
    "        for x in hits_idx:\n",
    "            ax.plot(np.ones(2)*x, np.linspace(0,20,num=2), linestyle='--',linewidth=1.5, color='r', zorder=-1, alpha=0.5) \n",
    "    \n",
    "   "
   ]
  },
  {
   "cell_type": "markdown",
   "metadata": {},
   "source": [
    "### Hit predictions raster plot\n",
    "See functions documentation for explanation of the raster plots"
   ]
  },
  {
   "cell_type": "code",
   "execution_count": 310,
   "metadata": {},
   "outputs": [
    {
     "data": {
      "image/png": "[encoded data removed]",
      "text/plain": [
       "<Figure size 720x360 with 2 Axes>"
      ]
     },
     "metadata": {
      "needs_background": "light"
     },
     "output_type": "display_data"
    }
   ],
   "source": [
    "trial = 'line_20200803T081429_trial1'\n",
    "y_thresh = 0\n",
    "start = 650\n",
    "end = 800\n",
    "zoom = True\n",
    "\n",
    "seq_trial_slice = trials_slicing[trial]\n",
    "seq_pred_trial = seq_pred_kalman[seq_trial_slice[0]: seq_trial_slice[1]]\n",
    "\n",
    "hit_preds = get_hit_preds_forecasts(seq_pred_trial=seq_pred_trial,\n",
    "                                    hit_pred=predictor.HitPredictor(None, prediction_y_threshold=y_thresh),\n",
    "                                    inp_len=net_params['inp_seq_len'],\n",
    "                                    return_mean=False)\n",
    "\n",
    "#%matplotlib widget\n",
    "%matplotlib inline\n",
    "fig, ax1 = plt.subplots(1,1,figsize=(10,5))\n",
    "plot_preds_and_truth(hit_preds,\n",
    "                     all_df.loc[trial],\n",
    "                     ax1,\n",
    "                     start=start,\n",
    "                     end=end)\n",
    "plt.grid(axis='y')\n",
    "\n",
    "fs = 14\n",
    "pad = 20\n",
    "\n",
    "if zoom:\n",
    "    s2 = \"(Zoomed)\"\n",
    "else:\n",
    "    s2 = ''\n",
    "s = f\"Hit predictions - Kalman - Y threshold: {y_thresh} {s2}\"\n",
    "plt.title(s, fontsize=fs, pad=pad)\n",
    "plt.savefig('../experiments_plots/'+trial+\"_\"+s+'.jpg', dpi=200)"
   ]
  },
  {
   "cell_type": "markdown",
   "metadata": {},
   "source": [
    "## Video Visualization"
   ]
  },
  {
   "cell_type": "markdown",
   "metadata": {},
   "source": [
    "### Select trial for videos"
   ]
  },
  {
   "cell_type": "code",
   "execution_count": 66,
   "metadata": {},
   "outputs": [],
   "source": [
    "test_fast_trials = ['learning_20200917T152238_trial2', 'learning_20201001T084647_trial1',\n",
    "                   'circle_20200803T090615_trial1', 'circle_20201019T094116_trial1']"
   ]
  },
  {
   "cell_type": "code",
   "execution_count": 67,
   "metadata": {},
   "outputs": [],
   "source": [
    "trial = test_fast_trials[1]\n",
    "\n",
    "homography = dataset.homography_for_trial(trial)\n",
    "correction_fn = visualize.get_correction_fn(homography,1920)\n",
    "vid_path = dataset.get_trial_video_path(trial)"
   ]
  },
  {
   "cell_type": "markdown",
   "metadata": {},
   "source": [
    "### Produce predictors video\n",
    "\n",
    "Draws various visualization over the selected trial video: bbox, centroid, past and future trajectories, and predicted trajectories."
   ]
  },
  {
   "cell_type": "code",
   "execution_count": 65,
   "metadata": {},
   "outputs": [
    {
     "data": {
      "application/vnd.jupyter.widget-view+json": {
       "model_id": "53d09bb300f74077a477690af4042294",
       "version_major": 2,
       "version_minor": 0
      },
      "text/plain": [
       "HBox(children=(FloatProgress(value=0.0, max=923.0), HTML(value='')))"
      ]
     },
     "metadata": {},
     "output_type": "display_data"
    },
    {
     "name": "stdout",
     "output_type": "stream",
     "text": [
      "\n"
     ]
    }
   ],
   "source": [
    "# parameters\n",
    "y_thresh = 10\n",
    "start_frame = 0\n",
    "end_frame = None\n",
    "colors = [(0,255,0), (255,255, 0), (0,255,255)]  # bgr colors\n",
    "past_color = (255, 0, 0)\n",
    "future_color = (0, 0, 255)\n",
    "dot_radius = 4\n",
    "line_thickness = 2\n",
    "video_width = 1280\n",
    "out_path = f'../labelled/{trial}_preds.mp4'\n",
    "############\n",
    "\n",
    "hit_predictors = [predictor.HitPredictor(p, None, prediction_y_threshold=y_thresh) for p in [kalman_predictor] + seq2seq_models]\n",
    "bboxes = all_df.loc[trial][['x1', 'y1', 'x2', 'y2']].values\n",
    "num_frames = end_frame - start_frame if end_frame is not None else None\n",
    "\n",
    "predictor_visualizers = [\n",
    "    visualize.offline_predictor_visualizer(\n",
    "        p, \n",
    "        bboxes, \n",
    "        prediction_color=c,\n",
    "        hit_color=c,\n",
    "        dot_radius=dot_radius,\n",
    "        line_thickness=line_thickness) for p, c in zip(hit_predictors, colors)\n",
    "]\n",
    "\n",
    "visualize.process_video(\n",
    "    video_path=vid_path,\n",
    "    output_path=out_path,\n",
    "    process_fns=(\n",
    "        [visualize.offline_trajectory_visualizer(\n",
    "             bboxes,\n",
    "             past_color=past_color,\n",
    "             future_color=future_color,\n",
    "             dot_radius=dot_radius,\n",
    "             past_length=net_params['inp_seq_len'],\n",
    "             future_length=net_params['out_seq_len']\n",
    "         ),\n",
    "         visualize.offline_bbox_visualizer(\n",
    "             bboxes, \n",
    "             color=(0, 0, 0), \n",
    "             line_thickness=line_thickness,\n",
    "             window_size=1\n",
    "         ),\n",
    "        visualize.offline_centroid_visualizer(\n",
    "              bboxes, \n",
    "              color=(0, 0, 0), \n",
    "              dot_radius=dot_radius*2,\n",
    "              window_size=1\n",
    "          ),\n",
    "         ] +         \n",
    "        predictor_visualizers \n",
    "    ),\n",
    "    correction_fn=correction_fn,\n",
    "    start_frame=start_frame,\n",
    "    num_frames=num_frames,\n",
    "    resize_to_width=video_width\n",
    ")"
   ]
  },
  {
   "cell_type": "markdown",
   "metadata": {},
   "source": [
    "### Video sequence widget\n",
    "\n",
    "An interactive widget to explore trajectories and predictions along the source video frames."
   ]
  },
  {
   "cell_type": "code",
   "execution_count": 58,
   "metadata": {},
   "outputs": [
    {
     "name": "stdout",
     "output_type": "stream",
     "text": [
      "52 masked out of 8770\n"
     ]
    }
   ],
   "source": [
    "start, end = trials_slicing[trial]\n",
    "X_trial = seq_X[start : end]\n",
    "Y_trial = seq_Y[start : end]\n",
    "\n",
    "np.warnings.filterwarnings('ignore')\n",
    "trial_mask = mask_fn(X_trial, Y_trial)\n",
    "np.warnings.filterwarnings('default')\n",
    "passed_mask = trial_mask.sum()\n",
    "print(f'{passed_mask} masked out of {X_trial.shape[0]}')"
   ]
  },
  {
   "cell_type": "code",
   "execution_count": 59,
   "metadata": {},
   "outputs": [],
   "source": [
    "def seq4_to_middle(seq_data):\n",
    "    \"\"\"xyxy bbox to center bottom edge coordinates\"\"\"\n",
    "    squeeze = False\n",
    "    if len(seq_data.shape) == 2:\n",
    "        squeeze = True\n",
    "        seq_data = seq_data[None, :, :]\n",
    "    \n",
    "    # get (batch, seq, 4), xyxy, return (batch, seq, 2) xy, where x (x1+x2)/2\n",
    "    X1, Y1, X2, Y2 = 0, 1, 2, 3\n",
    "    ret = np.stack([(seq_data[:,:,X1] + seq_data[:,:,X2])/2, seq_data[:,:,Y2]], axis=2)\n",
    "    if squeeze:\n",
    "        return ret.squeeze()\n",
    "    return ret"
   ]
  },
  {
   "cell_type": "code",
   "execution_count": 60,
   "metadata": {},
   "outputs": [
    {
     "name": "stderr",
     "output_type": "stream",
     "text": [
      "/home/user/miniconda/envs/py37/lib/python3.7/site-packages/ipywidgets/widgets/widget.py:412: DeprecationWarning: Passing unrecoginized arguments to super(Canvas).__init__().\n",
      "__init__() missing 1 required positional argument: 'figure'\n",
      "This is deprecated in traitlets 4.2.This error will be raised in a future release of traitlets.\n",
      "  super(Widget, self).__init__(**kwargs)\n",
      "/home/user/miniconda/envs/py37/lib/python3.7/site-packages/ipywidgets/widgets/widget.py:412: DeprecationWarning: Passing unrecoginized arguments to super(Toolbar).__init__().\n",
      "__init__() missing 1 required positional argument: 'canvas'\n",
      "This is deprecated in traitlets 4.2.This error will be raised in a future release of traitlets.\n",
      "  super(Widget, self).__init__(**kwargs)\n"
     ]
    },
    {
     "data": {
      "application/vnd.jupyter.widget-view+json": {
       "model_id": "e2ef84d521d44aea8b2bbab55a93cc72",
       "version_major": 2,
       "version_minor": 0
      },
      "text/plain": [
       "Canvas(toolbar=Toolbar(toolitems=[('Home', 'Reset original view', 'home', 'home'), ('Back', 'Back to previous …"
      ]
     },
     "metadata": {},
     "output_type": "display_data"
    },
    {
     "data": {
      "text/plain": [
       "0"
      ]
     },
     "execution_count": 60,
     "metadata": {},
     "output_type": "execute_result"
    }
   ],
   "source": [
    "from matplotlib.collections import LineCollection\n",
    "import matplotlib.patches as patches\n",
    "%matplotlib widget\n",
    "\n",
    "figsize=(5,7)\n",
    "\n",
    "# choose random sequence\n",
    "if not np.any(trial_mask):\n",
    "    raise Exception('Data mask is all False')\n",
    "seq_num = np.random.choice(np.argwhere(trial_mask).squeeze())\n",
    "\n",
    "total_timesteps = net_params['inp_seq_len'] + net_params['out_seq_len']\n",
    "\n",
    "X = X_trial[seq_num]\n",
    "Y = Y_trial[seq_num]\n",
    "\n",
    "seq = seq4_to_middle(X), seq4_to_middle(Y)\n",
    "alpha = 1/(total_timesteps)\n",
    "frames = visualize.get_vid_frames(vid_path, seq_num, total_timesteps, correction_fn)\n",
    "fig, ax = plt.subplots(1, figsize=figsize)\n",
    "plt.subplots_adjust(left=0.1, bottom=0.1)\n",
    "\n",
    "fig.suptitle(f\"Trial: {trial} sequence num: {seq_num}\\n masked: {trial_mask.sum()}\")\n",
    "\n",
    "ax_im = ax.imshow(frames[0])\n",
    "\n",
    "bbox = patches.Rectangle(\n",
    "    X[0, :2], X[0, 2] - X[0, 0], X[0, 3] - X[0, 1],\n",
    "    linewidth=1, edgecolor='black', facecolor=\"none\"\n",
    ")\n",
    "ax.add_patch(bbox)\n",
    "\n",
    "visualize.draw_sequences(X, Y, None, ax, draw_diffs=False, tensor_func=seq4_to_middle)\n",
    "\n",
    "ax_cur_point = ax.scatter(seq[0][0, 0], seq[0][0, 1], c='g')\n",
    "\n",
    "\"\"\"\n",
    "X1, Y1, X2, Y2 = 0, 1, 2, 3\n",
    "X_x1y2 = X[:,[X1,Y2]]\n",
    "Y_x1y2 = Y[:,[X1,Y2]]\n",
    "X_x2y2 = X[:,X2:]\n",
    "Y_x2y2 = Y[:,X2:]\n",
    "\n",
    "visualize.draw_sequences(X, Y, None, ax, draw_diffs=False, tensor_func=lambda x: x[:, :, [X1, Y2]])\n",
    "visualize.draw_sequences(X, Y, None, ax, draw_diffs=False, tensor_func=lambda x: x[:, :, 2:])\n",
    "\n",
    "ls = [np.array([np.concatenate([X_x1y2,Y_x1y2])[i], np.concatenate([X_x2y2,Y_x2y2])[i]]) for i in range(total_timesteps)]\n",
    "ax.add_collection(LineCollection(segments=ls, colors=['y'],alpha=0.5, zorder=1))\n",
    "curr = ax.add_collection(LineCollection(segments=[ls[0]], colors=['g'],alpha=0.5, zorder=2))\n",
    "\"\"\"\n",
    "\n",
    "slider_ax = plt.axes([0.145, 0, 0.71, 0.03], facecolor='lightgoldenrodyellow')\n",
    "slider = Slider(slider_ax, \"timestep\", 0, total_timesteps, valinit=0, valstep=1)\n",
    "\n",
    "def update_timestep(t):\n",
    "    t = int(t)\n",
    "    ax_im.set_data(frames[t])\n",
    "    if t >= net_params['inp_seq_len']:\n",
    "        idx = t - net_params['inp_seq_len']\n",
    "        bbox.set_xy(Y[idx, :2])\n",
    "        bbox.set_width(Y[idx, 2] - Y[idx, 0])\n",
    "        bbox.set_height(Y[idx, 3] - Y[idx, 1])\n",
    "        ax_cur_point.set_offsets([seq[1][idx, 0], seq[1][idx, 1]])        \n",
    "    else:\n",
    "        bbox.set_xy(X[t, :2])\n",
    "        bbox.set_width(X[t, 2] - X[t, 0])\n",
    "        bbox.set_height(X[t, 3] - X[t, 1])\n",
    "        ax_cur_point.set_offsets([seq[0][t, 0], seq[0][t, 1]])        \n",
    "        \n",
    "    fig.canvas.draw()\n",
    "    \n",
    "fig.set_facecolor(color='w')\n",
    "slider.on_changed(update_timestep)"
   ]
  },
  {
   "cell_type": "code",
   "execution_count": null,
   "metadata": {},
   "outputs": [],
   "source": []
  }
 ],
 "metadata": {
  "kernelspec": {
   "display_name": "Python [conda env:py37]",
   "language": "python",
   "name": "conda-env-py37-py"
  },
  "language_info": {
   "codemirror_mode": {
    "name": "ipython",
    "version": 3
   },
   "file_extension": ".py",
   "mimetype": "text/x-python",
   "name": "python",
   "nbconvert_exporter": "python",
   "pygments_lexer": "ipython3",
   "version": "3.7.7"
  },
  "toc-autonumbering": true,
  "toc-showcode": false,
  "toc-showmarkdowntxt": false,
  "toc-showtags": false
 },
 "nbformat": 4,
 "nbformat_minor": 4
}
