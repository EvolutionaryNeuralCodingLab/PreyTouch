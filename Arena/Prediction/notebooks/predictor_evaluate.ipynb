{
 "cells": [
  {
   "cell_type": "markdown",
   "metadata": {},
   "source": [
    "# Predictor Evaluation and Visualization"
   ]
  },
  {
   "cell_type": "code",
   "execution_count": 1,
   "metadata": {},
   "outputs": [],
   "source": [
    "import os\n",
    "os.chdir('/app/Pogona_realtime/Arena')"
   ]
  },
  {
   "cell_type": "markdown",
   "metadata": {},
   "source": [
    "## Imports"
   ]
  },
  {
   "cell_type": "code",
   "execution_count": 22,
   "metadata": {},
   "outputs": [],
   "source": [
    "import numpy as np\n",
    "import pandas as pd\n",
    "import pickle\n",
    "import imp\n",
    "import json\n",
    "import matplotlib.pyplot as plt\n",
    "from matplotlib.collections import LineCollection\n",
    "from matplotlib.widgets import Slider, Button\n",
    "import seaborn as sns\n",
    "#from tqdm.auto import tqdm\n",
    "from tqdm import tqdm\n",
    "import torch\n",
    "import glob\n",
    "from datetime import datetime\n",
    "import cv2 as cv\n",
    "from scipy.stats import pearsonr\n",
    "\n",
    "\n",
    "from Prediction import dataset\n",
    "from Prediction import train_eval\n",
    "from Prediction import predictor\n",
    "from Prediction import visualize\n",
    "from Prediction import detector\n",
    "from Prediction import kalman_predict\n",
    "from Prediction import seq2seq_predict\n",
    "from Prediction import calibration as calib\n",
    "from Prediction import traj_models"
   ]
  },
  {
   "cell_type": "code",
   "execution_count": 128,
   "metadata": {},
   "outputs": [
    {
     "data": {
      "text/plain": [
       "<module 'Prediction.kalman_predict' from '/app/Pogona_realtime/Arena/Prediction/kalman_predict.py'>"
      ]
     },
     "execution_count": 128,
     "metadata": {},
     "output_type": "execute_result"
    }
   ],
   "source": [
    "imp.reload(dataset)\n",
    "imp.reload(train_eval)\n",
    "imp.reload(seq2seq_predict)\n",
    "imp.reload(predictor)\n",
    "imp.reload(visualize)\n",
    "imp.reload(detector)\n",
    "imp.reload(dataset)\n",
    "imp.reload(kalman_predict)"
   ]
  },
  {
   "cell_type": "markdown",
   "metadata": {},
   "source": [
    "## Load data"
   ]
  },
  {
   "cell_type": "code",
   "execution_count": 3,
   "metadata": {},
   "outputs": [
    {
     "name": "stdout",
     "output_type": "stream",
     "text": [
      "110 trials loaded\n"
     ]
    }
   ],
   "source": [
    "all_df = dataset.collect_data(data_sources={'detections': True, 'timestamps': True, 'dlc': False, 'touches': True})"
   ]
  },
  {
   "cell_type": "code",
   "execution_count": 4,
   "metadata": {},
   "outputs": [],
   "source": [
    "trials = all_df.index.unique()"
   ]
  },
  {
   "cell_type": "markdown",
   "metadata": {},
   "source": [
    "## Load Trajectory Predictor and Hit Predictor"
   ]
  },
  {
   "cell_type": "markdown",
   "metadata": {},
   "source": [
    "### Predictor parameters"
   ]
  },
  {
   "cell_type": "code",
   "execution_count": 5,
   "metadata": {},
   "outputs": [],
   "source": [
    "input_labels = ['x1', 'y1', 'x2', 'y2']\n",
    "output_labels = ['x1', 'y1', 'x2', 'y2']\n",
    "net_params = {\n",
    "    'input_labels': input_labels,\n",
    "    'output_labels': output_labels,\n",
    "    'input_dim': len(input_labels),\n",
    "    'output_dim': len(output_labels),\n",
    "    'inp_seq_len': 20,\n",
    "    'out_seq_len': 20,\n",
    "    'embedding_size': None,  # only used in supporting models.\n",
    "    'hidden_size': 350,\n",
    "    'rnn_layers': 1,\n",
    "    'dropout': 0.05,\n",
    "}\n"
   ]
  },
  {
   "cell_type": "code",
   "execution_count": 6,
   "metadata": {},
   "outputs": [],
   "source": [
    "# Kalman Trajectory Predictor\n",
    "traj_predictor = kalman_predict.KalmanPredictor(forecast_horizon=20, \n",
    "                                                num_derivatives=1, \n",
    "                                                q_var=2.145, r_var=120.0)"
   ]
  },
  {
   "cell_type": "code",
   "execution_count": 7,
   "metadata": {},
   "outputs": [
    {
     "name": "stderr",
     "output_type": "stream",
     "text": [
      "/home/user/miniconda/envs/py37/lib/python3.7/site-packages/torch/nn/modules/rnn.py:60: UserWarning: dropout option adds dropout after all but last recurrent layer, so non-zero dropout expects num_layers greater than 1, but got dropout=0.05 and num_layers=1\n",
      "  \"num_layers={}\".format(dropout, num_layers))\n"
     ]
    }
   ],
   "source": [
    "model_path_lstm = 'Prediction/traj_models/LSTMdense_1004-1803_i20_o20_h350_l1_40_best.pth'\n",
    "\n",
    "model_type = 'LSTMdense'\n",
    "net_lstm = seq2seq_predict.LSTMdense(net_params['out_seq_len'], \n",
    "                                hidden_size=net_params['hidden_size'], \n",
    "                                embedding_size=net_params['embedding_size'], \n",
    "                                LSTM_layers=net_params['rnn_layers'], \n",
    "                                dropout=net_params['dropout'])"
   ]
  },
  {
   "cell_type": "code",
   "execution_count": 8,
   "metadata": {},
   "outputs": [],
   "source": [
    "#model_path = 'Prediction/traj_models/GRUEncDec_1004-2056_i20_o20_h350_l1_wl_best.pth'\n",
    "#model_path_gru = 'Prediction/traj_models/GRUEncDecSched_1004-2307_i20_o20_h350_l1_best.pth'\n",
    "#model_path = 'Prediction/traj_models/GRUEncDecSched_1004-2307_i20_o20_h350_l1_final.pth'\n",
    "#model_path = 'Prediction/traj_models/GRUEncDecSched_1004-2325_i20_o20_h512_l1_best.pth'\n",
    "#model_path = 'Prediction/traj_models/GRUEncDec_1005-1509_i20_o20_h350_l1_final.pth'\n",
    "#model_path = 'Prediction/traj_models/GRUEncDec_1005-1735_i20_o20_h350_l1_extreme_mask_final.pth'\n",
    "#model_path = 'Prediction/traj_models/GRUEncDec_1005-1735_i20_o20_h350_l1_extreme_mask_best.pth'\n",
    "#model_path = 'Prediction/traj_models/GRUEncDec_1005-1105_i20_o10_h350_l1_best.pth'\n",
    "#model_path_gru = 'Prediction/traj_models/GRUEncDec_1005-1938_i20_o20_h350_l1_extreme_mask2_best.pth'\n",
    "#model_path_gru = 'Prediction/traj_models/GRUEncDec_1005-1509_i20_o20_h350_l1_final.pth'\n",
    "#model_path_gru = 'Prediction/traj_models/GRUEncDecSched_1007-1914_i20_o20_h350_l1_high_mask_sched_best.pth'\n",
    "model_path_gru = 'Prediction/traj_models/GRUEncDecSched_1007-1950_i20_o20_h350_l1_z1.2_sched_best.pth'\n",
    "\n",
    "model_type = 'GRUEncDec'\n",
    "net_gru = seq2seq_predict.GRUEncDec(output_seq_size=net_params['out_seq_len'], \n",
    "                                hidden_size=net_params['hidden_size'],\n",
    "                                GRU_layers=net_params['rnn_layers'],\n",
    "                                tie_enc_dec=False, use_gru_cell=True, \n",
    "                                dropout=net_params['dropout'])"
   ]
  },
  {
   "cell_type": "code",
   "execution_count": 9,
   "metadata": {},
   "outputs": [],
   "source": [
    "# Seq2Seq Trajectory Predictor\n",
    "traj_predictor_kalman = kalman_predict.KalmanPredictor(forecast_horizon=20, \n",
    "                                                num_derivatives=1, \n",
    "                                                q_var=2.145, r_var=120.0)\n",
    "#traj_predictor_lstm = seq2seq_predict.Seq2SeqPredictor(net_lstm, model_path_lstm, net_params['inp_seq_len'], net_params['out_seq_len'])\n",
    "traj_predictor_gru = seq2seq_predict.Seq2SeqPredictor(net_gru, model_path_gru, net_params['inp_seq_len'], net_params['out_seq_len'])"
   ]
  },
  {
   "cell_type": "code",
   "execution_count": 10,
   "metadata": {},
   "outputs": [],
   "source": [
    "hit_predictor = predictor.HitPredictor(traj_predictor_gru, detector=None)"
   ]
  },
  {
   "cell_type": "markdown",
   "metadata": {},
   "source": [
    "### Masking"
   ]
  },
  {
   "cell_type": "code",
   "execution_count": 11,
   "metadata": {},
   "outputs": [],
   "source": [
    "def rad(deg):\n",
    "    return deg*(np.pi/180) "
   ]
  },
  {
   "cell_type": "code",
   "execution_count": 12,
   "metadata": {},
   "outputs": [],
   "source": [
    "INF_P = 9999999\n",
    "\n",
    "mask_dict = {\n",
    "    'fl_dist': [0, INF_P, True, True], # min, max, mask_X, mask_Y\n",
    "    'speed': [8, INF_P, True, True],\n",
    "    'std': [0.0, INF_P, [0,1]],\n",
    "    'corr': [0.0, 1.0, True, True],\n",
    "    'zgzg': [0, 1.5, True, True],\n",
    "    'keep_prob': 0.0\n",
    "}\n",
    "\n",
    "mask_fn = train_eval.compose_masks(mask_fns=[\n",
    "    train_eval.mask_fl_dist(*mask_dict['fl_dist']),\n",
    "    train_eval.mask_speed(*mask_dict['speed']),\n",
    "    train_eval.mask_std(*mask_dict['std']),\n",
    "    train_eval.mask_corr(*mask_dict['corr']),\n",
    "    train_eval.mask_zgzg(*mask_dict['zgzg'])\n",
    "    ], invert=False)"
   ]
  },
  {
   "cell_type": "markdown",
   "metadata": {},
   "source": [
    "### Draw sequences function"
   ]
  },
  {
   "cell_type": "code",
   "execution_count": 20,
   "metadata": {},
   "outputs": [],
   "source": [
    "def draw_sequences(arr_X,\n",
    "                   arr_Y,\n",
    "                   arr_pred,\n",
    "                   ax,\n",
    "                   to_scatter=True,\n",
    "                   l_alpha=0.35,\n",
    "                   sctr_s=0.5,\n",
    "                   sctr_alpha=1,\n",
    "                   past_c='b', ftr_c='r', pred_c='g', diff_c='k',\n",
    "                   xlabel = 'past',\n",
    "                   ylabel = 'future',\n",
    "                   draw_diffs=True):\n",
    "    \n",
    "    \n",
    "    if arr_X is not None:\n",
    "        if len(arr_X.shape)==2:\n",
    "            arr_X = arr_X.reshape(1,arr_X.shape[0],arr_X.shape[1])\n",
    "    if arr_Y is not None:\n",
    "        if len(arr_Y.shape)==2:\n",
    "            arr_Y = arr_Y.reshape(1,arr_Y.shape[0],arr_Y.shape[1])\n",
    "    if draw_diffs:\n",
    "        if len(arr_pred.shape)==2:\n",
    "            arr_pred = arr_pred.reshape(1,arr_pred.shape[0],arr_pred.shape[1])\n",
    "    \n",
    "    if arr_X is not None:\n",
    "        ax.add_collection(LineCollection(segments=[seq for seq in arr_X[:,:,:2]], colors=[past_c], label=xlabel,alpha=l_alpha))\n",
    "    if arr_Y is not None:\n",
    "        ax.add_collection(LineCollection(segments=[seq for seq in arr_Y[:,:,:2]], colors=[ftr_c], label=ylabel,alpha=l_alpha))\n",
    "    if draw_diffs:\n",
    "        ax.add_collection(LineCollection(segments=[seq for seq in arr_pred[:,:,:2]], colors=[pred_c],label='pred',alpha=l_alpha))\n",
    "        diffs = [np.array([arr_pred[j,i,:2],arr_Y[j,i,:2]]) for i in range(arr_pred.shape[1]) for j in range(arr_pred.shape[0])]\n",
    "        ax.add_collection(LineCollection(segments=diffs, colors=[diff_c],label='diff',alpha=l_alpha))\n",
    "    if to_scatter:\n",
    "        if arr_X is not None:\n",
    "            ax.scatter(arr_X[:,:,0], arr_X[:,:,1], s=sctr_s, color=past_c, alpha=sctr_alpha)\n",
    "        if arr_Y is not None:\n",
    "            ax.scatter(arr_Y[:,:,0], arr_Y[:,:,1], s=sctr_s, color=ftr_c, alpha=sctr_alpha)\n",
    "        if draw_diffs:\n",
    "            ax.scatter(arr_pred[:,:,0], arr_pred[:,:,1], s=sctr_s, color=pred_c, alpha=sctr_alpha)\n",
    "\n"
   ]
  },
  {
   "cell_type": "markdown",
   "metadata": {},
   "source": [
    "### Produce video"
   ]
  },
  {
   "cell_type": "code",
   "execution_count": 151,
   "metadata": {},
   "outputs": [],
   "source": [
    "trial = 'learning_20200917T154539_trial3'\n",
    "homography = dataset.homography_for_trial(trial)\n",
    "correction_fn = visualize.get_correction_fn(homography,1920)\n",
    "vid_path = dataset.get_trial_video_path(trial)\n",
    "bboxes = all_df.loc[trial][['x1', 'y1', 'x2', 'y2']].values"
   ]
  },
  {
   "cell_type": "code",
   "execution_count": 159,
   "metadata": {},
   "outputs": [
    {
     "name": "stderr",
     "output_type": "stream",
     "text": [
      "100%|██████████| 2977/2977 [01:21<00:00, 36.34it/s]\n"
     ]
    }
   ],
   "source": [
    "out_path = f'../labelled/{trial}_check.mp4'\n",
    "visualize.process_video(video_path=vid_path,\n",
    "                        output_path=out_path,\n",
    "                        process_fns=[visualize.offline_bbox_visualizer(bboxes, window_size=1)],\n",
    "                        correction_fn = correction_fn,\n",
    "                        #num_frames=500,\n",
    "                        resize_to_width=960)"
   ]
  },
  {
   "cell_type": "markdown",
   "metadata": {},
   "source": [
    "## Video sequence widget"
   ]
  },
  {
   "cell_type": "code",
   "execution_count": 13,
   "metadata": {},
   "outputs": [
    {
     "data": {
      "text/plain": [
       "'fast_cockroach_20200803T085738_trial1'"
      ]
     },
     "execution_count": 13,
     "metadata": {},
     "output_type": "execute_result"
    }
   ],
   "source": [
    "#trial = trials[0]\n",
    "trial = 'fast_cockroach_20200803T085738_trial1'\n",
    "trial_df = all_df.loc[trial]\n",
    "vid_path = dataset.get_trial_video_path(trial)\n",
    "homography = dataset.homography_for_trial(trial)\n",
    "correction_fn = visualize.get_correction_fn(homography, 1920)\n",
    "trial"
   ]
  },
  {
   "cell_type": "code",
   "execution_count": 14,
   "metadata": {},
   "outputs": [
    {
     "ename": "NameError",
     "evalue": "name 'val_trials' is not defined",
     "output_type": "error",
     "traceback": [
      "\u001b[0;31m\u001b[0m",
      "\u001b[0;31mNameError\u001b[0mTraceback (most recent call last)",
      "\u001b[0;32m<ipython-input-14-c1e8b2a2ade2>\u001b[0m in \u001b[0;36m<module>\u001b[0;34m\u001b[0m\n\u001b[0;32m----> 1\u001b[0;31m \u001b[0mval_trials\u001b[0m\u001b[0;34m\u001b[0m\u001b[0;34m\u001b[0m\u001b[0m\n\u001b[0m",
      "\u001b[0;31mNameError\u001b[0m: name 'val_trials' is not defined"
     ]
    }
   ],
   "source": [
    "val_trials"
   ]
  },
  {
   "cell_type": "code",
   "execution_count": 15,
   "metadata": {},
   "outputs": [],
   "source": [
    "X_trial, Y_trial = train_eval.trial_to_samples(trial_df,\n",
    "                                               net_params['input_labels'], net_params['output_labels'], \n",
    "                                               net_params['inp_seq_len'], net_params['out_seq_len'], \n",
    "                                               keep_nans=True)\n",
    "\n",
    "#X_trial, Y_trial = X_trial.numpy(), Y_trial.numpy()"
   ]
  },
  {
   "cell_type": "code",
   "execution_count": 16,
   "metadata": {},
   "outputs": [],
   "source": [
    "def get_vid_frames(vid_path, start, num, correction_fn=None):\n",
    "    vcap = cv.VideoCapture(vid_path)\n",
    "    vcap.set(cv.CAP_PROP_POS_FRAMES, start)\n",
    "    frames = []\n",
    "    for i in range(num):\n",
    "        ret, frame = vcap.read()\n",
    "        if correction_fn:\n",
    "            frame = correction_fn(frame)\n",
    "        frames.append(frame)\n",
    "        \n",
    "    return frames"
   ]
  },
  {
   "cell_type": "code",
   "execution_count": 17,
   "metadata": {},
   "outputs": [
    {
     "name": "stdout",
     "output_type": "stream",
     "text": [
      "98 masked out of 5042\n"
     ]
    }
   ],
   "source": [
    "trial_mask = mask_fn(X_trial, Y_trial)\n",
    "passed_mask = trial_mask.sum()\n",
    "print(f'{passed_mask} masked out of {X_trial.shape[0]}')"
   ]
  },
  {
   "cell_type": "code",
   "execution_count": 18,
   "metadata": {},
   "outputs": [],
   "source": [
    "def seq4_to_middle(seq_data):\n",
    "    squeeze = False\n",
    "    if len(seq_data.shape) == 2:\n",
    "        squeeze = True\n",
    "        seq_data = seq_data[None, :, :]\n",
    "    \n",
    "    # get (batch, seq, 4), xyxy, return (batch, seq, 2) xy, where x (x1+x2)/2\n",
    "    X1, Y1, X2, Y2 = 0, 1, 2, 3\n",
    "    ret = np.stack([(seq_data[:,:,X1] + seq_data[:,:,X2])/2, seq_data[:,:,Y2]], axis=2)\n",
    "    if squeeze:\n",
    "        return ret.squeeze()\n",
    "    return ret\n",
    "    "
   ]
  },
  {
   "cell_type": "code",
   "execution_count": 490,
   "metadata": {},
   "outputs": [
    {
     "data": {
      "text/plain": [
       "array([[869.51444588, 184.08470376],\n",
       "       [870.11894514, 174.77115829],\n",
       "       [871.29359239, 181.04663641],\n",
       "       [871.72086996, 181.95721562],\n",
       "       [874.08590162, 177.79633321],\n",
       "       [873.71310247, 179.12505127],\n",
       "       [876.39510265, 179.05674795],\n",
       "       [878.73177248, 176.70962053],\n",
       "       [882.01277853, 172.42438173],\n",
       "       [889.67631174, 172.46445034],\n",
       "       [909.78288072, 181.54433561],\n",
       "       [918.46415907, 182.95965281],\n",
       "       [927.98245801, 178.78928686],\n",
       "       [935.22107766, 179.37727388],\n",
       "       [940.18026603, 177.27765186],\n",
       "       [940.26050494, 178.18795021],\n",
       "       [942.35379448, 177.75443285],\n",
       "       [944.03819049, 175.30725155],\n",
       "       [947.5473625 , 177.13866057],\n",
       "       [952.45230703, 174.95728649]])"
      ]
     },
     "execution_count": 490,
     "metadata": {},
     "output_type": "execute_result"
    }
   ],
   "source": [
    "X_x1y2"
   ]
  },
  {
   "cell_type": "code",
   "execution_count": 502,
   "metadata": {},
   "outputs": [
    {
     "data": {
      "text/plain": [
       "array([873.71310247, 179.12505127])"
      ]
     },
     "execution_count": 502,
     "metadata": {},
     "output_type": "execute_result"
    }
   ],
   "source": [
    "np.concatenate([X_x1y2,Y_x1y2])[5]"
   ]
  },
  {
   "cell_type": "code",
   "execution_count": 21,
   "metadata": {},
   "outputs": [
    {
     "data": {
      "application/vnd.jupyter.widget-view+json": {
       "model_id": "5d98cc8f3f6a49ed8212163d55855005",
       "version_major": 2,
       "version_minor": 0
      },
      "text/plain": [
       "Canvas(toolbar=Toolbar(toolitems=[('Home', 'Reset original view', 'home', 'home'), ('Back', 'Back to previous …"
      ]
     },
     "metadata": {},
     "output_type": "display_data"
    },
    {
     "data": {
      "text/plain": [
       "0"
      ]
     },
     "execution_count": 21,
     "metadata": {},
     "output_type": "execute_result"
    }
   ],
   "source": [
    "%matplotlib widget\n",
    "\n",
    "X1, Y1, X2, Y2 = 0, 1, 2, 3\n",
    "\n",
    "# choose random sequnce\n",
    "if not np.any(trial_mask):\n",
    "    raise Exception('Data mask is all False')\n",
    "seq_num = np.random.choice(np.argwhere(trial_mask).squeeze())\n",
    "\n",
    "total_timesteps = net_params['inp_seq_len'] + net_params['out_seq_len']\n",
    "\n",
    "seq = seq4_to_middle(X_trial[seq_num]), seq4_to_middle(Y_trial[seq_num])\n",
    "alpha = 1/(total_timesteps)\n",
    "cat_seq = np.concatenate(seq)\n",
    "frames = get_vid_frames(vid_path, seq_num, total_timesteps, correction_fn)\n",
    "\n",
    "fig, ax = plt.subplots(1, 1, figsize=(8,13))\n",
    "plt.subplots_adjust(left=0.25, bottom=0.1)\n",
    "fig.suptitle(f\"Trial: {trial} sequence num: {seq_num}\\n masked: {trial_mask.sum()}\")\n",
    "\n",
    "ax_im = ax.imshow(frames[0])\n",
    "#draw_sequences(X_trial[seq_num][:,X2:], Y_trial[seq_num][:,X2:], None, ax, draw_diffs=False)\n",
    "#draw_sequences(seq4_to_middle(X_trial[seq_num]), seq4_to_middle(Y_trial[seq_num]), None, ax, draw_diffs=False)\n",
    "X_x1y2 = X_trial[seq_num][:,[X1,Y2]]\n",
    "Y_x1y2 = Y_trial[seq_num][:,[X1,Y2]]\n",
    "\n",
    "X_x2y2 = X_trial[seq_num][:,X2:]\n",
    "Y_x2y2 = Y_trial[seq_num][:,X2:]\n",
    "draw_sequences(X_x1y2, Y_x1y2 , None, ax, draw_diffs=False)\n",
    "draw_sequences(X_x2y2, Y_x2y2 , None, ax, draw_diffs=False)\n",
    "\n",
    "\n",
    "ls = [np.array([np.concatenate([X_x1y2,Y_x1y2])[i], np.concatenate([X_x2y2,Y_x2y2])[i]]) for i in range(total_timesteps)]\n",
    "ax.add_collection(LineCollection(segments=ls, colors=['y'],alpha=0.5, zorder=1))\n",
    "curr = ax.add_collection(LineCollection(segments=[ls[0]], colors=['g'],alpha=0.5, zorder=2))\n",
    "\n",
    "\n",
    "#ax_cur_point = ax.scatter(seq[0][0, X2], seq[0][0, Y2], c='g')\n",
    "#ax_cur_point = ax.scatter(seq[0][0, 0], seq[0][0, 1], c='g')\n",
    "\n",
    "\n",
    "slider_ax = plt.axes([0.25, 0.1, 0.65, 0.03], facecolor='lightgoldenrodyellow')\n",
    "slider = Slider(slider_ax, \"timestep\", 0, total_timesteps, valinit=0, valstep=1)\n",
    "\n",
    "\n",
    "def update_timestep(t):\n",
    "    t = int(t)\n",
    "    ax_im.set_data(frames[t])\n",
    "    if t >= net_params['inp_seq_len']:\n",
    "        idx = t - net_params['inp_seq_len']\n",
    "        #ax_cur_point.set_offsets([seq[1][idx, X2], seq[1][idx, Y2]])\n",
    "        #ax_cur_point.set_offsets([seq[1][idx, 0], seq[1][idx, 1]])\n",
    "    else:\n",
    "        pass\n",
    "        #ax_cur_point.set_offsets([seq[0][t, X2], seq[0][t, Y2]])\n",
    "        #ax_cur_point.set_offsets([seq[0][t, 0], seq[0][t, 1]])\n",
    "    \n",
    "    \n",
    "    fig.canvas.draw_idle()\n",
    "fig.set_facecolor(color='w')\n",
    "slider.on_changed(update_timestep)\n"
   ]
  },
  {
   "cell_type": "markdown",
   "metadata": {},
   "source": [
    "## Timing distributions"
   ]
  },
  {
   "cell_type": "code",
   "execution_count": 53,
   "metadata": {},
   "outputs": [],
   "source": [
    "eval_results_kalman = eval_results\n",
    "kalman_times = np.array(eval_results_kalman['times'])"
   ]
  },
  {
   "cell_type": "code",
   "execution_count": 54,
   "metadata": {},
   "outputs": [
    {
     "data": {
      "text/plain": [
       "0.18052204554767454"
      ]
     },
     "execution_count": 54,
     "metadata": {},
     "output_type": "execute_result"
    }
   ],
   "source": [
    "eval_results['avg time (ms)']"
   ]
  },
  {
   "cell_type": "code",
   "execution_count": 80,
   "metadata": {},
   "outputs": [
    {
     "data": {
      "image/png": "[encoded data removed]",
      "text/plain": [
       "<Figure size 432x288 with 1 Axes>"
      ]
     },
     "metadata": {
      "needs_background": "light"
     },
     "output_type": "display_data"
    }
   ],
   "source": [
    "sns.distplot(lstm_times[lstm_times < 0.005]*1000, bins=100, kde=False, label='Enc-Linear 20-20')\n",
    "sns.distplot(gru20_times[gru20_times < 0.005]*1000, bins=100, kde=False, label='Enc-Dec 20-20')\n",
    "sns.distplot(gru10_times[gru10_times < 0.005]*1000, bins=100, kde=False, label='Enc-Dec 20-10')\n",
    "sns.distplot(kalman_times[kalman_times < 0.005]*1000, bins=100, kde=False, label='Kalman Filter')\n",
    "plt.legend()\n",
    "plt.xticks(np.arange(0, 5, 0.5))\n",
    "plt.xlabel('millisecond')\n",
    "plt.ylim((0, 1500))\n",
    "plt.savefig('../experiments_plots/all_timings.png', dpi=200)"
   ]
  },
  {
   "cell_type": "code",
   "execution_count": 70,
   "metadata": {},
   "outputs": [
    {
     "data": {
      "image/png": "[encoded data removed]",
      "text/plain": [
       "<Figure size 432x288 with 1 Axes>"
      ]
     },
     "metadata": {
      "needs_background": "light"
     },
     "output_type": "display_data"
    }
   ],
   "source": [
    "sns.distplot(kalman_times[kalman_times < 0.001]*1000, bins=100, kde=False, label='Kalman Filter')\n",
    "plt.legend()\n",
    "plt.xlabel('millisecond')\n",
    "plt.savefig('../experiments_plots/kalman_timings.png', dpi=200)"
   ]
  },
  {
   "cell_type": "markdown",
   "metadata": {},
   "source": [
    "## Evaluate Hit Predictor"
   ]
  },
  {
   "cell_type": "markdown",
   "metadata": {},
   "source": [
    "#### Hit predictor notes\n",
    "Hit Prediction Evalutaion:<br>\n",
    "For a trial with hit events, need to implement a function that outputs a structure that \n",
    "saves for each frame with a hit event, the forecasts that predicted a hit that occurs in that frame,\n",
    "and the x values of every such prediction. The rationale for saving all of the forecasts that predicted a hit in a certain frame\n",
    "is the that good predictions will ideally converge over consecutive forecasts.\n",
    "\n",
    "Structure:<br>\n",
    "For each frame in the video, create an array with dimensions forecast_horizon X 2 \n",
    "(maybe just a 3d array, something like in predictions_per_step, and also save the x values)\n",
    "Other idea - 2d array, (num_frames) X (forecast_horizon)\n",
    "\n",
    "Functions:<br>\n",
    "Iterate over forecasts which are not None, and threshold y2 values against y=0 in the arena (or some other y value).\n",
    "If a bbox crosses the threshold for some forecast, save the index of the first crossing in the forecast, as a value in the relevant index of the frame.\n",
    "For example, if the forecast_horizon is 20, and forecast 1000 (started from frame 1000) predicts a hit in it's 10 timestamp,\n",
    "save the x value in index 10 in frame 1010. If forecast 1001 predicts an hit in it's 9th timestamp, save the value in index 9 in fram 1010.\n",
    "Notice: for each frame, there are 20 indices: index 0 means that a forecast predicted a hit one frame in advance, index 8 means 12 frames in advance.\n",
    "\n",
    "frame | forecast_0 | forecast_1 | ... | forecast_19\n",
    "____________________________________________________\n",
    "    0 | nan        |   x_1      | ... |    x_19    \n",
    "    1 | x_0        |   x_1      | ... |    nan\n",
    "    ....\n",
    "\n",
    "from this, maybe a smaller array with columns \"frame | num_forecasts_predicted_hit | mean_x_value\"\n",
    "\n",
    "Visualization:<br>\n",
    "A horizontal indexed heatmap, where each timestamp is colored by the amount of forecasts that predict a hit\n",
    "in that frame. On the same figure, plot with other colors the real hit events. \n",
    "It's a sort of a \"raster plot\".\n",
    "Matplotlib function: \"eventplot\"\n",
    "Also possible to generate a raster plot for each forecast seperatly - idealy, a hit event should be preceeded by a diagonal\n",
    "pattern of predicted hits\n",
    "\n",
    "TODO<br>\n",
    "Maybe other visualiztions that combine the temporal data with the arena coordinates data.\n",
    "\n",
    "Metrics - TODO:<br>\n",
    "We can compare that structure to the real frames that have an actual hit event and their respective x values,\n",
    "and calculate various metrics that quantify the errors. Join the the arrays.\n",
    "FN - missed an hit event (by how much?)\n",
    "FP - predicted an hit event by mistake (relative to what ground truth events?)\n",
    "Other issues: how to decide what is a \"close\" event? what to do if there are many? etc...\n"
   ]
  },
  {
   "cell_type": "code",
   "execution_count": 264,
   "metadata": {},
   "outputs": [],
   "source": [
    "hit_trials = ['learning_20200917T152238_trial1', 'fast_cockroach_20200803T085738_trial1',\n",
    "             'learning_20201001T084647_trial1', 'fast_line_20200803T082414_trial1', 'line_20200803T081429_trial1']\n",
    "hit_df = all_df.loc[hit_trials]"
   ]
  },
  {
   "cell_type": "code",
   "execution_count": 268,
   "metadata": {},
   "outputs": [
    {
     "data": {
      "text/html": [
       "<div>\n",
       "<style scoped>\n",
       "    .dataframe tbody tr th:only-of-type {\n",
       "        vertical-align: middle;\n",
       "    }\n",
       "\n",
       "    .dataframe tbody tr th {\n",
       "        vertical-align: top;\n",
       "    }\n",
       "\n",
       "    .dataframe thead th {\n",
       "        text-align: right;\n",
       "    }\n",
       "</style>\n",
       "<table border=\"1\" class=\"dataframe\">\n",
       "  <thead>\n",
       "    <tr style=\"text-align: right;\">\n",
       "      <th></th>\n",
       "      <th>cent_x</th>\n",
       "      <th>cent_y</th>\n",
       "      <th>x1</th>\n",
       "      <th>y1</th>\n",
       "      <th>x2</th>\n",
       "      <th>y2</th>\n",
       "      <th>conf</th>\n",
       "      <th>num_bbox</th>\n",
       "      <th>frame_ts</th>\n",
       "      <th>hit_x</th>\n",
       "      <th>hit_y</th>\n",
       "      <th>bug_x</th>\n",
       "      <th>bug_y</th>\n",
       "      <th>is_hit</th>\n",
       "      <th>touch_ts</th>\n",
       "      <th>is_touch</th>\n",
       "    </tr>\n",
       "  </thead>\n",
       "  <tbody>\n",
       "    <tr>\n",
       "      <th>learning_20200917T152238_trial1</th>\n",
       "      <td>1422.422500</td>\n",
       "      <td>198.078546</td>\n",
       "      <td>1546.095343</td>\n",
       "      <td>373.313708</td>\n",
       "      <td>1303.232575</td>\n",
       "      <td>22.101105</td>\n",
       "      <td>0.991156</td>\n",
       "      <td>1.0</td>\n",
       "      <td>2020-09-17 15:22:44.916004181</td>\n",
       "      <td>1231.0</td>\n",
       "      <td>353.0</td>\n",
       "      <td>1219.0</td>\n",
       "      <td>364.0</td>\n",
       "      <td>True</td>\n",
       "      <td>2020-09-17 18:22:46.950596</td>\n",
       "      <td>True</td>\n",
       "    </tr>\n",
       "    <tr>\n",
       "      <th>fast_cockroach_20200803T085738_trial1</th>\n",
       "      <td>537.412451</td>\n",
       "      <td>186.044481</td>\n",
       "      <td>686.372198</td>\n",
       "      <td>346.104473</td>\n",
       "      <td>383.653352</td>\n",
       "      <td>16.392198</td>\n",
       "      <td>0.995390</td>\n",
       "      <td>1.0</td>\n",
       "      <td>2020-08-03 08:57:40.772247791</td>\n",
       "      <td>803.0</td>\n",
       "      <td>707.0</td>\n",
       "      <td>767.0</td>\n",
       "      <td>854.0</td>\n",
       "      <td>True</td>\n",
       "      <td>2020-08-03 08:57:40.774695</td>\n",
       "      <td>True</td>\n",
       "    </tr>\n",
       "    <tr>\n",
       "      <th>fast_cockroach_20200803T085738_trial1</th>\n",
       "      <td>381.192635</td>\n",
       "      <td>173.105245</td>\n",
       "      <td>526.147738</td>\n",
       "      <td>344.377689</td>\n",
       "      <td>228.107824</td>\n",
       "      <td>-7.294703</td>\n",
       "      <td>0.996411</td>\n",
       "      <td>1.0</td>\n",
       "      <td>2020-08-03 08:57:54.911134243</td>\n",
       "      <td>623.0</td>\n",
       "      <td>270.0</td>\n",
       "      <td>690.0</td>\n",
       "      <td>327.0</td>\n",
       "      <td>True</td>\n",
       "      <td>2020-08-03 08:57:54.906121</td>\n",
       "      <td>True</td>\n",
       "    </tr>\n",
       "    <tr>\n",
       "      <th>fast_cockroach_20200803T085738_trial1</th>\n",
       "      <td>975.434361</td>\n",
       "      <td>129.592947</td>\n",
       "      <td>1136.684996</td>\n",
       "      <td>286.517720</td>\n",
       "      <td>811.063974</td>\n",
       "      <td>-32.565122</td>\n",
       "      <td>0.998260</td>\n",
       "      <td>1.0</td>\n",
       "      <td>2020-08-03 08:58:12.750075340</td>\n",
       "      <td>1227.0</td>\n",
       "      <td>108.0</td>\n",
       "      <td>1147.0</td>\n",
       "      <td>28.0</td>\n",
       "      <td>True</td>\n",
       "      <td>2020-08-03 08:58:12.757401</td>\n",
       "      <td>True</td>\n",
       "    </tr>\n",
       "    <tr>\n",
       "      <th>fast_cockroach_20200803T085738_trial1</th>\n",
       "      <td>828.432762</td>\n",
       "      <td>117.951186</td>\n",
       "      <td>987.836035</td>\n",
       "      <td>268.404430</td>\n",
       "      <td>664.579663</td>\n",
       "      <td>-41.671382</td>\n",
       "      <td>0.998355</td>\n",
       "      <td>1.0</td>\n",
       "      <td>2020-08-03 08:58:13.497253656</td>\n",
       "      <td>1112.0</td>\n",
       "      <td>25.0</td>\n",
       "      <td>1012.0</td>\n",
       "      <td>-107.0</td>\n",
       "      <td>True</td>\n",
       "      <td>2020-08-03 08:58:13.503302</td>\n",
       "      <td>True</td>\n",
       "    </tr>\n",
       "    <tr>\n",
       "      <th>fast_cockroach_20200803T085738_trial1</th>\n",
       "      <td>1119.914205</td>\n",
       "      <td>165.570570</td>\n",
       "      <td>1276.209167</td>\n",
       "      <td>332.599437</td>\n",
       "      <td>962.948457</td>\n",
       "      <td>-7.988999</td>\n",
       "      <td>0.996518</td>\n",
       "      <td>1.0</td>\n",
       "      <td>2020-08-03 08:58:37.979384899</td>\n",
       "      <td>1434.0</td>\n",
       "      <td>627.0</td>\n",
       "      <td>1515.0</td>\n",
       "      <td>580.0</td>\n",
       "      <td>True</td>\n",
       "      <td>2020-08-03 08:58:37.976633</td>\n",
       "      <td>True</td>\n",
       "    </tr>\n",
       "    <tr>\n",
       "      <th>learning_20201001T084647_trial1</th>\n",
       "      <td>-45.495505</td>\n",
       "      <td>85.993298</td>\n",
       "      <td>86.709724</td>\n",
       "      <td>217.194621</td>\n",
       "      <td>-183.139383</td>\n",
       "      <td>-51.297857</td>\n",
       "      <td>0.995607</td>\n",
       "      <td>1.0</td>\n",
       "      <td>2020-10-01 08:47:03.844775438</td>\n",
       "      <td>74.0</td>\n",
       "      <td>332.0</td>\n",
       "      <td>57.0</td>\n",
       "      <td>292.0</td>\n",
       "      <td>True</td>\n",
       "      <td>2020-10-01 11:47:05.880701</td>\n",
       "      <td>True</td>\n",
       "    </tr>\n",
       "    <tr>\n",
       "      <th>fast_line_20200803T082414_trial1</th>\n",
       "      <td>-189.002461</td>\n",
       "      <td>1285.678913</td>\n",
       "      <td>-40.956125</td>\n",
       "      <td>1417.212515</td>\n",
       "      <td>-340.842964</td>\n",
       "      <td>1148.696265</td>\n",
       "      <td>0.996272</td>\n",
       "      <td>1.0</td>\n",
       "      <td>2020-08-03 08:24:15.613847494</td>\n",
       "      <td>2028.0</td>\n",
       "      <td>134.0</td>\n",
       "      <td>908.0</td>\n",
       "      <td>570.0</td>\n",
       "      <td>True</td>\n",
       "      <td>2020-08-03 08:24:15.603710</td>\n",
       "      <td>True</td>\n",
       "    </tr>\n",
       "    <tr>\n",
       "      <th>fast_line_20200803T082414_trial1</th>\n",
       "      <td>600.031768</td>\n",
       "      <td>126.729824</td>\n",
       "      <td>761.573715</td>\n",
       "      <td>274.951129</td>\n",
       "      <td>436.457676</td>\n",
       "      <td>-28.702548</td>\n",
       "      <td>0.996892</td>\n",
       "      <td>1.0</td>\n",
       "      <td>2020-08-03 08:24:42.118518114</td>\n",
       "      <td>804.0</td>\n",
       "      <td>211.0</td>\n",
       "      <td>766.0</td>\n",
       "      <td>252.0</td>\n",
       "      <td>True</td>\n",
       "      <td>2020-08-03 08:24:42.117620</td>\n",
       "      <td>True</td>\n",
       "    </tr>\n",
       "    <tr>\n",
       "      <th>line_20200803T081429_trial1</th>\n",
       "      <td>98.241666</td>\n",
       "      <td>205.037129</td>\n",
       "      <td>210.448093</td>\n",
       "      <td>340.806890</td>\n",
       "      <td>-16.767964</td>\n",
       "      <td>65.175833</td>\n",
       "      <td>0.980696</td>\n",
       "      <td>1.0</td>\n",
       "      <td>2020-08-03 08:14:43.849375963</td>\n",
       "      <td>113.0</td>\n",
       "      <td>691.0</td>\n",
       "      <td>49.0</td>\n",
       "      <td>795.0</td>\n",
       "      <td>True</td>\n",
       "      <td>2020-08-03 08:14:43.845381</td>\n",
       "      <td>True</td>\n",
       "    </tr>\n",
       "    <tr>\n",
       "      <th>line_20200803T081429_trial1</th>\n",
       "      <td>-81.487709</td>\n",
       "      <td>172.845578</td>\n",
       "      <td>48.882128</td>\n",
       "      <td>338.830938</td>\n",
       "      <td>-217.203644</td>\n",
       "      <td>-0.040762</td>\n",
       "      <td>0.995821</td>\n",
       "      <td>1.0</td>\n",
       "      <td>2020-08-03 08:15:34.479207754</td>\n",
       "      <td>122.0</td>\n",
       "      <td>322.0</td>\n",
       "      <td>189.0</td>\n",
       "      <td>268.0</td>\n",
       "      <td>True</td>\n",
       "      <td>2020-08-03 08:15:34.485947</td>\n",
       "      <td>True</td>\n",
       "    </tr>\n",
       "  </tbody>\n",
       "</table>\n",
       "</div>"
      ],
      "text/plain": [
       "                                            cent_x       cent_y           x1  \\\n",
       "learning_20200917T152238_trial1        1422.422500   198.078546  1546.095343   \n",
       "fast_cockroach_20200803T085738_trial1   537.412451   186.044481   686.372198   \n",
       "fast_cockroach_20200803T085738_trial1   381.192635   173.105245   526.147738   \n",
       "fast_cockroach_20200803T085738_trial1   975.434361   129.592947  1136.684996   \n",
       "fast_cockroach_20200803T085738_trial1   828.432762   117.951186   987.836035   \n",
       "fast_cockroach_20200803T085738_trial1  1119.914205   165.570570  1276.209167   \n",
       "learning_20201001T084647_trial1         -45.495505    85.993298    86.709724   \n",
       "fast_line_20200803T082414_trial1       -189.002461  1285.678913   -40.956125   \n",
       "fast_line_20200803T082414_trial1        600.031768   126.729824   761.573715   \n",
       "line_20200803T081429_trial1              98.241666   205.037129   210.448093   \n",
       "line_20200803T081429_trial1             -81.487709   172.845578    48.882128   \n",
       "\n",
       "                                                y1           x2           y2  \\\n",
       "learning_20200917T152238_trial1         373.313708  1303.232575    22.101105   \n",
       "fast_cockroach_20200803T085738_trial1   346.104473   383.653352    16.392198   \n",
       "fast_cockroach_20200803T085738_trial1   344.377689   228.107824    -7.294703   \n",
       "fast_cockroach_20200803T085738_trial1   286.517720   811.063974   -32.565122   \n",
       "fast_cockroach_20200803T085738_trial1   268.404430   664.579663   -41.671382   \n",
       "fast_cockroach_20200803T085738_trial1   332.599437   962.948457    -7.988999   \n",
       "learning_20201001T084647_trial1         217.194621  -183.139383   -51.297857   \n",
       "fast_line_20200803T082414_trial1       1417.212515  -340.842964  1148.696265   \n",
       "fast_line_20200803T082414_trial1        274.951129   436.457676   -28.702548   \n",
       "line_20200803T081429_trial1             340.806890   -16.767964    65.175833   \n",
       "line_20200803T081429_trial1             338.830938  -217.203644    -0.040762   \n",
       "\n",
       "                                           conf  num_bbox  \\\n",
       "learning_20200917T152238_trial1        0.991156       1.0   \n",
       "fast_cockroach_20200803T085738_trial1  0.995390       1.0   \n",
       "fast_cockroach_20200803T085738_trial1  0.996411       1.0   \n",
       "fast_cockroach_20200803T085738_trial1  0.998260       1.0   \n",
       "fast_cockroach_20200803T085738_trial1  0.998355       1.0   \n",
       "fast_cockroach_20200803T085738_trial1  0.996518       1.0   \n",
       "learning_20201001T084647_trial1        0.995607       1.0   \n",
       "fast_line_20200803T082414_trial1       0.996272       1.0   \n",
       "fast_line_20200803T082414_trial1       0.996892       1.0   \n",
       "line_20200803T081429_trial1            0.980696       1.0   \n",
       "line_20200803T081429_trial1            0.995821       1.0   \n",
       "\n",
       "                                                           frame_ts   hit_x  \\\n",
       "learning_20200917T152238_trial1       2020-09-17 15:22:44.916004181  1231.0   \n",
       "fast_cockroach_20200803T085738_trial1 2020-08-03 08:57:40.772247791   803.0   \n",
       "fast_cockroach_20200803T085738_trial1 2020-08-03 08:57:54.911134243   623.0   \n",
       "fast_cockroach_20200803T085738_trial1 2020-08-03 08:58:12.750075340  1227.0   \n",
       "fast_cockroach_20200803T085738_trial1 2020-08-03 08:58:13.497253656  1112.0   \n",
       "fast_cockroach_20200803T085738_trial1 2020-08-03 08:58:37.979384899  1434.0   \n",
       "learning_20201001T084647_trial1       2020-10-01 08:47:03.844775438    74.0   \n",
       "fast_line_20200803T082414_trial1      2020-08-03 08:24:15.613847494  2028.0   \n",
       "fast_line_20200803T082414_trial1      2020-08-03 08:24:42.118518114   804.0   \n",
       "line_20200803T081429_trial1           2020-08-03 08:14:43.849375963   113.0   \n",
       "line_20200803T081429_trial1           2020-08-03 08:15:34.479207754   122.0   \n",
       "\n",
       "                                       hit_y   bug_x  bug_y is_hit  \\\n",
       "learning_20200917T152238_trial1        353.0  1219.0  364.0   True   \n",
       "fast_cockroach_20200803T085738_trial1  707.0   767.0  854.0   True   \n",
       "fast_cockroach_20200803T085738_trial1  270.0   690.0  327.0   True   \n",
       "fast_cockroach_20200803T085738_trial1  108.0  1147.0   28.0   True   \n",
       "fast_cockroach_20200803T085738_trial1   25.0  1012.0 -107.0   True   \n",
       "fast_cockroach_20200803T085738_trial1  627.0  1515.0  580.0   True   \n",
       "learning_20201001T084647_trial1        332.0    57.0  292.0   True   \n",
       "fast_line_20200803T082414_trial1       134.0   908.0  570.0   True   \n",
       "fast_line_20200803T082414_trial1       211.0   766.0  252.0   True   \n",
       "line_20200803T081429_trial1            691.0    49.0  795.0   True   \n",
       "line_20200803T081429_trial1            322.0   189.0  268.0   True   \n",
       "\n",
       "                                                        touch_ts  is_touch  \n",
       "learning_20200917T152238_trial1       2020-09-17 18:22:46.950596      True  \n",
       "fast_cockroach_20200803T085738_trial1 2020-08-03 08:57:40.774695      True  \n",
       "fast_cockroach_20200803T085738_trial1 2020-08-03 08:57:54.906121      True  \n",
       "fast_cockroach_20200803T085738_trial1 2020-08-03 08:58:12.757401      True  \n",
       "fast_cockroach_20200803T085738_trial1 2020-08-03 08:58:13.503302      True  \n",
       "fast_cockroach_20200803T085738_trial1 2020-08-03 08:58:37.976633      True  \n",
       "learning_20201001T084647_trial1       2020-10-01 11:47:05.880701      True  \n",
       "fast_line_20200803T082414_trial1      2020-08-03 08:24:15.603710      True  \n",
       "fast_line_20200803T082414_trial1      2020-08-03 08:24:42.117620      True  \n",
       "line_20200803T081429_trial1           2020-08-03 08:14:43.845381      True  \n",
       "line_20200803T081429_trial1           2020-08-03 08:15:34.485947      True  "
      ]
     },
     "execution_count": 268,
     "metadata": {},
     "output_type": "execute_result"
    }
   ],
   "source": [
    "hit_df[hit_df.is_hit]"
   ]
  },
  {
   "cell_type": "code",
   "execution_count": 12,
   "metadata": {},
   "outputs": [],
   "source": [
    "lots_o_touches = 'circle_20200803T115839_trial1'\n",
    "lots_o_touches2 = 'fast_cockroach_20200803T085738_trial1'"
   ]
  },
  {
   "cell_type": "code",
   "execution_count": 272,
   "metadata": {},
   "outputs": [
    {
     "data": {
      "text/plain": [
       "['learning_20200917T152238_trial1',\n",
       " 'fast_cockroach_20200803T085738_trial1',\n",
       " 'learning_20201001T084647_trial1',\n",
       " 'fast_line_20200803T082414_trial1',\n",
       " 'line_20200803T081429_trial1']"
      ]
     },
     "execution_count": 272,
     "metadata": {},
     "output_type": "execute_result"
    }
   ],
   "source": [
    "hit_trials"
   ]
  },
  {
   "cell_type": "code",
   "execution_count": 274,
   "metadata": {},
   "outputs": [
    {
     "data": {
      "application/vnd.jupyter.widget-view+json": {
       "model_id": "9fbb125f0c3d4851813371417d4d4efa",
       "version_major": 2,
       "version_minor": 0
      },
      "text/plain": [
       "HBox(children=(FloatProgress(value=0.0, max=308.0), HTML(value='')))"
      ]
     },
     "metadata": {},
     "output_type": "display_data"
    },
    {
     "name": "stdout",
     "output_type": "stream",
     "text": [
      "\n"
     ]
    },
    {
     "data": {
      "application/vnd.jupyter.widget-view+json": {
       "model_id": "82034d70f540467d814e82272fc9fa36",
       "version_major": 2,
       "version_minor": 0
      },
      "text/plain": [
       "HBox(children=(FloatProgress(value=0.0, max=288.0), HTML(value='')))"
      ]
     },
     "metadata": {},
     "output_type": "display_data"
    },
    {
     "name": "stdout",
     "output_type": "stream",
     "text": [
      "\n"
     ]
    },
    {
     "data": {
      "application/vnd.jupyter.widget-view+json": {
       "model_id": "41a83ce010df4345aee7f313db6fcbba",
       "version_major": 2,
       "version_minor": 0
      },
      "text/plain": [
       "HBox(children=(FloatProgress(value=0.0, max=308.0), HTML(value='')))"
      ]
     },
     "metadata": {},
     "output_type": "display_data"
    },
    {
     "name": "stdout",
     "output_type": "stream",
     "text": [
      "\n"
     ]
    },
    {
     "data": {
      "application/vnd.jupyter.widget-view+json": {
       "model_id": "6115ea54c4a94d76b7a10d80631b9b56",
       "version_major": 2,
       "version_minor": 0
      },
      "text/plain": [
       "HBox(children=(FloatProgress(value=0.0, max=288.0), HTML(value='')))"
      ]
     },
     "metadata": {},
     "output_type": "display_data"
    },
    {
     "name": "stdout",
     "output_type": "stream",
     "text": [
      "\n"
     ]
    },
    {
     "data": {
      "application/vnd.jupyter.widget-view+json": {
       "model_id": "a82605ee36574b26be902f23eca67d17",
       "version_major": 2,
       "version_minor": 0
      },
      "text/plain": [
       "HBox(children=(FloatProgress(value=0.0, max=5081.0), HTML(value='')))"
      ]
     },
     "metadata": {},
     "output_type": "display_data"
    },
    {
     "name": "stdout",
     "output_type": "stream",
     "text": [
      "\n"
     ]
    },
    {
     "data": {
      "application/vnd.jupyter.widget-view+json": {
       "model_id": "81b568b1b74b48758f53349f44eb2751",
       "version_major": 2,
       "version_minor": 0
      },
      "text/plain": [
       "HBox(children=(FloatProgress(value=0.0, max=5061.0), HTML(value='')))"
      ]
     },
     "metadata": {},
     "output_type": "display_data"
    },
    {
     "name": "stdout",
     "output_type": "stream",
     "text": [
      "\n"
     ]
    },
    {
     "data": {
      "application/vnd.jupyter.widget-view+json": {
       "model_id": "f7559b19ee0d4d38b8d5550d3c3f53b6",
       "version_major": 2,
       "version_minor": 0
      },
      "text/plain": [
       "HBox(children=(FloatProgress(value=0.0, max=5081.0), HTML(value='')))"
      ]
     },
     "metadata": {},
     "output_type": "display_data"
    },
    {
     "name": "stdout",
     "output_type": "stream",
     "text": [
      "\n"
     ]
    },
    {
     "data": {
      "application/vnd.jupyter.widget-view+json": {
       "model_id": "c4ad8a5ee48d4e2282775780130e85b7",
       "version_major": 2,
       "version_minor": 0
      },
      "text/plain": [
       "HBox(children=(FloatProgress(value=0.0, max=5061.0), HTML(value='')))"
      ]
     },
     "metadata": {},
     "output_type": "display_data"
    },
    {
     "name": "stdout",
     "output_type": "stream",
     "text": [
      "\n"
     ]
    },
    {
     "data": {
      "application/vnd.jupyter.widget-view+json": {
       "model_id": "54128b6f70434009b7cd320005cf0e23",
       "version_major": 2,
       "version_minor": 0
      },
      "text/plain": [
       "HBox(children=(FloatProgress(value=0.0, max=923.0), HTML(value='')))"
      ]
     },
     "metadata": {},
     "output_type": "display_data"
    },
    {
     "name": "stdout",
     "output_type": "stream",
     "text": [
      "\n"
     ]
    },
    {
     "data": {
      "application/vnd.jupyter.widget-view+json": {
       "model_id": "612cf501b40b4c899eb6992a9025ba50",
       "version_major": 2,
       "version_minor": 0
      },
      "text/plain": [
       "HBox(children=(FloatProgress(value=0.0, max=903.0), HTML(value='')))"
      ]
     },
     "metadata": {},
     "output_type": "display_data"
    },
    {
     "name": "stdout",
     "output_type": "stream",
     "text": [
      "\n"
     ]
    },
    {
     "data": {
      "application/vnd.jupyter.widget-view+json": {
       "model_id": "e00782721e39477bab60cb2415a9280e",
       "version_major": 2,
       "version_minor": 0
      },
      "text/plain": [
       "HBox(children=(FloatProgress(value=0.0, max=923.0), HTML(value='')))"
      ]
     },
     "metadata": {},
     "output_type": "display_data"
    },
    {
     "name": "stdout",
     "output_type": "stream",
     "text": [
      "\n"
     ]
    },
    {
     "data": {
      "application/vnd.jupyter.widget-view+json": {
       "model_id": "46884b684c794970bb0665a1d650b562",
       "version_major": 2,
       "version_minor": 0
      },
      "text/plain": [
       "HBox(children=(FloatProgress(value=0.0, max=903.0), HTML(value='')))"
      ]
     },
     "metadata": {},
     "output_type": "display_data"
    },
    {
     "name": "stdout",
     "output_type": "stream",
     "text": [
      "\n"
     ]
    },
    {
     "data": {
      "application/vnd.jupyter.widget-view+json": {
       "model_id": "87c9ee3b740a4be4a5f96285b25d9080",
       "version_major": 2,
       "version_minor": 0
      },
      "text/plain": [
       "HBox(children=(FloatProgress(value=0.0, max=5081.0), HTML(value='')))"
      ]
     },
     "metadata": {},
     "output_type": "display_data"
    },
    {
     "name": "stdout",
     "output_type": "stream",
     "text": [
      "\n"
     ]
    },
    {
     "data": {
      "application/vnd.jupyter.widget-view+json": {
       "model_id": "abb93dde50534704b22a5bdb5880b75b",
       "version_major": 2,
       "version_minor": 0
      },
      "text/plain": [
       "HBox(children=(FloatProgress(value=0.0, max=5061.0), HTML(value='')))"
      ]
     },
     "metadata": {},
     "output_type": "display_data"
    },
    {
     "name": "stdout",
     "output_type": "stream",
     "text": [
      "\n"
     ]
    },
    {
     "data": {
      "application/vnd.jupyter.widget-view+json": {
       "model_id": "eb74f77217a4433f906d07df4f0642f6",
       "version_major": 2,
       "version_minor": 0
      },
      "text/plain": [
       "HBox(children=(FloatProgress(value=0.0, max=5081.0), HTML(value='')))"
      ]
     },
     "metadata": {},
     "output_type": "display_data"
    },
    {
     "name": "stdout",
     "output_type": "stream",
     "text": [
      "\n"
     ]
    },
    {
     "data": {
      "application/vnd.jupyter.widget-view+json": {
       "model_id": "e7a296a3eac6407c9e5b69afa48ea360",
       "version_major": 2,
       "version_minor": 0
      },
      "text/plain": [
       "HBox(children=(FloatProgress(value=0.0, max=5061.0), HTML(value='')))"
      ]
     },
     "metadata": {},
     "output_type": "display_data"
    },
    {
     "name": "stdout",
     "output_type": "stream",
     "text": [
      "\n"
     ]
    },
    {
     "data": {
      "application/vnd.jupyter.widget-view+json": {
       "model_id": "126a937cf1344b5487b4c6194263dc6a",
       "version_major": 2,
       "version_minor": 0
      },
      "text/plain": [
       "HBox(children=(FloatProgress(value=0.0, max=5081.0), HTML(value='')))"
      ]
     },
     "metadata": {},
     "output_type": "display_data"
    },
    {
     "name": "stdout",
     "output_type": "stream",
     "text": [
      "\n"
     ]
    },
    {
     "data": {
      "application/vnd.jupyter.widget-view+json": {
       "model_id": "d30950e1eb364ffa994c7a206fd89826",
       "version_major": 2,
       "version_minor": 0
      },
      "text/plain": [
       "HBox(children=(FloatProgress(value=0.0, max=5061.0), HTML(value='')))"
      ]
     },
     "metadata": {},
     "output_type": "display_data"
    },
    {
     "name": "stdout",
     "output_type": "stream",
     "text": [
      "\n"
     ]
    },
    {
     "data": {
      "application/vnd.jupyter.widget-view+json": {
       "model_id": "98a813d8dcb148c08bd083d513d2ec51",
       "version_major": 2,
       "version_minor": 0
      },
      "text/plain": [
       "HBox(children=(FloatProgress(value=0.0, max=5081.0), HTML(value='')))"
      ]
     },
     "metadata": {},
     "output_type": "display_data"
    },
    {
     "name": "stdout",
     "output_type": "stream",
     "text": [
      "\n"
     ]
    },
    {
     "data": {
      "application/vnd.jupyter.widget-view+json": {
       "model_id": "2359451b87214268bb5e87a9fabe30da",
       "version_major": 2,
       "version_minor": 0
      },
      "text/plain": [
       "HBox(children=(FloatProgress(value=0.0, max=5061.0), HTML(value='')))"
      ]
     },
     "metadata": {},
     "output_type": "display_data"
    },
    {
     "name": "stdout",
     "output_type": "stream",
     "text": [
      "\n"
     ]
    }
   ],
   "source": [
    "#trial_data = hit_trials[0]\n",
    "#trial_data = lots_o_touches2\n",
    "\n",
    "forecasts_dict_gru = dict()\n",
    "forecasts_dict_kalman = dict()\n",
    "for trial in hit_trials:\n",
    "    bboxes = all_df.loc[trial][['x1','y1','x2','y2']].values\n",
    "    _, forecasts_dict_gru[trial] = train_eval.eval_trajectory_predictor(traj_predictor_gru, bboxes)\n",
    "    _, forecasts_dict_kalman[trial] = train_eval.eval_trajectory_predictor(traj_predictor_kalman, bboxes)\n"
   ]
  },
  {
   "cell_type": "code",
   "execution_count": 307,
   "metadata": {},
   "outputs": [],
   "source": [
    "# TODO: aligning with true touching events won't work, check FIRST_FRAME parameter from evaluate trajectory predictor cell\n",
    "\n",
    "def get_hit_preds_forecasts(forecasts_list, \n",
    "                            hit_pred, \n",
    "                            y_thresh=0,\n",
    "                            preds_forecasts=True,\n",
    "                            return_mean=False):\n",
    "    \"\"\"\n",
    "    Receive a forecasts list, and generate an array describing the hit predictions from the frame perspective,\n",
    "    i.e, for each frame, there's a forecast_horizon shape row, with a value in the index of a forecast that \n",
    "    predicted a hit. (if forecast 1234 predicted hit in 5 frames, then pred[1239,5] has a value).\n",
    "    \n",
    "    if pred_forecasts is False, will return the opposite array of get_hit_preds_forecasts: \n",
    "    describes for each forecast, at which index they first predict a hit\n",
    "    \n",
    "    If return_mean is true, will count the number of forecasts predicting a hit for a specific frame, and the mean predicted\n",
    "    x value.\n",
    "    \"\"\"\n",
    "    if hit_pred.prediction_y_threshold != y_thresh:\n",
    "        print(f\"changed hit predictor y's thresh from {hit_pred.prediction_y_threshold} to {y_thresh}\")\n",
    "        hit_pred.prediction_y_threshold = y_thresh\n",
    "    \n",
    "    first_forecast = next(i for i, fc in enumerate(forecasts) if fc is not None) # if no forecasts, still return zero?\n",
    "    if forecasts_list[first_forecast] is None:\n",
    "        print(\"No forecasts in list\")\n",
    "        return\n",
    "    \n",
    "    forecast_horizon = forecasts_list[first_forecast].shape[0]\n",
    "    preds = np.empty((len(forecasts_list), forecast_horizon))    \n",
    "    preds[:] = np.nan\n",
    "    \n",
    "    for i, forecast in enumerate(forecasts_list[first_forecast:-forecast_horizon]):\n",
    "        x2, hit_ind = hit_pred.predict_hit(forecast)\n",
    "        if hit_ind is not None and hit_ind < preds.shape[0]:\n",
    "            if preds_forecasts:\n",
    "                frame_ind = first_forecast + (i+1) + hit_ind #  the frame index to which the hit is predicted\n",
    "                preds[frame_ind, hit_ind] = x2  # place the x value in the index that the forecast predicted\n",
    "            else:\n",
    "                forecast_ind = first_forecast + (i+1) #  the forecast index which predicts the hit\n",
    "                preds[forecast_ind, hit_ind] = x2  # place the x value in the index that the forecast predicted\n",
    "    \n",
    "    if preds_forecasts:\n",
    "        if return_mean:\n",
    "            temp = np.empty((preds.shape[0], 2))\n",
    "            temp[:,0] = (~np.isnan(preds)).sum(axis=1) # number of forecasts predicting hit\n",
    "            temp[:, 1] = np.nanmean(preds,axis=1)\n",
    "            return temp\n",
    "    return preds\n",
    "\n",
    "\n",
    "def plot_preds_and_truth(preds, \n",
    "                         trial_slice, \n",
    "                         ax,\n",
    "                         start=None, \n",
    "                         end=None,):\n",
    "    \"\"\"\n",
    "    preds - a frame prediction array\n",
    "    trial_slice - the slice from the dataframe for that trial, sliced like the bboxes array\n",
    "    which the traj predictor operated on.\n",
    "    Caller's responsibility to make sure the arrays are the same shape on dim 0 and that \n",
    "    they are aligned.\n",
    "    \"\"\"\n",
    "    \n",
    "    hits = False\n",
    "    \n",
    "    if start is None:\n",
    "        start = 0\n",
    "    if end is None:\n",
    "        end = preds.shape[0]\n",
    "    \n",
    "    ax.set_xticklabels(np.arange(start=start, stop=end+1)) # ax.set_xticks set the integer indices of the labels\n",
    "    \n",
    "    preds = preds[start:end]\n",
    "    trial_slice = trial_slice.iloc[start:end]\n",
    "    \n",
    "    forecast_horizon = preds.shape[1]\n",
    "    if trial_slice is not None:\n",
    "        hits_idx = np.where(trial_slice.is_touch)[0]\n",
    "    \n",
    "        if hits_idx.shape[0] == 0:\n",
    "            print(\"no real hits\")\n",
    "        else:\n",
    "            hits = True\n",
    "    \n",
    "    if np.all(np.isnan(preds)):\n",
    "        print(\"All nan, nothing to show\")\n",
    "        return\n",
    "    sns.heatmap(preds.transpose(), ax=ax, cmap='winter')\n",
    "        \n",
    "    curr_x_ticks = list(ax.xaxis.get_ticklabels())\n",
    "    stride = int(curr_x_ticks[1].get_text())\n",
    "    ax.set_xticklabels(np.arange(start=start, stop=end+1,step=stride), rotation=30) # ax.set_xticks set the integer indices of the labels\n",
    "    tick_freq = 3\n",
    "    for n, label in enumerate(ax.xaxis.get_ticklabels()):\n",
    "        if n % tick_freq != 0:\n",
    "            label.set_visible(False)\n",
    "        \n",
    "    if hits:\n",
    "        for x in hits_idx:\n",
    "            ax.plot(np.ones(2)*x, np.linspace(0,20,num=2), linestyle='--',linewidth=1.5, color='r', zorder=-1) \n",
    "    \n",
    "   "
   ]
  },
  {
   "cell_type": "code",
   "execution_count": 229,
   "metadata": {},
   "outputs": [],
   "source": [
    "# old function, not important\n",
    "def get_k_before_hits(df,k):\n",
    "    \"\"\"\n",
    "    for each index of a hit row, slice the k>=1 previous rows (including hit) as a multiindex dataframe \n",
    "    with triple index: experiment, trial, hit-event. concatenate dataframes vertically\n",
    "    TODO: COMPLETE DOC\n",
    "    TODO: Move to Dataset module\n",
    "    \"\"\"\n",
    "    assert type(k)==int\n",
    "    assert k>0\n",
    "    \n",
    "    df_list = []\n",
    "    for trial in df.index.unique():\n",
    "        temp = df.loc[trial]\n",
    "        temp = temp.is_touch\n",
    "        \n",
    "        if temp.sum() == 0:\n",
    "            continue\n",
    "        hits_ind = np.where(temp)[0]\n",
    "        #display(hits_ind)\n",
    "        #return\n",
    "        event_list = []\n",
    "        for j, hit_ind in enumerate(hits_ind):\n",
    "            if j==0:\n",
    "                min_slice = np.max([0,hit_ind-k+1])\n",
    "            else:\n",
    "                min_slice = np.max([0, hit_ind-k + 1, hits_ind[j-1]])\n",
    "            max_slice = hit_ind + 1\n",
    "            if (max_slice - min_slice) < k:\n",
    "                print(f'max: {max_slice} min: {min_slice}, {k}')\n",
    "                continue\n",
    "            sliced_event = df.loc[trial].iloc[min_slice:max_slice]\n",
    "            #sliced_event.index = pd.MultiIndex.from_tuples([(trial[0], trial[1], j) for k in range(sliced_event.shape[0])])\n",
    "            event_list.append(sliced_event)\n",
    "        \n",
    "        df_list.append(pd.concat(event_list))\n",
    "    return pd.concat(df_list)\n",
    "\n",
    "\n",
    "# old function, not important\n",
    "def seqs_contain_hits(df, inp_len, out_len ,steps2hit=0 ,stride=1):\n",
    "\n",
    "    seq_X_list = []\n",
    "    seq_Y_list = []\n",
    "    for trial in df.index.unique():\n",
    "        \n",
    "        temp = df.loc[trial]\n",
    "        touches = temp.is_touch\n",
    "        \n",
    "        if touches.sum() == 0:\n",
    "            continue\n",
    "        hits_ind = np.where(touches)[0]\n",
    "\n",
    "        for j, hit_ind in enumerate(hits_ind):\n",
    "            for i in range(steps2hit, out_len, stride):\n",
    "                # slice inp_seq and out_seq\n",
    "                inp_min = hit_ind - i - inp_len - 1\n",
    "                inp_max = hit_ind - i - 1\n",
    "                out_min = inp_max + 1\n",
    "                out_max = out_min + out_len\n",
    "                \n",
    "                if inp_min < 0 or out_max > temp.shape[0]:\n",
    "                    continue\n",
    "                \n",
    "                inp_seq = temp.iloc[inp_min: inp_max][['x1','y1', 'x2', 'y2']].values\n",
    "                out_seq = temp.iloc[out_min: out_max][['x1','y1', 'x2', 'y2']].values\n",
    "                \n",
    "                seq_X_list.append(inp_seq)\n",
    "                seq_Y_list.append(out_seq)\n",
    "                \n",
    "    return np.stack(seq_X_list), np.stack(seq_Y_list)"
   ]
  },
  {
   "cell_type": "code",
   "execution_count": 276,
   "metadata": {},
   "outputs": [
    {
     "data": {
      "text/plain": [
       "['learning_20200917T152238_trial1',\n",
       " 'fast_cockroach_20200803T085738_trial1',\n",
       " 'learning_20201001T084647_trial1',\n",
       " 'fast_line_20200803T082414_trial1',\n",
       " 'line_20200803T081429_trial1']"
      ]
     },
     "execution_count": 276,
     "metadata": {},
     "output_type": "execute_result"
    }
   ],
   "source": [
    "hit_trials"
   ]
  },
  {
   "cell_type": "code",
   "execution_count": 341,
   "metadata": {},
   "outputs": [
    {
     "data": {
      "image/png": "[encoded data removed]",
      "text/plain": [
       "<Figure size 720x360 with 2 Axes>"
      ]
     },
     "metadata": {
      "needs_background": "light"
     },
     "output_type": "display_data"
    }
   ],
   "source": [
    "trial = 'fast_cockroach_20200803T085738_trial1'\n",
    "forecasts = forecasts_dict_kalman[trial]\n",
    "\n",
    "y_thrsh = 25\n",
    "\n",
    "start = 890\n",
    "end = 930\n",
    "fs = 20\n",
    "pad = 15\n",
    "\n",
    "hit_preds = get_hit_preds_forecasts(forecasts_list=forecasts,\n",
    "                                    hit_pred=hit_predictor,\n",
    "                                    y_thresh=y_thrsh,\n",
    "                                    return_mean=False)\n",
    "\n",
    "#%matplotlib widget\n",
    "%matplotlib inline\n",
    "fig, ax1 = plt.subplots(1,1,figsize=(10,5))\n",
    "plot_preds_and_truth(hit_preds,\n",
    "                     all_df.loc[trial],\n",
    "                     ax1,\n",
    "                     start=start,\n",
    "                     end=end)\n",
    "plt.grid(axis='y')\n",
    "\n",
    "s = f\"Hit predictions - Kalman - Y threshold {y_thrsh}\"\n",
    "plt.title(s, fontsize=fs, pad=pad)\n",
    "plt.savefig('../experiments_plots/'+trial+\"_\"+s+'.jpg', dpi=200)"
   ]
  },
  {
   "cell_type": "code",
   "execution_count": 408,
   "metadata": {},
   "outputs": [],
   "source": [
    "forecast_preds = get_hit_preds_forecasts(forecasts_list=forecasts,\n",
    "                                    hit_pred=hit_predictor,\n",
    "                                    y_thresh=y_thrsh,\n",
    "                                    preds_forecasts=False,\n",
    "                                    return_mean=False)"
   ]
  },
  {
   "cell_type": "code",
   "execution_count": 143,
   "metadata": {
    "collapsed": true,
    "jupyter": {
     "outputs_hidden": true
    }
   },
   "outputs": [
    {
     "data": {
      "text/plain": [
       "Text(0.5, 1.0, 'Predictions of forecasts made at frame $k$ (x) to hit in $m$ timesteps (y)')"
      ]
     },
     "execution_count": 143,
     "metadata": {},
     "output_type": "execute_result"
    },
    {
     "data": {
      "image/png": "[encoded data removed]",
      "text/plain": [
       "<Figure size 1800x360 with 2 Axes>"
      ]
     },
     "metadata": {
      "needs_background": "light"
     },
     "output_type": "display_data"
    }
   ],
   "source": [
    "%matplotlib inline\n",
    "\n",
    "fig, ax2 = plt.subplots(1,1,figsize=(25,5))\n",
    "plot_preds_and_truth(forecast_preds,\n",
    "                     all_df.loc[trial_data],\n",
    "                     ax2,\n",
    "                     start=start,\n",
    "                     end=end)\n",
    "plt.grid(axis='y')\n",
    "plt.title(\"Predictions of forecasts made at frame $k$ (x) to hit in $m$ timesteps (y)\", fontsize=fs, pad=pad)\n"
   ]
  },
  {
   "cell_type": "markdown",
   "metadata": {},
   "source": [
    "## Visualize multiple trajectories"
   ]
  },
  {
   "cell_type": "markdown",
   "metadata": {},
   "source": [
    "#### Training notes\n",
    "Some general suggestions posts regarding training and generalization:\n",
    "- https://stats.stackexchange.com/questions/352036/what-should-i-do-when-my-neural-network-doesnt-learn#\n",
    "\n",
    "Most of the post deals with verifying the the correcteness of the data and the architecture. It doesn't seem that our network and\\or data is malfunctioning.\n",
    "\n",
    "- https://stats.stackexchange.com/questions/365778/what-should-i-do-when-my-neural-network-doesnt-generalize-well \n",
    "\n",
    "Dropout - in more layers \n",
    "\n",
    "Transfer learning from other movement dataset or even some language dataset? \n",
    "\n",
    "Data augmentation - take a smaller and more well chosen dataset, and expand it? maybe apply some linear transformations on the data, to both make the generalization better and have more data. Train a single model multiple times (or interchangingly) with diffrent input sequnce lengths - the weights don't change? filtering before training - applying an MA filter on the path will cause it to be less noisy, capturing the essential trend.\n",
    "\n",
    "More regularization?\n",
    "\n",
    "Early stopping - wev'e been doing it anyway, maybe make more concrete.\n",
    "\n",
    "Generalization and metrics - what is a resonable validation/test error?  \n",
    "\n",
    "#### __Ideas and observations from sequences plot:__\n",
    "* Input-output length of 20 corresponds to 0.33 seconds. During fast movement, the animal can cover substential distance (in arena terms). Also, it's seems that 20 observations as input is way too much. if there's a trend in the input that seems somewhat predictive of the output, it will probably be in only the few last points. Moreover, some of the sequences of i20-o20, where X, Y or both are \"long\", i.e, \"long\" distance between first and last point, just seem \"unlearnable\". It's a relatively small portion of the entire dataset, but it seems that these are the sequences that matter most to the hit prediction. There's not alot to do with this other than state that this a hard problem to solve...\n",
    "* A more practical question is this: what is the minimal time interval, where the course of an action (movement for example), can be changed by a decision? or in other words what is the maximal length of a path whose trajectory is controlled solely by mechanics and not decisions? it probably changes according to the type of action and it's initial velocity or accelaration. Reaction time and changing the course\n",
    "* The feeding videos seems too dissimilar to the experiments data.\n",
    "* The \"sliding window artifcat\"?\n",
    "\n",
    "#### Directions:\n",
    "- Data selection\\filtering and augmentation (rotation). Maybe sequences with stride. Randomize loss length computation (until random K~U[1,out_seq_len]). The rationale - the errors from the distant timesteps, won't \"hinder\" the learning of short term movement.\n",
    "- ADE as a function of input and output length."
   ]
  },
  {
   "cell_type": "code",
   "execution_count": 351,
   "metadata": {},
   "outputs": [
    {
     "name": "stderr",
     "output_type": "stream",
     "text": [
      "/app/Pogona_realtime/Arena/Prediction/train_eval.py:665: RuntimeWarning: invalid value encountered in greater\n",
      "  ret_mask = ret_mask & ((dists_X > min_dist) & (dists_X < max_dist))\n",
      "/app/Pogona_realtime/Arena/Prediction/train_eval.py:665: RuntimeWarning: invalid value encountered in less\n",
      "  ret_mask = ret_mask & ((dists_X > min_dist) & (dists_X < max_dist))\n",
      "/app/Pogona_realtime/Arena/Prediction/train_eval.py:667: RuntimeWarning: invalid value encountered in greater\n",
      "  ret_mask = ret_mask & ((dists_Y > min_dist) & (dists_Y < max_dist))\n",
      "/app/Pogona_realtime/Arena/Prediction/train_eval.py:667: RuntimeWarning: invalid value encountered in less\n",
      "  ret_mask = ret_mask & ((dists_Y > min_dist) & (dists_Y < max_dist))\n",
      "/app/Pogona_realtime/Arena/Prediction/train_eval.py:686: RuntimeWarning: invalid value encountered in greater\n",
      "  ret_mask = ret_mask & ((speeds_X > min_speed) & (speeds_X < max_speed))\n",
      "/app/Pogona_realtime/Arena/Prediction/train_eval.py:686: RuntimeWarning: invalid value encountered in less\n",
      "  ret_mask = ret_mask & ((speeds_X > min_speed) & (speeds_X < max_speed))\n",
      "/app/Pogona_realtime/Arena/Prediction/train_eval.py:688: RuntimeWarning: invalid value encountered in greater\n",
      "  ret_mask = ret_mask & ((speeds_Y > min_speed) & (speeds_Y < max_speed))\n",
      "/app/Pogona_realtime/Arena/Prediction/train_eval.py:688: RuntimeWarning: invalid value encountered in less\n",
      "  ret_mask = ret_mask & ((speeds_Y > min_speed) & (speeds_Y < max_speed))\n",
      "/app/Pogona_realtime/Arena/Prediction/train_eval.py:737: RuntimeWarning: invalid value encountered in greater\n",
      "  ret_mask = (variances > min_std ** 2) & (variances < max_std ** 2)\n",
      "/app/Pogona_realtime/Arena/Prediction/train_eval.py:737: RuntimeWarning: invalid value encountered in less\n",
      "  ret_mask = (variances > min_std ** 2) & (variances < max_std ** 2)\n",
      "/app/Pogona_realtime/Arena/Prediction/train_eval.py:778: RuntimeWarning: invalid value encountered in greater\n",
      "  ret_mask = ret_mask & ((corr_X > min_corr) & (corr_X < max_corr))\n",
      "/app/Pogona_realtime/Arena/Prediction/train_eval.py:778: RuntimeWarning: invalid value encountered in less\n",
      "  ret_mask = ret_mask & ((corr_X > min_corr) & (corr_X < max_corr))\n",
      "/app/Pogona_realtime/Arena/Prediction/train_eval.py:780: RuntimeWarning: invalid value encountered in greater\n",
      "  ret_mask = ret_mask & ((corr_Y > min_corr) & (corr_Y < max_corr))\n",
      "/app/Pogona_realtime/Arena/Prediction/train_eval.py:780: RuntimeWarning: invalid value encountered in less\n",
      "  ret_mask = ret_mask & ((corr_Y > min_corr) & (corr_Y < max_corr))\n",
      "/app/Pogona_realtime/Arena/Prediction/train_eval.py:716: RuntimeWarning: invalid value encountered in greater\n",
      "  ret_mask = ret_mask & ((zgzgs_X > min_zgzg) & (zgzgs_X < max_zgzg))\n",
      "/app/Pogona_realtime/Arena/Prediction/train_eval.py:716: RuntimeWarning: invalid value encountered in less\n",
      "  ret_mask = ret_mask & ((zgzgs_X > min_zgzg) & (zgzgs_X < max_zgzg))\n",
      "/app/Pogona_realtime/Arena/Prediction/train_eval.py:718: RuntimeWarning: invalid value encountered in greater\n",
      "  ret_mask = ret_mask & ((zgzgs_Y > min_zgzg) & (zgzgs_Y < max_zgzg))\n",
      "/app/Pogona_realtime/Arena/Prediction/train_eval.py:718: RuntimeWarning: invalid value encountered in less\n",
      "  ret_mask = ret_mask & ((zgzgs_Y > min_zgzg) & (zgzgs_Y < max_zgzg))\n"
     ]
    }
   ],
   "source": [
    "# run only in initailization of notebook\n",
    "trials_dict = train_eval.create_samples(df=all_df,\n",
    "                                        mask_fn=mask_fn,\n",
    "                                        keep_prob=mask_dict['keep_prob'],\n",
    "                                        input_labels=net_params['input_labels'], output_labels=net_params['output_labels'], \n",
    "                                        input_seq_size=net_params['inp_seq_len'], output_seq_size=net_params['out_seq_len'],\n",
    "                                        keep_nans=True)"
   ]
  },
  {
   "cell_type": "code",
   "execution_count": 677,
   "metadata": {},
   "outputs": [],
   "source": [
    "# run when masking is updated\n",
    "train_eval.update_trials_dict(trials_dict, mask_fn, keep_prob=mask_dict['keep_prob'])"
   ]
  },
  {
   "cell_type": "code",
   "execution_count": 34,
   "metadata": {},
   "outputs": [],
   "source": [
    "train_trials, val_trials, test_trials = train_eval.split_train_val_test(trials_dict, split=(1.0, 0, 0))"
   ]
  },
  {
   "cell_type": "code",
   "execution_count": 352,
   "metadata": {},
   "outputs": [],
   "source": [
    "HP_JSON = 'Prediction/traj_models/models_params.json'\n",
    "\n",
    "with open(HP_JSON, 'r') as fp:\n",
    "    json_dict = json.load(fp)\n",
    "\n",
    "model_parse = 'LSTMdense_1004-1753_i2_o20_h350_l1'\n",
    "train_trials = json_dict[model_parse]['training_params']['train_trials']\n",
    "val_trials = json_dict[model_parse]['training_params']['val_trials']\n",
    "test_trials = json_dict[model_parse]['training_params']['test_trials']"
   ]
  },
  {
   "cell_type": "code",
   "execution_count": 353,
   "metadata": {},
   "outputs": [
    {
     "name": "stdout",
     "output_type": "stream",
     "text": [
      "Sample size:\n",
      "Training: 88 trials, 381108 seqs\n",
      "Validation: 11 trials, 54082 seqs\n",
      "Test: 11 trials, 44491 seqs\n"
     ]
    }
   ],
   "source": [
    "batch_size = 128\n",
    "train_dl, val_dl, test_dl = train_eval.create_train_val_test_dataloaders(trials_dict, train_trials, val_trials, test_trials,\n",
    "                                                                         train_mask=False, val_mask=False, test_mask=False,\n",
    "                                                                         batch_size=batch_size, shuffle=False)\n",
    "\n",
    "print(\"Sample size:\")\n",
    "print(f\"Training: {len(train_trials)} trials, {len(train_dl.dataset)} seqs\")\n",
    "if val_dl is not None:\n",
    "    print(f\"Validation: {len(val_trials)} trials, {len(val_dl.dataset)} seqs\")\n",
    "if test_dl is not None:\n",
    "    print(f\"Test: {len(test_trials)} trials, {len(test_dl.dataset)} seqs\")"
   ]
  },
  {
   "cell_type": "code",
   "execution_count": 354,
   "metadata": {},
   "outputs": [],
   "source": [
    "\"\"\" \n",
    "TODO - Sequence level prediction? create seq_data_Yhat - the same dimensions as seq_data_Y. \n",
    "How to batch predict? and only on the test set?\n",
    "\"\"\"\n",
    "def get_seq_forecast(dataloader, traj_pred):\n",
    "    forecasts_list = []\n",
    "    \n",
    "    with torch.no_grad():\n",
    "        for x, y in dataloader:\n",
    "            y_hat = traj_pred.model(x.float().to(traj_pred.model.device)).cpu().numpy()\n",
    "            forecasts_list.append(y_hat)\n",
    "    return np.concatenate(forecasts_list)"
   ]
  },
  {
   "cell_type": "code",
   "execution_count": 355,
   "metadata": {},
   "outputs": [],
   "source": [
    "dl = test_dl\n",
    "seq_data_X = dl.dataset.X.numpy()#[:,:,2:]\n",
    "seq_data_Y = dl.dataset.Y.numpy()#[:,:,2:]\n",
    "seq_data_pred=None"
   ]
  },
  {
   "cell_type": "code",
   "execution_count": 356,
   "metadata": {},
   "outputs": [
    {
     "name": "stdout",
     "output_type": "stream",
     "text": [
      "Total MB of data: 27.2\n"
     ]
    }
   ],
   "source": [
    "print(f'Total MB of data: {seq_data_X.nbytes/2**20 + seq_data_Y.nbytes/2**20:.1f}')"
   ]
  },
  {
   "cell_type": "code",
   "execution_count": 357,
   "metadata": {},
   "outputs": [
    {
     "data": {
      "text/plain": [
       "(44491, 20, 4)"
      ]
     },
     "execution_count": 357,
     "metadata": {},
     "output_type": "execute_result"
    }
   ],
   "source": [
    "seq_data_X.shape"
   ]
  },
  {
   "cell_type": "code",
   "execution_count": 358,
   "metadata": {},
   "outputs": [],
   "source": [
    "def eval_traj_predictor_on_trials(predictor, trials):\n",
    "    all_results = []\n",
    "    all_forecasts = []\n",
    "    trial_lens = []\n",
    "    \n",
    "    for trial in trials:\n",
    "        bboxes = all_df.loc[trial][['x1', 'y1', 'x2', 'y2']].values\n",
    "        results, forecasts = train_eval.eval_trajectory_predictor(predictor, bboxes)\n",
    "        all_results.append(results)\n",
    "        all_forecasts.append(forecasts)\n",
    "        trial_lens.append(bboxes.shape[0])\n",
    "        \n",
    "    ADEs = [r['avg ADE'] for r in all_results]\n",
    "    FDEs = [r['avg FDE'] for r in all_results]\n",
    "    \n",
    "    return ADEs, FDEs, trial_lens, all_forecasts\n",
    "\n",
    "def all_forecasts_to_seq_data(net_params, all_forecasts):\n",
    "    all_np_forecasts = []\n",
    "    inp_seq_len = net_params['inp_seq_len']\n",
    "    out_seq_len = net_params['out_seq_len']\n",
    "    out_dim = net_params['output_dim']\n",
    "    nans_forecast = np.empty((out_seq_len, out_dim))\n",
    "    nans_forecast[:] = np.nan\n",
    "\n",
    "    for forecasts in all_forecasts:\n",
    "        forecasts_wo_nones = [nans_forecast if f is None else f for f in forecasts]\n",
    "        np_forecasts = np.stack(forecasts_wo_nones[inp_seq_len-1:-out_seq_len])\n",
    "        all_np_forecasts.append(np_forecasts)\n",
    "    \n",
    "    return np.concatenate(all_np_forecasts)"
   ]
  },
  {
   "cell_type": "code",
   "execution_count": 175,
   "metadata": {
    "collapsed": true,
    "jupyter": {
     "outputs_hidden": true
    }
   },
   "outputs": [
    {
     "data": {
      "application/vnd.jupyter.widget-view+json": {
       "model_id": "7b782613f39c416ba6778f7afcd7e1d0",
       "version_major": 2,
       "version_minor": 0
      },
      "text/plain": [
       "HBox(children=(FloatProgress(value=0.0, max=308.0), HTML(value='')))"
      ]
     },
     "metadata": {},
     "output_type": "display_data"
    },
    {
     "name": "stdout",
     "output_type": "stream",
     "text": [
      "\n"
     ]
    },
    {
     "data": {
      "application/vnd.jupyter.widget-view+json": {
       "model_id": "ee72f40fdbe44766b151c3a9cafab2b5",
       "version_major": 2,
       "version_minor": 0
      },
      "text/plain": [
       "HBox(children=(FloatProgress(value=0.0, max=288.0), HTML(value='')))"
      ]
     },
     "metadata": {},
     "output_type": "display_data"
    },
    {
     "name": "stdout",
     "output_type": "stream",
     "text": [
      "\n"
     ]
    },
    {
     "data": {
      "application/vnd.jupyter.widget-view+json": {
       "model_id": "d74092ddd5bf4fce8c8c72366c1ea4a1",
       "version_major": 2,
       "version_minor": 0
      },
      "text/plain": [
       "HBox(children=(FloatProgress(value=0.0, max=148.0), HTML(value='')))"
      ]
     },
     "metadata": {},
     "output_type": "display_data"
    },
    {
     "name": "stdout",
     "output_type": "stream",
     "text": [
      "\n"
     ]
    },
    {
     "data": {
      "application/vnd.jupyter.widget-view+json": {
       "model_id": "ac622503bbd446bea935c565d6f37dcb",
       "version_major": 2,
       "version_minor": 0
      },
      "text/plain": [
       "HBox(children=(FloatProgress(value=0.0, max=128.0), HTML(value='')))"
      ]
     },
     "metadata": {},
     "output_type": "display_data"
    },
    {
     "name": "stdout",
     "output_type": "stream",
     "text": [
      "\n"
     ]
    },
    {
     "data": {
      "application/vnd.jupyter.widget-view+json": {
       "model_id": "bbd7afd24c3a41f18222c55eca475bf2",
       "version_major": 2,
       "version_minor": 0
      },
      "text/plain": [
       "HBox(children=(FloatProgress(value=0.0, max=5081.0), HTML(value='')))"
      ]
     },
     "metadata": {},
     "output_type": "display_data"
    },
    {
     "name": "stdout",
     "output_type": "stream",
     "text": [
      "\n"
     ]
    },
    {
     "data": {
      "application/vnd.jupyter.widget-view+json": {
       "model_id": "edcfe921524844a5a69cdf7fce3e64e1",
       "version_major": 2,
       "version_minor": 0
      },
      "text/plain": [
       "HBox(children=(FloatProgress(value=0.0, max=5061.0), HTML(value='')))"
      ]
     },
     "metadata": {},
     "output_type": "display_data"
    },
    {
     "name": "stdout",
     "output_type": "stream",
     "text": [
      "\n"
     ]
    },
    {
     "data": {
      "application/vnd.jupyter.widget-view+json": {
       "model_id": "ab09187614a04b9c847f58b8d8f775b0",
       "version_major": 2,
       "version_minor": 0
      },
      "text/plain": [
       "HBox(children=(FloatProgress(value=0.0, max=5229.0), HTML(value='')))"
      ]
     },
     "metadata": {},
     "output_type": "display_data"
    },
    {
     "name": "stdout",
     "output_type": "stream",
     "text": [
      "\n"
     ]
    },
    {
     "data": {
      "application/vnd.jupyter.widget-view+json": {
       "model_id": "f59de4a7680440e88ba121e6c46cc63f",
       "version_major": 2,
       "version_minor": 0
      },
      "text/plain": [
       "HBox(children=(FloatProgress(value=0.0, max=5209.0), HTML(value='')))"
      ]
     },
     "metadata": {},
     "output_type": "display_data"
    },
    {
     "name": "stdout",
     "output_type": "stream",
     "text": [
      "\n"
     ]
    },
    {
     "data": {
      "application/vnd.jupyter.widget-view+json": {
       "model_id": "1c7ff14e3b534592b24eb334ca8ca08e",
       "version_major": 2,
       "version_minor": 0
      },
      "text/plain": [
       "HBox(children=(FloatProgress(value=0.0, max=5223.0), HTML(value='')))"
      ]
     },
     "metadata": {},
     "output_type": "display_data"
    },
    {
     "name": "stdout",
     "output_type": "stream",
     "text": [
      "\n"
     ]
    },
    {
     "data": {
      "application/vnd.jupyter.widget-view+json": {
       "model_id": "883065644c634217add169ab3d637860",
       "version_major": 2,
       "version_minor": 0
      },
      "text/plain": [
       "HBox(children=(FloatProgress(value=0.0, max=5203.0), HTML(value='')))"
      ]
     },
     "metadata": {},
     "output_type": "display_data"
    },
    {
     "name": "stdout",
     "output_type": "stream",
     "text": [
      "\n"
     ]
    },
    {
     "data": {
      "application/vnd.jupyter.widget-view+json": {
       "model_id": "ae7ac894eb0942d0b6d2d1988a0a609b",
       "version_major": 2,
       "version_minor": 0
      },
      "text/plain": [
       "HBox(children=(FloatProgress(value=0.0, max=2977.0), HTML(value='')))"
      ]
     },
     "metadata": {},
     "output_type": "display_data"
    },
    {
     "name": "stdout",
     "output_type": "stream",
     "text": [
      "\n"
     ]
    },
    {
     "data": {
      "application/vnd.jupyter.widget-view+json": {
       "model_id": "5404f666ed3c434aab889e3b73a3db52",
       "version_major": 2,
       "version_minor": 0
      },
      "text/plain": [
       "HBox(children=(FloatProgress(value=0.0, max=2957.0), HTML(value='')))"
      ]
     },
     "metadata": {},
     "output_type": "display_data"
    },
    {
     "name": "stdout",
     "output_type": "stream",
     "text": [
      "\n"
     ]
    },
    {
     "data": {
      "application/vnd.jupyter.widget-view+json": {
       "model_id": "d7eca9a5bc1d4f828530fe2501938b19",
       "version_major": 2,
       "version_minor": 0
      },
      "text/plain": [
       "HBox(children=(FloatProgress(value=0.0, max=5288.0), HTML(value='')))"
      ]
     },
     "metadata": {},
     "output_type": "display_data"
    },
    {
     "name": "stdout",
     "output_type": "stream",
     "text": [
      "\n"
     ]
    },
    {
     "data": {
      "application/vnd.jupyter.widget-view+json": {
       "model_id": "9011eeaebb1f4bf899fb0130d8692a6b",
       "version_major": 2,
       "version_minor": 0
      },
      "text/plain": [
       "HBox(children=(FloatProgress(value=0.0, max=5268.0), HTML(value='')))"
      ]
     },
     "metadata": {},
     "output_type": "display_data"
    },
    {
     "name": "stdout",
     "output_type": "stream",
     "text": [
      "\n"
     ]
    },
    {
     "data": {
      "application/vnd.jupyter.widget-view+json": {
       "model_id": "3fc07d28400c40b7a532e0b92bfdfce4",
       "version_major": 2,
       "version_minor": 0
      },
      "text/plain": [
       "HBox(children=(FloatProgress(value=0.0, max=5287.0), HTML(value='')))"
      ]
     },
     "metadata": {},
     "output_type": "display_data"
    },
    {
     "name": "stdout",
     "output_type": "stream",
     "text": [
      "\n"
     ]
    },
    {
     "data": {
      "application/vnd.jupyter.widget-view+json": {
       "model_id": "283fe297ac1b43459000c7392f8250c4",
       "version_major": 2,
       "version_minor": 0
      },
      "text/plain": [
       "HBox(children=(FloatProgress(value=0.0, max=5267.0), HTML(value='')))"
      ]
     },
     "metadata": {},
     "output_type": "display_data"
    },
    {
     "name": "stdout",
     "output_type": "stream",
     "text": [
      "\n"
     ]
    },
    {
     "data": {
      "application/vnd.jupyter.widget-view+json": {
       "model_id": "7328af69939846d2a8a62749cdf1746d",
       "version_major": 2,
       "version_minor": 0
      },
      "text/plain": [
       "HBox(children=(FloatProgress(value=0.0, max=5080.0), HTML(value='')))"
      ]
     },
     "metadata": {},
     "output_type": "display_data"
    },
    {
     "name": "stdout",
     "output_type": "stream",
     "text": [
      "\n"
     ]
    },
    {
     "data": {
      "application/vnd.jupyter.widget-view+json": {
       "model_id": "010e0e8c026341b08d20cd5b5c1db659",
       "version_major": 2,
       "version_minor": 0
      },
      "text/plain": [
       "HBox(children=(FloatProgress(value=0.0, max=5060.0), HTML(value='')))"
      ]
     },
     "metadata": {},
     "output_type": "display_data"
    },
    {
     "name": "stdout",
     "output_type": "stream",
     "text": [
      "\n"
     ]
    },
    {
     "data": {
      "application/vnd.jupyter.widget-view+json": {
       "model_id": "c308bfa309ed4fa0874a77be956ea8c3",
       "version_major": 2,
       "version_minor": 0
      },
      "text/plain": [
       "HBox(children=(FloatProgress(value=0.0, max=5081.0), HTML(value='')))"
      ]
     },
     "metadata": {},
     "output_type": "display_data"
    },
    {
     "name": "stdout",
     "output_type": "stream",
     "text": [
      "\n"
     ]
    },
    {
     "data": {
      "application/vnd.jupyter.widget-view+json": {
       "model_id": "50c40dd93c464c079f28e560f45e94e9",
       "version_major": 2,
       "version_minor": 0
      },
      "text/plain": [
       "HBox(children=(FloatProgress(value=0.0, max=5061.0), HTML(value='')))"
      ]
     },
     "metadata": {},
     "output_type": "display_data"
    },
    {
     "name": "stdout",
     "output_type": "stream",
     "text": [
      "\n"
     ]
    },
    {
     "data": {
      "application/vnd.jupyter.widget-view+json": {
       "model_id": "c7f5e10ad0314eac8ba6b73607a5c87b",
       "version_major": 2,
       "version_minor": 0
      },
      "text/plain": [
       "HBox(children=(FloatProgress(value=0.0, max=5218.0), HTML(value='')))"
      ]
     },
     "metadata": {},
     "output_type": "display_data"
    },
    {
     "name": "stdout",
     "output_type": "stream",
     "text": [
      "\n"
     ]
    },
    {
     "data": {
      "application/vnd.jupyter.widget-view+json": {
       "model_id": "a5978730194544e68efd37a78e517603",
       "version_major": 2,
       "version_minor": 0
      },
      "text/plain": [
       "HBox(children=(FloatProgress(value=0.0, max=5198.0), HTML(value='')))"
      ]
     },
     "metadata": {},
     "output_type": "display_data"
    },
    {
     "name": "stdout",
     "output_type": "stream",
     "text": [
      "\n"
     ]
    }
   ],
   "source": [
    "ADEs, FDEs, trial_lens, all_forecasts = eval_traj_predictor_on_trials(traj_predictor_kalman, test_trials)\n",
    "seq_data_pred_kalman = all_forecasts_to_seq_data(net_params, all_forecasts)"
   ]
  },
  {
   "cell_type": "code",
   "execution_count": 404,
   "metadata": {},
   "outputs": [],
   "source": [
    "#seq_data_pred_lstm = get_seq_forecast(dl, traj_predictor_lstm)\n",
    "seq_data_pred_gru = get_seq_forecast(dl, traj_predictor_gru)\n",
    "#seq_data_pred = seq_data_pred[:,:,2:]"
   ]
  },
  {
   "cell_type": "markdown",
   "metadata": {},
   "source": [
    "### Average ADE results on test set\n",
    "- lstm: 9.8143/41.3148\n",
    "- gru-20: 9.4457/40.2263\n",
    "- gru-10: 6.4983/22.9242\n",
    "- kalman 53.77565355787182 / 13.338808356545009\n"
   ]
  },
  {
   "cell_type": "code",
   "execution_count": 360,
   "metadata": {},
   "outputs": [
    {
     "data": {
      "text/plain": [
       "((44491, 20, 4), (44491, 20, 4), (44491, 20, 4))"
      ]
     },
     "execution_count": 360,
     "metadata": {},
     "output_type": "execute_result"
    }
   ],
   "source": [
    "seq_data_pred_gru.shape, seq_data_pred_lstm.shape, seq_data_pred_kalman.shape"
   ]
  },
  {
   "cell_type": "code",
   "execution_count": 129,
   "metadata": {},
   "outputs": [],
   "source": [
    "bar_df = pd.DataFrame(index=['Enc-Linear', 'Enc-Dec-20-20', 'Kalman'], columns=['False','True'])"
   ]
  },
  {
   "cell_type": "code",
   "execution_count": 130,
   "metadata": {},
   "outputs": [],
   "source": [
    "data = np.array([[ 9.8143,41.3148],\n",
    "                [ 9.4457,40.2263],\n",
    "                [13.338808356545009,53.77565355787182]])"
   ]
  },
  {
   "cell_type": "code",
   "execution_count": 131,
   "metadata": {},
   "outputs": [],
   "source": [
    "bar_df.loc[:,:] = data"
   ]
  },
  {
   "cell_type": "code",
   "execution_count": 132,
   "metadata": {},
   "outputs": [],
   "source": [
    "bar_df['Model'] = bar_df.index"
   ]
  },
  {
   "cell_type": "code",
   "execution_count": 133,
   "metadata": {},
   "outputs": [],
   "source": [
    "long_df = pd.melt(bar_df,id_vars=['Model'], var_name='Masking',value_name='ADE', ignore_index=False)"
   ]
  },
  {
   "cell_type": "code",
   "execution_count": 134,
   "metadata": {},
   "outputs": [
    {
     "data": {
      "text/html": [
       "<div>\n",
       "<style scoped>\n",
       "    .dataframe tbody tr th:only-of-type {\n",
       "        vertical-align: middle;\n",
       "    }\n",
       "\n",
       "    .dataframe tbody tr th {\n",
       "        vertical-align: top;\n",
       "    }\n",
       "\n",
       "    .dataframe thead th {\n",
       "        text-align: right;\n",
       "    }\n",
       "</style>\n",
       "<table border=\"1\" class=\"dataframe\">\n",
       "  <thead>\n",
       "    <tr style=\"text-align: right;\">\n",
       "      <th></th>\n",
       "      <th>Model</th>\n",
       "      <th>Masking</th>\n",
       "      <th>ADE</th>\n",
       "    </tr>\n",
       "  </thead>\n",
       "  <tbody>\n",
       "    <tr>\n",
       "      <th>Enc-Linear</th>\n",
       "      <td>Enc-Linear</td>\n",
       "      <td>False</td>\n",
       "      <td>9.814300</td>\n",
       "    </tr>\n",
       "    <tr>\n",
       "      <th>Enc-Dec-20-20</th>\n",
       "      <td>Enc-Dec-20-20</td>\n",
       "      <td>False</td>\n",
       "      <td>9.445700</td>\n",
       "    </tr>\n",
       "    <tr>\n",
       "      <th>Kalman</th>\n",
       "      <td>Kalman</td>\n",
       "      <td>False</td>\n",
       "      <td>13.338808</td>\n",
       "    </tr>\n",
       "    <tr>\n",
       "      <th>Enc-Linear</th>\n",
       "      <td>Enc-Linear</td>\n",
       "      <td>True</td>\n",
       "      <td>41.314800</td>\n",
       "    </tr>\n",
       "    <tr>\n",
       "      <th>Enc-Dec-20-20</th>\n",
       "      <td>Enc-Dec-20-20</td>\n",
       "      <td>True</td>\n",
       "      <td>40.226300</td>\n",
       "    </tr>\n",
       "    <tr>\n",
       "      <th>Kalman</th>\n",
       "      <td>Kalman</td>\n",
       "      <td>True</td>\n",
       "      <td>53.775654</td>\n",
       "    </tr>\n",
       "  </tbody>\n",
       "</table>\n",
       "</div>"
      ],
      "text/plain": [
       "                       Model Masking        ADE\n",
       "Enc-Linear        Enc-Linear   False   9.814300\n",
       "Enc-Dec-20-20  Enc-Dec-20-20   False   9.445700\n",
       "Kalman                Kalman   False  13.338808\n",
       "Enc-Linear        Enc-Linear    True  41.314800\n",
       "Enc-Dec-20-20  Enc-Dec-20-20    True  40.226300\n",
       "Kalman                Kalman    True  53.775654"
      ]
     },
     "execution_count": 134,
     "metadata": {},
     "output_type": "execute_result"
    }
   ],
   "source": [
    "long_df"
   ]
  },
  {
   "cell_type": "code",
   "execution_count": 141,
   "metadata": {},
   "outputs": [
    {
     "data": {
      "image/png": "[encoded data removed]",
      "text/plain": [
       "<Figure size 504x504 with 1 Axes>"
      ]
     },
     "metadata": {
      "needs_background": "light"
     },
     "output_type": "display_data"
    }
   ],
   "source": [
    "%matplotlib inline\n",
    "plt.figure(figsize=(7,7))\n",
    "sns.barplot(x='Model',y='ADE',hue='Masking',data=long_df)\n",
    "plt.ylabel('ADE',fontsize=15, rotation=0,labelpad=20)\n",
    "plt.xlabel('Model',fontsize=15)\n",
    "\n",
    "plt.savefig('../experiments_plots/ADEs_bar.jpg',dpi=200)"
   ]
  },
  {
   "cell_type": "code",
   "execution_count": 54,
   "metadata": {},
   "outputs": [
    {
     "data": {
      "text/plain": [
       "tensor(22.9242)"
      ]
     },
     "execution_count": 54,
     "metadata": {},
     "output_type": "execute_result"
    }
   ],
   "source": [
    "train_eval.calc_ADE(torch.tensor(seq_data_pred[data_mask]), torch.tensor(seq_data_Y[data_mask]))"
   ]
  },
  {
   "cell_type": "code",
   "execution_count": 27,
   "metadata": {},
   "outputs": [
    {
     "data": {
      "text/plain": [
       "(44395, 20, 2)"
      ]
     },
     "execution_count": 27,
     "metadata": {},
     "output_type": "execute_result"
    }
   ],
   "source": [
    "seq_data_Y.shape"
   ]
  },
  {
   "cell_type": "code",
   "execution_count": 230,
   "metadata": {},
   "outputs": [],
   "source": [
    "hits_X, hits_Y = seqs_contain_hits(all_df.loc[test_trials], 20, 20, steps2hit=0, stride=1)"
   ]
  },
  {
   "cell_type": "code",
   "execution_count": 683,
   "metadata": {},
   "outputs": [],
   "source": [
    "hits_preds = get_seq_forecast(train_eval.DataLoader(train_eval.TrajectoriesData(hits_X, hits_Y),batch_size=128), traj_predictor)"
   ]
  },
  {
   "cell_type": "code",
   "execution_count": 21,
   "metadata": {},
   "outputs": [],
   "source": [
    "im = cv.imread('../pogona_frames/transformed_image.jpg')\n",
    "im = cv.convertScaleAbs(im, alpha=2.5,beta=-128)"
   ]
  },
  {
   "cell_type": "markdown",
   "metadata": {},
   "source": [
    "#### Visualizer"
   ]
  },
  {
   "cell_type": "code",
   "execution_count": 423,
   "metadata": {},
   "outputs": [
    {
     "data": {
      "application/vnd.jupyter.widget-view+json": {
       "model_id": "79858b9505eb4f45b32e4c876cae7c5d",
       "version_major": 2,
       "version_minor": 0
      },
      "text/plain": [
       "Canvas(toolbar=Toolbar(toolitems=[('Home', 'Reset original view', 'home', 'home'), ('Back', 'Back to previous …"
      ]
     },
     "metadata": {},
     "output_type": "display_data"
    },
    {
     "data": {
      "text/plain": [
       "<matplotlib.legend.Legend at 0x7fbb29c97c50>"
      ]
     },
     "execution_count": 423,
     "metadata": {},
     "output_type": "execute_result"
    }
   ],
   "source": [
    "%matplotlib widget\n",
    "#%matplotlib inline\n",
    "fig,ax = plt.subplots(1,1,figsize=(7,9))\n",
    "\n",
    "ax.imshow(im,alpha=0.15)\n",
    "\n",
    "N_samples = 2\n",
    "\n",
    "data_mask = mask_fn(seq_data_X, seq_data_Y)\n",
    "\n",
    "sampling_mask = np.random.choice(np.argwhere(data_mask).squeeze(), size=N_samples)\n",
    "\n",
    "sample_X = seq_data_X[sampling_mask]\n",
    "sample_Y = seq_data_Y[sampling_mask]\n",
    "\n",
    "sample_kalman = seq_data_pred_kalman[sampling_mask]\n",
    "sample_lstm = seq_data_pred_lstm[sampling_mask]\n",
    "sample_gru = seq_data_pred_gru[sampling_mask]\n",
    "\n",
    "if seq_data_pred is not None:\n",
    "    sample_pred = seq_data_pred[sampling_mask]\n",
    "    draw_diffs = True\n",
    "else:\n",
    "    sample_pred = None\n",
    "    draw_diffs = False\n",
    "\"\"\"\n",
    "sampling_mask = np.random.choice(np.arange(hits_X.shape[0]),size=N_samples)\n",
    "sample_X = hits_X[:,:,2:][sampling_mask]\n",
    "sample_Y = hits_Y[:,:,2:][sampling_mask]\n",
    "#sample_pred = hits_preds[:,:,2:][sampling_mask]\n",
    "\n",
    "touches = (all_df.is_touch) #& (all_df.y2 > 250)\n",
    "plt.scatter(all_df[touches].x2, all_df[touches].y2, color='y', s=25)\n",
    "\"\"\"\n",
    "\n",
    "l_alpha = 0.5\n",
    "\n",
    "draw_sequences(arr_X=sample_X,\n",
    "           arr_Y=sample_Y,\n",
    "           arr_pred=None,\n",
    "           ax=ax,\n",
    "           sctr_s=1,\n",
    "           l_alpha=l_alpha,\n",
    "           sctr_alpha=0.75,\n",
    "           to_scatter=True,\n",
    "           draw_diffs=False)\n",
    "\n",
    "\n",
    "draw_sequences(arr_X=None,\n",
    "           arr_Y=sample_kalman,\n",
    "           arr_pred=None,\n",
    "           ax=ax,\n",
    "           sctr_s=1,\n",
    "           l_alpha=l_alpha,\n",
    "           sctr_alpha=0.75,\n",
    "           to_scatter=True,\n",
    "           draw_diffs=False,\n",
    "           ylabel='Kalman',\n",
    "              ftr_c='c')\n",
    "\n",
    "\"\"\"\n",
    "draw_sequences(arr_X=None,\n",
    "           arr_Y=sample_lstm,\n",
    "           arr_pred=None,\n",
    "           ax=ax,\n",
    "           sctr_s=1,\n",
    "           l_alpha=0.2,\n",
    "           sctr_alpha=0.75,\n",
    "           to_scatter=True,\n",
    "           draw_diffs=False,\n",
    "           ylabel='Enc-Linear',\n",
    "              ftr_c='magenta')\n",
    "\"\"\"\n",
    "draw_sequences(arr_X=None,\n",
    "           arr_Y=sample_gru,\n",
    "           arr_pred=None,\n",
    "           ax=ax,\n",
    "           sctr_s=1,\n",
    "           l_alpha=l_alpha,\n",
    "           sctr_alpha=0.75,\n",
    "           to_scatter=True,\n",
    "           draw_diffs=False,\n",
    "           ylabel='Enc-Dec',\n",
    "              ftr_c='orange')\n",
    "\n",
    "\n",
    "#draw_lines(data_X,data_Y)\n",
    "\n",
    "#ax.autoscale() # why doesn't work without this?\n",
    "#ax.axis('equal')\n",
    "#txt_color = 'white'\n",
    "ax.set_title(f'Input: {net_params[\"inp_seq_len\"]}, Output: {net_params[\"out_seq_len\"]} || {data_mask.sum():,} sequences',fontsize=13)\n",
    "fig.set_facecolor(color='w')\n",
    "ax.legend()\n",
    "\n",
    "#plt.savefig(\"../experiments_plots/sequence_sample.png\", dpi=200)"
   ]
  },
  {
   "cell_type": "code",
   "execution_count": 414,
   "metadata": {},
   "outputs": [
    {
     "data": {
      "text/plain": [
       "['learning_20200917T152238_trial1',\n",
       " 'learning_20200917T152238_trial3',\n",
       " 'fast_cockroach_20200803T085738_trial1',\n",
       " 'learning_20201001T081837_trial3',\n",
       " 'learning_20201001T081837_trial5',\n",
       " 'learning_20200917T154539_trial3',\n",
       " 'worm_circle_20200830T122241_trial1',\n",
       " 'beetle_fast_line_20200830T124020_trial1',\n",
       " 'circle_20200803T093051_trial1',\n",
       " 'line_20200803T095401_trial1',\n",
       " 'learning_20200923T111426_trial3']"
      ]
     },
     "execution_count": 414,
     "metadata": {},
     "output_type": "execute_result"
    }
   ],
   "source": [
    "test_trials"
   ]
  },
  {
   "cell_type": "code",
   "execution_count": 126,
   "metadata": {},
   "outputs": [],
   "source": [
    "def calc_mean_DE(y, y_hat):\n",
    "    \"\"\"\n",
    "    Calculate the  average displacement error (DE) of a test set of predictions\n",
    "    displacement is the L2 norm between the prediction and the truth\n",
    "    :param y_hat: torch tensor dims (number of sample, out seq size, out size)\n",
    "    :param y: same\n",
    "    :return: average DE for each timestep over batch\n",
    "    \"\"\"\n",
    "    if len(y_hat.shape) == 2:\n",
    "        y_hat = y_hat[None,:,:]\n",
    "        y = y[None,:,:]\n",
    "\n",
    "    return np.mean(np.linalg.norm(y_hat - y, axis=2), axis=0)\n",
    "\n",
    "\n",
    "def calc_DE(y, y_hat):\n",
    "    \"\"\"\n",
    "    Calculate the  average displacement error (DE) of a test set of predictions\n",
    "    displacement is the L2 norm between the prediction and the truth\n",
    "    :param y_hat: torch tensor dims (number of sample, out seq size, out size)\n",
    "    :param y: same\n",
    "    :return: average DE for each timestep over batch\n",
    "    \"\"\"\n",
    "    if len(y_hat.shape) == 2:\n",
    "        y_hat = y_hat[None,:,:]\n",
    "        y = y[None,:,:]\n",
    "\n",
    "    return np.linalg.norm(y_hat - y, axis=2)\n",
    "\n",
    "\n"
   ]
  },
  {
   "cell_type": "code",
   "execution_count": 127,
   "metadata": {},
   "outputs": [
    {
     "ename": "AttributeError",
     "evalue": "'NoneType' object has no attribute 'shape'",
     "output_type": "error",
     "traceback": [
      "\u001b[0;31m\u001b[0m",
      "\u001b[0;31mAttributeError\u001b[0mTraceback (most recent call last)",
      "\u001b[0;32m<ipython-input-127-5a2642214e12>\u001b[0m in \u001b[0;36m<module>\u001b[0;34m\u001b[0m\n\u001b[0;32m----> 1\u001b[0;31m \u001b[0mdes\u001b[0m \u001b[0;34m=\u001b[0m \u001b[0mcalc_mean_DE\u001b[0m\u001b[0;34m(\u001b[0m\u001b[0mseq_data_Y\u001b[0m\u001b[0;34m,\u001b[0m \u001b[0mseq_data_pred\u001b[0m\u001b[0;34m)\u001b[0m\u001b[0;34m\u001b[0m\u001b[0;34m\u001b[0m\u001b[0m\n\u001b[0m",
      "\u001b[0;32m<ipython-input-126-2bc8efa3794b>\u001b[0m in \u001b[0;36mcalc_mean_DE\u001b[0;34m(y, y_hat)\u001b[0m\n\u001b[1;32m      7\u001b[0m     \u001b[0;34m:\u001b[0m\u001b[0;32mreturn\u001b[0m\u001b[0;34m:\u001b[0m \u001b[0maverage\u001b[0m \u001b[0mDE\u001b[0m \u001b[0;32mfor\u001b[0m \u001b[0meach\u001b[0m \u001b[0mtimestep\u001b[0m \u001b[0mover\u001b[0m \u001b[0mbatch\u001b[0m\u001b[0;34m\u001b[0m\u001b[0;34m\u001b[0m\u001b[0m\n\u001b[1;32m      8\u001b[0m     \"\"\"\n\u001b[0;32m----> 9\u001b[0;31m     \u001b[0;32mif\u001b[0m \u001b[0mlen\u001b[0m\u001b[0;34m(\u001b[0m\u001b[0my_hat\u001b[0m\u001b[0;34m.\u001b[0m\u001b[0mshape\u001b[0m\u001b[0;34m)\u001b[0m \u001b[0;34m==\u001b[0m \u001b[0;36m2\u001b[0m\u001b[0;34m:\u001b[0m\u001b[0;34m\u001b[0m\u001b[0;34m\u001b[0m\u001b[0m\n\u001b[0m\u001b[1;32m     10\u001b[0m         \u001b[0my_hat\u001b[0m \u001b[0;34m=\u001b[0m \u001b[0my_hat\u001b[0m\u001b[0;34m[\u001b[0m\u001b[0;32mNone\u001b[0m\u001b[0;34m,\u001b[0m\u001b[0;34m:\u001b[0m\u001b[0;34m,\u001b[0m\u001b[0;34m:\u001b[0m\u001b[0;34m]\u001b[0m\u001b[0;34m\u001b[0m\u001b[0;34m\u001b[0m\u001b[0m\n\u001b[1;32m     11\u001b[0m         \u001b[0my\u001b[0m \u001b[0;34m=\u001b[0m \u001b[0my\u001b[0m\u001b[0;34m[\u001b[0m\u001b[0;32mNone\u001b[0m\u001b[0;34m,\u001b[0m\u001b[0;34m:\u001b[0m\u001b[0;34m,\u001b[0m\u001b[0;34m:\u001b[0m\u001b[0;34m]\u001b[0m\u001b[0;34m\u001b[0m\u001b[0;34m\u001b[0m\u001b[0m\n",
      "\u001b[0;31mAttributeError\u001b[0m: 'NoneType' object has no attribute 'shape'"
     ]
    }
   ],
   "source": [
    "des = calc_mean_DE(seq_data_Y, seq_data_pred)"
   ]
  },
  {
   "cell_type": "code",
   "execution_count": 657,
   "metadata": {},
   "outputs": [],
   "source": [
    "des_dists = calc_DE(seq_data_Y[data_mask], seq_data_pred[data_mask])"
   ]
  },
  {
   "cell_type": "code",
   "execution_count": 658,
   "metadata": {},
   "outputs": [],
   "source": [
    "de_df = pd.DataFrame(data=des_dists, columns=np.arange(1,21))"
   ]
  },
  {
   "cell_type": "code",
   "execution_count": 667,
   "metadata": {},
   "outputs": [
    {
     "data": {
      "text/plain": [
       "Text(0.5, 1.0, 'Displacement error distribution as a function of timestep')"
      ]
     },
     "execution_count": 667,
     "metadata": {},
     "output_type": "execute_result"
    },
    {
     "data": {
      "image/png": "[encoded data removed]",
      "text/plain": [
       "<Figure size 1440x720 with 1 Axes>"
      ]
     },
     "metadata": {
      "needs_background": "light"
     },
     "output_type": "display_data"
    }
   ],
   "source": [
    "%matplotlib inline\n",
    "fig, ax = plt.subplots(1,1,figsize=(20,10))\n",
    "sns.boxplot(data=de_df,ax=ax)\n",
    "ax.set_xlabel('Timestep', fontsize=20)\n",
    "ax.set_ylabel('DE', fontsize=20,rotation=0,labelpad=20)\n",
    "ax.set_title('Displacement error distribution as a function of timestep',fontsize=24)"
   ]
  },
  {
   "cell_type": "code",
   "execution_count": 651,
   "metadata": {},
   "outputs": [
    {
     "data": {
      "text/plain": [
       "(83, 20)"
      ]
     },
     "execution_count": 651,
     "metadata": {},
     "output_type": "execute_result"
    }
   ],
   "source": [
    "de_df.shape"
   ]
  },
  {
   "cell_type": "code",
   "execution_count": 650,
   "metadata": {},
   "outputs": [
    {
     "name": "stdout",
     "output_type": "stream",
     "text": [
      "Pearson's r: 0.9976742715, p-val: 0.0000000000\n"
     ]
    },
    {
     "data": {
      "image/png": "[encoded data removed]",
      "text/plain": [
       "<Figure size 864x432 with 1 Axes>"
      ]
     },
     "metadata": {
      "needs_background": "light"
     },
     "output_type": "display_data"
    }
   ],
   "source": [
    "%matplotlib inline\n",
    "plt.figure(figsize=(12,6))\n",
    "x = np.arange(len(de_df.columns))\n",
    "des = de_df.mean(axis=0)\n",
    "sns.regplot(x, de_df.mean(axis=0))\n",
    "#plt.axis('equal')\n",
    "\n",
    "pear = pearsonr(x, des)\n",
    "print(f\"Pearson's r: {pear[0]:.10f}, p-val: {pear[1]:.10f}\")"
   ]
  },
  {
   "cell_type": "code",
   "execution_count": 13,
   "metadata": {},
   "outputs": [],
   "source": [
    "touches = all_df.is_touch"
   ]
  },
  {
   "cell_type": "code",
   "execution_count": 15,
   "metadata": {},
   "outputs": [
    {
     "data": {
      "text/html": [
       "<div>\n",
       "<style scoped>\n",
       "    .dataframe tbody tr th:only-of-type {\n",
       "        vertical-align: middle;\n",
       "    }\n",
       "\n",
       "    .dataframe tbody tr th {\n",
       "        vertical-align: top;\n",
       "    }\n",
       "\n",
       "    .dataframe thead th {\n",
       "        text-align: right;\n",
       "    }\n",
       "</style>\n",
       "<table border=\"1\" class=\"dataframe\">\n",
       "  <thead>\n",
       "    <tr style=\"text-align: right;\">\n",
       "      <th></th>\n",
       "      <th>cent_x</th>\n",
       "      <th>cent_y</th>\n",
       "      <th>x1</th>\n",
       "      <th>y1</th>\n",
       "      <th>x2</th>\n",
       "      <th>y2</th>\n",
       "      <th>conf</th>\n",
       "      <th>num_bbox</th>\n",
       "      <th>frame_ts</th>\n",
       "      <th>hit_x</th>\n",
       "      <th>hit_y</th>\n",
       "      <th>bug_x</th>\n",
       "      <th>bug_y</th>\n",
       "      <th>is_hit</th>\n",
       "      <th>touch_ts</th>\n",
       "      <th>is_touch</th>\n",
       "    </tr>\n",
       "  </thead>\n",
       "  <tbody>\n",
       "    <tr>\n",
       "      <th>feeding_20200830-115520_None</th>\n",
       "      <td>1465.396287</td>\n",
       "      <td>3215.457874</td>\n",
       "      <td>1636.567468</td>\n",
       "      <td>3431.274696</td>\n",
       "      <td>1306.914523</td>\n",
       "      <td>3018.390327</td>\n",
       "      <td>0.986670</td>\n",
       "      <td>1.0</td>\n",
       "      <td>2020-08-30 08:55:20.382360458</td>\n",
       "      <td>NaN</td>\n",
       "      <td>NaN</td>\n",
       "      <td>NaN</td>\n",
       "      <td>NaN</td>\n",
       "      <td>NaN</td>\n",
       "      <td>NaT</td>\n",
       "      <td>False</td>\n",
       "    </tr>\n",
       "    <tr>\n",
       "      <th>feeding_20200830-115520_None</th>\n",
       "      <td>1456.438238</td>\n",
       "      <td>3218.703607</td>\n",
       "      <td>1633.532734</td>\n",
       "      <td>3428.864720</td>\n",
       "      <td>1292.171817</td>\n",
       "      <td>3026.739644</td>\n",
       "      <td>0.991233</td>\n",
       "      <td>1.0</td>\n",
       "      <td>2020-08-30 08:55:20.399383068</td>\n",
       "      <td>NaN</td>\n",
       "      <td>NaN</td>\n",
       "      <td>NaN</td>\n",
       "      <td>NaN</td>\n",
       "      <td>NaN</td>\n",
       "      <td>NaT</td>\n",
       "      <td>False</td>\n",
       "    </tr>\n",
       "    <tr>\n",
       "      <th>feeding_20200830-115520_None</th>\n",
       "      <td>1455.864165</td>\n",
       "      <td>3218.964280</td>\n",
       "      <td>1632.594184</td>\n",
       "      <td>3428.486032</td>\n",
       "      <td>1291.898023</td>\n",
       "      <td>3027.539691</td>\n",
       "      <td>0.992867</td>\n",
       "      <td>1.0</td>\n",
       "      <td>2020-08-30 08:55:20.416419268</td>\n",
       "      <td>NaN</td>\n",
       "      <td>NaN</td>\n",
       "      <td>NaN</td>\n",
       "      <td>NaN</td>\n",
       "      <td>NaN</td>\n",
       "      <td>NaT</td>\n",
       "      <td>False</td>\n",
       "    </tr>\n",
       "    <tr>\n",
       "      <th>feeding_20200830-115520_None</th>\n",
       "      <td>1456.556067</td>\n",
       "      <td>3219.311814</td>\n",
       "      <td>1634.249838</td>\n",
       "      <td>3429.889285</td>\n",
       "      <td>1291.759208</td>\n",
       "      <td>3027.011880</td>\n",
       "      <td>0.992325</td>\n",
       "      <td>1.0</td>\n",
       "      <td>2020-08-30 08:55:20.433441877</td>\n",
       "      <td>NaN</td>\n",
       "      <td>NaN</td>\n",
       "      <td>NaN</td>\n",
       "      <td>NaN</td>\n",
       "      <td>NaN</td>\n",
       "      <td>NaT</td>\n",
       "      <td>False</td>\n",
       "    </tr>\n",
       "    <tr>\n",
       "      <th>feeding_20200830-115520_None</th>\n",
       "      <td>1457.322849</td>\n",
       "      <td>3218.377523</td>\n",
       "      <td>1634.933286</td>\n",
       "      <td>3427.408600</td>\n",
       "      <td>1292.527316</td>\n",
       "      <td>3027.413619</td>\n",
       "      <td>0.992355</td>\n",
       "      <td>1.0</td>\n",
       "      <td>2020-08-30 08:55:20.450448990</td>\n",
       "      <td>NaN</td>\n",
       "      <td>NaN</td>\n",
       "      <td>NaN</td>\n",
       "      <td>NaN</td>\n",
       "      <td>NaN</td>\n",
       "      <td>NaT</td>\n",
       "      <td>False</td>\n",
       "    </tr>\n",
       "  </tbody>\n",
       "</table>\n",
       "</div>"
      ],
      "text/plain": [
       "                                   cent_x       cent_y           x1  \\\n",
       "feeding_20200830-115520_None  1465.396287  3215.457874  1636.567468   \n",
       "feeding_20200830-115520_None  1456.438238  3218.703607  1633.532734   \n",
       "feeding_20200830-115520_None  1455.864165  3218.964280  1632.594184   \n",
       "feeding_20200830-115520_None  1456.556067  3219.311814  1634.249838   \n",
       "feeding_20200830-115520_None  1457.322849  3218.377523  1634.933286   \n",
       "\n",
       "                                       y1           x2           y2      conf  \\\n",
       "feeding_20200830-115520_None  3431.274696  1306.914523  3018.390327  0.986670   \n",
       "feeding_20200830-115520_None  3428.864720  1292.171817  3026.739644  0.991233   \n",
       "feeding_20200830-115520_None  3428.486032  1291.898023  3027.539691  0.992867   \n",
       "feeding_20200830-115520_None  3429.889285  1291.759208  3027.011880  0.992325   \n",
       "feeding_20200830-115520_None  3427.408600  1292.527316  3027.413619  0.992355   \n",
       "\n",
       "                              num_bbox                      frame_ts  hit_x  \\\n",
       "feeding_20200830-115520_None       1.0 2020-08-30 08:55:20.382360458    NaN   \n",
       "feeding_20200830-115520_None       1.0 2020-08-30 08:55:20.399383068    NaN   \n",
       "feeding_20200830-115520_None       1.0 2020-08-30 08:55:20.416419268    NaN   \n",
       "feeding_20200830-115520_None       1.0 2020-08-30 08:55:20.433441877    NaN   \n",
       "feeding_20200830-115520_None       1.0 2020-08-30 08:55:20.450448990    NaN   \n",
       "\n",
       "                              hit_y  bug_x  bug_y is_hit touch_ts  is_touch  \n",
       "feeding_20200830-115520_None    NaN    NaN    NaN    NaN      NaT     False  \n",
       "feeding_20200830-115520_None    NaN    NaN    NaN    NaN      NaT     False  \n",
       "feeding_20200830-115520_None    NaN    NaN    NaN    NaN      NaT     False  \n",
       "feeding_20200830-115520_None    NaN    NaN    NaN    NaN      NaT     False  \n",
       "feeding_20200830-115520_None    NaN    NaN    NaN    NaN      NaT     False  "
      ]
     },
     "execution_count": 15,
     "metadata": {},
     "output_type": "execute_result"
    }
   ],
   "source": [
    "all_df.head()"
   ]
  },
  {
   "cell_type": "code",
   "execution_count": 57,
   "metadata": {},
   "outputs": [
    {
     "name": "stdout",
     "output_type": "stream",
     "text": [
      "<class 'pandas._libs.tslibs.timestamps.Timestamp'>\n"
     ]
    }
   ],
   "source": [
    "for ts in all_df.loc[trial].touch_ts[::-1]:\n",
    "    print(type(ts))\n",
    "    break"
   ]
  },
  {
   "cell_type": "code",
   "execution_count": 69,
   "metadata": {},
   "outputs": [
    {
     "data": {
      "text/plain": [
       "Timedelta('-1 days +21:00:00')"
      ]
     },
     "execution_count": 69,
     "metadata": {},
     "output_type": "execute_result"
    }
   ],
   "source": [
    "pd.Timedelta(-3.0, unit='h')"
   ]
  },
  {
   "cell_type": "code",
   "execution_count": 111,
   "metadata": {},
   "outputs": [
    {
     "name": "stdout",
     "output_type": "stream",
     "text": [
      "trial: line_20200803T081429_trial1, hr diff round: -0.0\n",
      "trial: fast_line_20200803T082414_trial1, hr diff round: -0.0\n",
      "trial: fast_line_20200803T082724_trial1, hr diff round: -0.0\n",
      "trial: fast_cockroach_20200803T085738_trial1, hr diff round: -0.0\n",
      "trial: circle_20200803T090234_trial1, hr diff round: -0.0\n",
      "trial: circle_20200803T091639_trial1, hr diff round: -0.0\n",
      "trial: circle_20200803T092248_trial1, hr diff round: -0.0\n",
      "trial: line_20200803T114942_trial1, hr diff round: -0.0\n",
      "trial: circle_20200803T115839_trial1, hr diff round: -0.0\n",
      "trial: circle_20200803T120911_trial1, hr diff round: -0.0\n",
      "trial: red_beetle_20200826T133947_trial1, hr diff round: -0.0\n",
      "trial: worm_20200826T134603_trial1, hr diff round: -0.0\n",
      "trial: worm_20200826T135440_trial1, hr diff round: -0.0\n",
      "trial: worm_20200826T135440_trial2, hr diff round: -0.0\n",
      "trial: worm_line_20200830T121825_trial1, hr diff round: -0.0\n",
      "trial: worm_circle_20200830T122241_trial1, hr diff round: -0.0\n",
      "trial: learning_20200917T081521_trial2, hr diff round: -0.0\n",
      "trial: learning_20200917T081521_trial3, hr diff round: -0.0\n",
      "trial: learning_20200917T084025_trial1, hr diff round: -0.0\n",
      "trial: learning_20200917T084025_trial2, hr diff round: -0.0\n",
      "trial: learning_20200917T092820_trial3, hr diff round: -0.0\n",
      "trial: learning_20200917T150415_trial1, hr diff round: -0.0\n",
      "trial: learning_20200917T150415_trial3, hr diff round: -0.0\n",
      "trial: learning_20200917T152238_trial1, hr diff round: -0.0\n",
      "trial: learning_20200917T152238_trial2, hr diff round: -0.0\n",
      "trial: learning_20200917T154539_trial2, hr diff round: -0.0\n",
      "trial: learning_20200917T154539_trial3, hr diff round: -0.0\n",
      "trial: baby_initial_20200923T135525_trial2, hr diff round: -0.0\n",
      "trial: learning_20201001T081837_trial1, hr diff round: -0.0\n",
      "trial: learning_20201001T081837_trial2, hr diff round: -0.0\n",
      "trial: learning_20201001T081837_trial4, hr diff round: -0.0\n",
      "trial: learning_20201001T084647_trial1, hr diff round: -0.0\n",
      "trial: learning_20201001T084647_trial2, hr diff round: -0.0\n",
      "trial: learning_20201001T085812_trial1, hr diff round: -0.0\n",
      "trial: learning_20201001T085812_trial2, hr diff round: -0.0\n",
      "trial: learning_20201001T085812_trial3, hr diff round: -0.0\n",
      "trial: learning_20201001T085812_trial4, hr diff round: -0.0\n",
      "trial: learning_20201001T085812_trial5, hr diff round: -0.0\n",
      "trial: learning_20201001T100451_trial1, hr diff round: -0.0\n",
      "trial: learning_20201001T100451_trial2, hr diff round: -0.0\n",
      "trial: learning_20201001T100451_trial3, hr diff round: -0.0\n",
      "trial: learning_20201001T100451_trial4, hr diff round: -0.0\n",
      "trial: learning_20201001T100451_trial5, hr diff round: -0.0\n",
      "trial: learning_20201001T100451_trial6, hr diff round: -0.0\n"
     ]
    }
   ],
   "source": [
    "for trial in all_df[touches].index.unique():\n",
    "    \n",
    "    max_touch_ts = all_df.loc[trial].touch_ts.max()\n",
    "    max_diff_hr = np.min((all_df.loc[trial].frame_ts - max_touch_ts).dt.total_seconds()/60/60)\n",
    "    hr_diff = np.round(max_diff_hr)\n",
    "    #min_frame_ts = all_df.loc[trial].frame_ts.min()\n",
    "    print(f\"trial: {trial}, hr diff round: {np.round(max_diff_hr)}\")\n",
    "    if np.abs(hr_diff) >= 1:\n",
    "        print(f\"trial: {trial}, hr diff round: {np.round(max_diff_hr)}\")\n",
    "    \n",
    "        for touch_ts in all_df.loc[trial].touch_ts:\n",
    "            if not pd.isna(touch_ts):\n",
    "                hr_delta = pd.Timedelta(hr_diff, unit='h')\n",
    "                if hr_diff < 0:\n",
    "                    corr_touch = touch_ts + hr_delta\n",
    "                else:\n",
    "                    corr_touch = touch_ts - hr_delta\n",
    "                real_min_diff = np.min((corr_touch - all_df.loc[trial].frame_ts).dt.total_seconds()/60/60)\n",
    "                print(f\"real diff for touch: {real_min_diff}\")\n",
    "    \n",
    "    #print(f\"{trial}: diff: {diff}\")"
   ]
  },
  {
   "cell_type": "code",
   "execution_count": 125,
   "metadata": {},
   "outputs": [
    {
     "data": {
      "text/plain": [
       "Index(['feeding_20200830-115520_None', 'feeding_20200830-120813_None',\n",
       "       'feeding_4_20200830-121143_None', 'feeding_4_20200830-122515_None',\n",
       "       'feeding_4_20200830-125531_None', 'feeding_4_20200830-125905_None',\n",
       "       'feeding_4_screen_20200830-130446_None',\n",
       "       'feeding_5_20200830-131348_None', 'line_20200803T081429_trial1',\n",
       "       'line_20200803T081735_trial1',\n",
       "       ...\n",
       "       'learning_20201001T085812_trial3', 'learning_20201001T085812_trial4',\n",
       "       'learning_20201001T085812_trial5', 'learning_20201001T085812_trial6',\n",
       "       'learning_20201001T100451_trial1', 'learning_20201001T100451_trial2',\n",
       "       'learning_20201001T100451_trial3', 'learning_20201001T100451_trial4',\n",
       "       'learning_20201001T100451_trial5', 'learning_20201001T100451_trial6'],\n",
       "      dtype='object', length=110)"
      ]
     },
     "execution_count": 125,
     "metadata": {},
     "output_type": "execute_result"
    }
   ],
   "source": [
    "all_df[all_df.is_hit.isna()].index.unique()"
   ]
  },
  {
   "cell_type": "code",
   "execution_count": 156,
   "metadata": {},
   "outputs": [
    {
     "data": {
      "text/plain": [
       "<matplotlib.collections.PathCollection at 0x7fa099bae290>"
      ]
     },
     "execution_count": 156,
     "metadata": {},
     "output_type": "execute_result"
    },
    {
     "data": {
      "image/png": "[encoded data removed]",
      "text/plain": [
       "<Figure size 432x288 with 1 Axes>"
      ]
     },
     "metadata": {
      "needs_background": "light"
     },
     "output_type": "display_data"
    }
   ],
   "source": [
    "m = all_df.is_touch & all_df.is_hit & (np.abs(all_df.y2) > 150)\n",
    "plt.scatter(all_df[m].x2, all_df[m].y2)"
   ]
  },
  {
   "cell_type": "code",
   "execution_count": 158,
   "metadata": {},
   "outputs": [
    {
     "data": {
      "text/plain": [
       "Index(['fast_line_20200803T082414_trial1', 'red_beetle_20200826T133947_trial1',\n",
       "       'worm_20200826T135440_trial1', 'worm_20200826T135440_trial2',\n",
       "       'worm_line_20200830T121825_trial1',\n",
       "       'worm_circle_20200830T122241_trial1', 'learning_20200917T154539_trial2',\n",
       "       'learning_20200917T154539_trial3'],\n",
       "      dtype='object')"
      ]
     },
     "execution_count": 158,
     "metadata": {},
     "output_type": "execute_result"
    }
   ],
   "source": [
    "all_df[m].index.unique()"
   ]
  },
  {
   "cell_type": "code",
   "execution_count": 148,
   "metadata": {},
   "outputs": [
    {
     "data": {
      "text/html": [
       "<div>\n",
       "<style scoped>\n",
       "    .dataframe tbody tr th:only-of-type {\n",
       "        vertical-align: middle;\n",
       "    }\n",
       "\n",
       "    .dataframe tbody tr th {\n",
       "        vertical-align: top;\n",
       "    }\n",
       "\n",
       "    .dataframe thead th {\n",
       "        text-align: right;\n",
       "    }\n",
       "</style>\n",
       "<table border=\"1\" class=\"dataframe\">\n",
       "  <thead>\n",
       "    <tr style=\"text-align: right;\">\n",
       "      <th></th>\n",
       "      <th>cent_x</th>\n",
       "      <th>cent_y</th>\n",
       "      <th>x1</th>\n",
       "      <th>y1</th>\n",
       "      <th>x2</th>\n",
       "      <th>y2</th>\n",
       "      <th>conf</th>\n",
       "      <th>num_bbox</th>\n",
       "      <th>frame_ts</th>\n",
       "      <th>hit_x</th>\n",
       "      <th>hit_y</th>\n",
       "      <th>bug_x</th>\n",
       "      <th>bug_y</th>\n",
       "      <th>is_hit</th>\n",
       "      <th>touch_ts</th>\n",
       "      <th>is_touch</th>\n",
       "    </tr>\n",
       "  </thead>\n",
       "  <tbody>\n",
       "    <tr>\n",
       "      <th>learning_20200917T084025_trial1</th>\n",
       "      <td>157.506846</td>\n",
       "      <td>157.912515</td>\n",
       "      <td>263.876716</td>\n",
       "      <td>307.618018</td>\n",
       "      <td>48.113721</td>\n",
       "      <td>3.709467</td>\n",
       "      <td>0.981272</td>\n",
       "      <td>1.0</td>\n",
       "      <td>2020-09-17 08:40:44.539921045</td>\n",
       "      <td>132.0</td>\n",
       "      <td>585.0</td>\n",
       "      <td>128.0</td>\n",
       "      <td>609.0</td>\n",
       "      <td>True</td>\n",
       "      <td>2020-09-17 08:40:46.576156</td>\n",
       "      <td>True</td>\n",
       "    </tr>\n",
       "    <tr>\n",
       "      <th>learning_20200917T084025_trial2</th>\n",
       "      <td>1370.862116</td>\n",
       "      <td>141.451001</td>\n",
       "      <td>1494.377508</td>\n",
       "      <td>269.919678</td>\n",
       "      <td>1250.456141</td>\n",
       "      <td>11.858054</td>\n",
       "      <td>0.985266</td>\n",
       "      <td>1.0</td>\n",
       "      <td>2020-09-17 08:47:58.547316313</td>\n",
       "      <td>1351.0</td>\n",
       "      <td>579.0</td>\n",
       "      <td>1355.0</td>\n",
       "      <td>581.0</td>\n",
       "      <td>True</td>\n",
       "      <td>2020-09-17 08:48:00.576039</td>\n",
       "      <td>True</td>\n",
       "    </tr>\n",
       "    <tr>\n",
       "      <th>learning_20200917T150415_trial3</th>\n",
       "      <td>718.607859</td>\n",
       "      <td>219.056084</td>\n",
       "      <td>841.079633</td>\n",
       "      <td>360.266782</td>\n",
       "      <td>595.932435</td>\n",
       "      <td>75.085390</td>\n",
       "      <td>0.993237</td>\n",
       "      <td>1.0</td>\n",
       "      <td>2020-09-17 15:17:49.252039194</td>\n",
       "      <td>981.0</td>\n",
       "      <td>146.0</td>\n",
       "      <td>968.0</td>\n",
       "      <td>166.0</td>\n",
       "      <td>True</td>\n",
       "      <td>2020-09-17 15:17:51.282377</td>\n",
       "      <td>True</td>\n",
       "    </tr>\n",
       "    <tr>\n",
       "      <th>learning_20200917T152238_trial1</th>\n",
       "      <td>1422.422500</td>\n",
       "      <td>198.078546</td>\n",
       "      <td>1546.095343</td>\n",
       "      <td>373.313708</td>\n",
       "      <td>1303.232575</td>\n",
       "      <td>22.101105</td>\n",
       "      <td>0.991156</td>\n",
       "      <td>1.0</td>\n",
       "      <td>2020-09-17 15:22:44.916004181</td>\n",
       "      <td>1231.0</td>\n",
       "      <td>353.0</td>\n",
       "      <td>1219.0</td>\n",
       "      <td>364.0</td>\n",
       "      <td>True</td>\n",
       "      <td>2020-09-17 15:22:46.950596</td>\n",
       "      <td>True</td>\n",
       "    </tr>\n",
       "    <tr>\n",
       "      <th>learning_20200917T152238_trial2</th>\n",
       "      <td>1892.335373</td>\n",
       "      <td>145.131844</td>\n",
       "      <td>2010.284835</td>\n",
       "      <td>292.634537</td>\n",
       "      <td>1780.227821</td>\n",
       "      <td>-2.083330</td>\n",
       "      <td>0.992708</td>\n",
       "      <td>1.0</td>\n",
       "      <td>2020-09-17 15:27:49.546883583</td>\n",
       "      <td>1749.0</td>\n",
       "      <td>603.0</td>\n",
       "      <td>1815.0</td>\n",
       "      <td>700.0</td>\n",
       "      <td>True</td>\n",
       "      <td>2020-09-17 15:27:51.582562</td>\n",
       "      <td>True</td>\n",
       "    </tr>\n",
       "    <tr>\n",
       "      <th>learning_20200917T154539_trial2</th>\n",
       "      <td>581.613184</td>\n",
       "      <td>428.265112</td>\n",
       "      <td>694.900696</td>\n",
       "      <td>560.957350</td>\n",
       "      <td>468.022267</td>\n",
       "      <td>294.036938</td>\n",
       "      <td>0.993373</td>\n",
       "      <td>1.0</td>\n",
       "      <td>2020-09-17 15:53:33.419976950</td>\n",
       "      <td>1423.0</td>\n",
       "      <td>290.0</td>\n",
       "      <td>1440.0</td>\n",
       "      <td>282.0</td>\n",
       "      <td>True</td>\n",
       "      <td>2020-09-17 15:53:35.458143</td>\n",
       "      <td>True</td>\n",
       "    </tr>\n",
       "    <tr>\n",
       "      <th>learning_20200917T154539_trial3</th>\n",
       "      <td>718.212706</td>\n",
       "      <td>408.419232</td>\n",
       "      <td>847.936870</td>\n",
       "      <td>527.660556</td>\n",
       "      <td>588.637764</td>\n",
       "      <td>287.565422</td>\n",
       "      <td>0.993363</td>\n",
       "      <td>1.0</td>\n",
       "      <td>2020-09-17 15:59:27.100150585</td>\n",
       "      <td>1003.0</td>\n",
       "      <td>33.0</td>\n",
       "      <td>1042.0</td>\n",
       "      <td>26.0</td>\n",
       "      <td>True</td>\n",
       "      <td>2020-09-17 15:59:29.117933</td>\n",
       "      <td>True</td>\n",
       "    </tr>\n",
       "    <tr>\n",
       "      <th>learning_20201001T081837_trial1</th>\n",
       "      <td>1449.736373</td>\n",
       "      <td>116.034523</td>\n",
       "      <td>1568.492041</td>\n",
       "      <td>260.973320</td>\n",
       "      <td>1334.546844</td>\n",
       "      <td>-30.014989</td>\n",
       "      <td>0.988978</td>\n",
       "      <td>1.0</td>\n",
       "      <td>2020-10-01 08:19:16.169486284</td>\n",
       "      <td>1642.0</td>\n",
       "      <td>491.0</td>\n",
       "      <td>1658.0</td>\n",
       "      <td>457.0</td>\n",
       "      <td>True</td>\n",
       "      <td>2020-10-01 08:19:18.203604</td>\n",
       "      <td>True</td>\n",
       "    </tr>\n",
       "    <tr>\n",
       "      <th>learning_20201001T084647_trial1</th>\n",
       "      <td>-45.495505</td>\n",
       "      <td>85.993298</td>\n",
       "      <td>86.709724</td>\n",
       "      <td>217.194621</td>\n",
       "      <td>-183.139383</td>\n",
       "      <td>-51.297857</td>\n",
       "      <td>0.995607</td>\n",
       "      <td>1.0</td>\n",
       "      <td>2020-10-01 08:47:03.844775438</td>\n",
       "      <td>74.0</td>\n",
       "      <td>332.0</td>\n",
       "      <td>57.0</td>\n",
       "      <td>292.0</td>\n",
       "      <td>True</td>\n",
       "      <td>2020-10-01 08:47:05.880701</td>\n",
       "      <td>True</td>\n",
       "    </tr>\n",
       "    <tr>\n",
       "      <th>learning_20201001T084647_trial2</th>\n",
       "      <td>782.214429</td>\n",
       "      <td>110.781022</td>\n",
       "      <td>909.491116</td>\n",
       "      <td>234.824354</td>\n",
       "      <td>654.695503</td>\n",
       "      <td>-16.327083</td>\n",
       "      <td>0.993623</td>\n",
       "      <td>1.0</td>\n",
       "      <td>2020-10-01 08:52:09.348243952</td>\n",
       "      <td>974.0</td>\n",
       "      <td>82.0</td>\n",
       "      <td>1021.0</td>\n",
       "      <td>-23.0</td>\n",
       "      <td>True</td>\n",
       "      <td>2020-10-01 08:52:11.374072</td>\n",
       "      <td>True</td>\n",
       "    </tr>\n",
       "    <tr>\n",
       "      <th>learning_20201001T085812_trial1</th>\n",
       "      <td>1211.744226</td>\n",
       "      <td>135.198426</td>\n",
       "      <td>1336.465861</td>\n",
       "      <td>289.763383</td>\n",
       "      <td>1089.647933</td>\n",
       "      <td>-21.280291</td>\n",
       "      <td>0.995037</td>\n",
       "      <td>1.0</td>\n",
       "      <td>2020-10-01 08:58:23.743724585</td>\n",
       "      <td>1469.0</td>\n",
       "      <td>743.0</td>\n",
       "      <td>1548.0</td>\n",
       "      <td>820.0</td>\n",
       "      <td>True</td>\n",
       "      <td>2020-10-01 08:58:25.803523</td>\n",
       "      <td>True</td>\n",
       "    </tr>\n",
       "    <tr>\n",
       "      <th>learning_20201001T085812_trial2</th>\n",
       "      <td>1420.324738</td>\n",
       "      <td>119.826861</td>\n",
       "      <td>1558.723487</td>\n",
       "      <td>266.141205</td>\n",
       "      <td>1286.101979</td>\n",
       "      <td>-27.891181</td>\n",
       "      <td>0.996857</td>\n",
       "      <td>1.0</td>\n",
       "      <td>2020-10-01 09:03:36.770758390</td>\n",
       "      <td>1730.0</td>\n",
       "      <td>502.0</td>\n",
       "      <td>1746.0</td>\n",
       "      <td>487.0</td>\n",
       "      <td>True</td>\n",
       "      <td>2020-10-01 09:03:38.812003</td>\n",
       "      <td>True</td>\n",
       "    </tr>\n",
       "    <tr>\n",
       "      <th>learning_20201001T085812_trial3</th>\n",
       "      <td>1592.165454</td>\n",
       "      <td>132.996142</td>\n",
       "      <td>1718.891711</td>\n",
       "      <td>264.077868</td>\n",
       "      <td>1469.823097</td>\n",
       "      <td>1.331986</td>\n",
       "      <td>0.989065</td>\n",
       "      <td>1.0</td>\n",
       "      <td>2020-10-01 09:08:47.127680779</td>\n",
       "      <td>1812.0</td>\n",
       "      <td>435.0</td>\n",
       "      <td>1824.0</td>\n",
       "      <td>405.0</td>\n",
       "      <td>True</td>\n",
       "      <td>2020-10-01 09:08:49.155556</td>\n",
       "      <td>True</td>\n",
       "    </tr>\n",
       "    <tr>\n",
       "      <th>learning_20201001T085812_trial4</th>\n",
       "      <td>1811.911692</td>\n",
       "      <td>93.488748</td>\n",
       "      <td>1948.691389</td>\n",
       "      <td>196.940075</td>\n",
       "      <td>1680.510328</td>\n",
       "      <td>-10.338808</td>\n",
       "      <td>0.993783</td>\n",
       "      <td>1.0</td>\n",
       "      <td>2020-10-01 09:14:20.601627350</td>\n",
       "      <td>2073.0</td>\n",
       "      <td>190.0</td>\n",
       "      <td>2100.0</td>\n",
       "      <td>111.0</td>\n",
       "      <td>True</td>\n",
       "      <td>2020-10-01 09:14:22.623691</td>\n",
       "      <td>True</td>\n",
       "    </tr>\n",
       "    <tr>\n",
       "      <th>learning_20201001T085812_trial5</th>\n",
       "      <td>568.023277</td>\n",
       "      <td>117.908951</td>\n",
       "      <td>688.649662</td>\n",
       "      <td>274.026659</td>\n",
       "      <td>446.013721</td>\n",
       "      <td>-42.473316</td>\n",
       "      <td>0.991766</td>\n",
       "      <td>1.0</td>\n",
       "      <td>2020-10-01 09:19:36.360034227</td>\n",
       "      <td>759.0</td>\n",
       "      <td>53.0</td>\n",
       "      <td>710.0</td>\n",
       "      <td>3.0</td>\n",
       "      <td>True</td>\n",
       "      <td>2020-10-01 09:19:38.387892</td>\n",
       "      <td>True</td>\n",
       "    </tr>\n",
       "    <tr>\n",
       "      <th>learning_20201001T100451_trial1</th>\n",
       "      <td>871.188677</td>\n",
       "      <td>131.133718</td>\n",
       "      <td>990.522913</td>\n",
       "      <td>294.539871</td>\n",
       "      <td>752.397163</td>\n",
       "      <td>-35.490142</td>\n",
       "      <td>0.990420</td>\n",
       "      <td>1.0</td>\n",
       "      <td>2020-10-01 10:05:14.861883402</td>\n",
       "      <td>1034.0</td>\n",
       "      <td>727.0</td>\n",
       "      <td>967.0</td>\n",
       "      <td>772.0</td>\n",
       "      <td>True</td>\n",
       "      <td>2020-10-01 10:05:16.915670</td>\n",
       "      <td>True</td>\n",
       "    </tr>\n",
       "    <tr>\n",
       "      <th>learning_20201001T100451_trial2</th>\n",
       "      <td>280.534540</td>\n",
       "      <td>110.912153</td>\n",
       "      <td>412.497323</td>\n",
       "      <td>249.780943</td>\n",
       "      <td>145.157114</td>\n",
       "      <td>-33.121726</td>\n",
       "      <td>0.995606</td>\n",
       "      <td>1.0</td>\n",
       "      <td>2020-10-01 10:10:26.596680164</td>\n",
       "      <td>398.0</td>\n",
       "      <td>311.0</td>\n",
       "      <td>317.0</td>\n",
       "      <td>362.0</td>\n",
       "      <td>True</td>\n",
       "      <td>2020-10-01 10:10:28.630727</td>\n",
       "      <td>True</td>\n",
       "    </tr>\n",
       "    <tr>\n",
       "      <th>learning_20201001T100451_trial3</th>\n",
       "      <td>1170.095903</td>\n",
       "      <td>116.047322</td>\n",
       "      <td>1303.430925</td>\n",
       "      <td>261.845476</td>\n",
       "      <td>1039.140654</td>\n",
       "      <td>-32.007503</td>\n",
       "      <td>0.996873</td>\n",
       "      <td>1.0</td>\n",
       "      <td>2020-10-01 10:15:38.262891769</td>\n",
       "      <td>1434.0</td>\n",
       "      <td>683.0</td>\n",
       "      <td>1493.0</td>\n",
       "      <td>722.0</td>\n",
       "      <td>True</td>\n",
       "      <td>2020-10-01 10:15:40.297255</td>\n",
       "      <td>True</td>\n",
       "    </tr>\n",
       "    <tr>\n",
       "      <th>learning_20201001T100451_trial4</th>\n",
       "      <td>248.519854</td>\n",
       "      <td>135.030299</td>\n",
       "      <td>369.394347</td>\n",
       "      <td>287.237127</td>\n",
       "      <td>124.447213</td>\n",
       "      <td>-22.243817</td>\n",
       "      <td>0.994473</td>\n",
       "      <td>1.0</td>\n",
       "      <td>2020-10-01 10:21:20.073742390</td>\n",
       "      <td>280.0</td>\n",
       "      <td>652.0</td>\n",
       "      <td>248.0</td>\n",
       "      <td>674.0</td>\n",
       "      <td>True</td>\n",
       "      <td>2020-10-01 10:21:22.114184</td>\n",
       "      <td>True</td>\n",
       "    </tr>\n",
       "    <tr>\n",
       "      <th>learning_20201001T100451_trial5</th>\n",
       "      <td>247.568772</td>\n",
       "      <td>114.241794</td>\n",
       "      <td>368.308100</td>\n",
       "      <td>260.514422</td>\n",
       "      <td>123.624980</td>\n",
       "      <td>-37.052621</td>\n",
       "      <td>0.992508</td>\n",
       "      <td>1.0</td>\n",
       "      <td>2020-10-01 10:26:32.020536661</td>\n",
       "      <td>445.0</td>\n",
       "      <td>445.0</td>\n",
       "      <td>473.0</td>\n",
       "      <td>439.0</td>\n",
       "      <td>True</td>\n",
       "      <td>2020-10-01 10:26:34.078989</td>\n",
       "      <td>True</td>\n",
       "    </tr>\n",
       "    <tr>\n",
       "      <th>learning_20201001T100451_trial6</th>\n",
       "      <td>719.337250</td>\n",
       "      <td>144.048090</td>\n",
       "      <td>815.922502</td>\n",
       "      <td>286.132092</td>\n",
       "      <td>622.534500</td>\n",
       "      <td>-0.612365</td>\n",
       "      <td>0.969506</td>\n",
       "      <td>1.0</td>\n",
       "      <td>2020-10-01 10:31:41.152233601</td>\n",
       "      <td>915.0</td>\n",
       "      <td>398.0</td>\n",
       "      <td>901.0</td>\n",
       "      <td>400.0</td>\n",
       "      <td>True</td>\n",
       "      <td>2020-10-01 10:31:43.191087</td>\n",
       "      <td>True</td>\n",
       "    </tr>\n",
       "  </tbody>\n",
       "</table>\n",
       "</div>"
      ],
      "text/plain": [
       "                                      cent_x      cent_y           x1  \\\n",
       "learning_20200917T084025_trial1   157.506846  157.912515   263.876716   \n",
       "learning_20200917T084025_trial2  1370.862116  141.451001  1494.377508   \n",
       "learning_20200917T150415_trial3   718.607859  219.056084   841.079633   \n",
       "learning_20200917T152238_trial1  1422.422500  198.078546  1546.095343   \n",
       "learning_20200917T152238_trial2  1892.335373  145.131844  2010.284835   \n",
       "learning_20200917T154539_trial2   581.613184  428.265112   694.900696   \n",
       "learning_20200917T154539_trial3   718.212706  408.419232   847.936870   \n",
       "learning_20201001T081837_trial1  1449.736373  116.034523  1568.492041   \n",
       "learning_20201001T084647_trial1   -45.495505   85.993298    86.709724   \n",
       "learning_20201001T084647_trial2   782.214429  110.781022   909.491116   \n",
       "learning_20201001T085812_trial1  1211.744226  135.198426  1336.465861   \n",
       "learning_20201001T085812_trial2  1420.324738  119.826861  1558.723487   \n",
       "learning_20201001T085812_trial3  1592.165454  132.996142  1718.891711   \n",
       "learning_20201001T085812_trial4  1811.911692   93.488748  1948.691389   \n",
       "learning_20201001T085812_trial5   568.023277  117.908951   688.649662   \n",
       "learning_20201001T100451_trial1   871.188677  131.133718   990.522913   \n",
       "learning_20201001T100451_trial2   280.534540  110.912153   412.497323   \n",
       "learning_20201001T100451_trial3  1170.095903  116.047322  1303.430925   \n",
       "learning_20201001T100451_trial4   248.519854  135.030299   369.394347   \n",
       "learning_20201001T100451_trial5   247.568772  114.241794   368.308100   \n",
       "learning_20201001T100451_trial6   719.337250  144.048090   815.922502   \n",
       "\n",
       "                                         y1           x2          y2  \\\n",
       "learning_20200917T084025_trial1  307.618018    48.113721    3.709467   \n",
       "learning_20200917T084025_trial2  269.919678  1250.456141   11.858054   \n",
       "learning_20200917T150415_trial3  360.266782   595.932435   75.085390   \n",
       "learning_20200917T152238_trial1  373.313708  1303.232575   22.101105   \n",
       "learning_20200917T152238_trial2  292.634537  1780.227821   -2.083330   \n",
       "learning_20200917T154539_trial2  560.957350   468.022267  294.036938   \n",
       "learning_20200917T154539_trial3  527.660556   588.637764  287.565422   \n",
       "learning_20201001T081837_trial1  260.973320  1334.546844  -30.014989   \n",
       "learning_20201001T084647_trial1  217.194621  -183.139383  -51.297857   \n",
       "learning_20201001T084647_trial2  234.824354   654.695503  -16.327083   \n",
       "learning_20201001T085812_trial1  289.763383  1089.647933  -21.280291   \n",
       "learning_20201001T085812_trial2  266.141205  1286.101979  -27.891181   \n",
       "learning_20201001T085812_trial3  264.077868  1469.823097    1.331986   \n",
       "learning_20201001T085812_trial4  196.940075  1680.510328  -10.338808   \n",
       "learning_20201001T085812_trial5  274.026659   446.013721  -42.473316   \n",
       "learning_20201001T100451_trial1  294.539871   752.397163  -35.490142   \n",
       "learning_20201001T100451_trial2  249.780943   145.157114  -33.121726   \n",
       "learning_20201001T100451_trial3  261.845476  1039.140654  -32.007503   \n",
       "learning_20201001T100451_trial4  287.237127   124.447213  -22.243817   \n",
       "learning_20201001T100451_trial5  260.514422   123.624980  -37.052621   \n",
       "learning_20201001T100451_trial6  286.132092   622.534500   -0.612365   \n",
       "\n",
       "                                     conf  num_bbox  \\\n",
       "learning_20200917T084025_trial1  0.981272       1.0   \n",
       "learning_20200917T084025_trial2  0.985266       1.0   \n",
       "learning_20200917T150415_trial3  0.993237       1.0   \n",
       "learning_20200917T152238_trial1  0.991156       1.0   \n",
       "learning_20200917T152238_trial2  0.992708       1.0   \n",
       "learning_20200917T154539_trial2  0.993373       1.0   \n",
       "learning_20200917T154539_trial3  0.993363       1.0   \n",
       "learning_20201001T081837_trial1  0.988978       1.0   \n",
       "learning_20201001T084647_trial1  0.995607       1.0   \n",
       "learning_20201001T084647_trial2  0.993623       1.0   \n",
       "learning_20201001T085812_trial1  0.995037       1.0   \n",
       "learning_20201001T085812_trial2  0.996857       1.0   \n",
       "learning_20201001T085812_trial3  0.989065       1.0   \n",
       "learning_20201001T085812_trial4  0.993783       1.0   \n",
       "learning_20201001T085812_trial5  0.991766       1.0   \n",
       "learning_20201001T100451_trial1  0.990420       1.0   \n",
       "learning_20201001T100451_trial2  0.995606       1.0   \n",
       "learning_20201001T100451_trial3  0.996873       1.0   \n",
       "learning_20201001T100451_trial4  0.994473       1.0   \n",
       "learning_20201001T100451_trial5  0.992508       1.0   \n",
       "learning_20201001T100451_trial6  0.969506       1.0   \n",
       "\n",
       "                                                     frame_ts   hit_x  hit_y  \\\n",
       "learning_20200917T084025_trial1 2020-09-17 08:40:44.539921045   132.0  585.0   \n",
       "learning_20200917T084025_trial2 2020-09-17 08:47:58.547316313  1351.0  579.0   \n",
       "learning_20200917T150415_trial3 2020-09-17 15:17:49.252039194   981.0  146.0   \n",
       "learning_20200917T152238_trial1 2020-09-17 15:22:44.916004181  1231.0  353.0   \n",
       "learning_20200917T152238_trial2 2020-09-17 15:27:49.546883583  1749.0  603.0   \n",
       "learning_20200917T154539_trial2 2020-09-17 15:53:33.419976950  1423.0  290.0   \n",
       "learning_20200917T154539_trial3 2020-09-17 15:59:27.100150585  1003.0   33.0   \n",
       "learning_20201001T081837_trial1 2020-10-01 08:19:16.169486284  1642.0  491.0   \n",
       "learning_20201001T084647_trial1 2020-10-01 08:47:03.844775438    74.0  332.0   \n",
       "learning_20201001T084647_trial2 2020-10-01 08:52:09.348243952   974.0   82.0   \n",
       "learning_20201001T085812_trial1 2020-10-01 08:58:23.743724585  1469.0  743.0   \n",
       "learning_20201001T085812_trial2 2020-10-01 09:03:36.770758390  1730.0  502.0   \n",
       "learning_20201001T085812_trial3 2020-10-01 09:08:47.127680779  1812.0  435.0   \n",
       "learning_20201001T085812_trial4 2020-10-01 09:14:20.601627350  2073.0  190.0   \n",
       "learning_20201001T085812_trial5 2020-10-01 09:19:36.360034227   759.0   53.0   \n",
       "learning_20201001T100451_trial1 2020-10-01 10:05:14.861883402  1034.0  727.0   \n",
       "learning_20201001T100451_trial2 2020-10-01 10:10:26.596680164   398.0  311.0   \n",
       "learning_20201001T100451_trial3 2020-10-01 10:15:38.262891769  1434.0  683.0   \n",
       "learning_20201001T100451_trial4 2020-10-01 10:21:20.073742390   280.0  652.0   \n",
       "learning_20201001T100451_trial5 2020-10-01 10:26:32.020536661   445.0  445.0   \n",
       "learning_20201001T100451_trial6 2020-10-01 10:31:41.152233601   915.0  398.0   \n",
       "\n",
       "                                  bug_x  bug_y  is_hit  \\\n",
       "learning_20200917T084025_trial1   128.0  609.0    True   \n",
       "learning_20200917T084025_trial2  1355.0  581.0    True   \n",
       "learning_20200917T150415_trial3   968.0  166.0    True   \n",
       "learning_20200917T152238_trial1  1219.0  364.0    True   \n",
       "learning_20200917T152238_trial2  1815.0  700.0    True   \n",
       "learning_20200917T154539_trial2  1440.0  282.0    True   \n",
       "learning_20200917T154539_trial3  1042.0   26.0    True   \n",
       "learning_20201001T081837_trial1  1658.0  457.0    True   \n",
       "learning_20201001T084647_trial1    57.0  292.0    True   \n",
       "learning_20201001T084647_trial2  1021.0  -23.0    True   \n",
       "learning_20201001T085812_trial1  1548.0  820.0    True   \n",
       "learning_20201001T085812_trial2  1746.0  487.0    True   \n",
       "learning_20201001T085812_trial3  1824.0  405.0    True   \n",
       "learning_20201001T085812_trial4  2100.0  111.0    True   \n",
       "learning_20201001T085812_trial5   710.0    3.0    True   \n",
       "learning_20201001T100451_trial1   967.0  772.0    True   \n",
       "learning_20201001T100451_trial2   317.0  362.0    True   \n",
       "learning_20201001T100451_trial3  1493.0  722.0    True   \n",
       "learning_20201001T100451_trial4   248.0  674.0    True   \n",
       "learning_20201001T100451_trial5   473.0  439.0    True   \n",
       "learning_20201001T100451_trial6   901.0  400.0    True   \n",
       "\n",
       "                                                  touch_ts  is_touch  \n",
       "learning_20200917T084025_trial1 2020-09-17 08:40:46.576156      True  \n",
       "learning_20200917T084025_trial2 2020-09-17 08:48:00.576039      True  \n",
       "learning_20200917T150415_trial3 2020-09-17 15:17:51.282377      True  \n",
       "learning_20200917T152238_trial1 2020-09-17 15:22:46.950596      True  \n",
       "learning_20200917T152238_trial2 2020-09-17 15:27:51.582562      True  \n",
       "learning_20200917T154539_trial2 2020-09-17 15:53:35.458143      True  \n",
       "learning_20200917T154539_trial3 2020-09-17 15:59:29.117933      True  \n",
       "learning_20201001T081837_trial1 2020-10-01 08:19:18.203604      True  \n",
       "learning_20201001T084647_trial1 2020-10-01 08:47:05.880701      True  \n",
       "learning_20201001T084647_trial2 2020-10-01 08:52:11.374072      True  \n",
       "learning_20201001T085812_trial1 2020-10-01 08:58:25.803523      True  \n",
       "learning_20201001T085812_trial2 2020-10-01 09:03:38.812003      True  \n",
       "learning_20201001T085812_trial3 2020-10-01 09:08:49.155556      True  \n",
       "learning_20201001T085812_trial4 2020-10-01 09:14:22.623691      True  \n",
       "learning_20201001T085812_trial5 2020-10-01 09:19:38.387892      True  \n",
       "learning_20201001T100451_trial1 2020-10-01 10:05:16.915670      True  \n",
       "learning_20201001T100451_trial2 2020-10-01 10:10:28.630727      True  \n",
       "learning_20201001T100451_trial3 2020-10-01 10:15:40.297255      True  \n",
       "learning_20201001T100451_trial4 2020-10-01 10:21:22.114184      True  \n",
       "learning_20201001T100451_trial5 2020-10-01 10:26:34.078989      True  \n",
       "learning_20201001T100451_trial6 2020-10-01 10:31:43.191087      True  "
      ]
     },
     "execution_count": 148,
     "metadata": {},
     "output_type": "execute_result"
    }
   ],
   "source": [
    "all_df[m][(all_df[m].frame_ts - all_df[m].touch_ts).dt.total_seconds().abs() > 1]\n"
   ]
  },
  {
   "cell_type": "code",
   "execution_count": null,
   "metadata": {},
   "outputs": [],
   "source": [
    "for trial in all_df.index.unique():\n",
    "    for name in ['learning','baby']:\n",
    "        if name in trial:\n",
    "            print(all_df.loc[trial].shape)\n",
    "            display(all_df.loc[trial].tail(3))"
   ]
  },
  {
   "cell_type": "markdown",
   "metadata": {},
   "source": [
    "Hi regev,\n",
    "We found a possible bug in the \"Learning\" experimental paradigm, where the video stops upon touching of the screen. It appears that in some of the trials, the program has written a touch of the screen in the last frame, while the animal wasn't moving.\n",
    "Here are some trials that the bounding box that was recorded in the last frame (where the touch was recorded) is far away from the screen and appears to be not moving in the frames before: \n",
    "\n",
    "-learning_20201001T081837, trial4\n",
    "-baby_initial_20200923T135525, trial2\n",
    "-"
   ]
  },
  {
   "cell_type": "markdown",
   "metadata": {},
   "source": [
    "### Various statistics and distributions\n",
    "\n",
    "\n",
    "TODO:\n",
    "- distances - between first and last points, others. Notice that there are some paths that are circular, meaning that they traverse some distance but the first and last are relatively close.\n",
    "- velocities - mean velocity in X and Y\n",
    "- linearity (?) - how much a sequence lies on a straight line? - Pearson's r, or linear regression model. Curvture - how much the path is curved or zigzagging? angle between to consecutive lines in path.\n"
   ]
  },
  {
   "cell_type": "code",
   "execution_count": 71,
   "metadata": {},
   "outputs": [],
   "source": [
    "def plot_distribution(ax, \n",
    "                   data_array,\n",
    "                   label,\n",
    "                   min_thresh=None, max_thresh=None,\n",
    "                   title=None,\n",
    "                   kde=True, bins=500, color='b'):\n",
    "    \n",
    "    mask = np.array([True] * data_array.shape[0])\n",
    "    if min_thresh:\n",
    "        min_mask = data_array > min_thresh\n",
    "        mask = mask & min_mask\n",
    "    if max_thresh:\n",
    "        max_mask = data_array < max_thresh\n",
    "        mask = mask & max_mask     \n",
    "        \n",
    "    sns.distplot(data_array[mask], label=label, kde=kde, bins=bins,ax=ax, color=color)\n",
    "    ax.set_ylabel(label, fontsize=14, labelpad=20, rotation=45)\n",
    "    #ax.legend()\n",
    "    if title:\n",
    "        ax.set_title(title)\n"
   ]
  },
  {
   "cell_type": "code",
   "execution_count": 73,
   "metadata": {},
   "outputs": [
    {
     "name": "stderr",
     "output_type": "stream",
     "text": [
      "/app/Pogona_realtime/Arena/Prediction/train_eval.py:704: RuntimeWarning: invalid value encountered in arccos\n",
      "  angles = np.arccos(dotprods / (u_norm * v_norm))\n"
     ]
    }
   ],
   "source": [
    "#funcs = [train_eval.compute_dists, train_eval.compute_speeds, train_eval.compute_zigzagity, train_eval.compute_batch_r]\n",
    "funcs = [train_eval.compute_speeds, train_eval.compute_zigzagity, train_eval.compute_batch_r]\n",
    "\n",
    "#labels = ['distance', 'speed','zigzagity', 'pear_r']\n",
    "labels = ['speed','zigzagity', 'pear_r']\n",
    "\n",
    "distr_X_full = {key:pd.Series(func(seq_data_X),name=key) for key,func in zip(labels, funcs)}"
   ]
  },
  {
   "cell_type": "code",
   "execution_count": 102,
   "metadata": {},
   "outputs": [],
   "source": [
    "funcs = [train_eval.compute_dists, train_eval.compute_speeds, train_eval.compute_zigzagity, train_eval.compute_batch_r]\n",
    "labels = ['distance', 'speed','zigzagity', 'pear_r']\n",
    "distr_X_hits = {key:pd.Series(func(hits_X[:,:,2:]),name=key) for key,func in zip(labels, funcs)}"
   ]
  },
  {
   "cell_type": "code",
   "execution_count": 82,
   "metadata": {},
   "outputs": [
    {
     "data": {
      "image/png": "[encoded data removed]",
      "text/plain": [
       "<Figure size 1440x576 with 3 Axes>"
      ]
     },
     "metadata": {
      "needs_background": "light"
     },
     "output_type": "display_data"
    }
   ],
   "source": [
    "%matplotlib inline\n",
    "fig, axes = plt.subplots(1, len(funcs), figsize=(20,8))\n",
    "for ax, label in zip(axes, labels):\n",
    "    max_thresh = 24\n",
    "    plot_distribution(ax, \n",
    "                      distr_X_full[label], \n",
    "                      label=label,\n",
    "                      kde=False,\n",
    "                      bins=50, max_thresh=max_thresh)\n",
    "    \"\"\"\n",
    "    plot_distribution(ax, \n",
    "                      distr_X_full[label], \n",
    "                      label=None,\n",
    "                      kde=True,\n",
    "                      bins=50, color='r',max_thresh=max_thresh)\n",
    "    \"\"\"\n",
    "#fig.suptitle('Data statitstics', fontsize=20)\n",
    "fig.tight_layout()\n",
    "fig.savefig('../experiments_plots/data_stats.jpg')\n"
   ]
  },
  {
   "cell_type": "code",
   "execution_count": 61,
   "metadata": {},
   "outputs": [
    {
     "data": {
      "text/plain": [
       "0.01    0.661183\n",
       "0.05    1.205997\n",
       "0.10    1.499100\n",
       "0.25    1.830956\n",
       "0.50    2.025844\n",
       "0.75    2.178129\n",
       "0.90    2.302323\n",
       "Name: zigzagity, dtype: float32"
      ]
     },
     "execution_count": 61,
     "metadata": {},
     "output_type": "execute_result"
    }
   ],
   "source": [
    "distr_X_full['zigzagity'].quantile([0.01,0.05, 0.1, 0.25, .5, .75 ,.9])"
   ]
  },
  {
   "cell_type": "code",
   "execution_count": 189,
   "metadata": {},
   "outputs": [
    {
     "data": {
      "text/plain": [
       "3897"
      ]
     },
     "execution_count": 189,
     "metadata": {},
     "output_type": "execute_result"
    }
   ],
   "source": [
    "data_mask.sum()"
   ]
  },
  {
   "cell_type": "code",
   "execution_count": 88,
   "metadata": {},
   "outputs": [
    {
     "data": {
      "image/png": "[encoded data removed]",
      "text/plain": [
       "<Figure size 648x648 with 3 Axes>"
      ]
     },
     "metadata": {
      "needs_background": "light"
     },
     "output_type": "display_data"
    }
   ],
   "source": [
    "%matplotlib inline\n",
    "# plot 2d relationship\n",
    "x_axis = 'zigzagity'\n",
    "y_axis = 'pear_r'\n",
    "alpha = 1\n",
    "color='r'\n",
    "\n",
    "#plt.figure()\n",
    "#fig, ax = plt.subplots(1,1,figsize=(12,6))\n",
    "#sns.scatterplot(distr_X_full[x_axis], distr_X_full[y_axis], ax=ax, alpha=alpha,color=color)\n",
    "g = sns.jointplot(distr_X_full[x_axis], distr_X_full[y_axis], kind='hex',alpha=alpha,marginal_kws={'bins':100}, height=9)\n",
    "#fig.set_facecolor('w')\n",
    "g.savefig('../experiments_plots/zgzg_r_data.jpg')"
   ]
  },
  {
   "cell_type": "markdown",
   "metadata": {},
   "source": [
    "### Displacement Error for each timestep"
   ]
  },
  {
   "cell_type": "code",
   "execution_count": null,
   "metadata": {},
   "outputs": [],
   "source": []
  },
  {
   "cell_type": "code",
   "execution_count": null,
   "metadata": {},
   "outputs": [],
   "source": [
    "def calc_DE(y_hat, y):\n",
    "    \"\"\"\n",
    "    Calculate the average displacement error (DE) of a test set of predictions\n",
    "    displacement is the L2 norm between the prediction and the truth\n",
    "    :param y_hat: torch tensor dims (number of sample, out seq size, out size)\n",
    "    :param y: same\n",
    "    :return: mean DE for each timestep\n",
    "    \"\"\"\n",
    "    if len(y_hat.shape) == 2:\n",
    "        y_hat = y_hat.unsqueeze(0)\n",
    "        y = y.unsqueeze(0)\n",
    "\n",
    "    return torch.mean(torch.norm(y_hat - y, dim=2), dim=1).mean()"
   ]
  },
  {
   "cell_type": "markdown",
   "metadata": {},
   "source": [
    "#### TODO: Stats for detections data itself - \n",
    "- location clustering, speed from last detection, variability of a single trial (not of sequences?)"
   ]
  },
  {
   "cell_type": "code",
   "execution_count": 100,
   "metadata": {},
   "outputs": [
    {
     "data": {
      "text/html": [
       "<div>\n",
       "<style scoped>\n",
       "    .dataframe tbody tr th:only-of-type {\n",
       "        vertical-align: middle;\n",
       "    }\n",
       "\n",
       "    .dataframe tbody tr th {\n",
       "        vertical-align: top;\n",
       "    }\n",
       "\n",
       "    .dataframe thead th {\n",
       "        text-align: right;\n",
       "    }\n",
       "</style>\n",
       "<table border=\"1\" class=\"dataframe\">\n",
       "  <thead>\n",
       "    <tr style=\"text-align: right;\">\n",
       "      <th></th>\n",
       "      <th>cent_x</th>\n",
       "      <th>cent_y</th>\n",
       "      <th>x1</th>\n",
       "      <th>y1</th>\n",
       "      <th>x2</th>\n",
       "      <th>y2</th>\n",
       "      <th>conf</th>\n",
       "      <th>num_bbox</th>\n",
       "      <th>hit_x</th>\n",
       "      <th>hit_y</th>\n",
       "      <th>bug_x</th>\n",
       "      <th>bug_y</th>\n",
       "      <th>is_touch</th>\n",
       "    </tr>\n",
       "  </thead>\n",
       "  <tbody>\n",
       "    <tr>\n",
       "      <th>feeding_4_screen_20200830-130446_None</th>\n",
       "      <td>466.326476</td>\n",
       "      <td>284.764055</td>\n",
       "      <td>477.684566</td>\n",
       "      <td>286.222591</td>\n",
       "      <td>458.165240</td>\n",
       "      <td>286.106747</td>\n",
       "      <td>0.010892</td>\n",
       "      <td>0.0</td>\n",
       "      <td>NaN</td>\n",
       "      <td>NaN</td>\n",
       "      <td>NaN</td>\n",
       "      <td>NaN</td>\n",
       "      <td>0.000000</td>\n",
       "    </tr>\n",
       "    <tr>\n",
       "      <th>worm_circle_20200830T122241_trial1</th>\n",
       "      <td>442.794207</td>\n",
       "      <td>100.935395</td>\n",
       "      <td>438.731274</td>\n",
       "      <td>103.975594</td>\n",
       "      <td>449.767305</td>\n",
       "      <td>98.601986</td>\n",
       "      <td>0.001731</td>\n",
       "      <td>0.0</td>\n",
       "      <td>NaN</td>\n",
       "      <td>NaN</td>\n",
       "      <td>NaN</td>\n",
       "      <td>NaN</td>\n",
       "      <td>0.013752</td>\n",
       "    </tr>\n",
       "    <tr>\n",
       "      <th>worm_20200826T134603_trial1</th>\n",
       "      <td>401.296846</td>\n",
       "      <td>72.468718</td>\n",
       "      <td>403.056616</td>\n",
       "      <td>72.505333</td>\n",
       "      <td>401.962319</td>\n",
       "      <td>75.634243</td>\n",
       "      <td>0.002518</td>\n",
       "      <td>0.0</td>\n",
       "      <td>NaN</td>\n",
       "      <td>NaN</td>\n",
       "      <td>NaN</td>\n",
       "      <td>NaN</td>\n",
       "      <td>0.013748</td>\n",
       "    </tr>\n",
       "    <tr>\n",
       "      <th>fast_cockroach_20200803T085738_trial1</th>\n",
       "      <td>364.344155</td>\n",
       "      <td>68.012260</td>\n",
       "      <td>367.963365</td>\n",
       "      <td>66.689621</td>\n",
       "      <td>363.788717</td>\n",
       "      <td>72.244631</td>\n",
       "      <td>0.001809</td>\n",
       "      <td>0.0</td>\n",
       "      <td>326.131415</td>\n",
       "      <td>306.077278</td>\n",
       "      <td>329.368638</td>\n",
       "      <td>393.399670</td>\n",
       "      <td>0.031357</td>\n",
       "    </tr>\n",
       "    <tr>\n",
       "      <th>feeding_20200830-120813_None</th>\n",
       "      <td>345.372409</td>\n",
       "      <td>394.883780</td>\n",
       "      <td>348.232308</td>\n",
       "      <td>395.978931</td>\n",
       "      <td>344.730780</td>\n",
       "      <td>396.130092</td>\n",
       "      <td>0.011785</td>\n",
       "      <td>0.0</td>\n",
       "      <td>NaN</td>\n",
       "      <td>NaN</td>\n",
       "      <td>NaN</td>\n",
       "      <td>NaN</td>\n",
       "      <td>0.000000</td>\n",
       "    </tr>\n",
       "    <tr>\n",
       "      <th>line_20200803T094928_trial1</th>\n",
       "      <td>336.012303</td>\n",
       "      <td>55.631021</td>\n",
       "      <td>339.274200</td>\n",
       "      <td>55.006471</td>\n",
       "      <td>336.040682</td>\n",
       "      <td>58.201248</td>\n",
       "      <td>0.002642</td>\n",
       "      <td>0.0</td>\n",
       "      <td>NaN</td>\n",
       "      <td>NaN</td>\n",
       "      <td>NaN</td>\n",
       "      <td>NaN</td>\n",
       "      <td>0.000000</td>\n",
       "    </tr>\n",
       "    <tr>\n",
       "      <th>circle_20200803T120911_trial1</th>\n",
       "      <td>277.232780</td>\n",
       "      <td>87.658076</td>\n",
       "      <td>282.904299</td>\n",
       "      <td>86.994005</td>\n",
       "      <td>273.175380</td>\n",
       "      <td>90.118257</td>\n",
       "      <td>0.011761</td>\n",
       "      <td>0.0</td>\n",
       "      <td>289.206674</td>\n",
       "      <td>291.327994</td>\n",
       "      <td>344.053603</td>\n",
       "      <td>269.223544</td>\n",
       "      <td>0.019838</td>\n",
       "    </tr>\n",
       "    <tr>\n",
       "      <th>feeding_4_20200830-125531_None</th>\n",
       "      <td>269.381826</td>\n",
       "      <td>613.742164</td>\n",
       "      <td>275.769973</td>\n",
       "      <td>616.451649</td>\n",
       "      <td>265.228558</td>\n",
       "      <td>614.775252</td>\n",
       "      <td>0.004917</td>\n",
       "      <td>0.0</td>\n",
       "      <td>NaN</td>\n",
       "      <td>NaN</td>\n",
       "      <td>NaN</td>\n",
       "      <td>NaN</td>\n",
       "      <td>0.000000</td>\n",
       "    </tr>\n",
       "    <tr>\n",
       "      <th>fast_line_20200803T082414_trial1</th>\n",
       "      <td>242.832072</td>\n",
       "      <td>167.025083</td>\n",
       "      <td>239.489555</td>\n",
       "      <td>165.502539</td>\n",
       "      <td>247.458228</td>\n",
       "      <td>169.662876</td>\n",
       "      <td>0.001743</td>\n",
       "      <td>0.0</td>\n",
       "      <td>865.498700</td>\n",
       "      <td>54.447222</td>\n",
       "      <td>100.409163</td>\n",
       "      <td>224.859956</td>\n",
       "      <td>0.019838</td>\n",
       "    </tr>\n",
       "    <tr>\n",
       "      <th>worm_20200826T135440_trial1</th>\n",
       "      <td>235.102901</td>\n",
       "      <td>316.688909</td>\n",
       "      <td>239.228814</td>\n",
       "      <td>322.132830</td>\n",
       "      <td>233.615259</td>\n",
       "      <td>313.680865</td>\n",
       "      <td>0.006717</td>\n",
       "      <td>0.0</td>\n",
       "      <td>NaN</td>\n",
       "      <td>NaN</td>\n",
       "      <td>NaN</td>\n",
       "      <td>NaN</td>\n",
       "      <td>0.013753</td>\n",
       "    </tr>\n",
       "    <tr>\n",
       "      <th>circle_20200803T090615_trial1</th>\n",
       "      <td>229.142904</td>\n",
       "      <td>968.041210</td>\n",
       "      <td>237.875095</td>\n",
       "      <td>992.500885</td>\n",
       "      <td>223.452126</td>\n",
       "      <td>950.198459</td>\n",
       "      <td>0.002968</td>\n",
       "      <td>0.0</td>\n",
       "      <td>NaN</td>\n",
       "      <td>NaN</td>\n",
       "      <td>NaN</td>\n",
       "      <td>NaN</td>\n",
       "      <td>0.000000</td>\n",
       "    </tr>\n",
       "    <tr>\n",
       "      <th>feeding_4_20200830-125905_None</th>\n",
       "      <td>216.909421</td>\n",
       "      <td>700.412971</td>\n",
       "      <td>226.056590</td>\n",
       "      <td>714.620660</td>\n",
       "      <td>210.362426</td>\n",
       "      <td>691.536925</td>\n",
       "      <td>0.011391</td>\n",
       "      <td>0.0</td>\n",
       "      <td>NaN</td>\n",
       "      <td>NaN</td>\n",
       "      <td>NaN</td>\n",
       "      <td>NaN</td>\n",
       "      <td>0.000000</td>\n",
       "    </tr>\n",
       "    <tr>\n",
       "      <th>feeding_4_20200830-121143_None</th>\n",
       "      <td>196.879748</td>\n",
       "      <td>486.002225</td>\n",
       "      <td>195.927494</td>\n",
       "      <td>494.776263</td>\n",
       "      <td>199.228990</td>\n",
       "      <td>480.599977</td>\n",
       "      <td>0.012653</td>\n",
       "      <td>0.0</td>\n",
       "      <td>NaN</td>\n",
       "      <td>NaN</td>\n",
       "      <td>NaN</td>\n",
       "      <td>NaN</td>\n",
       "      <td>0.000000</td>\n",
       "    </tr>\n",
       "    <tr>\n",
       "      <th>worm_20200826T135440_trial2</th>\n",
       "      <td>203.616708</td>\n",
       "      <td>59.127652</td>\n",
       "      <td>214.529607</td>\n",
       "      <td>55.658986</td>\n",
       "      <td>193.912122</td>\n",
       "      <td>65.228683</td>\n",
       "      <td>0.001371</td>\n",
       "      <td>0.0</td>\n",
       "      <td>NaN</td>\n",
       "      <td>NaN</td>\n",
       "      <td>NaN</td>\n",
       "      <td>NaN</td>\n",
       "      <td>0.013752</td>\n",
       "    </tr>\n",
       "    <tr>\n",
       "      <th>line_20200803T114942_trial1</th>\n",
       "      <td>182.414755</td>\n",
       "      <td>65.357477</td>\n",
       "      <td>185.357259</td>\n",
       "      <td>65.973476</td>\n",
       "      <td>181.373165</td>\n",
       "      <td>66.556649</td>\n",
       "      <td>0.011267</td>\n",
       "      <td>0.0</td>\n",
       "      <td>18.384776</td>\n",
       "      <td>198.697006</td>\n",
       "      <td>33.941125</td>\n",
       "      <td>287.792460</td>\n",
       "      <td>0.019838</td>\n",
       "    </tr>\n",
       "    <tr>\n",
       "      <th>line_20200803T122506_trial1</th>\n",
       "      <td>187.027547</td>\n",
       "      <td>89.986401</td>\n",
       "      <td>196.962603</td>\n",
       "      <td>89.019283</td>\n",
       "      <td>178.879977</td>\n",
       "      <td>92.268729</td>\n",
       "      <td>0.005331</td>\n",
       "      <td>0.0</td>\n",
       "      <td>NaN</td>\n",
       "      <td>NaN</td>\n",
       "      <td>NaN</td>\n",
       "      <td>NaN</td>\n",
       "      <td>0.000000</td>\n",
       "    </tr>\n",
       "    <tr>\n",
       "      <th>feeding_20200830-115520_None</th>\n",
       "      <td>159.878609</td>\n",
       "      <td>572.897316</td>\n",
       "      <td>165.658037</td>\n",
       "      <td>585.026730</td>\n",
       "      <td>157.231056</td>\n",
       "      <td>565.032456</td>\n",
       "      <td>0.002233</td>\n",
       "      <td>0.0</td>\n",
       "      <td>NaN</td>\n",
       "      <td>NaN</td>\n",
       "      <td>NaN</td>\n",
       "      <td>NaN</td>\n",
       "      <td>0.000000</td>\n",
       "    </tr>\n",
       "    <tr>\n",
       "      <th>feeding_5_20200830-131348_None</th>\n",
       "      <td>147.909231</td>\n",
       "      <td>538.826271</td>\n",
       "      <td>149.820419</td>\n",
       "      <td>536.051965</td>\n",
       "      <td>146.415452</td>\n",
       "      <td>543.195620</td>\n",
       "      <td>0.006793</td>\n",
       "      <td>0.0</td>\n",
       "      <td>NaN</td>\n",
       "      <td>NaN</td>\n",
       "      <td>NaN</td>\n",
       "      <td>NaN</td>\n",
       "      <td>0.000000</td>\n",
       "    </tr>\n",
       "    <tr>\n",
       "      <th>circle_20200803T092248_trial1</th>\n",
       "      <td>123.154755</td>\n",
       "      <td>237.450886</td>\n",
       "      <td>124.476216</td>\n",
       "      <td>235.439497</td>\n",
       "      <td>123.594812</td>\n",
       "      <td>241.553093</td>\n",
       "      <td>0.001785</td>\n",
       "      <td>0.0</td>\n",
       "      <td>NaN</td>\n",
       "      <td>NaN</td>\n",
       "      <td>NaN</td>\n",
       "      <td>NaN</td>\n",
       "      <td>0.014029</td>\n",
       "    </tr>\n",
       "    <tr>\n",
       "      <th>circle_20200803T113121_trial1</th>\n",
       "      <td>121.781114</td>\n",
       "      <td>39.847242</td>\n",
       "      <td>123.872752</td>\n",
       "      <td>40.968888</td>\n",
       "      <td>120.877385</td>\n",
       "      <td>42.647086</td>\n",
       "      <td>0.005382</td>\n",
       "      <td>0.0</td>\n",
       "      <td>NaN</td>\n",
       "      <td>NaN</td>\n",
       "      <td>NaN</td>\n",
       "      <td>NaN</td>\n",
       "      <td>0.000000</td>\n",
       "    </tr>\n",
       "    <tr>\n",
       "      <th>feeding_4_20200830-122515_None</th>\n",
       "      <td>106.651476</td>\n",
       "      <td>402.962637</td>\n",
       "      <td>104.730650</td>\n",
       "      <td>407.254567</td>\n",
       "      <td>111.045667</td>\n",
       "      <td>401.293462</td>\n",
       "      <td>0.007280</td>\n",
       "      <td>0.0</td>\n",
       "      <td>NaN</td>\n",
       "      <td>NaN</td>\n",
       "      <td>NaN</td>\n",
       "      <td>NaN</td>\n",
       "      <td>0.000000</td>\n",
       "    </tr>\n",
       "    <tr>\n",
       "      <th>circle_20200803T115839_trial1</th>\n",
       "      <td>111.064704</td>\n",
       "      <td>46.945143</td>\n",
       "      <td>112.485335</td>\n",
       "      <td>49.514790</td>\n",
       "      <td>111.019570</td>\n",
       "      <td>48.053034</td>\n",
       "      <td>0.003432</td>\n",
       "      <td>0.0</td>\n",
       "      <td>48.043919</td>\n",
       "      <td>104.308459</td>\n",
       "      <td>65.692968</td>\n",
       "      <td>60.651575</td>\n",
       "      <td>0.046483</td>\n",
       "    </tr>\n",
       "    <tr>\n",
       "      <th>worm_line_20200830T121513_trial1</th>\n",
       "      <td>97.008063</td>\n",
       "      <td>105.804804</td>\n",
       "      <td>100.824092</td>\n",
       "      <td>101.153960</td>\n",
       "      <td>94.977882</td>\n",
       "      <td>111.651855</td>\n",
       "      <td>0.001083</td>\n",
       "      <td>0.0</td>\n",
       "      <td>NaN</td>\n",
       "      <td>NaN</td>\n",
       "      <td>NaN</td>\n",
       "      <td>NaN</td>\n",
       "      <td>0.000000</td>\n",
       "    </tr>\n",
       "    <tr>\n",
       "      <th>circle_20200803T090234_trial1</th>\n",
       "      <td>98.351522</td>\n",
       "      <td>152.379007</td>\n",
       "      <td>109.784924</td>\n",
       "      <td>146.471460</td>\n",
       "      <td>88.531392</td>\n",
       "      <td>160.632015</td>\n",
       "      <td>0.002486</td>\n",
       "      <td>0.0</td>\n",
       "      <td>NaN</td>\n",
       "      <td>NaN</td>\n",
       "      <td>NaN</td>\n",
       "      <td>NaN</td>\n",
       "      <td>0.014029</td>\n",
       "    </tr>\n",
       "    <tr>\n",
       "      <th>worm_line_20200830T121825_trial1</th>\n",
       "      <td>87.324587</td>\n",
       "      <td>487.471930</td>\n",
       "      <td>86.882446</td>\n",
       "      <td>490.495170</td>\n",
       "      <td>87.876143</td>\n",
       "      <td>486.841234</td>\n",
       "      <td>0.008300</td>\n",
       "      <td>0.0</td>\n",
       "      <td>NaN</td>\n",
       "      <td>NaN</td>\n",
       "      <td>NaN</td>\n",
       "      <td>NaN</td>\n",
       "      <td>0.013753</td>\n",
       "    </tr>\n",
       "    <tr>\n",
       "      <th>red_beetle_20200826T133947_trial1</th>\n",
       "      <td>83.222803</td>\n",
       "      <td>75.478640</td>\n",
       "      <td>85.934322</td>\n",
       "      <td>74.551407</td>\n",
       "      <td>81.284731</td>\n",
       "      <td>79.188105</td>\n",
       "      <td>0.002443</td>\n",
       "      <td>0.0</td>\n",
       "      <td>NaN</td>\n",
       "      <td>NaN</td>\n",
       "      <td>NaN</td>\n",
       "      <td>NaN</td>\n",
       "      <td>0.013752</td>\n",
       "    </tr>\n",
       "    <tr>\n",
       "      <th>line_20200803T081429_trial1</th>\n",
       "      <td>77.100415</td>\n",
       "      <td>111.622167</td>\n",
       "      <td>76.394836</td>\n",
       "      <td>100.934901</td>\n",
       "      <td>79.629697</td>\n",
       "      <td>123.214088</td>\n",
       "      <td>0.002586</td>\n",
       "      <td>0.0</td>\n",
       "      <td>6.363961</td>\n",
       "      <td>260.922402</td>\n",
       "      <td>98.994949</td>\n",
       "      <td>372.645274</td>\n",
       "      <td>0.019838</td>\n",
       "    </tr>\n",
       "    <tr>\n",
       "      <th>beetle_fast_line_20200830T124020_trial1</th>\n",
       "      <td>71.960293</td>\n",
       "      <td>14.083063</td>\n",
       "      <td>66.565428</td>\n",
       "      <td>12.858926</td>\n",
       "      <td>79.427552</td>\n",
       "      <td>17.088802</td>\n",
       "      <td>0.001785</td>\n",
       "      <td>0.0</td>\n",
       "      <td>NaN</td>\n",
       "      <td>NaN</td>\n",
       "      <td>NaN</td>\n",
       "      <td>NaN</td>\n",
       "      <td>0.000000</td>\n",
       "    </tr>\n",
       "    <tr>\n",
       "      <th>circle_20200803T091639_trial1</th>\n",
       "      <td>78.385143</td>\n",
       "      <td>93.883232</td>\n",
       "      <td>85.906119</td>\n",
       "      <td>94.361257</td>\n",
       "      <td>72.085031</td>\n",
       "      <td>96.983844</td>\n",
       "      <td>0.001904</td>\n",
       "      <td>0.0</td>\n",
       "      <td>141.640894</td>\n",
       "      <td>217.653285</td>\n",
       "      <td>144.336691</td>\n",
       "      <td>224.842472</td>\n",
       "      <td>0.037095</td>\n",
       "    </tr>\n",
       "    <tr>\n",
       "      <th>circle_20200803T121730_trial1</th>\n",
       "      <td>68.004951</td>\n",
       "      <td>28.699074</td>\n",
       "      <td>69.673596</td>\n",
       "      <td>23.840504</td>\n",
       "      <td>67.182576</td>\n",
       "      <td>35.945184</td>\n",
       "      <td>0.004971</td>\n",
       "      <td>0.0</td>\n",
       "      <td>NaN</td>\n",
       "      <td>NaN</td>\n",
       "      <td>NaN</td>\n",
       "      <td>NaN</td>\n",
       "      <td>0.000000</td>\n",
       "    </tr>\n",
       "    <tr>\n",
       "      <th>line_20200803T095401_trial1</th>\n",
       "      <td>55.966711</td>\n",
       "      <td>34.318130</td>\n",
       "      <td>49.636567</td>\n",
       "      <td>27.335020</td>\n",
       "      <td>63.089701</td>\n",
       "      <td>42.973309</td>\n",
       "      <td>0.001296</td>\n",
       "      <td>0.0</td>\n",
       "      <td>NaN</td>\n",
       "      <td>NaN</td>\n",
       "      <td>NaN</td>\n",
       "      <td>NaN</td>\n",
       "      <td>0.000000</td>\n",
       "    </tr>\n",
       "    <tr>\n",
       "      <th>worm_line_20200830T122932_trial1</th>\n",
       "      <td>52.684265</td>\n",
       "      <td>36.576361</td>\n",
       "      <td>44.405406</td>\n",
       "      <td>37.196749</td>\n",
       "      <td>61.749546</td>\n",
       "      <td>37.628371</td>\n",
       "      <td>0.001140</td>\n",
       "      <td>0.0</td>\n",
       "      <td>NaN</td>\n",
       "      <td>NaN</td>\n",
       "      <td>NaN</td>\n",
       "      <td>NaN</td>\n",
       "      <td>0.000000</td>\n",
       "    </tr>\n",
       "    <tr>\n",
       "      <th>cockroach_circle_20200830T123508_trial1</th>\n",
       "      <td>61.521952</td>\n",
       "      <td>228.453298</td>\n",
       "      <td>62.562508</td>\n",
       "      <td>224.438858</td>\n",
       "      <td>60.758425</td>\n",
       "      <td>233.944018</td>\n",
       "      <td>0.001147</td>\n",
       "      <td>0.0</td>\n",
       "      <td>NaN</td>\n",
       "      <td>NaN</td>\n",
       "      <td>NaN</td>\n",
       "      <td>NaN</td>\n",
       "      <td>0.000000</td>\n",
       "    </tr>\n",
       "    <tr>\n",
       "      <th>circle_20200803T093051_trial1</th>\n",
       "      <td>62.707086</td>\n",
       "      <td>66.653543</td>\n",
       "      <td>70.830884</td>\n",
       "      <td>62.740132</td>\n",
       "      <td>55.580772</td>\n",
       "      <td>71.338757</td>\n",
       "      <td>0.001632</td>\n",
       "      <td>0.0</td>\n",
       "      <td>NaN</td>\n",
       "      <td>NaN</td>\n",
       "      <td>NaN</td>\n",
       "      <td>NaN</td>\n",
       "      <td>0.000000</td>\n",
       "    </tr>\n",
       "    <tr>\n",
       "      <th>circle_20200803T084227_trial1</th>\n",
       "      <td>57.925314</td>\n",
       "      <td>81.891140</td>\n",
       "      <td>68.696319</td>\n",
       "      <td>76.861634</td>\n",
       "      <td>49.012276</td>\n",
       "      <td>89.167106</td>\n",
       "      <td>0.001716</td>\n",
       "      <td>0.0</td>\n",
       "      <td>NaN</td>\n",
       "      <td>NaN</td>\n",
       "      <td>NaN</td>\n",
       "      <td>NaN</td>\n",
       "      <td>0.000000</td>\n",
       "    </tr>\n",
       "    <tr>\n",
       "      <th>circle_20200803T084529_trial2</th>\n",
       "      <td>49.702991</td>\n",
       "      <td>34.557566</td>\n",
       "      <td>58.756106</td>\n",
       "      <td>24.610258</td>\n",
       "      <td>41.902308</td>\n",
       "      <td>45.177982</td>\n",
       "      <td>0.001045</td>\n",
       "      <td>0.0</td>\n",
       "      <td>NaN</td>\n",
       "      <td>NaN</td>\n",
       "      <td>NaN</td>\n",
       "      <td>NaN</td>\n",
       "      <td>0.000000</td>\n",
       "    </tr>\n",
       "    <tr>\n",
       "      <th>circle_20200803T084529_trial1</th>\n",
       "      <td>43.473750</td>\n",
       "      <td>42.523279</td>\n",
       "      <td>51.166462</td>\n",
       "      <td>30.761215</td>\n",
       "      <td>37.070530</td>\n",
       "      <td>55.694391</td>\n",
       "      <td>0.000982</td>\n",
       "      <td>0.0</td>\n",
       "      <td>NaN</td>\n",
       "      <td>NaN</td>\n",
       "      <td>NaN</td>\n",
       "      <td>NaN</td>\n",
       "      <td>0.000000</td>\n",
       "    </tr>\n",
       "    <tr>\n",
       "      <th>fast_line_20200803T082724_trial1</th>\n",
       "      <td>31.584987</td>\n",
       "      <td>28.115790</td>\n",
       "      <td>34.164706</td>\n",
       "      <td>21.846568</td>\n",
       "      <td>33.395664</td>\n",
       "      <td>36.349469</td>\n",
       "      <td>0.003335</td>\n",
       "      <td>0.0</td>\n",
       "      <td>NaN</td>\n",
       "      <td>NaN</td>\n",
       "      <td>NaN</td>\n",
       "      <td>NaN</td>\n",
       "      <td>0.014029</td>\n",
       "    </tr>\n",
       "    <tr>\n",
       "      <th>cockroach_line_20200830T115811_trial1</th>\n",
       "      <td>18.272677</td>\n",
       "      <td>20.752000</td>\n",
       "      <td>16.329659</td>\n",
       "      <td>20.169156</td>\n",
       "      <td>21.073142</td>\n",
       "      <td>22.468363</td>\n",
       "      <td>0.001261</td>\n",
       "      <td>0.0</td>\n",
       "      <td>NaN</td>\n",
       "      <td>NaN</td>\n",
       "      <td>NaN</td>\n",
       "      <td>NaN</td>\n",
       "      <td>0.000000</td>\n",
       "    </tr>\n",
       "    <tr>\n",
       "      <th>circle_20200803T084227_trial2</th>\n",
       "      <td>22.125978</td>\n",
       "      <td>17.557450</td>\n",
       "      <td>25.434677</td>\n",
       "      <td>12.636458</td>\n",
       "      <td>20.211227</td>\n",
       "      <td>24.461654</td>\n",
       "      <td>0.000608</td>\n",
       "      <td>0.0</td>\n",
       "      <td>NaN</td>\n",
       "      <td>NaN</td>\n",
       "      <td>NaN</td>\n",
       "      <td>NaN</td>\n",
       "      <td>0.000000</td>\n",
       "    </tr>\n",
       "    <tr>\n",
       "      <th>line_20200803T101641_trial2</th>\n",
       "      <td>23.241560</td>\n",
       "      <td>22.715247</td>\n",
       "      <td>28.223745</td>\n",
       "      <td>25.338574</td>\n",
       "      <td>20.132982</td>\n",
       "      <td>22.888839</td>\n",
       "      <td>0.002885</td>\n",
       "      <td>0.0</td>\n",
       "      <td>NaN</td>\n",
       "      <td>NaN</td>\n",
       "      <td>NaN</td>\n",
       "      <td>NaN</td>\n",
       "      <td>0.000000</td>\n",
       "    </tr>\n",
       "    <tr>\n",
       "      <th>line_20200803T101641_trial1</th>\n",
       "      <td>14.621325</td>\n",
       "      <td>7.547935</td>\n",
       "      <td>23.635061</td>\n",
       "      <td>10.259047</td>\n",
       "      <td>7.181645</td>\n",
       "      <td>6.784962</td>\n",
       "      <td>0.021206</td>\n",
       "      <td>0.0</td>\n",
       "      <td>NaN</td>\n",
       "      <td>NaN</td>\n",
       "      <td>NaN</td>\n",
       "      <td>NaN</td>\n",
       "      <td>0.000000</td>\n",
       "    </tr>\n",
       "    <tr>\n",
       "      <th>worm_line_20200830T120451_trial1</th>\n",
       "      <td>5.121953</td>\n",
       "      <td>1.545572</td>\n",
       "      <td>5.529420</td>\n",
       "      <td>2.846951</td>\n",
       "      <td>4.994059</td>\n",
       "      <td>2.294540</td>\n",
       "      <td>0.000872</td>\n",
       "      <td>0.0</td>\n",
       "      <td>NaN</td>\n",
       "      <td>NaN</td>\n",
       "      <td>NaN</td>\n",
       "      <td>NaN</td>\n",
       "      <td>0.000000</td>\n",
       "    </tr>\n",
       "    <tr>\n",
       "      <th>cockroach_line_20200830T120130_trial1</th>\n",
       "      <td>2.200580</td>\n",
       "      <td>3.891898</td>\n",
       "      <td>3.054080</td>\n",
       "      <td>4.997765</td>\n",
       "      <td>3.249201</td>\n",
       "      <td>5.857668</td>\n",
       "      <td>0.018928</td>\n",
       "      <td>0.0</td>\n",
       "      <td>NaN</td>\n",
       "      <td>NaN</td>\n",
       "      <td>NaN</td>\n",
       "      <td>NaN</td>\n",
       "      <td>0.000000</td>\n",
       "    </tr>\n",
       "    <tr>\n",
       "      <th>line_20200803T081735_trial1</th>\n",
       "      <td>2.753723</td>\n",
       "      <td>4.576818</td>\n",
       "      <td>3.704998</td>\n",
       "      <td>2.049603</td>\n",
       "      <td>3.246228</td>\n",
       "      <td>8.005241</td>\n",
       "      <td>0.000556</td>\n",
       "      <td>0.0</td>\n",
       "      <td>NaN</td>\n",
       "      <td>NaN</td>\n",
       "      <td>NaN</td>\n",
       "      <td>NaN</td>\n",
       "      <td>0.000000</td>\n",
       "    </tr>\n",
       "    <tr>\n",
       "      <th>line_20200803T082002_trial1</th>\n",
       "      <td>2.265336</td>\n",
       "      <td>2.383609</td>\n",
       "      <td>2.661252</td>\n",
       "      <td>2.319357</td>\n",
       "      <td>1.782348</td>\n",
       "      <td>2.832333</td>\n",
       "      <td>0.000144</td>\n",
       "      <td>0.0</td>\n",
       "      <td>NaN</td>\n",
       "      <td>NaN</td>\n",
       "      <td>NaN</td>\n",
       "      <td>NaN</td>\n",
       "      <td>0.000000</td>\n",
       "    </tr>\n",
       "  </tbody>\n",
       "</table>\n",
       "</div>"
      ],
      "text/plain": [
       "                                             cent_x      cent_y          x1  \\\n",
       "feeding_4_screen_20200830-130446_None    466.326476  284.764055  477.684566   \n",
       "worm_circle_20200830T122241_trial1       442.794207  100.935395  438.731274   \n",
       "worm_20200826T134603_trial1              401.296846   72.468718  403.056616   \n",
       "fast_cockroach_20200803T085738_trial1    364.344155   68.012260  367.963365   \n",
       "feeding_20200830-120813_None             345.372409  394.883780  348.232308   \n",
       "line_20200803T094928_trial1              336.012303   55.631021  339.274200   \n",
       "circle_20200803T120911_trial1            277.232780   87.658076  282.904299   \n",
       "feeding_4_20200830-125531_None           269.381826  613.742164  275.769973   \n",
       "fast_line_20200803T082414_trial1         242.832072  167.025083  239.489555   \n",
       "worm_20200826T135440_trial1              235.102901  316.688909  239.228814   \n",
       "circle_20200803T090615_trial1            229.142904  968.041210  237.875095   \n",
       "feeding_4_20200830-125905_None           216.909421  700.412971  226.056590   \n",
       "feeding_4_20200830-121143_None           196.879748  486.002225  195.927494   \n",
       "worm_20200826T135440_trial2              203.616708   59.127652  214.529607   \n",
       "line_20200803T114942_trial1              182.414755   65.357477  185.357259   \n",
       "line_20200803T122506_trial1              187.027547   89.986401  196.962603   \n",
       "feeding_20200830-115520_None             159.878609  572.897316  165.658037   \n",
       "feeding_5_20200830-131348_None           147.909231  538.826271  149.820419   \n",
       "circle_20200803T092248_trial1            123.154755  237.450886  124.476216   \n",
       "circle_20200803T113121_trial1            121.781114   39.847242  123.872752   \n",
       "feeding_4_20200830-122515_None           106.651476  402.962637  104.730650   \n",
       "circle_20200803T115839_trial1            111.064704   46.945143  112.485335   \n",
       "worm_line_20200830T121513_trial1          97.008063  105.804804  100.824092   \n",
       "circle_20200803T090234_trial1             98.351522  152.379007  109.784924   \n",
       "worm_line_20200830T121825_trial1          87.324587  487.471930   86.882446   \n",
       "red_beetle_20200826T133947_trial1         83.222803   75.478640   85.934322   \n",
       "line_20200803T081429_trial1               77.100415  111.622167   76.394836   \n",
       "beetle_fast_line_20200830T124020_trial1   71.960293   14.083063   66.565428   \n",
       "circle_20200803T091639_trial1             78.385143   93.883232   85.906119   \n",
       "circle_20200803T121730_trial1             68.004951   28.699074   69.673596   \n",
       "line_20200803T095401_trial1               55.966711   34.318130   49.636567   \n",
       "worm_line_20200830T122932_trial1          52.684265   36.576361   44.405406   \n",
       "cockroach_circle_20200830T123508_trial1   61.521952  228.453298   62.562508   \n",
       "circle_20200803T093051_trial1             62.707086   66.653543   70.830884   \n",
       "circle_20200803T084227_trial1             57.925314   81.891140   68.696319   \n",
       "circle_20200803T084529_trial2             49.702991   34.557566   58.756106   \n",
       "circle_20200803T084529_trial1             43.473750   42.523279   51.166462   \n",
       "fast_line_20200803T082724_trial1          31.584987   28.115790   34.164706   \n",
       "cockroach_line_20200830T115811_trial1     18.272677   20.752000   16.329659   \n",
       "circle_20200803T084227_trial2             22.125978   17.557450   25.434677   \n",
       "line_20200803T101641_trial2               23.241560   22.715247   28.223745   \n",
       "line_20200803T101641_trial1               14.621325    7.547935   23.635061   \n",
       "worm_line_20200830T120451_trial1           5.121953    1.545572    5.529420   \n",
       "cockroach_line_20200830T120130_trial1      2.200580    3.891898    3.054080   \n",
       "line_20200803T081735_trial1                2.753723    4.576818    3.704998   \n",
       "line_20200803T082002_trial1                2.265336    2.383609    2.661252   \n",
       "\n",
       "                                                 y1          x2          y2  \\\n",
       "feeding_4_screen_20200830-130446_None    286.222591  458.165240  286.106747   \n",
       "worm_circle_20200830T122241_trial1       103.975594  449.767305   98.601986   \n",
       "worm_20200826T134603_trial1               72.505333  401.962319   75.634243   \n",
       "fast_cockroach_20200803T085738_trial1     66.689621  363.788717   72.244631   \n",
       "feeding_20200830-120813_None             395.978931  344.730780  396.130092   \n",
       "line_20200803T094928_trial1               55.006471  336.040682   58.201248   \n",
       "circle_20200803T120911_trial1             86.994005  273.175380   90.118257   \n",
       "feeding_4_20200830-125531_None           616.451649  265.228558  614.775252   \n",
       "fast_line_20200803T082414_trial1         165.502539  247.458228  169.662876   \n",
       "worm_20200826T135440_trial1              322.132830  233.615259  313.680865   \n",
       "circle_20200803T090615_trial1            992.500885  223.452126  950.198459   \n",
       "feeding_4_20200830-125905_None           714.620660  210.362426  691.536925   \n",
       "feeding_4_20200830-121143_None           494.776263  199.228990  480.599977   \n",
       "worm_20200826T135440_trial2               55.658986  193.912122   65.228683   \n",
       "line_20200803T114942_trial1               65.973476  181.373165   66.556649   \n",
       "line_20200803T122506_trial1               89.019283  178.879977   92.268729   \n",
       "feeding_20200830-115520_None             585.026730  157.231056  565.032456   \n",
       "feeding_5_20200830-131348_None           536.051965  146.415452  543.195620   \n",
       "circle_20200803T092248_trial1            235.439497  123.594812  241.553093   \n",
       "circle_20200803T113121_trial1             40.968888  120.877385   42.647086   \n",
       "feeding_4_20200830-122515_None           407.254567  111.045667  401.293462   \n",
       "circle_20200803T115839_trial1             49.514790  111.019570   48.053034   \n",
       "worm_line_20200830T121513_trial1         101.153960   94.977882  111.651855   \n",
       "circle_20200803T090234_trial1            146.471460   88.531392  160.632015   \n",
       "worm_line_20200830T121825_trial1         490.495170   87.876143  486.841234   \n",
       "red_beetle_20200826T133947_trial1         74.551407   81.284731   79.188105   \n",
       "line_20200803T081429_trial1              100.934901   79.629697  123.214088   \n",
       "beetle_fast_line_20200830T124020_trial1   12.858926   79.427552   17.088802   \n",
       "circle_20200803T091639_trial1             94.361257   72.085031   96.983844   \n",
       "circle_20200803T121730_trial1             23.840504   67.182576   35.945184   \n",
       "line_20200803T095401_trial1               27.335020   63.089701   42.973309   \n",
       "worm_line_20200830T122932_trial1          37.196749   61.749546   37.628371   \n",
       "cockroach_circle_20200830T123508_trial1  224.438858   60.758425  233.944018   \n",
       "circle_20200803T093051_trial1             62.740132   55.580772   71.338757   \n",
       "circle_20200803T084227_trial1             76.861634   49.012276   89.167106   \n",
       "circle_20200803T084529_trial2             24.610258   41.902308   45.177982   \n",
       "circle_20200803T084529_trial1             30.761215   37.070530   55.694391   \n",
       "fast_line_20200803T082724_trial1          21.846568   33.395664   36.349469   \n",
       "cockroach_line_20200830T115811_trial1     20.169156   21.073142   22.468363   \n",
       "circle_20200803T084227_trial2             12.636458   20.211227   24.461654   \n",
       "line_20200803T101641_trial2               25.338574   20.132982   22.888839   \n",
       "line_20200803T101641_trial1               10.259047    7.181645    6.784962   \n",
       "worm_line_20200830T120451_trial1           2.846951    4.994059    2.294540   \n",
       "cockroach_line_20200830T120130_trial1      4.997765    3.249201    5.857668   \n",
       "line_20200803T081735_trial1                2.049603    3.246228    8.005241   \n",
       "line_20200803T082002_trial1                2.319357    1.782348    2.832333   \n",
       "\n",
       "                                             conf  num_bbox       hit_x  \\\n",
       "feeding_4_screen_20200830-130446_None    0.010892       0.0         NaN   \n",
       "worm_circle_20200830T122241_trial1       0.001731       0.0         NaN   \n",
       "worm_20200826T134603_trial1              0.002518       0.0         NaN   \n",
       "fast_cockroach_20200803T085738_trial1    0.001809       0.0  326.131415   \n",
       "feeding_20200830-120813_None             0.011785       0.0         NaN   \n",
       "line_20200803T094928_trial1              0.002642       0.0         NaN   \n",
       "circle_20200803T120911_trial1            0.011761       0.0  289.206674   \n",
       "feeding_4_20200830-125531_None           0.004917       0.0         NaN   \n",
       "fast_line_20200803T082414_trial1         0.001743       0.0  865.498700   \n",
       "worm_20200826T135440_trial1              0.006717       0.0         NaN   \n",
       "circle_20200803T090615_trial1            0.002968       0.0         NaN   \n",
       "feeding_4_20200830-125905_None           0.011391       0.0         NaN   \n",
       "feeding_4_20200830-121143_None           0.012653       0.0         NaN   \n",
       "worm_20200826T135440_trial2              0.001371       0.0         NaN   \n",
       "line_20200803T114942_trial1              0.011267       0.0   18.384776   \n",
       "line_20200803T122506_trial1              0.005331       0.0         NaN   \n",
       "feeding_20200830-115520_None             0.002233       0.0         NaN   \n",
       "feeding_5_20200830-131348_None           0.006793       0.0         NaN   \n",
       "circle_20200803T092248_trial1            0.001785       0.0         NaN   \n",
       "circle_20200803T113121_trial1            0.005382       0.0         NaN   \n",
       "feeding_4_20200830-122515_None           0.007280       0.0         NaN   \n",
       "circle_20200803T115839_trial1            0.003432       0.0   48.043919   \n",
       "worm_line_20200830T121513_trial1         0.001083       0.0         NaN   \n",
       "circle_20200803T090234_trial1            0.002486       0.0         NaN   \n",
       "worm_line_20200830T121825_trial1         0.008300       0.0         NaN   \n",
       "red_beetle_20200826T133947_trial1        0.002443       0.0         NaN   \n",
       "line_20200803T081429_trial1              0.002586       0.0    6.363961   \n",
       "beetle_fast_line_20200830T124020_trial1  0.001785       0.0         NaN   \n",
       "circle_20200803T091639_trial1            0.001904       0.0  141.640894   \n",
       "circle_20200803T121730_trial1            0.004971       0.0         NaN   \n",
       "line_20200803T095401_trial1              0.001296       0.0         NaN   \n",
       "worm_line_20200830T122932_trial1         0.001140       0.0         NaN   \n",
       "cockroach_circle_20200830T123508_trial1  0.001147       0.0         NaN   \n",
       "circle_20200803T093051_trial1            0.001632       0.0         NaN   \n",
       "circle_20200803T084227_trial1            0.001716       0.0         NaN   \n",
       "circle_20200803T084529_trial2            0.001045       0.0         NaN   \n",
       "circle_20200803T084529_trial1            0.000982       0.0         NaN   \n",
       "fast_line_20200803T082724_trial1         0.003335       0.0         NaN   \n",
       "cockroach_line_20200830T115811_trial1    0.001261       0.0         NaN   \n",
       "circle_20200803T084227_trial2            0.000608       0.0         NaN   \n",
       "line_20200803T101641_trial2              0.002885       0.0         NaN   \n",
       "line_20200803T101641_trial1              0.021206       0.0         NaN   \n",
       "worm_line_20200830T120451_trial1         0.000872       0.0         NaN   \n",
       "cockroach_line_20200830T120130_trial1    0.018928       0.0         NaN   \n",
       "line_20200803T081735_trial1              0.000556       0.0         NaN   \n",
       "line_20200803T082002_trial1              0.000144       0.0         NaN   \n",
       "\n",
       "                                              hit_y       bug_x       bug_y  \\\n",
       "feeding_4_screen_20200830-130446_None           NaN         NaN         NaN   \n",
       "worm_circle_20200830T122241_trial1              NaN         NaN         NaN   \n",
       "worm_20200826T134603_trial1                     NaN         NaN         NaN   \n",
       "fast_cockroach_20200803T085738_trial1    306.077278  329.368638  393.399670   \n",
       "feeding_20200830-120813_None                    NaN         NaN         NaN   \n",
       "line_20200803T094928_trial1                     NaN         NaN         NaN   \n",
       "circle_20200803T120911_trial1            291.327994  344.053603  269.223544   \n",
       "feeding_4_20200830-125531_None                  NaN         NaN         NaN   \n",
       "fast_line_20200803T082414_trial1          54.447222  100.409163  224.859956   \n",
       "worm_20200826T135440_trial1                     NaN         NaN         NaN   \n",
       "circle_20200803T090615_trial1                   NaN         NaN         NaN   \n",
       "feeding_4_20200830-125905_None                  NaN         NaN         NaN   \n",
       "feeding_4_20200830-121143_None                  NaN         NaN         NaN   \n",
       "worm_20200826T135440_trial2                     NaN         NaN         NaN   \n",
       "line_20200803T114942_trial1              198.697006   33.941125  287.792460   \n",
       "line_20200803T122506_trial1                     NaN         NaN         NaN   \n",
       "feeding_20200830-115520_None                    NaN         NaN         NaN   \n",
       "feeding_5_20200830-131348_None                  NaN         NaN         NaN   \n",
       "circle_20200803T092248_trial1                   NaN         NaN         NaN   \n",
       "circle_20200803T113121_trial1                   NaN         NaN         NaN   \n",
       "feeding_4_20200830-122515_None                  NaN         NaN         NaN   \n",
       "circle_20200803T115839_trial1            104.308459   65.692968   60.651575   \n",
       "worm_line_20200830T121513_trial1                NaN         NaN         NaN   \n",
       "circle_20200803T090234_trial1                   NaN         NaN         NaN   \n",
       "worm_line_20200830T121825_trial1                NaN         NaN         NaN   \n",
       "red_beetle_20200826T133947_trial1               NaN         NaN         NaN   \n",
       "line_20200803T081429_trial1              260.922402   98.994949  372.645274   \n",
       "beetle_fast_line_20200830T124020_trial1         NaN         NaN         NaN   \n",
       "circle_20200803T091639_trial1            217.653285  144.336691  224.842472   \n",
       "circle_20200803T121730_trial1                   NaN         NaN         NaN   \n",
       "line_20200803T095401_trial1                     NaN         NaN         NaN   \n",
       "worm_line_20200830T122932_trial1                NaN         NaN         NaN   \n",
       "cockroach_circle_20200830T123508_trial1         NaN         NaN         NaN   \n",
       "circle_20200803T093051_trial1                   NaN         NaN         NaN   \n",
       "circle_20200803T084227_trial1                   NaN         NaN         NaN   \n",
       "circle_20200803T084529_trial2                   NaN         NaN         NaN   \n",
       "circle_20200803T084529_trial1                   NaN         NaN         NaN   \n",
       "fast_line_20200803T082724_trial1                NaN         NaN         NaN   \n",
       "cockroach_line_20200830T115811_trial1           NaN         NaN         NaN   \n",
       "circle_20200803T084227_trial2                   NaN         NaN         NaN   \n",
       "line_20200803T101641_trial2                     NaN         NaN         NaN   \n",
       "line_20200803T101641_trial1                     NaN         NaN         NaN   \n",
       "worm_line_20200830T120451_trial1                NaN         NaN         NaN   \n",
       "cockroach_line_20200830T120130_trial1           NaN         NaN         NaN   \n",
       "line_20200803T081735_trial1                     NaN         NaN         NaN   \n",
       "line_20200803T082002_trial1                     NaN         NaN         NaN   \n",
       "\n",
       "                                         is_touch  \n",
       "feeding_4_screen_20200830-130446_None    0.000000  \n",
       "worm_circle_20200830T122241_trial1       0.013752  \n",
       "worm_20200826T134603_trial1              0.013748  \n",
       "fast_cockroach_20200803T085738_trial1    0.031357  \n",
       "feeding_20200830-120813_None             0.000000  \n",
       "line_20200803T094928_trial1              0.000000  \n",
       "circle_20200803T120911_trial1            0.019838  \n",
       "feeding_4_20200830-125531_None           0.000000  \n",
       "fast_line_20200803T082414_trial1         0.019838  \n",
       "worm_20200826T135440_trial1              0.013753  \n",
       "circle_20200803T090615_trial1            0.000000  \n",
       "feeding_4_20200830-125905_None           0.000000  \n",
       "feeding_4_20200830-121143_None           0.000000  \n",
       "worm_20200826T135440_trial2              0.013752  \n",
       "line_20200803T114942_trial1              0.019838  \n",
       "line_20200803T122506_trial1              0.000000  \n",
       "feeding_20200830-115520_None             0.000000  \n",
       "feeding_5_20200830-131348_None           0.000000  \n",
       "circle_20200803T092248_trial1            0.014029  \n",
       "circle_20200803T113121_trial1            0.000000  \n",
       "feeding_4_20200830-122515_None           0.000000  \n",
       "circle_20200803T115839_trial1            0.046483  \n",
       "worm_line_20200830T121513_trial1         0.000000  \n",
       "circle_20200803T090234_trial1            0.014029  \n",
       "worm_line_20200830T121825_trial1         0.013753  \n",
       "red_beetle_20200826T133947_trial1        0.013752  \n",
       "line_20200803T081429_trial1              0.019838  \n",
       "beetle_fast_line_20200830T124020_trial1  0.000000  \n",
       "circle_20200803T091639_trial1            0.037095  \n",
       "circle_20200803T121730_trial1            0.000000  \n",
       "line_20200803T095401_trial1              0.000000  \n",
       "worm_line_20200830T122932_trial1         0.000000  \n",
       "cockroach_circle_20200830T123508_trial1  0.000000  \n",
       "circle_20200803T093051_trial1            0.000000  \n",
       "circle_20200803T084227_trial1            0.000000  \n",
       "circle_20200803T084529_trial2            0.000000  \n",
       "circle_20200803T084529_trial1            0.000000  \n",
       "fast_line_20200803T082724_trial1         0.014029  \n",
       "cockroach_line_20200830T115811_trial1    0.000000  \n",
       "circle_20200803T084227_trial2            0.000000  \n",
       "line_20200803T101641_trial2              0.000000  \n",
       "line_20200803T101641_trial1              0.000000  \n",
       "worm_line_20200830T120451_trial1         0.000000  \n",
       "cockroach_line_20200830T120130_trial1    0.000000  \n",
       "line_20200803T081735_trial1              0.000000  \n",
       "line_20200803T082002_trial1              0.000000  "
      ]
     },
     "execution_count": 100,
     "metadata": {},
     "output_type": "execute_result"
    }
   ],
   "source": [
    "group_df = all_df.groupby(by=all_df.index).std().sort_values(by='x2',ascending=False)\n",
    "group_df"
   ]
  },
  {
   "cell_type": "code",
   "execution_count": 115,
   "metadata": {},
   "outputs": [
    {
     "name": "stderr",
     "output_type": "stream",
     "text": [
      "No handles with labels found to put in legend.\n"
     ]
    },
    {
     "data": {
      "text/plain": [
       "<matplotlib.legend.Legend at 0x7f120dcec210>"
      ]
     },
     "execution_count": 115,
     "metadata": {},
     "output_type": "execute_result"
    },
    {
     "data": {
      "image/png": "[encoded data removed]",
      "text/plain": [
       "<Figure size 1080x720 with 1 Axes>"
      ]
     },
     "metadata": {
      "needs_background": "light"
     },
     "output_type": "display_data"
    }
   ],
   "source": [
    "plt.figure(figsize=(15,10))\n",
    "sns.barplot(x=group_df.index,y='x2',data=group_df)\n",
    "plt.legend()"
   ]
  },
  {
   "cell_type": "code",
   "execution_count": 127,
   "metadata": {},
   "outputs": [
    {
     "data": {
      "text/plain": [
       "<matplotlib.collections.PathCollection at 0x7f120ce85f90>"
      ]
     },
     "execution_count": 127,
     "metadata": {},
     "output_type": "execute_result"
    },
    {
     "data": {
      "image/png": "[encoded data removed]",
      "text/plain": [
       "<Figure size 720x720 with 1 Axes>"
      ]
     },
     "metadata": {
      "needs_background": "light"
     },
     "output_type": "display_data"
    }
   ],
   "source": [
    "plt.figure(figsize=(10,10))\n",
    "plt.axis('equal')\n",
    "plt.scatter(all_df.loc['line_20200803T094928_trial1','x2'], all_df.loc['line_20200803T094928_trial1','y2'])"
   ]
  },
  {
   "cell_type": "code",
   "execution_count": 383,
   "metadata": {},
   "outputs": [
    {
     "data": {
      "text/plain": [
       "array([[0.18452017, 0.39214223, 0.652962  , 0.97055323],\n",
       "       [1.82708117, 0.99595282, 1.94592943, 1.76465548],\n",
       "       [0.07270727, 2.06994075, 2.11620262, 0.32464095]])"
      ]
     },
     "execution_count": 383,
     "metadata": {},
     "output_type": "execute_result"
    }
   ],
   "source": [
    "np.array([1,2,3])[:,np.newaxis] * np.random.random(size=(3,4))"
   ]
  },
  {
   "cell_type": "code",
   "execution_count": 432,
   "metadata": {},
   "outputs": [
    {
     "data": {
      "text/plain": [
       "array([[[1],\n",
       "        [1],\n",
       "        [1]]])"
      ]
     },
     "execution_count": 432,
     "metadata": {},
     "output_type": "execute_result"
    }
   ],
   "source": [
    "np.array([1,1,1]).reshape(1,-1,1)"
   ]
  },
  {
   "cell_type": "code",
   "execution_count": 429,
   "metadata": {},
   "outputs": [
    {
     "ename": "ValueError",
     "evalue": "all the input array dimensions for the concatenation axis must match exactly, but along dimension 0, the array at index 0 has size 2 and the array at index 1 has size 1",
     "output_type": "error",
     "traceback": [
      "\u001b[0;31m\u001b[0m",
      "\u001b[0;31mValueError\u001b[0mTraceback (most recent call last)",
      "\u001b[0;32m<ipython-input-429-ffbbf7ae653f>\u001b[0m in \u001b[0;36m<module>\u001b[0;34m\u001b[0m\n\u001b[0;32m----> 1\u001b[0;31m \u001b[0mnp\u001b[0m\u001b[0;34m.\u001b[0m\u001b[0mconcatenate\u001b[0m\u001b[0;34m(\u001b[0m\u001b[0;34m[\u001b[0m\u001b[0mnp\u001b[0m\u001b[0;34m.\u001b[0m\u001b[0mconcatenate\u001b[0m\u001b[0;34m(\u001b[0m\u001b[0;34m[\u001b[0m\u001b[0mseq_data_X\u001b[0m\u001b[0;34m[\u001b[0m\u001b[0;34m:\u001b[0m\u001b[0;36m2\u001b[0m\u001b[0;34m]\u001b[0m\u001b[0;34m,\u001b[0m \u001b[0mseq_data_Y\u001b[0m\u001b[0;34m[\u001b[0m\u001b[0;34m:\u001b[0m\u001b[0;36m2\u001b[0m\u001b[0;34m]\u001b[0m\u001b[0;34m]\u001b[0m\u001b[0;34m,\u001b[0m \u001b[0maxis\u001b[0m\u001b[0;34m=\u001b[0m\u001b[0;36m1\u001b[0m\u001b[0;34m)\u001b[0m\u001b[0;34m,\u001b[0m \u001b[0mnp\u001b[0m\u001b[0;34m.\u001b[0m\u001b[0marray\u001b[0m\u001b[0;34m(\u001b[0m\u001b[0;34m[\u001b[0m\u001b[0;36m1\u001b[0m\u001b[0;34m]\u001b[0m\u001b[0;34m)\u001b[0m\u001b[0;34m.\u001b[0m\u001b[0mreshape\u001b[0m\u001b[0;34m(\u001b[0m\u001b[0;36m1\u001b[0m\u001b[0;34m,\u001b[0m\u001b[0;36m1\u001b[0m\u001b[0;34m,\u001b[0m\u001b[0;36m1\u001b[0m\u001b[0;34m)\u001b[0m\u001b[0;34m]\u001b[0m\u001b[0;34m,\u001b[0m \u001b[0maxis\u001b[0m\u001b[0;34m=\u001b[0m\u001b[0;36m2\u001b[0m\u001b[0;34m)\u001b[0m\u001b[0;34m\u001b[0m\u001b[0;34m\u001b[0m\u001b[0m\n\u001b[0m",
      "\u001b[0;32m<__array_function__ internals>\u001b[0m in \u001b[0;36mconcatenate\u001b[0;34m(*args, **kwargs)\u001b[0m\n",
      "\u001b[0;31mValueError\u001b[0m: all the input array dimensions for the concatenation axis must match exactly, but along dimension 0, the array at index 0 has size 2 and the array at index 1 has size 1"
     ]
    }
   ],
   "source": [
    "np.concatenate([np.concatenate([seq_data_X[:2], seq_data_Y[:2]], axis=1), np.array([1]).reshape(1,1,1)], axis=2)"
   ]
  },
  {
   "cell_type": "code",
   "execution_count": null,
   "metadata": {},
   "outputs": [],
   "source": []
  },
  {
   "cell_type": "code",
   "execution_count": 444,
   "metadata": {},
   "outputs": [
    {
     "data": {
      "text/plain": [
       "array([ 751.5834, 1660.6426], dtype=float32)"
      ]
     },
     "execution_count": 444,
     "metadata": {},
     "output_type": "execute_result"
    }
   ],
   "source": [
    "np.concatenate([test_X[-1].reshape(-1,2), test_Y[0].reshape(-1,2)],axis=0).mean(axis=0)"
   ]
  },
  {
   "cell_type": "code",
   "execution_count": 446,
   "metadata": {},
   "outputs": [],
   "source": [
    "test_X, test_Y = seq_data_X[0], seq_data_Y[0]\n",
    "mid_point = np.concatenate([test_X[-1].reshape(-1,2), test_Y[0].reshape(-1,2)],axis=0).mean(axis=0)"
   ]
  },
  {
   "cell_type": "code",
   "execution_count": 447,
   "metadata": {},
   "outputs": [],
   "source": [
    "seq_rot = cv.getRotationMatrix2D(tuple(mid_point),90,1)"
   ]
  },
  {
   "cell_type": "code",
   "execution_count": 448,
   "metadata": {},
   "outputs": [
    {
     "data": {
      "text/plain": [
       "array([[ 6.12323400e-17,  1.00000000e+00, -9.09059204e+02],\n",
       "       [-1.00000000e+00,  6.12323400e-17,  2.41222595e+03]])"
      ]
     },
     "execution_count": 448,
     "metadata": {},
     "output_type": "execute_result"
    }
   ],
   "source": [
    "seq_rot gru"
   ]
  },
  {
   "cell_type": "code",
   "execution_count": 477,
   "metadata": {},
   "outputs": [],
   "source": [
    "def rotate_seq(seq, rot_mat):\n",
    "    padded = np.concatenate([seq, np.ones(seq.shape[0]).reshape(-1,1)], axis=1)\n",
    "    return np.dot(padded, rot_mat.T)"
   ]
  },
  {
   "cell_type": "code",
   "execution_count": 450,
   "metadata": {},
   "outputs": [
    {
     "data": {
      "image/png": "[encoded data removed]",
      "text/plain": [
       "<Figure size 720x720 with 1 Axes>"
      ]
     },
     "metadata": {
      "needs_background": "light"
     },
     "output_type": "display_data"
    }
   ],
   "source": [
    "%matplotlib inline\n",
    "plt.figure(figsize=(10,10))\n",
    "plt.scatter(test_X[:,0],test_X[:,1],color='b')\n",
    "plt.plot(test_X[:,0],test_X[:,1],color='b',alpha=0.5)\n",
    "\n",
    "plt.scatter(test_Y[:,0],test_Y[:,1],color='r')\n",
    "plt.plot(test_Y[:,0],test_Y[:,1],color='r',alpha=0.5)\n",
    "\n",
    "for angle in range(30,360,30):\n",
    "    mat= cv.getRotationMatrix2D(tuple(mid_point),angle,1)\n",
    "    rot_test_X = rotate_seq(test_X, mat)\n",
    "    rot_text_Y = rotate_seq(test_Y, mat)\n",
    "    \n",
    "    alpha2 = 0.2\n",
    "    plt.scatter(rot_test_X[:,0],rot_test_X[:,1],color='cyan',alpha=alpha2)\n",
    "    plt.plot(rot_test_X[:,0],rot_test_X[:,1],color='cyan',alpha=alpha2)\n",
    "\n",
    "    plt.scatter(rot_text_Y[:,0],rot_text_Y[:,1],color='orange',alpha=alpha2)\n",
    "    plt.plot(rot_text_Y[:,0],rot_text_Y[:,1],color='orange',alpha=alpha2)\n"
   ]
  },
  {
   "cell_type": "markdown",
   "metadata": {},
   "source": [
    "### Evaluate trajectory predictor on a list of trials"
   ]
  },
  {
   "cell_type": "code",
   "execution_count": 457,
   "metadata": {},
   "outputs": [],
   "source": [
    "HP_JSON = 'Prediction/traj_models/models_params.json'\n",
    "\n",
    "with open(HP_JSON, 'r') as fp:\n",
    "    json_dict = json.load(fp)\n",
    "\n",
    "trials = json_dict['GRUEncDec_0930-2136_i20_o20_h350_l1']['training_params']['val_trials']"
   ]
  },
  {
   "cell_type": "code",
   "execution_count": 475,
   "metadata": {},
   "outputs": [
    {
     "data": {
      "application/vnd.jupyter.widget-view+json": {
       "model_id": "a7eabefed9f346ccb9c705f2418e5102",
       "version_major": 2,
       "version_minor": 0
      },
      "text/plain": [
       "HBox(children=(FloatProgress(value=0.0, max=5081.0), HTML(value='')))"
      ]
     },
     "metadata": {},
     "output_type": "display_data"
    },
    {
     "name": "stdout",
     "output_type": "stream",
     "text": [
      "\n"
     ]
    },
    {
     "data": {
      "application/vnd.jupyter.widget-view+json": {
       "model_id": "66f5e4028afb47a1a05c9697ba355738",
       "version_major": 2,
       "version_minor": 0
      },
      "text/plain": [
       "HBox(children=(FloatProgress(value=0.0, max=5061.0), HTML(value='')))"
      ]
     },
     "metadata": {},
     "output_type": "display_data"
    },
    {
     "name": "stdout",
     "output_type": "stream",
     "text": [
      "\n"
     ]
    },
    {
     "data": {
      "application/vnd.jupyter.widget-view+json": {
       "model_id": "e847fd4f5f08443980b244ed38452fe2",
       "version_major": 2,
       "version_minor": 0
      },
      "text/plain": [
       "HBox(children=(FloatProgress(value=0.0, max=10001.0), HTML(value='')))"
      ]
     },
     "metadata": {},
     "output_type": "display_data"
    },
    {
     "name": "stdout",
     "output_type": "stream",
     "text": [
      "\n"
     ]
    },
    {
     "data": {
      "application/vnd.jupyter.widget-view+json": {
       "model_id": "f1b69db6082c44edb1372a780289b1c7",
       "version_major": 2,
       "version_minor": 0
      },
      "text/plain": [
       "HBox(children=(FloatProgress(value=0.0, max=9981.0), HTML(value='')))"
      ]
     },
     "metadata": {},
     "output_type": "display_data"
    },
    {
     "name": "stdout",
     "output_type": "stream",
     "text": [
      "\n"
     ]
    },
    {
     "data": {
      "application/vnd.jupyter.widget-view+json": {
       "model_id": "dc7485f03e1d4fac881ab84755cee76b",
       "version_major": 2,
       "version_minor": 0
      },
      "text/plain": [
       "HBox(children=(FloatProgress(value=0.0, max=5291.0), HTML(value='')))"
      ]
     },
     "metadata": {},
     "output_type": "display_data"
    },
    {
     "name": "stdout",
     "output_type": "stream",
     "text": [
      "\n"
     ]
    },
    {
     "data": {
      "application/vnd.jupyter.widget-view+json": {
       "model_id": "55d02fc95d0d4405a3f389f3bb79b54c",
       "version_major": 2,
       "version_minor": 0
      },
      "text/plain": [
       "HBox(children=(FloatProgress(value=0.0, max=5271.0), HTML(value='')))"
      ]
     },
     "metadata": {},
     "output_type": "display_data"
    },
    {
     "name": "stdout",
     "output_type": "stream",
     "text": [
      "\n"
     ]
    },
    {
     "data": {
      "application/vnd.jupyter.widget-view+json": {
       "model_id": "55b0c3b30930416f88035640e987c5e3",
       "version_major": 2,
       "version_minor": 0
      },
      "text/plain": [
       "HBox(children=(FloatProgress(value=0.0, max=5081.0), HTML(value='')))"
      ]
     },
     "metadata": {},
     "output_type": "display_data"
    },
    {
     "name": "stdout",
     "output_type": "stream",
     "text": [
      "\n"
     ]
    },
    {
     "data": {
      "application/vnd.jupyter.widget-view+json": {
       "model_id": "ed1c35fc29ef4ca59522056308ad5306",
       "version_major": 2,
       "version_minor": 0
      },
      "text/plain": [
       "HBox(children=(FloatProgress(value=0.0, max=5061.0), HTML(value='')))"
      ]
     },
     "metadata": {},
     "output_type": "display_data"
    },
    {
     "name": "stdout",
     "output_type": "stream",
     "text": [
      "\n"
     ]
    },
    {
     "data": {
      "application/vnd.jupyter.widget-view+json": {
       "model_id": "79e286f7622b44128fe5d3085f170dad",
       "version_major": 2,
       "version_minor": 0
      },
      "text/plain": [
       "HBox(children=(FloatProgress(value=0.0, max=5081.0), HTML(value='')))"
      ]
     },
     "metadata": {},
     "output_type": "display_data"
    },
    {
     "name": "stdout",
     "output_type": "stream",
     "text": [
      "\n"
     ]
    },
    {
     "data": {
      "application/vnd.jupyter.widget-view+json": {
       "model_id": "fdb96a0bf41942bd81236d8404ebe352",
       "version_major": 2,
       "version_minor": 0
      },
      "text/plain": [
       "HBox(children=(FloatProgress(value=0.0, max=5061.0), HTML(value='')))"
      ]
     },
     "metadata": {},
     "output_type": "display_data"
    },
    {
     "name": "stdout",
     "output_type": "stream",
     "text": [
      "\n"
     ]
    },
    {
     "data": {
      "application/vnd.jupyter.widget-view+json": {
       "model_id": "18dfae83cfdc40cba4091c009939d5a2",
       "version_major": 2,
       "version_minor": 0
      },
      "text/plain": [
       "HBox(children=(FloatProgress(value=0.0, max=5081.0), HTML(value='')))"
      ]
     },
     "metadata": {},
     "output_type": "display_data"
    },
    {
     "name": "stdout",
     "output_type": "stream",
     "text": [
      "\n"
     ]
    },
    {
     "data": {
      "application/vnd.jupyter.widget-view+json": {
       "model_id": "3cdbd1ace4814eeabf62af647ff0962b",
       "version_major": 2,
       "version_minor": 0
      },
      "text/plain": [
       "HBox(children=(FloatProgress(value=0.0, max=5061.0), HTML(value='')))"
      ]
     },
     "metadata": {},
     "output_type": "display_data"
    },
    {
     "name": "stdout",
     "output_type": "stream",
     "text": [
      "\n"
     ]
    },
    {
     "data": {
      "application/vnd.jupyter.widget-view+json": {
       "model_id": "336334f3d8264917a90e7280e274598e",
       "version_major": 2,
       "version_minor": 0
      },
      "text/plain": [
       "HBox(children=(FloatProgress(value=0.0, max=5287.0), HTML(value='')))"
      ]
     },
     "metadata": {},
     "output_type": "display_data"
    },
    {
     "name": "stdout",
     "output_type": "stream",
     "text": [
      "\n"
     ]
    },
    {
     "data": {
      "application/vnd.jupyter.widget-view+json": {
       "model_id": "1d1f53410ac54e33bf951e1492e1ceff",
       "version_major": 2,
       "version_minor": 0
      },
      "text/plain": [
       "HBox(children=(FloatProgress(value=0.0, max=5267.0), HTML(value='')))"
      ]
     },
     "metadata": {},
     "output_type": "display_data"
    },
    {
     "name": "stdout",
     "output_type": "stream",
     "text": [
      "\n"
     ]
    },
    {
     "data": {
      "application/vnd.jupyter.widget-view+json": {
       "model_id": "ece2c5b503d545c8b5e4392c68e27564",
       "version_major": 2,
       "version_minor": 0
      },
      "text/plain": [
       "HBox(children=(FloatProgress(value=0.0, max=5081.0), HTML(value='')))"
      ]
     },
     "metadata": {},
     "output_type": "display_data"
    },
    {
     "name": "stdout",
     "output_type": "stream",
     "text": [
      "\n"
     ]
    },
    {
     "data": {
      "application/vnd.jupyter.widget-view+json": {
       "model_id": "f025cd2bdfae47ab9f1a7a873b8653ea",
       "version_major": 2,
       "version_minor": 0
      },
      "text/plain": [
       "HBox(children=(FloatProgress(value=0.0, max=5061.0), HTML(value='')))"
      ]
     },
     "metadata": {},
     "output_type": "display_data"
    },
    {
     "name": "stdout",
     "output_type": "stream",
     "text": [
      "\n"
     ]
    },
    {
     "data": {
      "application/vnd.jupyter.widget-view+json": {
       "model_id": "da67d3c7af8d4181988d8f5fd5777ada",
       "version_major": 2,
       "version_minor": 0
      },
      "text/plain": [
       "HBox(children=(FloatProgress(value=0.0, max=5286.0), HTML(value='')))"
      ]
     },
     "metadata": {},
     "output_type": "display_data"
    },
    {
     "name": "stdout",
     "output_type": "stream",
     "text": [
      "\n"
     ]
    },
    {
     "data": {
      "application/vnd.jupyter.widget-view+json": {
       "model_id": "e8c01cd2dd0d4f2792693f8789a7fc7f",
       "version_major": 2,
       "version_minor": 0
      },
      "text/plain": [
       "HBox(children=(FloatProgress(value=0.0, max=5266.0), HTML(value='')))"
      ]
     },
     "metadata": {},
     "output_type": "display_data"
    },
    {
     "name": "stdout",
     "output_type": "stream",
     "text": [
      "\n",
      "{'avg ADE': 32.48123662683412, 'avg FDE': 56.39232147871813, 'avg time (ms)': 2.6288210372008853}\n"
     ]
    }
   ],
   "source": [
    "results = []\n",
    "for trial in trials:\n",
    "    bboxes = all_df.loc[trial][['x1','y1','x2','y2']].values\n",
    "    trial_results, _ = train_eval.eval_trajectory_predictor(traj_predictor, bboxes)\n",
    "    results.append(trial_results)\n",
    "    \n",
    "print(results[0])"
   ]
  },
  {
   "cell_type": "code",
   "execution_count": 476,
   "metadata": {},
   "outputs": [
    {
     "name": "stdout",
     "output_type": "stream",
     "text": [
      "15.509666080208724\n"
     ]
    }
   ],
   "source": [
    "ADEs = [r['avg ADE'] for r in results]\n",
    "print(np.array(ADEs).mean())"
   ]
  },
  {
   "cell_type": "code",
   "execution_count": null,
   "metadata": {},
   "outputs": [],
   "source": [
    "21.966887520086793"
   ]
  }
 ],
 "metadata": {
  "kernelspec": {
   "display_name": "Python [conda env:py37]",
   "language": "python",
   "name": "conda-env-py37-py"
  },
  "language_info": {
   "codemirror_mode": {
    "name": "ipython",
    "version": 3
   },
   "file_extension": ".py",
   "mimetype": "text/x-python",
   "name": "python",
   "nbconvert_exporter": "python",
   "pygments_lexer": "ipython3",
   "version": "3.7.7"
  },
  "toc-autonumbering": false,
  "toc-showmarkdowntxt": false,
  "toc-showtags": false
 },
 "nbformat": 4,
 "nbformat_minor": 4
}
