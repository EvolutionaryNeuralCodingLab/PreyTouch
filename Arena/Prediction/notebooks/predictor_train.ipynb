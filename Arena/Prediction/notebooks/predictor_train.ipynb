{
 "cells": [
  {
   "cell_type": "markdown",
   "metadata": {},
   "source": [
    "# Trajectory Predictor Training"
   ]
  },
  {
   "cell_type": "markdown",
   "metadata": {},
   "source": [
    "This notebook is used for training new trajectory predictor models on sequence data extracted from videos."
   ]
  },
  {
   "cell_type": "code",
   "execution_count": 2,
   "metadata": {},
   "outputs": [],
   "source": [
    "import os\n",
    "os.chdir('/app/Pogona_realtime/Arena')"
   ]
  },
  {
   "cell_type": "code",
   "execution_count": 3,
   "metadata": {},
   "outputs": [],
   "source": [
    "import numpy as np\n",
    "import pandas as pd\n",
    "import imp\n",
    "import matplotlib.pyplot as plt\n",
    "import seaborn as sns\n",
    "import torch\n",
    "from functools import partial\n",
    "\n",
    "from Prediction import dataset\n",
    "from Prediction import train_eval\n",
    "from Prediction import predictor\n",
    "from Prediction import visualize\n",
    "from Prediction import dataset\n",
    "from Prediction import kalman_predict\n",
    "from Prediction import seq2seq_predict\n",
    "from Prediction import calibration as calib\n",
    "from Prediction import traj_models"
   ]
  },
  {
   "cell_type": "code",
   "execution_count": 5,
   "metadata": {},
   "outputs": [
    {
     "data": {
      "text/plain": [
       "<module 'Prediction.traj_models' from '/app/Pogona_realtime/Arena/Prediction/traj_models.py'>"
      ]
     },
     "execution_count": 5,
     "metadata": {},
     "output_type": "execute_result"
    }
   ],
   "source": [
    "imp.reload(dataset)\n",
    "imp.reload(train_eval)\n",
    "imp.reload(seq2seq_predict)\n",
    "imp.reload(predictor)\n",
    "imp.reload(visualize)\n",
    "imp.reload(dataset)\n",
    "imp.reload(kalman_predict)\n",
    "imp.reload(traj_models)"
   ]
  },
  {
   "cell_type": "markdown",
   "metadata": {},
   "source": [
    "## Load data\n",
    "\n",
    "Loads the entire detections data into a dataframe, bounded by the avavliable memory on the machine.\n",
    "\n",
    "The options are the different sources of data that could be loded: the detections data itself, the timestamps of the camera recordings and and the screen touchings. If 'touches' is true, then timestamps must be true as well. \n",
    "\n",
    "'dlc' is supposed to align some of the offline DLC analysis with the frames, but the data need to be produced, so it will probably won't work in the future."
   ]
  },
  {
   "cell_type": "code",
   "execution_count": 4,
   "metadata": {},
   "outputs": [
    {
     "data": {
      "application/vnd.jupyter.widget-view+json": {
       "model_id": "f25f80f1784f4c36916115b0e648732a",
       "version_major": 2,
       "version_minor": 0
      },
      "text/plain": [
       "HBox(children=(FloatProgress(value=0.0, max=246.0), HTML(value='')))"
      ]
     },
     "metadata": {},
     "output_type": "display_data"
    },
    {
     "name": "stdout",
     "output_type": "stream",
     "text": [
      "\n",
      "223 trials loaded\n"
     ]
    }
   ],
   "source": [
    "all_df = dataset.collect_data(data_sources={'detections': True, 'timestamps': True, 'dlc': False, 'touches': True})"
   ]
  },
  {
   "cell_type": "markdown",
   "metadata": {},
   "source": [
    "### Filter Data\n",
    "\n",
    "Generate Kalman filtered detections for the bounding box corners"
   ]
  },
  {
   "cell_type": "code",
   "execution_count": null,
   "metadata": {},
   "outputs": [
    {
     "data": {
      "application/vnd.jupyter.widget-view+json": {
       "model_id": "",
       "version_major": 2,
       "version_minor": 0
      },
      "text/plain": [
       "HBox(children=(FloatProgress(value=0.0, max=223.0), HTML(value='')))"
      ]
     },
     "metadata": {},
     "output_type": "display_data"
    }
   ],
   "source": [
    "for trial in tqdm(all_df.index.unique()):\n",
    "    filtered = kalman_predict.filter_trial(all_df.loc[trial], cols=['x1', 'y1'])\n",
    "    all_df.loc[trial, ['flt_x1', 'flt_y1']] = filtered\n",
    "\n",
    "    filtered = kalman_predict.filter_trial(all_df.loc[trial], cols=['x2', 'y2'])\n",
    "    all_df.loc[trial, ['flt_x2', 'flt_y2']] = filtered"
   ]
  },
  {
   "cell_type": "markdown",
   "metadata": {
    "toc-hr-collapsed": false
   },
   "source": [
    "## Train Seq2Seq Trajectory Predictor"
   ]
  },
  {
   "cell_type": "markdown",
   "metadata": {},
   "source": [
    "### Model Parameters\n"
   ]
  },
  {
   "cell_type": "code",
   "execution_count": 5,
   "metadata": {},
   "outputs": [],
   "source": [
    "# Column labels used for input features and output ground truth.\n",
    "input_labels = ['x1', 'y1', 'x2', 'y2']\n",
    "output_labels = ['x1', 'y1', 'x2', 'y2']\n",
    "\n",
    "# Network model parameters. See seq2seq_predict.py for more information.\n",
    "net_params = {\n",
    "    'decoder_type':\"RNN\",  # \"RNN\" or \"Linear\"\n",
    "    'rnn_type': \"GRU\",  # \"GRU\" or \"LSTM\"\n",
    "    'use_abs_pos': False,\n",
    "    'tie_enc_dec': False,\n",
    "    'use_rnn_cell': True,\n",
    "    'input_labels': input_labels,\n",
    "    'output_labels': output_labels,\n",
    "    'input_dim': len(input_labels),\n",
    "    'output_dim': len(output_labels),\n",
    "    'inp_seq_len': 20,\n",
    "    'out_seq_len': 10,\n",
    "    'hidden_size': 350,\n",
    "    'rnn_layers': 1,\n",
    "    'dropout': 0.05,\n",
    "}"
   ]
  },
  {
   "cell_type": "markdown",
   "metadata": {},
   "source": [
    "### Choose masking parameters\n",
    "The masking is used to train and evaluate on only a subset of the sequences data. The mask could be manually defined in the cell below, by setting the lower and upper bound on various statistics computed on the each sequence."
   ]
  },
  {
   "cell_type": "code",
   "execution_count": 6,
   "metadata": {},
   "outputs": [],
   "source": [
    "INF_P = 9999999\n",
    "\n",
    "mask_dict = {\n",
    "    'fl_dist': [0, INF_P, True, True],\n",
    "    'speed': [12, INF_P, True, True],\n",
    "    'std': [0, INF_P, [0,1]],\n",
    "    'corr': [0.0, 1.0, True, True],\n",
    "    'zgzg': [0, 1.0, True, True],\n",
    "    'keep_prob': 0.0\n",
    "}\n",
    "\n",
    "mask_fn = train_eval.compose_masks(mask_fns=[\n",
    "    train_eval.mask_fl_dist(*mask_dict['fl_dist']),\n",
    "    train_eval.mask_speed(*mask_dict['speed']),\n",
    "    train_eval.mask_std(*mask_dict['std']),\n",
    "    train_eval.mask_corr(*mask_dict['corr']),\n",
    "    train_eval.mask_zgzg(*mask_dict['zgzg'])\n",
    "    ])"
   ]
  },
  {
   "cell_type": "markdown",
   "metadata": {},
   "source": [
    "### Generate training samples\n",
    "Generate the 3D sequence tensor data from the detections dataframe. The paramerters for the sequence length are determined by the models loaded earlier.\n",
    "\n",
    "The sequences generated from each trial are first stored in a dictionary, that contains all of the sequences without masking, and the boolean mask for the trial itself. That way, the masked data can be acssessed on the fly, and updating the masking parameters does not require to compute the sequences again, only the mask. "
   ]
  },
  {
   "cell_type": "code",
   "execution_count": 7,
   "metadata": {},
   "outputs": [
    {
     "data": {
      "application/vnd.jupyter.widget-view+json": {
       "model_id": "56f706c55ac5410c81b22cef7919a515",
       "version_major": 2,
       "version_minor": 0
      },
      "text/plain": [
       "HBox(children=(FloatProgress(value=0.0, max=223.0), HTML(value='')))"
      ]
     },
     "metadata": {},
     "output_type": "display_data"
    },
    {
     "name": "stdout",
     "output_type": "stream",
     "text": [
      "\n"
     ]
    }
   ],
   "source": [
    "# only necessary once\n",
    "trials_dict = train_eval.create_samples(df=all_df, \n",
    "                                        mask_fn=mask_fn,\n",
    "                                        keep_prob=mask_dict['keep_prob'],\n",
    "                                        input_labels=net_params['input_labels'], output_labels=net_params['output_labels'], \n",
    "                                        input_seq_size=net_params['inp_seq_len'], output_seq_size=net_params['out_seq_len'])"
   ]
  },
  {
   "cell_type": "code",
   "execution_count": 16,
   "metadata": {},
   "outputs": [
    {
     "data": {
      "application/vnd.jupyter.widget-view+json": {
       "model_id": "973a9eb7492a44769694f5db08784512",
       "version_major": 2,
       "version_minor": 0
      },
      "text/plain": [
       "HBox(children=(FloatProgress(value=0.0, max=223.0), HTML(value='')))"
      ]
     },
     "metadata": {},
     "output_type": "display_data"
    },
    {
     "name": "stdout",
     "output_type": "stream",
     "text": [
      "\n"
     ]
    }
   ],
   "source": [
    "# run this cell only when masking is updated\n",
    "train_eval.update_trials_dict(trials_dict, mask_fn, keep_prob=mask_dict['keep_prob'])"
   ]
  },
  {
   "cell_type": "markdown",
   "metadata": {},
   "source": [
    "### Select a train / validation / test split\n",
    "\n",
    "The sequences data is split according to individual trials. The train-validation-test split can be loaded from file, or re-computed. The split aims that each of the parts of the split has relatively equal proportion of sequences that pass the boolean mask. It is done by computing the ratio between the number of sequences that passed the mask, and the total number of sequences in that trial, sorting the trials according to these ratios, spliting the trials into batches, and selecting trials from each batch into the training, validation and test sets according to the split ratio."
   ]
  },
  {
   "cell_type": "code",
   "execution_count": 8,
   "metadata": {},
   "outputs": [],
   "source": [
    "# generate a new train/val/test trials split\n",
    "train_trials, val_trials, test_trials = train_eval.split_train_val_test(trials_dict, split=(0.7, 0.15, 0.15))"
   ]
  },
  {
   "cell_type": "code",
   "execution_count": 13,
   "metadata": {},
   "outputs": [],
   "source": [
    "# use a trials split from a previous training session\n",
    "model_name = \"RNN_GRU_1022-1159_i20_o20_h350_l1\"\n",
    "train_trials, val_trials, test_trials = traj_models.get_trials_split(model_name)"
   ]
  },
  {
   "cell_type": "markdown",
   "metadata": {},
   "source": [
    "### Training Parameters"
   ]
  },
  {
   "cell_type": "code",
   "execution_count": 9,
   "metadata": {},
   "outputs": [],
   "source": [
    "# Training parameters dictionary. See train_eval.py for more information.\n",
    "training_params = {\n",
    "    'batch_size': 256,\n",
    "    'clip_grad_norm': 1.5,\n",
    "    'lr': 0.00005,\n",
    "    'loss_fn': 'ADE',\n",
    "    'train_trials': train_trials,\n",
    "    'val_trials': val_trials,\n",
    "    'test_trials': test_trials,\n",
    "    'sched_exp': 0\n",
    "}\n",
    "\n",
    "if training_params['loss_fn'] == \"weighted ADE\":\n",
    "    # Parameters for exponentialy weighted loss\n",
    "    # Weights the displacement at the end of the sequence higher than the beginning\n",
    "    a = np.linspace(0.01, 0.2, num=net_params['out_seq_len'])[::-1]\n",
    "    loss_weights = np.array([a[t] * np.prod(1-a[:t]) for t in range(len(a))])[::-1]\n",
    "    training_params['loss_weights'] = loss_weights.tolist()\n",
    "    loss_dict[\"weighted ADE\"] = partial(train_eval.weighted_ADE, torch.from_numpy(loss_weights.copy()).to('cuda'))\n"
   ]
  },
  {
   "cell_type": "markdown",
   "metadata": {},
   "source": [
    "### Create DataLoaders\n",
    "\n",
    "After generating the trials sequence dictionary and the trials split, the training, validation and test datasets can be generated. They are Pytorch DataLoaders, used for iterating over the datasets in batches. The entire 3D Pytorch tensors can be also accessed."
   ]
  },
  {
   "cell_type": "code",
   "execution_count": 10,
   "metadata": {},
   "outputs": [
    {
     "name": "stdout",
     "output_type": "stream",
     "text": [
      "Sample size:\n",
      "Training: 159 trials, 4971 seqs\n",
      "Validation: 32 trials, 594 seqs\n",
      "Test: 32 trials, 136944 seqs\n"
     ]
    }
   ],
   "source": [
    "train_dl, val_dl, test_dl = train_eval.create_train_val_test_dataloaders(trials_dict, train_trials, val_trials, test_trials,\n",
    "                                                                         train_mask=True, val_mask=True, test_mask=False,\n",
    "                                                                         batch_size=training_params['batch_size'], shuffle=True)\n",
    "\n",
    "print(\"Sample size:\")\n",
    "print(f\"Training: {len(train_trials)} trials, {len(train_dl.dataset)} seqs\")\n",
    "if val_dl is not None:\n",
    "    print(f\"Validation: {len(val_trials)} trials, {len(val_dl.dataset)} seqs\")\n",
    "if test_dl is not None:\n",
    "    print(f\"Test: {len(test_trials)} trials, {len(test_dl.dataset)} seqs\")"
   ]
  },
  {
   "cell_type": "markdown",
   "metadata": {},
   "source": [
    "### Train\n",
    "\n",
    "Train model according to the chosen parameters. Models weight files are saved to a folder as defined in traj_models.WEIGHT_DIR, and training results and parameters are stored in the json file (traj_models.MODELS_JSON_PATH)."
   ]
  },
  {
   "cell_type": "code",
   "execution_count": 11,
   "metadata": {},
   "outputs": [],
   "source": [
    "# TrainingResults objects for each training session are stored in this list\n",
    "all_results = []"
   ]
  },
  {
   "cell_type": "code",
   "execution_count": 12,
   "metadata": {},
   "outputs": [
    {
     "name": "stdout",
     "output_type": "stream",
     "text": [
      "Training model RNN_GRU_1119-1004_i20_o10_h350_l1_RealExtreme:\n",
      "\n",
      "CUDA error: out of memory\n"
     ]
    },
    {
     "name": "stderr",
     "output_type": "stream",
     "text": [
      "Traceback (most recent call last):\n",
      "  File \"/app/Pogona_realtime/Arena/Prediction/traj_models.py\", line 189, in train_model\n",
      "    results=results,\n",
      "  File \"/app/Pogona_realtime/Arena/Prediction/train_eval.py\", line 483, in train_trajectory_model\n",
      "    model.to(device)\n",
      "  File \"/home/user/miniconda/envs/py37/lib/python3.7/site-packages/torch/nn/modules/module.py\", line 607, in to\n",
      "    return self._apply(convert)\n",
      "  File \"/home/user/miniconda/envs/py37/lib/python3.7/site-packages/torch/nn/modules/module.py\", line 354, in _apply\n",
      "    module._apply(fn)\n",
      "  File \"/home/user/miniconda/envs/py37/lib/python3.7/site-packages/torch/nn/modules/rnn.py\", line 154, in _apply\n",
      "    ret = super(RNNBase, self)._apply(fn)\n",
      "  File \"/home/user/miniconda/envs/py37/lib/python3.7/site-packages/torch/nn/modules/module.py\", line 376, in _apply\n",
      "    param_applied = fn(param)\n",
      "  File \"/home/user/miniconda/envs/py37/lib/python3.7/site-packages/torch/nn/modules/module.py\", line 605, in convert\n",
      "    return t.to(device, dtype if t.is_floating_point() else None, non_blocking)\n",
      "RuntimeError: CUDA error: out of memory\n"
     ]
    }
   ],
   "source": [
    "model, results, interrupted = traj_models.train_model(training_params, \n",
    "                                                      net_params, \n",
    "                                                      mask_dict,\n",
    "                                                      train_dl, \n",
    "                                                      val_dl, \n",
    "                                                      num_epochs=200, \n",
    "                                                      eval_freq=5, \n",
    "                                                      log_freq=5, \n",
    "                                                      model_name_suffix=\"RealExtreme\", \n",
    "                                                      save_each_eval_model=False)\n",
    "\n",
    "all_results.append(results)"
   ]
  },
  {
   "cell_type": "markdown",
   "metadata": {},
   "source": [
    "### Display results"
   ]
  },
  {
   "cell_type": "code",
   "execution_count": 23,
   "metadata": {},
   "outputs": [
    {
     "data": {
      "image/png": "[encoded data removed]",
      "text/plain": [
       "<Figure size 1008x360 with 2 Axes>"
      ]
     },
     "metadata": {
      "needs_background": "light"
     },
     "output_type": "display_data"
    }
   ],
   "source": [
    "traj_models.plot_train_results(all_results, \"Results\", pretty=traj_models.pretty_name, fname=\"train_results\")"
   ]
  },
  {
   "cell_type": "markdown",
   "metadata": {},
   "source": [
    "## Kalman Parameter Search\n",
    "\n",
    "Search for good variance parameters for the Q and R matrices using the Ax bayesian optimization library."
   ]
  },
  {
   "cell_type": "code",
   "execution_count": 1,
   "metadata": {},
   "outputs": [],
   "source": [
    "parameters=[\n",
    "    {\"name\": \"q_var\", \"type\": \"range\", \"bounds\": [0.0, 100.0]},\n",
    "    {\"name\": \"r_var\", \"type\": \"range\", \"bounds\": [0.0, 1000.0]},\n",
    "]"
   ]
  },
  {
   "cell_type": "code",
   "execution_count": 2,
   "metadata": {},
   "outputs": [],
   "source": [
    "num_derivs = 2\n",
    "\n",
    "def eval_kalman_predictor(params):\n",
    "    total_ADE = 0\n",
    "    start_time = time()\n",
    "    \n",
    "    for trial in trial_names:        \n",
    "        trial_bboxes = all_df.loc[trial][['x1', 'y1', 'x2', 'y2']].values        \n",
    "        predictor = kalman_predict.KalmanPredictor(20, num_derivs, params[\"q_var\"], params[\"r_var\"])\n",
    "        results, forecasts = train_eval.eval_trajectory_predictor(predictor, trial_bboxes, show_progress=False)\n",
    "        total_ADE += results[\"avg ADE\"]\n",
    "\n",
    "        print(\".\", end=\"\")\n",
    "    mean_ADE = total_ADE / len(trial_names)\n",
    "    print(f\"params: {params} ADE:{mean_ADE} duration: {time() - start_time:.2f}\")\n",
    "    \n",
    "    return mean_ADE"
   ]
  },
  {
   "cell_type": "code",
   "execution_count": null,
   "metadata": {},
   "outputs": [],
   "source": [
    "best_parameters, values, experiment, model = optimize(\n",
    "    parameters=parameters,\n",
    "    evaluation_function=eval_kalman_predictor,\n",
    "    objective_name='ADE',\n",
    "    total_trials=100, \n",
    "    minimize=True)"
   ]
  },
  {
   "cell_type": "markdown",
   "metadata": {},
   "source": [
    "### Best parameters for constant acceleration model\n",
    "\n",
    "- {'q_var': 5.232464612645584, 'r_var': 76.11997188671926} ADE:77.80251293150333\n",
    "- {'q_var': 8.305751509936852e-11, 'r_var': 6.104439686140315} ADE:56.59084980428664\n",
    "- {'q_var': 11.243166495979125, 'r_var': 100.0} ADE:87.78338522412209\n",
    "- {'q_var': 6.60728768670246, 'r_var': 68.14068332725518} ADE:84.5807759587622\n",
    "- {'q_var': 3.179927344778319e-08, 'r_var': 99.99999991206423} ADE:47.3384215434221\n",
    "- {'q_var': 1.0454159059256132, 'r_var': 250.94883769233357} ADE:49.15010262136672 (b\n",
    "- {'q_var': 4.584311371533344, 'r_var': 99.99999999999997} ADE:70.82873570482703"
   ]
  },
  {
   "cell_type": "markdown",
   "metadata": {},
   "source": [
    "### Best parameters for constant velocity model\n",
    "\n",
    "- {'q_var': 5.370325791258682, 'r_var': 120.38665794106605} ADE:20.309112430927975\n",
    "- {'q_var': 17.93990045743253, 'r_var': 134.50567199523354} ADE:22.291919662508487\n",
    "- {'q_var': 31.548048307438687, 'r_var': 199.99999999999997} ADE:22.69878701033521\n",
    "- {'q_var': 17.266130167990923, 'r_var': 162.3100133612752} ADE:21.791229502949385\n",
    "- {'q_var': 2.1451830012770112, 'r_var': 119.49832681948244} ADE:19.396253677900415\n",
    "- {'q_var': 10.68977698973989, 'r_var': 104.58652082983697} ADE:21.706828026167155\n",
    "- {'q_var': 20.018173460688566, 'r_var': 180.35298309143698} ADE:21.881616195822115"
   ]
  }
 ],
 "metadata": {
  "kernelspec": {
   "display_name": "Python [conda env:py37]",
   "language": "python",
   "name": "conda-env-py37-py"
  },
  "language_info": {
   "codemirror_mode": {
    "name": "ipython",
    "version": 3
   },
   "file_extension": ".py",
   "mimetype": "text/x-python",
   "name": "python",
   "nbconvert_exporter": "python",
   "pygments_lexer": "ipython3",
   "version": "3.7.7"
  },
  "toc-autonumbering": false,
  "toc-showcode": false,
  "toc-showmarkdowntxt": false,
  "toc-showtags": false
 },
 "nbformat": 4,
 "nbformat_minor": 4
}
