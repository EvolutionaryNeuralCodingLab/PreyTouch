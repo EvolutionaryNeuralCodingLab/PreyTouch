{
 "cells": [
  {
   "cell_type": "markdown",
   "metadata": {},
   "source": [
    "# Object Detector Training and Evaluation"
   ]
  },
  {
   "cell_type": "markdown",
   "metadata": {},
   "source": [
    "# TODO\n",
    "- cleanup some stuff\n",
    "- add training or training explanation"
   ]
  },
  {
   "cell_type": "code",
   "execution_count": 1,
   "metadata": {},
   "outputs": [],
   "source": [
    "import os\n",
    "os.chdir('/app/Pogona_realtime/Arena')"
   ]
  },
  {
   "cell_type": "markdown",
   "metadata": {},
   "source": [
    "# Imports"
   ]
  },
  {
   "cell_type": "code",
   "execution_count": 3,
   "metadata": {},
   "outputs": [],
   "source": [
    "from Prediction import detector\n",
    "from Prediction import dataset\n",
    "from Prediction import train_eval\n",
    "\n",
    "import cv2 as cv\n",
    "import numpy as np\n",
    "from glob import glob\n",
    "from tqdm.auto import tqdm\n",
    "import pandas as pd\n",
    "from time import time\n",
    "import imp\n",
    "import torch\n",
    "import matplotlib.pyplot as plt\n",
    "import matplotlib.patches as patches\n",
    "import seaborn as sns\n",
    "import json"
   ]
  },
  {
   "cell_type": "code",
   "execution_count": 9,
   "metadata": {},
   "outputs": [
    {
     "data": {
      "text/plain": [
       "<module 'Prediction.train_eval' from '/app/Pogona_realtime/Arena/Prediction/train_eval.py'>"
      ]
     },
     "execution_count": 9,
     "metadata": {},
     "output_type": "execute_result"
    }
   ],
   "source": [
    "imp.reload(detector)\n",
    "imp.reload(dataset)\n",
    "imp.reload(train_eval)"
   ]
  },
  {
   "cell_type": "markdown",
   "metadata": {},
   "source": [
    "# Load Data"
   ]
  },
  {
   "cell_type": "code",
   "execution_count": 10,
   "metadata": {},
   "outputs": [
    {
     "name": "stdout",
     "output_type": "stream",
     "text": [
      "110 trials loaded\n"
     ]
    }
   ],
   "source": [
    "all_df = dataset.collect_data(data_sources={'detections': True, 'timestamps': True, 'dlc': False, 'touches': True})"
   ]
  },
  {
   "cell_type": "code",
   "execution_count": 11,
   "metadata": {},
   "outputs": [],
   "source": [
    "trials = all_df.index.unique()"
   ]
  },
  {
   "cell_type": "markdown",
   "metadata": {},
   "source": [
    "# Generate a test-set for detector evaluation"
   ]
  },
  {
   "cell_type": "code",
   "execution_count": 1,
   "metadata": {},
   "outputs": [],
   "source": [
    "input_labels = ['x1', 'y1', 'x2', 'y2']\n",
    "output_labels = ['x1', 'y1', 'x2', 'y2']\n",
    "inp_seq_len = 20\n",
    "out_seq_len = 20"
   ]
  },
  {
   "cell_type": "code",
   "execution_count": 13,
   "metadata": {},
   "outputs": [],
   "source": [
    "INF_P = 9999999\n",
    "\n",
    "mask_dict = {\n",
    "    'fl_dist': [0, INF_P, True, True], # min, max, mask_X, mask_Y\n",
    "    'speed': [0, INF_P, True, True],\n",
    "    'std': [0.0, INF_P, [0,1]],\n",
    "    'corr': [0.0, 1.0, True, True],\n",
    "    'zgzg': [0.0, 1.5, True, True],\n",
    "    'keep_prob': 0.0\n",
    "}\n",
    "\n",
    "mask_fn = train_eval.keep_mask(train_eval.compose_masks(mask_fns=[\n",
    "    train_eval.mask_fl_dist(*mask_dict['fl_dist']),\n",
    "    train_eval.mask_speed(*mask_dict['speed']),\n",
    "    train_eval.mask_std(*mask_dict['std']),\n",
    "    train_eval.mask_corr(*mask_dict['corr']),\n",
    "    train_eval.mask_zgzg(*mask_dict['zgzg'])\n",
    "    ], invert=False),keep_prob=mask_dict['keep_prob'])"
   ]
  },
  {
   "cell_type": "code",
   "execution_count": 14,
   "metadata": {},
   "outputs": [],
   "source": [
    "def save_video_frames(vid_path, output_dir, name, frame_idxs):\n",
    "    vcap = cv.VideoCapture(vid_path)\n",
    "    \n",
    "    for i in frame_idxs:\n",
    "        vcap.set(cv.CAP_PROP_POS_FRAMES, i)\n",
    "        ret, frame = vcap.read()\n",
    "        cv.imwrite(os.path.join(output_dir, f\"{name}_{i}.jpg\"), frame)"
   ]
  },
  {
   "cell_type": "code",
   "execution_count": 15,
   "metadata": {},
   "outputs": [],
   "source": [
    "seq_len = inp_seq_len + out_seq_len\n",
    "output_dir = '../yolo_eval_frames'\n",
    "choice_freq = 0.04"
   ]
  },
  {
   "cell_type": "code",
   "execution_count": 45,
   "metadata": {},
   "outputs": [
    {
     "name": "stdout",
     "output_type": "stream",
     "text": [
      "feeding_20200830-115520_None: Saving 20/515\n",
      "feeding_20200830-120813_None: Saving 50/1259\n",
      "feeding_4_20200830-121143_None: Saving 68/1705\n",
      "feeding_4_20200830-122515_None: Saving 31/789\n",
      "feeding_4_20200830-125531_None: Saving 101/2531\n",
      "feeding_4_20200830-125905_None: Saving 62/1574\n",
      "feeding_4_screen_20200830-130446_None: Saving 112/2820\n",
      "feeding_5_20200830-131348_None: Saving 23/582\n",
      "line_20200803T081429_trial1: Saving 18/452\n",
      "line_20200803T081735_trial1: Saving 0/0\n",
      "line_20200803T082002_trial1: Saving 0/0\n",
      "fast_line_20200803T082414_trial1: Saving 15/378\n",
      "fast_line_20200803T082724_trial1: Saving 2/56\n",
      "circle_20200803T084227_trial1: Saving 26/658\n",
      "circle_20200803T084227_trial2: Saving 2/57\n",
      "circle_20200803T084529_trial1: Saving 7/193\n",
      "circle_20200803T084529_trial2: Saving 13/336\n",
      "fast_cockroach_20200803T085738_trial1: Saving 67/1677\n",
      "circle_20200803T090234_trial1: Saving 40/1013\n",
      "circle_20200803T090615_trial1: Saving 59/1483\n",
      "circle_20200803T091639_trial1: Saving 56/1402\n",
      "circle_20200803T092248_trial1: Saving 34/862\n",
      "circle_20200803T093051_trial1: Saving 11/287\n",
      "line_20200803T094928_trial1: Saving 13/331\n",
      "line_20200803T095401_trial1: Saving 4/114\n",
      "line_20200803T101641_trial1: Saving 0/0\n",
      "line_20200803T101641_trial2: Saving 6/164\n",
      "circle_20200803T113121_trial1: Saving 53/1336\n",
      "line_20200803T114942_trial1: Saving 19/477\n",
      "circle_20200803T115839_trial1: Saving 74/1858\n",
      "circle_20200803T120911_trial1: Saving 25/645\n",
      "circle_20200803T121730_trial1: Saving 33/843\n",
      "line_20200803T122506_trial1: Saving 22/551\n",
      "red_beetle_20200826T133947_trial1: Saving 19/499\n",
      "worm_20200826T134603_trial1: Saving 29/732\n",
      "worm_20200826T135440_trial1: Saving 11/294\n",
      "worm_20200826T135440_trial2: Saving 10/252\n",
      "cockroach_line_20200830T115811_trial1: Saving 2/60\n",
      "cockroach_line_20200830T120130_trial1: Saving 0/0\n",
      "worm_line_20200830T120451_trial1: Saving 0/0\n",
      "worm_line_20200830T121513_trial1: Saving 18/456\n",
      "worm_line_20200830T121825_trial1: Saving 9/238\n",
      "worm_circle_20200830T122241_trial1: Saving 15/389\n",
      "worm_line_20200830T122932_trial1: Saving 6/168\n",
      "cockroach_circle_20200830T123508_trial1: Saving 17/429\n",
      "beetle_fast_line_20200830T124020_trial1: Saving 8/217\n"
     ]
    }
   ],
   "source": [
    "for trial in trials:\n",
    "    frame_idxs = set()\n",
    "    vid_path = dataset.get_trial_video_path(trial)\n",
    "    X_trial, Y_trial = train_eval.trial_to_samples(all_df.loc[trial], \n",
    "                                                   input_labels,\n",
    "                                                   output_labels,\n",
    "                                                   inp_seq_len,\n",
    "                                                   out_seq_len,\n",
    "                                                   keep_nans=True)    \n",
    "    trial_mask = mask_fn(X_trial, Y_trial)\n",
    "    mask_idxs = np.argwhere(trial_mask).reshape(-1)\n",
    "    for i in mask_idxs:\n",
    "        frame_idxs.update(range(i, i+seq_len))\n",
    "\n",
    "    sample_idxs = np.random.choice(np.array(list(frame_idxs)), int(choice_freq * len(frame_idxs)), replace=False)\n",
    "    print(f\"{trial}: Saving {len(sample_idxs)}/{len(frame_idxs)}\")\n",
    "    save_video_frames(vid_path, output_dir, trial, sample_idxs)"
   ]
  },
  {
   "cell_type": "markdown",
   "metadata": {},
   "source": [
    "# Evaluate detector"
   ]
  },
  {
   "cell_type": "markdown",
   "metadata": {},
   "source": [
    "## Detect saved images and store in dataframe, csv"
   ]
  },
  {
   "cell_type": "code",
   "execution_count": 16,
   "metadata": {},
   "outputs": [],
   "source": [
    "output_dir = '../yolo_eval_frames'\n",
    "im_paths = sorted(glob(os.path.join(output_dir, \"*.jpg\")))"
   ]
  },
  {
   "cell_type": "code",
   "execution_count": 17,
   "metadata": {},
   "outputs": [
    {
     "name": "stdout",
     "output_type": "stream",
     "text": [
      "Detector initiated successfully\n"
     ]
    }
   ],
   "source": [
    "det = detector.Detector_v4(conf_thres=0.8, nms_thres=0.5)"
   ]
  },
  {
   "cell_type": "code",
   "execution_count": 18,
   "metadata": {},
   "outputs": [],
   "source": [
    "det_df = pd.DataFrame(columns=['filename', 'run_time_ms', 'x1', 'y1', 'x2', 'y2', 'confidence'])"
   ]
  },
  {
   "cell_type": "code",
   "execution_count": 19,
   "metadata": {},
   "outputs": [
    {
     "data": {
      "application/vnd.jupyter.widget-view+json": {
       "model_id": "397790b3c5664f1cbb9b0a200682e052",
       "version_major": 2,
       "version_minor": 0
      },
      "text/plain": [
       "HBox(children=(FloatProgress(value=0.0, max=1210.0), HTML(value='')))"
      ]
     },
     "metadata": {},
     "output_type": "display_data"
    },
    {
     "name": "stdout",
     "output_type": "stream",
     "text": [
      "\n"
     ]
    }
   ],
   "source": [
    "i = 0\n",
    "\n",
    "for im_path in tqdm(im_paths):\n",
    "    im = cv.imread(im_path)\n",
    "    start_time = time()\n",
    "    ds = det.detect_image(im)\n",
    "    run_time = (time() - start_time) * 1000\n",
    "    if ds is not None:\n",
    "        for d in ds:\n",
    "            det_df.loc[i] = [im_path, run_time] + d.tolist()\n",
    "    else:\n",
    "        det_df.loc[i] = [im_path, run_time] + [np.nan]*5\n",
    "    i+=1"
   ]
  },
  {
   "cell_type": "code",
   "execution_count": 20,
   "metadata": {},
   "outputs": [
    {
     "data": {
      "text/html": [
       "<div>\n",
       "<style scoped>\n",
       "    .dataframe tbody tr th:only-of-type {\n",
       "        vertical-align: middle;\n",
       "    }\n",
       "\n",
       "    .dataframe tbody tr th {\n",
       "        vertical-align: top;\n",
       "    }\n",
       "\n",
       "    .dataframe thead th {\n",
       "        text-align: right;\n",
       "    }\n",
       "</style>\n",
       "<table border=\"1\" class=\"dataframe\">\n",
       "  <thead>\n",
       "    <tr style=\"text-align: right;\">\n",
       "      <th></th>\n",
       "      <th>filename</th>\n",
       "      <th>run_time_ms</th>\n",
       "      <th>x1</th>\n",
       "      <th>y1</th>\n",
       "      <th>x2</th>\n",
       "      <th>y2</th>\n",
       "      <th>confidence</th>\n",
       "    </tr>\n",
       "  </thead>\n",
       "  <tbody>\n",
       "    <tr>\n",
       "      <th>0</th>\n",
       "      <td>../yolo_eval_frames/beetle_fast_line_20200830T...</td>\n",
       "      <td>15.825510</td>\n",
       "      <td>625.657848</td>\n",
       "      <td>851.224224</td>\n",
       "      <td>712.196766</td>\n",
       "      <td>951.640766</td>\n",
       "      <td>0.997396</td>\n",
       "    </tr>\n",
       "    <tr>\n",
       "      <th>1</th>\n",
       "      <td>../yolo_eval_frames/beetle_fast_line_20200830T...</td>\n",
       "      <td>15.609026</td>\n",
       "      <td>755.103867</td>\n",
       "      <td>860.310383</td>\n",
       "      <td>846.916153</td>\n",
       "      <td>955.088421</td>\n",
       "      <td>0.996655</td>\n",
       "    </tr>\n",
       "    <tr>\n",
       "      <th>2</th>\n",
       "      <td>../yolo_eval_frames/beetle_fast_line_20200830T...</td>\n",
       "      <td>15.657425</td>\n",
       "      <td>757.308044</td>\n",
       "      <td>859.355007</td>\n",
       "      <td>848.846741</td>\n",
       "      <td>954.960178</td>\n",
       "      <td>0.995998</td>\n",
       "    </tr>\n",
       "    <tr>\n",
       "      <th>3</th>\n",
       "      <td>../yolo_eval_frames/beetle_fast_line_20200830T...</td>\n",
       "      <td>15.647888</td>\n",
       "      <td>745.637936</td>\n",
       "      <td>844.821400</td>\n",
       "      <td>851.305912</td>\n",
       "      <td>937.720470</td>\n",
       "      <td>0.995361</td>\n",
       "    </tr>\n",
       "    <tr>\n",
       "      <th>4</th>\n",
       "      <td>../yolo_eval_frames/beetle_fast_line_20200830T...</td>\n",
       "      <td>15.683889</td>\n",
       "      <td>755.912395</td>\n",
       "      <td>843.719917</td>\n",
       "      <td>856.915119</td>\n",
       "      <td>937.325737</td>\n",
       "      <td>0.995899</td>\n",
       "    </tr>\n",
       "    <tr>\n",
       "      <th>...</th>\n",
       "      <td>...</td>\n",
       "      <td>...</td>\n",
       "      <td>...</td>\n",
       "      <td>...</td>\n",
       "      <td>...</td>\n",
       "      <td>...</td>\n",
       "      <td>...</td>\n",
       "    </tr>\n",
       "    <tr>\n",
       "      <th>1205</th>\n",
       "      <td>../yolo_eval_frames/worm_line_20200830T122932_...</td>\n",
       "      <td>15.084267</td>\n",
       "      <td>677.899914</td>\n",
       "      <td>651.165081</td>\n",
       "      <td>771.233997</td>\n",
       "      <td>725.281208</td>\n",
       "      <td>0.998050</td>\n",
       "    </tr>\n",
       "    <tr>\n",
       "      <th>1206</th>\n",
       "      <td>../yolo_eval_frames/worm_line_20200830T122932_...</td>\n",
       "      <td>14.217377</td>\n",
       "      <td>601.146206</td>\n",
       "      <td>646.172234</td>\n",
       "      <td>712.522861</td>\n",
       "      <td>729.447884</td>\n",
       "      <td>0.996085</td>\n",
       "    </tr>\n",
       "    <tr>\n",
       "      <th>1207</th>\n",
       "      <td>../yolo_eval_frames/worm_line_20200830T122932_...</td>\n",
       "      <td>14.372349</td>\n",
       "      <td>663.051109</td>\n",
       "      <td>665.764328</td>\n",
       "      <td>755.521400</td>\n",
       "      <td>754.957718</td>\n",
       "      <td>0.996884</td>\n",
       "    </tr>\n",
       "    <tr>\n",
       "      <th>1208</th>\n",
       "      <td>../yolo_eval_frames/worm_line_20200830T122932_...</td>\n",
       "      <td>14.345169</td>\n",
       "      <td>661.499649</td>\n",
       "      <td>667.013939</td>\n",
       "      <td>753.378281</td>\n",
       "      <td>752.545143</td>\n",
       "      <td>0.995642</td>\n",
       "    </tr>\n",
       "    <tr>\n",
       "      <th>1209</th>\n",
       "      <td>../yolo_eval_frames/worm_line_20200830T122932_...</td>\n",
       "      <td>14.454365</td>\n",
       "      <td>660.658134</td>\n",
       "      <td>667.329720</td>\n",
       "      <td>751.905708</td>\n",
       "      <td>752.886101</td>\n",
       "      <td>0.995571</td>\n",
       "    </tr>\n",
       "  </tbody>\n",
       "</table>\n",
       "<p>1210 rows × 7 columns</p>\n",
       "</div>"
      ],
      "text/plain": [
       "                                               filename  run_time_ms  \\\n",
       "0     ../yolo_eval_frames/beetle_fast_line_20200830T...    15.825510   \n",
       "1     ../yolo_eval_frames/beetle_fast_line_20200830T...    15.609026   \n",
       "2     ../yolo_eval_frames/beetle_fast_line_20200830T...    15.657425   \n",
       "3     ../yolo_eval_frames/beetle_fast_line_20200830T...    15.647888   \n",
       "4     ../yolo_eval_frames/beetle_fast_line_20200830T...    15.683889   \n",
       "...                                                 ...          ...   \n",
       "1205  ../yolo_eval_frames/worm_line_20200830T122932_...    15.084267   \n",
       "1206  ../yolo_eval_frames/worm_line_20200830T122932_...    14.217377   \n",
       "1207  ../yolo_eval_frames/worm_line_20200830T122932_...    14.372349   \n",
       "1208  ../yolo_eval_frames/worm_line_20200830T122932_...    14.345169   \n",
       "1209  ../yolo_eval_frames/worm_line_20200830T122932_...    14.454365   \n",
       "\n",
       "              x1          y1          x2          y2  confidence  \n",
       "0     625.657848  851.224224  712.196766  951.640766    0.997396  \n",
       "1     755.103867  860.310383  846.916153  955.088421    0.996655  \n",
       "2     757.308044  859.355007  848.846741  954.960178    0.995998  \n",
       "3     745.637936  844.821400  851.305912  937.720470    0.995361  \n",
       "4     755.912395  843.719917  856.915119  937.325737    0.995899  \n",
       "...          ...         ...         ...         ...         ...  \n",
       "1205  677.899914  651.165081  771.233997  725.281208    0.998050  \n",
       "1206  601.146206  646.172234  712.522861  729.447884    0.996085  \n",
       "1207  663.051109  665.764328  755.521400  754.957718    0.996884  \n",
       "1208  661.499649  667.013939  753.378281  752.545143    0.995642  \n",
       "1209  660.658134  667.329720  751.905708  752.886101    0.995571  \n",
       "\n",
       "[1210 rows x 7 columns]"
      ]
     },
     "execution_count": 20,
     "metadata": {},
     "output_type": "execute_result"
    }
   ],
   "source": [
    "det_df"
   ]
  },
  {
   "cell_type": "markdown",
   "metadata": {},
   "source": [
    "## Latency Distribution"
   ]
  },
  {
   "cell_type": "code",
   "execution_count": 21,
   "metadata": {},
   "outputs": [
    {
     "data": {
      "image/png": "[encoded data removed]",
      "text/plain": [
       "<Figure size 432x288 with 1 Axes>"
      ]
     },
     "metadata": {
      "needs_background": "light"
     },
     "output_type": "display_data"
    }
   ],
   "source": [
    "sns.distplot(det_df['run_time_ms'], bins=100, kde=False)\n",
    "plt.xlabel('millisecond')\n",
    "plt.savefig('../experiments_plots/yolo_timings.png', dpi=200)\n",
    "None"
   ]
  },
  {
   "cell_type": "code",
   "execution_count": 22,
   "metadata": {},
   "outputs": [
    {
     "data": {
      "text/plain": [
       "15.086151745693742"
      ]
     },
     "execution_count": 22,
     "metadata": {},
     "output_type": "execute_result"
    }
   ],
   "source": [
    "det_df['run_time_ms'].mean()"
   ]
  },
  {
   "cell_type": "markdown",
   "metadata": {},
   "source": [
    "### Save detections dataframe"
   ]
  },
  {
   "cell_type": "code",
   "execution_count": 87,
   "metadata": {},
   "outputs": [],
   "source": [
    "det_df.to_csv(os.path.join(output_dir, \"detections.csv\"))"
   ]
  },
  {
   "cell_type": "markdown",
   "metadata": {},
   "source": [
    "### Reload detections from file"
   ]
  },
  {
   "cell_type": "code",
   "execution_count": 39,
   "metadata": {},
   "outputs": [
    {
     "data": {
      "text/html": [
       "<div>\n",
       "<style scoped>\n",
       "    .dataframe tbody tr th:only-of-type {\n",
       "        vertical-align: middle;\n",
       "    }\n",
       "\n",
       "    .dataframe tbody tr th {\n",
       "        vertical-align: top;\n",
       "    }\n",
       "\n",
       "    .dataframe thead th {\n",
       "        text-align: right;\n",
       "    }\n",
       "</style>\n",
       "<table border=\"1\" class=\"dataframe\">\n",
       "  <thead>\n",
       "    <tr style=\"text-align: right;\">\n",
       "      <th></th>\n",
       "      <th>filename</th>\n",
       "      <th>run_time_ms</th>\n",
       "      <th>x1</th>\n",
       "      <th>y1</th>\n",
       "      <th>x2</th>\n",
       "      <th>y2</th>\n",
       "      <th>confidence</th>\n",
       "    </tr>\n",
       "  </thead>\n",
       "  <tbody>\n",
       "    <tr>\n",
       "      <th>0</th>\n",
       "      <td>../yolo_eval_frames/beetle_fast_line_20200830T...</td>\n",
       "      <td>13.516903</td>\n",
       "      <td>625.657848</td>\n",
       "      <td>851.224224</td>\n",
       "      <td>712.196766</td>\n",
       "      <td>951.640766</td>\n",
       "      <td>0.997396</td>\n",
       "    </tr>\n",
       "    <tr>\n",
       "      <th>1</th>\n",
       "      <td>../yolo_eval_frames/beetle_fast_line_20200830T...</td>\n",
       "      <td>13.870955</td>\n",
       "      <td>755.103867</td>\n",
       "      <td>860.310383</td>\n",
       "      <td>846.916153</td>\n",
       "      <td>955.088421</td>\n",
       "      <td>0.996655</td>\n",
       "    </tr>\n",
       "    <tr>\n",
       "      <th>2</th>\n",
       "      <td>../yolo_eval_frames/beetle_fast_line_20200830T...</td>\n",
       "      <td>13.391018</td>\n",
       "      <td>757.308044</td>\n",
       "      <td>859.355007</td>\n",
       "      <td>848.846741</td>\n",
       "      <td>954.960178</td>\n",
       "      <td>0.995998</td>\n",
       "    </tr>\n",
       "    <tr>\n",
       "      <th>3</th>\n",
       "      <td>../yolo_eval_frames/beetle_fast_line_20200830T...</td>\n",
       "      <td>13.277769</td>\n",
       "      <td>745.637936</td>\n",
       "      <td>844.821400</td>\n",
       "      <td>851.305912</td>\n",
       "      <td>937.720470</td>\n",
       "      <td>0.995361</td>\n",
       "    </tr>\n",
       "    <tr>\n",
       "      <th>4</th>\n",
       "      <td>../yolo_eval_frames/beetle_fast_line_20200830T...</td>\n",
       "      <td>13.500690</td>\n",
       "      <td>755.912395</td>\n",
       "      <td>843.719917</td>\n",
       "      <td>856.915119</td>\n",
       "      <td>937.325737</td>\n",
       "      <td>0.995899</td>\n",
       "    </tr>\n",
       "    <tr>\n",
       "      <th>...</th>\n",
       "      <td>...</td>\n",
       "      <td>...</td>\n",
       "      <td>...</td>\n",
       "      <td>...</td>\n",
       "      <td>...</td>\n",
       "      <td>...</td>\n",
       "      <td>...</td>\n",
       "    </tr>\n",
       "    <tr>\n",
       "      <th>1205</th>\n",
       "      <td>../yolo_eval_frames/worm_line_20200830T122932_...</td>\n",
       "      <td>13.104916</td>\n",
       "      <td>677.899914</td>\n",
       "      <td>651.165081</td>\n",
       "      <td>771.233997</td>\n",
       "      <td>725.281208</td>\n",
       "      <td>0.998050</td>\n",
       "    </tr>\n",
       "    <tr>\n",
       "      <th>1206</th>\n",
       "      <td>../yolo_eval_frames/worm_line_20200830T122932_...</td>\n",
       "      <td>13.064623</td>\n",
       "      <td>601.146206</td>\n",
       "      <td>646.172234</td>\n",
       "      <td>712.522861</td>\n",
       "      <td>729.447884</td>\n",
       "      <td>0.996085</td>\n",
       "    </tr>\n",
       "    <tr>\n",
       "      <th>1207</th>\n",
       "      <td>../yolo_eval_frames/worm_line_20200830T122932_...</td>\n",
       "      <td>13.101578</td>\n",
       "      <td>663.051109</td>\n",
       "      <td>665.764328</td>\n",
       "      <td>755.521400</td>\n",
       "      <td>754.957718</td>\n",
       "      <td>0.996884</td>\n",
       "    </tr>\n",
       "    <tr>\n",
       "      <th>1208</th>\n",
       "      <td>../yolo_eval_frames/worm_line_20200830T122932_...</td>\n",
       "      <td>13.213873</td>\n",
       "      <td>661.499649</td>\n",
       "      <td>667.013939</td>\n",
       "      <td>753.378281</td>\n",
       "      <td>752.545143</td>\n",
       "      <td>0.995642</td>\n",
       "    </tr>\n",
       "    <tr>\n",
       "      <th>1209</th>\n",
       "      <td>../yolo_eval_frames/worm_line_20200830T122932_...</td>\n",
       "      <td>13.130188</td>\n",
       "      <td>660.658134</td>\n",
       "      <td>667.329720</td>\n",
       "      <td>751.905708</td>\n",
       "      <td>752.886101</td>\n",
       "      <td>0.995571</td>\n",
       "    </tr>\n",
       "  </tbody>\n",
       "</table>\n",
       "<p>1210 rows × 7 columns</p>\n",
       "</div>"
      ],
      "text/plain": [
       "                                               filename  run_time_ms  \\\n",
       "0     ../yolo_eval_frames/beetle_fast_line_20200830T...    13.516903   \n",
       "1     ../yolo_eval_frames/beetle_fast_line_20200830T...    13.870955   \n",
       "2     ../yolo_eval_frames/beetle_fast_line_20200830T...    13.391018   \n",
       "3     ../yolo_eval_frames/beetle_fast_line_20200830T...    13.277769   \n",
       "4     ../yolo_eval_frames/beetle_fast_line_20200830T...    13.500690   \n",
       "...                                                 ...          ...   \n",
       "1205  ../yolo_eval_frames/worm_line_20200830T122932_...    13.104916   \n",
       "1206  ../yolo_eval_frames/worm_line_20200830T122932_...    13.064623   \n",
       "1207  ../yolo_eval_frames/worm_line_20200830T122932_...    13.101578   \n",
       "1208  ../yolo_eval_frames/worm_line_20200830T122932_...    13.213873   \n",
       "1209  ../yolo_eval_frames/worm_line_20200830T122932_...    13.130188   \n",
       "\n",
       "              x1          y1          x2          y2  confidence  \n",
       "0     625.657848  851.224224  712.196766  951.640766    0.997396  \n",
       "1     755.103867  860.310383  846.916153  955.088421    0.996655  \n",
       "2     757.308044  859.355007  848.846741  954.960178    0.995998  \n",
       "3     745.637936  844.821400  851.305912  937.720470    0.995361  \n",
       "4     755.912395  843.719917  856.915119  937.325737    0.995899  \n",
       "...          ...         ...         ...         ...         ...  \n",
       "1205  677.899914  651.165081  771.233997  725.281208    0.998050  \n",
       "1206  601.146206  646.172234  712.522861  729.447884    0.996085  \n",
       "1207  663.051109  665.764328  755.521400  754.957718    0.996884  \n",
       "1208  661.499649  667.013939  753.378281  752.545143    0.995642  \n",
       "1209  660.658134  667.329720  751.905708  752.886101    0.995571  \n",
       "\n",
       "[1210 rows x 7 columns]"
      ]
     },
     "execution_count": 39,
     "metadata": {},
     "output_type": "execute_result"
    }
   ],
   "source": [
    "det_df = pd.read_csv(os.path.join(output_dir, \"detections.csv\"), index_col=[0])\n",
    "det_df = det_df.sort_values('filename')\n",
    "det_df.reset_index(drop=True)"
   ]
  },
  {
   "cell_type": "markdown",
   "metadata": {},
   "source": [
    "## Read Label Files"
   ]
  },
  {
   "cell_type": "code",
   "execution_count": 23,
   "metadata": {},
   "outputs": [
    {
     "data": {
      "application/vnd.jupyter.widget-view+json": {
       "model_id": "e0494cfd055a497192918d3056c8b39d",
       "version_major": 2,
       "version_minor": 0
      },
      "text/plain": [
       "HBox(children=(FloatProgress(value=0.0, max=1210.0), HTML(value='')))"
      ]
     },
     "metadata": {},
     "output_type": "display_data"
    },
    {
     "name": "stdout",
     "output_type": "stream",
     "text": [
      "\n"
     ]
    }
   ],
   "source": [
    "label_dir = '../yolo_eval_labels'\n",
    "label_paths = glob(os.path.join(label_dir, \"*.txt\"))\n",
    "label_paths.sort()\n",
    "\n",
    "im_width = 1440\n",
    "im_height = 1080\n",
    "\n",
    "det_df['target_x1'] = np.nan\n",
    "det_df['target_y1'] = np.nan\n",
    "det_df['target_x2'] = np.nan\n",
    "det_df['target_y2'] = np.nan\n",
    "\n",
    "for i, label_path in enumerate(tqdm(label_paths)):\n",
    "    with open(label_path, \"r\") as f:\n",
    "        s = f.readline()\n",
    "        target = [float(e) for e in s.split(\" \")[1:]]\n",
    "        target[0] *= im_width\n",
    "        target[1] *= im_height\n",
    "        target[2] *= im_width\n",
    "        target[3] *= im_height\n",
    "        target = detector.centwh_to_xyxy(target)\n",
    "        det_df.iloc[i, det_df.columns.get_loc('target_x1')] = target[0]\n",
    "        det_df.iloc[i, det_df.columns.get_loc('target_y1')] = target[1]\n",
    "        det_df.iloc[i, det_df.columns.get_loc('target_x2')] = target[2]\n",
    "        det_df.iloc[i, det_df.columns.get_loc('target_y2')] = target[3]"
   ]
  },
  {
   "cell_type": "code",
   "execution_count": 45,
   "metadata": {},
   "outputs": [
    {
     "data": {
      "text/html": [
       "<div>\n",
       "<style scoped>\n",
       "    .dataframe tbody tr th:only-of-type {\n",
       "        vertical-align: middle;\n",
       "    }\n",
       "\n",
       "    .dataframe tbody tr th {\n",
       "        vertical-align: top;\n",
       "    }\n",
       "\n",
       "    .dataframe thead th {\n",
       "        text-align: right;\n",
       "    }\n",
       "</style>\n",
       "<table border=\"1\" class=\"dataframe\">\n",
       "  <thead>\n",
       "    <tr style=\"text-align: right;\">\n",
       "      <th></th>\n",
       "      <th>filename</th>\n",
       "      <th>run_time_ms</th>\n",
       "      <th>x1</th>\n",
       "      <th>y1</th>\n",
       "      <th>x2</th>\n",
       "      <th>y2</th>\n",
       "      <th>confidence</th>\n",
       "      <th>target_x1</th>\n",
       "      <th>target_y1</th>\n",
       "      <th>target_x2</th>\n",
       "      <th>target_y2</th>\n",
       "    </tr>\n",
       "  </thead>\n",
       "  <tbody>\n",
       "    <tr>\n",
       "      <th>0</th>\n",
       "      <td>../yolo_eval_frames/beetle_fast_line_20200830T...</td>\n",
       "      <td>46.597004</td>\n",
       "      <td>625.657848</td>\n",
       "      <td>851.224224</td>\n",
       "      <td>712.196766</td>\n",
       "      <td>951.640766</td>\n",
       "      <td>0.997396</td>\n",
       "      <td>619.00056</td>\n",
       "      <td>846.99972</td>\n",
       "      <td>711.00072</td>\n",
       "      <td>951.99948</td>\n",
       "    </tr>\n",
       "    <tr>\n",
       "      <th>1</th>\n",
       "      <td>../yolo_eval_frames/beetle_fast_line_20200830T...</td>\n",
       "      <td>16.185284</td>\n",
       "      <td>755.103867</td>\n",
       "      <td>860.310383</td>\n",
       "      <td>846.916153</td>\n",
       "      <td>955.088421</td>\n",
       "      <td>0.996655</td>\n",
       "      <td>744.00048</td>\n",
       "      <td>856.99998</td>\n",
       "      <td>843.00048</td>\n",
       "      <td>957.00042</td>\n",
       "    </tr>\n",
       "    <tr>\n",
       "      <th>2</th>\n",
       "      <td>../yolo_eval_frames/beetle_fast_line_20200830T...</td>\n",
       "      <td>16.018391</td>\n",
       "      <td>757.308044</td>\n",
       "      <td>859.355007</td>\n",
       "      <td>848.846741</td>\n",
       "      <td>954.960178</td>\n",
       "      <td>0.995998</td>\n",
       "      <td>745.99920</td>\n",
       "      <td>858.00006</td>\n",
       "      <td>848.99952</td>\n",
       "      <td>958.00050</td>\n",
       "    </tr>\n",
       "    <tr>\n",
       "      <th>3</th>\n",
       "      <td>../yolo_eval_frames/beetle_fast_line_20200830T...</td>\n",
       "      <td>16.940117</td>\n",
       "      <td>745.637936</td>\n",
       "      <td>844.821400</td>\n",
       "      <td>851.305912</td>\n",
       "      <td>937.720470</td>\n",
       "      <td>0.995361</td>\n",
       "      <td>733.00032</td>\n",
       "      <td>845.00010</td>\n",
       "      <td>850.99968</td>\n",
       "      <td>941.00022</td>\n",
       "    </tr>\n",
       "    <tr>\n",
       "      <th>4</th>\n",
       "      <td>../yolo_eval_frames/beetle_fast_line_20200830T...</td>\n",
       "      <td>15.775919</td>\n",
       "      <td>755.912395</td>\n",
       "      <td>843.719917</td>\n",
       "      <td>856.915119</td>\n",
       "      <td>937.325737</td>\n",
       "      <td>0.995899</td>\n",
       "      <td>743.99976</td>\n",
       "      <td>840.99978</td>\n",
       "      <td>858.99960</td>\n",
       "      <td>937.99998</td>\n",
       "    </tr>\n",
       "    <tr>\n",
       "      <th>...</th>\n",
       "      <td>...</td>\n",
       "      <td>...</td>\n",
       "      <td>...</td>\n",
       "      <td>...</td>\n",
       "      <td>...</td>\n",
       "      <td>...</td>\n",
       "      <td>...</td>\n",
       "      <td>...</td>\n",
       "      <td>...</td>\n",
       "      <td>...</td>\n",
       "      <td>...</td>\n",
       "    </tr>\n",
       "    <tr>\n",
       "      <th>1205</th>\n",
       "      <td>../yolo_eval_frames/worm_line_20200830T122932_...</td>\n",
       "      <td>14.266253</td>\n",
       "      <td>677.899914</td>\n",
       "      <td>651.165081</td>\n",
       "      <td>771.233997</td>\n",
       "      <td>725.281208</td>\n",
       "      <td>0.998050</td>\n",
       "      <td>672.00048</td>\n",
       "      <td>649.00008</td>\n",
       "      <td>775.00080</td>\n",
       "      <td>734.00040</td>\n",
       "    </tr>\n",
       "    <tr>\n",
       "      <th>1206</th>\n",
       "      <td>../yolo_eval_frames/worm_line_20200830T122932_...</td>\n",
       "      <td>14.233828</td>\n",
       "      <td>601.146206</td>\n",
       "      <td>646.172234</td>\n",
       "      <td>712.522861</td>\n",
       "      <td>729.447884</td>\n",
       "      <td>0.996085</td>\n",
       "      <td>600.00048</td>\n",
       "      <td>645.99984</td>\n",
       "      <td>708.00048</td>\n",
       "      <td>730.00008</td>\n",
       "    </tr>\n",
       "    <tr>\n",
       "      <th>1207</th>\n",
       "      <td>../yolo_eval_frames/worm_line_20200830T122932_...</td>\n",
       "      <td>14.709711</td>\n",
       "      <td>663.051109</td>\n",
       "      <td>665.764328</td>\n",
       "      <td>755.521400</td>\n",
       "      <td>754.957718</td>\n",
       "      <td>0.996884</td>\n",
       "      <td>661.99968</td>\n",
       "      <td>666.99936</td>\n",
       "      <td>756.00000</td>\n",
       "      <td>753.99984</td>\n",
       "    </tr>\n",
       "    <tr>\n",
       "      <th>1208</th>\n",
       "      <td>../yolo_eval_frames/worm_line_20200830T122932_...</td>\n",
       "      <td>14.150381</td>\n",
       "      <td>661.499649</td>\n",
       "      <td>667.013939</td>\n",
       "      <td>753.378281</td>\n",
       "      <td>752.545143</td>\n",
       "      <td>0.995642</td>\n",
       "      <td>661.99968</td>\n",
       "      <td>665.99928</td>\n",
       "      <td>751.99968</td>\n",
       "      <td>751.99968</td>\n",
       "    </tr>\n",
       "    <tr>\n",
       "      <th>1209</th>\n",
       "      <td>../yolo_eval_frames/worm_line_20200830T122932_...</td>\n",
       "      <td>14.144897</td>\n",
       "      <td>660.658134</td>\n",
       "      <td>667.329720</td>\n",
       "      <td>751.905708</td>\n",
       "      <td>752.886101</td>\n",
       "      <td>0.995571</td>\n",
       "      <td>660.99960</td>\n",
       "      <td>667.99944</td>\n",
       "      <td>752.99976</td>\n",
       "      <td>753.99984</td>\n",
       "    </tr>\n",
       "  </tbody>\n",
       "</table>\n",
       "<p>1210 rows × 11 columns</p>\n",
       "</div>"
      ],
      "text/plain": [
       "                                               filename  run_time_ms  \\\n",
       "0     ../yolo_eval_frames/beetle_fast_line_20200830T...    46.597004   \n",
       "1     ../yolo_eval_frames/beetle_fast_line_20200830T...    16.185284   \n",
       "2     ../yolo_eval_frames/beetle_fast_line_20200830T...    16.018391   \n",
       "3     ../yolo_eval_frames/beetle_fast_line_20200830T...    16.940117   \n",
       "4     ../yolo_eval_frames/beetle_fast_line_20200830T...    15.775919   \n",
       "...                                                 ...          ...   \n",
       "1205  ../yolo_eval_frames/worm_line_20200830T122932_...    14.266253   \n",
       "1206  ../yolo_eval_frames/worm_line_20200830T122932_...    14.233828   \n",
       "1207  ../yolo_eval_frames/worm_line_20200830T122932_...    14.709711   \n",
       "1208  ../yolo_eval_frames/worm_line_20200830T122932_...    14.150381   \n",
       "1209  ../yolo_eval_frames/worm_line_20200830T122932_...    14.144897   \n",
       "\n",
       "              x1          y1          x2          y2  confidence  target_x1  \\\n",
       "0     625.657848  851.224224  712.196766  951.640766    0.997396  619.00056   \n",
       "1     755.103867  860.310383  846.916153  955.088421    0.996655  744.00048   \n",
       "2     757.308044  859.355007  848.846741  954.960178    0.995998  745.99920   \n",
       "3     745.637936  844.821400  851.305912  937.720470    0.995361  733.00032   \n",
       "4     755.912395  843.719917  856.915119  937.325737    0.995899  743.99976   \n",
       "...          ...         ...         ...         ...         ...        ...   \n",
       "1205  677.899914  651.165081  771.233997  725.281208    0.998050  672.00048   \n",
       "1206  601.146206  646.172234  712.522861  729.447884    0.996085  600.00048   \n",
       "1207  663.051109  665.764328  755.521400  754.957718    0.996884  661.99968   \n",
       "1208  661.499649  667.013939  753.378281  752.545143    0.995642  661.99968   \n",
       "1209  660.658134  667.329720  751.905708  752.886101    0.995571  660.99960   \n",
       "\n",
       "      target_y1  target_x2  target_y2  \n",
       "0     846.99972  711.00072  951.99948  \n",
       "1     856.99998  843.00048  957.00042  \n",
       "2     858.00006  848.99952  958.00050  \n",
       "3     845.00010  850.99968  941.00022  \n",
       "4     840.99978  858.99960  937.99998  \n",
       "...         ...        ...        ...  \n",
       "1205  649.00008  775.00080  734.00040  \n",
       "1206  645.99984  708.00048  730.00008  \n",
       "1207  666.99936  756.00000  753.99984  \n",
       "1208  665.99928  751.99968  751.99968  \n",
       "1209  667.99944  752.99976  753.99984  \n",
       "\n",
       "[1210 rows x 11 columns]"
      ]
     },
     "execution_count": 45,
     "metadata": {},
     "output_type": "execute_result"
    }
   ],
   "source": [
    "det_df"
   ]
  },
  {
   "cell_type": "markdown",
   "metadata": {},
   "source": [
    "# IoU Metric Evaluation"
   ]
  },
  {
   "cell_type": "code",
   "execution_count": 25,
   "metadata": {},
   "outputs": [],
   "source": [
    "dets = det_df[['x1', 'y1', 'x2', 'y2']].to_numpy()\n",
    "targets = det_df[['target_x1', 'target_y1', 'target_x2', 'target_y2']].to_numpy()\n",
    "ious = detector.bbox_iou(torch.from_numpy(dets), torch.from_numpy(targets))"
   ]
  },
  {
   "cell_type": "code",
   "execution_count": 195,
   "metadata": {},
   "outputs": [],
   "source": [
    "det_df['IoU'] = ious\n"
   ]
  },
  {
   "cell_type": "code",
   "execution_count": 204,
   "metadata": {},
   "outputs": [],
   "source": [
    "det_df.to_csv(os.path.join(output_dir, \"yolo_eval.csv\"), index=False)"
   ]
  },
  {
   "cell_type": "code",
   "execution_count": 82,
   "metadata": {},
   "outputs": [],
   "source": [
    "det_df = pd.read_csv(os.path.join(output_dir, \"yolo_eval.csv\"))"
   ]
  },
  {
   "cell_type": "code",
   "execution_count": 26,
   "metadata": {},
   "outputs": [
    {
     "data": {
      "text/plain": [
       "tensor(0.8641, dtype=torch.float64)"
      ]
     },
     "execution_count": 26,
     "metadata": {},
     "output_type": "execute_result"
    }
   ],
   "source": [
    "ious.mean()"
   ]
  },
  {
   "cell_type": "code",
   "execution_count": 84,
   "metadata": {},
   "outputs": [
    {
     "data": {
      "image/png": "[encoded data removed]",
      "text/plain": [
       "<Figure size 432x288 with 1 Axes>"
      ]
     },
     "metadata": {
      "needs_background": "light"
     },
     "output_type": "display_data"
    }
   ],
   "source": [
    "plt.hist(det_df['IoU'], bins='fd')\n",
    "plt.savefig(os.path.join(output_dir, \"iou_histogram.png\"), dpi=300)"
   ]
  },
  {
   "cell_type": "markdown",
   "metadata": {},
   "source": [
    "## Sample Images from the IoU Distribution"
   ]
  },
  {
   "cell_type": "code",
   "execution_count": 85,
   "metadata": {},
   "outputs": [],
   "source": [
    "sorted_df = det_df.sort_values('IoU')"
   ]
  },
  {
   "cell_type": "code",
   "execution_count": 111,
   "metadata": {},
   "outputs": [
    {
     "data": {
      "text/plain": [
       "0.930237588349307"
      ]
     },
     "execution_count": 111,
     "metadata": {},
     "output_type": "execute_result"
    }
   ],
   "source": [
    "i = 95 * sorted_df.shape[0] // 100\n",
    "sorted_df.iloc[i]['IoU']"
   ]
  },
  {
   "cell_type": "code",
   "execution_count": 87,
   "metadata": {},
   "outputs": [],
   "source": [
    "def plot_row(row):\n",
    "    img = cv.imread(row.filename)\n",
    "    fig,ax = plt.subplots(1, figsize=(15,15))\n",
    "    ax.imshow(img)\n",
    "    ax.add_patch(patches.Rectangle((row.target_x1,row.target_y1),row.target_x2-row.target_x1, row.target_y2-row.target_y1,linewidth=1,edgecolor='g',facecolor='none'))\n",
    "    ax.add_patch(patches.Rectangle((row.x1,row.y1),row.x2-row.x1, row.y2-row.y1,linewidth=1,edgecolor='r',facecolor='none'))"
   ]
  },
  {
   "cell_type": "markdown",
   "metadata": {},
   "source": [
    "### 5% Quantile Image"
   ]
  },
  {
   "cell_type": "code",
   "execution_count": 113,
   "metadata": {},
   "outputs": [
    {
     "name": "stdout",
     "output_type": "stream",
     "text": [
      "../yolo_eval_frames/feeding_4_20200830-125531_None_2964.jpg: 0.7956301833028157\n"
     ]
    },
    {
     "data": {
      "image/png": "[encoded data removed]",
      "text/plain": [
       "<Figure size 1080x1080 with 1 Axes>"
      ]
     },
     "metadata": {
      "needs_background": "light"
     },
     "output_type": "display_data"
    }
   ],
   "source": [
    "i = 5 * sorted_df.shape[0] // 100\n",
    "plot_row(sorted_df.iloc[i])\n",
    "plt.savefig(os.path.join(output_dir, \"per10_iou.jpg\"))\n",
    "print(f\"{sorted_df.iloc[i].filename}: {sorted_df.iloc[i].IoU}\")"
   ]
  },
  {
   "cell_type": "markdown",
   "metadata": {},
   "source": [
    "### 95% Quantile Image"
   ]
  },
  {
   "cell_type": "code",
   "execution_count": null,
   "metadata": {},
   "outputs": [],
   "source": [
    "i = 95 * sorted_df.shape[0] // 100\n",
    "plot_row(sorted_df.iloc[i])\n",
    "plt.savefig(os.path.join(output_dir, \"per10_iou.jpg\"))\n",
    "print(f\"{sorted_df.iloc[i].filename}: {sorted_df.iloc[i].IoU}\")"
   ]
  },
  {
   "cell_type": "markdown",
   "metadata": {},
   "source": [
    "### IoU Quantiles"
   ]
  },
  {
   "cell_type": "code",
   "execution_count": 250,
   "metadata": {},
   "outputs": [
    {
     "data": {
      "text/plain": [
       "0.01    0.702130\n",
       "0.05    0.766707\n",
       "0.10    0.795564\n",
       "0.25    0.832656\n",
       "0.50    0.867570\n",
       "0.75    0.903400\n",
       "0.90    0.930206\n",
       "Name: IoU, dtype: float64"
      ]
     },
     "execution_count": 250,
     "metadata": {},
     "output_type": "execute_result"
    }
   ],
   "source": [
    "det_df['IoU'].quantile([0.01,0.05, 0.1, 0.25, .5, .75 ,.9])"
   ]
  },
  {
   "cell_type": "code",
   "execution_count": 267,
   "metadata": {},
   "outputs": [
    {
     "name": "stdout",
     "output_type": "stream",
     "text": [
      "88.512% of the images have IoU above 0.8\n"
     ]
    }
   ],
   "source": [
    "threshold = 0.80\n",
    "percentile = det_df['IoU'][det_df['IoU'] > threshold].shape[0] / det_df.shape[0]\n",
    "print(f\"{percentile*100:.3f}% of the images have IoU above {threshold}\")"
   ]
  },
  {
   "cell_type": "markdown",
   "metadata": {},
   "source": [
    "# False Negative Analysis"
   ]
  },
  {
   "cell_type": "code",
   "execution_count": 4,
   "metadata": {},
   "outputs": [
    {
     "name": "stdout",
     "output_type": "stream",
     "text": [
      "110 trials loaded\n"
     ]
    }
   ],
   "source": [
    "all_df = dataset.collect_data(data_sources={'detections': True, 'timestamps': True, 'dlc': False, 'touches': True})"
   ]
  },
  {
   "cell_type": "code",
   "execution_count": 5,
   "metadata": {},
   "outputs": [],
   "source": [
    "nan_per_trial = [(trial, all_df.loc[trial].cent_x.isna().sum()) for trial in all_df.index.unique()]"
   ]
  },
  {
   "cell_type": "code",
   "execution_count": 6,
   "metadata": {},
   "outputs": [
    {
     "data": {
      "text/plain": [
       "[('feeding_20200830-120813_None', 3772),\n",
       " ('feeding_4_20200830-121143_None', 203),\n",
       " ('feeding_4_20200830-122515_None', 45),\n",
       " ('feeding_4_20200830-125531_None', 192),\n",
       " ('feeding_4_20200830-125905_None', 364),\n",
       " ('feeding_4_screen_20200830-130446_None', 1290),\n",
       " ('feeding_5_20200830-131348_None', 1453),\n",
       " ('circle_20200803T090234_trial1', 63),\n",
       " ('circle_20200803T090615_trial1', 4),\n",
       " ('line_20200803T094928_trial1', 8),\n",
       " ('line_20200803T101641_trial1', 797),\n",
       " ('circle_20200803T113121_trial1', 4),\n",
       " ('line_20200803T114942_trial1', 64),\n",
       " ('circle_20200803T115839_trial1', 4),\n",
       " ('circle_20200803T120911_trial1', 3),\n",
       " ('cockroach_line_20200830T120130_trial1', 1155),\n",
       " ('worm_line_20200830T121825_trial1', 6),\n",
       " ('always_reward_20200917T044011_trial1', 1034),\n",
       " ('learning_20200917T081521_trial1', 3134),\n",
       " ('learning_20200917T081521_trial3', 1383),\n",
       " ('learning_20200917T084025_trial1', 28),\n",
       " ('learning_20200917T092820_trial3', 1),\n",
       " ('learning_20200917T150415_trial2', 111),\n",
       " ('learning_20200917T154539_trial2', 19),\n",
       " ('learning_20200917T154539_trial4', 3521),\n",
       " ('learning_20200923T075131_trial1', 1937),\n",
       " ('learning_20200923T102007_trial1', 35),\n",
       " ('learning_20200923T103728_trial1', 1),\n",
       " ('learning_20200923T103728_trial2', 2021),\n",
       " ('learning_20200923T103728_trial3', 18),\n",
       " ('learning_20200923T105257_trial1', 2),\n",
       " ('baby_initial_20200923T133954_trial1', 3671),\n",
       " ('baby_initial_20200923T135525_trial1', 428),\n",
       " ('baby_initial_20200923T135525_trial2', 83),\n",
       " ('baby_initial_20200923T135525_trial3', 35),\n",
       " ('learning_20201001T081837_trial2', 15),\n",
       " ('learning_20201001T081837_trial3', 28),\n",
       " ('learning_20201001T081837_trial5', 2),\n",
       " ('learning_20201001T084647_trial3', 5),\n",
       " ('learning_20201001T085812_trial2', 91),\n",
       " ('learning_20201001T085812_trial6', 5),\n",
       " ('learning_20201001T100451_trial1', 3),\n",
       " ('learning_20201001T100451_trial6', 1)]"
      ]
     },
     "execution_count": 6,
     "metadata": {},
     "output_type": "execute_result"
    }
   ],
   "source": [
    "trials_with_nans = [c for c in nan_per_trial if c[1]!=0]\n",
    "trials_with_nans"
   ]
  },
  {
   "cell_type": "code",
   "execution_count": 7,
   "metadata": {},
   "outputs": [],
   "source": [
    "def nan_heatmap(trial, ax):\n",
    "    nans = all_df.loc[trial].cent_x.isna().to_numpy().astype(float)\n",
    "    sns.heatmap(nans.reshape(-1, 1).transpose(), ax=ax)"
   ]
  },
  {
   "cell_type": "code",
   "execution_count": 8,
   "metadata": {},
   "outputs": [],
   "source": [
    "def nan_range(trial):\n",
    "    nans = all_df.loc[trial].cent_x.isna().to_numpy()\n",
    "    return np.argwhere(nans)[0], np.argwhere(nans)[-1], np.argwhere(~nans)[0], np.argwhere(~nans)[-1]"
   ]
  },
  {
   "cell_type": "code",
   "execution_count": 11,
   "metadata": {},
   "outputs": [
    {
     "data": {
      "application/vnd.jupyter.widget-view+json": {
       "model_id": "c9490e2ce94f427ab7496e34e1cfb7bc",
       "version_major": 2,
       "version_minor": 0
      },
      "text/plain": [
       "Canvas(toolbar=Toolbar(toolitems=[('Home', 'Reset original view', 'home', 'home'), ('Back', 'Back to previous …"
      ]
     },
     "metadata": {},
     "output_type": "display_data"
    },
    {
     "name": "stderr",
     "output_type": "stream",
     "text": [
      "/home/user/miniconda/envs/py37/lib/python3.7/site-packages/ipykernel_launcher.py:12: UserWarning: Tight layout not applied. tight_layout cannot make axes height small enough to accommodate all axes decorations\n",
      "  if sys.path[0] == '':\n"
     ]
    }
   ],
   "source": [
    "%matplotlib widget\n",
    "# Make spacing work with title\n",
    "fig, axs = plt.subplots(17, 1, figsize=(10, 15))\n",
    "for ax, trial in zip(axs.reshape(-1), trials_with_nans):\n",
    "    range = nan_range(trial[0])\n",
    "    ax.set_title(trial)\n",
    "    nan_heatmap(trial[0], ax)\n",
    "    ax.plot([range[0], range[0]], [0, 1], c='g', linewidth=2)\n",
    "    ax.plot([range[1], range[1]], [0, 1], c='g', linewidth=2)\n",
    "    ax.plot([range[2], range[2]], [0, 1], c='r', linewidth=2)\n",
    "    ax.plot([range[3], range[3]], [0, 1], c='r', linewidth=2)    \n",
    "\n",
    "fig.tight_layout(pad=2.0)"
   ]
  },
  {
   "cell_type": "code",
   "execution_count": 342,
   "metadata": {},
   "outputs": [],
   "source": [
    "trials_low_nans = [t for t in trials_with_nans if t[1]<=200]\n",
    "trials_high_nans = [t for t in trials_with_nans if t[1]>200]"
   ]
  },
  {
   "cell_type": "code",
   "execution_count": 349,
   "metadata": {},
   "outputs": [
    {
     "data": {
      "text/plain": [
       "[('feeding_20200830-120813_None', 3772),\n",
       " ('feeding_4_20200830-121143_None', 203),\n",
       " ('feeding_4_20200830-125905_None', 364),\n",
       " ('feeding_4_screen_20200830-130446_None', 1290),\n",
       " ('feeding_5_20200830-131348_None', 1453),\n",
       " ('line_20200803T101641_trial1', 797),\n",
       " ('cockroach_line_20200830T120130_trial1', 1155)]"
      ]
     },
     "execution_count": 349,
     "metadata": {},
     "output_type": "execute_result"
    }
   ],
   "source": [
    "trials_high_nans"
   ]
  },
  {
   "cell_type": "code",
   "execution_count": 344,
   "metadata": {},
   "outputs": [],
   "source": [
    "nans_path = '../yolo_fn_frames'"
   ]
  },
  {
   "cell_type": "code",
   "execution_count": 348,
   "metadata": {},
   "outputs": [],
   "source": [
    "for t, c in trials_low_nans:\n",
    "    vid_path = dataset.get_trial_video_path(t)\n",
    "    nans = all_df.loc[t].cent_x.isna().to_numpy()\n",
    "    save_video_frames(vid_path, nans_path, t, np.argwhere(nans).reshape(-1))"
   ]
  },
  {
   "cell_type": "code",
   "execution_count": 352,
   "metadata": {},
   "outputs": [
    {
     "data": {
      "text/plain": [
       "['../../Pogona_Pursuit/Arena/output/feeding_20200830-120813/19506468.avi',\n",
       " '../../Pogona_Pursuit/Arena/output/feeding_4_20200830-121143/19506468.avi',\n",
       " '../../Pogona_Pursuit/Arena/output/feeding_4_20200830-125905/19506468.avi',\n",
       " '../../Pogona_Pursuit/Arena/output/feeding_4_screen_20200830-130446/19506468.avi',\n",
       " '../../Pogona_Pursuit/Arena/output/feeding_5_20200830-131348/19506468.avi',\n",
       " '../../Pogona_Pursuit/Arena/experiments/line_20200803T101641/trial1/videos/20200803-101641/19506468.avi',\n",
       " '../../Pogona_Pursuit/Arena/experiments/cockroach_line_20200830T120130/trial1/videos/20200830-120130/19506468.avi']"
      ]
     },
     "execution_count": 352,
     "metadata": {},
     "output_type": "execute_result"
    }
   ],
   "source": [
    "[dataset.get_trial_video_path(t) for t, c in trials_high_nans]"
   ]
  },
  {
   "cell_type": "code",
   "execution_count": 354,
   "metadata": {},
   "outputs": [
    {
     "data": {
      "application/vnd.jupyter.widget-view+json": {
       "model_id": "05e7508ce068439f837782a5b9f40930",
       "version_major": 2,
       "version_minor": 0
      },
      "text/plain": [
       "Canvas(toolbar=Toolbar(toolitems=[('Home', 'Reset original view', 'home', 'home'), ('Back', 'Back to previous …"
      ]
     },
     "metadata": {},
     "output_type": "display_data"
    }
   ],
   "source": [
    "%matplotlib widget\n",
    "fig, axs = plt.subplots(len(trials_high_nans), 1, figsize=(10, len(trials_high_nans)))\n",
    "fig.tight_layout(pad=2.0)\n",
    "for ax, trial in zip(axs.reshape(-1), trials_high_nans):\n",
    "    range = nan_range(trial[0])\n",
    "    nan_heamap(trial[0], ax)\n",
    "    ax.plot([range[0], range[0]], [0, 1], c='g', linewidth=2)\n",
    "    ax.plot([range[1], range[1]], [0, 1], c='g', linewidth=2)\n",
    "    ax.plot([range[2], range[2]], [0, 1], c='r', linewidth=2)\n",
    "    ax.plot([range[3], range[3]], [0, 1], c='r', linewidth=2)"
   ]
  },
  {
   "cell_type": "code",
   "execution_count": 360,
   "metadata": {},
   "outputs": [],
   "source": [
    "# special treatment for trials with many false negatives\n",
    "nans_path_0 = '../yolo_fn_frames/feeding_20200830-120813_None'\n",
    "t, c = trials_high_nans[0]\n",
    "vid_path = dataset.get_trial_video_path(t)\n",
    "nans = all_df.loc[t].cent_x.isna().to_numpy()[:-3000]\n",
    "save_video_frames(vid_path, nans_path_0, t, np.argwhere(nans).reshape(-1))"
   ]
  },
  {
   "cell_type": "code",
   "execution_count": 359,
   "metadata": {},
   "outputs": [
    {
     "data": {
      "text/plain": [
       "(772,)"
      ]
     },
     "execution_count": 359,
     "metadata": {},
     "output_type": "execute_result"
    }
   ],
   "source": [
    "np.argwhere(nans).reshape(-1).shape"
   ]
  },
  {
   "cell_type": "code",
   "execution_count": 361,
   "metadata": {},
   "outputs": [],
   "source": [
    "nans_path_1 = '../yolo_fn_frames/feeding_4_20200830-121143'\n",
    "t, c = trials_high_nans[1]\n",
    "vid_path = dataset.get_trial_video_path(t)\n",
    "nans = all_df.loc[t].cent_x.isna().to_numpy()\n",
    "save_video_frames(vid_path, nans_path_1, t, np.argwhere(nans).reshape(-1))"
   ]
  },
  {
   "cell_type": "code",
   "execution_count": 362,
   "metadata": {},
   "outputs": [],
   "source": [
    "nans_path_2 = '../yolo_fn_frames/feeding_4_20200830-125905'\n",
    "t, c = trials_high_nans[2]\n",
    "vid_path = dataset.get_trial_video_path(t)\n",
    "nans = all_df.loc[t].cent_x.isna().to_numpy()\n",
    "save_video_frames(vid_path, nans_path_2, t, np.argwhere(nans).reshape(-1))"
   ]
  },
  {
   "cell_type": "code",
   "execution_count": 363,
   "metadata": {},
   "outputs": [],
   "source": [
    "nans_path_3 = '../yolo_fn_frames/feeding_4_screen_20200830-130446'\n",
    "t, c = trials_high_nans[3]\n",
    "vid_path = dataset.get_trial_video_path(t)\n",
    "nans = all_df.loc[t].cent_x.isna().to_numpy()\n",
    "save_video_frames(vid_path, nans_path_3, t, np.argwhere(nans).reshape(-1))"
   ]
  },
  {
   "cell_type": "code",
   "execution_count": 364,
   "metadata": {},
   "outputs": [],
   "source": [
    "nans_path_4 = '../yolo_fn_frames/feeding_5_20200830-131348'\n",
    "t, c = trials_high_nans[4]\n",
    "vid_path = dataset.get_trial_video_path(t)\n",
    "nans = all_df.loc[t].cent_x.isna().to_numpy()\n",
    "save_video_frames(vid_path, nans_path_4, t, np.argwhere(nans).reshape(-1))"
   ]
  },
  {
   "cell_type": "code",
   "execution_count": 365,
   "metadata": {},
   "outputs": [],
   "source": [
    "nans_path_5 = '../yolo_fn_frames/line_20200803T101641_trial1'\n",
    "t, c = trials_high_nans[5]\n",
    "vid_path = dataset.get_trial_video_path(t)\n",
    "nans = all_df.loc[t].cent_x.isna().to_numpy()\n",
    "save_video_frames(vid_path, nans_path_5, t, np.argwhere(nans).reshape(-1))"
   ]
  },
  {
   "cell_type": "code",
   "execution_count": 366,
   "metadata": {},
   "outputs": [],
   "source": [
    "nans_path_6 = '../yolo_fn_frames/cockroach_line_20200830T120130_trial1'\n",
    "t, c = trials_high_nans[6]\n",
    "vid_path = dataset.get_trial_video_path(t)\n",
    "nans = all_df.loc[t].cent_x.isna().to_numpy()\n",
    "save_video_frames(vid_path, nans_path_6, t, np.argwhere(nans).reshape(-1))"
   ]
  },
  {
   "cell_type": "markdown",
   "metadata": {},
   "source": [
    "# Test Undetected Frames with Lower Confidence Threshold\n",
    "\n",
    "- Replace this thing with a distribution of confidences by running detector with conf=0. nms can stay at 0.6"
   ]
  },
  {
   "cell_type": "code",
   "execution_count": 367,
   "metadata": {},
   "outputs": [],
   "source": [
    "undetected_paths = glob('../yolo_fn_frames/*')"
   ]
  },
  {
   "cell_type": "code",
   "execution_count": 388,
   "metadata": {},
   "outputs": [
    {
     "name": "stdout",
     "output_type": "stream",
     "text": [
      "Set conf=0.9, nms=0.6\n"
     ]
    },
    {
     "data": {
      "application/vnd.jupyter.widget-view+json": {
       "model_id": "2fab2b4cfebd482cb408731f05bb27d4",
       "version_major": 2,
       "version_minor": 0
      },
      "text/plain": [
       "HBox(children=(FloatProgress(value=0.0, max=2768.0), HTML(value='')))"
      ]
     },
     "metadata": {},
     "output_type": "display_data"
    },
    {
     "name": "stdout",
     "output_type": "stream",
     "text": [
      "\n",
      "Detected 130/2768\n",
      "Set conf=0.8, nms=0.5\n"
     ]
    },
    {
     "data": {
      "application/vnd.jupyter.widget-view+json": {
       "model_id": "b97331dc62d346fab0c4c59d03526321",
       "version_major": 2,
       "version_minor": 0
      },
      "text/plain": [
       "HBox(children=(FloatProgress(value=0.0, max=2768.0), HTML(value='')))"
      ]
     },
     "metadata": {},
     "output_type": "display_data"
    },
    {
     "name": "stdout",
     "output_type": "stream",
     "text": [
      "\n",
      "Detected 1284/2768\n",
      "Set conf=0.7000000000000001, nms=0.4\n"
     ]
    },
    {
     "data": {
      "application/vnd.jupyter.widget-view+json": {
       "model_id": "8d8a773980324d53945f52c527afaf69",
       "version_major": 2,
       "version_minor": 0
      },
      "text/plain": [
       "HBox(children=(FloatProgress(value=0.0, max=2768.0), HTML(value='')))"
      ]
     },
     "metadata": {},
     "output_type": "display_data"
    },
    {
     "name": "stdout",
     "output_type": "stream",
     "text": [
      "\n",
      "Detected 1807/2768\n",
      "Set conf=0.6000000000000001, nms=0.30000000000000004\n"
     ]
    },
    {
     "data": {
      "application/vnd.jupyter.widget-view+json": {
       "model_id": "7eaa29ea902f4512a6abc3a4dc3361c0",
       "version_major": 2,
       "version_minor": 0
      },
      "text/plain": [
       "HBox(children=(FloatProgress(value=0.0, max=2768.0), HTML(value='')))"
      ]
     },
     "metadata": {},
     "output_type": "display_data"
    },
    {
     "name": "stdout",
     "output_type": "stream",
     "text": [
      "\n",
      "Detected 2116/2768\n",
      "Set conf=0.5000000000000001, nms=0.20000000000000007\n"
     ]
    },
    {
     "data": {
      "application/vnd.jupyter.widget-view+json": {
       "model_id": "b000dfbb164e4bb7ae62553c41594b4e",
       "version_major": 2,
       "version_minor": 0
      },
      "text/plain": [
       "HBox(children=(FloatProgress(value=0.0, max=2768.0), HTML(value='')))"
      ]
     },
     "metadata": {},
     "output_type": "display_data"
    },
    {
     "name": "stdout",
     "output_type": "stream",
     "text": [
      "\n",
      "Detected 2320/2768\n",
      "Set conf=0.40000000000000013, nms=0.10000000000000009\n"
     ]
    },
    {
     "data": {
      "application/vnd.jupyter.widget-view+json": {
       "model_id": "6e24af7fe8ad4e9fbf97b29e4b79cded",
       "version_major": 2,
       "version_minor": 0
      },
      "text/plain": [
       "HBox(children=(FloatProgress(value=0.0, max=2768.0), HTML(value='')))"
      ]
     },
     "metadata": {},
     "output_type": "display_data"
    },
    {
     "name": "stdout",
     "output_type": "stream",
     "text": [
      "\n",
      "Detected 2497/2768\n",
      "Set conf=0.30000000000000016, nms=0.1\n"
     ]
    },
    {
     "data": {
      "application/vnd.jupyter.widget-view+json": {
       "model_id": "69eea2c9cd014ab29530d37e73e10b12",
       "version_major": 2,
       "version_minor": 0
      },
      "text/plain": [
       "HBox(children=(FloatProgress(value=0.0, max=2768.0), HTML(value='')))"
      ]
     },
     "metadata": {},
     "output_type": "display_data"
    },
    {
     "name": "stdout",
     "output_type": "stream",
     "text": [
      "\n",
      "Detected 2618/2768\n",
      "Set conf=0.20000000000000018, nms=0.1\n"
     ]
    },
    {
     "data": {
      "application/vnd.jupyter.widget-view+json": {
       "model_id": "89ba7790255d44f081de0ff2bcc11f22",
       "version_major": 2,
       "version_minor": 0
      },
      "text/plain": [
       "HBox(children=(FloatProgress(value=0.0, max=2768.0), HTML(value='')))"
      ]
     },
     "metadata": {},
     "output_type": "display_data"
    },
    {
     "name": "stdout",
     "output_type": "stream",
     "text": [
      "\n",
      "Detected 2706/2768\n"
     ]
    }
   ],
   "source": [
    "confs = np.arange(0.9, 0.1, -0.1)\n",
    "nmss = np.concatenate((np.arange(0.6, 0.05, -0.1), np.array([0.1]*2)))\n",
    "\n",
    "conf_df = pd.DataFrame()\n",
    "conf_df['filename'] = undetected_paths\n",
    "num_undetected = len(undetected_paths)\n",
    "\n",
    "col = np.empty(num_undetected)\n",
    "\n",
    "for conf, nms in zip(confs, nmss):    \n",
    "    det.set_conf_and_nms(conf, nms)\n",
    "    print(f\"Set conf={conf}, nms={nms}\")\n",
    "    for i, path in enumerate(tqdm(undetected_paths)):\n",
    "        img = cv.imread(path)\n",
    "        ds = det.detect_image(img)\n",
    "        col[i] = 0 if ds is None else ds.shape[0]\n",
    "    conf_df[f'{conf}/{nms}'] = col\n",
    "    num_detected = col[col > 0].shape[0]\n",
    "    print(f\"Detected {num_detected}/{num_undetected}\")\n",
    "\n",
    "    if num_detected == num_undetected:\n",
    "        print(\"Found detections for all images. Breaking...\")\n",
    "        break"
   ]
  },
  {
   "cell_type": "code",
   "execution_count": 2,
   "metadata": {},
   "outputs": [
    {
     "ename": "NameError",
     "evalue": "name 'conf_df' is not defined",
     "output_type": "error",
     "traceback": [
      "\u001b[0;31m\u001b[0m",
      "\u001b[0;31mNameError\u001b[0mTraceback (most recent call last)",
      "\u001b[0;32m<ipython-input-2-9e1203e8b046>\u001b[0m in \u001b[0;36m<module>\u001b[0;34m\u001b[0m\n\u001b[0;32m----> 1\u001b[0;31m \u001b[0mconf_df\u001b[0m\u001b[0;34m.\u001b[0m\u001b[0mcolumns\u001b[0m\u001b[0;34m\u001b[0m\u001b[0;34m\u001b[0m\u001b[0m\n\u001b[0m",
      "\u001b[0;31mNameError\u001b[0m: name 'conf_df' is not defined"
     ]
    }
   ],
   "source": [
    "conf_df.columns"
   ]
  },
  {
   "cell_type": "code",
   "execution_count": 394,
   "metadata": {},
   "outputs": [],
   "source": [
    "conf_df = conf_df.rename(columns={\"0.7000000000000001/0.4\": \"0.7/0.4\", \"0.6000000000000001/0.30000000000000004\": \"0.6/0.3\", \"0.40000000000000013/0.10000000000000009\": \"0.4/0.1\",\n",
    "                       \"0.30000000000000016/0.1\": \"0.3/0.1\", \"0.20000000000000018/0.1\": \"0.2/0.1\", \"0.5000000000000001/0.20000000000000007\": \"0.5/0.2\"})"
   ]
  },
  {
   "cell_type": "code",
   "execution_count": 400,
   "metadata": {},
   "outputs": [
    {
     "data": {
      "text/plain": [
       "{'0.9/0.6': 0,\n",
       " '0.8/0.5': 0,\n",
       " '0.7/0.4': 0,\n",
       " '0.6/0.3': 0,\n",
       " '0.5/0.2': 0,\n",
       " '0.4/0.1': 0,\n",
       " '0.3/0.1': 0,\n",
       " '0.2/0.1': 0}"
      ]
     },
     "execution_count": 400,
     "metadata": {},
     "output_type": "execute_result"
    }
   ],
   "source": [
    "multiple_dets = {}\n",
    "\n",
    "for col in conf_df.columns:\n",
    "    if col == 'filename': continue\n",
    "    c = conf_df[col]\n",
    "    multiple_dets[col] = c[c > 1.0].shape[0]\n",
    "    \n",
    "multiple_dets"
   ]
  },
  {
   "cell_type": "code",
   "execution_count": 430,
   "metadata": {},
   "outputs": [],
   "source": [
    "def plot_sample_conf(pos_col, neg_col, n):\n",
    "    # find all images that had no detections in neg_col and had detections in pos_col\n",
    "    pos = conf_df[pos_col] > 0.0\n",
    "    neg = conf_df[neg_col] == 0.0\n",
    "    matches = conf_df['filename'][pos & neg].to_numpy()\n",
    "    sample = np.random.choice(matches, n, replace=False)\n",
    "    print(sample)\n",
    "    cols = 3\n",
    "    rows = int(np.ceil(n/cols))\n",
    "    fig, axs = plt.subplots(rows, cols, figsize=(10, rows*3))\n",
    "    for path, ax in zip(sample, axs.reshape(-1)):\n",
    "        img = cv.imread(path)\n",
    "        conf, nms = [float(s) for s in pos_col.split('/')]\n",
    "        det.set_conf_and_nms(conf, nms)\n",
    "        x1, y1, x2, y2, _ = det.detect_image(img)[0]\n",
    "        ax.imshow(img)\n",
    "        ax.add_patch(patches.Rectangle((x1,y1),x2-x1, y2-y1,linewidth=1,edgecolor='r',facecolor='none'))"
   ]
  },
  {
   "cell_type": "code",
   "execution_count": 439,
   "metadata": {},
   "outputs": [
    {
     "name": "stdout",
     "output_type": "stream",
     "text": [
      "['../yolo_fn_frames/line_20200803T101641_trial1_4550.jpg'\n",
      " '../yolo_fn_frames/cockroach_line_20200830T120130_trial1_536.jpg'\n",
      " '../yolo_fn_frames/cockroach_line_20200830T120130_trial1_929.jpg'\n",
      " '../yolo_fn_frames/cockroach_line_20200830T120130_trial1_775.jpg'\n",
      " '../yolo_fn_frames/feeding_4_screen_20200830-130446_None_2769.jpg'\n",
      " '../yolo_fn_frames/feeding_4_screen_20200830-130446_None_2715.jpg'\n",
      " '../yolo_fn_frames/feeding_4_screen_20200830-130446_None_2664.jpg'\n",
      " '../yolo_fn_frames/feeding_4_screen_20200830-130446_None_2690.jpg'\n",
      " '../yolo_fn_frames/cockroach_line_20200830T120130_trial1_667.jpg'\n",
      " '../yolo_fn_frames/line_20200803T101641_trial1_298.jpg'\n",
      " '../yolo_fn_frames/cockroach_line_20200830T120130_trial1_552.jpg'\n",
      " '../yolo_fn_frames/cockroach_line_20200830T120130_trial1_838.jpg'\n",
      " '../yolo_fn_frames/feeding_4_screen_20200830-130446_None_2689.jpg'\n",
      " '../yolo_fn_frames/feeding_4_screen_20200830-130446_None_2703.jpg'\n",
      " '../yolo_fn_frames/cockroach_line_20200830T120130_trial1_756.jpg'\n",
      " '../yolo_fn_frames/cockroach_line_20200830T120130_trial1_923.jpg'\n",
      " '../yolo_fn_frames/feeding_4_screen_20200830-130446_None_2717.jpg'\n",
      " '../yolo_fn_frames/cockroach_line_20200830T120130_trial1_851.jpg'\n",
      " '../yolo_fn_frames/feeding_4_screen_20200830-130446_None_2697.jpg'\n",
      " '../yolo_fn_frames/cockroach_line_20200830T120130_trial1_786.jpg']\n"
     ]
    },
    {
     "data": {
      "application/vnd.jupyter.widget-view+json": {
       "model_id": "844ddf777bdf408fb9d042ba55b2a922",
       "version_major": 2,
       "version_minor": 0
      },
      "text/plain": [
       "Canvas(toolbar=Toolbar(toolitems=[('Home', 'Reset original view', 'home', 'home'), ('Back', 'Back to previous …"
      ]
     },
     "metadata": {},
     "output_type": "display_data"
    }
   ],
   "source": [
    "plot_sample_conf(\"0.2/0.1\", \"0.3/0.1\", 20)"
   ]
  },
  {
   "cell_type": "markdown",
   "metadata": {},
   "source": [
    "### Results:\n",
    "- as far as I can tell, 0.8/0.5 gives good detections. Consider lowering the default.\n",
    "- 0.7/0.4 gives reasonable detections as well. Some bboxes were not so good ('../yolo_fn_frames/feeding_4_screen_20200830-130446_None_2616.jpg')\n",
    "- 0.6/0.3 and 0.5/0.2 looks very similar to the previous one. Bad examples:\n",
    "    - '../yolo_fn_frames/feeding_4_20200830-121143_None_396.jpg'\n",
    "    - '../yolo_fn_frames/feeding_4_screen_20200830-130446_None_2654.jpg'\n",
    "- 0.4/0.1 looks pretty much the same. New arrival: '../yolo_fn_frames/feeding_4_screen_20200830-130446_None_6066.jpg'\n",
    "- It keeps going the same way.\n",
    "\n",
    "### Conclusion:\n",
    "- With 0.9/0.6 we have 2638/249771 = ~1% false negatives.\n",
    "- With 0.8/0.5 we go down to 1484/249771 = ~0.6% false negatives.\n",
    "- Out of these 1484 there were actually ~350 unique frames (the pogona froze in an undetected pose for a long time). Many failures occurred because there were multiple objects in the frame (such as Itai's hand).\n",
    "- We should consider lowering the confidence to 0.8/0.5. We could lower it even more but we might have false positives.\n",
    "- It's probable that adding these images to the training dataset will result in better results."
   ]
  }
 ],
 "metadata": {
  "kernelspec": {
   "display_name": "Python [conda env:py37]",
   "language": "python",
   "name": "conda-env-py37-py"
  },
  "language_info": {
   "codemirror_mode": {
    "name": "ipython",
    "version": 3
   },
   "file_extension": ".py",
   "mimetype": "text/x-python",
   "name": "python",
   "nbconvert_exporter": "python",
   "pygments_lexer": "ipython3",
   "version": "3.7.7"
  }
 },
 "nbformat": 4,
 "nbformat_minor": 4
}
