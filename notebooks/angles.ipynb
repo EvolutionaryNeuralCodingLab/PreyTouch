{
 "cells": [
  {
   "cell_type": "code",
   "execution_count": 1,
   "metadata": {
    "collapsed": true,
    "pycharm": {
     "name": "#%%\n"
    }
   },
   "outputs": [],
   "source": [
    "\n",
    "import cv2\n",
    "import numpy as np\n",
    "import pandas as pd\n",
    "import pickle\n",
    "import matplotlib.pyplot as plt\n",
    "import os\n",
    "from pathlib import Path\n",
    "if Path('.').resolve().name != 'Arena':\n",
    "    os.chdir('../Arena')\n",
    "from analysis.pose import ArenaPose"
   ]
  },
  {
   "cell_type": "code",
   "execution_count": 2,
   "outputs": [],
   "source": [
    "ap = ArenaPose('front', 'deeplabcut')"
   ],
   "metadata": {
    "collapsed": false,
    "pycharm": {
     "name": "#%%\n"
    }
   }
  },
  {
   "cell_type": "code",
   "execution_count": 5,
   "outputs": [
    {
     "data": {
      "text/plain": "[PosixPath('../output/experiments/PV80/20221126/block1/videos/front_20221126T112536.mp4'),\n PosixPath('../output/experiments/PV80/20221126/block2/videos/front_20221126T113356.mp4'),\n PosixPath('../output/experiments/PV80/20221126/block4/videos/front_20221126T121008.mp4'),\n PosixPath('../output/experiments/PV80/20221126/block5/videos/front_20221126T121826.mp4'),\n PosixPath('../output/experiments/PV80/20221126/block6/videos/front_20221126T122642.mp4'),\n PosixPath('../output/experiments/PV80/20221126/block8/videos/front_20221126T131828.mp4'),\n PosixPath('../output/experiments/PV80/20221126/block9/videos/front_20221126T132646.mp4'),\n PosixPath('../output/experiments/PV80/20221126/block10/videos/front_20221126T141010.mp4'),\n PosixPath('../output/experiments/PV80/20221126/block11/videos/front_20221126T141828.mp4'),\n PosixPath('../output/experiments/PV80/20221126/block12/videos/front_20221126T142701.mp4'),\n PosixPath('../output/experiments/PV80/20221126/block13/videos/front_20221126T151008.mp4'),\n PosixPath('../output/experiments/PV80/20221126/block14/videos/front_20221126T151825.mp4'),\n PosixPath('../output/experiments/PV80/20221126/block15/videos/front_20221126T152644.mp4'),\n PosixPath('../output/experiments/PV80/20221126/block16/videos/front_20221126T161008.mp4'),\n PosixPath('../output/experiments/PV80/20221126/block17/videos/front_20221126T161828.mp4'),\n PosixPath('../output/experiments/PV80/20221126/block18/videos/front_20221126T162647.mp4'),\n PosixPath('../output/experiments/PV80/20221126/block19/videos/front_20221126T171010.mp4'),\n PosixPath('../output/experiments/PV80/20221126/block20/videos/front_20221126T171828.mp4'),\n PosixPath('../output/experiments/PV80/20221126/block21/videos/front_20221126T172647.mp4'),\n PosixPath('../output/experiments/PV80/20221127/block12/videos/front_20221127T133017.mp4'),\n PosixPath('../output/experiments/PV80/20221127/block17/videos/front_20221127T144017.mp4'),\n PosixPath('../output/experiments/PV80/20221127/block20/videos/front_20221127T153004.mp4'),\n PosixPath('../output/experiments/PV80/20221127/block24/videos/front_20221127T163004.mp4'),\n PosixPath('../output/experiments/PV80/20221128/block1/videos/front_20221128T092025.mp4'),\n PosixPath('../output/experiments/PV80/20221128/block2/videos/front_20221128T132631.mp4'),\n PosixPath('../output/experiments/PV80/20221128/block3/videos/front_20221128T133202.mp4'),\n PosixPath('../output/experiments/PV80/20221128/block3/videos/front_20221128T134203.mp4'),\n PosixPath('../output/experiments/PV80/20221128/block3/videos/front_20221128T135203.mp4'),\n PosixPath('../output/experiments/PV80/20221128/block4/videos/front_20221128T140450.mp4'),\n PosixPath('../output/experiments/PV80/20221128/block5/videos/front_20221128T144701.mp4'),\n PosixPath('../output/experiments/PV80/20221128/block6/videos/front_20221128T145544.mp4'),\n PosixPath('../output/experiments/PV80/20221128/block7/videos/front_20221128T150419.mp4'),\n PosixPath('../output/experiments/PV80/20221128/block8/videos/front_20221128T151315.mp4'),\n PosixPath('../output/experiments/PV80/20221128/block9/videos/front_20221128T152006.mp4'),\n PosixPath('../output/experiments/PV80/20221128/block10/videos/front_20221128T152930.mp4'),\n PosixPath('../output/experiments/PV80/20221128/block11/videos/front_20221128T153853.mp4'),\n PosixPath('../output/experiments/PV80/20221128/block12/videos/front_20221128T154714.mp4'),\n PosixPath('../output/experiments/PV80/20221207/block1/videos/front_20221207T095329.mp4'),\n PosixPath('../output/experiments/PV80/20221207/block2/videos/front_20221207T100233.mp4'),\n PosixPath('../output/experiments/PV80/20221207/block3/videos/front_20221207T101122.mp4'),\n PosixPath('../output/experiments/PV80/20221207/block4/videos/front_20221207T101939.mp4'),\n PosixPath('../output/experiments/PV80/20221207/block5/videos/front_20221207T130239.mp4'),\n PosixPath('../output/experiments/PV80/20221207/block6/videos/front_20221207T131058.mp4'),\n PosixPath('../output/experiments/PV80/20221215/block1/videos/front_20221215T102421.mp4'),\n PosixPath('../output/experiments/PV80/20221215/block2/videos/front_20221215T183722.mp4'),\n PosixPath('../output/experiments/PV80/20221218/block1/videos/front_20221218T112505.mp4'),\n PosixPath('../output/experiments/PV80/20221218/block2/videos/front_20221218T112813.mp4'),\n PosixPath('../output/experiments/PV80/20221218/block3/videos/front_20221218T145946.mp4'),\n PosixPath('../output/experiments/PV80/20221218/block4/videos/front_20221218T150650.mp4'),\n PosixPath('../output/experiments/PV80/20221218/block5/videos/front_20221218T151351.mp4'),\n PosixPath('../output/experiments/PV80/20221218/block6/videos/front_20221218T152052.mp4'),\n PosixPath('../output/experiments/PV80/20221220/block1/videos/front_20221220T155850.mp4'),\n PosixPath('../output/experiments/PV80/20221220/block2/videos/front_20221220T160550.mp4'),\n PosixPath('../output/experiments/PV80/20221220/block3/videos/front_20221220T161247.mp4'),\n PosixPath('../output/experiments/PV80/20221220/block4/videos/front_20221220T161937.mp4'),\n PosixPath('../output/experiments/PV80/20230130/block1/videos/front_20230130T090916.mp4'),\n PosixPath('../output/experiments/PV80/20230130/block2/videos/front_20230130T092801.mp4'),\n PosixPath('../output/experiments/PV80/20230130/block3/videos/front_20230130T101044.mp4'),\n PosixPath('../output/experiments/PV80/20230130/block4/videos/front_20230130T132944.mp4'),\n PosixPath('../output/experiments/PV80/20230130/block5/videos/front_20230130T140411.mp4'),\n PosixPath('../output/experiments/PV80/20230130/block6/videos/front_20230130T164648.mp4'),\n PosixPath('../output/experiments/PV80/20230202/block1/videos/front_20230202T100035.mp4'),\n PosixPath('../output/experiments/PV80/20230202/block2/videos/front_20230202T120035.mp4'),\n PosixPath('../output/experiments/PV80/20230202/block3/videos/front_20230202T130035.mp4'),\n PosixPath('../output/experiments/PV80/20230202/block4/videos/front_20230202T140035.mp4'),\n PosixPath('../output/experiments/PV80/20230202/block5/videos/front_20230202T150035.mp4')]"
     },
     "execution_count": 5,
     "metadata": {},
     "output_type": "execute_result"
    }
   ],
   "source": [
    "exp_dir = '../output/experiments/PV80'\n",
    "videos = list(Path(exp_dir).rglob('*.mp4')) + list(Path(exp_dir).rglob('*.avi'))\n",
    "videos = [v for v in videos if 'front' in v.name and ap.get_predicted_cache_path(v).exists()]\n",
    "videos = sorted(videos, key=lambda x: x.stem.split('_')[1])\n",
    "videos"
   ],
   "metadata": {
    "collapsed": false,
    "pycharm": {
     "name": "#%%\n"
    }
   }
  },
  {
   "cell_type": "code",
   "execution_count": 6,
   "outputs": [
    {
     "data": {
      "text/plain": "        left_ear                              nose                        \\\n           cam_x       cam_y      prob       cam_x       cam_y      prob   \n0     804.053162  108.034637  0.849663  675.697937   70.124275  0.014824   \n1     805.352356  107.168114  0.949083  777.429871  125.789452  0.014845   \n2     807.108704  106.105415  0.922115  492.459900    2.250166  0.012374   \n3     807.599792  106.435974  0.948555  776.382019  131.063736  0.013475   \n4     807.219788  106.979240  0.959419  776.151062  130.885513  0.022431   \n...          ...         ...       ...         ...         ...       ...   \n3385  583.906372    2.653002  0.108534  490.684082    4.375213  0.307732   \n3386  583.914917    2.653224  0.108414  490.687622    4.371529  0.307740   \n3387  583.917725    2.654823  0.109125  490.685272    4.382696  0.309407   \n3388  583.913391    2.654274  0.108085  490.680237    4.372394  0.307441   \n3389  583.911621    2.651568  0.107636  490.543884    4.369622  0.317528   \n\n       right_ear                       \n           cam_x      cam_y      prob  \n0     742.039795  88.260811  0.022165  \n1     744.182983  86.431641  0.192092  \n2     743.937744  82.992607  0.200793  \n3     745.902283  84.200920  0.219509  \n4     746.644409  84.608818  0.270109  \n...          ...        ...       ...  \n3385  601.496216   3.505096  0.026705  \n3386  601.506409   3.506500  0.026764  \n3387  601.531128   3.490712  0.026583  \n3388  601.496521   3.476666  0.026362  \n3389  601.475342   3.472818  0.026377  \n\n[3390 rows x 9 columns]",
      "text/html": "<div>\n<style scoped>\n    .dataframe tbody tr th:only-of-type {\n        vertical-align: middle;\n    }\n\n    .dataframe tbody tr th {\n        vertical-align: top;\n    }\n\n    .dataframe thead tr th {\n        text-align: left;\n    }\n</style>\n<table border=\"1\" class=\"dataframe\">\n  <thead>\n    <tr>\n      <th></th>\n      <th colspan=\"3\" halign=\"left\">left_ear</th>\n      <th colspan=\"3\" halign=\"left\">nose</th>\n      <th colspan=\"3\" halign=\"left\">right_ear</th>\n    </tr>\n    <tr>\n      <th></th>\n      <th>cam_x</th>\n      <th>cam_y</th>\n      <th>prob</th>\n      <th>cam_x</th>\n      <th>cam_y</th>\n      <th>prob</th>\n      <th>cam_x</th>\n      <th>cam_y</th>\n      <th>prob</th>\n    </tr>\n  </thead>\n  <tbody>\n    <tr>\n      <th>0</th>\n      <td>804.053162</td>\n      <td>108.034637</td>\n      <td>0.849663</td>\n      <td>675.697937</td>\n      <td>70.124275</td>\n      <td>0.014824</td>\n      <td>742.039795</td>\n      <td>88.260811</td>\n      <td>0.022165</td>\n    </tr>\n    <tr>\n      <th>1</th>\n      <td>805.352356</td>\n      <td>107.168114</td>\n      <td>0.949083</td>\n      <td>777.429871</td>\n      <td>125.789452</td>\n      <td>0.014845</td>\n      <td>744.182983</td>\n      <td>86.431641</td>\n      <td>0.192092</td>\n    </tr>\n    <tr>\n      <th>2</th>\n      <td>807.108704</td>\n      <td>106.105415</td>\n      <td>0.922115</td>\n      <td>492.459900</td>\n      <td>2.250166</td>\n      <td>0.012374</td>\n      <td>743.937744</td>\n      <td>82.992607</td>\n      <td>0.200793</td>\n    </tr>\n    <tr>\n      <th>3</th>\n      <td>807.599792</td>\n      <td>106.435974</td>\n      <td>0.948555</td>\n      <td>776.382019</td>\n      <td>131.063736</td>\n      <td>0.013475</td>\n      <td>745.902283</td>\n      <td>84.200920</td>\n      <td>0.219509</td>\n    </tr>\n    <tr>\n      <th>4</th>\n      <td>807.219788</td>\n      <td>106.979240</td>\n      <td>0.959419</td>\n      <td>776.151062</td>\n      <td>130.885513</td>\n      <td>0.022431</td>\n      <td>746.644409</td>\n      <td>84.608818</td>\n      <td>0.270109</td>\n    </tr>\n    <tr>\n      <th>...</th>\n      <td>...</td>\n      <td>...</td>\n      <td>...</td>\n      <td>...</td>\n      <td>...</td>\n      <td>...</td>\n      <td>...</td>\n      <td>...</td>\n      <td>...</td>\n    </tr>\n    <tr>\n      <th>3385</th>\n      <td>583.906372</td>\n      <td>2.653002</td>\n      <td>0.108534</td>\n      <td>490.684082</td>\n      <td>4.375213</td>\n      <td>0.307732</td>\n      <td>601.496216</td>\n      <td>3.505096</td>\n      <td>0.026705</td>\n    </tr>\n    <tr>\n      <th>3386</th>\n      <td>583.914917</td>\n      <td>2.653224</td>\n      <td>0.108414</td>\n      <td>490.687622</td>\n      <td>4.371529</td>\n      <td>0.307740</td>\n      <td>601.506409</td>\n      <td>3.506500</td>\n      <td>0.026764</td>\n    </tr>\n    <tr>\n      <th>3387</th>\n      <td>583.917725</td>\n      <td>2.654823</td>\n      <td>0.109125</td>\n      <td>490.685272</td>\n      <td>4.382696</td>\n      <td>0.309407</td>\n      <td>601.531128</td>\n      <td>3.490712</td>\n      <td>0.026583</td>\n    </tr>\n    <tr>\n      <th>3388</th>\n      <td>583.913391</td>\n      <td>2.654274</td>\n      <td>0.108085</td>\n      <td>490.680237</td>\n      <td>4.372394</td>\n      <td>0.307441</td>\n      <td>601.496521</td>\n      <td>3.476666</td>\n      <td>0.026362</td>\n    </tr>\n    <tr>\n      <th>3389</th>\n      <td>583.911621</td>\n      <td>2.651568</td>\n      <td>0.107636</td>\n      <td>490.543884</td>\n      <td>4.369622</td>\n      <td>0.317528</td>\n      <td>601.475342</td>\n      <td>3.472818</td>\n      <td>0.026377</td>\n    </tr>\n  </tbody>\n</table>\n<p>3390 rows × 9 columns</p>\n</div>"
     },
     "execution_count": 6,
     "metadata": {},
     "output_type": "execute_result"
    }
   ],
   "source": [
    "ap.load_predicted_video(videos[-1])"
   ],
   "metadata": {
    "collapsed": false,
    "pycharm": {
     "name": "#%%\n"
    }
   }
  },
  {
   "cell_type": "code",
   "execution_count": null,
   "outputs": [],
   "source": [],
   "metadata": {
    "collapsed": false,
    "pycharm": {
     "name": "#%%\n"
    }
   }
  }
 ],
 "metadata": {
  "kernelspec": {
   "display_name": "Python 3",
   "language": "python",
   "name": "python3"
  },
  "language_info": {
   "codemirror_mode": {
    "name": "ipython",
    "version": 2
   },
   "file_extension": ".py",
   "mimetype": "text/x-python",
   "name": "python",
   "nbconvert_exporter": "python",
   "pygments_lexer": "ipython2",
   "version": "2.7.6"
  }
 },
 "nbformat": 4,
 "nbformat_minor": 0
}