{
 "cells": [
  {
   "cell_type": "code",
   "id": "initial_id",
   "metadata": {
    "collapsed": true,
    "ExecuteTime": {
     "end_time": "2025-01-09T13:48:39.526625Z",
     "start_time": "2025-01-09T13:48:39.524271Z"
    }
   },
   "source": [
    "from pathlib import Path\n",
    "import os\n",
    "from tqdm.auto import tqdm\n",
    "if Path('.').resolve().name != 'Arena':\n",
    "    os.chdir('../Arena')\n",
    "from db_models import ORM, Experiment, Strike, Block, Video, Trial, VideoPrediction"
   ],
   "outputs": [],
   "execution_count": 3
  },
  {
   "metadata": {
    "ExecuteTime": {
     "end_time": "2025-01-09T13:48:15.528470Z",
     "start_time": "2025-01-09T13:48:15.525341Z"
    }
   },
   "cell_type": "code",
   "source": "orm = ORM()",
   "id": "e061e28edcf6549e",
   "outputs": [],
   "execution_count": 2
  },
  {
   "metadata": {},
   "cell_type": "markdown",
   "source": "## change Pogona_Pursuit to PreyTouch",
   "id": "e3fe7f37f6ac0fa3"
  },
  {
   "metadata": {
    "ExecuteTime": {
     "end_time": "2025-01-09T14:07:37.918055Z",
     "start_time": "2025-01-09T13:51:37.424968Z"
    }
   },
   "cell_type": "code",
   "source": [
    "with orm.session() as s:\n",
    "    for exp in tqdm(s.query(Experiment).all()):\n",
    "        for blk in exp.blocks:\n",
    "            for vid in blk.videos:\n",
    "                vid.path = vid.path.replace('Pogona_Pursuit', 'PreyTouch')\n",
    "        s.commit()"
   ],
   "id": "f861a32ce01dd58",
   "outputs": [
    {
     "name": "stderr",
     "output_type": "stream",
     "text": [
      "100%|██████████| 861/861 [16:00<00:00,  1.12s/it]\n"
     ]
    }
   ],
   "execution_count": 4
  },
  {
   "metadata": {},
   "cell_type": "code",
   "outputs": [],
   "execution_count": null,
   "source": "",
   "id": "3e3bed109ff09c54"
  }
 ],
 "metadata": {
  "kernelspec": {
   "display_name": "Python 3",
   "language": "python",
   "name": "python3"
  },
  "language_info": {
   "codemirror_mode": {
    "name": "ipython",
    "version": 2
   },
   "file_extension": ".py",
   "mimetype": "text/x-python",
   "name": "python",
   "nbconvert_exporter": "python",
   "pygments_lexer": "ipython2",
   "version": "2.7.6"
  }
 },
 "nbformat": 4,
 "nbformat_minor": 5
}
