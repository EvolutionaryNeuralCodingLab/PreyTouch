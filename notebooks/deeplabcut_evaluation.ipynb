{
 "cells": [
  {
   "cell_type": "code",
   "execution_count": 1,
   "metadata": {
    "collapsed": true,
    "ExecuteTime": {
     "end_time": "2023-07-17T12:39:01.831147166Z",
     "start_time": "2023-07-17T12:39:01.523012290Z"
    }
   },
   "outputs": [],
   "source": [
    "%load_ext autoreload\n",
    "%autoreload 2\n",
    "import pandas as pd\n",
    "import numpy as np\n",
    "import matplotlib.pyplot as plt\n",
    "from matplotlib.colors import TABLEAU_COLORS, CSS4_COLORS\n",
    "from tqdm.auto import tqdm\n",
    "import seaborn as sns\n",
    "from pathlib import Path\n",
    "import cv2\n",
    "import matplotlib as mpl\n",
    "import os\n",
    "if Path('.').resolve().name != 'Arena':\n",
    "    os.chdir('../Arena')\n",
    "from db_models import ORM, Experiment, Strike, Block, Video, Trial\n",
    "from analysis.pose_utils import plot_regression, colorline\n",
    "from analysis.strikes.strikes import Loader, StrikeAnalyzer"
   ]
  },
  {
   "cell_type": "code",
   "execution_count": 2,
   "outputs": [],
   "source": [
    "orm = ORM()"
   ],
   "metadata": {
    "collapsed": false,
    "ExecuteTime": {
     "end_time": "2023-07-17T12:39:17.962191721Z",
     "start_time": "2023-07-17T12:39:17.950809065Z"
    }
   }
  },
  {
   "cell_type": "code",
   "execution_count": 10,
   "outputs": [
    {
     "data": {
      "text/plain": "     strike_id animal_id                                              video\n0           10     PV144  /data/Pogona_Pursuit/output/experiments/PV144/...\n1           13     PV144  /data/Pogona_Pursuit/output/experiments/PV144/...\n2           15     PV144  /data/Pogona_Pursuit/output/experiments/PV144/...\n3           16     PV144  /data/Pogona_Pursuit/output/experiments/PV144/...\n4           19     PV119  /data/Pogona_Pursuit/output/experiments/PV119/...\n..         ...       ...                                                ...\n961       2507      PV99  /data/Pogona_Pursuit/output/experiments/PV99/2...\n962       2526      PV99  /data/Pogona_Pursuit/output/experiments/PV99/2...\n963       2532      PV99  /data/Pogona_Pursuit/output/experiments/PV99/2...\n964       2534      PV99  /data/Pogona_Pursuit/output/experiments/PV99/2...\n965       2536      PV99  /data/Pogona_Pursuit/output/experiments/PV99/2...\n\n[966 rows x 3 columns]",
      "text/html": "<div>\n<style scoped>\n    .dataframe tbody tr th:only-of-type {\n        vertical-align: middle;\n    }\n\n    .dataframe tbody tr th {\n        vertical-align: top;\n    }\n\n    .dataframe thead th {\n        text-align: right;\n    }\n</style>\n<table border=\"1\" class=\"dataframe\">\n  <thead>\n    <tr style=\"text-align: right;\">\n      <th></th>\n      <th>strike_id</th>\n      <th>animal_id</th>\n      <th>video</th>\n    </tr>\n  </thead>\n  <tbody>\n    <tr>\n      <th>0</th>\n      <td>10</td>\n      <td>PV144</td>\n      <td>/data/Pogona_Pursuit/output/experiments/PV144/...</td>\n    </tr>\n    <tr>\n      <th>1</th>\n      <td>13</td>\n      <td>PV144</td>\n      <td>/data/Pogona_Pursuit/output/experiments/PV144/...</td>\n    </tr>\n    <tr>\n      <th>2</th>\n      <td>15</td>\n      <td>PV144</td>\n      <td>/data/Pogona_Pursuit/output/experiments/PV144/...</td>\n    </tr>\n    <tr>\n      <th>3</th>\n      <td>16</td>\n      <td>PV144</td>\n      <td>/data/Pogona_Pursuit/output/experiments/PV144/...</td>\n    </tr>\n    <tr>\n      <th>4</th>\n      <td>19</td>\n      <td>PV119</td>\n      <td>/data/Pogona_Pursuit/output/experiments/PV119/...</td>\n    </tr>\n    <tr>\n      <th>...</th>\n      <td>...</td>\n      <td>...</td>\n      <td>...</td>\n    </tr>\n    <tr>\n      <th>961</th>\n      <td>2507</td>\n      <td>PV99</td>\n      <td>/data/Pogona_Pursuit/output/experiments/PV99/2...</td>\n    </tr>\n    <tr>\n      <th>962</th>\n      <td>2526</td>\n      <td>PV99</td>\n      <td>/data/Pogona_Pursuit/output/experiments/PV99/2...</td>\n    </tr>\n    <tr>\n      <th>963</th>\n      <td>2532</td>\n      <td>PV99</td>\n      <td>/data/Pogona_Pursuit/output/experiments/PV99/2...</td>\n    </tr>\n    <tr>\n      <th>964</th>\n      <td>2534</td>\n      <td>PV99</td>\n      <td>/data/Pogona_Pursuit/output/experiments/PV99/2...</td>\n    </tr>\n    <tr>\n      <th>965</th>\n      <td>2536</td>\n      <td>PV99</td>\n      <td>/data/Pogona_Pursuit/output/experiments/PV99/2...</td>\n    </tr>\n  </tbody>\n</table>\n<p>966 rows × 3 columns</p>\n</div>"
     },
     "execution_count": 10,
     "metadata": {},
     "output_type": "execute_result"
    }
   ],
   "source": [
    "def load_data(is_hits_only=True):\n",
    "    filters = [\n",
    "        Experiment.arena.in_(['reptilearn4', 'msi-regev']),\n",
    "        Experiment.animal_id.startswith('PV'),\n",
    "        Experiment.start_time > '2023-04-18',\n",
    "    ]\n",
    "    if is_hits_only:\n",
    "        filters.append(Strike.is_hit)\n",
    "    with orm.session() as s:\n",
    "        orm_res = s.query(Strike, Block, Experiment).join(Block, Block.id == Strike.block_id).join(Experiment, Experiment.id == Block.experiment_id).filter(*filters).all()\n",
    "        df_ = []\n",
    "        for strk, blk, exp in tqdm(orm_res):\n",
    "            video_path = None\n",
    "            vids = [v for v in blk.videos if v.cam_name == 'front']\n",
    "            if len(vids) == 1:\n",
    "                video_path = vids[0].path\n",
    "\n",
    "            ld = Loader(int(strk.id), 'front', orm=orm, sec_before=0, sec_after=30, is_debug=False)\n",
    "            predicted_percent = (~ld.frames_df.nose.cam_x.isna()).sum() / len(ld.frames_df)\n",
    "\n",
    "            df_.append({'strike_id': strk.id, 'animal_id': exp.animal_id, 'video': video_path,\n",
    "                        'predicted_percent': predicted_percent})\n",
    "    return pd.DataFrame(df_)\n",
    "\n",
    "df = load_data()\n",
    "df"
   ],
   "metadata": {
    "collapsed": false,
    "ExecuteTime": {
     "end_time": "2023-07-17T12:53:15.582817769Z",
     "start_time": "2023-07-17T12:53:10.893661553Z"
    }
   }
  },
  {
   "cell_type": "code",
   "execution_count": 27,
   "outputs": [
    {
     "data": {
      "text/plain": "<AxesSubplot:>"
     },
     "execution_count": 27,
     "metadata": {},
     "output_type": "execute_result"
    },
    {
     "data": {
      "text/plain": "<Figure size 640x480 with 1 Axes>",
      "image/png": "[encoded data removed]"
     },
     "metadata": {},
     "output_type": "display_data"
    }
   ],
   "source": [
    "df.predicted_percent.hist()"
   ],
   "metadata": {
    "collapsed": false,
    "ExecuteTime": {
     "end_time": "2023-07-17T13:11:22.028728018Z",
     "start_time": "2023-07-17T13:11:21.659557679Z"
    }
   }
  },
  {
   "cell_type": "code",
   "execution_count": 21,
   "outputs": [
    {
     "data": {
      "text/plain": "(0, 10)"
     },
     "execution_count": 21,
     "metadata": {},
     "output_type": "execute_result"
    }
   ],
   "source": [],
   "metadata": {
    "collapsed": false,
    "ExecuteTime": {
     "end_time": "2023-07-17T13:04:46.544738017Z",
     "start_time": "2023-07-17T13:04:46.515524442Z"
    }
   }
  }
 ],
 "metadata": {
  "kernelspec": {
   "display_name": "Python 3",
   "language": "python",
   "name": "python3"
  },
  "language_info": {
   "codemirror_mode": {
    "name": "ipython",
    "version": 2
   },
   "file_extension": ".py",
   "mimetype": "text/x-python",
   "name": "python",
   "nbconvert_exporter": "python",
   "pygments_lexer": "ipython2",
   "version": "2.7.6"
  }
 },
 "nbformat": 4,
 "nbformat_minor": 0
}
