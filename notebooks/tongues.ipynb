{
 "cells": [
  {
   "metadata": {
    "ExecuteTime": {
     "end_time": "2024-09-30T07:20:43.591461Z",
     "start_time": "2024-09-30T07:20:43.587399Z"
    }
   },
   "cell_type": "code",
   "source": [
    "import cv2\n",
    "import pandas as pd\n",
    "import numpy as np\n",
    "import pickle\n",
    "import matplotlib.pyplot as plt\n",
    "import seaborn as sns\n",
    "from pathlib import Path\n",
    "from tqdm.auto import tqdm\n",
    "import os\n",
    "if Path('.').resolve().name != 'Arena':\n",
    "    os.chdir('../Arena')\n",
    "from analysis.predictors.tongue_out import TongueTrainer\n",
    "from analysis.strikes.loader import Loader\n",
    "from config import load_configuration\n",
    "from db_models import ORM, Video, Experiment, Block, Trial, Strike"
   ],
   "id": "ffd18161c2d2722d",
   "outputs": [],
   "execution_count": 38
  },
  {
   "metadata": {
    "ExecuteTime": {
     "end_time": "2024-09-30T07:23:51.862786Z",
     "start_time": "2024-09-30T07:23:51.860682Z"
    }
   },
   "cell_type": "code",
   "source": "MAIN_FOLDER = '/media/sil2/Data/regev/datasets/predictive_tongues'",
   "id": "9e2037b6ab6f4337",
   "outputs": [],
   "execution_count": 39
  },
  {
   "metadata": {
    "ExecuteTime": {
     "end_time": "2024-09-30T07:45:32.864494Z",
     "start_time": "2024-09-30T07:45:32.300305Z"
    }
   },
   "cell_type": "code",
   "source": [
    "circle_speed_dict = {3: 2, 6: 4, 8: 6, 11: 8, 17: 10, 23: 12}\n",
    "\n",
    "def get_bug_speed(tr, movement_type):\n",
    "    bug_speed = None\n",
    "    if tr.bug_trajectory is not None:\n",
    "        bug_traj = pd.DataFrame(tr.bug_trajectory)\n",
    "        dx = np.sqrt(bug_traj.x.diff() ** 2 + bug_traj.y.diff() ** 2)\n",
    "        dx = round(dx)\n",
    "        dx = dx[dx>0]\n",
    "        vc = pd.Series(dx).value_counts(normalize=True)\n",
    "        if movement_type in ['low_horizontal', 'low_horizontal_noise']:\n",
    "            bug_speed = 6\n",
    "        elif movement_type in ['jump_up', 'accelerate', 'accelerate_bad', 'rect_tunnel']:\n",
    "            bug_speed = 5\n",
    "        elif vc.iloc[0] > 0.5:\n",
    "            bug_speed = vc.index[0]\n",
    "            if movement_type == 'circle':\n",
    "                bug_speed = circle_speed_dict.get(bug_speed, bug_speed)\n",
    "    return bug_speed\n",
    "\n",
    "\n",
    "def get_strikes_df(animal_id, movement_type):\n",
    "    orm = ORM()\n",
    "    sdf = []\n",
    "    with orm.session() as s:\n",
    "        orm_res = s.query(Strike, Trial, Block, Experiment).join(\n",
    "            Trial, Trial.id == Strike.trial_id).join(\n",
    "            Block, Block.id == Trial.block_id).join(\n",
    "            Experiment, Experiment.id == Block.experiment_id).filter(\n",
    "            Experiment.animal_id == animal_id,\n",
    "            Experiment.start_time > '2023-04-18',\n",
    "            Block.movement_type == movement_type,\n",
    "        ).all()\n",
    "        for strk, tr, blk, exp in orm_res:\n",
    "            if tr.bug_trajectory is None or strk.is_climbing:\n",
    "                continue\n",
    "            sdf.append({'id': strk.id, 'bug_type': strk.bug_type, 'is_hit': strk.is_hit, \n",
    "                        'bug_speed': get_bug_speed(tr, movement_type),\n",
    "                        'strike_x': strk.x, 'strike_y': strk.y, 'bug_x': strk.bug_x, 'bug_y': strk.bug_y})\n",
    "    sdf = pd.DataFrame(sdf)\n",
    "    return sdf\n",
    "\n",
    "\n",
    "def get_tongue_frame_before_strike(fdf, threshold=0.85, counter_lim=2):\n",
    "    counter = 0\n",
    "    frames_before = None\n",
    "    for i, j in enumerate(fdf.index[::-1]):\n",
    "        if fdf.loc[j, 'prob'] >= threshold:\n",
    "            counter += 1\n",
    "        else:\n",
    "            if counter >= counter_lim:\n",
    "                frames_before = i + 1\n",
    "                break\n",
    "            counter = 0\n",
    "    return frames_before\n",
    "\n",
    "\n",
    "strikes_df = get_strikes_df('PV91', 'circle')\n",
    "strikes_df.bug_speed.value_counts()"
   ],
   "id": "ff43488c0ae09502",
   "outputs": [
    {
     "data": {
      "text/plain": [
       "6    142\n",
       "8     41\n",
       "4     31\n",
       "2     28\n",
       "Name: bug_speed, dtype: int64"
      ]
     },
     "execution_count": 60,
     "metadata": {},
     "output_type": "execute_result"
    }
   ],
   "execution_count": 60
  },
  {
   "metadata": {
    "ExecuteTime": {
     "end_time": "2024-09-30T08:32:30.845087Z",
     "start_time": "2024-09-30T08:27:30.301311Z"
    }
   },
   "cell_type": "code",
   "source": [
    "def run_predictive_tongue_analysis(animal_id, movement_type, is_cache=True):\n",
    "    filename = f'{MAIN_FOLDER}/{animal_id}_{movement_type}.pkl'\n",
    "    if is_cache and Path(filename).exists():\n",
    "        with open(filename, 'rb') as f:\n",
    "            res = pickle.load(f)\n",
    "    else:\n",
    "        strikes_df = get_strikes_df(animal_id, movement_type)\n",
    "        conf = load_configuration('predict')\n",
    "        tr = TongueTrainer(model_path=conf['tongue_out']['model_path'])\n",
    "        res = {}\n",
    "        for i, row in tqdm(strikes_df.iterrows(), total=len(strikes_df)):\n",
    "            strike_id = int(row['id'])\n",
    "            try:\n",
    "                ld = Loader(strike_id, 'front')\n",
    "                frames_df = []\n",
    "                for frame_id, frame in ld.gen_frames_around_strike(n_frames_back=60):\n",
    "                    label, prob = tr.predict(frame)\n",
    "                    frames_df.append({'frame_id': frame_id, 'label': label, 'prob': prob})\n",
    "                frames_df = pd.DataFrame(frames_df)\n",
    "                res[strike_id] = (frames_df, row)\n",
    "            except Exception as e:\n",
    "                print(f'ERROR strike_id={strike_id}: {e}')\n",
    "        with open(filename, 'wb') as f:\n",
    "            pickle.dump(res, f)\n",
    "    return res\n",
    "\n",
    "strikes_res = run_predictive_tongue_analysis('PV163', 'circle')"
   ],
   "id": "eb478f1a052ce97f",
   "outputs": [
    {
     "name": "stdout",
     "output_type": "stream",
     "text": [
      "model analysis.predictors.tongue_out load from: /data/Pogona_Pursuit/output/models/tongue_out/20230518_145847\n"
     ]
    },
    {
     "data": {
      "text/plain": [
       "  0%|          | 0/111 [00:00<?, ?it/s]"
      ],
      "application/vnd.jupyter.widget-view+json": {
       "version_major": 2,
       "version_minor": 0,
       "model_id": "e35f0853800f4804966a5db50b316a94"
      },
      "application/json": {
       "n": 0,
       "total": 111,
       "elapsed": 0.0036420822143554688,
       "ncols": null,
       "nrows": null,
       "prefix": "",
       "ascii": false,
       "unit": "it",
       "unit_scale": false,
       "rate": null,
       "bar_format": null,
       "postfix": null,
       "unit_divisor": 1000,
       "initial": 0,
       "colour": null
      }
     },
     "metadata": {},
     "output_type": "display_data"
    }
   ],
   "execution_count": 66
  },
  {
   "metadata": {
    "ExecuteTime": {
     "end_time": "2024-09-30T08:32:31.772113Z",
     "start_time": "2024-09-30T08:32:31.605009Z"
    }
   },
   "cell_type": "code",
   "source": [
    "tdf = []\n",
    "for strike_id, (frames_df, r) in strikes_res.items():\n",
    "    dx = get_tongue_frame_before_strike(frames_df, threshold=0.8, counter_lim=3)\n",
    "    tdf.append({'strike_id': strike_id, 'frames_before': dx, 'bug_speed': r.bug_speed})\n",
    "tdf = pd.DataFrame(tdf)\n",
    "\n",
    "sns.barplot(data=tdf, x='bug_speed', y='frames_before')"
   ],
   "id": "23bac4999233eec",
   "outputs": [
    {
     "data": {
      "text/plain": [
       "<AxesSubplot:xlabel='bug_speed', ylabel='frames_before'>"
      ]
     },
     "execution_count": 71,
     "metadata": {},
     "output_type": "execute_result"
    },
    {
     "data": {
      "text/plain": [
       "<Figure size 640x480 with 1 Axes>"
      ],
      "image/png": "[encoded data removed]"
     },
     "metadata": {},
     "output_type": "display_data"
    }
   ],
   "execution_count": 71
  },
  {
   "metadata": {
    "ExecuteTime": {
     "end_time": "2024-09-30T07:27:53.744276Z",
     "start_time": "2024-09-30T07:27:53.438886Z"
    }
   },
   "cell_type": "code",
   "source": "strikes_df = get_strikes_df('PV163', 'circle')",
   "id": "d7a7850698b486a2",
   "outputs": [],
   "execution_count": 41
  },
  {
   "metadata": {
    "ExecuteTime": {
     "end_time": "2024-09-30T07:28:03.503358Z",
     "start_time": "2024-09-30T07:28:03.495857Z"
    }
   },
   "cell_type": "code",
   "source": "strikes_df",
   "id": "4ad9879f6f70866f",
   "outputs": [
    {
     "data": {
      "text/plain": [
       "       id      bug_type  is_hit  bug_speed  strike_x  strike_y        bug_x  \\\n",
       "0    3404     cockroach   False        8.0    1350.0     668.0  1120.628253   \n",
       "1    3406     cockroach   False        8.0    1249.0     471.0  1171.289547   \n",
       "2    3409     cockroach   False        8.0    1044.0     762.0   871.714943   \n",
       "3    3411  green_beetle   False        7.0     771.0     619.0   872.783958   \n",
       "4    3412  green_beetle   False        8.0     750.0     588.0   862.782693   \n",
       "..    ...           ...     ...        ...       ...       ...          ...   \n",
       "106  3512  green_beetle    True        3.0     847.0     714.0   903.704541   \n",
       "107  3514     cockroach    True        3.0     932.0     738.0   970.229660   \n",
       "108  3513     cockroach    True        3.0     929.0     735.0   898.088671   \n",
       "109  3476  green_beetle   False       11.0     896.0     776.0   773.273936   \n",
       "110  3479          worm   False       11.0     816.0     788.0   735.984900   \n",
       "\n",
       "          bug_y  \n",
       "0    615.398184  \n",
       "1    567.703248  \n",
       "2    665.106420  \n",
       "3    665.370216  \n",
       "4    662.736749  \n",
       "..          ...  \n",
       "106  738.742065  \n",
       "107  743.827836  \n",
       "108  737.628942  \n",
       "109  679.894513  \n",
       "110  645.507262  \n",
       "\n",
       "[111 rows x 8 columns]"
      ],
      "text/html": [
       "<div>\n",
       "<style scoped>\n",
       "    .dataframe tbody tr th:only-of-type {\n",
       "        vertical-align: middle;\n",
       "    }\n",
       "\n",
       "    .dataframe tbody tr th {\n",
       "        vertical-align: top;\n",
       "    }\n",
       "\n",
       "    .dataframe thead th {\n",
       "        text-align: right;\n",
       "    }\n",
       "</style>\n",
       "<table border=\"1\" class=\"dataframe\">\n",
       "  <thead>\n",
       "    <tr style=\"text-align: right;\">\n",
       "      <th></th>\n",
       "      <th>id</th>\n",
       "      <th>bug_type</th>\n",
       "      <th>is_hit</th>\n",
       "      <th>bug_speed</th>\n",
       "      <th>strike_x</th>\n",
       "      <th>strike_y</th>\n",
       "      <th>bug_x</th>\n",
       "      <th>bug_y</th>\n",
       "    </tr>\n",
       "  </thead>\n",
       "  <tbody>\n",
       "    <tr>\n",
       "      <th>0</th>\n",
       "      <td>3404</td>\n",
       "      <td>cockroach</td>\n",
       "      <td>False</td>\n",
       "      <td>8.0</td>\n",
       "      <td>1350.0</td>\n",
       "      <td>668.0</td>\n",
       "      <td>1120.628253</td>\n",
       "      <td>615.398184</td>\n",
       "    </tr>\n",
       "    <tr>\n",
       "      <th>1</th>\n",
       "      <td>3406</td>\n",
       "      <td>cockroach</td>\n",
       "      <td>False</td>\n",
       "      <td>8.0</td>\n",
       "      <td>1249.0</td>\n",
       "      <td>471.0</td>\n",
       "      <td>1171.289547</td>\n",
       "      <td>567.703248</td>\n",
       "    </tr>\n",
       "    <tr>\n",
       "      <th>2</th>\n",
       "      <td>3409</td>\n",
       "      <td>cockroach</td>\n",
       "      <td>False</td>\n",
       "      <td>8.0</td>\n",
       "      <td>1044.0</td>\n",
       "      <td>762.0</td>\n",
       "      <td>871.714943</td>\n",
       "      <td>665.106420</td>\n",
       "    </tr>\n",
       "    <tr>\n",
       "      <th>3</th>\n",
       "      <td>3411</td>\n",
       "      <td>green_beetle</td>\n",
       "      <td>False</td>\n",
       "      <td>7.0</td>\n",
       "      <td>771.0</td>\n",
       "      <td>619.0</td>\n",
       "      <td>872.783958</td>\n",
       "      <td>665.370216</td>\n",
       "    </tr>\n",
       "    <tr>\n",
       "      <th>4</th>\n",
       "      <td>3412</td>\n",
       "      <td>green_beetle</td>\n",
       "      <td>False</td>\n",
       "      <td>8.0</td>\n",
       "      <td>750.0</td>\n",
       "      <td>588.0</td>\n",
       "      <td>862.782693</td>\n",
       "      <td>662.736749</td>\n",
       "    </tr>\n",
       "    <tr>\n",
       "      <th>...</th>\n",
       "      <td>...</td>\n",
       "      <td>...</td>\n",
       "      <td>...</td>\n",
       "      <td>...</td>\n",
       "      <td>...</td>\n",
       "      <td>...</td>\n",
       "      <td>...</td>\n",
       "      <td>...</td>\n",
       "    </tr>\n",
       "    <tr>\n",
       "      <th>106</th>\n",
       "      <td>3512</td>\n",
       "      <td>green_beetle</td>\n",
       "      <td>True</td>\n",
       "      <td>3.0</td>\n",
       "      <td>847.0</td>\n",
       "      <td>714.0</td>\n",
       "      <td>903.704541</td>\n",
       "      <td>738.742065</td>\n",
       "    </tr>\n",
       "    <tr>\n",
       "      <th>107</th>\n",
       "      <td>3514</td>\n",
       "      <td>cockroach</td>\n",
       "      <td>True</td>\n",
       "      <td>3.0</td>\n",
       "      <td>932.0</td>\n",
       "      <td>738.0</td>\n",
       "      <td>970.229660</td>\n",
       "      <td>743.827836</td>\n",
       "    </tr>\n",
       "    <tr>\n",
       "      <th>108</th>\n",
       "      <td>3513</td>\n",
       "      <td>cockroach</td>\n",
       "      <td>True</td>\n",
       "      <td>3.0</td>\n",
       "      <td>929.0</td>\n",
       "      <td>735.0</td>\n",
       "      <td>898.088671</td>\n",
       "      <td>737.628942</td>\n",
       "    </tr>\n",
       "    <tr>\n",
       "      <th>109</th>\n",
       "      <td>3476</td>\n",
       "      <td>green_beetle</td>\n",
       "      <td>False</td>\n",
       "      <td>11.0</td>\n",
       "      <td>896.0</td>\n",
       "      <td>776.0</td>\n",
       "      <td>773.273936</td>\n",
       "      <td>679.894513</td>\n",
       "    </tr>\n",
       "    <tr>\n",
       "      <th>110</th>\n",
       "      <td>3479</td>\n",
       "      <td>worm</td>\n",
       "      <td>False</td>\n",
       "      <td>11.0</td>\n",
       "      <td>816.0</td>\n",
       "      <td>788.0</td>\n",
       "      <td>735.984900</td>\n",
       "      <td>645.507262</td>\n",
       "    </tr>\n",
       "  </tbody>\n",
       "</table>\n",
       "<p>111 rows × 8 columns</p>\n",
       "</div>"
      ]
     },
     "execution_count": 42,
     "metadata": {},
     "output_type": "execute_result"
    }
   ],
   "execution_count": 42
  },
  {
   "metadata": {
    "ExecuteTime": {
     "end_time": "2024-09-29T14:58:12.511639Z",
     "start_time": "2024-09-29T14:58:12.210235Z"
    }
   },
   "cell_type": "code",
   "source": "strikes_df.bug_speed.hist()",
   "id": "ab5b0005d6de3a7",
   "outputs": [
    {
     "data": {
      "text/plain": [
       "<AxesSubplot:>"
      ]
     },
     "execution_count": 31,
     "metadata": {},
     "output_type": "execute_result"
    },
    {
     "data": {
      "text/plain": [
       "<Figure size 640x480 with 1 Axes>"
      ],
      "image/png": "[encoded data removed]"
     },
     "metadata": {},
     "output_type": "display_data"
    }
   ],
   "execution_count": 31
  },
  {
   "metadata": {},
   "cell_type": "code",
   "outputs": [],
   "execution_count": null,
   "source": "",
   "id": "97c6a77184aac58e"
  }
 ],
 "metadata": {
  "kernelspec": {
   "display_name": "Python 3",
   "language": "python",
   "name": "python3"
  },
  "language_info": {
   "codemirror_mode": {
    "name": "ipython",
    "version": 2
   },
   "file_extension": ".py",
   "mimetype": "text/x-python",
   "name": "python",
   "nbconvert_exporter": "python",
   "pygments_lexer": "ipython2",
   "version": "2.7.6"
  }
 },
 "nbformat": 4,
 "nbformat_minor": 5
}
