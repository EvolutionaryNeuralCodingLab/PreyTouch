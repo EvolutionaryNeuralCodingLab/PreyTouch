{
 "cells": [
  {
   "cell_type": "markdown",
   "metadata": {},
   "source": [
    "# Test Predictor"
   ]
  },
  {
   "cell_type": "code",
   "execution_count": 7,
   "metadata": {},
   "outputs": [],
   "source": [
    "from Prediction import predictor\n",
    "from Prediction import visualize\n",
    "from Prediction import detector\n",
    "import imp"
   ]
  },
  {
   "cell_type": "code",
   "execution_count": 8,
   "metadata": {},
   "outputs": [
    {
     "name": "stdout",
     "output_type": "stream",
     "text": [
      "Detector initiated successfully\n"
     ]
    }
   ],
   "source": [
    "imp.reload(detector)\n",
    "det = detector.Detector_v4()"
   ]
  },
  {
   "cell_type": "code",
   "execution_count": 3,
   "metadata": {},
   "outputs": [],
   "source": [
    "imp.reload(predictor)\n",
    "traj_predictor = predictor.ConstantVelocityKalmanPredictor(forecast_horizon=60)\n",
    "p = predictor.HitPredictor(traj_predictor, det, history_size=5288)"
   ]
  },
  {
   "cell_type": "code",
   "execution_count": 5,
   "metadata": {},
   "outputs": [
    {
     "name": "stderr",
     "output_type": "stream",
     "text": [
      "100%|██████████| 5080/5080 [02:18<00:00, 36.70it/s]\n"
     ]
    }
   ],
   "source": [
    "imp.reload(visualize)\n",
    "\n",
    "vid_path = \"../Pogona_Pursuit/Arena/experiments/fast_cockroach_line_20200730T131606/trial1/videos/20200730-131607/19506468.avi\"\n",
    "out_path = \"labelled/test_predictor.mp4\"\n",
    "\n",
    "p.reset(history_size=5288)\n",
    "visualize.process_video(vid_path, out_path, [visualize.predictor_visualizer(p)])"
   ]
  },
  {
   "cell_type": "markdown",
   "metadata": {},
   "source": [
    "# Resize speeds"
   ]
  },
  {
   "cell_type": "code",
   "execution_count": null,
   "metadata": {},
   "outputs": [],
   "source": [
    "import cv2 as cv"
   ]
  },
  {
   "cell_type": "code",
   "execution_count": 19,
   "metadata": {},
   "outputs": [],
   "source": [
    "im = cv.imread('./Calib_frames/blk_sqr.jpg',)\n",
    "im = cv.cvtColor(im,cv.COLOR_BGR2GRAY)"
   ]
  },
  {
   "cell_type": "code",
   "execution_count": 24,
   "metadata": {},
   "outputs": [],
   "source": [
    "im416 = cv.resize(im,(416,416))\n",
    "im800_600 = cv.resize(im,(800,600))"
   ]
  },
  {
   "cell_type": "code",
   "execution_count": 25,
   "metadata": {},
   "outputs": [
    {
     "data": {
      "text/plain": [
       "(1080, 1440)"
      ]
     },
     "execution_count": 25,
     "metadata": {},
     "output_type": "execute_result"
    }
   ],
   "source": [
    "im.shape"
   ]
  },
  {
   "cell_type": "code",
   "execution_count": 43,
   "metadata": {},
   "outputs": [],
   "source": [
    "r = np.random.rand(1440,1080)"
   ]
  },
  {
   "cell_type": "code",
   "execution_count": 44,
   "metadata": {},
   "outputs": [
    {
     "name": "stdout",
     "output_type": "stream",
     "text": [
      "214 µs ± 3.47 µs per loop (mean ± std. dev. of 7 runs, 10000 loops each)\n"
     ]
    }
   ],
   "source": [
    "%timeit cv.resize(r,(416,416))"
   ]
  },
  {
   "cell_type": "code",
   "execution_count": 26,
   "metadata": {},
   "outputs": [
    {
     "name": "stdout",
     "output_type": "stream",
     "text": [
      "11.6 ms ± 36.9 µs per loop (mean ± std. dev. of 7 runs, 100 loops each)\n"
     ]
    }
   ],
   "source": [
    "%timeit p.handle_frame(im416)"
   ]
  },
  {
   "cell_type": "code",
   "execution_count": 28,
   "metadata": {},
   "outputs": [
    {
     "name": "stdout",
     "output_type": "stream",
     "text": [
      "11.9 ms ± 43.5 µs per loop (mean ± std. dev. of 7 runs, 100 loops each)\n"
     ]
    }
   ],
   "source": [
    "%timeit p.handle_frame(im800_600)"
   ]
  },
  {
   "cell_type": "code",
   "execution_count": 51,
   "metadata": {},
   "outputs": [
    {
     "name": "stdout",
     "output_type": "stream",
     "text": [
      "12.6 ms ± 128 µs per loop (mean ± std. dev. of 7 runs, 100 loops each)\n"
     ]
    }
   ],
   "source": [
    "%timeit p.handle_frame(im)"
   ]
  },
  {
   "cell_type": "markdown",
   "metadata": {},
   "source": [
    "# Check net object"
   ]
  },
  {
   "cell_type": "code",
   "execution_count": 5,
   "metadata": {},
   "outputs": [],
   "source": [
    "import inspect\n",
    "from Prediction.detector import Detector_v4\n",
    "from pprint import pprint\n",
    "from ctypes import CDLL, RTLD_GLOBAL, c_void_p, c_int\n",
    "import ctypes\n",
    "from Prediction.Yolo4.darknet import IMAGE"
   ]
  },
  {
   "cell_type": "code",
   "execution_count": 3,
   "metadata": {},
   "outputs": [
    {
     "name": "stdout",
     "output_type": "stream",
     "text": [
      "Detector initiated successfully\n"
     ]
    }
   ],
   "source": [
    "lib = CDLL(\"./Prediction/Yolo4/libdarknet.so\", RTLD_GLOBAL)\n",
    "det = Detector_v4()"
   ]
  },
  {
   "cell_type": "code",
   "execution_count": 9,
   "metadata": {},
   "outputs": [
    {
     "data": {
      "text/plain": [
       "ctypes.c_void_p"
      ]
     },
     "execution_count": 9,
     "metadata": {},
     "output_type": "execute_result"
    }
   ],
   "source": [
    "net_p = ctypes.cast(det.net, ctypes.c_void_p)\n",
    "inspect.getmembers(net_p)\n",
    "type(net_p)"
   ]
  },
  {
   "cell_type": "code",
   "execution_count": 10,
   "metadata": {},
   "outputs": [],
   "source": [
    "get_network_layer = lib.get_network_layer\n",
    "get_network_layer.argtypes = [c_void_p, c_int]\n",
    "get_network_layer.restype = c_void_p"
   ]
  },
  {
   "cell_type": "code",
   "execution_count": 12,
   "metadata": {
    "jupyter": {
     "source_hidden": true
    }
   },
   "outputs": [
    {
     "data": {
      "text/plain": [
       "94731766474080"
      ]
     },
     "execution_count": 12,
     "metadata": {},
     "output_type": "execute_result"
    }
   ],
   "source": [
    "layer = get_network_layer(det.net, 0)\n",
    "\n",
    "\"\"\"\n",
    "struct layer {\n",
    "    LAYER_TYPE type;\n",
    "    ACTIVATION activation;\n",
    "    ACTIVATION lstm_activation;\n",
    "    COST_TYPE cost_type;\n",
    "    void(*forward)   (struct layer, struct network_state);\n",
    "    void(*backward)  (struct layer, struct network_state);\n",
    "    void(*update)    (struct layer, int, float, float, float);\n",
    "    void(*forward_gpu)   (struct layer, struct network_state);\n",
    "    void(*backward_gpu)  (struct layer, struct network_state);\n",
    "    void(*update_gpu)    (struct layer, int, float, float, float, float);\n",
    "    layer *share_layer;\n",
    "    int train;\n",
    "    int avgpool;\n",
    "    int batch_normalize;\n",
    "    int shortcut;\n",
    "    int batch;\n",
    "    int dynamic_minibatch;\n",
    "    int forced;\n",
    "    int flipped;\n",
    "    int inputs;\n",
    "    int outputs;\n",
    "    float mean_alpha;\n",
    "    int nweights;\n",
    "    int nbiases;\n",
    "    int extra;\n",
    "    int truths;\n",
    "    int h, w, c;\n",
    "    int out_h, out_w, out_c;\n",
    "    int n;\n",
    "    int max_boxes;\n",
    "    int truth_size;\n",
    "    int groups;\n",
    "    int group_id;\n",
    "    int size;\n",
    "    int side;\n",
    "    int stride;\n",
    "    int stride_x;\n",
    "    int stride_y;\n",
    "    int dilation;\n",
    "    int antialiasing;\n",
    "    int maxpool_depth;\n",
    "    int maxpool_zero_nonmax;\n",
    "    int out_channels;\n",
    "    float reverse;\n",
    "    int coordconv;\n",
    "    int flatten;\n",
    "    int spatial;\n",
    "    int pad;\n",
    "    int sqrt;\n",
    "    int flip;\n",
    "    int index;\n",
    "    int scale_wh;\n",
    "    int binary;\n",
    "    int xnor;\n",
    "    int peephole;\n",
    "    int use_bin_output;\n",
    "    int keep_delta_gpu;\n",
    "    int optimized_memory;\n",
    "    int steps;\n",
    "    int history_size;\n",
    "    int bottleneck;\n",
    "    float time_normalizer;\n",
    "    int state_constrain;\n",
    "    int hidden;\n",
    "    int truth;\n",
    "    float smooth;\n",
    "    float dot;\n",
    "    int deform;\n",
    "    int grad_centr;\n",
    "    int sway;\n",
    "    int rotate;\n",
    "    int stretch;\n",
    "    int stretch_sway;\n",
    "    float angle;\n",
    "    float jitter;\n",
    "    float resize;\n",
    "    float saturation;\n",
    "    float exposure;\n",
    "    float shift;\n",
    "    float ratio;\n",
    "    float learning_rate_scale;\n",
    "    float clip;\n",
    "    int focal_loss;\n",
    "    float *classes_multipliers;\n",
    "    float label_smooth_eps;\n",
    "    int noloss;\n",
    "    int softmax;\n",
    "    int classes;\n",
    "    int detection;\n",
    "    int embedding_layer_id;\n",
    "    float *embedding_output;\n",
    "    int embedding_size;\n",
    "    float sim_thresh;\n",
    "    int track_history_size;\n",
    "    int dets_for_track;\n",
    "    int dets_for_show;\n",
    "    float track_ciou_norm;\n",
    "    int coords;\n",
    "    int background;\n",
    "    int rescore;\n",
    "    int objectness;\n",
    "    int does_cost;\n",
    "    int joint;\n",
    "    int noadjust;\n",
    "    int reorg;\n",
    "    int log;\n",
    "    int tanh;\n",
    "    int *mask;\n",
    "    int total;\n",
    "    float bflops;\n",
    "\n",
    "    int adam;\n",
    "    float B1;\n",
    "    float B2;\n",
    "    float eps;\n",
    "\n",
    "    int t;\n",
    "\n",
    "    float alpha;\n",
    "    float beta;\n",
    "    float kappa;\n",
    "\n",
    "    float coord_scale;\n",
    "    float object_scale;\n",
    "    float noobject_scale;\n",
    "    float mask_scale;\n",
    "    float class_scale;\n",
    "    int bias_match;\n",
    "    float random;\n",
    "    float ignore_thresh;\n",
    "    float truth_thresh;\n",
    "    float iou_thresh;\n",
    "    float thresh;\n",
    "    float focus;\n",
    "    int classfix;\n",
    "    int absolute;\n",
    "    int assisted_excitation;\n",
    "\n",
    "    int onlyforward;\n",
    "    int stopbackward;\n",
    "    int train_only_bn;\n",
    "    int dont_update;\n",
    "    int burnin_update;\n",
    "    int dontload;\n",
    "    int dontsave;\n",
    "    int dontloadscales;\n",
    "    int numload;\n",
    "\n",
    "    float temperature;\n",
    "    float probability;\n",
    "    float dropblock_size_rel;\n",
    "    int dropblock_size_abs;\n",
    "    int dropblock;\n",
    "    float scale;\n",
    "\n",
    "    int receptive_w;\n",
    "    int receptive_h;\n",
    "    int receptive_w_scale;\n",
    "    int receptive_h_scale;\n",
    "\n",
    "    char  * cweights;\n",
    "    int   * indexes;\n",
    "    int   * input_layers;\n",
    "    int   * input_sizes;\n",
    "    float **layers_output;\n",
    "    float **layers_delta;\n",
    "    WEIGHTS_TYPE_T weights_type;\n",
    "    WEIGHTS_NORMALIZATION_T weights_normalization;\n",
    "    int   * map;\n",
    "    int   * counts;\n",
    "    float ** sums;\n",
    "    float * rand;\n",
    "    float * cost;\n",
    "    int *labels;\n",
    "    float *cos_sim;\n",
    "    float *exp_cos_sim;\n",
    "    float *p_constrastive;\n",
    "    contrastive_params *contrast_p_gpu;\n",
    "    float * state;\n",
    "    float * prev_state;\n",
    "    float * forgot_state;\n",
    "    float * forgot_delta;\n",
    "    float * state_delta;\n",
    "    float * combine_cpu;\n",
    "    float * combine_delta_cpu;\n",
    "\n",
    "    float *concat;\n",
    "    float *concat_delta;\n",
    "\n",
    "    float *binary_weights;\n",
    "\n",
    "    float *biases;\n",
    "    float *bias_updates;\n",
    "\n",
    "    float *scales;\n",
    "    float *scale_updates;\n",
    "\n",
    "    float *weights;\n",
    "    float *weight_updates;\n",
    "\n",
    "    float scale_x_y;\n",
    "    int objectness_smooth;\n",
    "    float max_delta;\n",
    "    float uc_normalizer;\n",
    "    float iou_normalizer;\n",
    "    float cls_normalizer;\n",
    "    IOU_LOSS iou_loss;\n",
    "    IOU_LOSS iou_thresh_kind;\n",
    "    NMS_KIND nms_kind;\n",
    "    float beta_nms;\n",
    "    YOLO_POINT yolo_point;\n",
    "\n",
    "    char *align_bit_weights_gpu;\n",
    "    float *mean_arr_gpu;\n",
    "    float *align_workspace_gpu;\n",
    "    float *transposed_align_workspace_gpu;\n",
    "    int align_workspace_size;\n",
    "\n",
    "    char *align_bit_weights;\n",
    "    float *mean_arr;\n",
    "    int align_bit_weights_size;\n",
    "    int lda_align;\n",
    "    int new_lda;\n",
    "    int bit_align;\n",
    "\n",
    "    float *col_image;\n",
    "    float * delta;\n",
    "    float * output;\n",
    "    float * activation_input;\n",
    "    int delta_pinned;\n",
    "    int output_pinned;\n",
    "    float * loss;\n",
    "    float * squared;\n",
    "    float * norms;\n",
    "\n",
    "    float * spatial_mean;\n",
    "    float * mean;\n",
    "    float * variance;\n",
    "\n",
    "    float * mean_delta;\n",
    "    float * variance_delta;\n",
    "\n",
    "    float * rolling_mean;\n",
    "    float * rolling_variance;\n",
    "\n",
    "    float * x;\n",
    "    float * x_norm;\n",
    "\n",
    "    float * m;\n",
    "    float * v;\n",
    "\n",
    "    float * bias_m;\n",
    "    float * bias_v;\n",
    "    float * scale_m;\n",
    "    float * scale_v;\n",
    "\n",
    "\n",
    "    float *z_cpu;\n",
    "    float *r_cpu;\n",
    "    float *h_cpu;\n",
    "    float *stored_h_cpu;\n",
    "    float * prev_state_cpu;\n",
    "\n",
    "    float *temp_cpu;\n",
    "    float *temp2_cpu;\n",
    "    float *temp3_cpu;\n",
    "\n",
    "    float *dh_cpu;\n",
    "    float *hh_cpu;\n",
    "    float *prev_cell_cpu;\n",
    "    float *cell_cpu;\n",
    "    float *f_cpu;\n",
    "    float *i_cpu;\n",
    "    float *g_cpu;\n",
    "    float *o_cpu;\n",
    "    float *c_cpu;\n",
    "    float *stored_c_cpu;\n",
    "    float *dc_cpu;\n",
    "\n",
    "    float *binary_input;\n",
    "    uint32_t *bin_re_packed_input;\n",
    "    char *t_bit_input;\n",
    "\n",
    "    struct layer *input_layer;\n",
    "    struct layer *self_layer;\n",
    "    struct layer *output_layer;\n",
    "\n",
    "    struct layer *reset_layer;\n",
    "    struct layer *update_layer;\n",
    "    struct layer *state_layer;\n",
    "\n",
    "    struct layer *input_gate_layer;\n",
    "    struct layer *state_gate_layer;\n",
    "    struct layer *input_save_layer;\n",
    "    struct layer *state_save_layer;\n",
    "    struct layer *input_state_layer;\n",
    "    struct layer *state_state_layer;\n",
    "\n",
    "    struct layer *input_z_layer;\n",
    "    struct layer *state_z_layer;\n",
    "\n",
    "    struct layer *input_r_layer;\n",
    "    struct layer *state_r_layer;\n",
    "\n",
    "    struct layer *input_h_layer;\n",
    "    struct layer *state_h_layer;\n",
    "\n",
    "    struct layer *wz;\n",
    "    struct layer *uz;\n",
    "    struct layer *wr;\n",
    "    struct layer *ur;\n",
    "    struct layer *wh;\n",
    "    struct layer *uh;\n",
    "    struct layer *uo;\n",
    "    struct layer *wo;\n",
    "    struct layer *vo;\n",
    "    struct layer *uf;\n",
    "    struct layer *wf;\n",
    "    struct layer *vf;\n",
    "    struct layer *ui;\n",
    "    struct layer *wi;\n",
    "    struct layer *vi;\n",
    "    struct layer *ug;\n",
    "    struct layer *wg;\n",
    "\n",
    "    tree *softmax_tree;\n",
    "\n",
    "    size_t workspace_size;\n",
    "\n",
    "//#ifdef GPU\n",
    "    int *indexes_gpu;\n",
    "\n",
    "    float *z_gpu;\n",
    "    float *r_gpu;\n",
    "    float *h_gpu;\n",
    "    float *stored_h_gpu;\n",
    "    float *bottelneck_hi_gpu;\n",
    "    float *bottelneck_delta_gpu;\n",
    "\n",
    "    float *temp_gpu;\n",
    "    float *temp2_gpu;\n",
    "    float *temp3_gpu;\n",
    "\n",
    "    float *dh_gpu;\n",
    "    float *hh_gpu;\n",
    "    float *prev_cell_gpu;\n",
    "    float *prev_state_gpu;\n",
    "    float *last_prev_state_gpu;\n",
    "    float *last_prev_cell_gpu;\n",
    "    float *cell_gpu;\n",
    "    float *f_gpu;\n",
    "    float *i_gpu;\n",
    "    float *g_gpu;\n",
    "    float *o_gpu;\n",
    "    float *c_gpu;\n",
    "    float *stored_c_gpu;\n",
    "    float *dc_gpu;\n",
    "\n",
    "    // adam\n",
    "    float *m_gpu;\n",
    "    float *v_gpu;\n",
    "    float *bias_m_gpu;\n",
    "    float *scale_m_gpu;\n",
    "    float *bias_v_gpu;\n",
    "    float *scale_v_gpu;\n",
    "\n",
    "    float * combine_gpu;\n",
    "    float * combine_delta_gpu;\n",
    "\n",
    "    float * forgot_state_gpu;\n",
    "    float * forgot_delta_gpu;\n",
    "    float * state_gpu;\n",
    "    float * state_delta_gpu;\n",
    "    float * gate_gpu;\n",
    "    float * gate_delta_gpu;\n",
    "    float * save_gpu;\n",
    "    float * save_delta_gpu;\n",
    "    float * concat_gpu;\n",
    "    float * concat_delta_gpu;\n",
    "\n",
    "    float *binary_input_gpu;\n",
    "    float *binary_weights_gpu;\n",
    "    float *bin_conv_shortcut_in_gpu;\n",
    "    float *bin_conv_shortcut_out_gpu;\n",
    "\n",
    "    float * mean_gpu;\n",
    "    float * variance_gpu;\n",
    "    float * m_cbn_avg_gpu;\n",
    "    float * v_cbn_avg_gpu;\n",
    "\n",
    "    float * rolling_mean_gpu;\n",
    "    float * rolling_variance_gpu;\n",
    "\n",
    "    float * variance_delta_gpu;\n",
    "    float * mean_delta_gpu;\n",
    "\n",
    "    float * col_image_gpu;\n",
    "\n",
    "    float * x_gpu;\n",
    "    float * x_norm_gpu;\n",
    "    float * weights_gpu;\n",
    "    float * weight_updates_gpu;\n",
    "    float * weight_deform_gpu;\n",
    "    float * weight_change_gpu;\n",
    "\n",
    "    float * weights_gpu16;\n",
    "    float * weight_updates_gpu16;\n",
    "\n",
    "    float * biases_gpu;\n",
    "    float * bias_updates_gpu;\n",
    "    float * bias_change_gpu;\n",
    "\n",
    "    float * scales_gpu;\n",
    "    float * scale_updates_gpu;\n",
    "    float * scale_change_gpu;\n",
    "\n",
    "    float * input_antialiasing_gpu;\n",
    "    float * output_gpu;\n",
    "    float * output_avg_gpu;\n",
    "    float * activation_input_gpu;\n",
    "    float * loss_gpu;\n",
    "    float * delta_gpu;\n",
    "    float * cos_sim_gpu;\n",
    "    float * rand_gpu;\n",
    "    float * drop_blocks_scale;\n",
    "    float * drop_blocks_scale_gpu;\n",
    "    float * squared_gpu;\n",
    "    float * norms_gpu;\n",
    "\n",
    "    float *gt_gpu;\n",
    "    float *a_avg_gpu;\n",
    "\n",
    "    int *input_sizes_gpu;\n",
    "    float **layers_output_gpu;\n",
    "    float **layers_delta_gpu;\n",
    "#ifdef CUDNN\n",
    "    cudnnTensorDescriptor_t srcTensorDesc, dstTensorDesc;\n",
    "    cudnnTensorDescriptor_t srcTensorDesc16, dstTensorDesc16;\n",
    "    cudnnTensorDescriptor_t dsrcTensorDesc, ddstTensorDesc;\n",
    "    cudnnTensorDescriptor_t dsrcTensorDesc16, ddstTensorDesc16;\n",
    "    cudnnTensorDescriptor_t normTensorDesc, normDstTensorDesc, normDstTensorDescF16;\n",
    "    cudnnFilterDescriptor_t weightDesc, weightDesc16;\n",
    "    cudnnFilterDescriptor_t dweightDesc, dweightDesc16;\n",
    "    cudnnConvolutionDescriptor_t convDesc;\n",
    "    cudnnConvolutionFwdAlgo_t fw_algo, fw_algo16;\n",
    "    cudnnConvolutionBwdDataAlgo_t bd_algo, bd_algo16;\n",
    "    cudnnConvolutionBwdFilterAlgo_t bf_algo, bf_algo16;\n",
    "    cudnnPoolingDescriptor_t poolingDesc;\n",
    "#else   // CUDNN\n",
    "    void* srcTensorDesc, *dstTensorDesc;\n",
    "    void* srcTensorDesc16, *dstTensorDesc16;\n",
    "    void* dsrcTensorDesc, *ddstTensorDesc;\n",
    "    void* dsrcTensorDesc16, *ddstTensorDesc16;\n",
    "    void* normTensorDesc, *normDstTensorDesc, *normDstTensorDescF16;\n",
    "    void* weightDesc, *weightDesc16;\n",
    "    void* dweightDesc, *dweightDesc16;\n",
    "    void* convDesc;\n",
    "    UNUSED_ENUM_TYPE fw_algo, fw_algo16;\n",
    "    UNUSED_ENUM_TYPE bd_algo, bd_algo16;\n",
    "    UNUSED_ENUM_TYPE bf_algo, bf_algo16;\n",
    "    void* poolingDesc;\n",
    "#endif  // CUDNN\n",
    "//#endif  // GPU\n",
    "};\n",
    "\"\"\""
   ]
  },
  {
   "cell_type": "code",
   "execution_count": null,
   "metadata": {},
   "outputs": [],
   "source": [
    "class DarknetLayer(ctypes.Structure):\n",
    "    _fields_ = []"
   ]
  },
  {
   "cell_type": "markdown",
   "metadata": {},
   "source": [
    "# Data for Pytorch"
   ]
  },
  {
   "cell_type": "code",
   "execution_count": 1,
   "metadata": {},
   "outputs": [],
   "source": [
    "import torch\n",
    "from Prediction import dataset\n",
    "import numpy as np\n",
    "import pandas as pd\n",
    "import pickle\n",
    "import imp"
   ]
  },
  {
   "cell_type": "code",
   "execution_count": 2,
   "metadata": {},
   "outputs": [],
   "source": [
    "from Prediction.LSTM_predict import LSTMdense, create_dataloader, TrajectoriesData, train_RED\n"
   ]
  },
  {
   "cell_type": "code",
   "execution_count": 3,
   "metadata": {},
   "outputs": [
    {
     "data": {
      "text/plain": [
       "<module 'Prediction.dataset' from '/app/Pogona_realtime/Prediction/dataset.py'>"
      ]
     },
     "execution_count": 3,
     "metadata": {},
     "output_type": "execute_result"
    }
   ],
   "source": [
    "imp.reload(dataset)"
   ]
  },
  {
   "cell_type": "code",
   "execution_count": 4,
   "metadata": {},
   "outputs": [],
   "source": [
    "#imp.reload(Prediction.LSTM_predict)"
   ]
  },
  {
   "cell_type": "code",
   "execution_count": 5,
   "metadata": {},
   "outputs": [],
   "source": [
    "with open('Data/all_exper.p','rb') as f:\n",
    "    d = pickle.load(f)"
   ]
  },
  {
   "cell_type": "code",
   "execution_count": 6,
   "metadata": {},
   "outputs": [],
   "source": [
    "all_df = dataset.get_unified_df(d,mult=True)"
   ]
  },
  {
   "cell_type": "code",
   "execution_count": 7,
   "metadata": {},
   "outputs": [],
   "source": [
    "inp_labels = ['centroid_x', 'centroid_y']\n",
    "out_labels = ['centroid_x', 'centroid_y']\n",
    "inp_seq = 16\n",
    "out_seq = 24"
   ]
  },
  {
   "cell_type": "code",
   "execution_count": 8,
   "metadata": {},
   "outputs": [],
   "source": [
    "tensor_list_X, tensor_list_Y = [], []"
   ]
  },
  {
   "cell_type": "code",
   "execution_count": 9,
   "metadata": {},
   "outputs": [
    {
     "name": "stderr",
     "output_type": "stream",
     "text": [
      "/home/user/miniconda/envs/py36/lib/python3.6/site-packages/ipykernel_launcher.py:2: PerformanceWarning: indexing past lexsort depth may impact performance.\n",
      "  \n"
     ]
    }
   ],
   "source": [
    "for trial in all_df.index.unique():\n",
    "    X, Y = dataset.trial_to_samples(all_df.loc[trial], input_labels = inp_labels,\n",
    "                                   output_labels=out_labels, input_seq_size=inp_seq,\n",
    "                                   output_seq_size=out_seq)\n",
    "    tensor_list_X.append(X)\n",
    "    tensor_list_Y.append(Y)"
   ]
  },
  {
   "cell_type": "code",
   "execution_count": 10,
   "metadata": {},
   "outputs": [],
   "source": [
    "all_X = torch.cat(tensor_list_X)\n",
    "all_Y = torch.cat(tensor_list_Y)"
   ]
  },
  {
   "cell_type": "code",
   "execution_count": 11,
   "metadata": {},
   "outputs": [],
   "source": [
    "train_dataloader, test_dataloader = create_dataloader(all_X, all_Y)"
   ]
  },
  {
   "cell_type": "code",
   "execution_count": 12,
   "metadata": {},
   "outputs": [],
   "source": [
    "net = LSTMdense(2,2,out_seq)"
   ]
  },
  {
   "cell_type": "code",
   "execution_count": null,
   "metadata": {},
   "outputs": [
    {
     "name": "stdout",
     "output_type": "stream",
     "text": [
      "epoch: 0, loss: 189652479.188, epoch time: 2.149\n",
      "++++++++++++++++\n",
      "Eval epoch: 0, Test set mean ADE 914.862\n",
      "epoch: 20, loss: 5038261.917, epoch time: 2.155\n",
      "epoch: 40, loss: 3848388.756, epoch time: 2.147\n",
      "epoch: 60, loss: 2965263.718, epoch time: 2.191\n",
      "epoch: 80, loss: 2274006.150, epoch time: 2.174\n",
      "epoch: 100, loss: 1728583.420, epoch time: 2.190\n",
      "++++++++++++++++\n",
      "Eval epoch: 100, Test set mean ADE 55.437\n",
      "epoch: 120, loss: 1316163.949, epoch time: 2.197\n",
      "epoch: 140, loss: 1008241.653, epoch time: 2.165\n",
      "epoch: 160, loss: 764674.887, epoch time: 2.155\n",
      "epoch: 180, loss: 588913.631, epoch time: 2.196\n",
      "epoch: 200, loss: 456560.542, epoch time: 2.147\n",
      "++++++++++++++++\n",
      "Eval epoch: 200, Test set mean ADE 24.189\n",
      "epoch: 220, loss: 376047.409, epoch time: 2.276\n",
      "epoch: 240, loss: 292800.962, epoch time: 2.270\n",
      "epoch: 260, loss: 235250.983, epoch time: 2.281\n",
      "epoch: 280, loss: 191436.057, epoch time: 2.259\n",
      "epoch: 300, loss: 157787.473, epoch time: 2.267\n",
      "++++++++++++++++\n",
      "Eval epoch: 300, Test set mean ADE 13.761\n",
      "epoch: 320, loss: 144823.376, epoch time: 2.170\n",
      "epoch: 340, loss: 119775.543, epoch time: 2.191\n",
      "epoch: 360, loss: 95275.761, epoch time: 2.146\n",
      "epoch: 380, loss: 81250.498, epoch time: 2.151\n",
      "epoch: 400, loss: 70520.097, epoch time: 2.180\n",
      "++++++++++++++++\n",
      "Eval epoch: 400, Test set mean ADE 9.021\n",
      "epoch: 420, loss: 62271.877, epoch time: 2.254\n",
      "epoch: 440, loss: 55423.119, epoch time: 2.275\n",
      "epoch: 460, loss: 50004.184, epoch time: 2.256\n",
      "epoch: 480, loss: 45646.735, epoch time: 2.308\n",
      "epoch: 500, loss: 42099.052, epoch time: 2.298\n",
      "++++++++++++++++\n",
      "Eval epoch: 500, Test set mean ADE 7.109\n",
      "epoch: 520, loss: 39115.515, epoch time: 2.158\n",
      "epoch: 540, loss: 36500.254, epoch time: 2.199\n"
     ]
    }
   ],
   "source": [
    "train_RED(net, train_dataloader, test_dataloader, 2000, 'Prediction/RED_models/', eval_freq=100)"
   ]
  }
 ],
 "metadata": {
  "kernelspec": {
   "display_name": "Python 3",
   "language": "python",
   "name": "python3"
  },
  "language_info": {
   "codemirror_mode": {
    "name": "ipython",
    "version": 3
   },
   "file_extension": ".py",
   "mimetype": "text/x-python",
   "name": "python",
   "nbconvert_exporter": "python",
   "pygments_lexer": "ipython3",
   "version": "3.6.5"
  }
 },
 "nbformat": 4,
 "nbformat_minor": 4
}
